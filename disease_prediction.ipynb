{
 "cells": [
  {
   "cell_type": "markdown",
   "metadata": {},
   "source": [
    "# LLM Disease Prediction\n",
    "This project aims to use a combination of different LLM methods from Gemini API & Ollama (object detection, classification, & text generation) to create a disease prediction pipeline, which first identifies diseased leaves, then identifies the plant and disease and finally provides information on how to deal with the disease and advice using trusted agronomy documents as a RAG.\n",
    "\n",
    "## 1 - Library Imports\n",
    "The first step is to import the required libraries for this project."
   ]
  },
  {
   "cell_type": "code",
   "execution_count": 1,
   "metadata": {},
   "outputs": [],
   "source": [
    "import kagglehub\n",
    "import tensorflow_datasets as tfds\n",
    "import os\n",
    "import shutil\n",
    "from google import genai\n",
    "from google.genai import types\n",
    "import json\n",
    "from PIL import Image, ImageDraw\n",
    "import ollama\n",
    "import re\n",
    "import numpy as np\n",
    "from dotenv import load_dotenv\n",
    "import pandas as pd\n",
    "import random\n",
    "from tabulate import tabulate\n",
    "import matplotlib.pyplot as plt"
   ]
  },
  {
   "cell_type": "markdown",
   "metadata": {},
   "source": [
    "## 2 - The Dataset\n",
    "For the dataset, I used a combination of 3 different datasets. The first is the kaggle dataset for the training data."
   ]
  },
  {
   "cell_type": "code",
   "execution_count": 4,
   "metadata": {},
   "outputs": [
    {
     "name": "stdout",
     "output_type": "stream",
     "text": [
      "Downloading from https://www.kaggle.com/api/v1/datasets/download/vipoooool/new-plant-diseases-dataset?dataset_version_number=2...\n"
     ]
    },
    {
     "name": "stderr",
     "output_type": "stream",
     "text": [
      "  1%|          | 33.0M/2.70G [00:04<05:42, 8.36MB/s]\n"
     ]
    },
    {
     "ename": "KeyboardInterrupt",
     "evalue": "",
     "output_type": "error",
     "traceback": [
      "\u001b[0;31m---------------------------------------------------------------------------\u001b[0m",
      "\u001b[0;31mKeyboardInterrupt\u001b[0m                         Traceback (most recent call last)",
      "Cell \u001b[0;32mIn[4], line 1\u001b[0m\n\u001b[0;32m----> 1\u001b[0m path \u001b[38;5;241m=\u001b[39m \u001b[43mkagglehub\u001b[49m\u001b[38;5;241;43m.\u001b[39;49m\u001b[43mdataset_download\u001b[49m\u001b[43m(\u001b[49m\u001b[38;5;124;43m\"\u001b[39;49m\u001b[38;5;124;43mvipoooool/new-plant-diseases-dataset\u001b[39;49m\u001b[38;5;124;43m\"\u001b[39;49m\u001b[43m)\u001b[49m\n\u001b[1;32m      2\u001b[0m \u001b[38;5;28mprint\u001b[39m(\u001b[38;5;124m\"\u001b[39m\u001b[38;5;124mPath to dataset files:\u001b[39m\u001b[38;5;124m\"\u001b[39m, path)\n",
      "File \u001b[0;32m/Library/Frameworks/Python.framework/Versions/3.12/lib/python3.12/site-packages/kagglehub/datasets.py:43\u001b[0m, in \u001b[0;36mdataset_download\u001b[0;34m(handle, path, force_download)\u001b[0m\n\u001b[1;32m     41\u001b[0m h \u001b[38;5;241m=\u001b[39m parse_dataset_handle(handle)\n\u001b[1;32m     42\u001b[0m logger\u001b[38;5;241m.\u001b[39minfo(\u001b[38;5;124mf\u001b[39m\u001b[38;5;124m\"\u001b[39m\u001b[38;5;124mDownloading Dataset: \u001b[39m\u001b[38;5;132;01m{\u001b[39;00mh\u001b[38;5;241m.\u001b[39mto_url()\u001b[38;5;132;01m}\u001b[39;00m\u001b[38;5;124m ...\u001b[39m\u001b[38;5;124m\"\u001b[39m, extra\u001b[38;5;241m=\u001b[39m{\u001b[38;5;241m*\u001b[39m\u001b[38;5;241m*\u001b[39mEXTRA_CONSOLE_BLOCK})\n\u001b[0;32m---> 43\u001b[0m path, _ \u001b[38;5;241m=\u001b[39m \u001b[43mregistry\u001b[49m\u001b[38;5;241;43m.\u001b[39;49m\u001b[43mdataset_resolver\u001b[49m\u001b[43m(\u001b[49m\u001b[43mh\u001b[49m\u001b[43m,\u001b[49m\u001b[43m \u001b[49m\u001b[43mpath\u001b[49m\u001b[43m,\u001b[49m\u001b[43m \u001b[49m\u001b[43mforce_download\u001b[49m\u001b[38;5;241;43m=\u001b[39;49m\u001b[43mforce_download\u001b[49m\u001b[43m)\u001b[49m\n\u001b[1;32m     44\u001b[0m \u001b[38;5;28;01mreturn\u001b[39;00m path\n",
      "File \u001b[0;32m/Library/Frameworks/Python.framework/Versions/3.12/lib/python3.12/site-packages/kagglehub/registry.py:28\u001b[0m, in \u001b[0;36mMultiImplRegistry.__call__\u001b[0;34m(self, *args, **kwargs)\u001b[0m\n\u001b[1;32m     26\u001b[0m \u001b[38;5;28;01mfor\u001b[39;00m impl \u001b[38;5;129;01min\u001b[39;00m \u001b[38;5;28mreversed\u001b[39m(\u001b[38;5;28mself\u001b[39m\u001b[38;5;241m.\u001b[39m_impls):\n\u001b[1;32m     27\u001b[0m     \u001b[38;5;28;01mif\u001b[39;00m impl\u001b[38;5;241m.\u001b[39mis_supported(\u001b[38;5;241m*\u001b[39margs, \u001b[38;5;241m*\u001b[39m\u001b[38;5;241m*\u001b[39mkwargs):\n\u001b[0;32m---> 28\u001b[0m         \u001b[38;5;28;01mreturn\u001b[39;00m \u001b[43mimpl\u001b[49m\u001b[43m(\u001b[49m\u001b[38;5;241;43m*\u001b[39;49m\u001b[43margs\u001b[49m\u001b[43m,\u001b[49m\u001b[43m \u001b[49m\u001b[38;5;241;43m*\u001b[39;49m\u001b[38;5;241;43m*\u001b[39;49m\u001b[43mkwargs\u001b[49m\u001b[43m)\u001b[49m\n\u001b[1;32m     29\u001b[0m     \u001b[38;5;28;01melse\u001b[39;00m:\n\u001b[1;32m     30\u001b[0m         fails\u001b[38;5;241m.\u001b[39mappend(\u001b[38;5;28mtype\u001b[39m(impl)\u001b[38;5;241m.\u001b[39m\u001b[38;5;18m__name__\u001b[39m)\n",
      "File \u001b[0;32m/Library/Frameworks/Python.framework/Versions/3.12/lib/python3.12/site-packages/kagglehub/resolver.py:29\u001b[0m, in \u001b[0;36mResolver.__call__\u001b[0;34m(self, handle, path, force_download)\u001b[0m\n\u001b[1;32m     15\u001b[0m \u001b[38;5;28;01mdef\u001b[39;00m \u001b[38;5;21m__call__\u001b[39m(\n\u001b[1;32m     16\u001b[0m     \u001b[38;5;28mself\u001b[39m, handle: T, path: Optional[\u001b[38;5;28mstr\u001b[39m] \u001b[38;5;241m=\u001b[39m \u001b[38;5;28;01mNone\u001b[39;00m, \u001b[38;5;241m*\u001b[39m, force_download: Optional[\u001b[38;5;28mbool\u001b[39m] \u001b[38;5;241m=\u001b[39m \u001b[38;5;28;01mFalse\u001b[39;00m\n\u001b[1;32m     17\u001b[0m ) \u001b[38;5;241m-\u001b[39m\u001b[38;5;241m>\u001b[39m \u001b[38;5;28mtuple\u001b[39m[\u001b[38;5;28mstr\u001b[39m, Optional[\u001b[38;5;28mint\u001b[39m]]:\n\u001b[1;32m     18\u001b[0m \u001b[38;5;250m    \u001b[39m\u001b[38;5;124;03m\"\"\"Resolves a handle into a path with the requested file(s) and the resource's version number.\u001b[39;00m\n\u001b[1;32m     19\u001b[0m \n\u001b[1;32m     20\u001b[0m \u001b[38;5;124;03m    Args:\u001b[39;00m\n\u001b[0;32m   (...)\u001b[0m\n\u001b[1;32m     27\u001b[0m \u001b[38;5;124;03m        Some cases where version number might be missing: Competition datasource, API-based models.\u001b[39;00m\n\u001b[1;32m     28\u001b[0m \u001b[38;5;124;03m    \"\"\"\u001b[39;00m\n\u001b[0;32m---> 29\u001b[0m     path, version \u001b[38;5;241m=\u001b[39m \u001b[38;5;28;43mself\u001b[39;49m\u001b[38;5;241;43m.\u001b[39;49m\u001b[43m_resolve\u001b[49m\u001b[43m(\u001b[49m\u001b[43mhandle\u001b[49m\u001b[43m,\u001b[49m\u001b[43m \u001b[49m\u001b[43mpath\u001b[49m\u001b[43m,\u001b[49m\u001b[43m \u001b[49m\u001b[43mforce_download\u001b[49m\u001b[38;5;241;43m=\u001b[39;49m\u001b[43mforce_download\u001b[49m\u001b[43m)\u001b[49m\n\u001b[1;32m     31\u001b[0m     \u001b[38;5;66;03m# Note handles are immutable, so _resolve() could not have altered our reference\u001b[39;00m\n\u001b[1;32m     32\u001b[0m     register_datasource_access(handle, version)\n",
      "File \u001b[0;32m/Library/Frameworks/Python.framework/Versions/3.12/lib/python3.12/site-packages/kagglehub/http_resolver.py:130\u001b[0m, in \u001b[0;36mDatasetHttpResolver._resolve\u001b[0;34m(self, h, path, force_download)\u001b[0m\n\u001b[1;32m    127\u001b[0m os\u001b[38;5;241m.\u001b[39mmakedirs(os\u001b[38;5;241m.\u001b[39mpath\u001b[38;5;241m.\u001b[39mdirname(archive_path), exist_ok\u001b[38;5;241m=\u001b[39m\u001b[38;5;28;01mTrue\u001b[39;00m)\n\u001b[1;32m    129\u001b[0m \u001b[38;5;66;03m# First, we download the archive.\u001b[39;00m\n\u001b[0;32m--> 130\u001b[0m \u001b[43mapi_client\u001b[49m\u001b[38;5;241;43m.\u001b[39;49m\u001b[43mdownload_file\u001b[49m\u001b[43m(\u001b[49m\u001b[43murl_path\u001b[49m\u001b[43m,\u001b[49m\u001b[43m \u001b[49m\u001b[43marchive_path\u001b[49m\u001b[43m,\u001b[49m\u001b[43m \u001b[49m\u001b[43mh\u001b[49m\u001b[43m)\u001b[49m\n\u001b[1;32m    132\u001b[0m _extract_archive(archive_path, out_path)\n\u001b[1;32m    134\u001b[0m \u001b[38;5;66;03m# Delete the archive\u001b[39;00m\n",
      "File \u001b[0;32m/Library/Frameworks/Python.framework/Versions/3.12/lib/python3.12/site-packages/kagglehub/clients.py:217\u001b[0m, in \u001b[0;36mKaggleApiV1Client.download_file\u001b[0;34m(self, path, out_file, resource_handle, cached_path, extract_auto_compressed_file)\u001b[0m\n\u001b[1;32m    215\u001b[0m \u001b[38;5;28;01melse\u001b[39;00m:\n\u001b[1;32m    216\u001b[0m     logger\u001b[38;5;241m.\u001b[39minfo(\u001b[38;5;124mf\u001b[39m\u001b[38;5;124m\"\u001b[39m\u001b[38;5;124mDownloading from \u001b[39m\u001b[38;5;132;01m{\u001b[39;00murl\u001b[38;5;132;01m}\u001b[39;00m\u001b[38;5;124m...\u001b[39m\u001b[38;5;124m\"\u001b[39m)\n\u001b[0;32m--> 217\u001b[0m     \u001b[43m_download_file\u001b[49m\u001b[43m(\u001b[49m\u001b[43mresponse\u001b[49m\u001b[43m,\u001b[49m\u001b[43m \u001b[49m\u001b[43mout_file\u001b[49m\u001b[43m,\u001b[49m\u001b[43m \u001b[49m\u001b[43msize_read\u001b[49m\u001b[43m,\u001b[49m\u001b[43m \u001b[49m\u001b[43mtotal_size\u001b[49m\u001b[43m,\u001b[49m\u001b[43m \u001b[49m\u001b[43mhash_object\u001b[49m\u001b[43m)\u001b[49m\n\u001b[1;32m    219\u001b[0m \u001b[38;5;28;01mif\u001b[39;00m hash_object:\n\u001b[1;32m    220\u001b[0m     actual_md5_hash \u001b[38;5;241m=\u001b[39m to_b64_digest(hash_object)\n",
      "File \u001b[0;32m/Library/Frameworks/Python.framework/Versions/3.12/lib/python3.12/site-packages/kagglehub/clients.py:276\u001b[0m, in \u001b[0;36m_download_file\u001b[0;34m(response, out_file, size_read, total_size, hash_object)\u001b[0m\n\u001b[1;32m    274\u001b[0m \u001b[38;5;28;01mwith\u001b[39;00m tqdm(total\u001b[38;5;241m=\u001b[39mtotal_size, initial\u001b[38;5;241m=\u001b[39msize_read, unit\u001b[38;5;241m=\u001b[39m\u001b[38;5;124m\"\u001b[39m\u001b[38;5;124mB\u001b[39m\u001b[38;5;124m\"\u001b[39m, unit_scale\u001b[38;5;241m=\u001b[39m\u001b[38;5;28;01mTrue\u001b[39;00m, unit_divisor\u001b[38;5;241m=\u001b[39m\u001b[38;5;241m1024\u001b[39m) \u001b[38;5;28;01mas\u001b[39;00m progress_bar:\n\u001b[1;32m    275\u001b[0m     \u001b[38;5;28;01mwith\u001b[39;00m \u001b[38;5;28mopen\u001b[39m(out_file, open_mode) \u001b[38;5;28;01mas\u001b[39;00m f:\n\u001b[0;32m--> 276\u001b[0m \u001b[43m        \u001b[49m\u001b[38;5;28;43;01mfor\u001b[39;49;00m\u001b[43m \u001b[49m\u001b[43mchunk\u001b[49m\u001b[43m \u001b[49m\u001b[38;5;129;43;01min\u001b[39;49;00m\u001b[43m \u001b[49m\u001b[43mresponse\u001b[49m\u001b[38;5;241;43m.\u001b[39;49m\u001b[43miter_content\u001b[49m\u001b[43m(\u001b[49m\u001b[43mCHUNK_SIZE\u001b[49m\u001b[43m)\u001b[49m\u001b[43m:\u001b[49m\n\u001b[1;32m    277\u001b[0m \u001b[43m            \u001b[49m\u001b[43mf\u001b[49m\u001b[38;5;241;43m.\u001b[39;49m\u001b[43mwrite\u001b[49m\u001b[43m(\u001b[49m\u001b[43mchunk\u001b[49m\u001b[43m)\u001b[49m\n\u001b[1;32m    278\u001b[0m \u001b[43m            \u001b[49m\u001b[38;5;28;43;01mif\u001b[39;49;00m\u001b[43m \u001b[49m\u001b[43mhash_object\u001b[49m\u001b[43m:\u001b[49m\n",
      "File \u001b[0;32m/Library/Frameworks/Python.framework/Versions/3.12/lib/python3.12/site-packages/requests/models.py:820\u001b[0m, in \u001b[0;36mResponse.iter_content.<locals>.generate\u001b[0;34m()\u001b[0m\n\u001b[1;32m    818\u001b[0m \u001b[38;5;28;01mif\u001b[39;00m \u001b[38;5;28mhasattr\u001b[39m(\u001b[38;5;28mself\u001b[39m\u001b[38;5;241m.\u001b[39mraw, \u001b[38;5;124m\"\u001b[39m\u001b[38;5;124mstream\u001b[39m\u001b[38;5;124m\"\u001b[39m):\n\u001b[1;32m    819\u001b[0m     \u001b[38;5;28;01mtry\u001b[39;00m:\n\u001b[0;32m--> 820\u001b[0m         \u001b[38;5;28;01myield from\u001b[39;00m \u001b[38;5;28mself\u001b[39m\u001b[38;5;241m.\u001b[39mraw\u001b[38;5;241m.\u001b[39mstream(chunk_size, decode_content\u001b[38;5;241m=\u001b[39m\u001b[38;5;28;01mTrue\u001b[39;00m)\n\u001b[1;32m    821\u001b[0m     \u001b[38;5;28;01mexcept\u001b[39;00m ProtocolError \u001b[38;5;28;01mas\u001b[39;00m e:\n\u001b[1;32m    822\u001b[0m         \u001b[38;5;28;01mraise\u001b[39;00m ChunkedEncodingError(e)\n",
      "File \u001b[0;32m/Library/Frameworks/Python.framework/Versions/3.12/lib/python3.12/site-packages/urllib3/response.py:1091\u001b[0m, in \u001b[0;36mHTTPResponse.stream\u001b[0;34m(self, amt, decode_content)\u001b[0m\n\u001b[1;32m   1089\u001b[0m \u001b[38;5;28;01melse\u001b[39;00m:\n\u001b[1;32m   1090\u001b[0m     \u001b[38;5;28;01mwhile\u001b[39;00m \u001b[38;5;129;01mnot\u001b[39;00m is_fp_closed(\u001b[38;5;28mself\u001b[39m\u001b[38;5;241m.\u001b[39m_fp) \u001b[38;5;129;01mor\u001b[39;00m \u001b[38;5;28mlen\u001b[39m(\u001b[38;5;28mself\u001b[39m\u001b[38;5;241m.\u001b[39m_decoded_buffer) \u001b[38;5;241m>\u001b[39m \u001b[38;5;241m0\u001b[39m:\n\u001b[0;32m-> 1091\u001b[0m         data \u001b[38;5;241m=\u001b[39m \u001b[38;5;28;43mself\u001b[39;49m\u001b[38;5;241;43m.\u001b[39;49m\u001b[43mread\u001b[49m\u001b[43m(\u001b[49m\u001b[43mamt\u001b[49m\u001b[38;5;241;43m=\u001b[39;49m\u001b[43mamt\u001b[49m\u001b[43m,\u001b[49m\u001b[43m \u001b[49m\u001b[43mdecode_content\u001b[49m\u001b[38;5;241;43m=\u001b[39;49m\u001b[43mdecode_content\u001b[49m\u001b[43m)\u001b[49m\n\u001b[1;32m   1093\u001b[0m         \u001b[38;5;28;01mif\u001b[39;00m data:\n\u001b[1;32m   1094\u001b[0m             \u001b[38;5;28;01myield\u001b[39;00m data\n",
      "File \u001b[0;32m/Library/Frameworks/Python.framework/Versions/3.12/lib/python3.12/site-packages/urllib3/response.py:980\u001b[0m, in \u001b[0;36mHTTPResponse.read\u001b[0;34m(self, amt, decode_content, cache_content)\u001b[0m\n\u001b[1;32m    977\u001b[0m     \u001b[38;5;28;01mif\u001b[39;00m \u001b[38;5;28mlen\u001b[39m(\u001b[38;5;28mself\u001b[39m\u001b[38;5;241m.\u001b[39m_decoded_buffer) \u001b[38;5;241m>\u001b[39m\u001b[38;5;241m=\u001b[39m amt:\n\u001b[1;32m    978\u001b[0m         \u001b[38;5;28;01mreturn\u001b[39;00m \u001b[38;5;28mself\u001b[39m\u001b[38;5;241m.\u001b[39m_decoded_buffer\u001b[38;5;241m.\u001b[39mget(amt)\n\u001b[0;32m--> 980\u001b[0m data \u001b[38;5;241m=\u001b[39m \u001b[38;5;28;43mself\u001b[39;49m\u001b[38;5;241;43m.\u001b[39;49m\u001b[43m_raw_read\u001b[49m\u001b[43m(\u001b[49m\u001b[43mamt\u001b[49m\u001b[43m)\u001b[49m\n\u001b[1;32m    982\u001b[0m flush_decoder \u001b[38;5;241m=\u001b[39m amt \u001b[38;5;129;01mis\u001b[39;00m \u001b[38;5;28;01mNone\u001b[39;00m \u001b[38;5;129;01mor\u001b[39;00m (amt \u001b[38;5;241m!=\u001b[39m \u001b[38;5;241m0\u001b[39m \u001b[38;5;129;01mand\u001b[39;00m \u001b[38;5;129;01mnot\u001b[39;00m data)\n\u001b[1;32m    984\u001b[0m \u001b[38;5;28;01mif\u001b[39;00m \u001b[38;5;129;01mnot\u001b[39;00m data \u001b[38;5;129;01mand\u001b[39;00m \u001b[38;5;28mlen\u001b[39m(\u001b[38;5;28mself\u001b[39m\u001b[38;5;241m.\u001b[39m_decoded_buffer) \u001b[38;5;241m==\u001b[39m \u001b[38;5;241m0\u001b[39m:\n",
      "File \u001b[0;32m/Library/Frameworks/Python.framework/Versions/3.12/lib/python3.12/site-packages/urllib3/response.py:904\u001b[0m, in \u001b[0;36mHTTPResponse._raw_read\u001b[0;34m(self, amt, read1)\u001b[0m\n\u001b[1;32m    901\u001b[0m fp_closed \u001b[38;5;241m=\u001b[39m \u001b[38;5;28mgetattr\u001b[39m(\u001b[38;5;28mself\u001b[39m\u001b[38;5;241m.\u001b[39m_fp, \u001b[38;5;124m\"\u001b[39m\u001b[38;5;124mclosed\u001b[39m\u001b[38;5;124m\"\u001b[39m, \u001b[38;5;28;01mFalse\u001b[39;00m)\n\u001b[1;32m    903\u001b[0m \u001b[38;5;28;01mwith\u001b[39;00m \u001b[38;5;28mself\u001b[39m\u001b[38;5;241m.\u001b[39m_error_catcher():\n\u001b[0;32m--> 904\u001b[0m     data \u001b[38;5;241m=\u001b[39m \u001b[38;5;28;43mself\u001b[39;49m\u001b[38;5;241;43m.\u001b[39;49m\u001b[43m_fp_read\u001b[49m\u001b[43m(\u001b[49m\u001b[43mamt\u001b[49m\u001b[43m,\u001b[49m\u001b[43m \u001b[49m\u001b[43mread1\u001b[49m\u001b[38;5;241;43m=\u001b[39;49m\u001b[43mread1\u001b[49m\u001b[43m)\u001b[49m \u001b[38;5;28;01mif\u001b[39;00m \u001b[38;5;129;01mnot\u001b[39;00m fp_closed \u001b[38;5;28;01melse\u001b[39;00m \u001b[38;5;124mb\u001b[39m\u001b[38;5;124m\"\u001b[39m\u001b[38;5;124m\"\u001b[39m\n\u001b[1;32m    905\u001b[0m     \u001b[38;5;28;01mif\u001b[39;00m amt \u001b[38;5;129;01mis\u001b[39;00m \u001b[38;5;129;01mnot\u001b[39;00m \u001b[38;5;28;01mNone\u001b[39;00m \u001b[38;5;129;01mand\u001b[39;00m amt \u001b[38;5;241m!=\u001b[39m \u001b[38;5;241m0\u001b[39m \u001b[38;5;129;01mand\u001b[39;00m \u001b[38;5;129;01mnot\u001b[39;00m data:\n\u001b[1;32m    906\u001b[0m         \u001b[38;5;66;03m# Platform-specific: Buggy versions of Python.\u001b[39;00m\n\u001b[1;32m    907\u001b[0m         \u001b[38;5;66;03m# Close the connection when no data is returned\u001b[39;00m\n\u001b[0;32m   (...)\u001b[0m\n\u001b[1;32m    912\u001b[0m         \u001b[38;5;66;03m# not properly close the connection in all cases. There is\u001b[39;00m\n\u001b[1;32m    913\u001b[0m         \u001b[38;5;66;03m# no harm in redundantly calling close.\u001b[39;00m\n\u001b[1;32m    914\u001b[0m         \u001b[38;5;28mself\u001b[39m\u001b[38;5;241m.\u001b[39m_fp\u001b[38;5;241m.\u001b[39mclose()\n",
      "File \u001b[0;32m/Library/Frameworks/Python.framework/Versions/3.12/lib/python3.12/site-packages/urllib3/response.py:887\u001b[0m, in \u001b[0;36mHTTPResponse._fp_read\u001b[0;34m(self, amt, read1)\u001b[0m\n\u001b[1;32m    884\u001b[0m     \u001b[38;5;28;01mreturn\u001b[39;00m \u001b[38;5;28mself\u001b[39m\u001b[38;5;241m.\u001b[39m_fp\u001b[38;5;241m.\u001b[39mread1(amt) \u001b[38;5;28;01mif\u001b[39;00m amt \u001b[38;5;129;01mis\u001b[39;00m \u001b[38;5;129;01mnot\u001b[39;00m \u001b[38;5;28;01mNone\u001b[39;00m \u001b[38;5;28;01melse\u001b[39;00m \u001b[38;5;28mself\u001b[39m\u001b[38;5;241m.\u001b[39m_fp\u001b[38;5;241m.\u001b[39mread1()\n\u001b[1;32m    885\u001b[0m \u001b[38;5;28;01melse\u001b[39;00m:\n\u001b[1;32m    886\u001b[0m     \u001b[38;5;66;03m# StringIO doesn't like amt=None\u001b[39;00m\n\u001b[0;32m--> 887\u001b[0m     \u001b[38;5;28;01mreturn\u001b[39;00m \u001b[38;5;28;43mself\u001b[39;49m\u001b[38;5;241;43m.\u001b[39;49m\u001b[43m_fp\u001b[49m\u001b[38;5;241;43m.\u001b[39;49m\u001b[43mread\u001b[49m\u001b[43m(\u001b[49m\u001b[43mamt\u001b[49m\u001b[43m)\u001b[49m \u001b[38;5;28;01mif\u001b[39;00m amt \u001b[38;5;129;01mis\u001b[39;00m \u001b[38;5;129;01mnot\u001b[39;00m \u001b[38;5;28;01mNone\u001b[39;00m \u001b[38;5;28;01melse\u001b[39;00m \u001b[38;5;28mself\u001b[39m\u001b[38;5;241m.\u001b[39m_fp\u001b[38;5;241m.\u001b[39mread()\n",
      "File \u001b[0;32m/Library/Frameworks/Python.framework/Versions/3.12/lib/python3.12/http/client.py:479\u001b[0m, in \u001b[0;36mHTTPResponse.read\u001b[0;34m(self, amt)\u001b[0m\n\u001b[1;32m    476\u001b[0m \u001b[38;5;28;01mif\u001b[39;00m \u001b[38;5;28mself\u001b[39m\u001b[38;5;241m.\u001b[39mlength \u001b[38;5;129;01mis\u001b[39;00m \u001b[38;5;129;01mnot\u001b[39;00m \u001b[38;5;28;01mNone\u001b[39;00m \u001b[38;5;129;01mand\u001b[39;00m amt \u001b[38;5;241m>\u001b[39m \u001b[38;5;28mself\u001b[39m\u001b[38;5;241m.\u001b[39mlength:\n\u001b[1;32m    477\u001b[0m     \u001b[38;5;66;03m# clip the read to the \"end of response\"\u001b[39;00m\n\u001b[1;32m    478\u001b[0m     amt \u001b[38;5;241m=\u001b[39m \u001b[38;5;28mself\u001b[39m\u001b[38;5;241m.\u001b[39mlength\n\u001b[0;32m--> 479\u001b[0m s \u001b[38;5;241m=\u001b[39m \u001b[38;5;28;43mself\u001b[39;49m\u001b[38;5;241;43m.\u001b[39;49m\u001b[43mfp\u001b[49m\u001b[38;5;241;43m.\u001b[39;49m\u001b[43mread\u001b[49m\u001b[43m(\u001b[49m\u001b[43mamt\u001b[49m\u001b[43m)\u001b[49m\n\u001b[1;32m    480\u001b[0m \u001b[38;5;28;01mif\u001b[39;00m \u001b[38;5;129;01mnot\u001b[39;00m s \u001b[38;5;129;01mand\u001b[39;00m amt:\n\u001b[1;32m    481\u001b[0m     \u001b[38;5;66;03m# Ideally, we would raise IncompleteRead if the content-length\u001b[39;00m\n\u001b[1;32m    482\u001b[0m     \u001b[38;5;66;03m# wasn't satisfied, but it might break compatibility.\u001b[39;00m\n\u001b[1;32m    483\u001b[0m     \u001b[38;5;28mself\u001b[39m\u001b[38;5;241m.\u001b[39m_close_conn()\n",
      "File \u001b[0;32m/Library/Frameworks/Python.framework/Versions/3.12/lib/python3.12/socket.py:707\u001b[0m, in \u001b[0;36mSocketIO.readinto\u001b[0;34m(self, b)\u001b[0m\n\u001b[1;32m    705\u001b[0m \u001b[38;5;28;01mwhile\u001b[39;00m \u001b[38;5;28;01mTrue\u001b[39;00m:\n\u001b[1;32m    706\u001b[0m     \u001b[38;5;28;01mtry\u001b[39;00m:\n\u001b[0;32m--> 707\u001b[0m         \u001b[38;5;28;01mreturn\u001b[39;00m \u001b[38;5;28;43mself\u001b[39;49m\u001b[38;5;241;43m.\u001b[39;49m\u001b[43m_sock\u001b[49m\u001b[38;5;241;43m.\u001b[39;49m\u001b[43mrecv_into\u001b[49m\u001b[43m(\u001b[49m\u001b[43mb\u001b[49m\u001b[43m)\u001b[49m\n\u001b[1;32m    708\u001b[0m     \u001b[38;5;28;01mexcept\u001b[39;00m timeout:\n\u001b[1;32m    709\u001b[0m         \u001b[38;5;28mself\u001b[39m\u001b[38;5;241m.\u001b[39m_timeout_occurred \u001b[38;5;241m=\u001b[39m \u001b[38;5;28;01mTrue\u001b[39;00m\n",
      "File \u001b[0;32m/Library/Frameworks/Python.framework/Versions/3.12/lib/python3.12/ssl.py:1252\u001b[0m, in \u001b[0;36mSSLSocket.recv_into\u001b[0;34m(self, buffer, nbytes, flags)\u001b[0m\n\u001b[1;32m   1248\u001b[0m     \u001b[38;5;28;01mif\u001b[39;00m flags \u001b[38;5;241m!=\u001b[39m \u001b[38;5;241m0\u001b[39m:\n\u001b[1;32m   1249\u001b[0m         \u001b[38;5;28;01mraise\u001b[39;00m \u001b[38;5;167;01mValueError\u001b[39;00m(\n\u001b[1;32m   1250\u001b[0m           \u001b[38;5;124m\"\u001b[39m\u001b[38;5;124mnon-zero flags not allowed in calls to recv_into() on \u001b[39m\u001b[38;5;132;01m%s\u001b[39;00m\u001b[38;5;124m\"\u001b[39m \u001b[38;5;241m%\u001b[39m\n\u001b[1;32m   1251\u001b[0m           \u001b[38;5;28mself\u001b[39m\u001b[38;5;241m.\u001b[39m\u001b[38;5;18m__class__\u001b[39m)\n\u001b[0;32m-> 1252\u001b[0m     \u001b[38;5;28;01mreturn\u001b[39;00m \u001b[38;5;28;43mself\u001b[39;49m\u001b[38;5;241;43m.\u001b[39;49m\u001b[43mread\u001b[49m\u001b[43m(\u001b[49m\u001b[43mnbytes\u001b[49m\u001b[43m,\u001b[49m\u001b[43m \u001b[49m\u001b[43mbuffer\u001b[49m\u001b[43m)\u001b[49m\n\u001b[1;32m   1253\u001b[0m \u001b[38;5;28;01melse\u001b[39;00m:\n\u001b[1;32m   1254\u001b[0m     \u001b[38;5;28;01mreturn\u001b[39;00m \u001b[38;5;28msuper\u001b[39m()\u001b[38;5;241m.\u001b[39mrecv_into(buffer, nbytes, flags)\n",
      "File \u001b[0;32m/Library/Frameworks/Python.framework/Versions/3.12/lib/python3.12/ssl.py:1104\u001b[0m, in \u001b[0;36mSSLSocket.read\u001b[0;34m(self, len, buffer)\u001b[0m\n\u001b[1;32m   1102\u001b[0m \u001b[38;5;28;01mtry\u001b[39;00m:\n\u001b[1;32m   1103\u001b[0m     \u001b[38;5;28;01mif\u001b[39;00m buffer \u001b[38;5;129;01mis\u001b[39;00m \u001b[38;5;129;01mnot\u001b[39;00m \u001b[38;5;28;01mNone\u001b[39;00m:\n\u001b[0;32m-> 1104\u001b[0m         \u001b[38;5;28;01mreturn\u001b[39;00m \u001b[38;5;28;43mself\u001b[39;49m\u001b[38;5;241;43m.\u001b[39;49m\u001b[43m_sslobj\u001b[49m\u001b[38;5;241;43m.\u001b[39;49m\u001b[43mread\u001b[49m\u001b[43m(\u001b[49m\u001b[38;5;28;43mlen\u001b[39;49m\u001b[43m,\u001b[49m\u001b[43m \u001b[49m\u001b[43mbuffer\u001b[49m\u001b[43m)\u001b[49m\n\u001b[1;32m   1105\u001b[0m     \u001b[38;5;28;01melse\u001b[39;00m:\n\u001b[1;32m   1106\u001b[0m         \u001b[38;5;28;01mreturn\u001b[39;00m \u001b[38;5;28mself\u001b[39m\u001b[38;5;241m.\u001b[39m_sslobj\u001b[38;5;241m.\u001b[39mread(\u001b[38;5;28mlen\u001b[39m)\n",
      "\u001b[0;31mKeyboardInterrupt\u001b[0m: "
     ]
    }
   ],
   "source": [
    "path = kagglehub.dataset_download(\"vipoooool/new-plant-diseases-dataset\")\n",
    "print(\"Path to dataset files:\", path)"
   ]
  },
  {
   "cell_type": "code",
   "execution_count": 89,
   "metadata": {},
   "outputs": [
    {
     "data": {
      "text/plain": [
       "'/Users/mariamelantably/Desktop/programs/vais internship/disease_project/2'"
      ]
     },
     "execution_count": 89,
     "metadata": {},
     "output_type": "execute_result"
    }
   ],
   "source": [
    "shutil.move(path, \"/Users/mariamelantably/Desktop/programs/vais internship/disease_project\")"
   ]
  },
  {
   "cell_type": "markdown",
   "metadata": {},
   "source": [
    "The second dataset used is the plant village dataset from tensorflow, used as testing data"
   ]
  },
  {
   "cell_type": "code",
   "execution_count": 90,
   "metadata": {},
   "outputs": [
    {
     "name": "stdout",
     "output_type": "stream",
     "text": [
      "\u001b[1mDownloading and preparing dataset Unknown size (download: Unknown size, generated: Unknown size, total: Unknown size) to /Users/mariamelantably/Desktop/programs/vais internship/disease_project/plant_village/1.0.2...\u001b[0m\n"
     ]
    },
    {
     "data": {
      "application/vnd.jupyter.widget-view+json": {
       "model_id": "28541c30a1814ce193a9c1901f8c1d49",
       "version_major": 2,
       "version_minor": 0
      },
      "text/plain": [
       "Dl Completed...: 0 url [00:00, ? url/s]"
      ]
     },
     "metadata": {},
     "output_type": "display_data"
    },
    {
     "data": {
      "application/vnd.jupyter.widget-view+json": {
       "model_id": "6ee138a6e7dd44c8b2ad387e1a93b83c",
       "version_major": 2,
       "version_minor": 0
      },
      "text/plain": [
       "Dl Size...: 0 MiB [00:00, ? MiB/s]"
      ]
     },
     "metadata": {},
     "output_type": "display_data"
    },
    {
     "data": {
      "application/vnd.jupyter.widget-view+json": {
       "model_id": "3e74c244ca584b838542345118a5a17c",
       "version_major": 2,
       "version_minor": 0
      },
      "text/plain": [
       "Extraction completed...: 0 file [00:00, ? file/s]"
      ]
     },
     "metadata": {},
     "output_type": "display_data"
    },
    {
     "data": {
      "application/vnd.jupyter.widget-view+json": {
       "model_id": "cd3cb0d24de649329164d4ea9d1c462a",
       "version_major": 2,
       "version_minor": 0
      },
      "text/plain": [
       "Generating splits...:   0%|          | 0/1 [00:00<?, ? splits/s]"
      ]
     },
     "metadata": {},
     "output_type": "display_data"
    },
    {
     "data": {
      "application/vnd.jupyter.widget-view+json": {
       "model_id": "babd55ab02794cd9a9c4781134522519",
       "version_major": 2,
       "version_minor": 0
      },
      "text/plain": [
       "Generating train examples...: 0 examples [00:00, ? examples/s]"
      ]
     },
     "metadata": {},
     "output_type": "display_data"
    },
    {
     "data": {
      "application/vnd.jupyter.widget-view+json": {
       "model_id": "773fd885860e427491ac0ae6147bc15d",
       "version_major": 2,
       "version_minor": 0
      },
      "text/plain": [
       "Shuffling /Users/mariamelantably/Desktop/programs/vais internship/disease_project/plant_village/incomplete.USN…"
      ]
     },
     "metadata": {},
     "output_type": "display_data"
    },
    {
     "name": "stdout",
     "output_type": "stream",
     "text": [
      "\u001b[1mDataset plant_village downloaded and prepared to /Users/mariamelantably/Desktop/programs/vais internship/disease_project/plant_village/1.0.2. Subsequent calls will reuse this data.\u001b[0m\n"
     ]
    }
   ],
   "source": [
    "builder = tfds.builder('plant_village', data_dir = \"/Users/mariamelantably/Desktop/programs/vais internship/disease_project\")\n",
    "builder.download_and_prepare()"
   ]
  },
  {
   "cell_type": "code",
   "execution_count": 92,
   "metadata": {},
   "outputs": [
    {
     "ename": "Error",
     "evalue": "Destination path '/Users/mariamelantably/Desktop/programs/vais internship/disease_project/2/test/test/ZIP.data.mend.com_publ-file_data_tywb_file_d565-c1rDQyRTmE0CqGGXmH53WlQp0NWefMfDW89aj1A0m5D_A' already exists",
     "output_type": "error",
     "traceback": [
      "\u001b[0;31m---------------------------------------------------------------------------\u001b[0m",
      "\u001b[0;31mError\u001b[0m                                     Traceback (most recent call last)",
      "Cell \u001b[0;32mIn[92], line 1\u001b[0m\n\u001b[0;32m----> 1\u001b[0m \u001b[43mshutil\u001b[49m\u001b[38;5;241;43m.\u001b[39;49m\u001b[43mmove\u001b[49m\u001b[43m(\u001b[49m\u001b[38;5;124;43m\"\u001b[39;49m\u001b[38;5;124;43m/Users/mariamelantably/Desktop/programs/vais internship/disease_project/downloads/extracted/ZIP.data.mend.com_publ-file_data_tywb_file_d565-c1rDQyRTmE0CqGGXmH53WlQp0NWefMfDW89aj1A0m5D_A\u001b[39;49m\u001b[38;5;124;43m\"\u001b[39;49m\u001b[43m,\u001b[49m\u001b[43m \u001b[49m\u001b[38;5;124;43m\"\u001b[39;49m\u001b[38;5;124;43m/Users/mariamelantably/Desktop/programs/vais internship/disease_project/2/test/test\u001b[39;49m\u001b[38;5;124;43m\"\u001b[39;49m\u001b[43m)\u001b[49m\n",
      "File \u001b[0;32m/Library/Frameworks/Python.framework/Versions/3.12/lib/python3.12/shutil.py:884\u001b[0m, in \u001b[0;36mmove\u001b[0;34m(src, dst, copy_function)\u001b[0m\n\u001b[1;32m    881\u001b[0m     real_dst \u001b[38;5;241m=\u001b[39m os\u001b[38;5;241m.\u001b[39mpath\u001b[38;5;241m.\u001b[39mjoin(dst, _basename(src))\n\u001b[1;32m    883\u001b[0m     \u001b[38;5;28;01mif\u001b[39;00m os\u001b[38;5;241m.\u001b[39mpath\u001b[38;5;241m.\u001b[39mexists(real_dst):\n\u001b[0;32m--> 884\u001b[0m         \u001b[38;5;28;01mraise\u001b[39;00m Error(\u001b[38;5;124m\"\u001b[39m\u001b[38;5;124mDestination path \u001b[39m\u001b[38;5;124m'\u001b[39m\u001b[38;5;132;01m%s\u001b[39;00m\u001b[38;5;124m'\u001b[39m\u001b[38;5;124m already exists\u001b[39m\u001b[38;5;124m\"\u001b[39m \u001b[38;5;241m%\u001b[39m real_dst)\n\u001b[1;32m    885\u001b[0m \u001b[38;5;28;01mtry\u001b[39;00m:\n\u001b[1;32m    886\u001b[0m     os\u001b[38;5;241m.\u001b[39mrename(src, real_dst)\n",
      "\u001b[0;31mError\u001b[0m: Destination path '/Users/mariamelantably/Desktop/programs/vais internship/disease_project/2/test/test/ZIP.data.mend.com_publ-file_data_tywb_file_d565-c1rDQyRTmE0CqGGXmH53WlQp0NWefMfDW89aj1A0m5D_A' already exists"
     ]
    }
   ],
   "source": [
    "shutil.move(\"/Users/mariamelantably/Desktop/programs/vais internship/disease_project/downloads/extracted/ZIP.data.mend.com_publ-file_data_tywb_file_d565-c1rDQyRTmE0CqGGXmH53WlQp0NWefMfDW89aj1A0m5D_A\", \"/Users/mariamelantably/Desktop/programs/vais internship/disease_project/2/test/test\")"
   ]
  },
  {
   "cell_type": "markdown",
   "metadata": {},
   "source": [
    "These two datasets are very large, and so they must be reduced down by random samples, as done below to make our ammended dataset"
   ]
  },
  {
   "cell_type": "code",
   "execution_count": 2,
   "metadata": {},
   "outputs": [],
   "source": [
    "names = os.listdir(\"dataset_disease/test\")\n",
    "names.remove(\".DS_Store\")"
   ]
  },
  {
   "cell_type": "code",
   "execution_count": 79,
   "metadata": {},
   "outputs": [],
   "source": [
    "for cl in names:\n",
    "    os.mkdir(f'ammended_dataset/preprocessed/test/{cl}')\n",
    "    os.mkdir(f'ammended_dataset/preprocessed/train/{cl}')\n",
    "    os.mkdir(f'ammended_dataset/processed/test/{cl}')\n",
    "    os.mkdir(f'ammended_dataset/processed/train/{cl}')\n",
    "    x = os.listdir(f'dataset_disease/test/{cl}')\n",
    "    y = os.listdir(f'dataset_disease/train/{cl}')\n",
    "    random_x = random.sample(x, 10)\n",
    "    random_y = random.sample(y, 10)\n",
    "    for img in random_x:\n",
    "        shutil.copyfile(f'dataset_disease/test/{cl}/{img}', f'ammended_dataset/preprocessed/test/{cl}')\n",
    "    for img in random_y:\n",
    "        shutil.copyfile(f'dataset_disease/train/{cl}/{img}', f'ammended_dataset/preprocessed/train/{cl}')"
   ]
  },
  {
   "cell_type": "markdown",
   "metadata": {},
   "source": [
    "The next dataset used is from the following link: https://public.roboflow.com/object-detection/plantdoc/. This dataset consists of images and labels depicting where the leaves are in the images, which will be used as few-shot examples in the object detectiont ask."
   ]
  },
  {
   "cell_type": "code",
   "execution_count": 5,
   "metadata": {},
   "outputs": [],
   "source": [
    "with open(\"few_shot_examples/_annotations.coco.json\", \"r\") as file:\n",
    "    data = json.load(file)\n",
    "examples = []\n",
    "for x in data['images']:\n",
    "    i = Image.open(\"few_shot_examples/unprocessed/\"+x['file_name'])\n",
    "    width, height = i.size\n",
    "    draw = ImageDraw.Draw(i)\n",
    "    box = [x['bbox'][0], x['bbox'][1], x['bbox'][0] + x['bbox'][2], x['bbox'][1] + x['bbox'][3]]\n",
    "    draw.rectangle(box, outline = 'red', fill = None, width = 1)\n",
    "    box = [box[0]/width*100, box[3]/height*100, box[2]/width*100, box[1]/height*100]\n",
    "    examples.append(box)\n",
    "    i.save(f\"processed_{x['file_name']}\")\n",
    "    shutil.move(f\"processed_{x['file_name']}\", \"/Users/mariamelantably/Desktop/programs/vais internship/disease_project/few_shot_examples/processed\")\n",
    "    "
   ]
  },
  {
   "cell_type": "markdown",
   "metadata": {},
   "source": [
    "## 3 - Object Detection\n",
    "The first step is to load the genai client using the API key from an environment variable."
   ]
  },
  {
   "cell_type": "code",
   "execution_count": 3,
   "metadata": {},
   "outputs": [],
   "source": [
    "load_dotenv(\"root.env\")\n",
    "API_KEY = os.getenv(\"GEMINI_API_KEY\")\n",
    "client = genai.Client(api_key = API_KEY)"
   ]
  },
  {
   "cell_type": "markdown",
   "metadata": {},
   "source": [
    "Next, the two few-shot examples are uploaded into the gemini client. This will allow us to reference them in the prompt for the object detection and reuse them for each object."
   ]
  },
  {
   "cell_type": "code",
   "execution_count": 7,
   "metadata": {},
   "outputs": [],
   "source": [
    "image1 = client.files.upload(file = \"few_shot_examples/processed/processed_Apple-Leaf-Wallpaper-17_jpg.rf.02b66598333655d0e2073c3408ebc0c9.jpg\")\n",
    "image2 = client.files.upload(file = \"few_shot_examples/processed/processed_ed12ff77ce021883de241830dee55e2e53d2c93231699_1260x1260_jpg.rf.0349b32b542b5b783d138b1b4bfe8fe7.jpg\")"
   ]
  },
  {
   "cell_type": "markdown",
   "metadata": {},
   "source": [
    "The prompt is then loaded in from its text file. I used placeholders for the unique identifiers and the boxes for the two few shot images, and then inserted them here using replace."
   ]
  },
  {
   "cell_type": "code",
   "execution_count": 8,
   "metadata": {},
   "outputs": [
    {
     "name": "stdout",
     "output_type": "stream",
     "text": [
      "You are a helpful chatbot. I would like you to detect the leaf in the following image, with the following additional constraints, on every new image you receive:\n",
      "Ensure that you return a box in the form box_2d = [xmin, ymax, xmax, ymin]. xmax should always be bigger than xmin and ymax should always be bigger than ymin. Please give the value as a percentage of the width (for xmin and xmax) and the percentage of the height (for ymin and ymax)\n",
      "\n",
      "# Examples\n",
      "I have included two examples for you, which are listed below with their URIs and the returned boxes:\n",
      "- URI: https://generativelanguage.googleapis.com/v1beta/files/ywo5ij4awwo3, box_2d = [28.999999999999996, 99.25925925925927, 77.671875, 6.0]\n",
      "- URI: https://generativelanguage.googleapis.com/v1beta/files/zd7zjseh5ije, box_2d = [26.0, 87.06349206349206, 77.60984848484848, 5.0]\n",
      "\n",
      "If it appears that the leaf is the entire picture, just return the dimensions of the image (i.e. the entire image).\n",
      "\n",
      "Please be as accurate as possible with these boxes, and include the entire leaf in the box. You should return a singular box containing the main leaf. \n"
     ]
    }
   ],
   "source": [
    "GEN_BOX_PROMPT = open(\"disease_detection_prompt.txt\").read()\n",
    "GEN_BOX_PROMPT = GEN_BOX_PROMPT.replace('<img1uri>', image1.uri)\n",
    "GEN_BOX_PROMPT = GEN_BOX_PROMPT.replace('<img2uri>', image2.uri)\n",
    "GEN_BOX_PROMPT = GEN_BOX_PROMPT.replace('<img1box>', str(examples[0]))\n",
    "GEN_BOX_PROMPT = GEN_BOX_PROMPT.replace('<img2box>', str(examples[1]))\n",
    "print(GEN_BOX_PROMPT)"
   ]
  },
  {
   "cell_type": "markdown",
   "metadata": {},
   "source": [
    "The next step is to create the object detection process, which consists of calling the client to generate a response in the form of a json, and then generating the bounding boxes and using them to crop the images, which are then saved into the destination folder. This code is then called on all the images in the train and test sets in the 'ammended_dataset' directory."
   ]
  },
  {
   "cell_type": "code",
   "execution_count": 9,
   "metadata": {},
   "outputs": [],
   "source": [
    "def process_image(file_n, move_dest):\n",
    "  image_new = open(file_n, \"rb\").read()\n",
    "  prompt = [\n",
    "    types.Part.from_text(text = GEN_BOX_PROMPT),\n",
    "    \n",
    "    types.Part.from_bytes(data=image_new, mime_type=\"image/jpeg\")\n",
    "  ]\n",
    "  config = types.GenerateContentConfig(response_mime_type=\"application/json\")\n",
    "\n",
    "  response = client.models.generate_content(\n",
    "    contents = prompt,\n",
    "    model=\"gemini-2.5-flash\",\n",
    "    config=config)\n",
    "  im = Image.open(file_n)\n",
    "  width, height = im.size\n",
    "  bounding_boxes = json.loads(response.text)\n",
    "  print(bounding_boxes)\n",
    "  width, height = im.size\n",
    "  try:\n",
    "    xmin = int(bounding_boxes['box_2d'][0]/100 * width)\n",
    "    ymax = int(bounding_boxes['box_2d'][1]/100 * height)\n",
    "    xmax = int(bounding_boxes['box_2d'][2]/100 * width)\n",
    "    ymin = int(bounding_boxes['box_2d'][3]/100 * height)\n",
    "  except TypeError:\n",
    "    xmin = int(bounding_boxes[0]/100 * width)\n",
    "    ymax = int(bounding_boxes[1]/100 * height)\n",
    "    xmax = int(bounding_boxes[2]/100 * width)\n",
    "    ymin = int(bounding_boxes[3]/100 * height)\n",
    "  y = im.crop([xmin, ymin, xmax, ymax])\n",
    "  y.save(file_n)\n",
    "  shutil.move(file_n, move_dest)\n",
    "  print(file_n)\n",
    "    "
   ]
  },
  {
   "cell_type": "code",
   "execution_count": 17,
   "metadata": {},
   "outputs": [
    {
     "name": "stdout",
     "output_type": "stream",
     "text": [
      "{'box_2d': [6.640625, 97.65625, 96.875, 1.171875]}\n",
      "ammended_dataset/preprocessed/train/Apple___Black_rot/7fb51374-f3ae-4dc9-8e0b-f25552528852___JR_FrgE.S 2894_90deg.JPG\n",
      "{'box_2d': [6.8, 96.4, 96.0, 3.6]}\n",
      "ammended_dataset/preprocessed/train/Apple___Black_rot/f58de461-853f-46d7-b223-d48a81507a85___JR_FrgE.S 2996_90deg.JPG\n",
      "{'box_2d': [11.71875, 92.1875, 89.84375, 4.296875]}\n",
      "ammended_dataset/preprocessed/train/Apple___Black_rot/a2d0df69-e2ee-4b7b-8b48-051027a83258___JR_FrgE.S 2936_new30degFlipLR.JPG\n",
      "{'box_2d': [9.5, 94.5, 89.5, 5.5]}\n",
      "ammended_dataset/preprocessed/test/Apple___healthy/image (691).JPG\n",
      "{'box_2d': [7.0, 98.0, 94.5, 3.5]}\n",
      "ammended_dataset/preprocessed/test/Apple___healthy/image (1432).JPG\n",
      "{'box_2d': [0.0, 100.0, 100.0, 0.0]}\n",
      "ammended_dataset/preprocessed/test/Apple___healthy/image (302).JPG\n",
      "{'box_2d': [0.5, 99.5, 99.5, 0.5]}\n",
      "ammended_dataset/preprocessed/test/Apple___healthy/image (837).JPG\n",
      "{'box_2d': [17.0, 98.0, 81.0, 3.0]}\n",
      "ammended_dataset/preprocessed/test/Apple___healthy/image (303).JPG\n",
      "{'box_2d': [13.5, 97.0, 91.5, 4.5]}\n",
      "ammended_dataset/preprocessed/test/Apple___healthy/image (867).JPG\n",
      "{'box_2d': [30.27, 99.22, 100.0, 0.0]}\n",
      "ammended_dataset/preprocessed/test/Apple___healthy/image (538).JPG\n",
      "{'box_2d': [7.8125, 97.65625, 92.7734375, 2.9296875]}\n",
      "ammended_dataset/preprocessed/test/Apple___healthy/image (1470).JPG\n",
      "{'box_2d': [22.0, 94.0, 79.0, 11.0]}\n",
      "ammended_dataset/preprocessed/test/Apple___healthy/image (1447).JPG\n",
      "{'box_2d': [10.15625, 94.7265625, 89.84375, 4.4921875]}\n",
      "ammended_dataset/preprocessed/test/Apple___healthy/image (562).JPG\n",
      "{'box_2d': [12.0, 98.0, 88.0, 2.0]}\n",
      "ammended_dataset/preprocessed/train/Apple___healthy/bd910a05-42d0-4e01-9d88-0c8577ccdbe2___RS_HL 7396_flipTB.JPG\n",
      "{'box_2d': [17.0, 95.5, 83.0, 4.5]}\n",
      "ammended_dataset/preprocessed/train/Apple___healthy/edb48c93-3366-4363-9840-41a96cb86e3a___RS_HL 6066.JPG\n",
      "{'box_2d': [3.5, 97.0, 97.0, 3.0]}\n",
      "ammended_dataset/preprocessed/train/Apple___healthy/3518d065-38fa-4e26-aa0f-6addc2d2968a___RS_HL 7615_flipTB.JPG\n",
      "{'box_2d': [0.5, 99.5, 98.5, 0.8]}\n",
      "ammended_dataset/preprocessed/train/Apple___healthy/118160af-d2a3-48ef-8134-cf72f0588cfe___RS_HL 7456.JPG\n",
      "{'box_2d': [14.1, 96.8, 86.2, 3.7]}\n",
      "ammended_dataset/preprocessed/train/Apple___healthy/e9f437d0-a209-461c-b071-5c8c13a2ed6a___RS_HL 6291.JPG\n",
      "{'box_2d': [7.0, 96.0, 98.0, 4.0]}\n",
      "ammended_dataset/preprocessed/train/Apple___healthy/d345baff-7be6-45a6-802a-b945b95b5885___RS_HL 5956_flipTB.JPG\n",
      "{'box_2d': [23.0, 93.0, 77.0, 7.0]}\n",
      "ammended_dataset/preprocessed/train/Apple___healthy/21c10a73-ebeb-4a16-898b-8b39d9d6eca2___RS_HL 6315.JPG\n",
      "{'box_2d': [17.5, 98.5, 82.5, 1.5]}\n",
      "ammended_dataset/preprocessed/train/Apple___healthy/c07b5a20-2ebb-44b8-8a17-f8ce3890de91___RS_HL 7638.JPG\n",
      "{'box_2d': [11.0, 93.0, 89.0, 9.0]}\n",
      "ammended_dataset/preprocessed/train/Apple___healthy/1630633a-63cb-433f-96bc-bc47a933506c___RS_HL 5718.JPG\n",
      "{'box_2d': [11.3, 91.8, 89.5, 10.5]}\n",
      "ammended_dataset/preprocessed/train/Apple___healthy/dbe783c1-f25b-4c7b-9151-4f4abab0ec31___RS_HL 5701.JPG\n",
      "{'box_2d': [0.0, 100.0, 100.0, 0.0]}\n",
      "ammended_dataset/preprocessed/test/Strawberry___Leaf_scorch/image (983).JPG\n",
      "{'box_2d': [5.859375, 89.84375, 95.703125, 11.71875]}\n",
      "ammended_dataset/preprocessed/test/Strawberry___Leaf_scorch/image (992).JPG\n",
      "{'box_2d': [10.9375, 94.53125, 89.0625, 7.03125]}\n",
      "ammended_dataset/preprocessed/test/Strawberry___Leaf_scorch/image (1044).JPG\n",
      "{'box_2d': [2.5, 98.5, 97.5, 1.5]}\n",
      "ammended_dataset/preprocessed/test/Strawberry___Leaf_scorch/image (403).JPG\n",
      "{'box_2d': [16.0, 89.0, 84.0, 11.0]}\n",
      "ammended_dataset/preprocessed/test/Strawberry___Leaf_scorch/image (74).JPG\n",
      "{'box_2d': [7.0, 95.5, 92.5, 4.5]}\n",
      "ammended_dataset/preprocessed/test/Strawberry___Leaf_scorch/image (682).JPG\n",
      "{'box_2d': [11.5, 94.5, 88.5, 5.5]}\n",
      "ammended_dataset/preprocessed/test/Strawberry___Leaf_scorch/image (534).JPG\n",
      "{'box_2d': [11.0, 94.0, 93.0, 6.0]}\n",
      "ammended_dataset/preprocessed/test/Strawberry___Leaf_scorch/image (922).JPG\n",
      "{'box_2d': [15.625, 96.09375, 87.890625, 6.25]}\n",
      "ammended_dataset/preprocessed/test/Strawberry___Leaf_scorch/image (810).JPG\n",
      "{'box_2d': [6.640625, 97.265625, 93.359375, 5.078125]}\n",
      "ammended_dataset/preprocessed/test/Strawberry___Leaf_scorch/image (190).JPG\n",
      "{'box_2d': [10.5, 95.5, 91.0, 6.0]}\n",
      "ammended_dataset/preprocessed/train/Strawberry___Leaf_scorch/cf65f86e-68eb-402a-973b-d345986ba83f___RS_L.Scorch 1600_flipLR.JPG\n",
      "{'box_2d': [5.6, 91.8, 94.0, 7.0]}\n",
      "ammended_dataset/preprocessed/train/Strawberry___Leaf_scorch/c38d684b-233c-4fc8-a5d4-150143e94ab1___RS_L.Scorch 1420_flipLR.JPG\n",
      "{'box_2d': [22.5, 94.0, 83.5, 6.0]}\n",
      "ammended_dataset/preprocessed/train/Strawberry___Leaf_scorch/b82642a3-1995-41c2-95de-39cc5610dc80___RS_L.Scorch 1485_flipLR.JPG\n",
      "{'box_2d': [0.0, 77.34375, 97.65625, 0.0]}\n",
      "ammended_dataset/preprocessed/train/Strawberry___Leaf_scorch/b7741adf-fb42-492a-b931-06a6db5c2ca0___RS_L.Scorch 0787_flipLR.JPG\n",
      "{'box_2d': [0.0, 99.609375, 99.609375, 30.46875]}\n",
      "ammended_dataset/preprocessed/train/Strawberry___Leaf_scorch/2a53bc48-fe00-441b-b8bb-45d632bc859a___RS_L.Scorch 0127.JPG\n",
      "{'box_2d': [17.5, 92.5, 87.0, 5.5]}\n",
      "ammended_dataset/preprocessed/train/Strawberry___Leaf_scorch/85af5363-5c38-448f-8bd1-977c282d31e9___RS_L.Scorch 1400_flipLR.JPG\n",
      "{'box_2d': [9.0, 95.5, 91.0, 4.5]}\n",
      "ammended_dataset/preprocessed/train/Strawberry___Leaf_scorch/69eaa143-9496-459f-a7fa-db5af81ba346___RS_L.Scorch 1022_flipLR.JPG\n",
      "{'box_2d': [1.0, 99.0, 99.0, 1.0]}\n",
      "ammended_dataset/preprocessed/train/Strawberry___Leaf_scorch/638c2ec7-0381-4b70-8b84-8b270e70cd87___RS_L.Scorch 1085_flipLR.JPG\n",
      "{'box_2d': [0.0, 100.0, 100.0, 0.0]}\n",
      "ammended_dataset/preprocessed/train/Strawberry___Leaf_scorch/fb580033-577d-40ce-92c2-aa8f2b0ac088___RS_L.Scorch 0096.JPG\n",
      "{'box_2d': [0.0, 98.046875, 98.046875, 0.0]}\n",
      "ammended_dataset/preprocessed/train/Strawberry___Leaf_scorch/7f4299ba-cc6a-49b7-b94b-abed8f11979a___RS_L.Scorch 0048.JPG\n",
      "{'box_2d': [3.90625, 97.65625, 95.703125, 1.953125]}\n",
      "ammended_dataset/preprocessed/test/Potato___healthy/image (2).JPG\n",
      "{'box_2d': [7.5, 98.5, 92.5, 1.0]}\n",
      "ammended_dataset/preprocessed/test/Potato___healthy/image (38).JPG\n",
      "{'box_2d': [11.0, 96.0, 89.0, 4.0]}\n",
      "ammended_dataset/preprocessed/test/Potato___healthy/image (79).JPG\n",
      "{'box_2d': [13.8, 94.2, 92.2, 5.8]}\n",
      "ammended_dataset/preprocessed/test/Potato___healthy/image (142).JPG\n",
      "{'box_2d': [10.9375, 95.3125, 89.0625, 1.5625]}\n",
      "ammended_dataset/preprocessed/test/Potato___healthy/image (63).JPG\n",
      "{'box_2d': [12.5, 94.5, 87.0, 5.0]}\n",
      "ammended_dataset/preprocessed/test/Potato___healthy/image (18).JPG\n",
      "{'box_2d': [2.5, 99.0, 98.5, 1.5]}\n",
      "ammended_dataset/preprocessed/test/Potato___healthy/image (42).JPG\n",
      "{'box_2d': [16.5, 93.5, 83.5, 6.5]}\n",
      "ammended_dataset/preprocessed/test/Potato___healthy/image (49).JPG\n",
      "{'box_2d': [9.5, 97.0, 90.0, 2.5]}\n",
      "ammended_dataset/preprocessed/test/Potato___healthy/image (152).JPG\n",
      "{'box_2d': [10.5, 95.0, 91.5, 2.5]}\n",
      "ammended_dataset/preprocessed/test/Potato___healthy/image (72).JPG\n",
      "{'box_2d': [2.8, 96.8, 97.2, 3.2]}\n",
      "ammended_dataset/preprocessed/train/Potato___healthy/61b05f0a-14bc-4c8f-a256-57c8b8898d8c___RS_HL 1769_90deg.JPG\n",
      "{'box_2d': [24.4, 94.7, 78.1, 4.8]}\n",
      "ammended_dataset/preprocessed/train/Potato___healthy/415ac4a2-8f16-4052-880e-1e1f208965f0___RS_HL 1884_newGRR.JPG\n",
      "{'box_2d': [11.0, 95.0, 89.0, 5.0]}\n",
      "ammended_dataset/preprocessed/train/Potato___healthy/b925ad3e-fc49-497d-a6eb-115f0de20800___RS_HL 4170_new200degFlipTB.JPG\n",
      "{'box_2d': [8.59375, 96.875, 92.96875, 5.078125]}\n",
      "ammended_dataset/preprocessed/train/Potato___healthy/43fd6ace-3712-494a-9aba-de5482d22561___RS_HL 1968_flipLR.JPG\n",
      "{'box_2d': [12.5, 94.5, 87.5, 5.5]}\n",
      "ammended_dataset/preprocessed/train/Potato___healthy/762672f4-17e6-4fd6-84f1-3bcb091b3ca5___RS_HL 5417_newGRR.JPG\n",
      "{'box_2d': [13.5, 91.5, 86.5, 9.5]}\n",
      "ammended_dataset/preprocessed/train/Potato___healthy/bb04f738-1848-4dda-8834-384a48b335cd___RS_HL 1765_new30degFlipTB.JPG\n",
      "{'box_2d': [9.765625, 96.6796875, 89.84375, 2.9296875]}\n",
      "ammended_dataset/preprocessed/train/Potato___healthy/c6abf1da-b06f-4cd2-8af6-d68be5eff6f9___RS_HL 1766_new30degFlipLR.JPG\n",
      "{'box_2d': [10.5, 98.0, 92.5, 2.5]}\n",
      "ammended_dataset/preprocessed/train/Potato___healthy/36bdc44c-96a4-40bb-86f7-63a91d706e96___RS_HL 4203_180deg.JPG\n",
      "{'box_2d': [4.44, 97.78, 96.89, 2.22]}\n",
      "ammended_dataset/preprocessed/train/Potato___healthy/1106c3fc-92cb-41a6-a6c6-8f08b9b45108___RS_HL 1914_new90degFlipLR.JPG\n",
      "{'box_2d': [10.22, 94.22, 89.78, 5.78]}\n",
      "ammended_dataset/preprocessed/train/Potato___healthy/9a6eb7c4-6b43-477a-89e0-69f62ef67991___RS_HL 1846_new200degFlipLR.JPG\n",
      "{'box_2d': [1.953125, 99.21875, 98.046875, 0.78125]}\n",
      "ammended_dataset/preprocessed/test/Soybean___healthy/image (844).JPG\n",
      "{'box_2d': [9.0, 88.0, 89.0, 4.0]}\n",
      "ammended_dataset/preprocessed/test/Soybean___healthy/image (389).JPG\n",
      "{'box_2d': [0.0, 100.0, 100.0, 0.0]}\n",
      "ammended_dataset/preprocessed/test/Soybean___healthy/image (1150).JPG\n",
      "{'box_2d': [3.125, 96.875, 98.4375, 1.953125]}\n",
      "ammended_dataset/preprocessed/test/Soybean___healthy/image (479).JPG\n",
      "{'box_2d': [12.5, 97.5, 87.5, 2.5]}\n",
      "ammended_dataset/preprocessed/test/Soybean___healthy/image (4816).JPG\n",
      "{'box_2d': [11.0, 95.0, 93.0, 6.0]}\n",
      "ammended_dataset/preprocessed/test/Soybean___healthy/image (953).JPG\n",
      "{'box_2d': [0.0, 100.0, 100.0, 0.0]}\n",
      "ammended_dataset/preprocessed/test/Soybean___healthy/image (4603).JPG\n",
      "{'box_2d': [8.5, 96.0, 92.5, 4.5]}\n",
      "ammended_dataset/preprocessed/test/Soybean___healthy/image (765).JPG\n",
      "{'box_2d': [0.0, 100.0, 100.0, 0.0]}\n",
      "ammended_dataset/preprocessed/test/Soybean___healthy/image (4541).JPG\n",
      "{'box_2d': [11.71875, 94.7265625, 92.7734375, 5.859375]}\n",
      "ammended_dataset/preprocessed/test/Soybean___healthy/image (3513).JPG\n",
      "{'box_2d': [17.5, 96.0, 82.5, 4.0]}\n",
      "ammended_dataset/preprocessed/train/Soybean___healthy/f6d5161e-05c5-431c-9625-425bf76d3f17___RS_HL 5659.JPG\n",
      "{'box_2d': [10.5, 97.0, 93.5, 4.5]}\n",
      "ammended_dataset/preprocessed/train/Soybean___healthy/9958f708-6915-46f8-965a-cfdea6a889df___RS_HL 2852.JPG\n",
      "{'box_2d': [4.5, 97.0, 92.5, 3.0]}\n",
      "ammended_dataset/preprocessed/train/Soybean___healthy/bb73c0f3-c62a-4264-8fb1-b930cce6b12c___RS_HL 5636.JPG\n",
      "{'box_2d': [10.0, 92.0, 91.0, 10.0]}\n",
      "ammended_dataset/preprocessed/train/Soybean___healthy/da4bd447-9483-4ccb-b181-3e6c5383e3b4___RS_HL 5163.JPG\n",
      "{'box_2d': [8.5, 97.5, 91.5, 1.2]}\n",
      "ammended_dataset/preprocessed/train/Soybean___healthy/b80880b2-246c-4777-a9f5-ad44f951cb97___RS_HL 3202.JPG\n",
      "{'box_2d': [11.8, 92.8, 89.2, 6.8]}\n",
      "ammended_dataset/preprocessed/train/Soybean___healthy/14078966-45b7-4230-812e-5b9f953fa022___RS_HL 2905.JPG\n",
      "{'box_2d': [1.5873015873015872, 98.80952380952381, 98.4126984126984, 1.1904761904761905]}\n",
      "ammended_dataset/preprocessed/train/Soybean___healthy/beccae9f-3e65-4e7b-9eb3-f9584cbdb89d___RS_HL 4627.JPG\n",
      "{'box_2d': [4.0, 98.0, 96.0, 2.0]}\n",
      "ammended_dataset/preprocessed/train/Soybean___healthy/a4bbfb63-3a9a-4d1e-88c7-e184e2a82951___RS_HL 3431.JPG\n",
      "{'box_2d': [7.0, 99.0, 93.0, 1.0]}\n",
      "ammended_dataset/preprocessed/train/Soybean___healthy/aef2974b-850d-4e57-96e8-9261b31d96d0___RS_HL 4762.JPG\n",
      "{'box_2d': [4.0, 98.0, 96.0, 2.0]}\n",
      "ammended_dataset/preprocessed/train/Soybean___healthy/a3f6f5e5-87d5-4b45-bd65-be37ae714648___RS_HL 7370.JPG\n"
     ]
    }
   ],
   "source": [
    "for cl in names:\n",
    "    for case in ['test', 'train']:\n",
    "        for img in os.listdir(f'ammended_dataset/preprocessed/{case}/{cl}'):\n",
    "            process_image(f'ammended_dataset/preprocessed/{case}/{cl}/{img}', f'ammended_dataset/processed/{case}/{cl}')\n"
   ]
  },
  {
   "cell_type": "markdown",
   "metadata": {},
   "source": [
    "## 4 - Disease Classification\n",
    "\n",
    "### Code\n",
    "The first step is to create the training and testing datasets, which is used by first turning them into structured JSONs and then into a pandas dataframe. For analysis purposes, I have done this process on both the processed (object detected) data and the unprocessed data before the object detection process."
   ]
  },
  {
   "cell_type": "code",
   "execution_count": 4,
   "metadata": {},
   "outputs": [],
   "source": [
    "train_images = []\n",
    "test_images = []\n",
    "for cl in os.listdir(\"ammended_dataset/processed/train\"):\n",
    "    if (cl != '.DS_Store'):\n",
    "        for img_path in os.listdir(f\"ammended_dataset/processed/train/{cl}\"):\n",
    "            train_images.append(\n",
    "                {\n",
    "                    \"image_path\" : str(f\"/Users/mariamelantably/Desktop/programs/vais internship/disease_project/ammended_dataset/processed/train/{cl}/{img_path}\"),\n",
    "                    \"class_id\":f\"class_{names.index(cl)}\",\n",
    "                    \"class_name\": cl\n",
    "                }\n",
    "            )\n",
    "\n",
    "for cl in os.listdir(\"ammended_dataset/processed/test\"):\n",
    "    if (cl != '.DS_Store'):\n",
    "        for img_path in os.listdir(f\"ammended_dataset/processed/test/{cl}\"):\n",
    "            test_images.append(\n",
    "                {\n",
    "                    \"image_path\" : str(f\"/Users/mariamelantably/Desktop/programs/vais internship/disease_project/ammended_dataset/processed/test/{cl}/{img_path}\"),\n",
    "                    \"class_id\":f\"class_{names.index(cl)}\",\n",
    "                    \"class_name\": cl\n",
    "                }\n",
    "            )\n",
    "\n",
    "random.shuffle(test_images)\n",
    "random.shuffle(train_images)\n",
    "    "
   ]
  },
  {
   "cell_type": "code",
   "execution_count": 5,
   "metadata": {},
   "outputs": [],
   "source": [
    "train_images_2 = []\n",
    "test_images_2 = []\n",
    "for cl in os.listdir(\"ammended_dataset/preprocessed/train\"):\n",
    "    if (cl != '.DS_Store'):\n",
    "        for img_path in os.listdir(f\"ammended_dataset/preprocessed/train/{cl}\"):\n",
    "            train_images_2.append(\n",
    "                {\n",
    "                    \"image_path\" : str(f\"/Users/mariamelantably/Desktop/programs/vais internship/disease_project/ammended_dataset/preprocessed/train/{cl}/{img_path}\"),\n",
    "                    \"class_id\":f\"class_{names.index(cl)}\",\n",
    "                    \"class_name\": cl\n",
    "                }\n",
    "            )\n",
    "\n",
    "for cl in os.listdir(\"ammended_dataset/preprocessed/test\"):\n",
    "    if (cl != '.DS_Store'):\n",
    "        for img_path in os.listdir(f\"ammended_dataset/preprocessed/test/{cl}\"):\n",
    "            test_images_2.append(\n",
    "                {\n",
    "                    \"image_path\" : str(f\"/Users/mariamelantably/Desktop/programs/vais internship/disease_project/ammended_dataset/preprocessed/test/{cl}/{img_path}\"),\n",
    "                    \"class_id\":f\"class_{names.index(cl)}\",\n",
    "                    \"class_name\": cl\n",
    "                }\n",
    "            )\n",
    "\n",
    "random.shuffle(test_images_2)\n",
    "random.shuffle(train_images_2)"
   ]
  },
  {
   "cell_type": "code",
   "execution_count": 6,
   "metadata": {},
   "outputs": [],
   "source": [
    "df_train = pd.DataFrame(train_images)\n",
    "df_test = pd.DataFrame(test_images)\n",
    "df_train_2 = pd.DataFrame(train_images_2)\n",
    "df_test_2 = pd.DataFrame(test_images_2)"
   ]
  },
  {
   "cell_type": "markdown",
   "metadata": {},
   "source": [
    "The next step involves creating the training message. This involves two steps, which are done once for training and once for testing:\n",
    "- Import the images for training, with their labels, using the google types directory to convert images into their byte forms. \n",
    "- Import the images for testing,  without labels, with the image ids that are used to identify it later in the output."
   ]
  },
  {
   "cell_type": "code",
   "execution_count": 7,
   "metadata": {},
   "outputs": [
    {
     "name": "stdout",
     "output_type": "stream",
     "text": [
      "Apple___Apple_scab done\n",
      "Apple___Black_rot done\n",
      "Apple___Cedar_apple_rust done\n",
      "Apple___healthy done\n",
      "Blueberry___healthy done\n",
      "Cherry___Powdery_mildew done\n",
      "Cherry___healthy done\n",
      "Corn___Cercospora_leaf_spot Gray_leaf_spot done\n",
      "Corn___Common_rust done\n",
      "Corn___Northern_Leaf_Blight done\n",
      "Corn___healthy done\n",
      "Grape___Black_rot done\n",
      "Grape___Esca_Black_Measles done\n",
      "Grape___Leaf_blight_Isariopsis_Leaf_Spot done\n",
      "Grape___healthy done\n",
      "Orange___Haunglongbing_Citrus_greening done\n",
      "Peach___Bacterial_spot done\n",
      "Peach___healthy done\n",
      "Pepper_bell___Bacterial_spot done\n",
      "Pepper_bell___healthy done\n",
      "Potato___Early_blight done\n",
      "Potato___Late_blight done\n",
      "Potato___healthy done\n",
      "Raspberry___healthy done\n",
      "Soybean___healthy done\n",
      "Squash___Powdery_mildew done\n",
      "Strawberry___Leaf_scorch done\n",
      "Strawberry___healthy done\n",
      "Tomato___Bacterial_spot done\n",
      "Tomato___Early_blight done\n",
      "Tomato___Late_blight done\n",
      "Tomato___Leaf_Mold done\n",
      "Tomato___Septoria_leaf_spot done\n",
      "Tomato___Spider_mites_Two_spotted_spider_mite done\n",
      "Tomato___Target_Spot done\n",
      "Tomato___Tomato_Yellow_Leaf_Curl_Virus done\n",
      "Tomato___Tomato_mosaic_virus done\n",
      "Tomato___healthy done\n"
     ]
    }
   ],
   "source": [
    "messages_train = ['Possible labels:']\n",
    "grouped = df_train.groupby('class_name')\n",
    "for class_id, group in grouped:\n",
    "    for _, row in group.iterrows():\n",
    "        image_new = open(row[\"image_path\"], \"rb\").read()\n",
    "        base64_image = types.Part.from_bytes(data=image_new, mime_type=\"image/jpeg\")\n",
    "        messages_train.append(base64_image)\n",
    "    print(f\"{class_id} done\")\n",
    "    messages_train.append(f\"label: {class_id}\")"
   ]
  },
  {
   "cell_type": "code",
   "execution_count": 8,
   "metadata": {},
   "outputs": [
    {
     "name": "stdout",
     "output_type": "stream",
     "text": [
      "/Users/mariamelantably/Desktop/programs/vais internship/disease_project/ammended_dataset/processed/test/Tomato___Early_blight/image (286).JPG done\n",
      "/Users/mariamelantably/Desktop/programs/vais internship/disease_project/ammended_dataset/processed/test/Apple___Black_rot/image (617).JPG done\n",
      "/Users/mariamelantably/Desktop/programs/vais internship/disease_project/ammended_dataset/processed/test/Peach___healthy/image (44).JPG done\n",
      "/Users/mariamelantably/Desktop/programs/vais internship/disease_project/ammended_dataset/processed/test/Peach___healthy/image (211).JPG done\n",
      "/Users/mariamelantably/Desktop/programs/vais internship/disease_project/ammended_dataset/processed/test/Corn___Common_rust/image (868).JPG done\n",
      "/Users/mariamelantably/Desktop/programs/vais internship/disease_project/ammended_dataset/processed/test/Tomato___Early_blight/image (662).JPG done\n",
      "/Users/mariamelantably/Desktop/programs/vais internship/disease_project/ammended_dataset/processed/test/Tomato___Late_blight/image (119).JPG done\n",
      "/Users/mariamelantably/Desktop/programs/vais internship/disease_project/ammended_dataset/processed/test/Peach___Bacterial_spot/image (187).JPG done\n",
      "/Users/mariamelantably/Desktop/programs/vais internship/disease_project/ammended_dataset/processed/test/Tomato___Tomato_mosaic_virus/image (175).JPG done\n",
      "/Users/mariamelantably/Desktop/programs/vais internship/disease_project/ammended_dataset/processed/test/Potato___healthy/image (142).JPG done\n",
      "/Users/mariamelantably/Desktop/programs/vais internship/disease_project/ammended_dataset/processed/test/Grape___Leaf_blight_Isariopsis_Leaf_Spot/image (941).JPG done\n",
      "/Users/mariamelantably/Desktop/programs/vais internship/disease_project/ammended_dataset/processed/test/Pepper_bell___healthy/image (773).JPG done\n",
      "/Users/mariamelantably/Desktop/programs/vais internship/disease_project/ammended_dataset/processed/test/Corn___Common_rust/image (690).JPG done\n",
      "/Users/mariamelantably/Desktop/programs/vais internship/disease_project/ammended_dataset/processed/test/Cherry___Powdery_mildew/image (842).JPG done\n",
      "/Users/mariamelantably/Desktop/programs/vais internship/disease_project/ammended_dataset/processed/test/Corn___Northern_Leaf_Blight/image (300).JPG done\n",
      "/Users/mariamelantably/Desktop/programs/vais internship/disease_project/ammended_dataset/processed/test/Tomato___Tomato_mosaic_virus/image (318).JPG done\n",
      "/Users/mariamelantably/Desktop/programs/vais internship/disease_project/ammended_dataset/processed/test/Cherry___healthy/image (783).JPG done\n",
      "/Users/mariamelantably/Desktop/programs/vais internship/disease_project/ammended_dataset/processed/test/Tomato___Spider_mites_Two_spotted_spider_mite/image (1590).JPG done\n",
      "/Users/mariamelantably/Desktop/programs/vais internship/disease_project/ammended_dataset/processed/test/Blueberry___healthy/image (1300).JPG done\n",
      "/Users/mariamelantably/Desktop/programs/vais internship/disease_project/ammended_dataset/processed/test/Blueberry___healthy/image (234).JPG done\n",
      "/Users/mariamelantably/Desktop/programs/vais internship/disease_project/ammended_dataset/processed/test/Tomato___Septoria_leaf_spot/image (242).JPG done\n",
      "/Users/mariamelantably/Desktop/programs/vais internship/disease_project/ammended_dataset/processed/test/Tomato___Tomato_mosaic_virus/image (163).JPG done\n",
      "/Users/mariamelantably/Desktop/programs/vais internship/disease_project/ammended_dataset/processed/test/Soybean___healthy/image (765).JPG done\n",
      "/Users/mariamelantably/Desktop/programs/vais internship/disease_project/ammended_dataset/processed/test/Tomato___Leaf_Mold/image (931).JPG done\n",
      "/Users/mariamelantably/Desktop/programs/vais internship/disease_project/ammended_dataset/processed/test/Tomato___Tomato_mosaic_virus/image (277).JPG done\n",
      "/Users/mariamelantably/Desktop/programs/vais internship/disease_project/ammended_dataset/processed/test/Raspberry___healthy/image (184).JPG done\n",
      "/Users/mariamelantably/Desktop/programs/vais internship/disease_project/ammended_dataset/processed/test/Corn___Common_rust/image (968).JPG done\n",
      "/Users/mariamelantably/Desktop/programs/vais internship/disease_project/ammended_dataset/processed/test/Cherry___Powdery_mildew/image (145).JPG done\n",
      "/Users/mariamelantably/Desktop/programs/vais internship/disease_project/ammended_dataset/processed/test/Tomato___Septoria_leaf_spot/image (299).JPG done\n",
      "/Users/mariamelantably/Desktop/programs/vais internship/disease_project/ammended_dataset/processed/test/Tomato___Bacterial_spot/image (981).JPG done\n",
      "/Users/mariamelantably/Desktop/programs/vais internship/disease_project/ammended_dataset/processed/test/Peach___healthy/image (75).JPG done\n",
      "/Users/mariamelantably/Desktop/programs/vais internship/disease_project/ammended_dataset/processed/test/Strawberry___Leaf_scorch/image (922).JPG done\n",
      "/Users/mariamelantably/Desktop/programs/vais internship/disease_project/ammended_dataset/processed/test/Tomato___Bacterial_spot/image (1737).JPG done\n",
      "/Users/mariamelantably/Desktop/programs/vais internship/disease_project/ammended_dataset/processed/test/Peach___Bacterial_spot/image (1489).JPG done\n",
      "/Users/mariamelantably/Desktop/programs/vais internship/disease_project/ammended_dataset/processed/test/Grape___Leaf_blight_Isariopsis_Leaf_Spot/image (519).JPG done\n",
      "/Users/mariamelantably/Desktop/programs/vais internship/disease_project/ammended_dataset/processed/test/Cherry___healthy/image (596).JPG done\n",
      "/Users/mariamelantably/Desktop/programs/vais internship/disease_project/ammended_dataset/processed/test/Strawberry___Leaf_scorch/image (682).JPG done\n",
      "/Users/mariamelantably/Desktop/programs/vais internship/disease_project/ammended_dataset/processed/test/Tomato___Target_Spot/image (624).JPG done\n",
      "/Users/mariamelantably/Desktop/programs/vais internship/disease_project/ammended_dataset/processed/test/Apple___Cedar_apple_rust/image (74).JPG done\n",
      "/Users/mariamelantably/Desktop/programs/vais internship/disease_project/ammended_dataset/processed/test/Soybean___healthy/image (4603).JPG done\n",
      "/Users/mariamelantably/Desktop/programs/vais internship/disease_project/ammended_dataset/processed/test/Apple___Apple_scab/image (23).JPG done\n",
      "/Users/mariamelantably/Desktop/programs/vais internship/disease_project/ammended_dataset/processed/test/Blueberry___healthy/image (50).JPG done\n",
      "/Users/mariamelantably/Desktop/programs/vais internship/disease_project/ammended_dataset/processed/test/Apple___healthy/image (1432).JPG done\n",
      "/Users/mariamelantably/Desktop/programs/vais internship/disease_project/ammended_dataset/processed/test/Apple___Cedar_apple_rust/image (165).JPG done\n",
      "/Users/mariamelantably/Desktop/programs/vais internship/disease_project/ammended_dataset/processed/test/Corn___Northern_Leaf_Blight/image (255).JPG done\n",
      "/Users/mariamelantably/Desktop/programs/vais internship/disease_project/ammended_dataset/processed/test/Corn___Northern_Leaf_Blight/image (982).jpg done\n",
      "/Users/mariamelantably/Desktop/programs/vais internship/disease_project/ammended_dataset/processed/test/Tomato___Spider_mites_Two_spotted_spider_mite/image (1308).JPG done\n",
      "/Users/mariamelantably/Desktop/programs/vais internship/disease_project/ammended_dataset/processed/test/Cherry___healthy/image (817).JPG done\n",
      "/Users/mariamelantably/Desktop/programs/vais internship/disease_project/ammended_dataset/processed/test/Corn___Cercospora_leaf_spot Gray_leaf_spot/image (14).JPG done\n",
      "/Users/mariamelantably/Desktop/programs/vais internship/disease_project/ammended_dataset/processed/test/Corn___Common_rust/image (393).JPG done\n",
      "/Users/mariamelantably/Desktop/programs/vais internship/disease_project/ammended_dataset/processed/test/Tomato___Tomato_mosaic_virus/image (215).JPG done\n",
      "/Users/mariamelantably/Desktop/programs/vais internship/disease_project/ammended_dataset/processed/test/Tomato___Late_blight/image (1807).JPG done\n",
      "/Users/mariamelantably/Desktop/programs/vais internship/disease_project/ammended_dataset/processed/test/Apple___Cedar_apple_rust/image (5).JPG done\n",
      "/Users/mariamelantably/Desktop/programs/vais internship/disease_project/ammended_dataset/processed/test/Blueberry___healthy/image (245).JPG done\n",
      "/Users/mariamelantably/Desktop/programs/vais internship/disease_project/ammended_dataset/processed/test/Apple___Black_rot/image (165).JPG done\n",
      "/Users/mariamelantably/Desktop/programs/vais internship/disease_project/ammended_dataset/processed/test/Soybean___healthy/image (844).JPG done\n",
      "/Users/mariamelantably/Desktop/programs/vais internship/disease_project/ammended_dataset/processed/test/Tomato___Bacterial_spot/image (558).JPG done\n",
      "/Users/mariamelantably/Desktop/programs/vais internship/disease_project/ammended_dataset/processed/test/Strawberry___healthy/image (366).JPG done\n",
      "/Users/mariamelantably/Desktop/programs/vais internship/disease_project/ammended_dataset/processed/test/Orange___Haunglongbing_Citrus_greening/image (3856).JPG done\n",
      "/Users/mariamelantably/Desktop/programs/vais internship/disease_project/ammended_dataset/processed/test/Grape___Black_rot/image (857).JPG done\n",
      "/Users/mariamelantably/Desktop/programs/vais internship/disease_project/ammended_dataset/processed/test/Tomato___Leaf_Mold/image (715).JPG done\n",
      "/Users/mariamelantably/Desktop/programs/vais internship/disease_project/ammended_dataset/processed/test/Tomato___healthy/image (853).JPG done\n",
      "/Users/mariamelantably/Desktop/programs/vais internship/disease_project/ammended_dataset/processed/test/Raspberry___healthy/image (360).JPG done\n",
      "/Users/mariamelantably/Desktop/programs/vais internship/disease_project/ammended_dataset/processed/test/Cherry___Powdery_mildew/image (14).JPG done\n",
      "/Users/mariamelantably/Desktop/programs/vais internship/disease_project/ammended_dataset/processed/test/Tomato___Target_Spot/image (212).JPG done\n",
      "/Users/mariamelantably/Desktop/programs/vais internship/disease_project/ammended_dataset/processed/test/Raspberry___healthy/image (183).JPG done\n",
      "/Users/mariamelantably/Desktop/programs/vais internship/disease_project/ammended_dataset/processed/test/Squash___Powdery_mildew/image (349).JPG done\n",
      "/Users/mariamelantably/Desktop/programs/vais internship/disease_project/ammended_dataset/processed/test/Strawberry___Leaf_scorch/image (810).JPG done\n",
      "/Users/mariamelantably/Desktop/programs/vais internship/disease_project/ammended_dataset/processed/test/Corn___Cercospora_leaf_spot Gray_leaf_spot/image (203).jpg done\n",
      "/Users/mariamelantably/Desktop/programs/vais internship/disease_project/ammended_dataset/processed/test/Potato___Late_blight/image (119).JPG done\n",
      "/Users/mariamelantably/Desktop/programs/vais internship/disease_project/ammended_dataset/processed/test/Strawberry___Leaf_scorch/image (1044).JPG done\n",
      "/Users/mariamelantably/Desktop/programs/vais internship/disease_project/ammended_dataset/processed/test/Tomato___Target_Spot/image (900).JPG done\n",
      "/Users/mariamelantably/Desktop/programs/vais internship/disease_project/ammended_dataset/processed/test/Orange___Haunglongbing_Citrus_greening/image (2806).JPG done\n",
      "/Users/mariamelantably/Desktop/programs/vais internship/disease_project/ammended_dataset/processed/test/Cherry___healthy/image (810).JPG done\n",
      "/Users/mariamelantably/Desktop/programs/vais internship/disease_project/ammended_dataset/processed/test/Grape___Black_rot/image (254).JPG done\n",
      "/Users/mariamelantably/Desktop/programs/vais internship/disease_project/ammended_dataset/processed/test/Potato___Early_blight/image (368).JPG done\n",
      "/Users/mariamelantably/Desktop/programs/vais internship/disease_project/ammended_dataset/processed/test/Apple___Apple_scab/image (137).JPG done\n",
      "/Users/mariamelantably/Desktop/programs/vais internship/disease_project/ammended_dataset/processed/test/Soybean___healthy/image (953).JPG done\n",
      "/Users/mariamelantably/Desktop/programs/vais internship/disease_project/ammended_dataset/processed/test/Orange___Haunglongbing_Citrus_greening/image (412).JPG done\n",
      "/Users/mariamelantably/Desktop/programs/vais internship/disease_project/ammended_dataset/processed/test/Tomato___healthy/image (589).JPG done\n",
      "/Users/mariamelantably/Desktop/programs/vais internship/disease_project/ammended_dataset/processed/test/Blueberry___healthy/image (790).JPG done\n",
      "/Users/mariamelantably/Desktop/programs/vais internship/disease_project/ammended_dataset/processed/test/Pepper_bell___healthy/image (766).JPG done\n",
      "/Users/mariamelantably/Desktop/programs/vais internship/disease_project/ammended_dataset/processed/test/Corn___Cercospora_leaf_spot Gray_leaf_spot/image (475).jpg done\n",
      "/Users/mariamelantably/Desktop/programs/vais internship/disease_project/ammended_dataset/processed/test/Soybean___healthy/image (1150).JPG done\n",
      "/Users/mariamelantably/Desktop/programs/vais internship/disease_project/ammended_dataset/processed/test/Peach___healthy/image (55).JPG done\n",
      "/Users/mariamelantably/Desktop/programs/vais internship/disease_project/ammended_dataset/processed/test/Tomato___Target_Spot/image (607).JPG done\n",
      "/Users/mariamelantably/Desktop/programs/vais internship/disease_project/ammended_dataset/processed/test/Tomato___Early_blight/image (111).JPG done\n",
      "/Users/mariamelantably/Desktop/programs/vais internship/disease_project/ammended_dataset/processed/test/Tomato___Septoria_leaf_spot/image (1663).JPG done\n",
      "/Users/mariamelantably/Desktop/programs/vais internship/disease_project/ammended_dataset/processed/test/Pepper_bell___Bacterial_spot/image (228).JPG done\n",
      "/Users/mariamelantably/Desktop/programs/vais internship/disease_project/ammended_dataset/processed/test/Pepper_bell___Bacterial_spot/image (828).JPG done\n",
      "/Users/mariamelantably/Desktop/programs/vais internship/disease_project/ammended_dataset/processed/test/Tomato___Bacterial_spot/image (769).JPG done\n",
      "/Users/mariamelantably/Desktop/programs/vais internship/disease_project/ammended_dataset/processed/test/Potato___Late_blight/image (174).JPG done\n",
      "/Users/mariamelantably/Desktop/programs/vais internship/disease_project/ammended_dataset/processed/test/Tomato___Target_Spot/image (871).JPG done\n",
      "/Users/mariamelantably/Desktop/programs/vais internship/disease_project/ammended_dataset/processed/test/Potato___healthy/image (42).JPG done\n",
      "/Users/mariamelantably/Desktop/programs/vais internship/disease_project/ammended_dataset/processed/test/Cherry___Powdery_mildew/image (243).JPG done\n",
      "/Users/mariamelantably/Desktop/programs/vais internship/disease_project/ammended_dataset/processed/test/Squash___Powdery_mildew/image (479).JPG done\n",
      "/Users/mariamelantably/Desktop/programs/vais internship/disease_project/ammended_dataset/processed/test/Peach___Bacterial_spot/image (484).JPG done\n",
      "/Users/mariamelantably/Desktop/programs/vais internship/disease_project/ammended_dataset/processed/test/Apple___healthy/image (837).JPG done\n",
      "/Users/mariamelantably/Desktop/programs/vais internship/disease_project/ammended_dataset/processed/test/Apple___healthy/image (867).JPG done\n",
      "/Users/mariamelantably/Desktop/programs/vais internship/disease_project/ammended_dataset/processed/test/Grape___healthy/image (162).JPG done\n",
      "/Users/mariamelantably/Desktop/programs/vais internship/disease_project/ammended_dataset/processed/test/Apple___Cedar_apple_rust/image (145).JPG done\n",
      "/Users/mariamelantably/Desktop/programs/vais internship/disease_project/ammended_dataset/processed/test/Pepper_bell___healthy/image (1309).JPG done\n",
      "/Users/mariamelantably/Desktop/programs/vais internship/disease_project/ammended_dataset/processed/test/Tomato___Early_blight/image (628).JPG done\n",
      "/Users/mariamelantably/Desktop/programs/vais internship/disease_project/ammended_dataset/processed/test/Potato___Early_blight/image (183).JPG done\n",
      "/Users/mariamelantably/Desktop/programs/vais internship/disease_project/ammended_dataset/processed/test/Squash___Powdery_mildew/image (1070).JPG done\n",
      "/Users/mariamelantably/Desktop/programs/vais internship/disease_project/ammended_dataset/processed/test/Peach___Bacterial_spot/image (791).JPG done\n",
      "/Users/mariamelantably/Desktop/programs/vais internship/disease_project/ammended_dataset/processed/test/Apple___Cedar_apple_rust/image (272).JPG done\n",
      "/Users/mariamelantably/Desktop/programs/vais internship/disease_project/ammended_dataset/processed/test/Cherry___Powdery_mildew/image (964).JPG done\n",
      "/Users/mariamelantably/Desktop/programs/vais internship/disease_project/ammended_dataset/processed/test/Corn___Cercospora_leaf_spot Gray_leaf_spot/image (125).JPG done\n",
      "/Users/mariamelantably/Desktop/programs/vais internship/disease_project/ammended_dataset/processed/test/Corn___Cercospora_leaf_spot Gray_leaf_spot/image (391).JPG done\n",
      "/Users/mariamelantably/Desktop/programs/vais internship/disease_project/ammended_dataset/processed/test/Apple___healthy/image (303).JPG done\n",
      "/Users/mariamelantably/Desktop/programs/vais internship/disease_project/ammended_dataset/processed/test/Corn___healthy/image (929).jpg done\n",
      "/Users/mariamelantably/Desktop/programs/vais internship/disease_project/ammended_dataset/processed/test/Grape___Black_rot/image (206).JPG done\n",
      "/Users/mariamelantably/Desktop/programs/vais internship/disease_project/ammended_dataset/processed/test/Tomato___Late_blight/image (45).JPG done\n",
      "/Users/mariamelantably/Desktop/programs/vais internship/disease_project/ammended_dataset/processed/test/Squash___Powdery_mildew/image (638).JPG done\n",
      "/Users/mariamelantably/Desktop/programs/vais internship/disease_project/ammended_dataset/processed/test/Pepper_bell___healthy/image (1011).JPG done\n",
      "/Users/mariamelantably/Desktop/programs/vais internship/disease_project/ammended_dataset/processed/test/Apple___Black_rot/image (613).JPG done\n",
      "/Users/mariamelantably/Desktop/programs/vais internship/disease_project/ammended_dataset/processed/test/Blueberry___healthy/image (491).JPG done\n",
      "/Users/mariamelantably/Desktop/programs/vais internship/disease_project/ammended_dataset/processed/test/Corn___Common_rust/image (318).JPG done\n",
      "/Users/mariamelantably/Desktop/programs/vais internship/disease_project/ammended_dataset/processed/test/Apple___Cedar_apple_rust/image (156).JPG done\n",
      "/Users/mariamelantably/Desktop/programs/vais internship/disease_project/ammended_dataset/processed/test/Strawberry___healthy/image (245).JPG done\n",
      "/Users/mariamelantably/Desktop/programs/vais internship/disease_project/ammended_dataset/processed/test/Tomato___healthy/image (1252).JPG done\n",
      "/Users/mariamelantably/Desktop/programs/vais internship/disease_project/ammended_dataset/processed/test/Tomato___Tomato_Yellow_Leaf_Curl_Virus/image (2027).JPG done\n",
      "/Users/mariamelantably/Desktop/programs/vais internship/disease_project/ammended_dataset/processed/test/Corn___Cercospora_leaf_spot Gray_leaf_spot/image (446).JPG done\n",
      "/Users/mariamelantably/Desktop/programs/vais internship/disease_project/ammended_dataset/processed/test/Apple___healthy/image (1447).JPG done\n",
      "/Users/mariamelantably/Desktop/programs/vais internship/disease_project/ammended_dataset/processed/test/Apple___Black_rot/image (59).JPG done\n",
      "/Users/mariamelantably/Desktop/programs/vais internship/disease_project/ammended_dataset/processed/test/Cherry___healthy/image (807).JPG done\n",
      "/Users/mariamelantably/Desktop/programs/vais internship/disease_project/ammended_dataset/processed/test/Tomato___Spider_mites_Two_spotted_spider_mite/image (378).JPG done\n",
      "/Users/mariamelantably/Desktop/programs/vais internship/disease_project/ammended_dataset/processed/test/Tomato___Early_blight/image (698).JPG done\n",
      "/Users/mariamelantably/Desktop/programs/vais internship/disease_project/ammended_dataset/processed/test/Tomato___Septoria_leaf_spot/image (1192).JPG done\n",
      "/Users/mariamelantably/Desktop/programs/vais internship/disease_project/ammended_dataset/processed/test/Tomato___Tomato_mosaic_virus/image (162).JPG done\n",
      "/Users/mariamelantably/Desktop/programs/vais internship/disease_project/ammended_dataset/processed/test/Potato___Late_blight/image (204).JPG done\n",
      "/Users/mariamelantably/Desktop/programs/vais internship/disease_project/ammended_dataset/processed/test/Strawberry___healthy/image (428).JPG done\n",
      "/Users/mariamelantably/Desktop/programs/vais internship/disease_project/ammended_dataset/processed/test/Corn___healthy/image (1159).jpg done\n",
      "/Users/mariamelantably/Desktop/programs/vais internship/disease_project/ammended_dataset/processed/test/Peach___healthy/image (274).JPG done\n",
      "/Users/mariamelantably/Desktop/programs/vais internship/disease_project/ammended_dataset/processed/test/Corn___Northern_Leaf_Blight/image (85).JPG done\n",
      "/Users/mariamelantably/Desktop/programs/vais internship/disease_project/ammended_dataset/processed/test/Tomato___Tomato_mosaic_virus/image (281).JPG done\n",
      "/Users/mariamelantably/Desktop/programs/vais internship/disease_project/ammended_dataset/processed/test/Peach___Bacterial_spot/image (97).JPG done\n",
      "/Users/mariamelantably/Desktop/programs/vais internship/disease_project/ammended_dataset/processed/test/Apple___Apple_scab/image (256).JPG done\n",
      "/Users/mariamelantably/Desktop/programs/vais internship/disease_project/ammended_dataset/processed/test/Tomato___Target_Spot/image (122).JPG done\n",
      "/Users/mariamelantably/Desktop/programs/vais internship/disease_project/ammended_dataset/processed/test/Tomato___Bacterial_spot/image (246).JPG done\n",
      "/Users/mariamelantably/Desktop/programs/vais internship/disease_project/ammended_dataset/processed/test/Tomato___Spider_mites_Two_spotted_spider_mite/image (1516).JPG done\n",
      "/Users/mariamelantably/Desktop/programs/vais internship/disease_project/ammended_dataset/processed/test/Squash___Powdery_mildew/image (29).JPG done\n",
      "/Users/mariamelantably/Desktop/programs/vais internship/disease_project/ammended_dataset/processed/test/Apple___Cedar_apple_rust/image (15).JPG done\n",
      "/Users/mariamelantably/Desktop/programs/vais internship/disease_project/ammended_dataset/processed/test/Apple___Black_rot/image (345).JPG done\n",
      "/Users/mariamelantably/Desktop/programs/vais internship/disease_project/ammended_dataset/processed/test/Soybean___healthy/image (389).JPG done\n",
      "/Users/mariamelantably/Desktop/programs/vais internship/disease_project/ammended_dataset/processed/test/Tomato___Target_Spot/image (356).JPG done\n",
      "/Users/mariamelantably/Desktop/programs/vais internship/disease_project/ammended_dataset/processed/test/Grape___Esca_Black_Measles/image (1291).JPG done\n",
      "/Users/mariamelantably/Desktop/programs/vais internship/disease_project/ammended_dataset/processed/test/Tomato___Bacterial_spot/image (1491).JPG done\n",
      "/Users/mariamelantably/Desktop/programs/vais internship/disease_project/ammended_dataset/processed/test/Apple___Black_rot/image (342).JPG done\n",
      "/Users/mariamelantably/Desktop/programs/vais internship/disease_project/ammended_dataset/processed/test/Peach___Bacterial_spot/image (972).JPG done\n",
      "/Users/mariamelantably/Desktop/programs/vais internship/disease_project/ammended_dataset/processed/test/Tomato___Early_blight/image (115).JPG done\n",
      "/Users/mariamelantably/Desktop/programs/vais internship/disease_project/ammended_dataset/processed/test/Apple___Black_rot/image (583).JPG done\n",
      "/Users/mariamelantably/Desktop/programs/vais internship/disease_project/ammended_dataset/processed/test/Tomato___Early_blight/image (753).JPG done\n",
      "/Users/mariamelantably/Desktop/programs/vais internship/disease_project/ammended_dataset/processed/test/Corn___Cercospora_leaf_spot Gray_leaf_spot/image (420).JPG done\n",
      "/Users/mariamelantably/Desktop/programs/vais internship/disease_project/ammended_dataset/processed/test/Tomato___Tomato_Yellow_Leaf_Curl_Virus/image (2952).JPG done\n",
      "/Users/mariamelantably/Desktop/programs/vais internship/disease_project/ammended_dataset/processed/test/Grape___Leaf_blight_Isariopsis_Leaf_Spot/image (946).JPG done\n",
      "/Users/mariamelantably/Desktop/programs/vais internship/disease_project/ammended_dataset/processed/test/Potato___Early_blight/image (207).JPG done\n",
      "/Users/mariamelantably/Desktop/programs/vais internship/disease_project/ammended_dataset/processed/test/Raspberry___healthy/image (303).JPG done\n",
      "/Users/mariamelantably/Desktop/programs/vais internship/disease_project/ammended_dataset/processed/test/Apple___Apple_scab/image (477).JPG done\n",
      "/Users/mariamelantably/Desktop/programs/vais internship/disease_project/ammended_dataset/processed/test/Tomato___Late_blight/image (410).JPG done\n",
      "/Users/mariamelantably/Desktop/programs/vais internship/disease_project/ammended_dataset/processed/test/Pepper_bell___Bacterial_spot/image (849).JPG done\n",
      "/Users/mariamelantably/Desktop/programs/vais internship/disease_project/ammended_dataset/processed/test/Apple___Apple_scab/image (220).JPG done\n",
      "/Users/mariamelantably/Desktop/programs/vais internship/disease_project/ammended_dataset/processed/test/Tomato___Early_blight/image (916).JPG done\n",
      "/Users/mariamelantably/Desktop/programs/vais internship/disease_project/ammended_dataset/processed/test/Grape___healthy/image (182).JPG done\n",
      "/Users/mariamelantably/Desktop/programs/vais internship/disease_project/ammended_dataset/processed/test/Potato___healthy/image (63).JPG done\n",
      "/Users/mariamelantably/Desktop/programs/vais internship/disease_project/ammended_dataset/processed/test/Tomato___Tomato_Yellow_Leaf_Curl_Virus/image (921).JPG done\n",
      "/Users/mariamelantably/Desktop/programs/vais internship/disease_project/ammended_dataset/processed/test/Tomato___Target_Spot/image (446).JPG done\n",
      "/Users/mariamelantably/Desktop/programs/vais internship/disease_project/ammended_dataset/processed/test/Corn___healthy/image (528).jpg done\n",
      "/Users/mariamelantably/Desktop/programs/vais internship/disease_project/ammended_dataset/processed/test/Tomato___Late_blight/image (335).JPG done\n",
      "/Users/mariamelantably/Desktop/programs/vais internship/disease_project/ammended_dataset/processed/test/Tomato___Bacterial_spot/image (2123).JPG done\n",
      "/Users/mariamelantably/Desktop/programs/vais internship/disease_project/ammended_dataset/processed/test/Apple___healthy/image (538).JPG done\n",
      "/Users/mariamelantably/Desktop/programs/vais internship/disease_project/ammended_dataset/processed/test/Pepper_bell___Bacterial_spot/image (92).JPG done\n",
      "/Users/mariamelantably/Desktop/programs/vais internship/disease_project/ammended_dataset/processed/test/Apple___healthy/image (302).JPG done\n",
      "/Users/mariamelantably/Desktop/programs/vais internship/disease_project/ammended_dataset/processed/test/Grape___Esca_Black_Measles/image (79).JPG done\n",
      "/Users/mariamelantably/Desktop/programs/vais internship/disease_project/ammended_dataset/processed/test/Apple___Cedar_apple_rust/image (91).JPG done\n",
      "/Users/mariamelantably/Desktop/programs/vais internship/disease_project/ammended_dataset/processed/test/Tomato___Tomato_mosaic_virus/image (362).JPG done\n",
      "/Users/mariamelantably/Desktop/programs/vais internship/disease_project/ammended_dataset/processed/test/Orange___Haunglongbing_Citrus_greening/image (1235).JPG done\n",
      "/Users/mariamelantably/Desktop/programs/vais internship/disease_project/ammended_dataset/processed/test/Strawberry___Leaf_scorch/image (983).JPG done\n",
      "/Users/mariamelantably/Desktop/programs/vais internship/disease_project/ammended_dataset/processed/test/Tomato___Bacterial_spot/image (379).JPG done\n",
      "/Users/mariamelantably/Desktop/programs/vais internship/disease_project/ammended_dataset/processed/test/Tomato___Late_blight/image (382).JPG done\n",
      "/Users/mariamelantably/Desktop/programs/vais internship/disease_project/ammended_dataset/processed/test/Apple___healthy/image (691).JPG done\n",
      "/Users/mariamelantably/Desktop/programs/vais internship/disease_project/ammended_dataset/processed/test/Grape___Leaf_blight_Isariopsis_Leaf_Spot/image (806).JPG done\n",
      "/Users/mariamelantably/Desktop/programs/vais internship/disease_project/ammended_dataset/processed/test/Strawberry___Leaf_scorch/image (534).JPG done\n",
      "/Users/mariamelantably/Desktop/programs/vais internship/disease_project/ammended_dataset/processed/test/Pepper_bell___healthy/image (581).JPG done\n",
      "/Users/mariamelantably/Desktop/programs/vais internship/disease_project/ammended_dataset/processed/test/Potato___Early_blight/image (697).JPG done\n",
      "/Users/mariamelantably/Desktop/programs/vais internship/disease_project/ammended_dataset/processed/test/Pepper_bell___Bacterial_spot/image (644).JPG done\n",
      "/Users/mariamelantably/Desktop/programs/vais internship/disease_project/ammended_dataset/processed/test/Tomato___Spider_mites_Two_spotted_spider_mite/image (676).JPG done\n",
      "/Users/mariamelantably/Desktop/programs/vais internship/disease_project/ammended_dataset/processed/test/Peach___healthy/image (102).JPG done\n",
      "/Users/mariamelantably/Desktop/programs/vais internship/disease_project/ammended_dataset/processed/test/Peach___healthy/image (110).JPG done\n",
      "/Users/mariamelantably/Desktop/programs/vais internship/disease_project/ammended_dataset/processed/test/Tomato___Septoria_leaf_spot/image (1609).JPG done\n",
      "/Users/mariamelantably/Desktop/programs/vais internship/disease_project/ammended_dataset/processed/test/Corn___Common_rust/image (100).JPG done\n",
      "/Users/mariamelantably/Desktop/programs/vais internship/disease_project/ammended_dataset/processed/test/Tomato___Late_blight/image (660).JPG done\n",
      "/Users/mariamelantably/Desktop/programs/vais internship/disease_project/ammended_dataset/processed/test/Grape___healthy/image (366).JPG done\n",
      "/Users/mariamelantably/Desktop/programs/vais internship/disease_project/ammended_dataset/processed/test/Apple___Black_rot/image (352).JPG done\n",
      "/Users/mariamelantably/Desktop/programs/vais internship/disease_project/ammended_dataset/processed/test/Cherry___healthy/image (108).JPG done\n",
      "/Users/mariamelantably/Desktop/programs/vais internship/disease_project/ammended_dataset/processed/test/Tomato___Septoria_leaf_spot/image (302).JPG done\n",
      "/Users/mariamelantably/Desktop/programs/vais internship/disease_project/ammended_dataset/processed/test/Pepper_bell___Bacterial_spot/image (790).JPG done\n",
      "/Users/mariamelantably/Desktop/programs/vais internship/disease_project/ammended_dataset/processed/test/Corn___Common_rust/image (342).JPG done\n",
      "/Users/mariamelantably/Desktop/programs/vais internship/disease_project/ammended_dataset/processed/test/Potato___healthy/image (72).JPG done\n",
      "/Users/mariamelantably/Desktop/programs/vais internship/disease_project/ammended_dataset/processed/test/Tomato___Tomato_mosaic_virus/image (53).JPG done\n",
      "/Users/mariamelantably/Desktop/programs/vais internship/disease_project/ammended_dataset/processed/test/Tomato___Spider_mites_Two_spotted_spider_mite/image (322).JPG done\n",
      "/Users/mariamelantably/Desktop/programs/vais internship/disease_project/ammended_dataset/processed/test/Tomato___Leaf_Mold/image (410).JPG done\n",
      "/Users/mariamelantably/Desktop/programs/vais internship/disease_project/ammended_dataset/processed/test/Potato___healthy/image (79).JPG done\n",
      "/Users/mariamelantably/Desktop/programs/vais internship/disease_project/ammended_dataset/processed/test/Raspberry___healthy/image (110).JPG done\n",
      "/Users/mariamelantably/Desktop/programs/vais internship/disease_project/ammended_dataset/processed/test/Strawberry___Leaf_scorch/image (190).JPG done\n",
      "/Users/mariamelantably/Desktop/programs/vais internship/disease_project/ammended_dataset/processed/test/Potato___Late_blight/image (161).JPG done\n",
      "/Users/mariamelantably/Desktop/programs/vais internship/disease_project/ammended_dataset/processed/test/Cherry___Powdery_mildew/image (939).JPG done\n",
      "/Users/mariamelantably/Desktop/programs/vais internship/disease_project/ammended_dataset/processed/test/Corn___Common_rust/image (5).JPG done\n",
      "/Users/mariamelantably/Desktop/programs/vais internship/disease_project/ammended_dataset/processed/test/Strawberry___healthy/image (171).JPG done\n",
      "/Users/mariamelantably/Desktop/programs/vais internship/disease_project/ammended_dataset/processed/test/Potato___Early_blight/image (823).JPG done\n",
      "/Users/mariamelantably/Desktop/programs/vais internship/disease_project/ammended_dataset/processed/test/Tomato___Leaf_Mold/image (895).JPG done\n",
      "/Users/mariamelantably/Desktop/programs/vais internship/disease_project/ammended_dataset/processed/test/Raspberry___healthy/image (42).JPG done\n",
      "/Users/mariamelantably/Desktop/programs/vais internship/disease_project/ammended_dataset/processed/test/Strawberry___Leaf_scorch/image (74).JPG done\n",
      "/Users/mariamelantably/Desktop/programs/vais internship/disease_project/ammended_dataset/processed/test/Blueberry___healthy/image (344).JPG done\n",
      "/Users/mariamelantably/Desktop/programs/vais internship/disease_project/ammended_dataset/processed/test/Peach___Bacterial_spot/image (1556).JPG done\n",
      "/Users/mariamelantably/Desktop/programs/vais internship/disease_project/ammended_dataset/processed/test/Tomato___healthy/image (117).JPG done\n",
      "/Users/mariamelantably/Desktop/programs/vais internship/disease_project/ammended_dataset/processed/test/Orange___Haunglongbing_Citrus_greening/image (3434).JPG done\n",
      "/Users/mariamelantably/Desktop/programs/vais internship/disease_project/ammended_dataset/processed/test/Corn___healthy/image (313).jpg done\n",
      "/Users/mariamelantably/Desktop/programs/vais internship/disease_project/ammended_dataset/processed/test/Potato___Late_blight/image (843).JPG done\n",
      "/Users/mariamelantably/Desktop/programs/vais internship/disease_project/ammended_dataset/processed/test/Tomato___Early_blight/image (140).JPG done\n",
      "/Users/mariamelantably/Desktop/programs/vais internship/disease_project/ammended_dataset/processed/test/Pepper_bell___healthy/image (378).JPG done\n",
      "/Users/mariamelantably/Desktop/programs/vais internship/disease_project/ammended_dataset/processed/test/Pepper_bell___healthy/image (1015).JPG done\n",
      "/Users/mariamelantably/Desktop/programs/vais internship/disease_project/ammended_dataset/processed/test/Peach___Bacterial_spot/image (1989).JPG done\n",
      "/Users/mariamelantably/Desktop/programs/vais internship/disease_project/ammended_dataset/processed/test/Cherry___healthy/image (560).JPG done\n",
      "/Users/mariamelantably/Desktop/programs/vais internship/disease_project/ammended_dataset/processed/test/Corn___Northern_Leaf_Blight/image (233).JPG done\n",
      "/Users/mariamelantably/Desktop/programs/vais internship/disease_project/ammended_dataset/processed/test/Potato___Late_blight/image (680).JPG done\n",
      "/Users/mariamelantably/Desktop/programs/vais internship/disease_project/ammended_dataset/processed/test/Apple___Cedar_apple_rust/image (99).JPG done\n",
      "/Users/mariamelantably/Desktop/programs/vais internship/disease_project/ammended_dataset/processed/test/Apple___healthy/image (562).JPG done\n",
      "/Users/mariamelantably/Desktop/programs/vais internship/disease_project/ammended_dataset/processed/test/Strawberry___Leaf_scorch/image (403).JPG done\n",
      "/Users/mariamelantably/Desktop/programs/vais internship/disease_project/ammended_dataset/processed/test/Tomato___Septoria_leaf_spot/image (1481).JPG done\n",
      "/Users/mariamelantably/Desktop/programs/vais internship/disease_project/ammended_dataset/processed/test/Orange___Haunglongbing_Citrus_greening/image (2547).JPG done\n",
      "/Users/mariamelantably/Desktop/programs/vais internship/disease_project/ammended_dataset/processed/test/Grape___Esca_Black_Measles/image (809).JPG done\n",
      "/Users/mariamelantably/Desktop/programs/vais internship/disease_project/ammended_dataset/processed/test/Tomato___healthy/image (153).JPG done\n",
      "/Users/mariamelantably/Desktop/programs/vais internship/disease_project/ammended_dataset/processed/test/Peach___Bacterial_spot/image (314).JPG done\n",
      "/Users/mariamelantably/Desktop/programs/vais internship/disease_project/ammended_dataset/processed/test/Potato___healthy/image (152).JPG done\n",
      "/Users/mariamelantably/Desktop/programs/vais internship/disease_project/ammended_dataset/processed/test/Tomato___Spider_mites_Two_spotted_spider_mite/image (519).JPG done\n",
      "/Users/mariamelantably/Desktop/programs/vais internship/disease_project/ammended_dataset/processed/test/Apple___Apple_scab/image (442).JPG done\n",
      "/Users/mariamelantably/Desktop/programs/vais internship/disease_project/ammended_dataset/processed/test/Grape___healthy/image (400).JPG done\n",
      "/Users/mariamelantably/Desktop/programs/vais internship/disease_project/ammended_dataset/processed/test/Soybean___healthy/image (4541).JPG done\n",
      "/Users/mariamelantably/Desktop/programs/vais internship/disease_project/ammended_dataset/processed/test/Strawberry___healthy/image (322).JPG done\n",
      "/Users/mariamelantably/Desktop/programs/vais internship/disease_project/ammended_dataset/processed/test/Tomato___healthy/image (737).JPG done\n",
      "/Users/mariamelantably/Desktop/programs/vais internship/disease_project/ammended_dataset/processed/test/Potato___healthy/image (2).JPG done\n",
      "/Users/mariamelantably/Desktop/programs/vais internship/disease_project/ammended_dataset/processed/test/Apple___Cedar_apple_rust/image (93).JPG done\n",
      "/Users/mariamelantably/Desktop/programs/vais internship/disease_project/ammended_dataset/processed/test/Peach___healthy/image (216).JPG done\n",
      "/Users/mariamelantably/Desktop/programs/vais internship/disease_project/ammended_dataset/processed/test/Grape___Black_rot/image (779).JPG done\n",
      "/Users/mariamelantably/Desktop/programs/vais internship/disease_project/ammended_dataset/processed/test/Blueberry___healthy/image (635).JPG done\n",
      "/Users/mariamelantably/Desktop/programs/vais internship/disease_project/ammended_dataset/processed/test/Grape___Esca_Black_Measles/image (534).JPG done\n",
      "/Users/mariamelantably/Desktop/programs/vais internship/disease_project/ammended_dataset/processed/test/Squash___Powdery_mildew/image (75).JPG done\n",
      "/Users/mariamelantably/Desktop/programs/vais internship/disease_project/ammended_dataset/processed/test/Tomato___Tomato_Yellow_Leaf_Curl_Virus/image (3587).JPG done\n",
      "/Users/mariamelantably/Desktop/programs/vais internship/disease_project/ammended_dataset/processed/test/Pepper_bell___Bacterial_spot/image (227).JPG done\n",
      "/Users/mariamelantably/Desktop/programs/vais internship/disease_project/ammended_dataset/processed/test/Tomato___Tomato_Yellow_Leaf_Curl_Virus/image (966).JPG done\n",
      "/Users/mariamelantably/Desktop/programs/vais internship/disease_project/ammended_dataset/processed/test/Potato___Late_blight/image (939).JPG done\n",
      "/Users/mariamelantably/Desktop/programs/vais internship/disease_project/ammended_dataset/processed/test/Tomato___Leaf_Mold/image (678).JPG done\n",
      "/Users/mariamelantably/Desktop/programs/vais internship/disease_project/ammended_dataset/processed/test/Soybean___healthy/image (479).JPG done\n",
      "/Users/mariamelantably/Desktop/programs/vais internship/disease_project/ammended_dataset/processed/test/Tomato___Spider_mites_Two_spotted_spider_mite/image (741).JPG done\n",
      "/Users/mariamelantably/Desktop/programs/vais internship/disease_project/ammended_dataset/processed/test/Tomato___Late_blight/image (951).JPG done\n",
      "/Users/mariamelantably/Desktop/programs/vais internship/disease_project/ammended_dataset/processed/test/Apple___healthy/image (1470).JPG done\n",
      "/Users/mariamelantably/Desktop/programs/vais internship/disease_project/ammended_dataset/processed/test/Strawberry___Leaf_scorch/image (992).JPG done\n",
      "/Users/mariamelantably/Desktop/programs/vais internship/disease_project/ammended_dataset/processed/test/Pepper_bell___Bacterial_spot/image (489).JPG done\n",
      "/Users/mariamelantably/Desktop/programs/vais internship/disease_project/ammended_dataset/processed/test/Tomato___Tomato_Yellow_Leaf_Curl_Virus/image (2298).JPG done\n",
      "/Users/mariamelantably/Desktop/programs/vais internship/disease_project/ammended_dataset/processed/test/Corn___Northern_Leaf_Blight/image (155).JPG done\n",
      "/Users/mariamelantably/Desktop/programs/vais internship/disease_project/ammended_dataset/processed/test/Grape___Leaf_blight_Isariopsis_Leaf_Spot/image (442).JPG done\n",
      "/Users/mariamelantably/Desktop/programs/vais internship/disease_project/ammended_dataset/processed/test/Tomato___Septoria_leaf_spot/image (614).JPG done\n",
      "/Users/mariamelantably/Desktop/programs/vais internship/disease_project/ammended_dataset/processed/test/Tomato___Tomato_mosaic_virus/image (19).JPG done\n",
      "/Users/mariamelantably/Desktop/programs/vais internship/disease_project/ammended_dataset/processed/test/Grape___Leaf_blight_Isariopsis_Leaf_Spot/image (775).JPG done\n",
      "/Users/mariamelantably/Desktop/programs/vais internship/disease_project/ammended_dataset/processed/test/Grape___Black_rot/image (562).JPG done\n",
      "/Users/mariamelantably/Desktop/programs/vais internship/disease_project/ammended_dataset/processed/test/Apple___Black_rot/image (316).JPG done\n",
      "/Users/mariamelantably/Desktop/programs/vais internship/disease_project/ammended_dataset/processed/test/Grape___Esca_Black_Measles/image (1009).JPG done\n",
      "/Users/mariamelantably/Desktop/programs/vais internship/disease_project/ammended_dataset/processed/test/Grape___Leaf_blight_Isariopsis_Leaf_Spot/image (579).JPG done\n",
      "/Users/mariamelantably/Desktop/programs/vais internship/disease_project/ammended_dataset/processed/test/Corn___Cercospora_leaf_spot Gray_leaf_spot/image (297).JPG done\n",
      "/Users/mariamelantably/Desktop/programs/vais internship/disease_project/ammended_dataset/processed/test/Soybean___healthy/image (4816).JPG done\n",
      "/Users/mariamelantably/Desktop/programs/vais internship/disease_project/ammended_dataset/processed/test/Tomato___Leaf_Mold/image (124).JPG done\n",
      "/Users/mariamelantably/Desktop/programs/vais internship/disease_project/ammended_dataset/processed/test/Potato___Early_blight/image (204).JPG done\n",
      "/Users/mariamelantably/Desktop/programs/vais internship/disease_project/ammended_dataset/processed/test/Strawberry___healthy/image (192).JPG done\n",
      "/Users/mariamelantably/Desktop/programs/vais internship/disease_project/ammended_dataset/processed/test/Tomato___Spider_mites_Two_spotted_spider_mite/image (555).JPG done\n",
      "/Users/mariamelantably/Desktop/programs/vais internship/disease_project/ammended_dataset/processed/test/Corn___Northern_Leaf_Blight/image (553).JPG done\n",
      "/Users/mariamelantably/Desktop/programs/vais internship/disease_project/ammended_dataset/processed/test/Tomato___Septoria_leaf_spot/image (350).JPG done\n",
      "/Users/mariamelantably/Desktop/programs/vais internship/disease_project/ammended_dataset/processed/test/Tomato___Leaf_Mold/image (263).JPG done\n",
      "/Users/mariamelantably/Desktop/programs/vais internship/disease_project/ammended_dataset/processed/test/Orange___Haunglongbing_Citrus_greening/image (4012).JPG done\n",
      "/Users/mariamelantably/Desktop/programs/vais internship/disease_project/ammended_dataset/processed/test/Potato___Late_blight/image (234).JPG done\n",
      "/Users/mariamelantably/Desktop/programs/vais internship/disease_project/ammended_dataset/processed/test/Tomato___Late_blight/image (1279).JPG done\n",
      "/Users/mariamelantably/Desktop/programs/vais internship/disease_project/ammended_dataset/processed/test/Potato___healthy/image (38).JPG done\n",
      "/Users/mariamelantably/Desktop/programs/vais internship/disease_project/ammended_dataset/processed/test/Grape___Leaf_blight_Isariopsis_Leaf_Spot/image (999).JPG done\n",
      "/Users/mariamelantably/Desktop/programs/vais internship/disease_project/ammended_dataset/processed/test/Pepper_bell___Bacterial_spot/image (204).JPG done\n",
      "/Users/mariamelantably/Desktop/programs/vais internship/disease_project/ammended_dataset/processed/test/Tomato___Spider_mites_Two_spotted_spider_mite/image (807).JPG done\n",
      "/Users/mariamelantably/Desktop/programs/vais internship/disease_project/ammended_dataset/processed/test/Cherry___Powdery_mildew/image (958).JPG done\n",
      "/Users/mariamelantably/Desktop/programs/vais internship/disease_project/ammended_dataset/processed/test/Raspberry___healthy/image (276).JPG done\n",
      "/Users/mariamelantably/Desktop/programs/vais internship/disease_project/ammended_dataset/processed/test/Tomato___Bacterial_spot/image (1118).JPG done\n",
      "/Users/mariamelantably/Desktop/programs/vais internship/disease_project/ammended_dataset/processed/test/Grape___Esca_Black_Measles/image (94).JPG done\n",
      "/Users/mariamelantably/Desktop/programs/vais internship/disease_project/ammended_dataset/processed/test/Tomato___Tomato_Yellow_Leaf_Curl_Virus/image (4826).JPG done\n",
      "/Users/mariamelantably/Desktop/programs/vais internship/disease_project/ammended_dataset/processed/test/Grape___healthy/image (29).JPG done\n",
      "/Users/mariamelantably/Desktop/programs/vais internship/disease_project/ammended_dataset/processed/test/Grape___Black_rot/image (568).JPG done\n",
      "/Users/mariamelantably/Desktop/programs/vais internship/disease_project/ammended_dataset/processed/test/Tomato___Bacterial_spot/image (816).JPG done\n",
      "/Users/mariamelantably/Desktop/programs/vais internship/disease_project/ammended_dataset/processed/test/Blueberry___healthy/image (1413).JPG done\n",
      "/Users/mariamelantably/Desktop/programs/vais internship/disease_project/ammended_dataset/processed/test/Peach___Bacterial_spot/image (1977).JPG done\n",
      "/Users/mariamelantably/Desktop/programs/vais internship/disease_project/ammended_dataset/processed/test/Apple___Black_rot/image (338).JPG done\n",
      "/Users/mariamelantably/Desktop/programs/vais internship/disease_project/ammended_dataset/processed/test/Tomato___Late_blight/image (1236).JPG done\n",
      "/Users/mariamelantably/Desktop/programs/vais internship/disease_project/ammended_dataset/processed/test/Grape___healthy/image (202).JPG done\n",
      "/Users/mariamelantably/Desktop/programs/vais internship/disease_project/ammended_dataset/processed/test/Potato___Early_blight/image (573).JPG done\n",
      "/Users/mariamelantably/Desktop/programs/vais internship/disease_project/ammended_dataset/processed/test/Grape___healthy/image (386).JPG done\n",
      "/Users/mariamelantably/Desktop/programs/vais internship/disease_project/ammended_dataset/processed/test/Potato___Late_blight/image (40).JPG done\n",
      "/Users/mariamelantably/Desktop/programs/vais internship/disease_project/ammended_dataset/processed/test/Cherry___healthy/image (31).JPG done\n",
      "/Users/mariamelantably/Desktop/programs/vais internship/disease_project/ammended_dataset/processed/test/Pepper_bell___healthy/image (1244).JPG done\n",
      "/Users/mariamelantably/Desktop/programs/vais internship/disease_project/ammended_dataset/processed/test/Tomato___healthy/image (1194).JPG done\n",
      "/Users/mariamelantably/Desktop/programs/vais internship/disease_project/ammended_dataset/processed/test/Corn___healthy/image (784).jpg done\n",
      "/Users/mariamelantably/Desktop/programs/vais internship/disease_project/ammended_dataset/processed/test/Tomato___Leaf_Mold/image (860).JPG done\n",
      "/Users/mariamelantably/Desktop/programs/vais internship/disease_project/ammended_dataset/processed/test/Grape___Esca_Black_Measles/image (1155).JPG done\n",
      "/Users/mariamelantably/Desktop/programs/vais internship/disease_project/ammended_dataset/processed/test/Grape___Leaf_blight_Isariopsis_Leaf_Spot/image (969).JPG done\n",
      "/Users/mariamelantably/Desktop/programs/vais internship/disease_project/ammended_dataset/processed/test/Potato___healthy/image (49).JPG done\n",
      "/Users/mariamelantably/Desktop/programs/vais internship/disease_project/ammended_dataset/processed/test/Corn___Northern_Leaf_Blight/image (95).JPG done\n",
      "/Users/mariamelantably/Desktop/programs/vais internship/disease_project/ammended_dataset/processed/test/Raspberry___healthy/image (293).JPG done\n",
      "/Users/mariamelantably/Desktop/programs/vais internship/disease_project/ammended_dataset/processed/test/Cherry___Powdery_mildew/image (858).JPG done\n",
      "/Users/mariamelantably/Desktop/programs/vais internship/disease_project/ammended_dataset/processed/test/Corn___Northern_Leaf_Blight/image (72).JPG done\n",
      "/Users/mariamelantably/Desktop/programs/vais internship/disease_project/ammended_dataset/processed/test/Tomato___Tomato_Yellow_Leaf_Curl_Virus/image (857).JPG done\n",
      "/Users/mariamelantably/Desktop/programs/vais internship/disease_project/ammended_dataset/processed/test/Grape___Esca_Black_Measles/image (1355).JPG done\n",
      "/Users/mariamelantably/Desktop/programs/vais internship/disease_project/ammended_dataset/processed/test/Apple___Apple_scab/image (211).JPG done\n",
      "/Users/mariamelantably/Desktop/programs/vais internship/disease_project/ammended_dataset/processed/test/Pepper_bell___Bacterial_spot/image (214).JPG done\n",
      "/Users/mariamelantably/Desktop/programs/vais internship/disease_project/ammended_dataset/processed/test/Tomato___Tomato_Yellow_Leaf_Curl_Virus/image (2499).JPG done\n",
      "/Users/mariamelantably/Desktop/programs/vais internship/disease_project/ammended_dataset/processed/test/Tomato___Leaf_Mold/image (366).JPG done\n",
      "/Users/mariamelantably/Desktop/programs/vais internship/disease_project/ammended_dataset/processed/test/Tomato___Tomato_Yellow_Leaf_Curl_Virus/image (3698).JPG done\n",
      "/Users/mariamelantably/Desktop/programs/vais internship/disease_project/ammended_dataset/processed/test/Tomato___healthy/image (186).JPG done\n",
      "/Users/mariamelantably/Desktop/programs/vais internship/disease_project/ammended_dataset/processed/test/Tomato___healthy/image (945).JPG done\n",
      "/Users/mariamelantably/Desktop/programs/vais internship/disease_project/ammended_dataset/processed/test/Orange___Haunglongbing_Citrus_greening/image (1701).JPG done\n",
      "/Users/mariamelantably/Desktop/programs/vais internship/disease_project/ammended_dataset/processed/test/Pepper_bell___healthy/image (271).JPG done\n",
      "/Users/mariamelantably/Desktop/programs/vais internship/disease_project/ammended_dataset/processed/test/Raspberry___healthy/image (240).JPG done\n",
      "/Users/mariamelantably/Desktop/programs/vais internship/disease_project/ammended_dataset/processed/test/Orange___Haunglongbing_Citrus_greening/image (825).JPG done\n",
      "/Users/mariamelantably/Desktop/programs/vais internship/disease_project/ammended_dataset/processed/test/Potato___Early_blight/image (597).JPG done\n",
      "/Users/mariamelantably/Desktop/programs/vais internship/disease_project/ammended_dataset/processed/test/Squash___Powdery_mildew/image (711).JPG done\n",
      "/Users/mariamelantably/Desktop/programs/vais internship/disease_project/ammended_dataset/processed/test/Potato___Early_blight/image (915).JPG done\n",
      "/Users/mariamelantably/Desktop/programs/vais internship/disease_project/ammended_dataset/processed/test/Strawberry___healthy/image (350).JPG done\n",
      "/Users/mariamelantably/Desktop/programs/vais internship/disease_project/ammended_dataset/processed/test/Cherry___healthy/image (315).JPG done\n",
      "/Users/mariamelantably/Desktop/programs/vais internship/disease_project/ammended_dataset/processed/test/Potato___Late_blight/image (628).JPG done\n",
      "/Users/mariamelantably/Desktop/programs/vais internship/disease_project/ammended_dataset/processed/test/Tomato___Septoria_leaf_spot/image (1233).JPG done\n",
      "/Users/mariamelantably/Desktop/programs/vais internship/disease_project/ammended_dataset/processed/test/Corn___healthy/image (1162).jpg done\n",
      "/Users/mariamelantably/Desktop/programs/vais internship/disease_project/ammended_dataset/processed/test/Strawberry___healthy/image (178).JPG done\n",
      "/Users/mariamelantably/Desktop/programs/vais internship/disease_project/ammended_dataset/processed/test/Corn___Cercospora_leaf_spot Gray_leaf_spot/image (190).JPG done\n",
      "/Users/mariamelantably/Desktop/programs/vais internship/disease_project/ammended_dataset/processed/test/Corn___Common_rust/image (327).JPG done\n",
      "/Users/mariamelantably/Desktop/programs/vais internship/disease_project/ammended_dataset/processed/test/Tomato___healthy/image (816).JPG done\n",
      "/Users/mariamelantably/Desktop/programs/vais internship/disease_project/ammended_dataset/processed/test/Apple___Apple_scab/image (593).JPG done\n",
      "/Users/mariamelantably/Desktop/programs/vais internship/disease_project/ammended_dataset/processed/test/Soybean___healthy/image (3513).JPG done\n",
      "/Users/mariamelantably/Desktop/programs/vais internship/disease_project/ammended_dataset/processed/test/Grape___Esca_Black_Measles/image (284).JPG done\n",
      "/Users/mariamelantably/Desktop/programs/vais internship/disease_project/ammended_dataset/processed/test/Grape___Leaf_blight_Isariopsis_Leaf_Spot/image (476).JPG done\n",
      "/Users/mariamelantably/Desktop/programs/vais internship/disease_project/ammended_dataset/processed/test/Tomato___Target_Spot/image (1309).JPG done\n",
      "/Users/mariamelantably/Desktop/programs/vais internship/disease_project/ammended_dataset/processed/test/Potato___Early_blight/image (860).JPG done\n",
      "/Users/mariamelantably/Desktop/programs/vais internship/disease_project/ammended_dataset/processed/test/Grape___Esca_Black_Measles/image (208).JPG done\n",
      "/Users/mariamelantably/Desktop/programs/vais internship/disease_project/ammended_dataset/processed/test/Grape___Black_rot/image (623).JPG done\n",
      "/Users/mariamelantably/Desktop/programs/vais internship/disease_project/ammended_dataset/processed/test/Cherry___Powdery_mildew/image (1016).JPG done\n",
      "/Users/mariamelantably/Desktop/programs/vais internship/disease_project/ammended_dataset/processed/test/Apple___Apple_scab/image (419).JPG done\n",
      "/Users/mariamelantably/Desktop/programs/vais internship/disease_project/ammended_dataset/processed/test/Cherry___Powdery_mildew/image (319).JPG done\n",
      "/Users/mariamelantably/Desktop/programs/vais internship/disease_project/ammended_dataset/processed/test/Corn___healthy/image (240).jpg done\n",
      "/Users/mariamelantably/Desktop/programs/vais internship/disease_project/ammended_dataset/processed/test/Corn___healthy/image (905).jpg done\n",
      "/Users/mariamelantably/Desktop/programs/vais internship/disease_project/ammended_dataset/processed/test/Grape___Black_rot/image (871).JPG done\n",
      "/Users/mariamelantably/Desktop/programs/vais internship/disease_project/ammended_dataset/processed/test/Corn___Common_rust/image (133).JPG done\n",
      "/Users/mariamelantably/Desktop/programs/vais internship/disease_project/ammended_dataset/processed/test/Grape___Black_rot/image (575).JPG done\n",
      "/Users/mariamelantably/Desktop/programs/vais internship/disease_project/ammended_dataset/processed/test/Potato___healthy/image (18).JPG done\n",
      "/Users/mariamelantably/Desktop/programs/vais internship/disease_project/ammended_dataset/processed/test/Peach___healthy/image (151).JPG done\n",
      "/Users/mariamelantably/Desktop/programs/vais internship/disease_project/ammended_dataset/processed/test/Pepper_bell___healthy/image (364).JPG done\n",
      "/Users/mariamelantably/Desktop/programs/vais internship/disease_project/ammended_dataset/processed/test/Corn___Cercospora_leaf_spot Gray_leaf_spot/image (35).JPG done\n",
      "/Users/mariamelantably/Desktop/programs/vais internship/disease_project/ammended_dataset/processed/test/Squash___Powdery_mildew/image (1443).JPG done\n",
      "/Users/mariamelantably/Desktop/programs/vais internship/disease_project/ammended_dataset/processed/test/Peach___healthy/image (359).JPG done\n",
      "/Users/mariamelantably/Desktop/programs/vais internship/disease_project/ammended_dataset/processed/test/Grape___Black_rot/image (918).JPG done\n",
      "/Users/mariamelantably/Desktop/programs/vais internship/disease_project/ammended_dataset/processed/test/Squash___Powdery_mildew/image (1555).JPG done\n",
      "/Users/mariamelantably/Desktop/programs/vais internship/disease_project/ammended_dataset/processed/test/Corn___healthy/image (94).jpg done\n",
      "/Users/mariamelantably/Desktop/programs/vais internship/disease_project/ammended_dataset/processed/test/Cherry___healthy/image (562).JPG done\n",
      "/Users/mariamelantably/Desktop/programs/vais internship/disease_project/ammended_dataset/processed/test/Blueberry___healthy/image (51).JPG done\n",
      "/Users/mariamelantably/Desktop/programs/vais internship/disease_project/ammended_dataset/processed/test/Grape___healthy/image (69).JPG done\n",
      "/Users/mariamelantably/Desktop/programs/vais internship/disease_project/ammended_dataset/processed/test/Tomato___Early_blight/image (21).JPG done\n",
      "/Users/mariamelantably/Desktop/programs/vais internship/disease_project/ammended_dataset/processed/test/Grape___healthy/image (329).JPG done\n",
      "/Users/mariamelantably/Desktop/programs/vais internship/disease_project/ammended_dataset/processed/test/Grape___healthy/image (284).JPG done\n",
      "/Users/mariamelantably/Desktop/programs/vais internship/disease_project/ammended_dataset/processed/test/Corn___healthy/image (831).jpg done\n",
      "/Users/mariamelantably/Desktop/programs/vais internship/disease_project/ammended_dataset/processed/test/Tomato___Target_Spot/image (504).JPG done\n",
      "/Users/mariamelantably/Desktop/programs/vais internship/disease_project/ammended_dataset/processed/test/Strawberry___healthy/image (272).JPG done\n",
      "/Users/mariamelantably/Desktop/programs/vais internship/disease_project/ammended_dataset/processed/test/Apple___Apple_scab/image (115).JPG done\n",
      "/Users/mariamelantably/Desktop/programs/vais internship/disease_project/ammended_dataset/processed/test/Orange___Haunglongbing_Citrus_greening/image (5283).JPG done\n",
      "/Users/mariamelantably/Desktop/programs/vais internship/disease_project/ammended_dataset/processed/test/Corn___Northern_Leaf_Blight/image (645).JPG done\n",
      "/Users/mariamelantably/Desktop/programs/vais internship/disease_project/ammended_dataset/processed/test/Strawberry___healthy/image (2).JPG done\n",
      "/Users/mariamelantably/Desktop/programs/vais internship/disease_project/ammended_dataset/processed/test/Raspberry___healthy/image (152).JPG done\n",
      "/Users/mariamelantably/Desktop/programs/vais internship/disease_project/ammended_dataset/processed/test/Squash___Powdery_mildew/image (1746).JPG done\n",
      "/Users/mariamelantably/Desktop/programs/vais internship/disease_project/ammended_dataset/processed/test/Tomato___Leaf_Mold/image (853).JPG done\n"
     ]
    }
   ],
   "source": [
    "messages = [\"Input images:\"]\n",
    "for i, image_path in enumerate(df_test.image_path):\n",
    "    base64_img = open(image_path, \"rb\").read()\n",
    "    image_message = [\n",
    "        types.Part.from_bytes(data=base64_img, mime_type=\"image/jpeg\"),\n",
    "        f\"input_image_id: {i}\"\n",
    "    ]\n",
    "    messages.extend(image_message)\n",
    "    print(f\"{image_path} done\")\n",
    "messages.append(f\"Please correctly classify all {df_train.shape[0]} images\")"
   ]
  },
  {
   "cell_type": "code",
   "execution_count": 9,
   "metadata": {},
   "outputs": [
    {
     "name": "stdout",
     "output_type": "stream",
     "text": [
      "Apple___Apple_scab done\n",
      "Apple___Black_rot done\n",
      "Apple___Cedar_apple_rust done\n",
      "Apple___healthy done\n",
      "Blueberry___healthy done\n",
      "Cherry___Powdery_mildew done\n",
      "Cherry___healthy done\n",
      "Corn___Cercospora_leaf_spot Gray_leaf_spot done\n",
      "Corn___Common_rust done\n",
      "Corn___Northern_Leaf_Blight done\n",
      "Corn___healthy done\n",
      "Grape___Black_rot done\n",
      "Grape___Esca_Black_Measles done\n",
      "Grape___Leaf_blight_Isariopsis_Leaf_Spot done\n",
      "Grape___healthy done\n",
      "Orange___Haunglongbing_Citrus_greening done\n",
      "Peach___Bacterial_spot done\n",
      "Peach___healthy done\n",
      "Pepper_bell___Bacterial_spot done\n",
      "Pepper_bell___healthy done\n",
      "Potato___Early_blight done\n",
      "Potato___Late_blight done\n",
      "Potato___healthy done\n",
      "Raspberry___healthy done\n",
      "Soybean___healthy done\n",
      "Squash___Powdery_mildew done\n",
      "Strawberry___Leaf_scorch done\n",
      "Strawberry___healthy done\n",
      "Tomato___Bacterial_spot done\n",
      "Tomato___Early_blight done\n",
      "Tomato___Late_blight done\n",
      "Tomato___Leaf_Mold done\n",
      "Tomato___Septoria_leaf_spot done\n",
      "Tomato___Spider_mites_Two_spotted_spider_mite done\n",
      "Tomato___Target_Spot done\n",
      "Tomato___Tomato_Yellow_Leaf_Curl_Virus done\n",
      "Tomato___Tomato_mosaic_virus done\n",
      "Tomato___healthy done\n",
      "/Users/mariamelantably/Desktop/programs/vais internship/disease_project/ammended_dataset/preprocessed/test/Tomato___Tomato_mosaic_virus/image (53).JPG done\n",
      "/Users/mariamelantably/Desktop/programs/vais internship/disease_project/ammended_dataset/preprocessed/test/Squash___Powdery_mildew/image (711).JPG done\n",
      "/Users/mariamelantably/Desktop/programs/vais internship/disease_project/ammended_dataset/preprocessed/test/Tomato___Early_blight/image (753).JPG done\n",
      "/Users/mariamelantably/Desktop/programs/vais internship/disease_project/ammended_dataset/preprocessed/test/Blueberry___healthy/image (635).JPG done\n",
      "/Users/mariamelantably/Desktop/programs/vais internship/disease_project/ammended_dataset/preprocessed/test/Tomato___Target_Spot/image (356).JPG done\n",
      "/Users/mariamelantably/Desktop/programs/vais internship/disease_project/ammended_dataset/preprocessed/test/Pepper_bell___healthy/image (581).JPG done\n",
      "/Users/mariamelantably/Desktop/programs/vais internship/disease_project/ammended_dataset/preprocessed/test/Grape___Esca_Black_Measles/image (1355).JPG done\n",
      "/Users/mariamelantably/Desktop/programs/vais internship/disease_project/ammended_dataset/preprocessed/test/Peach___healthy/image (274).JPG done\n",
      "/Users/mariamelantably/Desktop/programs/vais internship/disease_project/ammended_dataset/preprocessed/test/Potato___Late_blight/image (234).JPG done\n",
      "/Users/mariamelantably/Desktop/programs/vais internship/disease_project/ammended_dataset/preprocessed/test/Cherry___healthy/image (31).JPG done\n",
      "/Users/mariamelantably/Desktop/programs/vais internship/disease_project/ammended_dataset/preprocessed/test/Apple___healthy/image (837).JPG done\n",
      "/Users/mariamelantably/Desktop/programs/vais internship/disease_project/ammended_dataset/preprocessed/test/Tomato___Target_Spot/image (871).JPG done\n",
      "/Users/mariamelantably/Desktop/programs/vais internship/disease_project/ammended_dataset/preprocessed/test/Strawberry___Leaf_scorch/image (922).JPG done\n",
      "/Users/mariamelantably/Desktop/programs/vais internship/disease_project/ammended_dataset/preprocessed/test/Orange___Haunglongbing_Citrus_greening/image (825).JPG done\n",
      "/Users/mariamelantably/Desktop/programs/vais internship/disease_project/ammended_dataset/preprocessed/test/Apple___healthy/image (1470).JPG done\n",
      "/Users/mariamelantably/Desktop/programs/vais internship/disease_project/ammended_dataset/preprocessed/test/Grape___Leaf_blight_Isariopsis_Leaf_Spot/image (969).JPG done\n",
      "/Users/mariamelantably/Desktop/programs/vais internship/disease_project/ammended_dataset/preprocessed/test/Tomato___healthy/image (1252).JPG done\n",
      "/Users/mariamelantably/Desktop/programs/vais internship/disease_project/ammended_dataset/preprocessed/test/Soybean___healthy/image (4603).JPG done\n",
      "/Users/mariamelantably/Desktop/programs/vais internship/disease_project/ammended_dataset/preprocessed/test/Grape___Esca_Black_Measles/image (208).JPG done\n",
      "/Users/mariamelantably/Desktop/programs/vais internship/disease_project/ammended_dataset/preprocessed/test/Strawberry___Leaf_scorch/image (810).JPG done\n",
      "/Users/mariamelantably/Desktop/programs/vais internship/disease_project/ammended_dataset/preprocessed/test/Apple___Cedar_apple_rust/image (93).JPG done\n",
      "/Users/mariamelantably/Desktop/programs/vais internship/disease_project/ammended_dataset/preprocessed/test/Potato___healthy/image (42).JPG done\n",
      "/Users/mariamelantably/Desktop/programs/vais internship/disease_project/ammended_dataset/preprocessed/test/Tomato___Spider_mites_Two_spotted_spider_mite/image (322).JPG done\n",
      "/Users/mariamelantably/Desktop/programs/vais internship/disease_project/ammended_dataset/preprocessed/test/Apple___Cedar_apple_rust/image (99).JPG done\n",
      "/Users/mariamelantably/Desktop/programs/vais internship/disease_project/ammended_dataset/preprocessed/test/Strawberry___healthy/image (2).JPG done\n",
      "/Users/mariamelantably/Desktop/programs/vais internship/disease_project/ammended_dataset/preprocessed/test/Tomato___Bacterial_spot/image (769).JPG done\n",
      "/Users/mariamelantably/Desktop/programs/vais internship/disease_project/ammended_dataset/preprocessed/test/Soybean___healthy/image (4541).JPG done\n",
      "/Users/mariamelantably/Desktop/programs/vais internship/disease_project/ammended_dataset/preprocessed/test/Potato___Late_blight/image (40).JPG done\n",
      "/Users/mariamelantably/Desktop/programs/vais internship/disease_project/ammended_dataset/preprocessed/test/Corn___Northern_Leaf_Blight/image (72).JPG done\n",
      "/Users/mariamelantably/Desktop/programs/vais internship/disease_project/ammended_dataset/preprocessed/test/Tomato___Early_blight/image (115).JPG done\n",
      "/Users/mariamelantably/Desktop/programs/vais internship/disease_project/ammended_dataset/preprocessed/test/Tomato___Tomato_mosaic_virus/image (281).JPG done\n",
      "/Users/mariamelantably/Desktop/programs/vais internship/disease_project/ammended_dataset/preprocessed/test/Strawberry___Leaf_scorch/image (74).JPG done\n",
      "/Users/mariamelantably/Desktop/programs/vais internship/disease_project/ammended_dataset/preprocessed/test/Cherry___Powdery_mildew/image (14).JPG done\n",
      "/Users/mariamelantably/Desktop/programs/vais internship/disease_project/ammended_dataset/preprocessed/test/Corn___Northern_Leaf_Blight/image (645).JPG done\n",
      "/Users/mariamelantably/Desktop/programs/vais internship/disease_project/ammended_dataset/preprocessed/test/Tomato___healthy/image (816).JPG done\n",
      "/Users/mariamelantably/Desktop/programs/vais internship/disease_project/ammended_dataset/preprocessed/test/Pepper_bell___healthy/image (271).JPG done\n",
      "/Users/mariamelantably/Desktop/programs/vais internship/disease_project/ammended_dataset/preprocessed/test/Cherry___Powdery_mildew/image (243).JPG done\n",
      "/Users/mariamelantably/Desktop/programs/vais internship/disease_project/ammended_dataset/preprocessed/test/Blueberry___healthy/image (344).JPG done\n",
      "/Users/mariamelantably/Desktop/programs/vais internship/disease_project/ammended_dataset/preprocessed/test/Corn___Cercospora_leaf_spot Gray_leaf_spot/image (14).JPG done\n",
      "/Users/mariamelantably/Desktop/programs/vais internship/disease_project/ammended_dataset/preprocessed/test/Orange___Haunglongbing_Citrus_greening/image (1701).JPG done\n",
      "/Users/mariamelantably/Desktop/programs/vais internship/disease_project/ammended_dataset/preprocessed/test/Raspberry___healthy/image (184).JPG done\n",
      "/Users/mariamelantably/Desktop/programs/vais internship/disease_project/ammended_dataset/preprocessed/test/Apple___healthy/image (1432).JPG done\n",
      "/Users/mariamelantably/Desktop/programs/vais internship/disease_project/ammended_dataset/preprocessed/test/Tomato___Septoria_leaf_spot/image (614).JPG done\n",
      "/Users/mariamelantably/Desktop/programs/vais internship/disease_project/ammended_dataset/preprocessed/test/Cherry___Powdery_mildew/image (1016).JPG done\n",
      "/Users/mariamelantably/Desktop/programs/vais internship/disease_project/ammended_dataset/preprocessed/test/Tomato___Tomato_mosaic_virus/image (277).JPG done\n",
      "/Users/mariamelantably/Desktop/programs/vais internship/disease_project/ammended_dataset/preprocessed/test/Apple___Black_rot/image (583).JPG done\n",
      "/Users/mariamelantably/Desktop/programs/vais internship/disease_project/ammended_dataset/preprocessed/test/Apple___Black_rot/image (617).JPG done\n",
      "/Users/mariamelantably/Desktop/programs/vais internship/disease_project/ammended_dataset/preprocessed/test/Tomato___Tomato_Yellow_Leaf_Curl_Virus/image (2499).JPG done\n",
      "/Users/mariamelantably/Desktop/programs/vais internship/disease_project/ammended_dataset/preprocessed/test/Corn___Northern_Leaf_Blight/image (155).JPG done\n",
      "/Users/mariamelantably/Desktop/programs/vais internship/disease_project/ammended_dataset/preprocessed/test/Tomato___Early_blight/image (21).JPG done\n",
      "/Users/mariamelantably/Desktop/programs/vais internship/disease_project/ammended_dataset/preprocessed/test/Grape___Leaf_blight_Isariopsis_Leaf_Spot/image (806).JPG done\n",
      "/Users/mariamelantably/Desktop/programs/vais internship/disease_project/ammended_dataset/preprocessed/test/Tomato___Leaf_Mold/image (124).JPG done\n",
      "/Users/mariamelantably/Desktop/programs/vais internship/disease_project/ammended_dataset/preprocessed/test/Blueberry___healthy/image (51).JPG done\n",
      "/Users/mariamelantably/Desktop/programs/vais internship/disease_project/ammended_dataset/preprocessed/test/Tomato___Leaf_Mold/image (860).JPG done\n",
      "/Users/mariamelantably/Desktop/programs/vais internship/disease_project/ammended_dataset/preprocessed/test/Tomato___Septoria_leaf_spot/image (1481).JPG done\n",
      "/Users/mariamelantably/Desktop/programs/vais internship/disease_project/ammended_dataset/preprocessed/test/Grape___Esca_Black_Measles/image (1155).JPG done\n",
      "/Users/mariamelantably/Desktop/programs/vais internship/disease_project/ammended_dataset/preprocessed/test/Strawberry___healthy/image (178).JPG done\n",
      "/Users/mariamelantably/Desktop/programs/vais internship/disease_project/ammended_dataset/preprocessed/test/Corn___healthy/image (240).jpg done\n",
      "/Users/mariamelantably/Desktop/programs/vais internship/disease_project/ammended_dataset/preprocessed/test/Apple___Cedar_apple_rust/image (15).JPG done\n",
      "/Users/mariamelantably/Desktop/programs/vais internship/disease_project/ammended_dataset/preprocessed/test/Potato___healthy/image (72).JPG done\n",
      "/Users/mariamelantably/Desktop/programs/vais internship/disease_project/ammended_dataset/preprocessed/test/Apple___Apple_scab/image (593).JPG done\n",
      "/Users/mariamelantably/Desktop/programs/vais internship/disease_project/ammended_dataset/preprocessed/test/Grape___Leaf_blight_Isariopsis_Leaf_Spot/image (775).JPG done\n",
      "/Users/mariamelantably/Desktop/programs/vais internship/disease_project/ammended_dataset/preprocessed/test/Tomato___Early_blight/image (662).JPG done\n",
      "/Users/mariamelantably/Desktop/programs/vais internship/disease_project/ammended_dataset/preprocessed/test/Grape___Esca_Black_Measles/image (809).JPG done\n",
      "/Users/mariamelantably/Desktop/programs/vais internship/disease_project/ammended_dataset/preprocessed/test/Apple___Apple_scab/image (256).JPG done\n",
      "/Users/mariamelantably/Desktop/programs/vais internship/disease_project/ammended_dataset/preprocessed/test/Apple___healthy/image (1447).JPG done\n",
      "/Users/mariamelantably/Desktop/programs/vais internship/disease_project/ammended_dataset/preprocessed/test/Strawberry___Leaf_scorch/image (1044).JPG done\n",
      "/Users/mariamelantably/Desktop/programs/vais internship/disease_project/ammended_dataset/preprocessed/test/Potato___Late_blight/image (161).JPG done\n",
      "/Users/mariamelantably/Desktop/programs/vais internship/disease_project/ammended_dataset/preprocessed/test/Tomato___Leaf_Mold/image (895).JPG done\n",
      "/Users/mariamelantably/Desktop/programs/vais internship/disease_project/ammended_dataset/preprocessed/test/Pepper_bell___Bacterial_spot/image (214).JPG done\n",
      "/Users/mariamelantably/Desktop/programs/vais internship/disease_project/ammended_dataset/preprocessed/test/Potato___Late_blight/image (628).JPG done\n",
      "/Users/mariamelantably/Desktop/programs/vais internship/disease_project/ammended_dataset/preprocessed/test/Tomato___Bacterial_spot/image (246).JPG done\n",
      "/Users/mariamelantably/Desktop/programs/vais internship/disease_project/ammended_dataset/preprocessed/test/Squash___Powdery_mildew/image (29).JPG done\n",
      "/Users/mariamelantably/Desktop/programs/vais internship/disease_project/ammended_dataset/preprocessed/test/Strawberry___healthy/image (322).JPG done\n",
      "/Users/mariamelantably/Desktop/programs/vais internship/disease_project/ammended_dataset/preprocessed/test/Cherry___Powdery_mildew/image (145).JPG done\n",
      "/Users/mariamelantably/Desktop/programs/vais internship/disease_project/ammended_dataset/preprocessed/test/Orange___Haunglongbing_Citrus_greening/image (3434).JPG done\n",
      "/Users/mariamelantably/Desktop/programs/vais internship/disease_project/ammended_dataset/preprocessed/test/Corn___healthy/image (528).jpg done\n",
      "/Users/mariamelantably/Desktop/programs/vais internship/disease_project/ammended_dataset/preprocessed/test/Raspberry___healthy/image (240).JPG done\n",
      "/Users/mariamelantably/Desktop/programs/vais internship/disease_project/ammended_dataset/preprocessed/test/Orange___Haunglongbing_Citrus_greening/image (3856).JPG done\n",
      "/Users/mariamelantably/Desktop/programs/vais internship/disease_project/ammended_dataset/preprocessed/test/Apple___Cedar_apple_rust/image (91).JPG done\n",
      "/Users/mariamelantably/Desktop/programs/vais internship/disease_project/ammended_dataset/preprocessed/test/Apple___Black_rot/image (59).JPG done\n",
      "/Users/mariamelantably/Desktop/programs/vais internship/disease_project/ammended_dataset/preprocessed/test/Tomato___Tomato_mosaic_virus/image (318).JPG done\n",
      "/Users/mariamelantably/Desktop/programs/vais internship/disease_project/ammended_dataset/preprocessed/test/Soybean___healthy/image (389).JPG done\n",
      "/Users/mariamelantably/Desktop/programs/vais internship/disease_project/ammended_dataset/preprocessed/test/Corn___healthy/image (905).jpg done\n",
      "/Users/mariamelantably/Desktop/programs/vais internship/disease_project/ammended_dataset/preprocessed/test/Grape___Black_rot/image (562).JPG done\n",
      "/Users/mariamelantably/Desktop/programs/vais internship/disease_project/ammended_dataset/preprocessed/test/Squash___Powdery_mildew/image (1443).JPG done\n",
      "/Users/mariamelantably/Desktop/programs/vais internship/disease_project/ammended_dataset/preprocessed/test/Tomato___Septoria_leaf_spot/image (350).JPG done\n",
      "/Users/mariamelantably/Desktop/programs/vais internship/disease_project/ammended_dataset/preprocessed/test/Peach___healthy/image (44).JPG done\n",
      "/Users/mariamelantably/Desktop/programs/vais internship/disease_project/ammended_dataset/preprocessed/test/Potato___healthy/image (142).JPG done\n",
      "/Users/mariamelantably/Desktop/programs/vais internship/disease_project/ammended_dataset/preprocessed/test/Pepper_bell___Bacterial_spot/image (228).JPG done\n",
      "/Users/mariamelantably/Desktop/programs/vais internship/disease_project/ammended_dataset/preprocessed/test/Potato___Late_blight/image (174).JPG done\n",
      "/Users/mariamelantably/Desktop/programs/vais internship/disease_project/ammended_dataset/preprocessed/test/Apple___Cedar_apple_rust/image (74).JPG done\n",
      "/Users/mariamelantably/Desktop/programs/vais internship/disease_project/ammended_dataset/preprocessed/test/Grape___Esca_Black_Measles/image (1009).JPG done\n",
      "/Users/mariamelantably/Desktop/programs/vais internship/disease_project/ammended_dataset/preprocessed/test/Tomato___Target_Spot/image (446).JPG done\n",
      "/Users/mariamelantably/Desktop/programs/vais internship/disease_project/ammended_dataset/preprocessed/test/Peach___Bacterial_spot/image (1556).JPG done\n",
      "/Users/mariamelantably/Desktop/programs/vais internship/disease_project/ammended_dataset/preprocessed/test/Potato___healthy/image (2).JPG done\n",
      "/Users/mariamelantably/Desktop/programs/vais internship/disease_project/ammended_dataset/preprocessed/test/Tomato___Septoria_leaf_spot/image (1663).JPG done\n",
      "/Users/mariamelantably/Desktop/programs/vais internship/disease_project/ammended_dataset/preprocessed/test/Tomato___Bacterial_spot/image (379).JPG done\n",
      "/Users/mariamelantably/Desktop/programs/vais internship/disease_project/ammended_dataset/preprocessed/test/Corn___Common_rust/image (100).JPG done\n",
      "/Users/mariamelantably/Desktop/programs/vais internship/disease_project/ammended_dataset/preprocessed/test/Cherry___healthy/image (810).JPG done\n",
      "/Users/mariamelantably/Desktop/programs/vais internship/disease_project/ammended_dataset/preprocessed/test/Tomato___Early_blight/image (286).JPG done\n",
      "/Users/mariamelantably/Desktop/programs/vais internship/disease_project/ammended_dataset/preprocessed/test/Corn___Cercospora_leaf_spot Gray_leaf_spot/image (35).JPG done\n",
      "/Users/mariamelantably/Desktop/programs/vais internship/disease_project/ammended_dataset/preprocessed/test/Potato___Early_blight/image (697).JPG done\n",
      "/Users/mariamelantably/Desktop/programs/vais internship/disease_project/ammended_dataset/preprocessed/test/Corn___Common_rust/image (868).JPG done\n",
      "/Users/mariamelantably/Desktop/programs/vais internship/disease_project/ammended_dataset/preprocessed/test/Grape___Esca_Black_Measles/image (284).JPG done\n",
      "/Users/mariamelantably/Desktop/programs/vais internship/disease_project/ammended_dataset/preprocessed/test/Tomato___Late_blight/image (382).JPG done\n",
      "/Users/mariamelantably/Desktop/programs/vais internship/disease_project/ammended_dataset/preprocessed/test/Grape___Black_rot/image (779).JPG done\n",
      "/Users/mariamelantably/Desktop/programs/vais internship/disease_project/ammended_dataset/preprocessed/test/Peach___healthy/image (151).JPG done\n",
      "/Users/mariamelantably/Desktop/programs/vais internship/disease_project/ammended_dataset/preprocessed/test/Squash___Powdery_mildew/image (1555).JPG done\n",
      "/Users/mariamelantably/Desktop/programs/vais internship/disease_project/ammended_dataset/preprocessed/test/Tomato___healthy/image (117).JPG done\n",
      "/Users/mariamelantably/Desktop/programs/vais internship/disease_project/ammended_dataset/preprocessed/test/Grape___healthy/image (29).JPG done\n",
      "/Users/mariamelantably/Desktop/programs/vais internship/disease_project/ammended_dataset/preprocessed/test/Blueberry___healthy/image (50).JPG done\n",
      "/Users/mariamelantably/Desktop/programs/vais internship/disease_project/ammended_dataset/preprocessed/test/Tomato___Spider_mites_Two_spotted_spider_mite/image (1516).JPG done\n",
      "/Users/mariamelantably/Desktop/programs/vais internship/disease_project/ammended_dataset/preprocessed/test/Tomato___Tomato_mosaic_virus/image (175).JPG done\n",
      "/Users/mariamelantably/Desktop/programs/vais internship/disease_project/ammended_dataset/preprocessed/test/Tomato___Tomato_Yellow_Leaf_Curl_Virus/image (4826).JPG done\n",
      "/Users/mariamelantably/Desktop/programs/vais internship/disease_project/ammended_dataset/preprocessed/test/Raspberry___healthy/image (110).JPG done\n",
      "/Users/mariamelantably/Desktop/programs/vais internship/disease_project/ammended_dataset/preprocessed/test/Tomato___Late_blight/image (1279).JPG done\n",
      "/Users/mariamelantably/Desktop/programs/vais internship/disease_project/ammended_dataset/preprocessed/test/Cherry___Powdery_mildew/image (858).JPG done\n",
      "/Users/mariamelantably/Desktop/programs/vais internship/disease_project/ammended_dataset/preprocessed/test/Cherry___Powdery_mildew/image (939).JPG done\n",
      "/Users/mariamelantably/Desktop/programs/vais internship/disease_project/ammended_dataset/preprocessed/test/Tomato___Tomato_Yellow_Leaf_Curl_Virus/image (921).JPG done\n",
      "/Users/mariamelantably/Desktop/programs/vais internship/disease_project/ammended_dataset/preprocessed/test/Raspberry___healthy/image (183).JPG done\n",
      "/Users/mariamelantably/Desktop/programs/vais internship/disease_project/ammended_dataset/preprocessed/test/Grape___Esca_Black_Measles/image (94).JPG done\n",
      "/Users/mariamelantably/Desktop/programs/vais internship/disease_project/ammended_dataset/preprocessed/test/Peach___Bacterial_spot/image (484).JPG done\n",
      "/Users/mariamelantably/Desktop/programs/vais internship/disease_project/ammended_dataset/preprocessed/test/Grape___healthy/image (400).JPG done\n",
      "/Users/mariamelantably/Desktop/programs/vais internship/disease_project/ammended_dataset/preprocessed/test/Apple___Black_rot/image (352).JPG done\n",
      "/Users/mariamelantably/Desktop/programs/vais internship/disease_project/ammended_dataset/preprocessed/test/Potato___Late_blight/image (204).JPG done\n",
      "/Users/mariamelantably/Desktop/programs/vais internship/disease_project/ammended_dataset/preprocessed/test/Potato___Late_blight/image (939).JPG done\n",
      "/Users/mariamelantably/Desktop/programs/vais internship/disease_project/ammended_dataset/preprocessed/test/Tomato___Leaf_Mold/image (678).JPG done\n",
      "/Users/mariamelantably/Desktop/programs/vais internship/disease_project/ammended_dataset/preprocessed/test/Cherry___healthy/image (315).JPG done\n",
      "/Users/mariamelantably/Desktop/programs/vais internship/disease_project/ammended_dataset/preprocessed/test/Tomato___Early_blight/image (698).JPG done\n",
      "/Users/mariamelantably/Desktop/programs/vais internship/disease_project/ammended_dataset/preprocessed/test/Tomato___Leaf_Mold/image (263).JPG done\n",
      "/Users/mariamelantably/Desktop/programs/vais internship/disease_project/ammended_dataset/preprocessed/test/Grape___Black_rot/image (871).JPG done\n",
      "/Users/mariamelantably/Desktop/programs/vais internship/disease_project/ammended_dataset/preprocessed/test/Tomato___Early_blight/image (916).JPG done\n",
      "/Users/mariamelantably/Desktop/programs/vais internship/disease_project/ammended_dataset/preprocessed/test/Apple___Cedar_apple_rust/image (165).JPG done\n",
      "/Users/mariamelantably/Desktop/programs/vais internship/disease_project/ammended_dataset/preprocessed/test/Corn___healthy/image (1159).jpg done\n",
      "/Users/mariamelantably/Desktop/programs/vais internship/disease_project/ammended_dataset/preprocessed/test/Tomato___Late_blight/image (410).JPG done\n",
      "/Users/mariamelantably/Desktop/programs/vais internship/disease_project/ammended_dataset/preprocessed/test/Potato___Early_blight/image (183).JPG done\n",
      "/Users/mariamelantably/Desktop/programs/vais internship/disease_project/ammended_dataset/preprocessed/test/Blueberry___healthy/image (234).JPG done\n",
      "/Users/mariamelantably/Desktop/programs/vais internship/disease_project/ammended_dataset/preprocessed/test/Tomato___Spider_mites_Two_spotted_spider_mite/image (1308).JPG done\n",
      "/Users/mariamelantably/Desktop/programs/vais internship/disease_project/ammended_dataset/preprocessed/test/Apple___Apple_scab/image (137).JPG done\n",
      "/Users/mariamelantably/Desktop/programs/vais internship/disease_project/ammended_dataset/preprocessed/test/Corn___Common_rust/image (5).JPG done\n",
      "/Users/mariamelantably/Desktop/programs/vais internship/disease_project/ammended_dataset/preprocessed/test/Pepper_bell___Bacterial_spot/image (828).JPG done\n",
      "/Users/mariamelantably/Desktop/programs/vais internship/disease_project/ammended_dataset/preprocessed/test/Peach___healthy/image (216).JPG done\n",
      "/Users/mariamelantably/Desktop/programs/vais internship/disease_project/ammended_dataset/preprocessed/test/Corn___healthy/image (831).jpg done\n",
      "/Users/mariamelantably/Desktop/programs/vais internship/disease_project/ammended_dataset/preprocessed/test/Corn___Common_rust/image (342).JPG done\n",
      "/Users/mariamelantably/Desktop/programs/vais internship/disease_project/ammended_dataset/preprocessed/test/Cherry___healthy/image (783).JPG done\n",
      "/Users/mariamelantably/Desktop/programs/vais internship/disease_project/ammended_dataset/preprocessed/test/Peach___healthy/image (211).JPG done\n",
      "/Users/mariamelantably/Desktop/programs/vais internship/disease_project/ammended_dataset/preprocessed/test/Raspberry___healthy/image (276).JPG done\n",
      "/Users/mariamelantably/Desktop/programs/vais internship/disease_project/ammended_dataset/preprocessed/test/Tomato___Target_Spot/image (900).JPG done\n",
      "/Users/mariamelantably/Desktop/programs/vais internship/disease_project/ammended_dataset/preprocessed/test/Potato___Early_blight/image (860).JPG done\n",
      "/Users/mariamelantably/Desktop/programs/vais internship/disease_project/ammended_dataset/preprocessed/test/Tomato___healthy/image (589).JPG done\n",
      "/Users/mariamelantably/Desktop/programs/vais internship/disease_project/ammended_dataset/preprocessed/test/Corn___Common_rust/image (968).JPG done\n",
      "/Users/mariamelantably/Desktop/programs/vais internship/disease_project/ammended_dataset/preprocessed/test/Cherry___healthy/image (108).JPG done\n",
      "/Users/mariamelantably/Desktop/programs/vais internship/disease_project/ammended_dataset/preprocessed/test/Corn___Common_rust/image (318).JPG done\n",
      "/Users/mariamelantably/Desktop/programs/vais internship/disease_project/ammended_dataset/preprocessed/test/Orange___Haunglongbing_Citrus_greening/image (2547).JPG done\n",
      "/Users/mariamelantably/Desktop/programs/vais internship/disease_project/ammended_dataset/preprocessed/test/Strawberry___Leaf_scorch/image (534).JPG done\n",
      "/Users/mariamelantably/Desktop/programs/vais internship/disease_project/ammended_dataset/preprocessed/test/Pepper_bell___Bacterial_spot/image (204).JPG done\n",
      "/Users/mariamelantably/Desktop/programs/vais internship/disease_project/ammended_dataset/preprocessed/test/Tomato___Spider_mites_Two_spotted_spider_mite/image (741).JPG done\n",
      "/Users/mariamelantably/Desktop/programs/vais internship/disease_project/ammended_dataset/preprocessed/test/Strawberry___healthy/image (245).JPG done\n",
      "/Users/mariamelantably/Desktop/programs/vais internship/disease_project/ammended_dataset/preprocessed/test/Strawberry___Leaf_scorch/image (403).JPG done\n",
      "/Users/mariamelantably/Desktop/programs/vais internship/disease_project/ammended_dataset/preprocessed/test/Pepper_bell___healthy/image (766).JPG done\n",
      "/Users/mariamelantably/Desktop/programs/vais internship/disease_project/ammended_dataset/preprocessed/test/Tomato___Target_Spot/image (1309).JPG done\n",
      "/Users/mariamelantably/Desktop/programs/vais internship/disease_project/ammended_dataset/preprocessed/test/Tomato___Tomato_Yellow_Leaf_Curl_Virus/image (966).JPG done\n",
      "/Users/mariamelantably/Desktop/programs/vais internship/disease_project/ammended_dataset/preprocessed/test/Tomato___Bacterial_spot/image (1737).JPG done\n",
      "/Users/mariamelantably/Desktop/programs/vais internship/disease_project/ammended_dataset/preprocessed/test/Corn___healthy/image (94).jpg done\n",
      "/Users/mariamelantably/Desktop/programs/vais internship/disease_project/ammended_dataset/preprocessed/test/Tomato___Leaf_Mold/image (715).JPG done\n",
      "/Users/mariamelantably/Desktop/programs/vais internship/disease_project/ammended_dataset/preprocessed/test/Orange___Haunglongbing_Citrus_greening/image (2806).JPG done\n",
      "/Users/mariamelantably/Desktop/programs/vais internship/disease_project/ammended_dataset/preprocessed/test/Squash___Powdery_mildew/image (1746).JPG done\n",
      "/Users/mariamelantably/Desktop/programs/vais internship/disease_project/ammended_dataset/preprocessed/test/Potato___Late_blight/image (843).JPG done\n",
      "/Users/mariamelantably/Desktop/programs/vais internship/disease_project/ammended_dataset/preprocessed/test/Apple___Cedar_apple_rust/image (272).JPG done\n",
      "/Users/mariamelantably/Desktop/programs/vais internship/disease_project/ammended_dataset/preprocessed/test/Squash___Powdery_mildew/image (479).JPG done\n",
      "/Users/mariamelantably/Desktop/programs/vais internship/disease_project/ammended_dataset/preprocessed/test/Pepper_bell___Bacterial_spot/image (489).JPG done\n",
      "/Users/mariamelantably/Desktop/programs/vais internship/disease_project/ammended_dataset/preprocessed/test/Tomato___Tomato_Yellow_Leaf_Curl_Virus/image (2952).JPG done\n",
      "/Users/mariamelantably/Desktop/programs/vais internship/disease_project/ammended_dataset/preprocessed/test/Tomato___Tomato_Yellow_Leaf_Curl_Virus/image (3587).JPG done\n",
      "/Users/mariamelantably/Desktop/programs/vais internship/disease_project/ammended_dataset/preprocessed/test/Peach___Bacterial_spot/image (1977).JPG done\n",
      "/Users/mariamelantably/Desktop/programs/vais internship/disease_project/ammended_dataset/preprocessed/test/Corn___Cercospora_leaf_spot Gray_leaf_spot/image (297).JPG done\n",
      "/Users/mariamelantably/Desktop/programs/vais internship/disease_project/ammended_dataset/preprocessed/test/Squash___Powdery_mildew/image (349).JPG done\n",
      "/Users/mariamelantably/Desktop/programs/vais internship/disease_project/ammended_dataset/preprocessed/test/Corn___Northern_Leaf_Blight/image (982).jpg done\n",
      "/Users/mariamelantably/Desktop/programs/vais internship/disease_project/ammended_dataset/preprocessed/test/Potato___healthy/image (38).JPG done\n",
      "/Users/mariamelantably/Desktop/programs/vais internship/disease_project/ammended_dataset/preprocessed/test/Tomato___Target_Spot/image (122).JPG done\n",
      "/Users/mariamelantably/Desktop/programs/vais internship/disease_project/ammended_dataset/preprocessed/test/Squash___Powdery_mildew/image (638).JPG done\n",
      "/Users/mariamelantably/Desktop/programs/vais internship/disease_project/ammended_dataset/preprocessed/test/Pepper_bell___healthy/image (1309).JPG done\n",
      "/Users/mariamelantably/Desktop/programs/vais internship/disease_project/ammended_dataset/preprocessed/test/Potato___healthy/image (18).JPG done\n",
      "/Users/mariamelantably/Desktop/programs/vais internship/disease_project/ammended_dataset/preprocessed/test/Tomato___Leaf_Mold/image (366).JPG done\n",
      "/Users/mariamelantably/Desktop/programs/vais internship/disease_project/ammended_dataset/preprocessed/test/Potato___Early_blight/image (207).JPG done\n",
      "/Users/mariamelantably/Desktop/programs/vais internship/disease_project/ammended_dataset/preprocessed/test/Apple___Cedar_apple_rust/image (5).JPG done\n",
      "/Users/mariamelantably/Desktop/programs/vais internship/disease_project/ammended_dataset/preprocessed/test/Soybean___healthy/image (953).JPG done\n",
      "/Users/mariamelantably/Desktop/programs/vais internship/disease_project/ammended_dataset/preprocessed/test/Corn___Cercospora_leaf_spot Gray_leaf_spot/image (190).JPG done\n",
      "/Users/mariamelantably/Desktop/programs/vais internship/disease_project/ammended_dataset/preprocessed/test/Orange___Haunglongbing_Citrus_greening/image (1235).JPG done\n",
      "/Users/mariamelantably/Desktop/programs/vais internship/disease_project/ammended_dataset/preprocessed/test/Peach___healthy/image (102).JPG done\n",
      "/Users/mariamelantably/Desktop/programs/vais internship/disease_project/ammended_dataset/preprocessed/test/Squash___Powdery_mildew/image (75).JPG done\n",
      "/Users/mariamelantably/Desktop/programs/vais internship/disease_project/ammended_dataset/preprocessed/test/Soybean___healthy/image (1150).JPG done\n",
      "/Users/mariamelantably/Desktop/programs/vais internship/disease_project/ammended_dataset/preprocessed/test/Peach___Bacterial_spot/image (972).JPG done\n",
      "/Users/mariamelantably/Desktop/programs/vais internship/disease_project/ammended_dataset/preprocessed/test/Cherry___healthy/image (560).JPG done\n",
      "/Users/mariamelantably/Desktop/programs/vais internship/disease_project/ammended_dataset/preprocessed/test/Blueberry___healthy/image (245).JPG done\n",
      "/Users/mariamelantably/Desktop/programs/vais internship/disease_project/ammended_dataset/preprocessed/test/Strawberry___healthy/image (428).JPG done\n",
      "/Users/mariamelantably/Desktop/programs/vais internship/disease_project/ammended_dataset/preprocessed/test/Apple___healthy/image (303).JPG done\n",
      "/Users/mariamelantably/Desktop/programs/vais internship/disease_project/ammended_dataset/preprocessed/test/Strawberry___Leaf_scorch/image (992).JPG done\n",
      "/Users/mariamelantably/Desktop/programs/vais internship/disease_project/ammended_dataset/preprocessed/test/Tomato___Tomato_mosaic_virus/image (162).JPG done\n",
      "/Users/mariamelantably/Desktop/programs/vais internship/disease_project/ammended_dataset/preprocessed/test/Corn___Northern_Leaf_Blight/image (95).JPG done\n",
      "/Users/mariamelantably/Desktop/programs/vais internship/disease_project/ammended_dataset/preprocessed/test/Apple___healthy/image (562).JPG done\n",
      "/Users/mariamelantably/Desktop/programs/vais internship/disease_project/ammended_dataset/preprocessed/test/Apple___Black_rot/image (613).JPG done\n",
      "/Users/mariamelantably/Desktop/programs/vais internship/disease_project/ammended_dataset/preprocessed/test/Tomato___Target_Spot/image (212).JPG done\n",
      "/Users/mariamelantably/Desktop/programs/vais internship/disease_project/ammended_dataset/preprocessed/test/Potato___Late_blight/image (119).JPG done\n",
      "/Users/mariamelantably/Desktop/programs/vais internship/disease_project/ammended_dataset/preprocessed/test/Peach___Bacterial_spot/image (314).JPG done\n",
      "/Users/mariamelantably/Desktop/programs/vais internship/disease_project/ammended_dataset/preprocessed/test/Tomato___Late_blight/image (119).JPG done\n",
      "/Users/mariamelantably/Desktop/programs/vais internship/disease_project/ammended_dataset/preprocessed/test/Pepper_bell___healthy/image (1015).JPG done\n",
      "/Users/mariamelantably/Desktop/programs/vais internship/disease_project/ammended_dataset/preprocessed/test/Tomato___Tomato_Yellow_Leaf_Curl_Virus/image (857).JPG done\n",
      "/Users/mariamelantably/Desktop/programs/vais internship/disease_project/ammended_dataset/preprocessed/test/Corn___Northern_Leaf_Blight/image (85).JPG done\n",
      "/Users/mariamelantably/Desktop/programs/vais internship/disease_project/ammended_dataset/preprocessed/test/Cherry___Powdery_mildew/image (958).JPG done\n",
      "/Users/mariamelantably/Desktop/programs/vais internship/disease_project/ammended_dataset/preprocessed/test/Tomato___Target_Spot/image (504).JPG done\n",
      "/Users/mariamelantably/Desktop/programs/vais internship/disease_project/ammended_dataset/preprocessed/test/Peach___healthy/image (75).JPG done\n",
      "/Users/mariamelantably/Desktop/programs/vais internship/disease_project/ammended_dataset/preprocessed/test/Pepper_bell___healthy/image (773).JPG done\n",
      "/Users/mariamelantably/Desktop/programs/vais internship/disease_project/ammended_dataset/preprocessed/test/Tomato___Late_blight/image (1236).JPG done\n",
      "/Users/mariamelantably/Desktop/programs/vais internship/disease_project/ammended_dataset/preprocessed/test/Corn___healthy/image (784).jpg done\n",
      "/Users/mariamelantably/Desktop/programs/vais internship/disease_project/ammended_dataset/preprocessed/test/Potato___Early_blight/image (573).JPG done\n",
      "/Users/mariamelantably/Desktop/programs/vais internship/disease_project/ammended_dataset/preprocessed/test/Tomato___Spider_mites_Two_spotted_spider_mite/image (378).JPG done\n",
      "/Users/mariamelantably/Desktop/programs/vais internship/disease_project/ammended_dataset/preprocessed/test/Strawberry___Leaf_scorch/image (682).JPG done\n",
      "/Users/mariamelantably/Desktop/programs/vais internship/disease_project/ammended_dataset/preprocessed/test/Soybean___healthy/image (479).JPG done\n",
      "/Users/mariamelantably/Desktop/programs/vais internship/disease_project/ammended_dataset/preprocessed/test/Grape___Black_rot/image (568).JPG done\n",
      "/Users/mariamelantably/Desktop/programs/vais internship/disease_project/ammended_dataset/preprocessed/test/Potato___Early_blight/image (597).JPG done\n",
      "/Users/mariamelantably/Desktop/programs/vais internship/disease_project/ammended_dataset/preprocessed/test/Corn___Common_rust/image (393).JPG done\n",
      "/Users/mariamelantably/Desktop/programs/vais internship/disease_project/ammended_dataset/preprocessed/test/Pepper_bell___Bacterial_spot/image (849).JPG done\n",
      "/Users/mariamelantably/Desktop/programs/vais internship/disease_project/ammended_dataset/preprocessed/test/Soybean___healthy/image (765).JPG done\n",
      "/Users/mariamelantably/Desktop/programs/vais internship/disease_project/ammended_dataset/preprocessed/test/Corn___Common_rust/image (690).JPG done\n",
      "/Users/mariamelantably/Desktop/programs/vais internship/disease_project/ammended_dataset/preprocessed/test/Grape___healthy/image (69).JPG done\n",
      "/Users/mariamelantably/Desktop/programs/vais internship/disease_project/ammended_dataset/preprocessed/test/Peach___Bacterial_spot/image (97).JPG done\n",
      "/Users/mariamelantably/Desktop/programs/vais internship/disease_project/ammended_dataset/preprocessed/test/Apple___Apple_scab/image (477).JPG done\n",
      "/Users/mariamelantably/Desktop/programs/vais internship/disease_project/ammended_dataset/preprocessed/test/Pepper_bell___Bacterial_spot/image (92).JPG done\n",
      "/Users/mariamelantably/Desktop/programs/vais internship/disease_project/ammended_dataset/preprocessed/test/Tomato___Early_blight/image (628).JPG done\n",
      "/Users/mariamelantably/Desktop/programs/vais internship/disease_project/ammended_dataset/preprocessed/test/Apple___Apple_scab/image (23).JPG done\n",
      "/Users/mariamelantably/Desktop/programs/vais internship/disease_project/ammended_dataset/preprocessed/test/Potato___Early_blight/image (915).JPG done\n",
      "/Users/mariamelantably/Desktop/programs/vais internship/disease_project/ammended_dataset/preprocessed/test/Peach___healthy/image (110).JPG done\n",
      "/Users/mariamelantably/Desktop/programs/vais internship/disease_project/ammended_dataset/preprocessed/test/Corn___Northern_Leaf_Blight/image (300).JPG done\n",
      "/Users/mariamelantably/Desktop/programs/vais internship/disease_project/ammended_dataset/preprocessed/test/Apple___Black_rot/image (165).JPG done\n",
      "/Users/mariamelantably/Desktop/programs/vais internship/disease_project/ammended_dataset/preprocessed/test/Apple___Apple_scab/image (211).JPG done\n",
      "/Users/mariamelantably/Desktop/programs/vais internship/disease_project/ammended_dataset/preprocessed/test/Tomato___Late_blight/image (1807).JPG done\n",
      "/Users/mariamelantably/Desktop/programs/vais internship/disease_project/ammended_dataset/preprocessed/test/Tomato___Late_blight/image (660).JPG done\n",
      "/Users/mariamelantably/Desktop/programs/vais internship/disease_project/ammended_dataset/preprocessed/test/Strawberry___Leaf_scorch/image (983).JPG done\n",
      "/Users/mariamelantably/Desktop/programs/vais internship/disease_project/ammended_dataset/preprocessed/test/Grape___Leaf_blight_Isariopsis_Leaf_Spot/image (941).JPG done\n",
      "/Users/mariamelantably/Desktop/programs/vais internship/disease_project/ammended_dataset/preprocessed/test/Corn___Common_rust/image (327).JPG done\n",
      "/Users/mariamelantably/Desktop/programs/vais internship/disease_project/ammended_dataset/preprocessed/test/Cherry___Powdery_mildew/image (964).JPG done\n",
      "/Users/mariamelantably/Desktop/programs/vais internship/disease_project/ammended_dataset/preprocessed/test/Corn___Northern_Leaf_Blight/image (553).JPG done\n",
      "/Users/mariamelantably/Desktop/programs/vais internship/disease_project/ammended_dataset/preprocessed/test/Corn___healthy/image (1162).jpg done\n",
      "/Users/mariamelantably/Desktop/programs/vais internship/disease_project/ammended_dataset/preprocessed/test/Tomato___Leaf_Mold/image (931).JPG done\n",
      "/Users/mariamelantably/Desktop/programs/vais internship/disease_project/ammended_dataset/preprocessed/test/Grape___healthy/image (386).JPG done\n",
      "/Users/mariamelantably/Desktop/programs/vais internship/disease_project/ammended_dataset/preprocessed/test/Tomato___Bacterial_spot/image (2123).JPG done\n",
      "/Users/mariamelantably/Desktop/programs/vais internship/disease_project/ammended_dataset/preprocessed/test/Potato___Early_blight/image (368).JPG done\n",
      "/Users/mariamelantably/Desktop/programs/vais internship/disease_project/ammended_dataset/preprocessed/test/Blueberry___healthy/image (491).JPG done\n",
      "/Users/mariamelantably/Desktop/programs/vais internship/disease_project/ammended_dataset/preprocessed/test/Orange___Haunglongbing_Citrus_greening/image (5283).JPG done\n",
      "/Users/mariamelantably/Desktop/programs/vais internship/disease_project/ammended_dataset/preprocessed/test/Grape___Esca_Black_Measles/image (1291).JPG done\n",
      "/Users/mariamelantably/Desktop/programs/vais internship/disease_project/ammended_dataset/preprocessed/test/Apple___healthy/image (691).JPG done\n",
      "/Users/mariamelantably/Desktop/programs/vais internship/disease_project/ammended_dataset/preprocessed/test/Apple___healthy/image (302).JPG done\n",
      "/Users/mariamelantably/Desktop/programs/vais internship/disease_project/ammended_dataset/preprocessed/test/Grape___Black_rot/image (857).JPG done\n",
      "/Users/mariamelantably/Desktop/programs/vais internship/disease_project/ammended_dataset/preprocessed/test/Apple___Apple_scab/image (115).JPG done\n",
      "/Users/mariamelantably/Desktop/programs/vais internship/disease_project/ammended_dataset/preprocessed/test/Grape___Black_rot/image (575).JPG done\n",
      "/Users/mariamelantably/Desktop/programs/vais internship/disease_project/ammended_dataset/preprocessed/test/Corn___Cercospora_leaf_spot Gray_leaf_spot/image (391).JPG done\n",
      "/Users/mariamelantably/Desktop/programs/vais internship/disease_project/ammended_dataset/preprocessed/test/Grape___Black_rot/image (623).JPG done\n",
      "/Users/mariamelantably/Desktop/programs/vais internship/disease_project/ammended_dataset/preprocessed/test/Tomato___Spider_mites_Two_spotted_spider_mite/image (519).JPG done\n",
      "/Users/mariamelantably/Desktop/programs/vais internship/disease_project/ammended_dataset/preprocessed/test/Tomato___Bacterial_spot/image (1118).JPG done\n",
      "/Users/mariamelantably/Desktop/programs/vais internship/disease_project/ammended_dataset/preprocessed/test/Corn___Cercospora_leaf_spot Gray_leaf_spot/image (446).JPG done\n",
      "/Users/mariamelantably/Desktop/programs/vais internship/disease_project/ammended_dataset/preprocessed/test/Pepper_bell___healthy/image (1244).JPG done\n",
      "/Users/mariamelantably/Desktop/programs/vais internship/disease_project/ammended_dataset/preprocessed/test/Tomato___Late_blight/image (45).JPG done\n",
      "/Users/mariamelantably/Desktop/programs/vais internship/disease_project/ammended_dataset/preprocessed/test/Tomato___healthy/image (853).JPG done\n",
      "/Users/mariamelantably/Desktop/programs/vais internship/disease_project/ammended_dataset/preprocessed/test/Grape___Black_rot/image (254).JPG done\n",
      "/Users/mariamelantably/Desktop/programs/vais internship/disease_project/ammended_dataset/preprocessed/test/Tomato___Tomato_mosaic_virus/image (362).JPG done\n",
      "/Users/mariamelantably/Desktop/programs/vais internship/disease_project/ammended_dataset/preprocessed/test/Tomato___Tomato_Yellow_Leaf_Curl_Virus/image (2027).JPG done\n",
      "/Users/mariamelantably/Desktop/programs/vais internship/disease_project/ammended_dataset/preprocessed/test/Tomato___Spider_mites_Two_spotted_spider_mite/image (676).JPG done\n",
      "/Users/mariamelantably/Desktop/programs/vais internship/disease_project/ammended_dataset/preprocessed/test/Strawberry___healthy/image (350).JPG done\n",
      "/Users/mariamelantably/Desktop/programs/vais internship/disease_project/ammended_dataset/preprocessed/test/Apple___healthy/image (538).JPG done\n",
      "/Users/mariamelantably/Desktop/programs/vais internship/disease_project/ammended_dataset/preprocessed/test/Corn___Common_rust/image (133).JPG done\n",
      "/Users/mariamelantably/Desktop/programs/vais internship/disease_project/ammended_dataset/preprocessed/test/Strawberry___healthy/image (171).JPG done\n",
      "/Users/mariamelantably/Desktop/programs/vais internship/disease_project/ammended_dataset/preprocessed/test/Apple___Black_rot/image (338).JPG done\n",
      "/Users/mariamelantably/Desktop/programs/vais internship/disease_project/ammended_dataset/preprocessed/test/Corn___Northern_Leaf_Blight/image (255).JPG done\n",
      "/Users/mariamelantably/Desktop/programs/vais internship/disease_project/ammended_dataset/preprocessed/test/Grape___healthy/image (366).JPG done\n",
      "/Users/mariamelantably/Desktop/programs/vais internship/disease_project/ammended_dataset/preprocessed/test/Tomato___Septoria_leaf_spot/image (299).JPG done\n",
      "/Users/mariamelantably/Desktop/programs/vais internship/disease_project/ammended_dataset/preprocessed/test/Peach___Bacterial_spot/image (1489).JPG done\n",
      "/Users/mariamelantably/Desktop/programs/vais internship/disease_project/ammended_dataset/preprocessed/test/Grape___Leaf_blight_Isariopsis_Leaf_Spot/image (442).JPG done\n",
      "/Users/mariamelantably/Desktop/programs/vais internship/disease_project/ammended_dataset/preprocessed/test/Tomato___Late_blight/image (335).JPG done\n",
      "/Users/mariamelantably/Desktop/programs/vais internship/disease_project/ammended_dataset/preprocessed/test/Grape___Leaf_blight_Isariopsis_Leaf_Spot/image (579).JPG done\n",
      "/Users/mariamelantably/Desktop/programs/vais internship/disease_project/ammended_dataset/preprocessed/test/Grape___Black_rot/image (918).JPG done\n",
      "/Users/mariamelantably/Desktop/programs/vais internship/disease_project/ammended_dataset/preprocessed/test/Cherry___Powdery_mildew/image (842).JPG done\n",
      "/Users/mariamelantably/Desktop/programs/vais internship/disease_project/ammended_dataset/preprocessed/test/Apple___Cedar_apple_rust/image (156).JPG done\n",
      "/Users/mariamelantably/Desktop/programs/vais internship/disease_project/ammended_dataset/preprocessed/test/Pepper_bell___Bacterial_spot/image (227).JPG done\n",
      "/Users/mariamelantably/Desktop/programs/vais internship/disease_project/ammended_dataset/preprocessed/test/Grape___Esca_Black_Measles/image (79).JPG done\n",
      "/Users/mariamelantably/Desktop/programs/vais internship/disease_project/ammended_dataset/preprocessed/test/Grape___healthy/image (202).JPG done\n",
      "/Users/mariamelantably/Desktop/programs/vais internship/disease_project/ammended_dataset/preprocessed/test/Corn___healthy/image (929).jpg done\n",
      "/Users/mariamelantably/Desktop/programs/vais internship/disease_project/ammended_dataset/preprocessed/test/Tomato___Septoria_leaf_spot/image (1192).JPG done\n",
      "/Users/mariamelantably/Desktop/programs/vais internship/disease_project/ammended_dataset/preprocessed/test/Strawberry___Leaf_scorch/image (190).JPG done\n",
      "/Users/mariamelantably/Desktop/programs/vais internship/disease_project/ammended_dataset/preprocessed/test/Corn___Northern_Leaf_Blight/image (233).JPG done\n",
      "/Users/mariamelantably/Desktop/programs/vais internship/disease_project/ammended_dataset/preprocessed/test/Apple___Apple_scab/image (220).JPG done\n",
      "/Users/mariamelantably/Desktop/programs/vais internship/disease_project/ammended_dataset/preprocessed/test/Grape___Leaf_blight_Isariopsis_Leaf_Spot/image (946).JPG done\n",
      "/Users/mariamelantably/Desktop/programs/vais internship/disease_project/ammended_dataset/preprocessed/test/Potato___Early_blight/image (823).JPG done\n",
      "/Users/mariamelantably/Desktop/programs/vais internship/disease_project/ammended_dataset/preprocessed/test/Tomato___Spider_mites_Two_spotted_spider_mite/image (1590).JPG done\n",
      "/Users/mariamelantably/Desktop/programs/vais internship/disease_project/ammended_dataset/preprocessed/test/Strawberry___healthy/image (192).JPG done\n",
      "/Users/mariamelantably/Desktop/programs/vais internship/disease_project/ammended_dataset/preprocessed/test/Grape___healthy/image (284).JPG done\n",
      "/Users/mariamelantably/Desktop/programs/vais internship/disease_project/ammended_dataset/preprocessed/test/Tomato___healthy/image (737).JPG done\n",
      "/Users/mariamelantably/Desktop/programs/vais internship/disease_project/ammended_dataset/preprocessed/test/Grape___healthy/image (329).JPG done\n",
      "/Users/mariamelantably/Desktop/programs/vais internship/disease_project/ammended_dataset/preprocessed/test/Tomato___Tomato_Yellow_Leaf_Curl_Virus/image (3698).JPG done\n",
      "/Users/mariamelantably/Desktop/programs/vais internship/disease_project/ammended_dataset/preprocessed/test/Corn___healthy/image (313).jpg done\n",
      "/Users/mariamelantably/Desktop/programs/vais internship/disease_project/ammended_dataset/preprocessed/test/Grape___Leaf_blight_Isariopsis_Leaf_Spot/image (519).JPG done\n",
      "/Users/mariamelantably/Desktop/programs/vais internship/disease_project/ammended_dataset/preprocessed/test/Pepper_bell___healthy/image (364).JPG done\n",
      "/Users/mariamelantably/Desktop/programs/vais internship/disease_project/ammended_dataset/preprocessed/test/Tomato___Early_blight/image (111).JPG done\n",
      "/Users/mariamelantably/Desktop/programs/vais internship/disease_project/ammended_dataset/preprocessed/test/Tomato___Leaf_Mold/image (410).JPG done\n",
      "/Users/mariamelantably/Desktop/programs/vais internship/disease_project/ammended_dataset/preprocessed/test/Tomato___Tomato_mosaic_virus/image (215).JPG done\n",
      "/Users/mariamelantably/Desktop/programs/vais internship/disease_project/ammended_dataset/preprocessed/test/Tomato___Spider_mites_Two_spotted_spider_mite/image (555).JPG done\n",
      "/Users/mariamelantably/Desktop/programs/vais internship/disease_project/ammended_dataset/preprocessed/test/Potato___Early_blight/image (204).JPG done\n",
      "/Users/mariamelantably/Desktop/programs/vais internship/disease_project/ammended_dataset/preprocessed/test/Tomato___Bacterial_spot/image (558).JPG done\n",
      "/Users/mariamelantably/Desktop/programs/vais internship/disease_project/ammended_dataset/preprocessed/test/Tomato___Tomato_Yellow_Leaf_Curl_Virus/image (2298).JPG done\n",
      "/Users/mariamelantably/Desktop/programs/vais internship/disease_project/ammended_dataset/preprocessed/test/Potato___Late_blight/image (680).JPG done\n",
      "/Users/mariamelantably/Desktop/programs/vais internship/disease_project/ammended_dataset/preprocessed/test/Apple___Black_rot/image (342).JPG done\n",
      "/Users/mariamelantably/Desktop/programs/vais internship/disease_project/ammended_dataset/preprocessed/test/Tomato___healthy/image (945).JPG done\n",
      "/Users/mariamelantably/Desktop/programs/vais internship/disease_project/ammended_dataset/preprocessed/test/Apple___Black_rot/image (316).JPG done\n",
      "/Users/mariamelantably/Desktop/programs/vais internship/disease_project/ammended_dataset/preprocessed/test/Potato___healthy/image (49).JPG done\n",
      "/Users/mariamelantably/Desktop/programs/vais internship/disease_project/ammended_dataset/preprocessed/test/Peach___healthy/image (359).JPG done\n",
      "/Users/mariamelantably/Desktop/programs/vais internship/disease_project/ammended_dataset/preprocessed/test/Potato___healthy/image (152).JPG done\n",
      "/Users/mariamelantably/Desktop/programs/vais internship/disease_project/ammended_dataset/preprocessed/test/Grape___Black_rot/image (206).JPG done\n",
      "/Users/mariamelantably/Desktop/programs/vais internship/disease_project/ammended_dataset/preprocessed/test/Strawberry___healthy/image (366).JPG done\n",
      "/Users/mariamelantably/Desktop/programs/vais internship/disease_project/ammended_dataset/preprocessed/test/Apple___Apple_scab/image (442).JPG done\n",
      "/Users/mariamelantably/Desktop/programs/vais internship/disease_project/ammended_dataset/preprocessed/test/Tomato___Septoria_leaf_spot/image (1233).JPG done\n",
      "/Users/mariamelantably/Desktop/programs/vais internship/disease_project/ammended_dataset/preprocessed/test/Pepper_bell___Bacterial_spot/image (644).JPG done\n",
      "/Users/mariamelantably/Desktop/programs/vais internship/disease_project/ammended_dataset/preprocessed/test/Tomato___Leaf_Mold/image (853).JPG done\n",
      "/Users/mariamelantably/Desktop/programs/vais internship/disease_project/ammended_dataset/preprocessed/test/Corn___Cercospora_leaf_spot Gray_leaf_spot/image (420).JPG done\n",
      "/Users/mariamelantably/Desktop/programs/vais internship/disease_project/ammended_dataset/preprocessed/test/Potato___healthy/image (63).JPG done\n",
      "/Users/mariamelantably/Desktop/programs/vais internship/disease_project/ammended_dataset/preprocessed/test/Cherry___Powdery_mildew/image (319).JPG done\n",
      "/Users/mariamelantably/Desktop/programs/vais internship/disease_project/ammended_dataset/preprocessed/test/Tomato___healthy/image (153).JPG done\n",
      "/Users/mariamelantably/Desktop/programs/vais internship/disease_project/ammended_dataset/preprocessed/test/Corn___Cercospora_leaf_spot Gray_leaf_spot/image (203).jpg done\n",
      "/Users/mariamelantably/Desktop/programs/vais internship/disease_project/ammended_dataset/preprocessed/test/Potato___healthy/image (79).JPG done\n",
      "/Users/mariamelantably/Desktop/programs/vais internship/disease_project/ammended_dataset/preprocessed/test/Blueberry___healthy/image (790).JPG done\n",
      "/Users/mariamelantably/Desktop/programs/vais internship/disease_project/ammended_dataset/preprocessed/test/Apple___Black_rot/image (345).JPG done\n",
      "/Users/mariamelantably/Desktop/programs/vais internship/disease_project/ammended_dataset/preprocessed/test/Tomato___Bacterial_spot/image (1491).JPG done\n",
      "/Users/mariamelantably/Desktop/programs/vais internship/disease_project/ammended_dataset/preprocessed/test/Tomato___Septoria_leaf_spot/image (242).JPG done\n",
      "/Users/mariamelantably/Desktop/programs/vais internship/disease_project/ammended_dataset/preprocessed/test/Soybean___healthy/image (3513).JPG done\n",
      "/Users/mariamelantably/Desktop/programs/vais internship/disease_project/ammended_dataset/preprocessed/test/Peach___Bacterial_spot/image (1989).JPG done\n",
      "/Users/mariamelantably/Desktop/programs/vais internship/disease_project/ammended_dataset/preprocessed/test/Peach___healthy/image (55).JPG done\n",
      "/Users/mariamelantably/Desktop/programs/vais internship/disease_project/ammended_dataset/preprocessed/test/Squash___Powdery_mildew/image (1070).JPG done\n",
      "/Users/mariamelantably/Desktop/programs/vais internship/disease_project/ammended_dataset/preprocessed/test/Raspberry___healthy/image (42).JPG done\n",
      "/Users/mariamelantably/Desktop/programs/vais internship/disease_project/ammended_dataset/preprocessed/test/Tomato___healthy/image (1194).JPG done\n",
      "/Users/mariamelantably/Desktop/programs/vais internship/disease_project/ammended_dataset/preprocessed/test/Tomato___Target_Spot/image (624).JPG done\n",
      "/Users/mariamelantably/Desktop/programs/vais internship/disease_project/ammended_dataset/preprocessed/test/Soybean___healthy/image (4816).JPG done\n",
      "/Users/mariamelantably/Desktop/programs/vais internship/disease_project/ammended_dataset/preprocessed/test/Cherry___healthy/image (562).JPG done\n",
      "/Users/mariamelantably/Desktop/programs/vais internship/disease_project/ammended_dataset/preprocessed/test/Blueberry___healthy/image (1300).JPG done\n",
      "/Users/mariamelantably/Desktop/programs/vais internship/disease_project/ammended_dataset/preprocessed/test/Raspberry___healthy/image (360).JPG done\n",
      "/Users/mariamelantably/Desktop/programs/vais internship/disease_project/ammended_dataset/preprocessed/test/Strawberry___healthy/image (272).JPG done\n",
      "/Users/mariamelantably/Desktop/programs/vais internship/disease_project/ammended_dataset/preprocessed/test/Orange___Haunglongbing_Citrus_greening/image (4012).JPG done\n",
      "/Users/mariamelantably/Desktop/programs/vais internship/disease_project/ammended_dataset/preprocessed/test/Apple___Apple_scab/image (419).JPG done\n",
      "/Users/mariamelantably/Desktop/programs/vais internship/disease_project/ammended_dataset/preprocessed/test/Apple___Cedar_apple_rust/image (145).JPG done\n",
      "/Users/mariamelantably/Desktop/programs/vais internship/disease_project/ammended_dataset/preprocessed/test/Pepper_bell___healthy/image (378).JPG done\n",
      "/Users/mariamelantably/Desktop/programs/vais internship/disease_project/ammended_dataset/preprocessed/test/Cherry___healthy/image (596).JPG done\n",
      "/Users/mariamelantably/Desktop/programs/vais internship/disease_project/ammended_dataset/preprocessed/test/Orange___Haunglongbing_Citrus_greening/image (412).JPG done\n",
      "/Users/mariamelantably/Desktop/programs/vais internship/disease_project/ammended_dataset/preprocessed/test/Grape___Leaf_blight_Isariopsis_Leaf_Spot/image (476).JPG done\n",
      "/Users/mariamelantably/Desktop/programs/vais internship/disease_project/ammended_dataset/preprocessed/test/Tomato___Septoria_leaf_spot/image (1609).JPG done\n",
      "/Users/mariamelantably/Desktop/programs/vais internship/disease_project/ammended_dataset/preprocessed/test/Soybean___healthy/image (844).JPG done\n",
      "/Users/mariamelantably/Desktop/programs/vais internship/disease_project/ammended_dataset/preprocessed/test/Tomato___Bacterial_spot/image (981).JPG done\n",
      "/Users/mariamelantably/Desktop/programs/vais internship/disease_project/ammended_dataset/preprocessed/test/Grape___healthy/image (182).JPG done\n",
      "/Users/mariamelantably/Desktop/programs/vais internship/disease_project/ammended_dataset/preprocessed/test/Tomato___Bacterial_spot/image (816).JPG done\n",
      "/Users/mariamelantably/Desktop/programs/vais internship/disease_project/ammended_dataset/preprocessed/test/Raspberry___healthy/image (152).JPG done\n",
      "/Users/mariamelantably/Desktop/programs/vais internship/disease_project/ammended_dataset/preprocessed/test/Cherry___healthy/image (807).JPG done\n",
      "/Users/mariamelantably/Desktop/programs/vais internship/disease_project/ammended_dataset/preprocessed/test/Tomato___Target_Spot/image (607).JPG done\n",
      "/Users/mariamelantably/Desktop/programs/vais internship/disease_project/ammended_dataset/preprocessed/test/Tomato___Septoria_leaf_spot/image (302).JPG done\n",
      "/Users/mariamelantably/Desktop/programs/vais internship/disease_project/ammended_dataset/preprocessed/test/Cherry___healthy/image (817).JPG done\n",
      "/Users/mariamelantably/Desktop/programs/vais internship/disease_project/ammended_dataset/preprocessed/test/Tomato___Early_blight/image (140).JPG done\n",
      "/Users/mariamelantably/Desktop/programs/vais internship/disease_project/ammended_dataset/preprocessed/test/Grape___Esca_Black_Measles/image (534).JPG done\n",
      "/Users/mariamelantably/Desktop/programs/vais internship/disease_project/ammended_dataset/preprocessed/test/Peach___Bacterial_spot/image (791).JPG done\n",
      "/Users/mariamelantably/Desktop/programs/vais internship/disease_project/ammended_dataset/preprocessed/test/Tomato___Spider_mites_Two_spotted_spider_mite/image (807).JPG done\n",
      "/Users/mariamelantably/Desktop/programs/vais internship/disease_project/ammended_dataset/preprocessed/test/Pepper_bell___healthy/image (1011).JPG done\n",
      "/Users/mariamelantably/Desktop/programs/vais internship/disease_project/ammended_dataset/preprocessed/test/Corn___Cercospora_leaf_spot Gray_leaf_spot/image (125).JPG done\n",
      "/Users/mariamelantably/Desktop/programs/vais internship/disease_project/ammended_dataset/preprocessed/test/Raspberry___healthy/image (303).JPG done\n",
      "/Users/mariamelantably/Desktop/programs/vais internship/disease_project/ammended_dataset/preprocessed/test/Pepper_bell___Bacterial_spot/image (790).JPG done\n",
      "/Users/mariamelantably/Desktop/programs/vais internship/disease_project/ammended_dataset/preprocessed/test/Raspberry___healthy/image (293).JPG done\n",
      "/Users/mariamelantably/Desktop/programs/vais internship/disease_project/ammended_dataset/preprocessed/test/Tomato___Late_blight/image (951).JPG done\n",
      "/Users/mariamelantably/Desktop/programs/vais internship/disease_project/ammended_dataset/preprocessed/test/Blueberry___healthy/image (1413).JPG done\n",
      "/Users/mariamelantably/Desktop/programs/vais internship/disease_project/ammended_dataset/preprocessed/test/Tomato___Tomato_mosaic_virus/image (163).JPG done\n",
      "/Users/mariamelantably/Desktop/programs/vais internship/disease_project/ammended_dataset/preprocessed/test/Grape___Leaf_blight_Isariopsis_Leaf_Spot/image (999).JPG done\n",
      "/Users/mariamelantably/Desktop/programs/vais internship/disease_project/ammended_dataset/preprocessed/test/Tomato___healthy/image (186).JPG done\n",
      "/Users/mariamelantably/Desktop/programs/vais internship/disease_project/ammended_dataset/preprocessed/test/Apple___healthy/image (867).JPG done\n",
      "/Users/mariamelantably/Desktop/programs/vais internship/disease_project/ammended_dataset/preprocessed/test/Peach___Bacterial_spot/image (187).JPG done\n",
      "/Users/mariamelantably/Desktop/programs/vais internship/disease_project/ammended_dataset/preprocessed/test/Tomato___Tomato_mosaic_virus/image (19).JPG done\n",
      "/Users/mariamelantably/Desktop/programs/vais internship/disease_project/ammended_dataset/preprocessed/test/Corn___Cercospora_leaf_spot Gray_leaf_spot/image (475).jpg done\n",
      "/Users/mariamelantably/Desktop/programs/vais internship/disease_project/ammended_dataset/preprocessed/test/Grape___healthy/image (162).JPG done\n"
     ]
    }
   ],
   "source": [
    "messages_train_2 = ['Possible labels:']\n",
    "grouped = df_train_2.groupby('class_name')\n",
    "for class_id, group in grouped:\n",
    "    for _, row in group.iterrows():\n",
    "        image_new = open(row[\"image_path\"], \"rb\").read()\n",
    "        base64_image = types.Part.from_bytes(data=image_new, mime_type=\"image/jpeg\")\n",
    "        messages_train_2.append(base64_image)\n",
    "    print(f\"{class_id} done\")\n",
    "    messages_train_2.append(f\"label: {class_id}\")\n",
    "\n",
    "messages_2 = [\"Input images:\"]\n",
    "for i, image_path in enumerate(df_test_2.image_path):\n",
    "    base64_img = open(image_path, \"rb\").read()\n",
    "    image_message = [\n",
    "        types.Part.from_bytes(data=base64_img, mime_type=\"image/jpeg\"),\n",
    "        f\"input_image_id: {i}\"\n",
    "    ]\n",
    "    messages_2.extend(image_message)\n",
    "    print(f\"{image_path} done\")\n",
    "messages_2.append(f\"Please correctly classify all {df_train.shape[0]} images\")"
   ]
  },
  {
   "cell_type": "markdown",
   "metadata": {},
   "source": [
    "Then, the prompt is imported, which includes examples of how the data should be structured. The client is then called to make the responses and then the responses are loaded as a JSON."
   ]
  },
  {
   "cell_type": "code",
   "execution_count": 45,
   "metadata": {},
   "outputs": [],
   "source": [
    "client = genai.Client(api_key = API_KEY)\n",
    "generation_config = types.GenerateContentConfig(response_mime_type=\"application/json\", max_output_tokens=6000000)\n",
    "CLASS_PROMPT = open(\"classification_prompt.txt\").read()\n",
    "response = client.models.generate_content(\n",
    "    contents = [CLASS_PROMPT] + messages_train + messages,\n",
    "    model=\"gemini-2.5-flash\",\n",
    "    config=generation_config\n",
    ")\n",
    "response2 = client.models.generate_content(\n",
    "    contents = [CLASS_PROMPT] + messages_train_2 + messages_2,\n",
    "    model=\"gemini-2.5-flash\",\n",
    "    config=generation_config\n",
    ")"
   ]
  },
  {
   "cell_type": "code",
   "execution_count": 46,
   "metadata": {},
   "outputs": [],
   "source": [
    "response_json_1 = json.loads(response.text)\n",
    "response_json_2 = json.loads(response2.text)"
   ]
  },
  {
   "cell_type": "markdown",
   "metadata": {},
   "source": [
    "### Analysis\n",
    "We will then do some analysis of the results from the object classification. The first step is to create the following helper function, which converts the class names into a tuple of the name of the crop and the name of the disease."
   ]
  },
  {
   "cell_type": "code",
   "execution_count": 12,
   "metadata": {},
   "outputs": [],
   "source": [
    "def convert_format(cl):\n",
    "    name = names[cl]\n",
    "    match = re.search(r\"^([\\w|_,()|\\s]+)(___)([\\w|_,()|\\s]+)$\", name)\n",
    "    crop = match.group(1)\n",
    "    disease = match.group(3)\n",
    "    crop = crop.lower()\n",
    "    disease = disease.lower()\n",
    "    disease = re.sub(\"_\", \" \", disease)\n",
    "    if crop == \"pepper,_bell\":\n",
    "        crop = \"bell pepper\"\n",
    "\n",
    "    return (crop, disease)\n",
    "    "
   ]
  },
  {
   "cell_type": "markdown",
   "metadata": {},
   "source": [
    "The first step is to analyse how the accuracy changes for the preprocessed and processed data."
   ]
  },
  {
   "cell_type": "code",
   "execution_count": 13,
   "metadata": {},
   "outputs": [],
   "source": [
    "def get_accuracy(y_true, y_pred):\n",
    "    total = len(y_true)\n",
    "    correct = 0\n",
    "    for i in range(total):\n",
    "        if y_true[i] == y_pred[i]:\n",
    "            correct += 1\n",
    "    return correct/total"
   ]
  },
  {
   "cell_type": "code",
   "execution_count": 14,
   "metadata": {},
   "outputs": [
    {
     "name": "stdout",
     "output_type": "stream",
     "text": [
      "Processed data accuracy: 0.7684210526315789\n",
      "Unprocessed data accuracy: 0.7631578947368421\n"
     ]
    }
   ],
   "source": [
    "predictions_1 = [item['label'] for item in response_json_1['output']]\n",
    "predictions_2 = [item['label'] for item in response_json_2['output']]\n",
    "actual = list(df_test.class_name)\n",
    "actual_2 = list(df_test_2.class_name)\n",
    "accuracy = get_accuracy(actual, predictions)\n",
    "accuracy_2 = get_accuracy(actual_2, predictions_2)\n",
    "print(\"Processed data accuracy:\", accuracy)\n",
    "print(\"Unprocessed data accuracy:\", accuracy_2)"
   ]
  },
  {
   "cell_type": "markdown",
   "metadata": {},
   "source": [
    "The next analysis is to look at the differences in predicting the crop and predicting the disease. "
   ]
  },
  {
   "cell_type": "code",
   "execution_count": 15,
   "metadata": {},
   "outputs": [
    {
     "name": "stdout",
     "output_type": "stream",
     "text": [
      "Accuracy of crop prediction: 0.95\n",
      "Accuracy of disease prediction: 0.8026315789473685\n"
     ]
    }
   ],
   "source": [
    "def accuracy_analysis(y_true, y_pred):\n",
    "    total = len(y_true)\n",
    "    correct_crop = 0\n",
    "    correct_disease = 0 \n",
    "    for i in range(total):\n",
    "        crop1, disease1 = convert_format(names.index(y_true[i]))\n",
    "        crop2, disease2 = convert_format(names.index(y_pred[i]))\n",
    "        if crop1 == crop2:\n",
    "            correct_crop += 1\n",
    "        if disease1 == disease2:\n",
    "            correct_disease += 1\n",
    "    return (correct_crop/total, correct_disease/total)\n",
    "\n",
    "acc = accuracy_analysis(actual, predictions)\n",
    "print(\"Accuracy of crop prediction:\", acc[0])\n",
    "print(\"Accuracy of disease prediction:\", acc[1])"
   ]
  },
  {
   "cell_type": "markdown",
   "metadata": {},
   "source": [
    "Next, we will analyse the accuracy per crop and look at how this correlates with the number of sub-labels we have for each crop."
   ]
  },
  {
   "cell_type": "code",
   "execution_count": 16,
   "metadata": {},
   "outputs": [
    {
     "name": "stdout",
     "output_type": "stream",
     "text": [
      "┌─────────────┬────────────┐\n",
      "│ Fruit       │   Accuracy │\n",
      "├─────────────┼────────────┤\n",
      "│ strawberry  │      1     │\n",
      "│ grape       │      0.925 │\n",
      "│ potato      │      0.9   │\n",
      "│ blueberry   │      1     │\n",
      "│ cherry      │      0.9   │\n",
      "│ tomato      │      0.44  │\n",
      "│ peach       │      0.9   │\n",
      "│ apple       │      0.725 │\n",
      "│ corn        │      0.85  │\n",
      "│ raspberry   │      1     │\n",
      "│ pepper_bell │      0.85  │\n",
      "│ orange      │      0.9   │\n",
      "│ squash      │      1     │\n",
      "│ soybean     │      0.9   │\n",
      "└─────────────┴────────────┘\n"
     ]
    }
   ],
   "source": [
    "def accuracy_per_crop(y_true, y_pred):\n",
    "    #first, parse the crop names into a dictionary\n",
    "    dict = {}\n",
    "    for c in names:\n",
    "        crop, _ = convert_format(names.index(c))\n",
    "        if crop not in dict.keys():\n",
    "            dict[crop] = [0,0]\n",
    "    for i in range(len(y_true)):\n",
    "        crop1, disease1 = convert_format(names.index(y_true[i]))\n",
    "        crop2, disease2 = convert_format(names.index(y_pred[i]))\n",
    "        if (crop1 == crop2) and (disease1 == disease2):\n",
    "            dict[crop1][0] += 1\n",
    "        dict[crop1][1] += 1\n",
    "    for crop in dict.keys():\n",
    "        dict[crop] = dict[crop][0]/dict[crop][1]\n",
    "    return dict\n",
    "\n",
    "d = accuracy_per_crop(actual, predictions)\n",
    "table = []\n",
    "for key, value in d.items():\n",
    "    table.append([key, round(value, 3)])\n",
    "print(tabulate(table, headers= [\"Fruit\", \"Accuracy\"], tablefmt='simple_outline'))"
   ]
  },
  {
   "cell_type": "code",
   "execution_count": 17,
   "metadata": {},
   "outputs": [
    {
     "data": {
      "image/png": "[encoded data removed]",
      "text/plain": [
       "<Figure size 640x480 with 1 Axes>"
      ]
     },
     "metadata": {},
     "output_type": "display_data"
    }
   ],
   "source": [
    "#analysis between number of diseases and accuracy\n",
    "dict = {}\n",
    "for c in names:\n",
    "    crop, _ = convert_format(names.index(c))\n",
    "    if crop not in dict.keys():\n",
    "        dict[crop] = 1\n",
    "    else:\n",
    "        dict[crop] += 1\n",
    "x = []\n",
    "y = []\n",
    "for crop in dict.keys():\n",
    "    x.append(dict[crop])\n",
    "    y.append(d[crop])\n",
    "plt.scatter(x, y, color = '#80EF80')\n",
    "slope, intercept = np.polyfit(x, y, 1)\n",
    "line = [slope * i + intercept for i in x]\n",
    "plt.plot(x, line, color = 'green', label = 'Best Fit Line')\n",
    "plt.xlabel(\"Number of diseases for a crop\")\n",
    "plt.ylabel(\"Accuracy per crop\")\n",
    "plt.title(\"Correlation between number of diseases (sub-labels) and accuracy per crop\")\n",
    "plt.show()"
   ]
  },
  {
   "cell_type": "markdown",
   "metadata": {},
   "source": [
    "This shows a clear negative correlation between the number of sub labels and the accuracy. \n",
    "\n",
    "### Further Exploration\n",
    "#### Before & After Images\n",
    "The first idea I looked at is passing in both the before and after images of the object detection, which uses a new prompt but a similar method as before. \n"
   ]
  },
  {
   "cell_type": "code",
   "execution_count": 24,
   "metadata": {},
   "outputs": [
    {
     "name": "stdout",
     "output_type": "stream",
     "text": [
      "Apple___Apple_scab done\n",
      "Apple___Black_rot done\n",
      "Apple___Cedar_apple_rust done\n",
      "Apple___healthy done\n",
      "Blueberry___healthy done\n",
      "Cherry___Powdery_mildew done\n",
      "Cherry___healthy done\n",
      "Corn___Cercospora_leaf_spot Gray_leaf_spot done\n",
      "Corn___Common_rust done\n",
      "Corn___Northern_Leaf_Blight done\n",
      "Corn___healthy done\n",
      "Grape___Black_rot done\n",
      "Grape___Esca_Black_Measles done\n",
      "Grape___Leaf_blight_Isariopsis_Leaf_Spot done\n",
      "Grape___healthy done\n",
      "Orange___Haunglongbing_Citrus_greening done\n",
      "Peach___Bacterial_spot done\n",
      "Peach___healthy done\n",
      "Pepper_bell___Bacterial_spot done\n",
      "Pepper_bell___healthy done\n",
      "Potato___Early_blight done\n",
      "Potato___Late_blight done\n",
      "Potato___healthy done\n",
      "Raspberry___healthy done\n",
      "Soybean___healthy done\n",
      "Squash___Powdery_mildew done\n",
      "Strawberry___Leaf_scorch done\n",
      "Strawberry___healthy done\n",
      "Tomato___Bacterial_spot done\n",
      "Tomato___Early_blight done\n",
      "Tomato___Late_blight done\n",
      "Tomato___Leaf_Mold done\n",
      "Tomato___Septoria_leaf_spot done\n",
      "Tomato___Spider_mites_Two_spotted_spider_mite done\n",
      "Tomato___Target_Spot done\n",
      "Tomato___Tomato_Yellow_Leaf_Curl_Virus done\n",
      "Tomato___Tomato_mosaic_virus done\n",
      "Tomato___healthy done\n",
      "/Users/mariamelantably/Desktop/programs/vais internship/disease_project/ammended_dataset/processed/test/Tomato___Early_blight/image (286).JPG done\n",
      "/Users/mariamelantably/Desktop/programs/vais internship/disease_project/ammended_dataset/processed/test/Apple___Black_rot/image (617).JPG done\n",
      "/Users/mariamelantably/Desktop/programs/vais internship/disease_project/ammended_dataset/processed/test/Peach___healthy/image (44).JPG done\n",
      "/Users/mariamelantably/Desktop/programs/vais internship/disease_project/ammended_dataset/processed/test/Peach___healthy/image (211).JPG done\n",
      "/Users/mariamelantably/Desktop/programs/vais internship/disease_project/ammended_dataset/processed/test/Corn___Common_rust/image (868).JPG done\n",
      "/Users/mariamelantably/Desktop/programs/vais internship/disease_project/ammended_dataset/processed/test/Tomato___Early_blight/image (662).JPG done\n",
      "/Users/mariamelantably/Desktop/programs/vais internship/disease_project/ammended_dataset/processed/test/Tomato___Late_blight/image (119).JPG done\n",
      "/Users/mariamelantably/Desktop/programs/vais internship/disease_project/ammended_dataset/processed/test/Peach___Bacterial_spot/image (187).JPG done\n",
      "/Users/mariamelantably/Desktop/programs/vais internship/disease_project/ammended_dataset/processed/test/Tomato___Tomato_mosaic_virus/image (175).JPG done\n",
      "/Users/mariamelantably/Desktop/programs/vais internship/disease_project/ammended_dataset/processed/test/Potato___healthy/image (142).JPG done\n",
      "/Users/mariamelantably/Desktop/programs/vais internship/disease_project/ammended_dataset/processed/test/Grape___Leaf_blight_Isariopsis_Leaf_Spot/image (941).JPG done\n",
      "/Users/mariamelantably/Desktop/programs/vais internship/disease_project/ammended_dataset/processed/test/Pepper_bell___healthy/image (773).JPG done\n",
      "/Users/mariamelantably/Desktop/programs/vais internship/disease_project/ammended_dataset/processed/test/Corn___Common_rust/image (690).JPG done\n",
      "/Users/mariamelantably/Desktop/programs/vais internship/disease_project/ammended_dataset/processed/test/Cherry___Powdery_mildew/image (842).JPG done\n",
      "/Users/mariamelantably/Desktop/programs/vais internship/disease_project/ammended_dataset/processed/test/Corn___Northern_Leaf_Blight/image (300).JPG done\n",
      "/Users/mariamelantably/Desktop/programs/vais internship/disease_project/ammended_dataset/processed/test/Tomato___Tomato_mosaic_virus/image (318).JPG done\n",
      "/Users/mariamelantably/Desktop/programs/vais internship/disease_project/ammended_dataset/processed/test/Cherry___healthy/image (783).JPG done\n",
      "/Users/mariamelantably/Desktop/programs/vais internship/disease_project/ammended_dataset/processed/test/Tomato___Spider_mites_Two_spotted_spider_mite/image (1590).JPG done\n",
      "/Users/mariamelantably/Desktop/programs/vais internship/disease_project/ammended_dataset/processed/test/Blueberry___healthy/image (1300).JPG done\n",
      "/Users/mariamelantably/Desktop/programs/vais internship/disease_project/ammended_dataset/processed/test/Blueberry___healthy/image (234).JPG done\n",
      "/Users/mariamelantably/Desktop/programs/vais internship/disease_project/ammended_dataset/processed/test/Tomato___Septoria_leaf_spot/image (242).JPG done\n",
      "/Users/mariamelantably/Desktop/programs/vais internship/disease_project/ammended_dataset/processed/test/Tomato___Tomato_mosaic_virus/image (163).JPG done\n",
      "/Users/mariamelantably/Desktop/programs/vais internship/disease_project/ammended_dataset/processed/test/Soybean___healthy/image (765).JPG done\n",
      "/Users/mariamelantably/Desktop/programs/vais internship/disease_project/ammended_dataset/processed/test/Tomato___Leaf_Mold/image (931).JPG done\n",
      "/Users/mariamelantably/Desktop/programs/vais internship/disease_project/ammended_dataset/processed/test/Tomato___Tomato_mosaic_virus/image (277).JPG done\n",
      "/Users/mariamelantably/Desktop/programs/vais internship/disease_project/ammended_dataset/processed/test/Raspberry___healthy/image (184).JPG done\n",
      "/Users/mariamelantably/Desktop/programs/vais internship/disease_project/ammended_dataset/processed/test/Corn___Common_rust/image (968).JPG done\n",
      "/Users/mariamelantably/Desktop/programs/vais internship/disease_project/ammended_dataset/processed/test/Cherry___Powdery_mildew/image (145).JPG done\n",
      "/Users/mariamelantably/Desktop/programs/vais internship/disease_project/ammended_dataset/processed/test/Tomato___Septoria_leaf_spot/image (299).JPG done\n",
      "/Users/mariamelantably/Desktop/programs/vais internship/disease_project/ammended_dataset/processed/test/Tomato___Bacterial_spot/image (981).JPG done\n",
      "/Users/mariamelantably/Desktop/programs/vais internship/disease_project/ammended_dataset/processed/test/Peach___healthy/image (75).JPG done\n",
      "/Users/mariamelantably/Desktop/programs/vais internship/disease_project/ammended_dataset/processed/test/Strawberry___Leaf_scorch/image (922).JPG done\n",
      "/Users/mariamelantably/Desktop/programs/vais internship/disease_project/ammended_dataset/processed/test/Tomato___Bacterial_spot/image (1737).JPG done\n",
      "/Users/mariamelantably/Desktop/programs/vais internship/disease_project/ammended_dataset/processed/test/Peach___Bacterial_spot/image (1489).JPG done\n",
      "/Users/mariamelantably/Desktop/programs/vais internship/disease_project/ammended_dataset/processed/test/Grape___Leaf_blight_Isariopsis_Leaf_Spot/image (519).JPG done\n",
      "/Users/mariamelantably/Desktop/programs/vais internship/disease_project/ammended_dataset/processed/test/Cherry___healthy/image (596).JPG done\n",
      "/Users/mariamelantably/Desktop/programs/vais internship/disease_project/ammended_dataset/processed/test/Strawberry___Leaf_scorch/image (682).JPG done\n",
      "/Users/mariamelantably/Desktop/programs/vais internship/disease_project/ammended_dataset/processed/test/Tomato___Target_Spot/image (624).JPG done\n",
      "/Users/mariamelantably/Desktop/programs/vais internship/disease_project/ammended_dataset/processed/test/Apple___Cedar_apple_rust/image (74).JPG done\n",
      "/Users/mariamelantably/Desktop/programs/vais internship/disease_project/ammended_dataset/processed/test/Soybean___healthy/image (4603).JPG done\n",
      "/Users/mariamelantably/Desktop/programs/vais internship/disease_project/ammended_dataset/processed/test/Apple___Apple_scab/image (23).JPG done\n",
      "/Users/mariamelantably/Desktop/programs/vais internship/disease_project/ammended_dataset/processed/test/Blueberry___healthy/image (50).JPG done\n",
      "/Users/mariamelantably/Desktop/programs/vais internship/disease_project/ammended_dataset/processed/test/Apple___healthy/image (1432).JPG done\n",
      "/Users/mariamelantably/Desktop/programs/vais internship/disease_project/ammended_dataset/processed/test/Apple___Cedar_apple_rust/image (165).JPG done\n",
      "/Users/mariamelantably/Desktop/programs/vais internship/disease_project/ammended_dataset/processed/test/Corn___Northern_Leaf_Blight/image (255).JPG done\n",
      "/Users/mariamelantably/Desktop/programs/vais internship/disease_project/ammended_dataset/processed/test/Corn___Northern_Leaf_Blight/image (982).jpg done\n",
      "/Users/mariamelantably/Desktop/programs/vais internship/disease_project/ammended_dataset/processed/test/Tomato___Spider_mites_Two_spotted_spider_mite/image (1308).JPG done\n",
      "/Users/mariamelantably/Desktop/programs/vais internship/disease_project/ammended_dataset/processed/test/Cherry___healthy/image (817).JPG done\n",
      "/Users/mariamelantably/Desktop/programs/vais internship/disease_project/ammended_dataset/processed/test/Corn___Cercospora_leaf_spot Gray_leaf_spot/image (14).JPG done\n",
      "/Users/mariamelantably/Desktop/programs/vais internship/disease_project/ammended_dataset/processed/test/Corn___Common_rust/image (393).JPG done\n",
      "/Users/mariamelantably/Desktop/programs/vais internship/disease_project/ammended_dataset/processed/test/Tomato___Tomato_mosaic_virus/image (215).JPG done\n",
      "/Users/mariamelantably/Desktop/programs/vais internship/disease_project/ammended_dataset/processed/test/Tomato___Late_blight/image (1807).JPG done\n",
      "/Users/mariamelantably/Desktop/programs/vais internship/disease_project/ammended_dataset/processed/test/Apple___Cedar_apple_rust/image (5).JPG done\n",
      "/Users/mariamelantably/Desktop/programs/vais internship/disease_project/ammended_dataset/processed/test/Blueberry___healthy/image (245).JPG done\n",
      "/Users/mariamelantably/Desktop/programs/vais internship/disease_project/ammended_dataset/processed/test/Apple___Black_rot/image (165).JPG done\n",
      "/Users/mariamelantably/Desktop/programs/vais internship/disease_project/ammended_dataset/processed/test/Soybean___healthy/image (844).JPG done\n",
      "/Users/mariamelantably/Desktop/programs/vais internship/disease_project/ammended_dataset/processed/test/Tomato___Bacterial_spot/image (558).JPG done\n",
      "/Users/mariamelantably/Desktop/programs/vais internship/disease_project/ammended_dataset/processed/test/Strawberry___healthy/image (366).JPG done\n",
      "/Users/mariamelantably/Desktop/programs/vais internship/disease_project/ammended_dataset/processed/test/Orange___Haunglongbing_Citrus_greening/image (3856).JPG done\n",
      "/Users/mariamelantably/Desktop/programs/vais internship/disease_project/ammended_dataset/processed/test/Grape___Black_rot/image (857).JPG done\n",
      "/Users/mariamelantably/Desktop/programs/vais internship/disease_project/ammended_dataset/processed/test/Tomato___Leaf_Mold/image (715).JPG done\n",
      "/Users/mariamelantably/Desktop/programs/vais internship/disease_project/ammended_dataset/processed/test/Tomato___healthy/image (853).JPG done\n",
      "/Users/mariamelantably/Desktop/programs/vais internship/disease_project/ammended_dataset/processed/test/Raspberry___healthy/image (360).JPG done\n",
      "/Users/mariamelantably/Desktop/programs/vais internship/disease_project/ammended_dataset/processed/test/Cherry___Powdery_mildew/image (14).JPG done\n",
      "/Users/mariamelantably/Desktop/programs/vais internship/disease_project/ammended_dataset/processed/test/Tomato___Target_Spot/image (212).JPG done\n",
      "/Users/mariamelantably/Desktop/programs/vais internship/disease_project/ammended_dataset/processed/test/Raspberry___healthy/image (183).JPG done\n",
      "/Users/mariamelantably/Desktop/programs/vais internship/disease_project/ammended_dataset/processed/test/Squash___Powdery_mildew/image (349).JPG done\n",
      "/Users/mariamelantably/Desktop/programs/vais internship/disease_project/ammended_dataset/processed/test/Strawberry___Leaf_scorch/image (810).JPG done\n",
      "/Users/mariamelantably/Desktop/programs/vais internship/disease_project/ammended_dataset/processed/test/Corn___Cercospora_leaf_spot Gray_leaf_spot/image (203).jpg done\n",
      "/Users/mariamelantably/Desktop/programs/vais internship/disease_project/ammended_dataset/processed/test/Potato___Late_blight/image (119).JPG done\n",
      "/Users/mariamelantably/Desktop/programs/vais internship/disease_project/ammended_dataset/processed/test/Strawberry___Leaf_scorch/image (1044).JPG done\n",
      "/Users/mariamelantably/Desktop/programs/vais internship/disease_project/ammended_dataset/processed/test/Tomato___Target_Spot/image (900).JPG done\n",
      "/Users/mariamelantably/Desktop/programs/vais internship/disease_project/ammended_dataset/processed/test/Orange___Haunglongbing_Citrus_greening/image (2806).JPG done\n",
      "/Users/mariamelantably/Desktop/programs/vais internship/disease_project/ammended_dataset/processed/test/Cherry___healthy/image (810).JPG done\n",
      "/Users/mariamelantably/Desktop/programs/vais internship/disease_project/ammended_dataset/processed/test/Grape___Black_rot/image (254).JPG done\n",
      "/Users/mariamelantably/Desktop/programs/vais internship/disease_project/ammended_dataset/processed/test/Potato___Early_blight/image (368).JPG done\n",
      "/Users/mariamelantably/Desktop/programs/vais internship/disease_project/ammended_dataset/processed/test/Apple___Apple_scab/image (137).JPG done\n",
      "/Users/mariamelantably/Desktop/programs/vais internship/disease_project/ammended_dataset/processed/test/Soybean___healthy/image (953).JPG done\n",
      "/Users/mariamelantably/Desktop/programs/vais internship/disease_project/ammended_dataset/processed/test/Orange___Haunglongbing_Citrus_greening/image (412).JPG done\n",
      "/Users/mariamelantably/Desktop/programs/vais internship/disease_project/ammended_dataset/processed/test/Tomato___healthy/image (589).JPG done\n",
      "/Users/mariamelantably/Desktop/programs/vais internship/disease_project/ammended_dataset/processed/test/Blueberry___healthy/image (790).JPG done\n",
      "/Users/mariamelantably/Desktop/programs/vais internship/disease_project/ammended_dataset/processed/test/Pepper_bell___healthy/image (766).JPG done\n",
      "/Users/mariamelantably/Desktop/programs/vais internship/disease_project/ammended_dataset/processed/test/Corn___Cercospora_leaf_spot Gray_leaf_spot/image (475).jpg done\n",
      "/Users/mariamelantably/Desktop/programs/vais internship/disease_project/ammended_dataset/processed/test/Soybean___healthy/image (1150).JPG done\n",
      "/Users/mariamelantably/Desktop/programs/vais internship/disease_project/ammended_dataset/processed/test/Peach___healthy/image (55).JPG done\n",
      "/Users/mariamelantably/Desktop/programs/vais internship/disease_project/ammended_dataset/processed/test/Tomato___Target_Spot/image (607).JPG done\n",
      "/Users/mariamelantably/Desktop/programs/vais internship/disease_project/ammended_dataset/processed/test/Tomato___Early_blight/image (111).JPG done\n",
      "/Users/mariamelantably/Desktop/programs/vais internship/disease_project/ammended_dataset/processed/test/Tomato___Septoria_leaf_spot/image (1663).JPG done\n",
      "/Users/mariamelantably/Desktop/programs/vais internship/disease_project/ammended_dataset/processed/test/Pepper_bell___Bacterial_spot/image (228).JPG done\n",
      "/Users/mariamelantably/Desktop/programs/vais internship/disease_project/ammended_dataset/processed/test/Pepper_bell___Bacterial_spot/image (828).JPG done\n",
      "/Users/mariamelantably/Desktop/programs/vais internship/disease_project/ammended_dataset/processed/test/Tomato___Bacterial_spot/image (769).JPG done\n",
      "/Users/mariamelantably/Desktop/programs/vais internship/disease_project/ammended_dataset/processed/test/Potato___Late_blight/image (174).JPG done\n",
      "/Users/mariamelantably/Desktop/programs/vais internship/disease_project/ammended_dataset/processed/test/Tomato___Target_Spot/image (871).JPG done\n",
      "/Users/mariamelantably/Desktop/programs/vais internship/disease_project/ammended_dataset/processed/test/Potato___healthy/image (42).JPG done\n",
      "/Users/mariamelantably/Desktop/programs/vais internship/disease_project/ammended_dataset/processed/test/Cherry___Powdery_mildew/image (243).JPG done\n",
      "/Users/mariamelantably/Desktop/programs/vais internship/disease_project/ammended_dataset/processed/test/Squash___Powdery_mildew/image (479).JPG done\n",
      "/Users/mariamelantably/Desktop/programs/vais internship/disease_project/ammended_dataset/processed/test/Peach___Bacterial_spot/image (484).JPG done\n",
      "/Users/mariamelantably/Desktop/programs/vais internship/disease_project/ammended_dataset/processed/test/Apple___healthy/image (837).JPG done\n",
      "/Users/mariamelantably/Desktop/programs/vais internship/disease_project/ammended_dataset/processed/test/Apple___healthy/image (867).JPG done\n",
      "/Users/mariamelantably/Desktop/programs/vais internship/disease_project/ammended_dataset/processed/test/Grape___healthy/image (162).JPG done\n",
      "/Users/mariamelantably/Desktop/programs/vais internship/disease_project/ammended_dataset/processed/test/Apple___Cedar_apple_rust/image (145).JPG done\n",
      "/Users/mariamelantably/Desktop/programs/vais internship/disease_project/ammended_dataset/processed/test/Pepper_bell___healthy/image (1309).JPG done\n",
      "/Users/mariamelantably/Desktop/programs/vais internship/disease_project/ammended_dataset/processed/test/Tomato___Early_blight/image (628).JPG done\n",
      "/Users/mariamelantably/Desktop/programs/vais internship/disease_project/ammended_dataset/processed/test/Potato___Early_blight/image (183).JPG done\n",
      "/Users/mariamelantably/Desktop/programs/vais internship/disease_project/ammended_dataset/processed/test/Squash___Powdery_mildew/image (1070).JPG done\n",
      "/Users/mariamelantably/Desktop/programs/vais internship/disease_project/ammended_dataset/processed/test/Peach___Bacterial_spot/image (791).JPG done\n",
      "/Users/mariamelantably/Desktop/programs/vais internship/disease_project/ammended_dataset/processed/test/Apple___Cedar_apple_rust/image (272).JPG done\n",
      "/Users/mariamelantably/Desktop/programs/vais internship/disease_project/ammended_dataset/processed/test/Cherry___Powdery_mildew/image (964).JPG done\n",
      "/Users/mariamelantably/Desktop/programs/vais internship/disease_project/ammended_dataset/processed/test/Corn___Cercospora_leaf_spot Gray_leaf_spot/image (125).JPG done\n",
      "/Users/mariamelantably/Desktop/programs/vais internship/disease_project/ammended_dataset/processed/test/Corn___Cercospora_leaf_spot Gray_leaf_spot/image (391).JPG done\n",
      "/Users/mariamelantably/Desktop/programs/vais internship/disease_project/ammended_dataset/processed/test/Apple___healthy/image (303).JPG done\n",
      "/Users/mariamelantably/Desktop/programs/vais internship/disease_project/ammended_dataset/processed/test/Corn___healthy/image (929).jpg done\n",
      "/Users/mariamelantably/Desktop/programs/vais internship/disease_project/ammended_dataset/processed/test/Grape___Black_rot/image (206).JPG done\n",
      "/Users/mariamelantably/Desktop/programs/vais internship/disease_project/ammended_dataset/processed/test/Tomato___Late_blight/image (45).JPG done\n",
      "/Users/mariamelantably/Desktop/programs/vais internship/disease_project/ammended_dataset/processed/test/Squash___Powdery_mildew/image (638).JPG done\n",
      "/Users/mariamelantably/Desktop/programs/vais internship/disease_project/ammended_dataset/processed/test/Pepper_bell___healthy/image (1011).JPG done\n",
      "/Users/mariamelantably/Desktop/programs/vais internship/disease_project/ammended_dataset/processed/test/Apple___Black_rot/image (613).JPG done\n",
      "/Users/mariamelantably/Desktop/programs/vais internship/disease_project/ammended_dataset/processed/test/Blueberry___healthy/image (491).JPG done\n",
      "/Users/mariamelantably/Desktop/programs/vais internship/disease_project/ammended_dataset/processed/test/Corn___Common_rust/image (318).JPG done\n",
      "/Users/mariamelantably/Desktop/programs/vais internship/disease_project/ammended_dataset/processed/test/Apple___Cedar_apple_rust/image (156).JPG done\n",
      "/Users/mariamelantably/Desktop/programs/vais internship/disease_project/ammended_dataset/processed/test/Strawberry___healthy/image (245).JPG done\n",
      "/Users/mariamelantably/Desktop/programs/vais internship/disease_project/ammended_dataset/processed/test/Tomato___healthy/image (1252).JPG done\n",
      "/Users/mariamelantably/Desktop/programs/vais internship/disease_project/ammended_dataset/processed/test/Tomato___Tomato_Yellow_Leaf_Curl_Virus/image (2027).JPG done\n",
      "/Users/mariamelantably/Desktop/programs/vais internship/disease_project/ammended_dataset/processed/test/Corn___Cercospora_leaf_spot Gray_leaf_spot/image (446).JPG done\n",
      "/Users/mariamelantably/Desktop/programs/vais internship/disease_project/ammended_dataset/processed/test/Apple___healthy/image (1447).JPG done\n",
      "/Users/mariamelantably/Desktop/programs/vais internship/disease_project/ammended_dataset/processed/test/Apple___Black_rot/image (59).JPG done\n",
      "/Users/mariamelantably/Desktop/programs/vais internship/disease_project/ammended_dataset/processed/test/Cherry___healthy/image (807).JPG done\n",
      "/Users/mariamelantably/Desktop/programs/vais internship/disease_project/ammended_dataset/processed/test/Tomato___Spider_mites_Two_spotted_spider_mite/image (378).JPG done\n",
      "/Users/mariamelantably/Desktop/programs/vais internship/disease_project/ammended_dataset/processed/test/Tomato___Early_blight/image (698).JPG done\n",
      "/Users/mariamelantably/Desktop/programs/vais internship/disease_project/ammended_dataset/processed/test/Tomato___Septoria_leaf_spot/image (1192).JPG done\n",
      "/Users/mariamelantably/Desktop/programs/vais internship/disease_project/ammended_dataset/processed/test/Tomato___Tomato_mosaic_virus/image (162).JPG done\n",
      "/Users/mariamelantably/Desktop/programs/vais internship/disease_project/ammended_dataset/processed/test/Potato___Late_blight/image (204).JPG done\n",
      "/Users/mariamelantably/Desktop/programs/vais internship/disease_project/ammended_dataset/processed/test/Strawberry___healthy/image (428).JPG done\n",
      "/Users/mariamelantably/Desktop/programs/vais internship/disease_project/ammended_dataset/processed/test/Corn___healthy/image (1159).jpg done\n",
      "/Users/mariamelantably/Desktop/programs/vais internship/disease_project/ammended_dataset/processed/test/Peach___healthy/image (274).JPG done\n",
      "/Users/mariamelantably/Desktop/programs/vais internship/disease_project/ammended_dataset/processed/test/Corn___Northern_Leaf_Blight/image (85).JPG done\n",
      "/Users/mariamelantably/Desktop/programs/vais internship/disease_project/ammended_dataset/processed/test/Tomato___Tomato_mosaic_virus/image (281).JPG done\n",
      "/Users/mariamelantably/Desktop/programs/vais internship/disease_project/ammended_dataset/processed/test/Peach___Bacterial_spot/image (97).JPG done\n",
      "/Users/mariamelantably/Desktop/programs/vais internship/disease_project/ammended_dataset/processed/test/Apple___Apple_scab/image (256).JPG done\n",
      "/Users/mariamelantably/Desktop/programs/vais internship/disease_project/ammended_dataset/processed/test/Tomato___Target_Spot/image (122).JPG done\n",
      "/Users/mariamelantably/Desktop/programs/vais internship/disease_project/ammended_dataset/processed/test/Tomato___Bacterial_spot/image (246).JPG done\n",
      "/Users/mariamelantably/Desktop/programs/vais internship/disease_project/ammended_dataset/processed/test/Tomato___Spider_mites_Two_spotted_spider_mite/image (1516).JPG done\n",
      "/Users/mariamelantably/Desktop/programs/vais internship/disease_project/ammended_dataset/processed/test/Squash___Powdery_mildew/image (29).JPG done\n",
      "/Users/mariamelantably/Desktop/programs/vais internship/disease_project/ammended_dataset/processed/test/Apple___Cedar_apple_rust/image (15).JPG done\n",
      "/Users/mariamelantably/Desktop/programs/vais internship/disease_project/ammended_dataset/processed/test/Apple___Black_rot/image (345).JPG done\n",
      "/Users/mariamelantably/Desktop/programs/vais internship/disease_project/ammended_dataset/processed/test/Soybean___healthy/image (389).JPG done\n",
      "/Users/mariamelantably/Desktop/programs/vais internship/disease_project/ammended_dataset/processed/test/Tomato___Target_Spot/image (356).JPG done\n",
      "/Users/mariamelantably/Desktop/programs/vais internship/disease_project/ammended_dataset/processed/test/Grape___Esca_Black_Measles/image (1291).JPG done\n",
      "/Users/mariamelantably/Desktop/programs/vais internship/disease_project/ammended_dataset/processed/test/Tomato___Bacterial_spot/image (1491).JPG done\n",
      "/Users/mariamelantably/Desktop/programs/vais internship/disease_project/ammended_dataset/processed/test/Apple___Black_rot/image (342).JPG done\n",
      "/Users/mariamelantably/Desktop/programs/vais internship/disease_project/ammended_dataset/processed/test/Peach___Bacterial_spot/image (972).JPG done\n",
      "/Users/mariamelantably/Desktop/programs/vais internship/disease_project/ammended_dataset/processed/test/Tomato___Early_blight/image (115).JPG done\n",
      "/Users/mariamelantably/Desktop/programs/vais internship/disease_project/ammended_dataset/processed/test/Apple___Black_rot/image (583).JPG done\n",
      "/Users/mariamelantably/Desktop/programs/vais internship/disease_project/ammended_dataset/processed/test/Tomato___Early_blight/image (753).JPG done\n",
      "/Users/mariamelantably/Desktop/programs/vais internship/disease_project/ammended_dataset/processed/test/Corn___Cercospora_leaf_spot Gray_leaf_spot/image (420).JPG done\n",
      "/Users/mariamelantably/Desktop/programs/vais internship/disease_project/ammended_dataset/processed/test/Tomato___Tomato_Yellow_Leaf_Curl_Virus/image (2952).JPG done\n",
      "/Users/mariamelantably/Desktop/programs/vais internship/disease_project/ammended_dataset/processed/test/Grape___Leaf_blight_Isariopsis_Leaf_Spot/image (946).JPG done\n",
      "/Users/mariamelantably/Desktop/programs/vais internship/disease_project/ammended_dataset/processed/test/Potato___Early_blight/image (207).JPG done\n",
      "/Users/mariamelantably/Desktop/programs/vais internship/disease_project/ammended_dataset/processed/test/Raspberry___healthy/image (303).JPG done\n",
      "/Users/mariamelantably/Desktop/programs/vais internship/disease_project/ammended_dataset/processed/test/Apple___Apple_scab/image (477).JPG done\n",
      "/Users/mariamelantably/Desktop/programs/vais internship/disease_project/ammended_dataset/processed/test/Tomato___Late_blight/image (410).JPG done\n",
      "/Users/mariamelantably/Desktop/programs/vais internship/disease_project/ammended_dataset/processed/test/Pepper_bell___Bacterial_spot/image (849).JPG done\n",
      "/Users/mariamelantably/Desktop/programs/vais internship/disease_project/ammended_dataset/processed/test/Apple___Apple_scab/image (220).JPG done\n",
      "/Users/mariamelantably/Desktop/programs/vais internship/disease_project/ammended_dataset/processed/test/Tomato___Early_blight/image (916).JPG done\n",
      "/Users/mariamelantably/Desktop/programs/vais internship/disease_project/ammended_dataset/processed/test/Grape___healthy/image (182).JPG done\n",
      "/Users/mariamelantably/Desktop/programs/vais internship/disease_project/ammended_dataset/processed/test/Potato___healthy/image (63).JPG done\n",
      "/Users/mariamelantably/Desktop/programs/vais internship/disease_project/ammended_dataset/processed/test/Tomato___Tomato_Yellow_Leaf_Curl_Virus/image (921).JPG done\n",
      "/Users/mariamelantably/Desktop/programs/vais internship/disease_project/ammended_dataset/processed/test/Tomato___Target_Spot/image (446).JPG done\n",
      "/Users/mariamelantably/Desktop/programs/vais internship/disease_project/ammended_dataset/processed/test/Corn___healthy/image (528).jpg done\n",
      "/Users/mariamelantably/Desktop/programs/vais internship/disease_project/ammended_dataset/processed/test/Tomato___Late_blight/image (335).JPG done\n",
      "/Users/mariamelantably/Desktop/programs/vais internship/disease_project/ammended_dataset/processed/test/Tomato___Bacterial_spot/image (2123).JPG done\n",
      "/Users/mariamelantably/Desktop/programs/vais internship/disease_project/ammended_dataset/processed/test/Apple___healthy/image (538).JPG done\n",
      "/Users/mariamelantably/Desktop/programs/vais internship/disease_project/ammended_dataset/processed/test/Pepper_bell___Bacterial_spot/image (92).JPG done\n",
      "/Users/mariamelantably/Desktop/programs/vais internship/disease_project/ammended_dataset/processed/test/Apple___healthy/image (302).JPG done\n",
      "/Users/mariamelantably/Desktop/programs/vais internship/disease_project/ammended_dataset/processed/test/Grape___Esca_Black_Measles/image (79).JPG done\n",
      "/Users/mariamelantably/Desktop/programs/vais internship/disease_project/ammended_dataset/processed/test/Apple___Cedar_apple_rust/image (91).JPG done\n",
      "/Users/mariamelantably/Desktop/programs/vais internship/disease_project/ammended_dataset/processed/test/Tomato___Tomato_mosaic_virus/image (362).JPG done\n",
      "/Users/mariamelantably/Desktop/programs/vais internship/disease_project/ammended_dataset/processed/test/Orange___Haunglongbing_Citrus_greening/image (1235).JPG done\n",
      "/Users/mariamelantably/Desktop/programs/vais internship/disease_project/ammended_dataset/processed/test/Strawberry___Leaf_scorch/image (983).JPG done\n",
      "/Users/mariamelantably/Desktop/programs/vais internship/disease_project/ammended_dataset/processed/test/Tomato___Bacterial_spot/image (379).JPG done\n",
      "/Users/mariamelantably/Desktop/programs/vais internship/disease_project/ammended_dataset/processed/test/Tomato___Late_blight/image (382).JPG done\n",
      "/Users/mariamelantably/Desktop/programs/vais internship/disease_project/ammended_dataset/processed/test/Apple___healthy/image (691).JPG done\n",
      "/Users/mariamelantably/Desktop/programs/vais internship/disease_project/ammended_dataset/processed/test/Grape___Leaf_blight_Isariopsis_Leaf_Spot/image (806).JPG done\n",
      "/Users/mariamelantably/Desktop/programs/vais internship/disease_project/ammended_dataset/processed/test/Strawberry___Leaf_scorch/image (534).JPG done\n",
      "/Users/mariamelantably/Desktop/programs/vais internship/disease_project/ammended_dataset/processed/test/Pepper_bell___healthy/image (581).JPG done\n",
      "/Users/mariamelantably/Desktop/programs/vais internship/disease_project/ammended_dataset/processed/test/Potato___Early_blight/image (697).JPG done\n",
      "/Users/mariamelantably/Desktop/programs/vais internship/disease_project/ammended_dataset/processed/test/Pepper_bell___Bacterial_spot/image (644).JPG done\n",
      "/Users/mariamelantably/Desktop/programs/vais internship/disease_project/ammended_dataset/processed/test/Tomato___Spider_mites_Two_spotted_spider_mite/image (676).JPG done\n",
      "/Users/mariamelantably/Desktop/programs/vais internship/disease_project/ammended_dataset/processed/test/Peach___healthy/image (102).JPG done\n",
      "/Users/mariamelantably/Desktop/programs/vais internship/disease_project/ammended_dataset/processed/test/Peach___healthy/image (110).JPG done\n",
      "/Users/mariamelantably/Desktop/programs/vais internship/disease_project/ammended_dataset/processed/test/Tomato___Septoria_leaf_spot/image (1609).JPG done\n",
      "/Users/mariamelantably/Desktop/programs/vais internship/disease_project/ammended_dataset/processed/test/Corn___Common_rust/image (100).JPG done\n",
      "/Users/mariamelantably/Desktop/programs/vais internship/disease_project/ammended_dataset/processed/test/Tomato___Late_blight/image (660).JPG done\n",
      "/Users/mariamelantably/Desktop/programs/vais internship/disease_project/ammended_dataset/processed/test/Grape___healthy/image (366).JPG done\n",
      "/Users/mariamelantably/Desktop/programs/vais internship/disease_project/ammended_dataset/processed/test/Apple___Black_rot/image (352).JPG done\n",
      "/Users/mariamelantably/Desktop/programs/vais internship/disease_project/ammended_dataset/processed/test/Cherry___healthy/image (108).JPG done\n",
      "/Users/mariamelantably/Desktop/programs/vais internship/disease_project/ammended_dataset/processed/test/Tomato___Septoria_leaf_spot/image (302).JPG done\n",
      "/Users/mariamelantably/Desktop/programs/vais internship/disease_project/ammended_dataset/processed/test/Pepper_bell___Bacterial_spot/image (790).JPG done\n",
      "/Users/mariamelantably/Desktop/programs/vais internship/disease_project/ammended_dataset/processed/test/Corn___Common_rust/image (342).JPG done\n",
      "/Users/mariamelantably/Desktop/programs/vais internship/disease_project/ammended_dataset/processed/test/Potato___healthy/image (72).JPG done\n",
      "/Users/mariamelantably/Desktop/programs/vais internship/disease_project/ammended_dataset/processed/test/Tomato___Tomato_mosaic_virus/image (53).JPG done\n",
      "/Users/mariamelantably/Desktop/programs/vais internship/disease_project/ammended_dataset/processed/test/Tomato___Spider_mites_Two_spotted_spider_mite/image (322).JPG done\n",
      "/Users/mariamelantably/Desktop/programs/vais internship/disease_project/ammended_dataset/processed/test/Tomato___Leaf_Mold/image (410).JPG done\n",
      "/Users/mariamelantably/Desktop/programs/vais internship/disease_project/ammended_dataset/processed/test/Potato___healthy/image (79).JPG done\n",
      "/Users/mariamelantably/Desktop/programs/vais internship/disease_project/ammended_dataset/processed/test/Raspberry___healthy/image (110).JPG done\n",
      "/Users/mariamelantably/Desktop/programs/vais internship/disease_project/ammended_dataset/processed/test/Strawberry___Leaf_scorch/image (190).JPG done\n",
      "/Users/mariamelantably/Desktop/programs/vais internship/disease_project/ammended_dataset/processed/test/Potato___Late_blight/image (161).JPG done\n",
      "/Users/mariamelantably/Desktop/programs/vais internship/disease_project/ammended_dataset/processed/test/Cherry___Powdery_mildew/image (939).JPG done\n",
      "/Users/mariamelantably/Desktop/programs/vais internship/disease_project/ammended_dataset/processed/test/Corn___Common_rust/image (5).JPG done\n",
      "/Users/mariamelantably/Desktop/programs/vais internship/disease_project/ammended_dataset/processed/test/Strawberry___healthy/image (171).JPG done\n",
      "/Users/mariamelantably/Desktop/programs/vais internship/disease_project/ammended_dataset/processed/test/Potato___Early_blight/image (823).JPG done\n",
      "/Users/mariamelantably/Desktop/programs/vais internship/disease_project/ammended_dataset/processed/test/Tomato___Leaf_Mold/image (895).JPG done\n",
      "/Users/mariamelantably/Desktop/programs/vais internship/disease_project/ammended_dataset/processed/test/Raspberry___healthy/image (42).JPG done\n",
      "/Users/mariamelantably/Desktop/programs/vais internship/disease_project/ammended_dataset/processed/test/Strawberry___Leaf_scorch/image (74).JPG done\n",
      "/Users/mariamelantably/Desktop/programs/vais internship/disease_project/ammended_dataset/processed/test/Blueberry___healthy/image (344).JPG done\n",
      "/Users/mariamelantably/Desktop/programs/vais internship/disease_project/ammended_dataset/processed/test/Peach___Bacterial_spot/image (1556).JPG done\n",
      "/Users/mariamelantably/Desktop/programs/vais internship/disease_project/ammended_dataset/processed/test/Tomato___healthy/image (117).JPG done\n",
      "/Users/mariamelantably/Desktop/programs/vais internship/disease_project/ammended_dataset/processed/test/Orange___Haunglongbing_Citrus_greening/image (3434).JPG done\n",
      "/Users/mariamelantably/Desktop/programs/vais internship/disease_project/ammended_dataset/processed/test/Corn___healthy/image (313).jpg done\n",
      "/Users/mariamelantably/Desktop/programs/vais internship/disease_project/ammended_dataset/processed/test/Potato___Late_blight/image (843).JPG done\n",
      "/Users/mariamelantably/Desktop/programs/vais internship/disease_project/ammended_dataset/processed/test/Tomato___Early_blight/image (140).JPG done\n",
      "/Users/mariamelantably/Desktop/programs/vais internship/disease_project/ammended_dataset/processed/test/Pepper_bell___healthy/image (378).JPG done\n",
      "/Users/mariamelantably/Desktop/programs/vais internship/disease_project/ammended_dataset/processed/test/Pepper_bell___healthy/image (1015).JPG done\n",
      "/Users/mariamelantably/Desktop/programs/vais internship/disease_project/ammended_dataset/processed/test/Peach___Bacterial_spot/image (1989).JPG done\n",
      "/Users/mariamelantably/Desktop/programs/vais internship/disease_project/ammended_dataset/processed/test/Cherry___healthy/image (560).JPG done\n",
      "/Users/mariamelantably/Desktop/programs/vais internship/disease_project/ammended_dataset/processed/test/Corn___Northern_Leaf_Blight/image (233).JPG done\n",
      "/Users/mariamelantably/Desktop/programs/vais internship/disease_project/ammended_dataset/processed/test/Potato___Late_blight/image (680).JPG done\n",
      "/Users/mariamelantably/Desktop/programs/vais internship/disease_project/ammended_dataset/processed/test/Apple___Cedar_apple_rust/image (99).JPG done\n",
      "/Users/mariamelantably/Desktop/programs/vais internship/disease_project/ammended_dataset/processed/test/Apple___healthy/image (562).JPG done\n",
      "/Users/mariamelantably/Desktop/programs/vais internship/disease_project/ammended_dataset/processed/test/Strawberry___Leaf_scorch/image (403).JPG done\n",
      "/Users/mariamelantably/Desktop/programs/vais internship/disease_project/ammended_dataset/processed/test/Tomato___Septoria_leaf_spot/image (1481).JPG done\n",
      "/Users/mariamelantably/Desktop/programs/vais internship/disease_project/ammended_dataset/processed/test/Orange___Haunglongbing_Citrus_greening/image (2547).JPG done\n",
      "/Users/mariamelantably/Desktop/programs/vais internship/disease_project/ammended_dataset/processed/test/Grape___Esca_Black_Measles/image (809).JPG done\n",
      "/Users/mariamelantably/Desktop/programs/vais internship/disease_project/ammended_dataset/processed/test/Tomato___healthy/image (153).JPG done\n",
      "/Users/mariamelantably/Desktop/programs/vais internship/disease_project/ammended_dataset/processed/test/Peach___Bacterial_spot/image (314).JPG done\n",
      "/Users/mariamelantably/Desktop/programs/vais internship/disease_project/ammended_dataset/processed/test/Potato___healthy/image (152).JPG done\n",
      "/Users/mariamelantably/Desktop/programs/vais internship/disease_project/ammended_dataset/processed/test/Tomato___Spider_mites_Two_spotted_spider_mite/image (519).JPG done\n",
      "/Users/mariamelantably/Desktop/programs/vais internship/disease_project/ammended_dataset/processed/test/Apple___Apple_scab/image (442).JPG done\n",
      "/Users/mariamelantably/Desktop/programs/vais internship/disease_project/ammended_dataset/processed/test/Grape___healthy/image (400).JPG done\n",
      "/Users/mariamelantably/Desktop/programs/vais internship/disease_project/ammended_dataset/processed/test/Soybean___healthy/image (4541).JPG done\n",
      "/Users/mariamelantably/Desktop/programs/vais internship/disease_project/ammended_dataset/processed/test/Strawberry___healthy/image (322).JPG done\n",
      "/Users/mariamelantably/Desktop/programs/vais internship/disease_project/ammended_dataset/processed/test/Tomato___healthy/image (737).JPG done\n",
      "/Users/mariamelantably/Desktop/programs/vais internship/disease_project/ammended_dataset/processed/test/Potato___healthy/image (2).JPG done\n",
      "/Users/mariamelantably/Desktop/programs/vais internship/disease_project/ammended_dataset/processed/test/Apple___Cedar_apple_rust/image (93).JPG done\n",
      "/Users/mariamelantably/Desktop/programs/vais internship/disease_project/ammended_dataset/processed/test/Peach___healthy/image (216).JPG done\n",
      "/Users/mariamelantably/Desktop/programs/vais internship/disease_project/ammended_dataset/processed/test/Grape___Black_rot/image (779).JPG done\n",
      "/Users/mariamelantably/Desktop/programs/vais internship/disease_project/ammended_dataset/processed/test/Blueberry___healthy/image (635).JPG done\n",
      "/Users/mariamelantably/Desktop/programs/vais internship/disease_project/ammended_dataset/processed/test/Grape___Esca_Black_Measles/image (534).JPG done\n",
      "/Users/mariamelantably/Desktop/programs/vais internship/disease_project/ammended_dataset/processed/test/Squash___Powdery_mildew/image (75).JPG done\n",
      "/Users/mariamelantably/Desktop/programs/vais internship/disease_project/ammended_dataset/processed/test/Tomato___Tomato_Yellow_Leaf_Curl_Virus/image (3587).JPG done\n",
      "/Users/mariamelantably/Desktop/programs/vais internship/disease_project/ammended_dataset/processed/test/Pepper_bell___Bacterial_spot/image (227).JPG done\n",
      "/Users/mariamelantably/Desktop/programs/vais internship/disease_project/ammended_dataset/processed/test/Tomato___Tomato_Yellow_Leaf_Curl_Virus/image (966).JPG done\n",
      "/Users/mariamelantably/Desktop/programs/vais internship/disease_project/ammended_dataset/processed/test/Potato___Late_blight/image (939).JPG done\n",
      "/Users/mariamelantably/Desktop/programs/vais internship/disease_project/ammended_dataset/processed/test/Tomato___Leaf_Mold/image (678).JPG done\n",
      "/Users/mariamelantably/Desktop/programs/vais internship/disease_project/ammended_dataset/processed/test/Soybean___healthy/image (479).JPG done\n",
      "/Users/mariamelantably/Desktop/programs/vais internship/disease_project/ammended_dataset/processed/test/Tomato___Spider_mites_Two_spotted_spider_mite/image (741).JPG done\n",
      "/Users/mariamelantably/Desktop/programs/vais internship/disease_project/ammended_dataset/processed/test/Tomato___Late_blight/image (951).JPG done\n",
      "/Users/mariamelantably/Desktop/programs/vais internship/disease_project/ammended_dataset/processed/test/Apple___healthy/image (1470).JPG done\n",
      "/Users/mariamelantably/Desktop/programs/vais internship/disease_project/ammended_dataset/processed/test/Strawberry___Leaf_scorch/image (992).JPG done\n",
      "/Users/mariamelantably/Desktop/programs/vais internship/disease_project/ammended_dataset/processed/test/Pepper_bell___Bacterial_spot/image (489).JPG done\n",
      "/Users/mariamelantably/Desktop/programs/vais internship/disease_project/ammended_dataset/processed/test/Tomato___Tomato_Yellow_Leaf_Curl_Virus/image (2298).JPG done\n",
      "/Users/mariamelantably/Desktop/programs/vais internship/disease_project/ammended_dataset/processed/test/Corn___Northern_Leaf_Blight/image (155).JPG done\n",
      "/Users/mariamelantably/Desktop/programs/vais internship/disease_project/ammended_dataset/processed/test/Grape___Leaf_blight_Isariopsis_Leaf_Spot/image (442).JPG done\n",
      "/Users/mariamelantably/Desktop/programs/vais internship/disease_project/ammended_dataset/processed/test/Tomato___Septoria_leaf_spot/image (614).JPG done\n",
      "/Users/mariamelantably/Desktop/programs/vais internship/disease_project/ammended_dataset/processed/test/Tomato___Tomato_mosaic_virus/image (19).JPG done\n",
      "/Users/mariamelantably/Desktop/programs/vais internship/disease_project/ammended_dataset/processed/test/Grape___Leaf_blight_Isariopsis_Leaf_Spot/image (775).JPG done\n",
      "/Users/mariamelantably/Desktop/programs/vais internship/disease_project/ammended_dataset/processed/test/Grape___Black_rot/image (562).JPG done\n",
      "/Users/mariamelantably/Desktop/programs/vais internship/disease_project/ammended_dataset/processed/test/Apple___Black_rot/image (316).JPG done\n",
      "/Users/mariamelantably/Desktop/programs/vais internship/disease_project/ammended_dataset/processed/test/Grape___Esca_Black_Measles/image (1009).JPG done\n",
      "/Users/mariamelantably/Desktop/programs/vais internship/disease_project/ammended_dataset/processed/test/Grape___Leaf_blight_Isariopsis_Leaf_Spot/image (579).JPG done\n",
      "/Users/mariamelantably/Desktop/programs/vais internship/disease_project/ammended_dataset/processed/test/Corn___Cercospora_leaf_spot Gray_leaf_spot/image (297).JPG done\n",
      "/Users/mariamelantably/Desktop/programs/vais internship/disease_project/ammended_dataset/processed/test/Soybean___healthy/image (4816).JPG done\n",
      "/Users/mariamelantably/Desktop/programs/vais internship/disease_project/ammended_dataset/processed/test/Tomato___Leaf_Mold/image (124).JPG done\n",
      "/Users/mariamelantably/Desktop/programs/vais internship/disease_project/ammended_dataset/processed/test/Potato___Early_blight/image (204).JPG done\n",
      "/Users/mariamelantably/Desktop/programs/vais internship/disease_project/ammended_dataset/processed/test/Strawberry___healthy/image (192).JPG done\n",
      "/Users/mariamelantably/Desktop/programs/vais internship/disease_project/ammended_dataset/processed/test/Tomato___Spider_mites_Two_spotted_spider_mite/image (555).JPG done\n",
      "/Users/mariamelantably/Desktop/programs/vais internship/disease_project/ammended_dataset/processed/test/Corn___Northern_Leaf_Blight/image (553).JPG done\n",
      "/Users/mariamelantably/Desktop/programs/vais internship/disease_project/ammended_dataset/processed/test/Tomato___Septoria_leaf_spot/image (350).JPG done\n",
      "/Users/mariamelantably/Desktop/programs/vais internship/disease_project/ammended_dataset/processed/test/Tomato___Leaf_Mold/image (263).JPG done\n",
      "/Users/mariamelantably/Desktop/programs/vais internship/disease_project/ammended_dataset/processed/test/Orange___Haunglongbing_Citrus_greening/image (4012).JPG done\n",
      "/Users/mariamelantably/Desktop/programs/vais internship/disease_project/ammended_dataset/processed/test/Potato___Late_blight/image (234).JPG done\n",
      "/Users/mariamelantably/Desktop/programs/vais internship/disease_project/ammended_dataset/processed/test/Tomato___Late_blight/image (1279).JPG done\n",
      "/Users/mariamelantably/Desktop/programs/vais internship/disease_project/ammended_dataset/processed/test/Potato___healthy/image (38).JPG done\n",
      "/Users/mariamelantably/Desktop/programs/vais internship/disease_project/ammended_dataset/processed/test/Grape___Leaf_blight_Isariopsis_Leaf_Spot/image (999).JPG done\n",
      "/Users/mariamelantably/Desktop/programs/vais internship/disease_project/ammended_dataset/processed/test/Pepper_bell___Bacterial_spot/image (204).JPG done\n",
      "/Users/mariamelantably/Desktop/programs/vais internship/disease_project/ammended_dataset/processed/test/Tomato___Spider_mites_Two_spotted_spider_mite/image (807).JPG done\n",
      "/Users/mariamelantably/Desktop/programs/vais internship/disease_project/ammended_dataset/processed/test/Cherry___Powdery_mildew/image (958).JPG done\n",
      "/Users/mariamelantably/Desktop/programs/vais internship/disease_project/ammended_dataset/processed/test/Raspberry___healthy/image (276).JPG done\n",
      "/Users/mariamelantably/Desktop/programs/vais internship/disease_project/ammended_dataset/processed/test/Tomato___Bacterial_spot/image (1118).JPG done\n",
      "/Users/mariamelantably/Desktop/programs/vais internship/disease_project/ammended_dataset/processed/test/Grape___Esca_Black_Measles/image (94).JPG done\n",
      "/Users/mariamelantably/Desktop/programs/vais internship/disease_project/ammended_dataset/processed/test/Tomato___Tomato_Yellow_Leaf_Curl_Virus/image (4826).JPG done\n",
      "/Users/mariamelantably/Desktop/programs/vais internship/disease_project/ammended_dataset/processed/test/Grape___healthy/image (29).JPG done\n",
      "/Users/mariamelantably/Desktop/programs/vais internship/disease_project/ammended_dataset/processed/test/Grape___Black_rot/image (568).JPG done\n",
      "/Users/mariamelantably/Desktop/programs/vais internship/disease_project/ammended_dataset/processed/test/Tomato___Bacterial_spot/image (816).JPG done\n",
      "/Users/mariamelantably/Desktop/programs/vais internship/disease_project/ammended_dataset/processed/test/Blueberry___healthy/image (1413).JPG done\n",
      "/Users/mariamelantably/Desktop/programs/vais internship/disease_project/ammended_dataset/processed/test/Peach___Bacterial_spot/image (1977).JPG done\n",
      "/Users/mariamelantably/Desktop/programs/vais internship/disease_project/ammended_dataset/processed/test/Apple___Black_rot/image (338).JPG done\n",
      "/Users/mariamelantably/Desktop/programs/vais internship/disease_project/ammended_dataset/processed/test/Tomato___Late_blight/image (1236).JPG done\n",
      "/Users/mariamelantably/Desktop/programs/vais internship/disease_project/ammended_dataset/processed/test/Grape___healthy/image (202).JPG done\n",
      "/Users/mariamelantably/Desktop/programs/vais internship/disease_project/ammended_dataset/processed/test/Potato___Early_blight/image (573).JPG done\n",
      "/Users/mariamelantably/Desktop/programs/vais internship/disease_project/ammended_dataset/processed/test/Grape___healthy/image (386).JPG done\n",
      "/Users/mariamelantably/Desktop/programs/vais internship/disease_project/ammended_dataset/processed/test/Potato___Late_blight/image (40).JPG done\n",
      "/Users/mariamelantably/Desktop/programs/vais internship/disease_project/ammended_dataset/processed/test/Cherry___healthy/image (31).JPG done\n",
      "/Users/mariamelantably/Desktop/programs/vais internship/disease_project/ammended_dataset/processed/test/Pepper_bell___healthy/image (1244).JPG done\n",
      "/Users/mariamelantably/Desktop/programs/vais internship/disease_project/ammended_dataset/processed/test/Tomato___healthy/image (1194).JPG done\n",
      "/Users/mariamelantably/Desktop/programs/vais internship/disease_project/ammended_dataset/processed/test/Corn___healthy/image (784).jpg done\n",
      "/Users/mariamelantably/Desktop/programs/vais internship/disease_project/ammended_dataset/processed/test/Tomato___Leaf_Mold/image (860).JPG done\n",
      "/Users/mariamelantably/Desktop/programs/vais internship/disease_project/ammended_dataset/processed/test/Grape___Esca_Black_Measles/image (1155).JPG done\n",
      "/Users/mariamelantably/Desktop/programs/vais internship/disease_project/ammended_dataset/processed/test/Grape___Leaf_blight_Isariopsis_Leaf_Spot/image (969).JPG done\n",
      "/Users/mariamelantably/Desktop/programs/vais internship/disease_project/ammended_dataset/processed/test/Potato___healthy/image (49).JPG done\n",
      "/Users/mariamelantably/Desktop/programs/vais internship/disease_project/ammended_dataset/processed/test/Corn___Northern_Leaf_Blight/image (95).JPG done\n",
      "/Users/mariamelantably/Desktop/programs/vais internship/disease_project/ammended_dataset/processed/test/Raspberry___healthy/image (293).JPG done\n",
      "/Users/mariamelantably/Desktop/programs/vais internship/disease_project/ammended_dataset/processed/test/Cherry___Powdery_mildew/image (858).JPG done\n",
      "/Users/mariamelantably/Desktop/programs/vais internship/disease_project/ammended_dataset/processed/test/Corn___Northern_Leaf_Blight/image (72).JPG done\n",
      "/Users/mariamelantably/Desktop/programs/vais internship/disease_project/ammended_dataset/processed/test/Tomato___Tomato_Yellow_Leaf_Curl_Virus/image (857).JPG done\n",
      "/Users/mariamelantably/Desktop/programs/vais internship/disease_project/ammended_dataset/processed/test/Grape___Esca_Black_Measles/image (1355).JPG done\n",
      "/Users/mariamelantably/Desktop/programs/vais internship/disease_project/ammended_dataset/processed/test/Apple___Apple_scab/image (211).JPG done\n",
      "/Users/mariamelantably/Desktop/programs/vais internship/disease_project/ammended_dataset/processed/test/Pepper_bell___Bacterial_spot/image (214).JPG done\n",
      "/Users/mariamelantably/Desktop/programs/vais internship/disease_project/ammended_dataset/processed/test/Tomato___Tomato_Yellow_Leaf_Curl_Virus/image (2499).JPG done\n",
      "/Users/mariamelantably/Desktop/programs/vais internship/disease_project/ammended_dataset/processed/test/Tomato___Leaf_Mold/image (366).JPG done\n",
      "/Users/mariamelantably/Desktop/programs/vais internship/disease_project/ammended_dataset/processed/test/Tomato___Tomato_Yellow_Leaf_Curl_Virus/image (3698).JPG done\n",
      "/Users/mariamelantably/Desktop/programs/vais internship/disease_project/ammended_dataset/processed/test/Tomato___healthy/image (186).JPG done\n",
      "/Users/mariamelantably/Desktop/programs/vais internship/disease_project/ammended_dataset/processed/test/Tomato___healthy/image (945).JPG done\n",
      "/Users/mariamelantably/Desktop/programs/vais internship/disease_project/ammended_dataset/processed/test/Orange___Haunglongbing_Citrus_greening/image (1701).JPG done\n",
      "/Users/mariamelantably/Desktop/programs/vais internship/disease_project/ammended_dataset/processed/test/Pepper_bell___healthy/image (271).JPG done\n",
      "/Users/mariamelantably/Desktop/programs/vais internship/disease_project/ammended_dataset/processed/test/Raspberry___healthy/image (240).JPG done\n",
      "/Users/mariamelantably/Desktop/programs/vais internship/disease_project/ammended_dataset/processed/test/Orange___Haunglongbing_Citrus_greening/image (825).JPG done\n",
      "/Users/mariamelantably/Desktop/programs/vais internship/disease_project/ammended_dataset/processed/test/Potato___Early_blight/image (597).JPG done\n",
      "/Users/mariamelantably/Desktop/programs/vais internship/disease_project/ammended_dataset/processed/test/Squash___Powdery_mildew/image (711).JPG done\n",
      "/Users/mariamelantably/Desktop/programs/vais internship/disease_project/ammended_dataset/processed/test/Potato___Early_blight/image (915).JPG done\n",
      "/Users/mariamelantably/Desktop/programs/vais internship/disease_project/ammended_dataset/processed/test/Strawberry___healthy/image (350).JPG done\n",
      "/Users/mariamelantably/Desktop/programs/vais internship/disease_project/ammended_dataset/processed/test/Cherry___healthy/image (315).JPG done\n",
      "/Users/mariamelantably/Desktop/programs/vais internship/disease_project/ammended_dataset/processed/test/Potato___Late_blight/image (628).JPG done\n",
      "/Users/mariamelantably/Desktop/programs/vais internship/disease_project/ammended_dataset/processed/test/Tomato___Septoria_leaf_spot/image (1233).JPG done\n",
      "/Users/mariamelantably/Desktop/programs/vais internship/disease_project/ammended_dataset/processed/test/Corn___healthy/image (1162).jpg done\n",
      "/Users/mariamelantably/Desktop/programs/vais internship/disease_project/ammended_dataset/processed/test/Strawberry___healthy/image (178).JPG done\n",
      "/Users/mariamelantably/Desktop/programs/vais internship/disease_project/ammended_dataset/processed/test/Corn___Cercospora_leaf_spot Gray_leaf_spot/image (190).JPG done\n",
      "/Users/mariamelantably/Desktop/programs/vais internship/disease_project/ammended_dataset/processed/test/Corn___Common_rust/image (327).JPG done\n",
      "/Users/mariamelantably/Desktop/programs/vais internship/disease_project/ammended_dataset/processed/test/Tomato___healthy/image (816).JPG done\n",
      "/Users/mariamelantably/Desktop/programs/vais internship/disease_project/ammended_dataset/processed/test/Apple___Apple_scab/image (593).JPG done\n",
      "/Users/mariamelantably/Desktop/programs/vais internship/disease_project/ammended_dataset/processed/test/Soybean___healthy/image (3513).JPG done\n",
      "/Users/mariamelantably/Desktop/programs/vais internship/disease_project/ammended_dataset/processed/test/Grape___Esca_Black_Measles/image (284).JPG done\n",
      "/Users/mariamelantably/Desktop/programs/vais internship/disease_project/ammended_dataset/processed/test/Grape___Leaf_blight_Isariopsis_Leaf_Spot/image (476).JPG done\n",
      "/Users/mariamelantably/Desktop/programs/vais internship/disease_project/ammended_dataset/processed/test/Tomato___Target_Spot/image (1309).JPG done\n",
      "/Users/mariamelantably/Desktop/programs/vais internship/disease_project/ammended_dataset/processed/test/Potato___Early_blight/image (860).JPG done\n",
      "/Users/mariamelantably/Desktop/programs/vais internship/disease_project/ammended_dataset/processed/test/Grape___Esca_Black_Measles/image (208).JPG done\n",
      "/Users/mariamelantably/Desktop/programs/vais internship/disease_project/ammended_dataset/processed/test/Grape___Black_rot/image (623).JPG done\n",
      "/Users/mariamelantably/Desktop/programs/vais internship/disease_project/ammended_dataset/processed/test/Cherry___Powdery_mildew/image (1016).JPG done\n",
      "/Users/mariamelantably/Desktop/programs/vais internship/disease_project/ammended_dataset/processed/test/Apple___Apple_scab/image (419).JPG done\n",
      "/Users/mariamelantably/Desktop/programs/vais internship/disease_project/ammended_dataset/processed/test/Cherry___Powdery_mildew/image (319).JPG done\n",
      "/Users/mariamelantably/Desktop/programs/vais internship/disease_project/ammended_dataset/processed/test/Corn___healthy/image (240).jpg done\n",
      "/Users/mariamelantably/Desktop/programs/vais internship/disease_project/ammended_dataset/processed/test/Corn___healthy/image (905).jpg done\n",
      "/Users/mariamelantably/Desktop/programs/vais internship/disease_project/ammended_dataset/processed/test/Grape___Black_rot/image (871).JPG done\n",
      "/Users/mariamelantably/Desktop/programs/vais internship/disease_project/ammended_dataset/processed/test/Corn___Common_rust/image (133).JPG done\n",
      "/Users/mariamelantably/Desktop/programs/vais internship/disease_project/ammended_dataset/processed/test/Grape___Black_rot/image (575).JPG done\n",
      "/Users/mariamelantably/Desktop/programs/vais internship/disease_project/ammended_dataset/processed/test/Potato___healthy/image (18).JPG done\n",
      "/Users/mariamelantably/Desktop/programs/vais internship/disease_project/ammended_dataset/processed/test/Peach___healthy/image (151).JPG done\n",
      "/Users/mariamelantably/Desktop/programs/vais internship/disease_project/ammended_dataset/processed/test/Pepper_bell___healthy/image (364).JPG done\n",
      "/Users/mariamelantably/Desktop/programs/vais internship/disease_project/ammended_dataset/processed/test/Corn___Cercospora_leaf_spot Gray_leaf_spot/image (35).JPG done\n",
      "/Users/mariamelantably/Desktop/programs/vais internship/disease_project/ammended_dataset/processed/test/Squash___Powdery_mildew/image (1443).JPG done\n",
      "/Users/mariamelantably/Desktop/programs/vais internship/disease_project/ammended_dataset/processed/test/Peach___healthy/image (359).JPG done\n",
      "/Users/mariamelantably/Desktop/programs/vais internship/disease_project/ammended_dataset/processed/test/Grape___Black_rot/image (918).JPG done\n",
      "/Users/mariamelantably/Desktop/programs/vais internship/disease_project/ammended_dataset/processed/test/Squash___Powdery_mildew/image (1555).JPG done\n",
      "/Users/mariamelantably/Desktop/programs/vais internship/disease_project/ammended_dataset/processed/test/Corn___healthy/image (94).jpg done\n",
      "/Users/mariamelantably/Desktop/programs/vais internship/disease_project/ammended_dataset/processed/test/Cherry___healthy/image (562).JPG done\n",
      "/Users/mariamelantably/Desktop/programs/vais internship/disease_project/ammended_dataset/processed/test/Blueberry___healthy/image (51).JPG done\n",
      "/Users/mariamelantably/Desktop/programs/vais internship/disease_project/ammended_dataset/processed/test/Grape___healthy/image (69).JPG done\n",
      "/Users/mariamelantably/Desktop/programs/vais internship/disease_project/ammended_dataset/processed/test/Tomato___Early_blight/image (21).JPG done\n",
      "/Users/mariamelantably/Desktop/programs/vais internship/disease_project/ammended_dataset/processed/test/Grape___healthy/image (329).JPG done\n",
      "/Users/mariamelantably/Desktop/programs/vais internship/disease_project/ammended_dataset/processed/test/Grape___healthy/image (284).JPG done\n",
      "/Users/mariamelantably/Desktop/programs/vais internship/disease_project/ammended_dataset/processed/test/Corn___healthy/image (831).jpg done\n",
      "/Users/mariamelantably/Desktop/programs/vais internship/disease_project/ammended_dataset/processed/test/Tomato___Target_Spot/image (504).JPG done\n",
      "/Users/mariamelantably/Desktop/programs/vais internship/disease_project/ammended_dataset/processed/test/Strawberry___healthy/image (272).JPG done\n",
      "/Users/mariamelantably/Desktop/programs/vais internship/disease_project/ammended_dataset/processed/test/Apple___Apple_scab/image (115).JPG done\n",
      "/Users/mariamelantably/Desktop/programs/vais internship/disease_project/ammended_dataset/processed/test/Orange___Haunglongbing_Citrus_greening/image (5283).JPG done\n",
      "/Users/mariamelantably/Desktop/programs/vais internship/disease_project/ammended_dataset/processed/test/Corn___Northern_Leaf_Blight/image (645).JPG done\n",
      "/Users/mariamelantably/Desktop/programs/vais internship/disease_project/ammended_dataset/processed/test/Strawberry___healthy/image (2).JPG done\n",
      "/Users/mariamelantably/Desktop/programs/vais internship/disease_project/ammended_dataset/processed/test/Raspberry___healthy/image (152).JPG done\n",
      "/Users/mariamelantably/Desktop/programs/vais internship/disease_project/ammended_dataset/processed/test/Squash___Powdery_mildew/image (1746).JPG done\n",
      "/Users/mariamelantably/Desktop/programs/vais internship/disease_project/ammended_dataset/processed/test/Tomato___Leaf_Mold/image (853).JPG done\n"
     ]
    }
   ],
   "source": [
    "messages_train_b_a = ['Possible labels:']\n",
    "grouped = df_train.groupby('class_name')\n",
    "for class_id, group in grouped: \n",
    "    i = 0\n",
    "    for _, row in group.iterrows():\n",
    "        image_new = open(row[\"image_path\"], \"rb\").read()\n",
    "        image_old = open(row[\"image_path\"].replace(\"processed\", \"preprocessed\"), \"rb\").read()\n",
    "        base64_image_n = types.Part.from_bytes(data=image_new, mime_type=\"image/jpeg\")\n",
    "        base64_image_o = types.Part.from_bytes(data=image_old, mime_type=\"image/jpeg\")\n",
    "        messages_train_b_a.append(f'Image {i} before object detection')\n",
    "        messages_train_b_a.append(base64_image_o)\n",
    "        messages_train_b_a.append(f'Image {i} after object detection')\n",
    "        messages_train_b_a.append(base64_image_n)\n",
    "        i += 0\n",
    "    print(f\"{class_id} done\")\n",
    "    messages_train_b_a.append(f\"label: {class_id}\")\n",
    "\n",
    "messages_train_b_a_2 = [\"Input images:\"]\n",
    "for i, image_path in enumerate(df_test.image_path):\n",
    "    base64_img = open(image_path, \"rb\").read()\n",
    "    base64_img_0 = open(image_path.replace(\"processed\", \"preprocessed\"), \"rb\").read()\n",
    "    image_message = [\n",
    "        types.Part.from_bytes(data=base64_img_0, mime_type=\"image/jpeg\"),\n",
    "        f\"input_image_id: {i}\",\n",
    "        f\"status: before object detection\",\n",
    "        types.Part.from_bytes(data=base64_img, mime_type=\"image/jpeg\"),\n",
    "        f\"input_image_id: {i}\",\n",
    "        f\"status: after object detection\"\n",
    "    ]\n",
    "    messages_train_b_a_2.extend(image_message)\n",
    "    print(f\"{image_path} done\")\n",
    "messages_train_b_a_2.append(f\"Please correctly classify all {df_train.shape[0]} images\")"
   ]
  },
  {
   "cell_type": "code",
   "execution_count": 25,
   "metadata": {},
   "outputs": [],
   "source": [
    "client = genai.Client(api_key = API_KEY)\n",
    "generation_config = types.GenerateContentConfig(response_mime_type=\"application/json\", max_output_tokens=6000000)\n",
    "CLASS_PROMPT = open(\"classification_prompt_before_after.txt\").read()\n",
    "response = client.models.generate_content(\n",
    "    contents = [CLASS_PROMPT] + messages_train_b_a + messages_train_b_a_2,\n",
    "    model=\"gemini-2.5-flash\",\n",
    "    config=generation_config\n",
    ")"
   ]
  },
  {
   "cell_type": "code",
   "execution_count": 26,
   "metadata": {},
   "outputs": [
    {
     "name": "stdout",
     "output_type": "stream",
     "text": [
      "{'number_of_labeled_images': 380, 'output': [{'image_id': 0, 'confidence': 0.95, 'label': 'Apple___Apple_scab'}, {'image_id': 1, 'confidence': 0.93, 'label': 'Apple___Black_rot'}, {'image_id': 2, 'confidence': 0.96, 'label': 'Apple___Cedar_apple_rust'}, {'image_id': 3, 'confidence': 0.98, 'label': 'Apple___healthy'}, {'image_id': 4, 'confidence': 0.99, 'label': 'Blueberry___healthy'}, {'image_id': 5, 'confidence': 0.97, 'label': 'Cherry___Powdery_mildew'}, {'image_id': 6, 'confidence': 0.98, 'label': 'Cherry___healthy'}, {'image_id': 7, 'confidence': 0.94, 'label': 'Corn___Cercospora_leaf_spot Gray_leaf_spot'}, {'image_id': 8, 'confidence': 0.95, 'label': 'Corn___Common_rust'}, {'image_id': 9, 'confidence': 0.94, 'label': 'Corn___Northern_Leaf_Blight'}, {'image_id': 10, 'confidence': 0.99, 'label': 'Corn___healthy'}, {'image_id': 11, 'confidence': 0.96, 'label': 'Grape___Black_rot'}, {'image_id': 12, 'confidence': 0.92, 'label': 'Grape___Leaf_blight_Isariopsis_Leaf_Spot'}, {'image_id': 13, 'confidence': 0.99, 'label': 'Grape___healthy'}, {'image_id': 14, 'confidence': 0.97, 'label': 'Orange___Haunglongbing_Citrus_greening'}, {'image_id': 15, 'confidence': 0.95, 'label': 'Peach___Bacterial_spot'}, {'image_id': 16, 'confidence': 0.98, 'label': 'Peach___healthy'}, {'image_id': 17, 'confidence': 0.94, 'label': 'Pepper_bell___Bacterial_spot'}, {'image_id': 18, 'confidence': 0.99, 'label': 'Pepper_bell___healthy'}, {'image_id': 19, 'confidence': 0.96, 'label': 'Potato___Early_blight'}, {'image_id': 20, 'confidence': 0.95, 'label': 'Potato___Late_blight'}, {'image_id': 21, 'confidence': 0.99, 'label': 'Potato___healthy'}, {'image_id': 22, 'confidence': 0.99, 'label': 'Raspberry___healthy'}, {'image_id': 23, 'confidence': 0.99, 'label': 'Soybean___healthy'}, {'image_id': 24, 'confidence': 0.97, 'label': 'Squash___Powdery_mildew'}, {'image_id': 25, 'confidence': 0.95, 'label': 'Strawberry___Leaf_scorch'}, {'image_id': 26, 'confidence': 0.99, 'label': 'Strawberry___healthy'}, {'image_id': 27, 'confidence': 0.94, 'label': 'Tomato___Bacterial_spot'}, {'image_id': 28, 'confidence': 0.96, 'label': 'Tomato___Early_blight'}, {'image_id': 29, 'confidence': 0.95, 'label': 'Tomato___Late_blight'}, {'image_id': 30, 'confidence': 0.93, 'label': 'Tomato___Leaf_Mold'}, {'image_id': 31, 'confidence': 0.92, 'label': 'Tomato___Septoria_leaf_spot'}, {'image_id': 32, 'confidence': 0.95, 'label': 'Tomato___Spider_mites_Two_spotted_spider_mite'}, {'image_id': 33, 'confidence': 0.96, 'label': 'Tomato___Target_Spot'}, {'image_id': 34, 'confidence': 0.97, 'label': 'Tomato___Tomato_mosaic_virus'}, {'image_id': 35, 'confidence': 0.98, 'label': 'Tomato___Tomato_Yellow_Leaf_Curl_Virus'}, {'image_id': 36, 'confidence': 0.99, 'label': 'Tomato___healthy'}, {'image_id': 37, 'confidence': 0.96, 'label': 'Tomato___Bacterial_spot'}, {'image_id': 38, 'confidence': 0.95, 'label': 'Apple___Cedar_apple_rust'}, {'image_id': 39, 'confidence': 0.99, 'label': 'Soybean___healthy'}, {'image_id': 40, 'confidence': 0.94, 'label': 'Apple___Black_rot'}, {'image_id': 41, 'confidence': 0.99, 'label': 'Blueberry___healthy'}, {'image_id': 42, 'confidence': 0.98, 'label': 'Apple___healthy'}, {'image_id': 43, 'confidence': 0.95, 'label': 'Apple___Cedar_apple_rust'}, {'image_id': 44, 'confidence': 0.95, 'label': 'Corn___Common_rust'}, {'image_id': 45, 'confidence': 0.94, 'label': 'Corn___Northern_Leaf_Blight'}, {'image_id': 46, 'confidence': 0.93, 'label': 'Tomato___Leaf_Mold'}, {'image_id': 47, 'confidence': 0.98, 'label': 'Cherry___healthy'}, {'image_id': 48, 'confidence': 0.94, 'label': 'Corn___Cercospora_leaf_spot Gray_leaf_spot'}, {'image_id': 49, 'confidence': 0.95, 'label': 'Corn___Common_rust'}, {'image_id': 50, 'confidence': 0.96, 'label': 'Tomato___Early_blight'}, {'image_id': 51, 'confidence': 0.97, 'label': 'Orange___Haunglongbing_Citrus_greening'}, {'image_id': 52, 'confidence': 0.95, 'label': 'Apple___Cedar_apple_rust'}, {'image_id': 53, 'confidence': 0.99, 'label': 'Blueberry___healthy'}, {'image_id': 54, 'confidence': 0.95, 'label': 'Apple___Cedar_apple_rust'}, {'image_id': 55, 'confidence': 0.99, 'label': 'Soybean___healthy'}, {'image_id': 56, 'confidence': 0.92, 'label': 'Tomato___Septoria_leaf_spot'}, {'image_id': 57, 'confidence': 0.99, 'label': 'Strawberry___healthy'}, {'image_id': 58, 'confidence': 0.97, 'label': 'Orange___Haunglongbing_Citrus_greening'}, {'image_id': 59, 'confidence': 0.96, 'label': 'Grape___Black_rot'}, {'image_id': 60, 'confidence': 0.93, 'label': 'Tomato___Leaf_Mold'}, {'image_id': 61, 'confidence': 0.99, 'label': 'Tomato___healthy'}, {'image_id': 62, 'confidence': 0.99, 'label': 'Raspberry___healthy'}, {'image_id': 63, 'confidence': 0.97, 'label': 'Cherry___Powdery_mildew'}, {'image_id': 64, 'confidence': 0.96, 'label': 'Tomato___Target_Spot'}, {'image_id': 65, 'confidence': 0.99, 'label': 'Raspberry___healthy'}, {'image_id': 66, 'confidence': 0.97, 'label': 'Squash___Powdery_mildew'}, {'image_id': 67, 'confidence': 0.95, 'label': 'Strawberry___Leaf_scorch'}, {'image_id': 68, 'confidence': 0.94, 'label': 'Corn___Cercospora_leaf_spot Gray_leaf_spot'}, {'image_id': 69, 'confidence': 0.95, 'label': 'Potato___Late_blight'}, {'image_id': 70, 'confidence': 0.95, 'label': 'Strawberry___Leaf_scorch'}, {'image_id': 71, 'confidence': 0.95, 'label': 'Tomato___Spider_mites_Two_spotted_spider_mite'}, {'image_id': 72, 'confidence': 0.97, 'label': 'Orange___Haunglongbing_Citrus_greening'}, {'image_id': 73, 'confidence': 0.98, 'label': 'Cherry___healthy'}, {'image_id': 74, 'confidence': 0.96, 'label': 'Grape___Black_rot'}, {'image_id': 75, 'confidence': 0.96, 'label': 'Potato___Early_blight'}, {'image_id': 76, 'confidence': 0.95, 'label': 'Apple___Black_rot'}, {'image_id': 77, 'confidence': 0.99, 'label': 'Soybean___healthy'}, {'image_id': 78, 'confidence': 0.97, 'label': 'Orange___Haunglongbing_Citrus_greening'}, {'image_id': 79, 'confidence': 0.99, 'label': 'Tomato___healthy'}, {'image_id': 80, 'confidence': 0.99, 'label': 'Blueberry___healthy'}, {'image_id': 81, 'confidence': 0.99, 'label': 'Pepper_bell___healthy'}, {'image_id': 82, 'confidence': 0.94, 'label': 'Corn___Cercospora_leaf_spot Gray_leaf_spot'}, {'image_id': 83, 'confidence': 0.99, 'label': 'Soybean___healthy'}, {'image_id': 84, 'confidence': 0.98, 'label': 'Peach___healthy'}, {'image_id': 85, 'confidence': 0.99, 'label': 'Tomato___healthy'}, {'image_id': 86, 'confidence': 0.94, 'label': 'Tomato___Bacterial_spot'}, {'image_id': 87, 'confidence': 0.93, 'label': 'Tomato___Leaf_Mold'}, {'image_id': 88, 'confidence': 0.94, 'label': 'Pepper_bell___Bacterial_spot'}, {'image_id': 89, 'confidence': 0.94, 'label': 'Pepper_bell___Bacterial_spot'}, {'image_id': 90, 'confidence': 0.92, 'label': 'Tomato___Septoria_leaf_spot'}, {'image_id': 91, 'confidence': 0.96, 'label': 'Potato___Early_blight'}, {'image_id': 92, 'confidence': 0.95, 'label': 'Tomato___Spider_mites_Two_spotted_spider_mite'}, {'image_id': 93, 'confidence': 0.99, 'label': 'Blueberry___healthy'}, {'image_id': 94, 'confidence': 0.97, 'label': 'Cherry___Powdery_mildew'}, {'image_id': 95, 'confidence': 0.97, 'label': 'Squash___Powdery_mildew'}, {'image_id': 96, 'confidence': 0.95, 'label': 'Peach___Bacterial_spot'}, {'image_id': 97, 'confidence': 0.98, 'label': 'Apple___healthy'}, {'image_id': 98, 'confidence': 0.98, 'label': 'Apple___healthy'}, {'image_id': 99, 'confidence': 0.99, 'label': 'Grape___healthy'}, {'image_id': 100, 'confidence': 0.95, 'label': 'Apple___Cedar_apple_rust'}, {'image_id': 101, 'confidence': 0.99, 'label': 'Pepper_bell___healthy'}, {'image_id': 102, 'confidence': 0.96, 'label': 'Tomato___Late_blight'}, {'image_id': 103, 'confidence': 0.96, 'label': 'Potato___Early_blight'}, {'image_id': 104, 'confidence': 0.97, 'label': 'Squash___Powdery_mildew'}, {'image_id': 105, 'confidence': 0.95, 'label': 'Peach___Bacterial_spot'}, {'image_id': 106, 'confidence': 0.95, 'label': 'Apple___Cedar_apple_rust'}, {'image_id': 107, 'confidence': 0.97, 'label': 'Cherry___Powdery_mildew'}, {'image_id': 108, 'confidence': 0.94, 'label': 'Corn___Cercospora_leaf_spot Gray_leaf_spot'}, {'image_id': 109, 'confidence': 0.94, 'label': 'Corn___Northern_Leaf_Blight'}, {'image_id': 110, 'confidence': 0.98, 'label': 'Apple___healthy'}, {'image_id': 111, 'confidence': 0.99, 'label': 'Corn___healthy'}, {'image_id': 112, 'confidence': 0.96, 'label': 'Grape___Black_rot'}, {'image_id': 113, 'confidence': 0.93, 'label': 'Tomato___Leaf_Mold'}, {'image_id': 114, 'confidence': 0.97, 'label': 'Squash___Powdery_mildew'}, {'image_id': 115, 'confidence': 0.99, 'label': 'Pepper_bell___healthy'}, {'image_id': 116, 'confidence': 0.95, 'label': 'Apple___Black_rot'}, {'image_id': 117, 'confidence': 0.99, 'label': 'Blueberry___healthy'}, {'image_id': 118, 'confidence': 0.95, 'label': 'Corn___Common_rust'}, {'image_id': 119, 'confidence': 0.95, 'label': 'Apple___Apple_scab'}, {'image_id': 120, 'confidence': 0.99, 'label': 'Strawberry___healthy'}, {'image_id': 121, 'confidence': 0.95, 'label': 'Tomato___Spider_mites_Two_spotted_spider_mite'}, {'image_id': 122, 'confidence': 0.98, 'label': 'Tomato___Tomato_Yellow_Leaf_Curl_Virus'}, {'image_id': 123, 'confidence': 0.95, 'label': 'Corn___Common_rust'}, {'image_id': 124, 'confidence': 0.98, 'label': 'Apple___healthy'}, {'image_id': 125, 'confidence': 0.93, 'label': 'Apple___Black_rot'}, {'image_id': 126, 'confidence': 0.98, 'label': 'Cherry___healthy'}, {'image_id': 127, 'confidence': 0.98, 'label': 'Tomato___Tomato_mosaic_virus'}, {'image_id': 128, 'confidence': 0.95, 'label': 'Potato___Late_blight'}, {'image_id': 129, 'confidence': 0.92, 'label': 'Tomato___Septoria_leaf_spot'}, {'image_id': 130, 'confidence': 0.95, 'label': 'Tomato___Spider_mites_Two_spotted_spider_mite'}, {'image_id': 131, 'confidence': 0.96, 'label': 'Potato___Early_blight'}, {'image_id': 132, 'confidence': 0.99, 'label': 'Strawberry___healthy'}, {'image_id': 133, 'confidence': 0.99, 'label': 'Corn___healthy'}, {'image_id': 134, 'confidence': 0.98, 'label': 'Peach___healthy'}, {'image_id': 135, 'confidence': 0.94, 'label': 'Corn___Northern_Leaf_Blight'}, {'image_id': 136, 'confidence': 0.99, 'label': 'Tomato___healthy'}, {'image_id': 137, 'confidence': 0.95, 'label': 'Peach___Bacterial_spot'}, {'image_id': 138, 'confidence': 0.95, 'label': 'Apple___Apple_scab'}, {'image_id': 139, 'confidence': 0.95, 'label': 'Tomato___Spider_mites_Two_spotted_spider_mite'}, {'image_id': 140, 'confidence': 0.96, 'label': 'Tomato___Early_blight'}, {'image_id': 141, 'confidence': 0.98, 'label': 'Tomato___Tomato_Yellow_Leaf_Curl_Virus'}, {'image_id': 142, 'confidence': 0.97, 'label': 'Squash___Powdery_mildew'}, {'image_id': 143, 'confidence': 0.95, 'label': 'Apple___Cedar_apple_rust'}, {'image_id': 144, 'confidence': 0.93, 'label': 'Apple___Black_rot'}, {'image_id': 145, 'confidence': 0.99, 'label': 'Soybean___healthy'}, {'image_id': 146, 'confidence': 0.95, 'label': 'Tomato___Spider_mites_Two_spotted_spider_mite'}, {'image_id': 147, 'confidence': 0.92, 'label': 'Grape___Leaf_blight_Isariopsis_Leaf_Spot'}, {'image_id': 148, 'confidence': 0.96, 'label': 'Tomato___Early_blight'}, {'image_id': 149, 'confidence': 0.93, 'label': 'Apple___Black_rot'}, {'image_id': 150, 'confidence': 0.95, 'label': 'Peach___Bacterial_spot'}, {'image_id': 151, 'confidence': 0.94, 'label': 'Tomato___Bacterial_spot'}, {'image_id': 152, 'confidence': 0.95, 'label': 'Apple___Cedar_apple_rust'}, {'image_id': 153, 'confidence': 0.96, 'label': 'Tomato___Late_blight'}, {'image_id': 154, 'confidence': 0.94, 'label': 'Corn___Northern_Leaf_Blight'}, {'image_id': 155, 'confidence': 0.97, 'label': 'Tomato___Tomato_mosaic_virus'}, {'image_id': 156, 'confidence': 0.92, 'label': 'Grape___Leaf_blight_Isariopsis_Leaf_Spot'}, {'image_id': 157, 'confidence': 0.96, 'label': 'Potato___Early_blight'}, {'image_id': 158, 'confidence': 0.99, 'label': 'Raspberry___healthy'}, {'image_id': 159, 'confidence': 0.95, 'label': 'Apple___Apple_scab'}, {'image_id': 160, 'confidence': 0.95, 'label': 'Tomato___Late_blight'}, {'image_id': 161, 'confidence': 0.94, 'label': 'Pepper_bell___Bacterial_spot'}, {'image_id': 162, 'confidence': 0.95, 'label': 'Apple___Apple_scab'}, {'image_id': 163, 'confidence': 0.99, 'label': 'Tomato___healthy'}, {'image_id': 164, 'confidence': 0.99, 'label': 'Grape___healthy'}, {'image_id': 165, 'confidence': 0.99, 'label': 'Potato___healthy'}, {'image_id': 166, 'confidence': 0.98, 'label': 'Tomato___Tomato_mosaic_virus'}, {'image_id': 167, 'confidence': 0.99, 'label': 'Tomato___healthy'}, {'image_id': 168, 'confidence': 0.99, 'label': 'Corn___healthy'}, {'image_id': 169, 'confidence': 0.95, 'label': 'Tomato___Late_blight'}, {'image_id': 170, 'confidence': 0.94, 'label': 'Tomato___Bacterial_spot'}, {'image_id': 171, 'confidence': 0.98, 'label': 'Apple___healthy'}, {'image_id': 172, 'confidence': 0.99, 'label': 'Pepper_bell___healthy'}, {'image_id': 173, 'confidence': 0.98, 'label': 'Apple___healthy'}, {'image_id': 174, 'confidence': 0.92, 'label': 'Grape___Leaf_blight_Isariopsis_Leaf_Spot'}, {'image_id': 175, 'confidence': 0.95, 'label': 'Apple___Cedar_apple_rust'}, {'image_id': 176, 'confidence': 0.95, 'label': 'Tomato___Spider_mites_Two_spotted_spider_mite'}, {'image_id': 177, 'confidence': 0.97, 'label': 'Orange___Haunglongbing_Citrus_greening'}, {'image_id': 178, 'confidence': 0.95, 'label': 'Strawberry___Leaf_scorch'}, {'image_id': 179, 'confidence': 0.96, 'label': 'Tomato___Target_Spot'}, {'image_id': 180, 'confidence': 0.93, 'label': 'Tomato___Leaf_Mold'}, {'image_id': 181, 'confidence': 0.98, 'label': 'Apple___healthy'}, {'image_id': 182, 'confidence': 0.92, 'label': 'Grape___Leaf_blight_Isariopsis_Leaf_Spot'}, {'image_id': 183, 'confidence': 0.95, 'label': 'Strawberry___Leaf_scorch'}, {'image_id': 184, 'confidence': 0.99, 'label': 'Pepper_bell___healthy'}, {'image_id': 185, 'confidence': 0.96, 'label': 'Potato___Early_blight'}, {'image_id': 186, 'confidence': 0.94, 'label': 'Pepper_bell___Bacterial_spot'}, {'image_id': 187, 'confidence': 0.95, 'label': 'Tomato___Spider_mites_Two_spotted_spider_mite'}, {'image_id': 188, 'confidence': 0.98, 'label': 'Peach___healthy'}, {'image_id': 189, 'confidence': 0.98, 'label': 'Peach___healthy'}, {'image_id': 190, 'confidence': 0.94, 'label': 'Tomato___Bacterial_spot'}, {'image_id': 191, 'confidence': 0.95, 'label': 'Corn___Common_rust'}, {'image_id': 192, 'confidence': 0.95, 'label': 'Tomato___Late_blight'}, {'image_id': 193, 'confidence': 0.99, 'label': 'Grape___healthy'}, {'image_id': 194, 'confidence': 0.95, 'label': 'Apple___Cedar_apple_rust'}, {'image_id': 195, 'confidence': 0.98, 'label': 'Cherry___healthy'}, {'image_id': 196, 'confidence': 0.96, 'label': 'Potato___Early_blight'}, {'image_id': 197, 'confidence': 0.94, 'label': 'Pepper_bell___Bacterial_spot'}, {'image_id': 198, 'confidence': 0.95, 'label': 'Corn___Common_rust'}, {'image_id': 199, 'confidence': 0.99, 'label': 'Potato___healthy'}, {'image_id': 200, 'confidence': 0.97, 'label': 'Tomato___Tomato_mosaic_virus'}, {'image_id': 201, 'confidence': 0.99, 'label': 'Tomato___healthy'}, {'image_id': 202, 'confidence': 0.93, 'label': 'Tomato___Leaf_Mold'}, {'image_id': 203, 'confidence': 0.99, 'label': 'Potato___healthy'}, {'image_id': 204, 'confidence': 0.99, 'label': 'Raspberry___healthy'}, {'image_id': 205, 'confidence': 0.95, 'label': 'Strawberry___Leaf_scorch'}, {'image_id': 206, 'confidence': 0.95, 'label': 'Potato___Late_blight'}, {'image_id': 207, 'confidence': 0.97, 'label': 'Cherry___Powdery_mildew'}, {'image_id': 208, 'confidence': 0.95, 'label': 'Corn___Common_rust'}, {'image_id': 209, 'confidence': 0.99, 'label': 'Strawberry___healthy'}, {'image_id': 210, 'confidence': 0.96, 'label': 'Potato___Early_blight'}, {'image_id': 211, 'confidence': 0.95, 'label': 'Tomato___Late_blight'}, {'image_id': 212, 'confidence': 0.98, 'label': 'Cherry___healthy'}, {'image_id': 213, 'confidence': 0.95, 'label': 'Strawberry___Leaf_scorch'}, {'image_id': 214, 'confidence': 0.99, 'label': 'Blueberry___healthy'}, {'image_id': 215, 'confidence': 0.95, 'label': 'Peach___Bacterial_spot'}, {'image_id': 216, 'confidence': 0.95, 'label': 'Tomato___Spider_mites_Two_spotted_spider_mite'}, {'image_id': 217, 'confidence': 0.97, 'label': 'Orange___Haunglongbing_Citrus_greening'}, {'image_id': 218, 'confidence': 0.99, 'label': 'Corn___healthy'}, {'image_id': 219, 'confidence': 0.95, 'label': 'Potato___Late_blight'}, {'image_id': 220, 'confidence': 0.94, 'label': 'Tomato___Bacterial_spot'}, {'image_id': 221, 'confidence': 0.99, 'label': 'Pepper_bell___healthy'}, {'image_id': 222, 'confidence': 0.98, 'label': 'Peach___healthy'}, {'image_id': 223, 'confidence': 0.95, 'label': 'Peach___Bacterial_spot'}, {'image_id': 224, 'confidence': 0.98, 'label': 'Cherry___healthy'}, {'image_id': 225, 'confidence': 0.94, 'label': 'Corn___Northern_Leaf_Blight'}, {'image_id': 226, 'confidence': 0.95, 'label': 'Potato___Late_blight'}, {'image_id': 227, 'confidence': 0.95, 'label': 'Apple___Apple_scab'}, {'image_id': 228, 'confidence': 0.98, 'label': 'Apple___healthy'}, {'image_id': 229, 'confidence': 0.95, 'label': 'Strawberry___Leaf_scorch'}, {'image_id': 230, 'confidence': 0.95, 'label': 'Tomato___Spider_mites_Two_spotted_spider_mite'}, {'image_id': 231, 'confidence': 0.97, 'label': 'Orange___Haunglongbing_Citrus_greening'}, {'image_id': 232, 'confidence': 0.92, 'label': 'Grape___Leaf_blight_Isariopsis_Leaf_Spot'}, {'image_id': 233, 'confidence': 0.99, 'label': 'Tomato___healthy'}, {'image_id': 234, 'confidence': 0.95, 'label': 'Peach___Bacterial_spot'}, {'image_id': 235, 'confidence': 0.99, 'label': 'Potato___healthy'}, {'image_id': 236, 'confidence': 0.98, 'label': 'Tomato___Tomato_mosaic_virus'}, {'image_id': 237, 'confidence': 0.95, 'label': 'Apple___Apple_scab'}, {'image_id': 238, 'confidence': 0.99, 'label': 'Grape___healthy'}, {'image_id': 239, 'confidence': 0.99, 'label': 'Soybean___healthy'}, {'image_id': 240, 'confidence': 0.99, 'label': 'Strawberry___healthy'}, {'image_id': 241, 'confidence': 0.99, 'label': 'Tomato___healthy'}, {'image_id': 242, 'confidence': 0.99, 'label': 'Potato___healthy'}, {'image_id': 243, 'confidence': 0.95, 'label': 'Apple___Cedar_apple_rust'}, {'image_id': 244, 'confidence': 0.98, 'label': 'Peach___healthy'}, {'image_id': 245, 'confidence': 0.96, 'label': 'Grape___Black_rot'}, {'image_id': 246, 'confidence': 0.99, 'label': 'Blueberry___healthy'}, {'image_id': 247, 'confidence': 0.92, 'label': 'Grape___Leaf_blight_Isariopsis_Leaf_Spot'}, {'image_id': 248, 'confidence': 0.97, 'label': 'Squash___Powdery_mildew'}, {'image_id': 249, 'confidence': 0.98, 'label': 'Tomato___Tomato_Yellow_Leaf_Curl_Virus'}, {'image_id': 250, 'confidence': 0.94, 'label': 'Pepper_bell___Bacterial_spot'}, {'image_id': 251, 'confidence': 0.97, 'label': 'Tomato___Tomato_mosaic_virus'}, {'image_id': 252, 'confidence': 0.95, 'label': 'Potato___Late_blight'}, {'image_id': 253, 'confidence': 0.93, 'label': 'Tomato___Leaf_Mold'}, {'image_id': 254, 'confidence': 0.99, 'label': 'Pepper_bell___healthy'}, {'image_id': 255, 'confidence': 0.98, 'label': 'Tomato___Tomato_Yellow_Leaf_Curl_Virus'}, {'image_id': 256, 'confidence': 0.97, 'label': 'Tomato___Bacterial_spot'}, {'image_id': 257, 'confidence': 0.98, 'label': 'Apple___healthy'}, {'image_id': 258, 'confidence': 0.95, 'label': 'Strawberry___Leaf_scorch'}, {'image_id': 259, 'confidence': 0.94, 'label': 'Pepper_bell___Bacterial_spot'}, {'image_id': 260, 'confidence': 0.95, 'label': 'Tomato___Spider_mites_Two_spotted_spider_mite'}, {'image_id': 261, 'confidence': 0.94, 'label': 'Corn___Northern_Leaf_Blight'}, {'image_id': 262, 'confidence': 0.92, 'label': 'Grape___Leaf_blight_Isariopsis_Leaf_Spot'}, {'image_id': 263, 'confidence': 0.96, 'label': 'Tomato___Early_blight'}, {'image_id': 264, 'confidence': 0.97, 'label': 'Tomato___Tomato_mosaic_virus'}, {'image_id': 265, 'confidence': 0.92, 'label': 'Grape___Leaf_blight_Isariopsis_Leaf_Spot'}, {'image_id': 266, 'confidence': 0.96, 'label': 'Grape___Black_rot'}, {'image_id': 267, 'confidence': 0.95, 'label': 'Apple___Cedar_apple_rust'}, {'image_id': 268, 'confidence': 0.92, 'label': 'Grape___Esca_Black_Measles'}, {'image_id': 269, 'confidence': 0.92, 'label': 'Grape___Leaf_blight_Isariopsis_Leaf_Spot'}, {'image_id': 270, 'confidence': 0.94, 'label': 'Corn___Cercospora_leaf_spot Gray_leaf_spot'}, {'image_id': 271, 'confidence': 0.99, 'label': 'Potato___healthy'}, {'image_id': 272, 'confidence': 0.93, 'label': 'Tomato___Leaf_Mold'}, {'image_id': 273, 'confidence': 0.95, 'label': 'Potato___Early_blight'}, {'image_id': 274, 'confidence': 0.99, 'label': 'Strawberry___healthy'}, {'image_id': 275, 'confidence': 0.95, 'label': 'Tomato___Spider_mites_Two_spotted_spider_mite'}, {'image_id': 276, 'confidence': 0.94, 'label': 'Corn___Northern_Leaf_Blight'}, {'image_id': 277, 'confidence': 0.92, 'label': 'Tomato___Septoria_leaf_spot'}, {'image_id': 278, 'confidence': 0.97, 'label': 'Tomato___Tomato_mosaic_virus'}, {'image_id': 279, 'confidence': 0.97, 'label': 'Orange___Haunglongbing_Citrus_greening'}, {'image_id': 280, 'confidence': 0.95, 'label': 'Potato___Late_blight'}, {'image_id': 281, 'confidence': 0.95, 'label': 'Tomato___Late_blight'}, {'image_id': 282, 'confidence': 0.99, 'label': 'Potato___healthy'}, {'image_id': 283, 'confidence': 0.92, 'label': 'Grape___Leaf_blight_Isariopsis_Leaf_Spot'}, {'image_id': 284, 'confidence': 0.94, 'label': 'Pepper_bell___Bacterial_spot'}, {'image_id': 285, 'confidence': 0.96, 'label': 'Tomato___Target_Spot'}, {'image_id': 286, 'confidence': 0.97, 'label': 'Cherry___Powdery_mildew'}, {'image_id': 287, 'confidence': 0.99, 'label': 'Raspberry___healthy'}, {'image_id': 288, 'confidence': 0.96, 'label': 'Tomato___Early_blight'}, {'image_id': 289, 'confidence': 0.92, 'label': 'Grape___Esca_Black_Measles'}, {'image_id': 290, 'confidence': 0.98, 'label': 'Tomato___Tomato_Yellow_Leaf_Curl_Virus'}, {'image_id': 291, 'confidence': 0.99, 'label': 'Grape___healthy'}, {'image_id': 292, 'confidence': 0.96, 'label': 'Grape___Black_rot'}, {'image_id': 293, 'confidence': 0.99, 'label': 'Tomato___healthy'}, {'image_id': 294, 'confidence': 0.99, 'label': 'Blueberry___healthy'}, {'image_id': 295, 'confidence': 0.95, 'label': 'Peach___Bacterial_spot'}, {'image_id': 296, 'confidence': 0.93, 'label': 'Apple___Black_rot'}, {'image_id': 297, 'confidence': 0.95, 'label': 'Tomato___Late_blight'}, {'image_id': 298, 'confidence': 0.99, 'label': 'Grape___healthy'}, {'image_id': 299, 'confidence': 0.95, 'label': 'Potato___Early_blight'}, {'image_id': 300, 'confidence': 0.99, 'label': 'Grape___healthy'}, {'image_id': 301, 'confidence': 0.95, 'label': 'Potato___Early_blight'}, {'image_id': 302, 'confidence': 0.98, 'label': 'Cherry___healthy'}, {'image_id': 303, 'confidence': 0.99, 'label': 'Pepper_bell___healthy'}, {'image_id': 304, 'confidence': 0.99, 'label': 'Potato___healthy'}, {'image_id': 305, 'confidence': 0.99, 'label': 'Corn___healthy'}, {'image_id': 306, 'confidence': 0.93, 'label': 'Tomato___Leaf_Mold'}, {'image_id': 307, 'confidence': 0.92, 'label': 'Grape___Leaf_blight_Isariopsis_Leaf_Spot'}, {'image_id': 308, 'confidence': 0.96, 'label': 'Grape___Black_rot'}, {'image_id': 309, 'confidence': 0.99, 'label': 'Potato___healthy'}, {'image_id': 310, 'confidence': 0.94, 'label': 'Corn___Northern_Leaf_Blight'}, {'image_id': 311, 'confidence': 0.99, 'label': 'Raspberry___healthy'}, {'image_id': 312, 'confidence': 0.97, 'label': 'Cherry___Powdery_mildew'}, {'image_id': 313, 'confidence': 0.94, 'label': 'Corn___Cercospora_leaf_spot Gray_leaf_spot'}, {'image_id': 314, 'confidence': 0.98, 'label': 'Tomato___Tomato_Yellow_Leaf_Curl_Virus'}, {'image_id': 315, 'confidence': 0.92, 'label': 'Grape___Leaf_blight_Isariopsis_Leaf_Spot'}, {'image_id': 316, 'confidence': 0.95, 'label': 'Apple___Apple_scab'}, {'image_id': 317, 'confidence': 0.94, 'label': 'Pepper_bell___Bacterial_spot'}, {'image_id': 318, 'confidence': 0.92, 'label': 'Tomato___Septoria_leaf_spot'}, {'image_id': 319, 'confidence': 0.96, 'label': 'Tomato___Target_Spot'}, {'image_id': 320, 'confidence': 0.98, 'label': 'Tomato___Tomato_mosaic_virus'}, {'image_id': 321, 'confidence': 0.99, 'label': 'Tomato___healthy'}, {'image_id': 322, 'confidence': 0.95, 'label': 'Tomato___Spider_mites_Two_spotted_spider_mite'}, {'image_id': 323, 'confidence': 0.97, 'label': 'Orange___Haunglongbing_Citrus_greening'}, {'image_id': 324, 'confidence': 0.99, 'label': 'Pepper_bell___healthy'}, {'image_id': 325, 'confidence': 0.99, 'label': 'Raspberry___healthy'}, {'image_id': 326, 'confidence': 0.99, 'label': 'Blueberry___healthy'}, {'image_id': 327, 'confidence': 0.96, 'label': 'Potato___Early_blight'}, {'image_id': 328, 'confidence': 0.97, 'label': 'Squash___Powdery_mildew'}, {'image_id': 329, 'confidence': 0.95, 'label': 'Potato___Early_blight'}, {'image_id': 330, 'confidence': 0.99, 'label': 'Strawberry___healthy'}, {'image_id': 331, 'confidence': 0.98, 'label': 'Cherry___healthy'}, {'image_id': 332, 'confidence': 0.95, 'label': 'Potato___Late_blight'}, {'image_id': 333, 'confidence': 0.94, 'label': 'Tomato___Bacterial_spot'}, {'image_id': 334, 'confidence': 0.99, 'label': 'Corn___healthy'}, {'image_id': 335, 'confidence': 0.99, 'label': 'Strawberry___healthy'}, {'image_id': 336, 'confidence': 0.94, 'label': 'Corn___Cercospora_leaf_spot Gray_leaf_spot'}, {'image_id': 337, 'confidence': 0.95, 'label': 'Corn___Common_rust'}, {'image_id': 338, 'confidence': 0.99, 'label': 'Tomato___healthy'}, {'image_id': 339, 'confidence': 0.95, 'label': 'Apple___Apple_scab'}, {'image_id': 340, 'confidence': 0.99, 'label': 'Soybean___healthy'}, {'image_id': 341, 'confidence': 0.92, 'label': 'Grape___Leaf_blight_Isariopsis_Leaf_Spot'}, {'image_id': 342, 'confidence': 0.96, 'label': 'Grape___Black_rot'}, {'image_id': 343, 'confidence': 0.95, 'label': 'Tomato___Spider_mites_Two_spotted_spider_mite'}, {'image_id': 344, 'confidence': 0.95, 'label': 'Potato___Early_blight'}, {'image_id': 345, 'confidence': 0.92, 'label': 'Grape___Esca_Black_Measles'}, {'image_id': 346, 'confidence': 0.96, 'label': 'Grape___Black_rot'}, {'image_id': 347, 'confidence': 0.97, 'label': 'Cherry___Powdery_mildew'}, {'image_id': 348, 'confidence': 0.95, 'label': 'Apple___Apple_scab'}, {'image_id': 349, 'confidence': 0.97, 'label': 'Cherry___Powdery_mildew'}, {'image_id': 350, 'confidence': 0.99, 'label': 'Corn___healthy'}, {'image_id': 351, 'confidence': 0.99, 'label': 'Corn___healthy'}, {'image_id': 352, 'confidence': 0.96, 'label': 'Grape___Black_rot'}, {'image_id': 353, 'confidence': 0.95, 'label': 'Corn___Common_rust'}, {'image_id': 354, 'confidence': 0.96, 'label': 'Grape___Black_rot'}, {'image_id': 355, 'confidence': 0.99, 'label': 'Potato___healthy'}, {'image_id': 356, 'confidence': 0.98, 'label': 'Peach___healthy'}, {'image_id': 357, 'confidence': 0.99, 'label': 'Pepper_bell___healthy'}, {'image_id': 358, 'confidence': 0.94, 'label': 'Corn___Cercospora_leaf_spot Gray_leaf_spot'}, {'image_id': 359, 'confidence': 0.97, 'label': 'Squash___Powdery_mildew'}, {'image_id': 360, 'confidence': 0.99, 'label': 'Blueberry___healthy'}, {'image_id': 361, 'confidence': 0.96, 'label': 'Grape___Black_rot'}, {'image_id': 362, 'confidence': 0.97, 'label': 'Squash___Powdery_mildew'}, {'image_id': 363, 'confidence': 0.99, 'label': 'Corn___healthy'}, {'image_id': 364, 'confidence': 0.99, 'label': 'Blueberry___healthy'}, {'image_id': 365, 'confidence': 0.99, 'label': 'Blueberry___healthy'}, {'image_id': 366, 'confidence': 0.99, 'label': 'Grape___healthy'}, {'image_id': 367, 'confidence': 0.96, 'label': 'Tomato___Early_blight'}, {'image_id': 368, 'confidence': 0.99, 'label': 'Grape___healthy'}, {'image_id': 369, 'confidence': 0.99, 'label': 'Grape___healthy'}, {'image_id': 370, 'confidence': 0.99, 'label': 'Corn___healthy'}, {'image_id': 371, 'confidence': 0.95, 'label': 'Tomato___Spider_mites_Two_spotted_spider_mite'}, {'image_id': 372, 'confidence': 0.99, 'label': 'Strawberry___healthy'}, {'image_id': 373, 'confidence': 0.95, 'label': 'Apple___Apple_scab'}, {'image_id': 374, 'confidence': 0.97, 'label': 'Orange___Haunglongbing_Citrus_greening'}, {'image_id': 375, 'confidence': 0.94, 'label': 'Corn___Northern_Leaf_Blight'}, {'image_id': 376, 'confidence': 0.99, 'label': 'Strawberry___healthy'}, {'image_id': 377, 'confidence': 0.99, 'label': 'Raspberry___healthy'}, {'image_id': 378, 'confidence': 0.97, 'label': 'Squash___Powdery_mildew'}, {'image_id': 379, 'confidence': 0.96, 'label': 'Tomato___Target_Spot'}]}\n",
      "Accuracy of Before & After Technique: 0.6631578947368421\n"
     ]
    }
   ],
   "source": [
    "response_json = json.loads(response.text)\n",
    "print(response_json)\n",
    "predictions = [item['label'] for item in response_json['output']]\n",
    "actual = list(df_test.class_name)\n",
    "print(\"Accuracy of Before & After Technique:\", get_accuracy(actual, predictions))"
   ]
  },
  {
   "cell_type": "markdown",
   "metadata": {},
   "source": [
    "### Predicting Disease Given Crop Name"
   ]
  },
  {
   "cell_type": "code",
   "execution_count": 55,
   "metadata": {},
   "outputs": [
    {
     "name": "stdout",
     "output_type": "stream",
     "text": [
      "Apple___Apple_scab done\n",
      "Apple___Black_rot done\n",
      "Apple___Cedar_apple_rust done\n",
      "Apple___healthy done\n",
      "Blueberry___healthy done\n",
      "Cherry___Powdery_mildew done\n",
      "Cherry___healthy done\n",
      "Corn___Cercospora_leaf_spot Gray_leaf_spot done\n",
      "Corn___Common_rust done\n",
      "Corn___Northern_Leaf_Blight done\n",
      "Corn___healthy done\n",
      "Grape___Black_rot done\n",
      "Grape___Esca_Black_Measles done\n",
      "Grape___Leaf_blight_Isariopsis_Leaf_Spot done\n",
      "Grape___healthy done\n",
      "Orange___Haunglongbing_Citrus_greening done\n",
      "Peach___Bacterial_spot done\n",
      "Peach___healthy done\n",
      "Pepper_bell___Bacterial_spot done\n",
      "Pepper_bell___healthy done\n",
      "Potato___Early_blight done\n",
      "Potato___Late_blight done\n",
      "Potato___healthy done\n",
      "Raspberry___healthy done\n",
      "Soybean___healthy done\n",
      "Squash___Powdery_mildew done\n",
      "Strawberry___Leaf_scorch done\n",
      "Strawberry___healthy done\n",
      "Tomato___Bacterial_spot done\n",
      "Tomato___Early_blight done\n",
      "Tomato___Late_blight done\n",
      "Tomato___Leaf_Mold done\n",
      "Tomato___Septoria_leaf_spot done\n",
      "Tomato___Spider_mites_Two_spotted_spider_mite done\n",
      "Tomato___Target_Spot done\n",
      "Tomato___Tomato_Yellow_Leaf_Curl_Virus done\n",
      "Tomato___Tomato_mosaic_virus done\n",
      "Tomato___healthy done\n",
      "/Users/mariamelantably/Desktop/programs/vais internship/disease_project/ammended_dataset/processed/test/Tomato___Late_blight/image (660).JPG done\n",
      "/Users/mariamelantably/Desktop/programs/vais internship/disease_project/ammended_dataset/processed/test/Tomato___Late_blight/image (660).JPG done\n",
      "/Users/mariamelantably/Desktop/programs/vais internship/disease_project/ammended_dataset/processed/test/Tomato___Late_blight/image (660).JPG done\n",
      "/Users/mariamelantably/Desktop/programs/vais internship/disease_project/ammended_dataset/processed/test/Tomato___Late_blight/image (660).JPG done\n",
      "/Users/mariamelantably/Desktop/programs/vais internship/disease_project/ammended_dataset/processed/test/Tomato___Late_blight/image (660).JPG done\n",
      "/Users/mariamelantably/Desktop/programs/vais internship/disease_project/ammended_dataset/processed/test/Tomato___Late_blight/image (660).JPG done\n",
      "/Users/mariamelantably/Desktop/programs/vais internship/disease_project/ammended_dataset/processed/test/Tomato___Late_blight/image (660).JPG done\n",
      "/Users/mariamelantably/Desktop/programs/vais internship/disease_project/ammended_dataset/processed/test/Tomato___Late_blight/image (660).JPG done\n",
      "/Users/mariamelantably/Desktop/programs/vais internship/disease_project/ammended_dataset/processed/test/Tomato___Late_blight/image (660).JPG done\n",
      "/Users/mariamelantably/Desktop/programs/vais internship/disease_project/ammended_dataset/processed/test/Tomato___Late_blight/image (660).JPG done\n",
      "/Users/mariamelantably/Desktop/programs/vais internship/disease_project/ammended_dataset/processed/test/Tomato___Late_blight/image (660).JPG done\n",
      "/Users/mariamelantably/Desktop/programs/vais internship/disease_project/ammended_dataset/processed/test/Tomato___Late_blight/image (660).JPG done\n",
      "/Users/mariamelantably/Desktop/programs/vais internship/disease_project/ammended_dataset/processed/test/Tomato___Late_blight/image (660).JPG done\n",
      "/Users/mariamelantably/Desktop/programs/vais internship/disease_project/ammended_dataset/processed/test/Tomato___Late_blight/image (660).JPG done\n",
      "/Users/mariamelantably/Desktop/programs/vais internship/disease_project/ammended_dataset/processed/test/Tomato___Late_blight/image (660).JPG done\n",
      "/Users/mariamelantably/Desktop/programs/vais internship/disease_project/ammended_dataset/processed/test/Tomato___Late_blight/image (660).JPG done\n",
      "/Users/mariamelantably/Desktop/programs/vais internship/disease_project/ammended_dataset/processed/test/Tomato___Late_blight/image (660).JPG done\n",
      "/Users/mariamelantably/Desktop/programs/vais internship/disease_project/ammended_dataset/processed/test/Tomato___Late_blight/image (660).JPG done\n",
      "/Users/mariamelantably/Desktop/programs/vais internship/disease_project/ammended_dataset/processed/test/Tomato___Late_blight/image (660).JPG done\n",
      "/Users/mariamelantably/Desktop/programs/vais internship/disease_project/ammended_dataset/processed/test/Tomato___Late_blight/image (660).JPG done\n",
      "/Users/mariamelantably/Desktop/programs/vais internship/disease_project/ammended_dataset/processed/test/Tomato___Late_blight/image (660).JPG done\n",
      "/Users/mariamelantably/Desktop/programs/vais internship/disease_project/ammended_dataset/processed/test/Tomato___Late_blight/image (660).JPG done\n",
      "/Users/mariamelantably/Desktop/programs/vais internship/disease_project/ammended_dataset/processed/test/Tomato___Late_blight/image (660).JPG done\n",
      "/Users/mariamelantably/Desktop/programs/vais internship/disease_project/ammended_dataset/processed/test/Tomato___Late_blight/image (660).JPG done\n",
      "/Users/mariamelantably/Desktop/programs/vais internship/disease_project/ammended_dataset/processed/test/Tomato___Late_blight/image (660).JPG done\n",
      "/Users/mariamelantably/Desktop/programs/vais internship/disease_project/ammended_dataset/processed/test/Tomato___Late_blight/image (660).JPG done\n",
      "/Users/mariamelantably/Desktop/programs/vais internship/disease_project/ammended_dataset/processed/test/Tomato___Late_blight/image (660).JPG done\n",
      "/Users/mariamelantably/Desktop/programs/vais internship/disease_project/ammended_dataset/processed/test/Tomato___Late_blight/image (660).JPG done\n",
      "/Users/mariamelantably/Desktop/programs/vais internship/disease_project/ammended_dataset/processed/test/Tomato___Late_blight/image (660).JPG done\n",
      "/Users/mariamelantably/Desktop/programs/vais internship/disease_project/ammended_dataset/processed/test/Tomato___Late_blight/image (660).JPG done\n",
      "/Users/mariamelantably/Desktop/programs/vais internship/disease_project/ammended_dataset/processed/test/Tomato___Late_blight/image (660).JPG done\n",
      "/Users/mariamelantably/Desktop/programs/vais internship/disease_project/ammended_dataset/processed/test/Tomato___Late_blight/image (660).JPG done\n",
      "/Users/mariamelantably/Desktop/programs/vais internship/disease_project/ammended_dataset/processed/test/Tomato___Late_blight/image (660).JPG done\n",
      "/Users/mariamelantably/Desktop/programs/vais internship/disease_project/ammended_dataset/processed/test/Tomato___Late_blight/image (660).JPG done\n",
      "/Users/mariamelantably/Desktop/programs/vais internship/disease_project/ammended_dataset/processed/test/Tomato___Late_blight/image (660).JPG done\n",
      "/Users/mariamelantably/Desktop/programs/vais internship/disease_project/ammended_dataset/processed/test/Tomato___Late_blight/image (660).JPG done\n",
      "/Users/mariamelantably/Desktop/programs/vais internship/disease_project/ammended_dataset/processed/test/Tomato___Late_blight/image (660).JPG done\n",
      "/Users/mariamelantably/Desktop/programs/vais internship/disease_project/ammended_dataset/processed/test/Tomato___Late_blight/image (660).JPG done\n",
      "/Users/mariamelantably/Desktop/programs/vais internship/disease_project/ammended_dataset/processed/test/Tomato___Late_blight/image (660).JPG done\n",
      "/Users/mariamelantably/Desktop/programs/vais internship/disease_project/ammended_dataset/processed/test/Tomato___Late_blight/image (660).JPG done\n",
      "/Users/mariamelantably/Desktop/programs/vais internship/disease_project/ammended_dataset/processed/test/Tomato___Late_blight/image (660).JPG done\n",
      "/Users/mariamelantably/Desktop/programs/vais internship/disease_project/ammended_dataset/processed/test/Tomato___Late_blight/image (660).JPG done\n",
      "/Users/mariamelantably/Desktop/programs/vais internship/disease_project/ammended_dataset/processed/test/Tomato___Late_blight/image (660).JPG done\n",
      "/Users/mariamelantably/Desktop/programs/vais internship/disease_project/ammended_dataset/processed/test/Tomato___Late_blight/image (660).JPG done\n",
      "/Users/mariamelantably/Desktop/programs/vais internship/disease_project/ammended_dataset/processed/test/Tomato___Late_blight/image (660).JPG done\n",
      "/Users/mariamelantably/Desktop/programs/vais internship/disease_project/ammended_dataset/processed/test/Tomato___Late_blight/image (660).JPG done\n",
      "/Users/mariamelantably/Desktop/programs/vais internship/disease_project/ammended_dataset/processed/test/Tomato___Late_blight/image (660).JPG done\n",
      "/Users/mariamelantably/Desktop/programs/vais internship/disease_project/ammended_dataset/processed/test/Tomato___Late_blight/image (660).JPG done\n",
      "/Users/mariamelantably/Desktop/programs/vais internship/disease_project/ammended_dataset/processed/test/Tomato___Late_blight/image (660).JPG done\n",
      "/Users/mariamelantably/Desktop/programs/vais internship/disease_project/ammended_dataset/processed/test/Tomato___Late_blight/image (660).JPG done\n",
      "/Users/mariamelantably/Desktop/programs/vais internship/disease_project/ammended_dataset/processed/test/Tomato___Late_blight/image (660).JPG done\n",
      "/Users/mariamelantably/Desktop/programs/vais internship/disease_project/ammended_dataset/processed/test/Tomato___Late_blight/image (660).JPG done\n",
      "/Users/mariamelantably/Desktop/programs/vais internship/disease_project/ammended_dataset/processed/test/Tomato___Late_blight/image (660).JPG done\n",
      "/Users/mariamelantably/Desktop/programs/vais internship/disease_project/ammended_dataset/processed/test/Tomato___Late_blight/image (660).JPG done\n",
      "/Users/mariamelantably/Desktop/programs/vais internship/disease_project/ammended_dataset/processed/test/Tomato___Late_blight/image (660).JPG done\n",
      "/Users/mariamelantably/Desktop/programs/vais internship/disease_project/ammended_dataset/processed/test/Tomato___Late_blight/image (660).JPG done\n",
      "/Users/mariamelantably/Desktop/programs/vais internship/disease_project/ammended_dataset/processed/test/Tomato___Late_blight/image (660).JPG done\n",
      "/Users/mariamelantably/Desktop/programs/vais internship/disease_project/ammended_dataset/processed/test/Tomato___Late_blight/image (660).JPG done\n",
      "/Users/mariamelantably/Desktop/programs/vais internship/disease_project/ammended_dataset/processed/test/Tomato___Late_blight/image (660).JPG done\n",
      "/Users/mariamelantably/Desktop/programs/vais internship/disease_project/ammended_dataset/processed/test/Tomato___Late_blight/image (660).JPG done\n",
      "/Users/mariamelantably/Desktop/programs/vais internship/disease_project/ammended_dataset/processed/test/Tomato___Late_blight/image (660).JPG done\n",
      "/Users/mariamelantably/Desktop/programs/vais internship/disease_project/ammended_dataset/processed/test/Tomato___Late_blight/image (660).JPG done\n",
      "/Users/mariamelantably/Desktop/programs/vais internship/disease_project/ammended_dataset/processed/test/Tomato___Late_blight/image (660).JPG done\n",
      "/Users/mariamelantably/Desktop/programs/vais internship/disease_project/ammended_dataset/processed/test/Tomato___Late_blight/image (660).JPG done\n",
      "/Users/mariamelantably/Desktop/programs/vais internship/disease_project/ammended_dataset/processed/test/Tomato___Late_blight/image (660).JPG done\n",
      "/Users/mariamelantably/Desktop/programs/vais internship/disease_project/ammended_dataset/processed/test/Tomato___Late_blight/image (660).JPG done\n",
      "/Users/mariamelantably/Desktop/programs/vais internship/disease_project/ammended_dataset/processed/test/Tomato___Late_blight/image (660).JPG done\n",
      "/Users/mariamelantably/Desktop/programs/vais internship/disease_project/ammended_dataset/processed/test/Tomato___Late_blight/image (660).JPG done\n",
      "/Users/mariamelantably/Desktop/programs/vais internship/disease_project/ammended_dataset/processed/test/Tomato___Late_blight/image (660).JPG done\n",
      "/Users/mariamelantably/Desktop/programs/vais internship/disease_project/ammended_dataset/processed/test/Tomato___Late_blight/image (660).JPG done\n",
      "/Users/mariamelantably/Desktop/programs/vais internship/disease_project/ammended_dataset/processed/test/Tomato___Late_blight/image (660).JPG done\n",
      "/Users/mariamelantably/Desktop/programs/vais internship/disease_project/ammended_dataset/processed/test/Tomato___Late_blight/image (660).JPG done\n",
      "/Users/mariamelantably/Desktop/programs/vais internship/disease_project/ammended_dataset/processed/test/Tomato___Late_blight/image (660).JPG done\n",
      "/Users/mariamelantably/Desktop/programs/vais internship/disease_project/ammended_dataset/processed/test/Tomato___Late_blight/image (660).JPG done\n",
      "/Users/mariamelantably/Desktop/programs/vais internship/disease_project/ammended_dataset/processed/test/Tomato___Late_blight/image (660).JPG done\n",
      "/Users/mariamelantably/Desktop/programs/vais internship/disease_project/ammended_dataset/processed/test/Tomato___Late_blight/image (660).JPG done\n",
      "/Users/mariamelantably/Desktop/programs/vais internship/disease_project/ammended_dataset/processed/test/Tomato___Late_blight/image (660).JPG done\n",
      "/Users/mariamelantably/Desktop/programs/vais internship/disease_project/ammended_dataset/processed/test/Tomato___Late_blight/image (660).JPG done\n",
      "/Users/mariamelantably/Desktop/programs/vais internship/disease_project/ammended_dataset/processed/test/Tomato___Late_blight/image (660).JPG done\n",
      "/Users/mariamelantably/Desktop/programs/vais internship/disease_project/ammended_dataset/processed/test/Tomato___Late_blight/image (660).JPG done\n",
      "/Users/mariamelantably/Desktop/programs/vais internship/disease_project/ammended_dataset/processed/test/Tomato___Late_blight/image (660).JPG done\n",
      "/Users/mariamelantably/Desktop/programs/vais internship/disease_project/ammended_dataset/processed/test/Tomato___Late_blight/image (660).JPG done\n",
      "/Users/mariamelantably/Desktop/programs/vais internship/disease_project/ammended_dataset/processed/test/Tomato___Late_blight/image (660).JPG done\n",
      "/Users/mariamelantably/Desktop/programs/vais internship/disease_project/ammended_dataset/processed/test/Tomato___Late_blight/image (660).JPG done\n",
      "/Users/mariamelantably/Desktop/programs/vais internship/disease_project/ammended_dataset/processed/test/Tomato___Late_blight/image (660).JPG done\n",
      "/Users/mariamelantably/Desktop/programs/vais internship/disease_project/ammended_dataset/processed/test/Tomato___Late_blight/image (660).JPG done\n",
      "/Users/mariamelantably/Desktop/programs/vais internship/disease_project/ammended_dataset/processed/test/Tomato___Late_blight/image (660).JPG done\n",
      "/Users/mariamelantably/Desktop/programs/vais internship/disease_project/ammended_dataset/processed/test/Tomato___Late_blight/image (660).JPG done\n",
      "/Users/mariamelantably/Desktop/programs/vais internship/disease_project/ammended_dataset/processed/test/Tomato___Late_blight/image (660).JPG done\n",
      "/Users/mariamelantably/Desktop/programs/vais internship/disease_project/ammended_dataset/processed/test/Tomato___Late_blight/image (660).JPG done\n",
      "/Users/mariamelantably/Desktop/programs/vais internship/disease_project/ammended_dataset/processed/test/Tomato___Late_blight/image (660).JPG done\n",
      "/Users/mariamelantably/Desktop/programs/vais internship/disease_project/ammended_dataset/processed/test/Tomato___Late_blight/image (660).JPG done\n",
      "/Users/mariamelantably/Desktop/programs/vais internship/disease_project/ammended_dataset/processed/test/Tomato___Late_blight/image (660).JPG done\n",
      "/Users/mariamelantably/Desktop/programs/vais internship/disease_project/ammended_dataset/processed/test/Tomato___Late_blight/image (660).JPG done\n",
      "/Users/mariamelantably/Desktop/programs/vais internship/disease_project/ammended_dataset/processed/test/Tomato___Late_blight/image (660).JPG done\n",
      "/Users/mariamelantably/Desktop/programs/vais internship/disease_project/ammended_dataset/processed/test/Tomato___Late_blight/image (660).JPG done\n",
      "/Users/mariamelantably/Desktop/programs/vais internship/disease_project/ammended_dataset/processed/test/Tomato___Late_blight/image (660).JPG done\n",
      "/Users/mariamelantably/Desktop/programs/vais internship/disease_project/ammended_dataset/processed/test/Tomato___Late_blight/image (660).JPG done\n",
      "/Users/mariamelantably/Desktop/programs/vais internship/disease_project/ammended_dataset/processed/test/Tomato___Late_blight/image (660).JPG done\n",
      "/Users/mariamelantably/Desktop/programs/vais internship/disease_project/ammended_dataset/processed/test/Tomato___Late_blight/image (660).JPG done\n",
      "/Users/mariamelantably/Desktop/programs/vais internship/disease_project/ammended_dataset/processed/test/Tomato___Late_blight/image (660).JPG done\n",
      "/Users/mariamelantably/Desktop/programs/vais internship/disease_project/ammended_dataset/processed/test/Tomato___Late_blight/image (660).JPG done\n",
      "/Users/mariamelantably/Desktop/programs/vais internship/disease_project/ammended_dataset/processed/test/Tomato___Late_blight/image (660).JPG done\n",
      "/Users/mariamelantably/Desktop/programs/vais internship/disease_project/ammended_dataset/processed/test/Tomato___Late_blight/image (660).JPG done\n",
      "/Users/mariamelantably/Desktop/programs/vais internship/disease_project/ammended_dataset/processed/test/Tomato___Late_blight/image (660).JPG done\n",
      "/Users/mariamelantably/Desktop/programs/vais internship/disease_project/ammended_dataset/processed/test/Tomato___Late_blight/image (660).JPG done\n",
      "/Users/mariamelantably/Desktop/programs/vais internship/disease_project/ammended_dataset/processed/test/Tomato___Late_blight/image (660).JPG done\n",
      "/Users/mariamelantably/Desktop/programs/vais internship/disease_project/ammended_dataset/processed/test/Tomato___Late_blight/image (660).JPG done\n",
      "/Users/mariamelantably/Desktop/programs/vais internship/disease_project/ammended_dataset/processed/test/Tomato___Late_blight/image (660).JPG done\n",
      "/Users/mariamelantably/Desktop/programs/vais internship/disease_project/ammended_dataset/processed/test/Tomato___Late_blight/image (660).JPG done\n",
      "/Users/mariamelantably/Desktop/programs/vais internship/disease_project/ammended_dataset/processed/test/Tomato___Late_blight/image (660).JPG done\n",
      "/Users/mariamelantably/Desktop/programs/vais internship/disease_project/ammended_dataset/processed/test/Tomato___Late_blight/image (660).JPG done\n",
      "/Users/mariamelantably/Desktop/programs/vais internship/disease_project/ammended_dataset/processed/test/Tomato___Late_blight/image (660).JPG done\n",
      "/Users/mariamelantably/Desktop/programs/vais internship/disease_project/ammended_dataset/processed/test/Tomato___Late_blight/image (660).JPG done\n",
      "/Users/mariamelantably/Desktop/programs/vais internship/disease_project/ammended_dataset/processed/test/Tomato___Late_blight/image (660).JPG done\n",
      "/Users/mariamelantably/Desktop/programs/vais internship/disease_project/ammended_dataset/processed/test/Tomato___Late_blight/image (660).JPG done\n",
      "/Users/mariamelantably/Desktop/programs/vais internship/disease_project/ammended_dataset/processed/test/Tomato___Late_blight/image (660).JPG done\n",
      "/Users/mariamelantably/Desktop/programs/vais internship/disease_project/ammended_dataset/processed/test/Tomato___Late_blight/image (660).JPG done\n",
      "/Users/mariamelantably/Desktop/programs/vais internship/disease_project/ammended_dataset/processed/test/Tomato___Late_blight/image (660).JPG done\n",
      "/Users/mariamelantably/Desktop/programs/vais internship/disease_project/ammended_dataset/processed/test/Tomato___Late_blight/image (660).JPG done\n",
      "/Users/mariamelantably/Desktop/programs/vais internship/disease_project/ammended_dataset/processed/test/Tomato___Late_blight/image (660).JPG done\n",
      "/Users/mariamelantably/Desktop/programs/vais internship/disease_project/ammended_dataset/processed/test/Tomato___Late_blight/image (660).JPG done\n",
      "/Users/mariamelantably/Desktop/programs/vais internship/disease_project/ammended_dataset/processed/test/Tomato___Late_blight/image (660).JPG done\n",
      "/Users/mariamelantably/Desktop/programs/vais internship/disease_project/ammended_dataset/processed/test/Tomato___Late_blight/image (660).JPG done\n",
      "/Users/mariamelantably/Desktop/programs/vais internship/disease_project/ammended_dataset/processed/test/Tomato___Late_blight/image (660).JPG done\n",
      "/Users/mariamelantably/Desktop/programs/vais internship/disease_project/ammended_dataset/processed/test/Tomato___Late_blight/image (660).JPG done\n",
      "/Users/mariamelantably/Desktop/programs/vais internship/disease_project/ammended_dataset/processed/test/Tomato___Late_blight/image (660).JPG done\n",
      "/Users/mariamelantably/Desktop/programs/vais internship/disease_project/ammended_dataset/processed/test/Tomato___Late_blight/image (660).JPG done\n",
      "/Users/mariamelantably/Desktop/programs/vais internship/disease_project/ammended_dataset/processed/test/Tomato___Late_blight/image (660).JPG done\n",
      "/Users/mariamelantably/Desktop/programs/vais internship/disease_project/ammended_dataset/processed/test/Tomato___Late_blight/image (660).JPG done\n",
      "/Users/mariamelantably/Desktop/programs/vais internship/disease_project/ammended_dataset/processed/test/Tomato___Late_blight/image (660).JPG done\n",
      "/Users/mariamelantably/Desktop/programs/vais internship/disease_project/ammended_dataset/processed/test/Tomato___Late_blight/image (660).JPG done\n",
      "/Users/mariamelantably/Desktop/programs/vais internship/disease_project/ammended_dataset/processed/test/Tomato___Late_blight/image (660).JPG done\n",
      "/Users/mariamelantably/Desktop/programs/vais internship/disease_project/ammended_dataset/processed/test/Tomato___Late_blight/image (660).JPG done\n",
      "/Users/mariamelantably/Desktop/programs/vais internship/disease_project/ammended_dataset/processed/test/Tomato___Late_blight/image (660).JPG done\n",
      "/Users/mariamelantably/Desktop/programs/vais internship/disease_project/ammended_dataset/processed/test/Tomato___Late_blight/image (660).JPG done\n",
      "/Users/mariamelantably/Desktop/programs/vais internship/disease_project/ammended_dataset/processed/test/Tomato___Late_blight/image (660).JPG done\n",
      "/Users/mariamelantably/Desktop/programs/vais internship/disease_project/ammended_dataset/processed/test/Tomato___Late_blight/image (660).JPG done\n",
      "/Users/mariamelantably/Desktop/programs/vais internship/disease_project/ammended_dataset/processed/test/Tomato___Late_blight/image (660).JPG done\n",
      "/Users/mariamelantably/Desktop/programs/vais internship/disease_project/ammended_dataset/processed/test/Tomato___Late_blight/image (660).JPG done\n",
      "/Users/mariamelantably/Desktop/programs/vais internship/disease_project/ammended_dataset/processed/test/Tomato___Late_blight/image (660).JPG done\n",
      "/Users/mariamelantably/Desktop/programs/vais internship/disease_project/ammended_dataset/processed/test/Tomato___Late_blight/image (660).JPG done\n",
      "/Users/mariamelantably/Desktop/programs/vais internship/disease_project/ammended_dataset/processed/test/Tomato___Late_blight/image (660).JPG done\n",
      "/Users/mariamelantably/Desktop/programs/vais internship/disease_project/ammended_dataset/processed/test/Tomato___Late_blight/image (660).JPG done\n",
      "/Users/mariamelantably/Desktop/programs/vais internship/disease_project/ammended_dataset/processed/test/Tomato___Late_blight/image (660).JPG done\n",
      "/Users/mariamelantably/Desktop/programs/vais internship/disease_project/ammended_dataset/processed/test/Tomato___Late_blight/image (660).JPG done\n",
      "/Users/mariamelantably/Desktop/programs/vais internship/disease_project/ammended_dataset/processed/test/Tomato___Late_blight/image (660).JPG done\n",
      "/Users/mariamelantably/Desktop/programs/vais internship/disease_project/ammended_dataset/processed/test/Tomato___Late_blight/image (660).JPG done\n",
      "/Users/mariamelantably/Desktop/programs/vais internship/disease_project/ammended_dataset/processed/test/Tomato___Late_blight/image (660).JPG done\n",
      "/Users/mariamelantably/Desktop/programs/vais internship/disease_project/ammended_dataset/processed/test/Tomato___Late_blight/image (660).JPG done\n",
      "/Users/mariamelantably/Desktop/programs/vais internship/disease_project/ammended_dataset/processed/test/Tomato___Late_blight/image (660).JPG done\n",
      "/Users/mariamelantably/Desktop/programs/vais internship/disease_project/ammended_dataset/processed/test/Tomato___Late_blight/image (660).JPG done\n",
      "/Users/mariamelantably/Desktop/programs/vais internship/disease_project/ammended_dataset/processed/test/Tomato___Late_blight/image (660).JPG done\n",
      "/Users/mariamelantably/Desktop/programs/vais internship/disease_project/ammended_dataset/processed/test/Tomato___Late_blight/image (660).JPG done\n",
      "/Users/mariamelantably/Desktop/programs/vais internship/disease_project/ammended_dataset/processed/test/Tomato___Late_blight/image (660).JPG done\n",
      "/Users/mariamelantably/Desktop/programs/vais internship/disease_project/ammended_dataset/processed/test/Tomato___Late_blight/image (660).JPG done\n",
      "/Users/mariamelantably/Desktop/programs/vais internship/disease_project/ammended_dataset/processed/test/Tomato___Late_blight/image (660).JPG done\n",
      "/Users/mariamelantably/Desktop/programs/vais internship/disease_project/ammended_dataset/processed/test/Tomato___Late_blight/image (660).JPG done\n",
      "/Users/mariamelantably/Desktop/programs/vais internship/disease_project/ammended_dataset/processed/test/Tomato___Late_blight/image (660).JPG done\n",
      "/Users/mariamelantably/Desktop/programs/vais internship/disease_project/ammended_dataset/processed/test/Tomato___Late_blight/image (660).JPG done\n",
      "/Users/mariamelantably/Desktop/programs/vais internship/disease_project/ammended_dataset/processed/test/Tomato___Late_blight/image (660).JPG done\n",
      "/Users/mariamelantably/Desktop/programs/vais internship/disease_project/ammended_dataset/processed/test/Tomato___Late_blight/image (660).JPG done\n",
      "/Users/mariamelantably/Desktop/programs/vais internship/disease_project/ammended_dataset/processed/test/Tomato___Late_blight/image (660).JPG done\n",
      "/Users/mariamelantably/Desktop/programs/vais internship/disease_project/ammended_dataset/processed/test/Tomato___Late_blight/image (660).JPG done\n",
      "/Users/mariamelantably/Desktop/programs/vais internship/disease_project/ammended_dataset/processed/test/Tomato___Late_blight/image (660).JPG done\n",
      "/Users/mariamelantably/Desktop/programs/vais internship/disease_project/ammended_dataset/processed/test/Tomato___Late_blight/image (660).JPG done\n",
      "/Users/mariamelantably/Desktop/programs/vais internship/disease_project/ammended_dataset/processed/test/Tomato___Late_blight/image (660).JPG done\n",
      "/Users/mariamelantably/Desktop/programs/vais internship/disease_project/ammended_dataset/processed/test/Tomato___Late_blight/image (660).JPG done\n",
      "/Users/mariamelantably/Desktop/programs/vais internship/disease_project/ammended_dataset/processed/test/Tomato___Late_blight/image (660).JPG done\n",
      "/Users/mariamelantably/Desktop/programs/vais internship/disease_project/ammended_dataset/processed/test/Tomato___Late_blight/image (660).JPG done\n",
      "/Users/mariamelantably/Desktop/programs/vais internship/disease_project/ammended_dataset/processed/test/Tomato___Late_blight/image (660).JPG done\n",
      "/Users/mariamelantably/Desktop/programs/vais internship/disease_project/ammended_dataset/processed/test/Tomato___Late_blight/image (660).JPG done\n",
      "/Users/mariamelantably/Desktop/programs/vais internship/disease_project/ammended_dataset/processed/test/Tomato___Late_blight/image (660).JPG done\n",
      "/Users/mariamelantably/Desktop/programs/vais internship/disease_project/ammended_dataset/processed/test/Tomato___Late_blight/image (660).JPG done\n",
      "/Users/mariamelantably/Desktop/programs/vais internship/disease_project/ammended_dataset/processed/test/Tomato___Late_blight/image (660).JPG done\n",
      "/Users/mariamelantably/Desktop/programs/vais internship/disease_project/ammended_dataset/processed/test/Tomato___Late_blight/image (660).JPG done\n",
      "/Users/mariamelantably/Desktop/programs/vais internship/disease_project/ammended_dataset/processed/test/Tomato___Late_blight/image (660).JPG done\n",
      "/Users/mariamelantably/Desktop/programs/vais internship/disease_project/ammended_dataset/processed/test/Tomato___Late_blight/image (660).JPG done\n",
      "/Users/mariamelantably/Desktop/programs/vais internship/disease_project/ammended_dataset/processed/test/Tomato___Late_blight/image (660).JPG done\n",
      "/Users/mariamelantably/Desktop/programs/vais internship/disease_project/ammended_dataset/processed/test/Tomato___Late_blight/image (660).JPG done\n",
      "/Users/mariamelantably/Desktop/programs/vais internship/disease_project/ammended_dataset/processed/test/Tomato___Late_blight/image (660).JPG done\n",
      "/Users/mariamelantably/Desktop/programs/vais internship/disease_project/ammended_dataset/processed/test/Tomato___Late_blight/image (660).JPG done\n",
      "/Users/mariamelantably/Desktop/programs/vais internship/disease_project/ammended_dataset/processed/test/Tomato___Late_blight/image (660).JPG done\n",
      "/Users/mariamelantably/Desktop/programs/vais internship/disease_project/ammended_dataset/processed/test/Tomato___Late_blight/image (660).JPG done\n",
      "/Users/mariamelantably/Desktop/programs/vais internship/disease_project/ammended_dataset/processed/test/Tomato___Late_blight/image (660).JPG done\n",
      "/Users/mariamelantably/Desktop/programs/vais internship/disease_project/ammended_dataset/processed/test/Tomato___Late_blight/image (660).JPG done\n",
      "/Users/mariamelantably/Desktop/programs/vais internship/disease_project/ammended_dataset/processed/test/Tomato___Late_blight/image (660).JPG done\n",
      "/Users/mariamelantably/Desktop/programs/vais internship/disease_project/ammended_dataset/processed/test/Tomato___Late_blight/image (660).JPG done\n",
      "/Users/mariamelantably/Desktop/programs/vais internship/disease_project/ammended_dataset/processed/test/Tomato___Late_blight/image (660).JPG done\n",
      "/Users/mariamelantably/Desktop/programs/vais internship/disease_project/ammended_dataset/processed/test/Tomato___Late_blight/image (660).JPG done\n",
      "/Users/mariamelantably/Desktop/programs/vais internship/disease_project/ammended_dataset/processed/test/Tomato___Late_blight/image (660).JPG done\n",
      "/Users/mariamelantably/Desktop/programs/vais internship/disease_project/ammended_dataset/processed/test/Tomato___Late_blight/image (660).JPG done\n",
      "/Users/mariamelantably/Desktop/programs/vais internship/disease_project/ammended_dataset/processed/test/Tomato___Late_blight/image (660).JPG done\n",
      "/Users/mariamelantably/Desktop/programs/vais internship/disease_project/ammended_dataset/processed/test/Tomato___Late_blight/image (660).JPG done\n",
      "/Users/mariamelantably/Desktop/programs/vais internship/disease_project/ammended_dataset/processed/test/Tomato___Late_blight/image (660).JPG done\n",
      "/Users/mariamelantably/Desktop/programs/vais internship/disease_project/ammended_dataset/processed/test/Tomato___Late_blight/image (660).JPG done\n",
      "/Users/mariamelantably/Desktop/programs/vais internship/disease_project/ammended_dataset/processed/test/Tomato___Late_blight/image (660).JPG done\n",
      "/Users/mariamelantably/Desktop/programs/vais internship/disease_project/ammended_dataset/processed/test/Tomato___Late_blight/image (660).JPG done\n",
      "/Users/mariamelantably/Desktop/programs/vais internship/disease_project/ammended_dataset/processed/test/Tomato___Late_blight/image (660).JPG done\n",
      "/Users/mariamelantably/Desktop/programs/vais internship/disease_project/ammended_dataset/processed/test/Tomato___Late_blight/image (660).JPG done\n",
      "/Users/mariamelantably/Desktop/programs/vais internship/disease_project/ammended_dataset/processed/test/Tomato___Late_blight/image (660).JPG done\n",
      "/Users/mariamelantably/Desktop/programs/vais internship/disease_project/ammended_dataset/processed/test/Tomato___Late_blight/image (660).JPG done\n",
      "/Users/mariamelantably/Desktop/programs/vais internship/disease_project/ammended_dataset/processed/test/Tomato___Late_blight/image (660).JPG done\n",
      "/Users/mariamelantably/Desktop/programs/vais internship/disease_project/ammended_dataset/processed/test/Tomato___Late_blight/image (660).JPG done\n",
      "/Users/mariamelantably/Desktop/programs/vais internship/disease_project/ammended_dataset/processed/test/Tomato___Late_blight/image (660).JPG done\n",
      "/Users/mariamelantably/Desktop/programs/vais internship/disease_project/ammended_dataset/processed/test/Tomato___Late_blight/image (660).JPG done\n",
      "/Users/mariamelantably/Desktop/programs/vais internship/disease_project/ammended_dataset/processed/test/Tomato___Late_blight/image (660).JPG done\n",
      "/Users/mariamelantably/Desktop/programs/vais internship/disease_project/ammended_dataset/processed/test/Tomato___Late_blight/image (660).JPG done\n",
      "/Users/mariamelantably/Desktop/programs/vais internship/disease_project/ammended_dataset/processed/test/Tomato___Late_blight/image (660).JPG done\n",
      "/Users/mariamelantably/Desktop/programs/vais internship/disease_project/ammended_dataset/processed/test/Tomato___Late_blight/image (660).JPG done\n",
      "/Users/mariamelantably/Desktop/programs/vais internship/disease_project/ammended_dataset/processed/test/Tomato___Late_blight/image (660).JPG done\n",
      "/Users/mariamelantably/Desktop/programs/vais internship/disease_project/ammended_dataset/processed/test/Tomato___Late_blight/image (660).JPG done\n",
      "/Users/mariamelantably/Desktop/programs/vais internship/disease_project/ammended_dataset/processed/test/Tomato___Late_blight/image (660).JPG done\n",
      "/Users/mariamelantably/Desktop/programs/vais internship/disease_project/ammended_dataset/processed/test/Tomato___Late_blight/image (660).JPG done\n",
      "/Users/mariamelantably/Desktop/programs/vais internship/disease_project/ammended_dataset/processed/test/Tomato___Late_blight/image (660).JPG done\n",
      "/Users/mariamelantably/Desktop/programs/vais internship/disease_project/ammended_dataset/processed/test/Tomato___Late_blight/image (660).JPG done\n",
      "/Users/mariamelantably/Desktop/programs/vais internship/disease_project/ammended_dataset/processed/test/Tomato___Late_blight/image (660).JPG done\n",
      "/Users/mariamelantably/Desktop/programs/vais internship/disease_project/ammended_dataset/processed/test/Tomato___Late_blight/image (660).JPG done\n",
      "/Users/mariamelantably/Desktop/programs/vais internship/disease_project/ammended_dataset/processed/test/Tomato___Late_blight/image (660).JPG done\n",
      "/Users/mariamelantably/Desktop/programs/vais internship/disease_project/ammended_dataset/processed/test/Tomato___Late_blight/image (660).JPG done\n",
      "/Users/mariamelantably/Desktop/programs/vais internship/disease_project/ammended_dataset/processed/test/Tomato___Late_blight/image (660).JPG done\n",
      "/Users/mariamelantably/Desktop/programs/vais internship/disease_project/ammended_dataset/processed/test/Tomato___Late_blight/image (660).JPG done\n",
      "/Users/mariamelantably/Desktop/programs/vais internship/disease_project/ammended_dataset/processed/test/Tomato___Late_blight/image (660).JPG done\n",
      "/Users/mariamelantably/Desktop/programs/vais internship/disease_project/ammended_dataset/processed/test/Tomato___Late_blight/image (660).JPG done\n",
      "/Users/mariamelantably/Desktop/programs/vais internship/disease_project/ammended_dataset/processed/test/Tomato___Late_blight/image (660).JPG done\n",
      "/Users/mariamelantably/Desktop/programs/vais internship/disease_project/ammended_dataset/processed/test/Tomato___Late_blight/image (660).JPG done\n",
      "/Users/mariamelantably/Desktop/programs/vais internship/disease_project/ammended_dataset/processed/test/Tomato___Late_blight/image (660).JPG done\n",
      "/Users/mariamelantably/Desktop/programs/vais internship/disease_project/ammended_dataset/processed/test/Tomato___Late_blight/image (660).JPG done\n",
      "/Users/mariamelantably/Desktop/programs/vais internship/disease_project/ammended_dataset/processed/test/Tomato___Late_blight/image (660).JPG done\n",
      "/Users/mariamelantably/Desktop/programs/vais internship/disease_project/ammended_dataset/processed/test/Tomato___Late_blight/image (660).JPG done\n",
      "/Users/mariamelantably/Desktop/programs/vais internship/disease_project/ammended_dataset/processed/test/Tomato___Late_blight/image (660).JPG done\n",
      "/Users/mariamelantably/Desktop/programs/vais internship/disease_project/ammended_dataset/processed/test/Tomato___Late_blight/image (660).JPG done\n",
      "/Users/mariamelantably/Desktop/programs/vais internship/disease_project/ammended_dataset/processed/test/Tomato___Late_blight/image (660).JPG done\n",
      "/Users/mariamelantably/Desktop/programs/vais internship/disease_project/ammended_dataset/processed/test/Tomato___Late_blight/image (660).JPG done\n",
      "/Users/mariamelantably/Desktop/programs/vais internship/disease_project/ammended_dataset/processed/test/Tomato___Late_blight/image (660).JPG done\n",
      "/Users/mariamelantably/Desktop/programs/vais internship/disease_project/ammended_dataset/processed/test/Tomato___Late_blight/image (660).JPG done\n",
      "/Users/mariamelantably/Desktop/programs/vais internship/disease_project/ammended_dataset/processed/test/Tomato___Late_blight/image (660).JPG done\n",
      "/Users/mariamelantably/Desktop/programs/vais internship/disease_project/ammended_dataset/processed/test/Tomato___Late_blight/image (660).JPG done\n",
      "/Users/mariamelantably/Desktop/programs/vais internship/disease_project/ammended_dataset/processed/test/Tomato___Late_blight/image (660).JPG done\n",
      "/Users/mariamelantably/Desktop/programs/vais internship/disease_project/ammended_dataset/processed/test/Tomato___Late_blight/image (660).JPG done\n",
      "/Users/mariamelantably/Desktop/programs/vais internship/disease_project/ammended_dataset/processed/test/Tomato___Late_blight/image (660).JPG done\n",
      "/Users/mariamelantably/Desktop/programs/vais internship/disease_project/ammended_dataset/processed/test/Tomato___Late_blight/image (660).JPG done\n",
      "/Users/mariamelantably/Desktop/programs/vais internship/disease_project/ammended_dataset/processed/test/Tomato___Late_blight/image (660).JPG done\n",
      "/Users/mariamelantably/Desktop/programs/vais internship/disease_project/ammended_dataset/processed/test/Tomato___Late_blight/image (660).JPG done\n",
      "/Users/mariamelantably/Desktop/programs/vais internship/disease_project/ammended_dataset/processed/test/Tomato___Late_blight/image (660).JPG done\n",
      "/Users/mariamelantably/Desktop/programs/vais internship/disease_project/ammended_dataset/processed/test/Tomato___Late_blight/image (660).JPG done\n",
      "/Users/mariamelantably/Desktop/programs/vais internship/disease_project/ammended_dataset/processed/test/Tomato___Late_blight/image (660).JPG done\n",
      "/Users/mariamelantably/Desktop/programs/vais internship/disease_project/ammended_dataset/processed/test/Tomato___Late_blight/image (660).JPG done\n",
      "/Users/mariamelantably/Desktop/programs/vais internship/disease_project/ammended_dataset/processed/test/Tomato___Late_blight/image (660).JPG done\n",
      "/Users/mariamelantably/Desktop/programs/vais internship/disease_project/ammended_dataset/processed/test/Tomato___Late_blight/image (660).JPG done\n",
      "/Users/mariamelantably/Desktop/programs/vais internship/disease_project/ammended_dataset/processed/test/Tomato___Late_blight/image (660).JPG done\n",
      "/Users/mariamelantably/Desktop/programs/vais internship/disease_project/ammended_dataset/processed/test/Tomato___Late_blight/image (660).JPG done\n",
      "/Users/mariamelantably/Desktop/programs/vais internship/disease_project/ammended_dataset/processed/test/Tomato___Late_blight/image (660).JPG done\n",
      "/Users/mariamelantably/Desktop/programs/vais internship/disease_project/ammended_dataset/processed/test/Tomato___Late_blight/image (660).JPG done\n",
      "/Users/mariamelantably/Desktop/programs/vais internship/disease_project/ammended_dataset/processed/test/Tomato___Late_blight/image (660).JPG done\n",
      "/Users/mariamelantably/Desktop/programs/vais internship/disease_project/ammended_dataset/processed/test/Tomato___Late_blight/image (660).JPG done\n",
      "/Users/mariamelantably/Desktop/programs/vais internship/disease_project/ammended_dataset/processed/test/Tomato___Late_blight/image (660).JPG done\n",
      "/Users/mariamelantably/Desktop/programs/vais internship/disease_project/ammended_dataset/processed/test/Tomato___Late_blight/image (660).JPG done\n",
      "/Users/mariamelantably/Desktop/programs/vais internship/disease_project/ammended_dataset/processed/test/Tomato___Late_blight/image (660).JPG done\n",
      "/Users/mariamelantably/Desktop/programs/vais internship/disease_project/ammended_dataset/processed/test/Tomato___Late_blight/image (660).JPG done\n",
      "/Users/mariamelantably/Desktop/programs/vais internship/disease_project/ammended_dataset/processed/test/Tomato___Late_blight/image (660).JPG done\n",
      "/Users/mariamelantably/Desktop/programs/vais internship/disease_project/ammended_dataset/processed/test/Tomato___Late_blight/image (660).JPG done\n",
      "/Users/mariamelantably/Desktop/programs/vais internship/disease_project/ammended_dataset/processed/test/Tomato___Late_blight/image (660).JPG done\n",
      "/Users/mariamelantably/Desktop/programs/vais internship/disease_project/ammended_dataset/processed/test/Tomato___Late_blight/image (660).JPG done\n",
      "/Users/mariamelantably/Desktop/programs/vais internship/disease_project/ammended_dataset/processed/test/Tomato___Late_blight/image (660).JPG done\n",
      "/Users/mariamelantably/Desktop/programs/vais internship/disease_project/ammended_dataset/processed/test/Tomato___Late_blight/image (660).JPG done\n",
      "/Users/mariamelantably/Desktop/programs/vais internship/disease_project/ammended_dataset/processed/test/Tomato___Late_blight/image (660).JPG done\n",
      "/Users/mariamelantably/Desktop/programs/vais internship/disease_project/ammended_dataset/processed/test/Tomato___Late_blight/image (660).JPG done\n",
      "/Users/mariamelantably/Desktop/programs/vais internship/disease_project/ammended_dataset/processed/test/Tomato___Late_blight/image (660).JPG done\n",
      "/Users/mariamelantably/Desktop/programs/vais internship/disease_project/ammended_dataset/processed/test/Tomato___Late_blight/image (660).JPG done\n",
      "/Users/mariamelantably/Desktop/programs/vais internship/disease_project/ammended_dataset/processed/test/Tomato___Late_blight/image (660).JPG done\n",
      "/Users/mariamelantably/Desktop/programs/vais internship/disease_project/ammended_dataset/processed/test/Tomato___Late_blight/image (660).JPG done\n",
      "/Users/mariamelantably/Desktop/programs/vais internship/disease_project/ammended_dataset/processed/test/Tomato___Late_blight/image (660).JPG done\n",
      "/Users/mariamelantably/Desktop/programs/vais internship/disease_project/ammended_dataset/processed/test/Tomato___Late_blight/image (660).JPG done\n",
      "/Users/mariamelantably/Desktop/programs/vais internship/disease_project/ammended_dataset/processed/test/Tomato___Late_blight/image (660).JPG done\n",
      "/Users/mariamelantably/Desktop/programs/vais internship/disease_project/ammended_dataset/processed/test/Tomato___Late_blight/image (660).JPG done\n",
      "/Users/mariamelantably/Desktop/programs/vais internship/disease_project/ammended_dataset/processed/test/Tomato___Late_blight/image (660).JPG done\n",
      "/Users/mariamelantably/Desktop/programs/vais internship/disease_project/ammended_dataset/processed/test/Tomato___Late_blight/image (660).JPG done\n",
      "/Users/mariamelantably/Desktop/programs/vais internship/disease_project/ammended_dataset/processed/test/Tomato___Late_blight/image (660).JPG done\n",
      "/Users/mariamelantably/Desktop/programs/vais internship/disease_project/ammended_dataset/processed/test/Tomato___Late_blight/image (660).JPG done\n",
      "/Users/mariamelantably/Desktop/programs/vais internship/disease_project/ammended_dataset/processed/test/Tomato___Late_blight/image (660).JPG done\n",
      "/Users/mariamelantably/Desktop/programs/vais internship/disease_project/ammended_dataset/processed/test/Tomato___Late_blight/image (660).JPG done\n",
      "/Users/mariamelantably/Desktop/programs/vais internship/disease_project/ammended_dataset/processed/test/Tomato___Late_blight/image (660).JPG done\n",
      "/Users/mariamelantably/Desktop/programs/vais internship/disease_project/ammended_dataset/processed/test/Tomato___Late_blight/image (660).JPG done\n",
      "/Users/mariamelantably/Desktop/programs/vais internship/disease_project/ammended_dataset/processed/test/Tomato___Late_blight/image (660).JPG done\n",
      "/Users/mariamelantably/Desktop/programs/vais internship/disease_project/ammended_dataset/processed/test/Tomato___Late_blight/image (660).JPG done\n",
      "/Users/mariamelantably/Desktop/programs/vais internship/disease_project/ammended_dataset/processed/test/Tomato___Late_blight/image (660).JPG done\n",
      "/Users/mariamelantably/Desktop/programs/vais internship/disease_project/ammended_dataset/processed/test/Tomato___Late_blight/image (660).JPG done\n",
      "/Users/mariamelantably/Desktop/programs/vais internship/disease_project/ammended_dataset/processed/test/Tomato___Late_blight/image (660).JPG done\n",
      "/Users/mariamelantably/Desktop/programs/vais internship/disease_project/ammended_dataset/processed/test/Tomato___Late_blight/image (660).JPG done\n",
      "/Users/mariamelantably/Desktop/programs/vais internship/disease_project/ammended_dataset/processed/test/Tomato___Late_blight/image (660).JPG done\n",
      "/Users/mariamelantably/Desktop/programs/vais internship/disease_project/ammended_dataset/processed/test/Tomato___Late_blight/image (660).JPG done\n",
      "/Users/mariamelantably/Desktop/programs/vais internship/disease_project/ammended_dataset/processed/test/Tomato___Late_blight/image (660).JPG done\n",
      "/Users/mariamelantably/Desktop/programs/vais internship/disease_project/ammended_dataset/processed/test/Tomato___Late_blight/image (660).JPG done\n",
      "/Users/mariamelantably/Desktop/programs/vais internship/disease_project/ammended_dataset/processed/test/Tomato___Late_blight/image (660).JPG done\n",
      "/Users/mariamelantably/Desktop/programs/vais internship/disease_project/ammended_dataset/processed/test/Tomato___Late_blight/image (660).JPG done\n",
      "/Users/mariamelantably/Desktop/programs/vais internship/disease_project/ammended_dataset/processed/test/Tomato___Late_blight/image (660).JPG done\n",
      "/Users/mariamelantably/Desktop/programs/vais internship/disease_project/ammended_dataset/processed/test/Tomato___Late_blight/image (660).JPG done\n",
      "/Users/mariamelantably/Desktop/programs/vais internship/disease_project/ammended_dataset/processed/test/Tomato___Late_blight/image (660).JPG done\n",
      "/Users/mariamelantably/Desktop/programs/vais internship/disease_project/ammended_dataset/processed/test/Tomato___Late_blight/image (660).JPG done\n",
      "/Users/mariamelantably/Desktop/programs/vais internship/disease_project/ammended_dataset/processed/test/Tomato___Late_blight/image (660).JPG done\n",
      "/Users/mariamelantably/Desktop/programs/vais internship/disease_project/ammended_dataset/processed/test/Tomato___Late_blight/image (660).JPG done\n",
      "/Users/mariamelantably/Desktop/programs/vais internship/disease_project/ammended_dataset/processed/test/Tomato___Late_blight/image (660).JPG done\n",
      "/Users/mariamelantably/Desktop/programs/vais internship/disease_project/ammended_dataset/processed/test/Tomato___Late_blight/image (660).JPG done\n",
      "/Users/mariamelantably/Desktop/programs/vais internship/disease_project/ammended_dataset/processed/test/Tomato___Late_blight/image (660).JPG done\n",
      "/Users/mariamelantably/Desktop/programs/vais internship/disease_project/ammended_dataset/processed/test/Tomato___Late_blight/image (660).JPG done\n",
      "/Users/mariamelantably/Desktop/programs/vais internship/disease_project/ammended_dataset/processed/test/Tomato___Late_blight/image (660).JPG done\n",
      "/Users/mariamelantably/Desktop/programs/vais internship/disease_project/ammended_dataset/processed/test/Tomato___Late_blight/image (660).JPG done\n",
      "/Users/mariamelantably/Desktop/programs/vais internship/disease_project/ammended_dataset/processed/test/Tomato___Late_blight/image (660).JPG done\n",
      "/Users/mariamelantably/Desktop/programs/vais internship/disease_project/ammended_dataset/processed/test/Tomato___Late_blight/image (660).JPG done\n",
      "/Users/mariamelantably/Desktop/programs/vais internship/disease_project/ammended_dataset/processed/test/Tomato___Late_blight/image (660).JPG done\n",
      "/Users/mariamelantably/Desktop/programs/vais internship/disease_project/ammended_dataset/processed/test/Tomato___Late_blight/image (660).JPG done\n",
      "/Users/mariamelantably/Desktop/programs/vais internship/disease_project/ammended_dataset/processed/test/Tomato___Late_blight/image (660).JPG done\n",
      "/Users/mariamelantably/Desktop/programs/vais internship/disease_project/ammended_dataset/processed/test/Tomato___Late_blight/image (660).JPG done\n",
      "/Users/mariamelantably/Desktop/programs/vais internship/disease_project/ammended_dataset/processed/test/Tomato___Late_blight/image (660).JPG done\n",
      "/Users/mariamelantably/Desktop/programs/vais internship/disease_project/ammended_dataset/processed/test/Tomato___Late_blight/image (660).JPG done\n",
      "/Users/mariamelantably/Desktop/programs/vais internship/disease_project/ammended_dataset/processed/test/Tomato___Late_blight/image (660).JPG done\n",
      "/Users/mariamelantably/Desktop/programs/vais internship/disease_project/ammended_dataset/processed/test/Tomato___Late_blight/image (660).JPG done\n",
      "/Users/mariamelantably/Desktop/programs/vais internship/disease_project/ammended_dataset/processed/test/Tomato___Late_blight/image (660).JPG done\n",
      "/Users/mariamelantably/Desktop/programs/vais internship/disease_project/ammended_dataset/processed/test/Tomato___Late_blight/image (660).JPG done\n",
      "/Users/mariamelantably/Desktop/programs/vais internship/disease_project/ammended_dataset/processed/test/Tomato___Late_blight/image (660).JPG done\n",
      "/Users/mariamelantably/Desktop/programs/vais internship/disease_project/ammended_dataset/processed/test/Tomato___Late_blight/image (660).JPG done\n",
      "/Users/mariamelantably/Desktop/programs/vais internship/disease_project/ammended_dataset/processed/test/Tomato___Late_blight/image (660).JPG done\n",
      "/Users/mariamelantably/Desktop/programs/vais internship/disease_project/ammended_dataset/processed/test/Tomato___Late_blight/image (660).JPG done\n",
      "/Users/mariamelantably/Desktop/programs/vais internship/disease_project/ammended_dataset/processed/test/Tomato___Late_blight/image (660).JPG done\n",
      "/Users/mariamelantably/Desktop/programs/vais internship/disease_project/ammended_dataset/processed/test/Tomato___Late_blight/image (660).JPG done\n",
      "/Users/mariamelantably/Desktop/programs/vais internship/disease_project/ammended_dataset/processed/test/Tomato___Late_blight/image (660).JPG done\n",
      "/Users/mariamelantably/Desktop/programs/vais internship/disease_project/ammended_dataset/processed/test/Tomato___Late_blight/image (660).JPG done\n",
      "/Users/mariamelantably/Desktop/programs/vais internship/disease_project/ammended_dataset/processed/test/Tomato___Late_blight/image (660).JPG done\n",
      "/Users/mariamelantably/Desktop/programs/vais internship/disease_project/ammended_dataset/processed/test/Tomato___Late_blight/image (660).JPG done\n",
      "/Users/mariamelantably/Desktop/programs/vais internship/disease_project/ammended_dataset/processed/test/Tomato___Late_blight/image (660).JPG done\n",
      "/Users/mariamelantably/Desktop/programs/vais internship/disease_project/ammended_dataset/processed/test/Tomato___Late_blight/image (660).JPG done\n",
      "/Users/mariamelantably/Desktop/programs/vais internship/disease_project/ammended_dataset/processed/test/Tomato___Late_blight/image (660).JPG done\n",
      "/Users/mariamelantably/Desktop/programs/vais internship/disease_project/ammended_dataset/processed/test/Tomato___Late_blight/image (660).JPG done\n",
      "/Users/mariamelantably/Desktop/programs/vais internship/disease_project/ammended_dataset/processed/test/Tomato___Late_blight/image (660).JPG done\n",
      "/Users/mariamelantably/Desktop/programs/vais internship/disease_project/ammended_dataset/processed/test/Tomato___Late_blight/image (660).JPG done\n",
      "/Users/mariamelantably/Desktop/programs/vais internship/disease_project/ammended_dataset/processed/test/Tomato___Late_blight/image (660).JPG done\n",
      "/Users/mariamelantably/Desktop/programs/vais internship/disease_project/ammended_dataset/processed/test/Tomato___Late_blight/image (660).JPG done\n",
      "/Users/mariamelantably/Desktop/programs/vais internship/disease_project/ammended_dataset/processed/test/Tomato___Late_blight/image (660).JPG done\n",
      "/Users/mariamelantably/Desktop/programs/vais internship/disease_project/ammended_dataset/processed/test/Tomato___Late_blight/image (660).JPG done\n",
      "/Users/mariamelantably/Desktop/programs/vais internship/disease_project/ammended_dataset/processed/test/Tomato___Late_blight/image (660).JPG done\n",
      "/Users/mariamelantably/Desktop/programs/vais internship/disease_project/ammended_dataset/processed/test/Tomato___Late_blight/image (660).JPG done\n",
      "/Users/mariamelantably/Desktop/programs/vais internship/disease_project/ammended_dataset/processed/test/Tomato___Late_blight/image (660).JPG done\n",
      "/Users/mariamelantably/Desktop/programs/vais internship/disease_project/ammended_dataset/processed/test/Tomato___Late_blight/image (660).JPG done\n",
      "/Users/mariamelantably/Desktop/programs/vais internship/disease_project/ammended_dataset/processed/test/Tomato___Late_blight/image (660).JPG done\n",
      "/Users/mariamelantably/Desktop/programs/vais internship/disease_project/ammended_dataset/processed/test/Tomato___Late_blight/image (660).JPG done\n",
      "/Users/mariamelantably/Desktop/programs/vais internship/disease_project/ammended_dataset/processed/test/Tomato___Late_blight/image (660).JPG done\n",
      "/Users/mariamelantably/Desktop/programs/vais internship/disease_project/ammended_dataset/processed/test/Tomato___Late_blight/image (660).JPG done\n",
      "/Users/mariamelantably/Desktop/programs/vais internship/disease_project/ammended_dataset/processed/test/Tomato___Late_blight/image (660).JPG done\n",
      "/Users/mariamelantably/Desktop/programs/vais internship/disease_project/ammended_dataset/processed/test/Tomato___Late_blight/image (660).JPG done\n",
      "/Users/mariamelantably/Desktop/programs/vais internship/disease_project/ammended_dataset/processed/test/Tomato___Late_blight/image (660).JPG done\n",
      "/Users/mariamelantably/Desktop/programs/vais internship/disease_project/ammended_dataset/processed/test/Tomato___Late_blight/image (660).JPG done\n",
      "/Users/mariamelantably/Desktop/programs/vais internship/disease_project/ammended_dataset/processed/test/Tomato___Late_blight/image (660).JPG done\n",
      "/Users/mariamelantably/Desktop/programs/vais internship/disease_project/ammended_dataset/processed/test/Tomato___Late_blight/image (660).JPG done\n",
      "/Users/mariamelantably/Desktop/programs/vais internship/disease_project/ammended_dataset/processed/test/Tomato___Late_blight/image (660).JPG done\n",
      "/Users/mariamelantably/Desktop/programs/vais internship/disease_project/ammended_dataset/processed/test/Tomato___Late_blight/image (660).JPG done\n",
      "/Users/mariamelantably/Desktop/programs/vais internship/disease_project/ammended_dataset/processed/test/Tomato___Late_blight/image (660).JPG done\n",
      "/Users/mariamelantably/Desktop/programs/vais internship/disease_project/ammended_dataset/processed/test/Tomato___Late_blight/image (660).JPG done\n",
      "/Users/mariamelantably/Desktop/programs/vais internship/disease_project/ammended_dataset/processed/test/Tomato___Late_blight/image (660).JPG done\n",
      "/Users/mariamelantably/Desktop/programs/vais internship/disease_project/ammended_dataset/processed/test/Tomato___Late_blight/image (660).JPG done\n",
      "/Users/mariamelantably/Desktop/programs/vais internship/disease_project/ammended_dataset/processed/test/Tomato___Late_blight/image (660).JPG done\n",
      "/Users/mariamelantably/Desktop/programs/vais internship/disease_project/ammended_dataset/processed/test/Tomato___Late_blight/image (660).JPG done\n",
      "/Users/mariamelantably/Desktop/programs/vais internship/disease_project/ammended_dataset/processed/test/Tomato___Late_blight/image (660).JPG done\n",
      "/Users/mariamelantably/Desktop/programs/vais internship/disease_project/ammended_dataset/processed/test/Tomato___Late_blight/image (660).JPG done\n",
      "/Users/mariamelantably/Desktop/programs/vais internship/disease_project/ammended_dataset/processed/test/Tomato___Late_blight/image (660).JPG done\n",
      "/Users/mariamelantably/Desktop/programs/vais internship/disease_project/ammended_dataset/processed/test/Tomato___Late_blight/image (660).JPG done\n",
      "/Users/mariamelantably/Desktop/programs/vais internship/disease_project/ammended_dataset/processed/test/Tomato___Late_blight/image (660).JPG done\n",
      "/Users/mariamelantably/Desktop/programs/vais internship/disease_project/ammended_dataset/processed/test/Tomato___Late_blight/image (660).JPG done\n",
      "/Users/mariamelantably/Desktop/programs/vais internship/disease_project/ammended_dataset/processed/test/Tomato___Late_blight/image (660).JPG done\n",
      "/Users/mariamelantably/Desktop/programs/vais internship/disease_project/ammended_dataset/processed/test/Tomato___Late_blight/image (660).JPG done\n",
      "/Users/mariamelantably/Desktop/programs/vais internship/disease_project/ammended_dataset/processed/test/Tomato___Late_blight/image (660).JPG done\n",
      "/Users/mariamelantably/Desktop/programs/vais internship/disease_project/ammended_dataset/processed/test/Tomato___Late_blight/image (660).JPG done\n",
      "/Users/mariamelantably/Desktop/programs/vais internship/disease_project/ammended_dataset/processed/test/Tomato___Late_blight/image (660).JPG done\n",
      "/Users/mariamelantably/Desktop/programs/vais internship/disease_project/ammended_dataset/processed/test/Tomato___Late_blight/image (660).JPG done\n",
      "/Users/mariamelantably/Desktop/programs/vais internship/disease_project/ammended_dataset/processed/test/Tomato___Late_blight/image (660).JPG done\n",
      "/Users/mariamelantably/Desktop/programs/vais internship/disease_project/ammended_dataset/processed/test/Tomato___Late_blight/image (660).JPG done\n",
      "/Users/mariamelantably/Desktop/programs/vais internship/disease_project/ammended_dataset/processed/test/Tomato___Late_blight/image (660).JPG done\n",
      "/Users/mariamelantably/Desktop/programs/vais internship/disease_project/ammended_dataset/processed/test/Tomato___Late_blight/image (660).JPG done\n",
      "/Users/mariamelantably/Desktop/programs/vais internship/disease_project/ammended_dataset/processed/test/Tomato___Late_blight/image (660).JPG done\n",
      "/Users/mariamelantably/Desktop/programs/vais internship/disease_project/ammended_dataset/processed/test/Tomato___Late_blight/image (660).JPG done\n"
     ]
    }
   ],
   "source": [
    "messages_train_name = ['Possible labels:']\n",
    "grouped = df_train.groupby('class_name')\n",
    "for class_id, group in grouped: \n",
    "    crop, disease = convert_format(names.index(class_id))\n",
    "    i = 0\n",
    "    for _, row in group.iterrows():\n",
    "        image_new = open(row[\"image_path\"], \"rb\").read()\n",
    "        base64_image_n = types.Part.from_bytes(data=image_new, mime_type=\"image/jpeg\")\n",
    "        messages_train_name.append(base64_image_n)\n",
    "        i += 0\n",
    "    print(f\"{class_id} done\")\n",
    "    messages_train_name.append(f\"plant: {crop}\")\n",
    "    messages_train_name.append(f\"label: {disease}\")\n",
    "\n",
    "messages_name = [\"Input images:\"]\n",
    "for i, row in df_test.iterrows():\n",
    "    crop, disease = convert_format(names.index(row[\"class_name\"]))\n",
    "    base64_img = open(row[\"image_path\"], \"rb\").read()\n",
    "    image_message = [\n",
    "        types.Part.from_bytes(data=base64_img, mime_type=\"image/jpeg\"),\n",
    "        f\"plant: {crop}\"\n",
    "        f\"input_image_id: {i}\"\n",
    "    ]\n",
    "    messages_name.extend(image_message)\n",
    "    print(f\"{image_path} done\")\n",
    "messages_name.append(f\"Please correctly classify all {df_train.shape[0]} images\")"
   ]
  },
  {
   "cell_type": "code",
   "execution_count": 61,
   "metadata": {},
   "outputs": [],
   "source": [
    "client = genai.Client(api_key = API_KEY)\n",
    "generation_config = types.GenerateContentConfig(response_mime_type=\"application/json\", max_output_tokens=6000000)\n",
    "CLASS_PROMPT = open(\"classification_prompt_given_name.txt\").read()\n",
    "response = client.models.generate_content(\n",
    "    contents = [CLASS_PROMPT] + messages_train_b_a + messages_train_b_a_2,\n",
    "    model=\"gemini-2.5-flash\",\n",
    "    config=generation_config\n",
    ")"
   ]
  },
  {
   "cell_type": "code",
   "execution_count": 64,
   "metadata": {},
   "outputs": [
    {
     "name": "stdout",
     "output_type": "stream",
     "text": [
      "Accuracy of 'Given Name' Technique: 0.8\n"
     ]
    }
   ],
   "source": [
    "response_json = json.loads(response.text)\n",
    "predictions = [item['label'] for item in response_json['output']]\n",
    "actual = list(map(lambda x: convert_format(names.index(x))[1], df_test.class_name))\n",
    "print(\"Accuracy of 'Given Name' Technique:\", get_accuracy(actual, predictions))"
   ]
  },
  {
   "cell_type": "markdown",
   "metadata": {},
   "source": [
    "\n",
    "\n",
    "\n",
    "\n",
    "## 5 - RAG for Treatment Predictions\n",
    "This final section of the code uses a hybrid RAG to provide treatment options based on the crop and disease."
   ]
  },
  {
   "cell_type": "code",
   "execution_count": 27,
   "metadata": {},
   "outputs": [
    {
     "name": "stdout",
     "output_type": "stream",
     "text": [
      "Loaded 63 entries\n",
      "['To control apple scab, Prune for better air movement and sunlight penetration for drying /remove water sprouts.\\n', 'To deal with apple scab in the winter, remove fallen leaves and orchard sanitation. Spray 5% solution of urea in the autumn to aid in the breakdown of leaf tissue (42 lb urea in 100 gallons of water). Since nitrogen is being applied in the orchard, the fertilizer program needs to be adjusted accordingly. Shred leaf litter using a flail mower or remove leaf litter by raking, sweeping, or vacuuming are additional options.\\n', 'To prevent future apple scab, Use fungicides as appropriate.\\n', 'To control black rot in apples, prune out and remove infected and dead branches in the winter when the temperature falls below 0oC. Properly dispose of infected wood away from healthy trees by burning, burying or composting. \\n', 'Remove any remaining shrivelled or mummified fruit if black rot appears in apple trees. \\n', 'To prevent future black rot in apple trees, maintain well-watered trees and plant resistant cultivars. \\n', 'To prevent Cedar Apple Rust, choose planting sites at a distance from the forest lines.\\n', 'Once cedar apple rust is discovered, you should prune diseased pranches of cedar trees less than a mile from the orchard and remove cedar trees in close proximity to the orchard. \\n', 'Plant disease resistant cultivars to prevent Cedar Apple Rust. \\n', 'If your apple trees are healthy, you don’t need to do anything. \\n', 'If your blueberry plants are healthy, you don’t need to do anything. \\n', 'If your cherry plants are healthy, you don’t need to do anything. \\n', 'If your corn plants are healthy, you don’t need to do anything. \\n', 'If your grape plants are healthy, you don’t need to do anything. \\n', 'If your peach plants are healthy, you don’t need to do anything. \\n', 'If your potato plants are healthy, you don’t need to do anything. \\n', 'If your raspberry plants are healthy, you don’t need to do anything.\\n', 'If your bell pepper plants are healthy, you don’t need to do anything.\\n', 'If your tomato plants are healthy, you don’t need to do anything.\\n', 'If your strawberry plants are healthy, you don’t need to do anything\\n', 'To protect your cherries from powdery mildew, spray with fungicides soon after petal fall and 2 to 3 weeks later if needed. Do not use the same fungicide or fungicides with similar chemistry more than twice a year to prevent resistence..\\n', 'To treat powdery mildew on cherries, manage irrigation systems to ensure you aren’t irrigating too early (which may stimulate early cherry powdery mildew infections), and prune your canopy to promote airflow and leaf drying. \\n', 'As treatment for Cercospora Leaf Spot (Gray Leaf Spot) in Corn, includes resistant corn hybrids, conventional tillage and crop rotation. \\n', 'Foliar fungicides can be effectively on susceptible inbreds or hybrids for treating Cercospora Leaf Spot. \\n', 'The best management practice for common rust in corn is to use resistant corn hybrids.\\n', 'Fungicides can also be beneficial to treat common rust in corn, especially if applied early when few pustules have appeared on the leaves.\\n', 'Using resistant hybrids in the future can prevent northern leaf blight in corn. Crop rotation and tillage practices may also be useful. \\n', 'Fungicides can be used to treat Northern Leaf Blight in corn. \\n', 'Infected and mummified berries should be removed if black rot is detected in grapes. They should be burned and/or buried in the soil before new growth. \\n', 'To prevent further black rot in grapes, early season fungicides should be timed to prevent early infections in particularly susceptible varieties/an area where black rot was a previous problem. \\n', 'Preventative practices for esca in grapes include delaying pruning to as last as possible, double pruning, and applying pruning-wound protectants\\n', 'Post-infection with esca (black measles) un grapes, included sanitation - removing dead spurs or stunted shoots and destroying them - and vine surgery.\\n', 'Treating leaf blight in grapes entails spraying a mixture of fungicides. Bordeaux mixture (1.0%), Mancozeb (0.2%), Topsin-M (0.1%), Ziram (0.35%) or Captan (0.2%) is to be sprayed alternatively at weekly intervals from Jun-August and again from December until harvest to keep this disease under check. Two to three sprays of systemic fungicides should be given per season\\n', 'Maintaining trees in good health, especially root health, is important for trees to withstand Huanglongbing (Citrus Greening). There is no cure for the disease.\\n', 'Commercial growers and homeowners should use sound cultural control practices to help lessen the occurrence and severity of bacterial spot in peaches. Spray measures are preventative, so must be enacted in a timely fashion. Plant bacterial-spot resistant or less susceptible varieties. \\n', 'Timely pruning practices used by commercial growers and homeowners facilitate controlling diseases like bacterial spot in peaches. \\n', 'To control bacterial spots in peppers, use indexed pathogen-negative seed, treated seed, or disease-free transplants. Rotate out of peppers for at least 1 year. Use furrow or drip irrigation instead of overhead irrigation\\n', 'Treatment of bacterial spot in peppers with copper spray is justified only under high pressure as might occur with sprinkler irrigations\\n', 'Early blight in Potatoes can be minimized by maintaining optimum growing conditions, including proper fertilization, irrigation, and management of other pests. Grow later maturing, longer season varieties. \\n', 'To treat early blight in potatoes, apply fungicides as soon as symptoms appear; continued protection requires application at 7- to 10-day intervals.\\n', 'Late blight in Potatoes is controlled by eliminating cull piles and volunteer potatoes, using proper harvesting and storage practices, and applying fungicides when necessary. Air drainage to facilitate the drying of foliage each day is important.\\n', 'When late blight in potatoes has developed on foliage and tubers are at risk of infection, make sure that vines are completely dead for 2 to 3 weeks before harvest.\\n', 'To prevent powdery mildew in squash, Plant resistant varieties, follow good sanitation practices, and control weeds. Start monitoring for powdery mildew during the vegetative growth stage and continue through fruit development. \\n', 'Apply a treatment when disease symptoms of powdery mildrew in squash first occur and repeat if symptoms reappear. \\n', 'For strawberry leaf scorch, select a planting site with good air drainage and sun exposure. Cultivars resistant to leaf scorch may be available and need to be evaluated for specific horticultural characteristics. \\n', 'For strawberry leaf scorch prevention, plant new transplants frequently, and allow adequate spacing between them to increase airflow. Control weeds. Avoid amendment with supplemental nitrogen in spring, as this may enhance disease. Keep moisture levels down and avoid long wetness periods by monitoring irrigation schedules; if possible, use drip irrigation rather than overhead\\n', ' Fungicide treatments for strawberry leaf scorch are effective during the flowering period, and during late summer and fall.\\n', 'To control bacterial spot in tomatoes, using pathogen-free seed and disease-free transplants, when possible, is the best way to avoid bacterial spot on tomato. Avoiding sprinkler irrigation and cull piles near greenhouse or field operations, and rotating with a nonhost crop also helps control the disease.\\n', 'Copper-containing bactericides provide partial disease control for bacterial spot in tomatoes. \\n', 'To treat early blight in tomatoes, destroy nightshades and volunteer tomato plants, apply a fungicide at the first sign. \\n', 'To prevent early blight in tomatoes, proper crop rotation is important to ensure infected debris decomposes.\\n', 'To treat late blight in tomatoes, Remove any nearby volunteer tomato and potato plants and nightshades. Fungicides are generally needed only if the disease appears during a time of year when rain is likely or overhead irrigation is practiced\\n', 'To avoid late blight in tomatoes, Check transplants to ensure they are free of late blight before planting. Avoid sprinkler irrigation, if possible, because it favors the development of late blight.\\n', 'To avoid tomato yellow leaf curl virus, Plant immediately after any tomato-free period or true winter season.Avoid planting new fields near older fields (especially those with TYLCV-infected plants). Manage Whiteflies.Cover plants with floating row covers of fine mesh (Agryl or Agribon) to protect from whitefly infestations.Rogue diseased plants when incidence of virus infection is low.Practice good weed management in and around fields to the extent feasible. Remove and destroy old crop residue and volunteers on a regional basis.\\n', 'To prevent tomato leaf mold, monitor, use resistant varieties, use drip irrigation, space plants, and circulate air. Use pesticides prior to infection. \\n', 'If a tomato plant displays signs of tomato mosaic virus, remove the entire plant and bag it. \\n', 'To prevent tomato mosaic virus, use rotation and good sanitation. \\n', 'To treat septoria leaf spot in tomatoes, remove diseased leaves, and dispose of or bury it. \\n', 'To prevent tomato septoria leaf spot, improve air circulation, control weeds, do not use overhead watering and use crop rotation. \\n', 'If spider mites are detected in a tomato plant, physically remove them using a high-pressure water splay. Use insecticidal soap. \\n', 'To prevent spider mites in a tomato plant, keep plants healthy, remove them physically, and use pesticides. \\n', 'To prevent target spot in tomatoes, use cultural practices such as improving airflow, avoiding planting tomatoes near old spots, and managing weeds. \\n', 'The primary strategy used to manage target spot on tomato is the regular application of fungicides']\n"
     ]
    }
   ],
   "source": [
    "dataset = []\n",
    "with open('preventions_database.txt', 'r') as file:\n",
    "    dataset = file.readlines()\n",
    "    print(f'Loaded {len(dataset)} entries')\n",
    "print(dataset)"
   ]
  },
  {
   "cell_type": "markdown",
   "metadata": {},
   "source": [
    "The first step here is to create a dense index using FAISS, then a sparse index using Hugging Face in BM25."
   ]
  },
  {
   "cell_type": "code",
   "execution_count": 28,
   "metadata": {},
   "outputs": [
    {
     "ename": "AttributeError",
     "evalue": "'MessageFactory' object has no attribute 'GetPrototype'",
     "output_type": "error",
     "traceback": [
      "\u001b[0;31m---------------------------------------------------------------------------\u001b[0m",
      "\u001b[0;31mAttributeError\u001b[0m                            Traceback (most recent call last)",
      "\u001b[0;31mAttributeError\u001b[0m: 'MessageFactory' object has no attribute 'GetPrototype'"
     ]
    },
    {
     "ename": "AttributeError",
     "evalue": "'MessageFactory' object has no attribute 'GetPrototype'",
     "output_type": "error",
     "traceback": [
      "\u001b[0;31m---------------------------------------------------------------------------\u001b[0m",
      "\u001b[0;31mAttributeError\u001b[0m                            Traceback (most recent call last)",
      "\u001b[0;31mAttributeError\u001b[0m: 'MessageFactory' object has no attribute 'GetPrototype'"
     ]
    },
    {
     "ename": "AttributeError",
     "evalue": "'MessageFactory' object has no attribute 'GetPrototype'",
     "output_type": "error",
     "traceback": [
      "\u001b[0;31m---------------------------------------------------------------------------\u001b[0m",
      "\u001b[0;31mAttributeError\u001b[0m                            Traceback (most recent call last)",
      "\u001b[0;31mAttributeError\u001b[0m: 'MessageFactory' object has no attribute 'GetPrototype'"
     ]
    },
    {
     "ename": "AttributeError",
     "evalue": "'MessageFactory' object has no attribute 'GetPrototype'",
     "output_type": "error",
     "traceback": [
      "\u001b[0;31m---------------------------------------------------------------------------\u001b[0m",
      "\u001b[0;31mAttributeError\u001b[0m                            Traceback (most recent call last)",
      "\u001b[0;31mAttributeError\u001b[0m: 'MessageFactory' object has no attribute 'GetPrototype'"
     ]
    },
    {
     "ename": "AttributeError",
     "evalue": "'MessageFactory' object has no attribute 'GetPrototype'",
     "output_type": "error",
     "traceback": [
      "\u001b[0;31m---------------------------------------------------------------------------\u001b[0m",
      "\u001b[0;31mAttributeError\u001b[0m                            Traceback (most recent call last)",
      "\u001b[0;31mAttributeError\u001b[0m: 'MessageFactory' object has no attribute 'GetPrototype'"
     ]
    },
    {
     "ename": "AttributeError",
     "evalue": "'MessageFactory' object has no attribute 'GetPrototype'",
     "output_type": "error",
     "traceback": [
      "\u001b[0;31m---------------------------------------------------------------------------\u001b[0m",
      "\u001b[0;31mAttributeError\u001b[0m                            Traceback (most recent call last)",
      "\u001b[0;31mAttributeError\u001b[0m: 'MessageFactory' object has no attribute 'GetPrototype'"
     ]
    }
   ],
   "source": [
    "import faiss\n",
    "from sentence_transformers import SentenceTransformer\n",
    "model_faiss = SentenceTransformer('all-MiniLM-L6-v2')\n",
    "vectors = model_faiss.encode(dataset)\n",
    "index_d = faiss.IndexFlatL2(len(vectors[0]))\n",
    "index_d.add(vectors)\n"
   ]
  },
  {
   "cell_type": "code",
   "execution_count": 34,
   "metadata": {},
   "outputs": [
    {
     "data": {
      "application/vnd.jupyter.widget-view+json": {
       "model_id": "95c8ebfb69d84c15b25c6e4cc4c1d933",
       "version_major": 2,
       "version_minor": 0
      },
      "text/plain": [
       "Split strings:   0%|          | 0/63 [00:00<?, ?it/s]"
      ]
     },
     "metadata": {},
     "output_type": "display_data"
    },
    {
     "data": {
      "application/vnd.jupyter.widget-view+json": {
       "model_id": "1b61d5027c1d4934ae2e07b6117357ac",
       "version_major": 2,
       "version_minor": 0
      },
      "text/plain": [
       "BM25S Count Tokens:   0%|          | 0/63 [00:00<?, ?it/s]"
      ]
     },
     "metadata": {},
     "output_type": "display_data"
    },
    {
     "data": {
      "application/vnd.jupyter.widget-view+json": {
       "model_id": "e7b84e9f2b364f66aa6dc7c9525b12be",
       "version_major": 2,
       "version_minor": 0
      },
      "text/plain": [
       "BM25S Compute Scores:   0%|          | 0/63 [00:00<?, ?it/s]"
      ]
     },
     "metadata": {},
     "output_type": "display_data"
    },
    {
     "data": {
      "application/vnd.jupyter.widget-view+json": {
       "model_id": "09ecab62d0de4fcc9eb2b11458c65ef6",
       "version_major": 2,
       "version_minor": 0
      },
      "text/plain": [
       "Finding newlines for mmindex:   0%|          | 0.00/11.2k [00:00<?, ?B/s]"
      ]
     },
     "metadata": {},
     "output_type": "display_data"
    },
    {
     "data": {
      "application/vnd.jupyter.widget-view+json": {
       "model_id": "c5dff15b15e241b5a789c80ee90a9d4a",
       "version_major": 2,
       "version_minor": 0
      },
      "text/plain": [
       "Processing Files (0 / 0)                : |          |  0.00B /  0.00B            "
      ]
     },
     "metadata": {},
     "output_type": "display_data"
    },
    {
     "data": {
      "application/vnd.jupyter.widget-view+json": {
       "model_id": "93d1c93540ee4286ad816d8dcf32df4b",
       "version_major": 2,
       "version_minor": 0
      },
      "text/plain": [
       "New Data Upload                         : |          |  0.00B /  0.00B            "
      ]
     },
     "metadata": {},
     "output_type": "display_data"
    },
    {
     "data": {
      "application/vnd.jupyter.widget-view+json": {
       "model_id": "383e266db2de405997778aa5dd613bd8",
       "version_major": 2,
       "version_minor": 0
      },
      "text/plain": [
       "  .../T/tmpedi60scv/indptr.csc.index.npy: 100%|##########| 2.12kB / 2.12kB            "
      ]
     },
     "metadata": {},
     "output_type": "display_data"
    },
    {
     "data": {
      "application/vnd.jupyter.widget-view+json": {
       "model_id": "11cfdb7a1ca541c98aec3dac7dac448c",
       "version_major": 2,
       "version_minor": 0
      },
      "text/plain": [
       "  ...T/tmpedi60scv/indices.csc.index.npy: 100%|##########| 4.29kB / 4.29kB            "
      ]
     },
     "metadata": {},
     "output_type": "display_data"
    },
    {
     "data": {
      "application/vnd.jupyter.widget-view+json": {
       "model_id": "4f6c3fd93c3d4c0e950a5fbe50421aa5",
       "version_major": 2,
       "version_minor": 0
      },
      "text/plain": [
       "  ...gn/T/tmpedi60scv/data.csc.index.npy: 100%|##########| 4.29kB / 4.29kB            "
      ]
     },
     "metadata": {},
     "output_type": "display_data"
    },
    {
     "name": "stderr",
     "output_type": "stream",
     "text": [
      "No files have been modified since last commit. Skipping to prevent empty commit.\n"
     ]
    },
    {
     "data": {
      "text/plain": [
       "RepoUrl('https://huggingface.co/mariam-elantable/bm25s-disease-prevention', endpoint='https://huggingface.co', repo_type='model', repo_id='mariam-elantable/bm25s-disease-prevention')"
      ]
     },
     "execution_count": 34,
     "metadata": {},
     "output_type": "execute_result"
    }
   ],
   "source": [
    "HF_KEY = os.getenv(\"HUGGING_FACE_TOKEN\")\n",
    "from huggingface_hub import login\n",
    "login(token=HF_KEY)\n",
    "import bm25s\n",
    "from bm25s.hf import BM25HF\n",
    "\n",
    "retreiver = BM25HF(corpus=dataset)\n",
    "retreiver.index(bm25s.tokenize(dataset))\n",
    "\n",
    "user = \"mariam-elantable\"\n",
    "retreiver.save_to_hub(f\"{user}/bm25s-disease-prevention\")"
   ]
  },
  {
   "cell_type": "markdown",
   "metadata": {},
   "source": [
    "Then, the query is used to retreive from the documents the top matches, which are then fed into the LLM using an augmented prompt"
   ]
  },
  {
   "cell_type": "code",
   "execution_count": 35,
   "metadata": {},
   "outputs": [],
   "source": [
    "def retrieve_hybrid(query, top_n = 3, k = 50, K = 60):\n",
    "    dense_embedding = model_faiss.encode([query])\n",
    "    _, indices_d = index_d.search(dense_embedding, k)\n",
    "    retreiver = BM25HF.load_from_hub(f\"{user}/bm25s-disease-prevention\", load_corpus = True)\n",
    "    docs_s, _ = retreiver.retrieve(bm25s.tokenize(query), k = k)\n",
    "    docs_d = [(dataset[indices_d[0][i]], i) for i in range(k)]\n",
    "    docs_s = [(docs_s[0][i], i) for i in range(k)]\n",
    "    sorted_docs = []\n",
    "    for doc, rank in docs_d:\n",
    "        score = 1.0/(K + rank)\n",
    "        i = 0\n",
    "        while ((i < k)):\n",
    "            if (docs_s[i][0] != doc):\n",
    "                i+= 1\n",
    "            else:\n",
    "                break\n",
    "\n",
    "        if (i < len(docs_s)): score += 1.0/(K + i)\n",
    "        sorted_docs.append((doc, score))\n",
    "    sorted_docs.sort(key = lambda x: x[1], reverse = True)\n",
    "    return sorted_docs[:top_n]   \n",
    "\n"
   ]
  },
  {
   "cell_type": "code",
   "execution_count": 36,
   "metadata": {},
   "outputs": [],
   "source": [
    "def get_treatment(crop, disease, rag_flag = True):\n",
    "    query = f\"{crop} : {disease}\"\n",
    "    retreived_knowledge = retrieve_hybrid(query, top_n=2)\n",
    "    if disease == \"healthy\": \n",
    "        return f\"Your {crop} plant is healthy - you do not need any treatment!\"\n",
    "\n",
    "    if rag_flag:\n",
    "        prompt = f'''You are a helpful chatbot. \n",
    "        Use only the following pieces of context to provide the next steps for how to take care of the following plant, which consists of the name of a plant and a disease in the format (name-disease)\n",
    "        Please do not make up any information on your own. Please do not repeat yourself, make any allusion to the fact that the data is in the correct format, or act as if you are talking to someone. \n",
    "        Respond by first providing treatment mechanisms then prevention mechanisms.  \n",
    "        Use only the following information:\n",
    "        {'\\n'.join([f' - {chunk}' for chunk, _ in retreived_knowledge])}\n",
    "        '''\n",
    "    else:\n",
    "        prompt = f'''You are a helpful chatbot. \n",
    "        Use your knowledge base to provide the next steps for how to take care of the following plant, which consists of the name of a plant and a disease in the format (name-disease)\n",
    "        Please do not repeat yourself, make any allusion to the fact that the data is in the correct format, or act as if you are talking to someone. \n",
    "        Respond by first providing treatment mechanisms then prevention mechanisms.\n",
    "        '''\n",
    "    LANGUAGE_MODEL = 'hf.co/bartowski/Llama-3.2-1B-Instruct-GGUF'\n",
    "    stream = ollama.chat(\n",
    "    model=LANGUAGE_MODEL,\n",
    "    messages=[\n",
    "        {'role': 'system', 'content': prompt},\n",
    "        {'role': 'user', 'content': query},\n",
    "    ],\n",
    "    stream=True,\n",
    "    )\n",
    "\n",
    "    chat_response = \"\"\n",
    "    for chunk in stream:\n",
    "        chat_response += chunk['message']['content']\n",
    "    return chat_response\n",
    "    "
   ]
  },
  {
   "cell_type": "code",
   "execution_count": 37,
   "metadata": {},
   "outputs": [],
   "source": [
    "def get_data(cl, confidence, rag_flag = True):\n",
    "    crop, disease = convert_format(cl)\n",
    "    if crop == \"pepper_bell\":\n",
    "        crop = \"bell pepper\"\n",
    "    string = f\"The detected crop is {crop} and the detected disease is {disease}, with a confidence level of {confidence}\\n{get_treatment(crop, disease, rag_flag)}\"\n",
    "    return string"
   ]
  },
  {
   "cell_type": "markdown",
   "metadata": {},
   "source": [
    "Then, I created some comparisons of RAG vs non-RAG responses, which include the name of the disease, the confidence and the next steps."
   ]
  },
  {
   "cell_type": "code",
   "execution_count": 38,
   "metadata": {},
   "outputs": [
    {
     "name": "stdout",
     "output_type": "stream",
     "text": [
      "RAG: \n",
      "----------------------------------------------------------------------------------------------------\n"
     ]
    },
    {
     "data": {
      "application/vnd.jupyter.widget-view+json": {
       "model_id": "7a055e6b822b4adebed4390ef083d1d4",
       "version_major": 2,
       "version_minor": 0
      },
      "text/plain": [
       "Fetching 9 files:   0%|          | 0/9 [00:00<?, ?it/s]"
      ]
     },
     "metadata": {},
     "output_type": "display_data"
    },
    {
     "data": {
      "application/vnd.jupyter.widget-view+json": {
       "model_id": "25123a4d186f47348ea80da6f26f16d9",
       "version_major": 2,
       "version_minor": 0
      },
      "text/plain": [
       "Split strings:   0%|          | 0/1 [00:00<?, ?it/s]"
      ]
     },
     "metadata": {},
     "output_type": "display_data"
    },
    {
     "data": {
      "application/vnd.jupyter.widget-view+json": {
       "model_id": "ca3912445a0441fbb7ae84fb1454c2c1",
       "version_major": 2,
       "version_minor": 0
      },
      "text/plain": [
       "BM25S Retrieve:   0%|          | 0/1 [00:00<?, ?it/s]"
      ]
     },
     "metadata": {},
     "output_type": "display_data"
    },
    {
     "name": "stdout",
     "output_type": "stream",
     "text": [
      "The detected crop is apple and the detected disease is apple scab, with a confidence level of 0.95\n",
      "Here are the treatment mechanisms and prevention mechanisms for controlling Apple Scab:\n",
      "\n",
      "**Treatment Mechanisms:**\n",
      "\n",
      "1. **Fungicides:** Apply fungicides specifically labeled for control of Apple Scab, such as copper-based products or azoxystrobin-containing products.\n",
      "2. **Copper-based products:** Copper-based fungicides can be applied to the plant canopy and soil surface to provide systemic protection against fungal diseases like Apple Scab.\n",
      "3. **Resistant varieties:** Planting resistant apple varieties, such as 'Graffenreuther 124', can reduce the risk of infection.\n",
      "\n",
      "**Prevention Mechanisms:**\n",
      "\n",
      "1. **Pruning for better air movement and sunlight penetration:** Prune apple trees to improve air circulation and light penetration, reducing the risk of Apple Scab.\n",
      "2. **Remove water sprouts:** Remove any water sprouts or weak growth that may be a source of infection by controlling soil moisture and promoting healthy tree development.\n",
      "3. **Soil sterilization:** Apply fungicides or other sanitizing agents to the soil before planting new apple trees, reducing the risk of infection from root sources.\n",
      "\n",
      "Note: It's essential to follow integrated pest management (IPM) strategies that include a combination of control methods to minimize the use of chemical fungicides and maintain ecosystem health.\n",
      "\n",
      "non-RAG: \n",
      "----------------------------------------------------------------------------------------------------\n"
     ]
    },
    {
     "data": {
      "application/vnd.jupyter.widget-view+json": {
       "model_id": "f36f951eb9514d6b9c72934af2280f0f",
       "version_major": 2,
       "version_minor": 0
      },
      "text/plain": [
       "Fetching 9 files:   0%|          | 0/9 [00:00<?, ?it/s]"
      ]
     },
     "metadata": {},
     "output_type": "display_data"
    },
    {
     "data": {
      "application/vnd.jupyter.widget-view+json": {
       "model_id": "e87449db57834b679facf61330c561af",
       "version_major": 2,
       "version_minor": 0
      },
      "text/plain": [
       "Split strings:   0%|          | 0/1 [00:00<?, ?it/s]"
      ]
     },
     "metadata": {},
     "output_type": "display_data"
    },
    {
     "data": {
      "application/vnd.jupyter.widget-view+json": {
       "model_id": "53016bb27ad0424c90f84ff6d48dda2e",
       "version_major": 2,
       "version_minor": 0
      },
      "text/plain": [
       "BM25S Retrieve:   0%|          | 0/1 [00:00<?, ?it/s]"
      ]
     },
     "metadata": {},
     "output_type": "display_data"
    },
    {
     "name": "stdout",
     "output_type": "stream",
     "text": [
      "The detected crop is apple and the detected disease is apple scab, with a confidence level of 0.95\n",
      "As a helpful chatbot, I'll guide you through taking care of an apple plant and addressing the issue of apple scab.\n",
      "\n",
      "**Treatment Mechanisms:**\n",
      "\n",
      "1. **Remove infected tissue**: Carefully remove any leaves or fruit showing signs of infection to prevent the disease from spreading.\n",
      "2. **Water thoroughly**: Ensure good drainage by watering the soil deeply, but not excessively, to reduce moisture in the air that can facilitate fungal growth.\n",
      "3. **Provide optimal growing conditions**: Apple plants require full sun, well-draining soil, and adequate nutrients for optimal health. Fertilize regularly, and prune trees annually to promote healthy growth.\n",
      "\n",
      "**Prevention Mechanisms:**\n",
      "\n",
      "1. **Remove weeds and debris**: Regularly remove weeds and debris from around the apple plant to prevent fungal spores from spreading.\n",
      "2. **Monitor soil moisture**: Keep an eye on the soil's water level, ensuring it remains consistently moist but not waterlogged. This will reduce the likelihood of fungal growth.\n",
      "3. **Use physical barriers**: Install fine-mesh screens or row covers to cover affected areas and prevent fungal spores from reaching other parts of the plant.\n",
      "4. **Practice good sanitation**: Disinfect tools and equipment after handling infected material to prevent the spread of disease.\n",
      "5. **Consider using resistant cultivars**: If possible, choose an apple scab-resistant variety to reduce the risk of infection.\n",
      "\n",
      "By following these treatment mechanisms and prevention strategies, you should be able to manage apple scab on your plant and minimize its impact on health.\n"
     ]
    }
   ],
   "source": [
    "print(\"RAG: \")\n",
    "print(\"-\"*100)\n",
    "for i in response_json['output'][:1]:\n",
    "    cl = names.index(i['label'])\n",
    "    confidence = i['confidence']\n",
    "    print(get_data(cl, confidence))\n",
    "print()\n",
    "print(\"non-RAG: \")\n",
    "print(\"-\"*100)\n",
    "for i in response_json['output'][:1]:\n",
    "    cl = names.index(i['label'])\n",
    "    confidence = i['confidence']\n",
    "    print(get_data(cl, confidence, False))\n"
   ]
  },
  {
   "cell_type": "code",
   "execution_count": 48,
   "metadata": {},
   "outputs": [
    {
     "name": "stdout",
     "output_type": "stream",
     "text": [
      "0\n",
      "/Users/mariamelantably/Desktop/programs/vais internship/disease_project/ammended_dataset/processed/test/Tomato___Early_blight/image (286).JPG\n",
      "1\n",
      "/Users/mariamelantably/Desktop/programs/vais internship/disease_project/ammended_dataset/processed/test/Apple___Black_rot/image (617).JPG\n",
      "2\n",
      "/Users/mariamelantably/Desktop/programs/vais internship/disease_project/ammended_dataset/processed/test/Peach___healthy/image (44).JPG\n",
      "3\n",
      "/Users/mariamelantably/Desktop/programs/vais internship/disease_project/ammended_dataset/processed/test/Peach___healthy/image (211).JPG\n",
      "4\n",
      "/Users/mariamelantably/Desktop/programs/vais internship/disease_project/ammended_dataset/processed/test/Corn___Common_rust/image (868).JPG\n",
      "5\n",
      "/Users/mariamelantably/Desktop/programs/vais internship/disease_project/ammended_dataset/processed/test/Tomato___Early_blight/image (662).JPG\n",
      "6\n",
      "/Users/mariamelantably/Desktop/programs/vais internship/disease_project/ammended_dataset/processed/test/Tomato___Late_blight/image (119).JPG\n",
      "7\n",
      "/Users/mariamelantably/Desktop/programs/vais internship/disease_project/ammended_dataset/processed/test/Peach___Bacterial_spot/image (187).JPG\n",
      "8\n",
      "/Users/mariamelantably/Desktop/programs/vais internship/disease_project/ammended_dataset/processed/test/Tomato___Tomato_mosaic_virus/image (175).JPG\n",
      "9\n",
      "/Users/mariamelantably/Desktop/programs/vais internship/disease_project/ammended_dataset/processed/test/Potato___healthy/image (142).JPG\n",
      "10\n",
      "/Users/mariamelantably/Desktop/programs/vais internship/disease_project/ammended_dataset/processed/test/Grape___Leaf_blight_Isariopsis_Leaf_Spot/image (941).JPG\n",
      "11\n",
      "/Users/mariamelantably/Desktop/programs/vais internship/disease_project/ammended_dataset/processed/test/Pepper_bell___healthy/image (773).JPG\n",
      "12\n",
      "/Users/mariamelantably/Desktop/programs/vais internship/disease_project/ammended_dataset/processed/test/Corn___Common_rust/image (690).JPG\n",
      "13\n",
      "/Users/mariamelantably/Desktop/programs/vais internship/disease_project/ammended_dataset/processed/test/Cherry___Powdery_mildew/image (842).JPG\n",
      "14\n",
      "/Users/mariamelantably/Desktop/programs/vais internship/disease_project/ammended_dataset/processed/test/Corn___Northern_Leaf_Blight/image (300).JPG\n",
      "15\n",
      "/Users/mariamelantably/Desktop/programs/vais internship/disease_project/ammended_dataset/processed/test/Tomato___Tomato_mosaic_virus/image (318).JPG\n",
      "16\n",
      "/Users/mariamelantably/Desktop/programs/vais internship/disease_project/ammended_dataset/processed/test/Cherry___healthy/image (783).JPG\n",
      "17\n",
      "/Users/mariamelantably/Desktop/programs/vais internship/disease_project/ammended_dataset/processed/test/Tomato___Spider_mites_Two_spotted_spider_mite/image (1590).JPG\n",
      "18\n",
      "/Users/mariamelantably/Desktop/programs/vais internship/disease_project/ammended_dataset/processed/test/Blueberry___healthy/image (1300).JPG\n",
      "19\n",
      "/Users/mariamelantably/Desktop/programs/vais internship/disease_project/ammended_dataset/processed/test/Blueberry___healthy/image (234).JPG\n",
      "20\n",
      "/Users/mariamelantably/Desktop/programs/vais internship/disease_project/ammended_dataset/processed/test/Tomato___Septoria_leaf_spot/image (242).JPG\n",
      "21\n",
      "/Users/mariamelantably/Desktop/programs/vais internship/disease_project/ammended_dataset/processed/test/Tomato___Tomato_mosaic_virus/image (163).JPG\n",
      "22\n",
      "/Users/mariamelantably/Desktop/programs/vais internship/disease_project/ammended_dataset/processed/test/Soybean___healthy/image (765).JPG\n",
      "23\n",
      "/Users/mariamelantably/Desktop/programs/vais internship/disease_project/ammended_dataset/processed/test/Tomato___Leaf_Mold/image (931).JPG\n",
      "24\n",
      "/Users/mariamelantably/Desktop/programs/vais internship/disease_project/ammended_dataset/processed/test/Tomato___Tomato_mosaic_virus/image (277).JPG\n",
      "25\n",
      "/Users/mariamelantably/Desktop/programs/vais internship/disease_project/ammended_dataset/processed/test/Raspberry___healthy/image (184).JPG\n",
      "26\n",
      "/Users/mariamelantably/Desktop/programs/vais internship/disease_project/ammended_dataset/processed/test/Corn___Common_rust/image (968).JPG\n",
      "27\n",
      "/Users/mariamelantably/Desktop/programs/vais internship/disease_project/ammended_dataset/processed/test/Cherry___Powdery_mildew/image (145).JPG\n",
      "28\n",
      "/Users/mariamelantably/Desktop/programs/vais internship/disease_project/ammended_dataset/processed/test/Tomato___Septoria_leaf_spot/image (299).JPG\n",
      "29\n",
      "/Users/mariamelantably/Desktop/programs/vais internship/disease_project/ammended_dataset/processed/test/Tomato___Bacterial_spot/image (981).JPG\n",
      "30\n",
      "/Users/mariamelantably/Desktop/programs/vais internship/disease_project/ammended_dataset/processed/test/Peach___healthy/image (75).JPG\n",
      "31\n",
      "/Users/mariamelantably/Desktop/programs/vais internship/disease_project/ammended_dataset/processed/test/Strawberry___Leaf_scorch/image (922).JPG\n",
      "32\n",
      "/Users/mariamelantably/Desktop/programs/vais internship/disease_project/ammended_dataset/processed/test/Tomato___Bacterial_spot/image (1737).JPG\n",
      "33\n",
      "/Users/mariamelantably/Desktop/programs/vais internship/disease_project/ammended_dataset/processed/test/Peach___Bacterial_spot/image (1489).JPG\n",
      "34\n",
      "/Users/mariamelantably/Desktop/programs/vais internship/disease_project/ammended_dataset/processed/test/Grape___Leaf_blight_Isariopsis_Leaf_Spot/image (519).JPG\n",
      "35\n",
      "/Users/mariamelantably/Desktop/programs/vais internship/disease_project/ammended_dataset/processed/test/Cherry___healthy/image (596).JPG\n",
      "36\n",
      "/Users/mariamelantably/Desktop/programs/vais internship/disease_project/ammended_dataset/processed/test/Strawberry___Leaf_scorch/image (682).JPG\n",
      "37\n",
      "/Users/mariamelantably/Desktop/programs/vais internship/disease_project/ammended_dataset/processed/test/Tomato___Target_Spot/image (624).JPG\n",
      "38\n",
      "/Users/mariamelantably/Desktop/programs/vais internship/disease_project/ammended_dataset/processed/test/Apple___Cedar_apple_rust/image (74).JPG\n",
      "39\n",
      "/Users/mariamelantably/Desktop/programs/vais internship/disease_project/ammended_dataset/processed/test/Soybean___healthy/image (4603).JPG\n",
      "40\n",
      "/Users/mariamelantably/Desktop/programs/vais internship/disease_project/ammended_dataset/processed/test/Apple___Apple_scab/image (23).JPG\n",
      "41\n",
      "/Users/mariamelantably/Desktop/programs/vais internship/disease_project/ammended_dataset/processed/test/Blueberry___healthy/image (50).JPG\n",
      "42\n",
      "/Users/mariamelantably/Desktop/programs/vais internship/disease_project/ammended_dataset/processed/test/Apple___healthy/image (1432).JPG\n",
      "43\n",
      "/Users/mariamelantably/Desktop/programs/vais internship/disease_project/ammended_dataset/processed/test/Apple___Cedar_apple_rust/image (165).JPG\n",
      "44\n",
      "/Users/mariamelantably/Desktop/programs/vais internship/disease_project/ammended_dataset/processed/test/Corn___Northern_Leaf_Blight/image (255).JPG\n",
      "45\n",
      "/Users/mariamelantably/Desktop/programs/vais internship/disease_project/ammended_dataset/processed/test/Corn___Northern_Leaf_Blight/image (982).jpg\n",
      "46\n",
      "/Users/mariamelantably/Desktop/programs/vais internship/disease_project/ammended_dataset/processed/test/Tomato___Spider_mites_Two_spotted_spider_mite/image (1308).JPG\n",
      "47\n",
      "/Users/mariamelantably/Desktop/programs/vais internship/disease_project/ammended_dataset/processed/test/Cherry___healthy/image (817).JPG\n",
      "48\n",
      "/Users/mariamelantably/Desktop/programs/vais internship/disease_project/ammended_dataset/processed/test/Corn___Cercospora_leaf_spot Gray_leaf_spot/image (14).JPG\n",
      "49\n",
      "/Users/mariamelantably/Desktop/programs/vais internship/disease_project/ammended_dataset/processed/test/Corn___Common_rust/image (393).JPG\n",
      "50\n",
      "/Users/mariamelantably/Desktop/programs/vais internship/disease_project/ammended_dataset/processed/test/Tomato___Tomato_mosaic_virus/image (215).JPG\n",
      "51\n",
      "/Users/mariamelantably/Desktop/programs/vais internship/disease_project/ammended_dataset/processed/test/Tomato___Late_blight/image (1807).JPG\n",
      "52\n",
      "/Users/mariamelantably/Desktop/programs/vais internship/disease_project/ammended_dataset/processed/test/Apple___Cedar_apple_rust/image (5).JPG\n",
      "53\n",
      "/Users/mariamelantably/Desktop/programs/vais internship/disease_project/ammended_dataset/processed/test/Blueberry___healthy/image (245).JPG\n",
      "54\n",
      "/Users/mariamelantably/Desktop/programs/vais internship/disease_project/ammended_dataset/processed/test/Apple___Black_rot/image (165).JPG\n",
      "55\n",
      "/Users/mariamelantably/Desktop/programs/vais internship/disease_project/ammended_dataset/processed/test/Soybean___healthy/image (844).JPG\n",
      "56\n",
      "/Users/mariamelantably/Desktop/programs/vais internship/disease_project/ammended_dataset/processed/test/Tomato___Bacterial_spot/image (558).JPG\n",
      "57\n",
      "/Users/mariamelantably/Desktop/programs/vais internship/disease_project/ammended_dataset/processed/test/Strawberry___healthy/image (366).JPG\n",
      "58\n",
      "/Users/mariamelantably/Desktop/programs/vais internship/disease_project/ammended_dataset/processed/test/Orange___Haunglongbing_Citrus_greening/image (3856).JPG\n",
      "59\n",
      "/Users/mariamelantably/Desktop/programs/vais internship/disease_project/ammended_dataset/processed/test/Grape___Black_rot/image (857).JPG\n",
      "60\n",
      "/Users/mariamelantably/Desktop/programs/vais internship/disease_project/ammended_dataset/processed/test/Tomato___Leaf_Mold/image (715).JPG\n",
      "61\n",
      "/Users/mariamelantably/Desktop/programs/vais internship/disease_project/ammended_dataset/processed/test/Tomato___healthy/image (853).JPG\n",
      "62\n",
      "/Users/mariamelantably/Desktop/programs/vais internship/disease_project/ammended_dataset/processed/test/Raspberry___healthy/image (360).JPG\n",
      "63\n",
      "/Users/mariamelantably/Desktop/programs/vais internship/disease_project/ammended_dataset/processed/test/Cherry___Powdery_mildew/image (14).JPG\n",
      "64\n",
      "/Users/mariamelantably/Desktop/programs/vais internship/disease_project/ammended_dataset/processed/test/Tomato___Target_Spot/image (212).JPG\n",
      "65\n",
      "/Users/mariamelantably/Desktop/programs/vais internship/disease_project/ammended_dataset/processed/test/Raspberry___healthy/image (183).JPG\n",
      "66\n",
      "/Users/mariamelantably/Desktop/programs/vais internship/disease_project/ammended_dataset/processed/test/Squash___Powdery_mildew/image (349).JPG\n",
      "67\n",
      "/Users/mariamelantably/Desktop/programs/vais internship/disease_project/ammended_dataset/processed/test/Strawberry___Leaf_scorch/image (810).JPG\n",
      "68\n",
      "/Users/mariamelantably/Desktop/programs/vais internship/disease_project/ammended_dataset/processed/test/Corn___Cercospora_leaf_spot Gray_leaf_spot/image (203).jpg\n",
      "69\n",
      "/Users/mariamelantably/Desktop/programs/vais internship/disease_project/ammended_dataset/processed/test/Potato___Late_blight/image (119).JPG\n",
      "70\n",
      "/Users/mariamelantably/Desktop/programs/vais internship/disease_project/ammended_dataset/processed/test/Strawberry___Leaf_scorch/image (1044).JPG\n",
      "71\n",
      "/Users/mariamelantably/Desktop/programs/vais internship/disease_project/ammended_dataset/processed/test/Tomato___Target_Spot/image (900).JPG\n",
      "72\n",
      "/Users/mariamelantably/Desktop/programs/vais internship/disease_project/ammended_dataset/processed/test/Orange___Haunglongbing_Citrus_greening/image (2806).JPG\n",
      "73\n",
      "/Users/mariamelantably/Desktop/programs/vais internship/disease_project/ammended_dataset/processed/test/Cherry___healthy/image (810).JPG\n",
      "74\n",
      "/Users/mariamelantably/Desktop/programs/vais internship/disease_project/ammended_dataset/processed/test/Grape___Black_rot/image (254).JPG\n",
      "75\n",
      "/Users/mariamelantably/Desktop/programs/vais internship/disease_project/ammended_dataset/processed/test/Potato___Early_blight/image (368).JPG\n",
      "76\n",
      "/Users/mariamelantably/Desktop/programs/vais internship/disease_project/ammended_dataset/processed/test/Apple___Apple_scab/image (137).JPG\n",
      "77\n",
      "/Users/mariamelantably/Desktop/programs/vais internship/disease_project/ammended_dataset/processed/test/Soybean___healthy/image (953).JPG\n",
      "78\n",
      "/Users/mariamelantably/Desktop/programs/vais internship/disease_project/ammended_dataset/processed/test/Orange___Haunglongbing_Citrus_greening/image (412).JPG\n",
      "79\n",
      "/Users/mariamelantably/Desktop/programs/vais internship/disease_project/ammended_dataset/processed/test/Tomato___healthy/image (589).JPG\n",
      "80\n",
      "/Users/mariamelantably/Desktop/programs/vais internship/disease_project/ammended_dataset/processed/test/Blueberry___healthy/image (790).JPG\n",
      "81\n",
      "/Users/mariamelantably/Desktop/programs/vais internship/disease_project/ammended_dataset/processed/test/Pepper_bell___healthy/image (766).JPG\n",
      "82\n",
      "/Users/mariamelantably/Desktop/programs/vais internship/disease_project/ammended_dataset/processed/test/Corn___Cercospora_leaf_spot Gray_leaf_spot/image (475).jpg\n",
      "83\n",
      "/Users/mariamelantably/Desktop/programs/vais internship/disease_project/ammended_dataset/processed/test/Soybean___healthy/image (1150).JPG\n",
      "84\n",
      "/Users/mariamelantably/Desktop/programs/vais internship/disease_project/ammended_dataset/processed/test/Peach___healthy/image (55).JPG\n",
      "85\n",
      "/Users/mariamelantably/Desktop/programs/vais internship/disease_project/ammended_dataset/processed/test/Tomato___Target_Spot/image (607).JPG\n",
      "86\n",
      "/Users/mariamelantably/Desktop/programs/vais internship/disease_project/ammended_dataset/processed/test/Tomato___Early_blight/image (111).JPG\n",
      "87\n",
      "/Users/mariamelantably/Desktop/programs/vais internship/disease_project/ammended_dataset/processed/test/Tomato___Septoria_leaf_spot/image (1663).JPG\n",
      "88\n",
      "/Users/mariamelantably/Desktop/programs/vais internship/disease_project/ammended_dataset/processed/test/Pepper_bell___Bacterial_spot/image (228).JPG\n",
      "89\n",
      "/Users/mariamelantably/Desktop/programs/vais internship/disease_project/ammended_dataset/processed/test/Pepper_bell___Bacterial_spot/image (828).JPG\n",
      "90\n",
      "/Users/mariamelantably/Desktop/programs/vais internship/disease_project/ammended_dataset/processed/test/Tomato___Bacterial_spot/image (769).JPG\n",
      "91\n",
      "/Users/mariamelantably/Desktop/programs/vais internship/disease_project/ammended_dataset/processed/test/Potato___Late_blight/image (174).JPG\n",
      "92\n",
      "/Users/mariamelantably/Desktop/programs/vais internship/disease_project/ammended_dataset/processed/test/Tomato___Target_Spot/image (871).JPG\n",
      "93\n",
      "/Users/mariamelantably/Desktop/programs/vais internship/disease_project/ammended_dataset/processed/test/Potato___healthy/image (42).JPG\n",
      "94\n",
      "/Users/mariamelantably/Desktop/programs/vais internship/disease_project/ammended_dataset/processed/test/Cherry___Powdery_mildew/image (243).JPG\n",
      "95\n",
      "/Users/mariamelantably/Desktop/programs/vais internship/disease_project/ammended_dataset/processed/test/Squash___Powdery_mildew/image (479).JPG\n",
      "96\n",
      "/Users/mariamelantably/Desktop/programs/vais internship/disease_project/ammended_dataset/processed/test/Peach___Bacterial_spot/image (484).JPG\n",
      "97\n",
      "/Users/mariamelantably/Desktop/programs/vais internship/disease_project/ammended_dataset/processed/test/Apple___healthy/image (837).JPG\n",
      "98\n",
      "/Users/mariamelantably/Desktop/programs/vais internship/disease_project/ammended_dataset/processed/test/Apple___healthy/image (867).JPG\n",
      "99\n",
      "/Users/mariamelantably/Desktop/programs/vais internship/disease_project/ammended_dataset/processed/test/Grape___healthy/image (162).JPG\n",
      "100\n",
      "/Users/mariamelantably/Desktop/programs/vais internship/disease_project/ammended_dataset/processed/test/Apple___Cedar_apple_rust/image (145).JPG\n",
      "101\n",
      "/Users/mariamelantably/Desktop/programs/vais internship/disease_project/ammended_dataset/processed/test/Pepper_bell___healthy/image (1309).JPG\n",
      "102\n",
      "/Users/mariamelantably/Desktop/programs/vais internship/disease_project/ammended_dataset/processed/test/Tomato___Early_blight/image (628).JPG\n",
      "103\n",
      "/Users/mariamelantably/Desktop/programs/vais internship/disease_project/ammended_dataset/processed/test/Potato___Early_blight/image (183).JPG\n",
      "104\n",
      "/Users/mariamelantably/Desktop/programs/vais internship/disease_project/ammended_dataset/processed/test/Squash___Powdery_mildew/image (1070).JPG\n",
      "105\n",
      "/Users/mariamelantably/Desktop/programs/vais internship/disease_project/ammended_dataset/processed/test/Peach___Bacterial_spot/image (791).JPG\n",
      "106\n",
      "/Users/mariamelantably/Desktop/programs/vais internship/disease_project/ammended_dataset/processed/test/Apple___Cedar_apple_rust/image (272).JPG\n",
      "107\n",
      "/Users/mariamelantably/Desktop/programs/vais internship/disease_project/ammended_dataset/processed/test/Cherry___Powdery_mildew/image (964).JPG\n",
      "108\n",
      "/Users/mariamelantably/Desktop/programs/vais internship/disease_project/ammended_dataset/processed/test/Corn___Cercospora_leaf_spot Gray_leaf_spot/image (125).JPG\n",
      "109\n",
      "/Users/mariamelantably/Desktop/programs/vais internship/disease_project/ammended_dataset/processed/test/Corn___Cercospora_leaf_spot Gray_leaf_spot/image (391).JPG\n",
      "110\n",
      "/Users/mariamelantably/Desktop/programs/vais internship/disease_project/ammended_dataset/processed/test/Apple___healthy/image (303).JPG\n",
      "111\n",
      "/Users/mariamelantably/Desktop/programs/vais internship/disease_project/ammended_dataset/processed/test/Corn___healthy/image (929).jpg\n",
      "112\n",
      "/Users/mariamelantably/Desktop/programs/vais internship/disease_project/ammended_dataset/processed/test/Grape___Black_rot/image (206).JPG\n",
      "113\n",
      "/Users/mariamelantably/Desktop/programs/vais internship/disease_project/ammended_dataset/processed/test/Tomato___Late_blight/image (45).JPG\n",
      "114\n",
      "/Users/mariamelantably/Desktop/programs/vais internship/disease_project/ammended_dataset/processed/test/Squash___Powdery_mildew/image (638).JPG\n",
      "115\n",
      "/Users/mariamelantably/Desktop/programs/vais internship/disease_project/ammended_dataset/processed/test/Pepper_bell___healthy/image (1011).JPG\n",
      "116\n",
      "/Users/mariamelantably/Desktop/programs/vais internship/disease_project/ammended_dataset/processed/test/Apple___Black_rot/image (613).JPG\n",
      "117\n",
      "/Users/mariamelantably/Desktop/programs/vais internship/disease_project/ammended_dataset/processed/test/Blueberry___healthy/image (491).JPG\n",
      "118\n",
      "/Users/mariamelantably/Desktop/programs/vais internship/disease_project/ammended_dataset/processed/test/Corn___Common_rust/image (318).JPG\n",
      "119\n",
      "/Users/mariamelantably/Desktop/programs/vais internship/disease_project/ammended_dataset/processed/test/Apple___Cedar_apple_rust/image (156).JPG\n",
      "120\n",
      "/Users/mariamelantably/Desktop/programs/vais internship/disease_project/ammended_dataset/processed/test/Strawberry___healthy/image (245).JPG\n",
      "121\n",
      "/Users/mariamelantably/Desktop/programs/vais internship/disease_project/ammended_dataset/processed/test/Tomato___healthy/image (1252).JPG\n",
      "122\n",
      "/Users/mariamelantably/Desktop/programs/vais internship/disease_project/ammended_dataset/processed/test/Tomato___Tomato_Yellow_Leaf_Curl_Virus/image (2027).JPG\n",
      "123\n",
      "/Users/mariamelantably/Desktop/programs/vais internship/disease_project/ammended_dataset/processed/test/Corn___Cercospora_leaf_spot Gray_leaf_spot/image (446).JPG\n",
      "124\n",
      "/Users/mariamelantably/Desktop/programs/vais internship/disease_project/ammended_dataset/processed/test/Apple___healthy/image (1447).JPG\n",
      "125\n",
      "/Users/mariamelantably/Desktop/programs/vais internship/disease_project/ammended_dataset/processed/test/Apple___Black_rot/image (59).JPG\n",
      "126\n",
      "/Users/mariamelantably/Desktop/programs/vais internship/disease_project/ammended_dataset/processed/test/Cherry___healthy/image (807).JPG\n",
      "127\n",
      "/Users/mariamelantably/Desktop/programs/vais internship/disease_project/ammended_dataset/processed/test/Tomato___Spider_mites_Two_spotted_spider_mite/image (378).JPG\n",
      "128\n",
      "/Users/mariamelantably/Desktop/programs/vais internship/disease_project/ammended_dataset/processed/test/Tomato___Early_blight/image (698).JPG\n",
      "129\n",
      "/Users/mariamelantably/Desktop/programs/vais internship/disease_project/ammended_dataset/processed/test/Tomato___Septoria_leaf_spot/image (1192).JPG\n",
      "130\n",
      "/Users/mariamelantably/Desktop/programs/vais internship/disease_project/ammended_dataset/processed/test/Tomato___Tomato_mosaic_virus/image (162).JPG\n",
      "131\n",
      "/Users/mariamelantably/Desktop/programs/vais internship/disease_project/ammended_dataset/processed/test/Potato___Late_blight/image (204).JPG\n",
      "132\n",
      "/Users/mariamelantably/Desktop/programs/vais internship/disease_project/ammended_dataset/processed/test/Strawberry___healthy/image (428).JPG\n",
      "133\n",
      "/Users/mariamelantably/Desktop/programs/vais internship/disease_project/ammended_dataset/processed/test/Corn___healthy/image (1159).jpg\n",
      "134\n",
      "/Users/mariamelantably/Desktop/programs/vais internship/disease_project/ammended_dataset/processed/test/Peach___healthy/image (274).JPG\n",
      "135\n",
      "/Users/mariamelantably/Desktop/programs/vais internship/disease_project/ammended_dataset/processed/test/Corn___Northern_Leaf_Blight/image (85).JPG\n",
      "136\n",
      "/Users/mariamelantably/Desktop/programs/vais internship/disease_project/ammended_dataset/processed/test/Tomato___Tomato_mosaic_virus/image (281).JPG\n",
      "137\n",
      "/Users/mariamelantably/Desktop/programs/vais internship/disease_project/ammended_dataset/processed/test/Peach___Bacterial_spot/image (97).JPG\n",
      "138\n",
      "/Users/mariamelantably/Desktop/programs/vais internship/disease_project/ammended_dataset/processed/test/Apple___Apple_scab/image (256).JPG\n",
      "139\n",
      "/Users/mariamelantably/Desktop/programs/vais internship/disease_project/ammended_dataset/processed/test/Tomato___Target_Spot/image (122).JPG\n",
      "140\n",
      "/Users/mariamelantably/Desktop/programs/vais internship/disease_project/ammended_dataset/processed/test/Tomato___Bacterial_spot/image (246).JPG\n",
      "141\n",
      "/Users/mariamelantably/Desktop/programs/vais internship/disease_project/ammended_dataset/processed/test/Tomato___Spider_mites_Two_spotted_spider_mite/image (1516).JPG\n",
      "142\n",
      "/Users/mariamelantably/Desktop/programs/vais internship/disease_project/ammended_dataset/processed/test/Squash___Powdery_mildew/image (29).JPG\n",
      "143\n",
      "/Users/mariamelantably/Desktop/programs/vais internship/disease_project/ammended_dataset/processed/test/Apple___Cedar_apple_rust/image (15).JPG\n",
      "144\n",
      "/Users/mariamelantably/Desktop/programs/vais internship/disease_project/ammended_dataset/processed/test/Apple___Black_rot/image (345).JPG\n",
      "145\n",
      "/Users/mariamelantably/Desktop/programs/vais internship/disease_project/ammended_dataset/processed/test/Soybean___healthy/image (389).JPG\n",
      "146\n",
      "/Users/mariamelantably/Desktop/programs/vais internship/disease_project/ammended_dataset/processed/test/Tomato___Target_Spot/image (356).JPG\n",
      "147\n",
      "/Users/mariamelantably/Desktop/programs/vais internship/disease_project/ammended_dataset/processed/test/Grape___Esca_Black_Measles/image (1291).JPG\n",
      "148\n",
      "/Users/mariamelantably/Desktop/programs/vais internship/disease_project/ammended_dataset/processed/test/Tomato___Bacterial_spot/image (1491).JPG\n",
      "149\n",
      "/Users/mariamelantably/Desktop/programs/vais internship/disease_project/ammended_dataset/processed/test/Apple___Black_rot/image (342).JPG\n",
      "150\n",
      "/Users/mariamelantably/Desktop/programs/vais internship/disease_project/ammended_dataset/processed/test/Peach___Bacterial_spot/image (972).JPG\n",
      "151\n",
      "/Users/mariamelantably/Desktop/programs/vais internship/disease_project/ammended_dataset/processed/test/Tomato___Early_blight/image (115).JPG\n",
      "152\n",
      "/Users/mariamelantably/Desktop/programs/vais internship/disease_project/ammended_dataset/processed/test/Apple___Black_rot/image (583).JPG\n",
      "153\n",
      "/Users/mariamelantably/Desktop/programs/vais internship/disease_project/ammended_dataset/processed/test/Tomato___Early_blight/image (753).JPG\n",
      "154\n",
      "/Users/mariamelantably/Desktop/programs/vais internship/disease_project/ammended_dataset/processed/test/Corn___Cercospora_leaf_spot Gray_leaf_spot/image (420).JPG\n",
      "155\n",
      "/Users/mariamelantably/Desktop/programs/vais internship/disease_project/ammended_dataset/processed/test/Tomato___Tomato_Yellow_Leaf_Curl_Virus/image (2952).JPG\n",
      "156\n",
      "/Users/mariamelantably/Desktop/programs/vais internship/disease_project/ammended_dataset/processed/test/Grape___Leaf_blight_Isariopsis_Leaf_Spot/image (946).JPG\n",
      "157\n",
      "/Users/mariamelantably/Desktop/programs/vais internship/disease_project/ammended_dataset/processed/test/Potato___Early_blight/image (207).JPG\n",
      "158\n",
      "/Users/mariamelantably/Desktop/programs/vais internship/disease_project/ammended_dataset/processed/test/Raspberry___healthy/image (303).JPG\n",
      "159\n",
      "/Users/mariamelantably/Desktop/programs/vais internship/disease_project/ammended_dataset/processed/test/Apple___Apple_scab/image (477).JPG\n",
      "160\n",
      "/Users/mariamelantably/Desktop/programs/vais internship/disease_project/ammended_dataset/processed/test/Tomato___Late_blight/image (410).JPG\n",
      "161\n",
      "/Users/mariamelantably/Desktop/programs/vais internship/disease_project/ammended_dataset/processed/test/Pepper_bell___Bacterial_spot/image (849).JPG\n",
      "162\n",
      "/Users/mariamelantably/Desktop/programs/vais internship/disease_project/ammended_dataset/processed/test/Apple___Apple_scab/image (220).JPG\n",
      "163\n",
      "/Users/mariamelantably/Desktop/programs/vais internship/disease_project/ammended_dataset/processed/test/Tomato___Early_blight/image (916).JPG\n",
      "164\n",
      "/Users/mariamelantably/Desktop/programs/vais internship/disease_project/ammended_dataset/processed/test/Grape___healthy/image (182).JPG\n",
      "165\n",
      "/Users/mariamelantably/Desktop/programs/vais internship/disease_project/ammended_dataset/processed/test/Potato___healthy/image (63).JPG\n",
      "166\n",
      "/Users/mariamelantably/Desktop/programs/vais internship/disease_project/ammended_dataset/processed/test/Tomato___Tomato_Yellow_Leaf_Curl_Virus/image (921).JPG\n",
      "167\n",
      "/Users/mariamelantably/Desktop/programs/vais internship/disease_project/ammended_dataset/processed/test/Tomato___Target_Spot/image (446).JPG\n",
      "168\n",
      "/Users/mariamelantably/Desktop/programs/vais internship/disease_project/ammended_dataset/processed/test/Corn___healthy/image (528).jpg\n",
      "169\n",
      "/Users/mariamelantably/Desktop/programs/vais internship/disease_project/ammended_dataset/processed/test/Tomato___Late_blight/image (335).JPG\n",
      "170\n",
      "/Users/mariamelantably/Desktop/programs/vais internship/disease_project/ammended_dataset/processed/test/Tomato___Bacterial_spot/image (2123).JPG\n",
      "171\n",
      "/Users/mariamelantably/Desktop/programs/vais internship/disease_project/ammended_dataset/processed/test/Apple___healthy/image (538).JPG\n",
      "172\n",
      "/Users/mariamelantably/Desktop/programs/vais internship/disease_project/ammended_dataset/processed/test/Pepper_bell___Bacterial_spot/image (92).JPG\n",
      "173\n",
      "/Users/mariamelantably/Desktop/programs/vais internship/disease_project/ammended_dataset/processed/test/Apple___healthy/image (302).JPG\n",
      "174\n",
      "/Users/mariamelantably/Desktop/programs/vais internship/disease_project/ammended_dataset/processed/test/Grape___Esca_Black_Measles/image (79).JPG\n",
      "175\n",
      "/Users/mariamelantably/Desktop/programs/vais internship/disease_project/ammended_dataset/processed/test/Apple___Cedar_apple_rust/image (91).JPG\n",
      "176\n",
      "/Users/mariamelantably/Desktop/programs/vais internship/disease_project/ammended_dataset/processed/test/Tomato___Tomato_mosaic_virus/image (362).JPG\n",
      "177\n",
      "/Users/mariamelantably/Desktop/programs/vais internship/disease_project/ammended_dataset/processed/test/Orange___Haunglongbing_Citrus_greening/image (1235).JPG\n",
      "178\n",
      "/Users/mariamelantably/Desktop/programs/vais internship/disease_project/ammended_dataset/processed/test/Strawberry___Leaf_scorch/image (983).JPG\n",
      "179\n",
      "/Users/mariamelantably/Desktop/programs/vais internship/disease_project/ammended_dataset/processed/test/Tomato___Bacterial_spot/image (379).JPG\n",
      "180\n",
      "/Users/mariamelantably/Desktop/programs/vais internship/disease_project/ammended_dataset/processed/test/Tomato___Late_blight/image (382).JPG\n",
      "181\n",
      "/Users/mariamelantably/Desktop/programs/vais internship/disease_project/ammended_dataset/processed/test/Apple___healthy/image (691).JPG\n",
      "182\n",
      "/Users/mariamelantably/Desktop/programs/vais internship/disease_project/ammended_dataset/processed/test/Grape___Leaf_blight_Isariopsis_Leaf_Spot/image (806).JPG\n",
      "183\n",
      "/Users/mariamelantably/Desktop/programs/vais internship/disease_project/ammended_dataset/processed/test/Strawberry___Leaf_scorch/image (534).JPG\n",
      "184\n",
      "/Users/mariamelantably/Desktop/programs/vais internship/disease_project/ammended_dataset/processed/test/Pepper_bell___healthy/image (581).JPG\n",
      "185\n",
      "/Users/mariamelantably/Desktop/programs/vais internship/disease_project/ammended_dataset/processed/test/Potato___Early_blight/image (697).JPG\n",
      "186\n",
      "/Users/mariamelantably/Desktop/programs/vais internship/disease_project/ammended_dataset/processed/test/Pepper_bell___Bacterial_spot/image (644).JPG\n",
      "187\n",
      "/Users/mariamelantably/Desktop/programs/vais internship/disease_project/ammended_dataset/processed/test/Tomato___Spider_mites_Two_spotted_spider_mite/image (676).JPG\n",
      "188\n",
      "/Users/mariamelantably/Desktop/programs/vais internship/disease_project/ammended_dataset/processed/test/Peach___healthy/image (102).JPG\n",
      "189\n",
      "/Users/mariamelantably/Desktop/programs/vais internship/disease_project/ammended_dataset/processed/test/Peach___healthy/image (110).JPG\n",
      "190\n",
      "/Users/mariamelantably/Desktop/programs/vais internship/disease_project/ammended_dataset/processed/test/Tomato___Septoria_leaf_spot/image (1609).JPG\n",
      "191\n",
      "/Users/mariamelantably/Desktop/programs/vais internship/disease_project/ammended_dataset/processed/test/Corn___Common_rust/image (100).JPG\n",
      "192\n",
      "/Users/mariamelantably/Desktop/programs/vais internship/disease_project/ammended_dataset/processed/test/Tomato___Late_blight/image (660).JPG\n",
      "193\n",
      "/Users/mariamelantably/Desktop/programs/vais internship/disease_project/ammended_dataset/processed/test/Grape___healthy/image (366).JPG\n",
      "194\n",
      "/Users/mariamelantably/Desktop/programs/vais internship/disease_project/ammended_dataset/processed/test/Apple___Black_rot/image (352).JPG\n",
      "195\n",
      "/Users/mariamelantably/Desktop/programs/vais internship/disease_project/ammended_dataset/processed/test/Cherry___healthy/image (108).JPG\n",
      "196\n",
      "/Users/mariamelantably/Desktop/programs/vais internship/disease_project/ammended_dataset/processed/test/Tomato___Septoria_leaf_spot/image (302).JPG\n",
      "197\n",
      "/Users/mariamelantably/Desktop/programs/vais internship/disease_project/ammended_dataset/processed/test/Pepper_bell___Bacterial_spot/image (790).JPG\n",
      "198\n",
      "/Users/mariamelantably/Desktop/programs/vais internship/disease_project/ammended_dataset/processed/test/Corn___Common_rust/image (342).JPG\n",
      "199\n",
      "/Users/mariamelantably/Desktop/programs/vais internship/disease_project/ammended_dataset/processed/test/Potato___healthy/image (72).JPG\n",
      "200\n",
      "/Users/mariamelantably/Desktop/programs/vais internship/disease_project/ammended_dataset/processed/test/Tomato___Tomato_mosaic_virus/image (53).JPG\n",
      "201\n",
      "/Users/mariamelantably/Desktop/programs/vais internship/disease_project/ammended_dataset/processed/test/Tomato___Spider_mites_Two_spotted_spider_mite/image (322).JPG\n",
      "202\n",
      "/Users/mariamelantably/Desktop/programs/vais internship/disease_project/ammended_dataset/processed/test/Tomato___Leaf_Mold/image (410).JPG\n",
      "203\n",
      "/Users/mariamelantably/Desktop/programs/vais internship/disease_project/ammended_dataset/processed/test/Potato___healthy/image (79).JPG\n",
      "204\n",
      "/Users/mariamelantably/Desktop/programs/vais internship/disease_project/ammended_dataset/processed/test/Raspberry___healthy/image (110).JPG\n",
      "205\n",
      "/Users/mariamelantably/Desktop/programs/vais internship/disease_project/ammended_dataset/processed/test/Strawberry___Leaf_scorch/image (190).JPG\n",
      "206\n",
      "/Users/mariamelantably/Desktop/programs/vais internship/disease_project/ammended_dataset/processed/test/Potato___Late_blight/image (161).JPG\n",
      "207\n",
      "/Users/mariamelantably/Desktop/programs/vais internship/disease_project/ammended_dataset/processed/test/Cherry___Powdery_mildew/image (939).JPG\n",
      "208\n",
      "/Users/mariamelantably/Desktop/programs/vais internship/disease_project/ammended_dataset/processed/test/Corn___Common_rust/image (5).JPG\n",
      "209\n",
      "/Users/mariamelantably/Desktop/programs/vais internship/disease_project/ammended_dataset/processed/test/Strawberry___healthy/image (171).JPG\n",
      "210\n",
      "/Users/mariamelantably/Desktop/programs/vais internship/disease_project/ammended_dataset/processed/test/Potato___Early_blight/image (823).JPG\n",
      "211\n",
      "/Users/mariamelantably/Desktop/programs/vais internship/disease_project/ammended_dataset/processed/test/Tomato___Leaf_Mold/image (895).JPG\n",
      "212\n",
      "/Users/mariamelantably/Desktop/programs/vais internship/disease_project/ammended_dataset/processed/test/Raspberry___healthy/image (42).JPG\n",
      "213\n",
      "/Users/mariamelantably/Desktop/programs/vais internship/disease_project/ammended_dataset/processed/test/Strawberry___Leaf_scorch/image (74).JPG\n",
      "214\n",
      "/Users/mariamelantably/Desktop/programs/vais internship/disease_project/ammended_dataset/processed/test/Blueberry___healthy/image (344).JPG\n",
      "215\n",
      "/Users/mariamelantably/Desktop/programs/vais internship/disease_project/ammended_dataset/processed/test/Peach___Bacterial_spot/image (1556).JPG\n",
      "216\n",
      "/Users/mariamelantably/Desktop/programs/vais internship/disease_project/ammended_dataset/processed/test/Tomato___healthy/image (117).JPG\n",
      "217\n",
      "/Users/mariamelantably/Desktop/programs/vais internship/disease_project/ammended_dataset/processed/test/Orange___Haunglongbing_Citrus_greening/image (3434).JPG\n",
      "218\n",
      "/Users/mariamelantably/Desktop/programs/vais internship/disease_project/ammended_dataset/processed/test/Corn___healthy/image (313).jpg\n",
      "219\n",
      "/Users/mariamelantably/Desktop/programs/vais internship/disease_project/ammended_dataset/processed/test/Potato___Late_blight/image (843).JPG\n",
      "220\n",
      "/Users/mariamelantably/Desktop/programs/vais internship/disease_project/ammended_dataset/processed/test/Tomato___Early_blight/image (140).JPG\n",
      "221\n",
      "/Users/mariamelantably/Desktop/programs/vais internship/disease_project/ammended_dataset/processed/test/Pepper_bell___healthy/image (378).JPG\n",
      "222\n",
      "/Users/mariamelantably/Desktop/programs/vais internship/disease_project/ammended_dataset/processed/test/Pepper_bell___healthy/image (1015).JPG\n",
      "223\n",
      "/Users/mariamelantably/Desktop/programs/vais internship/disease_project/ammended_dataset/processed/test/Peach___Bacterial_spot/image (1989).JPG\n",
      "224\n",
      "/Users/mariamelantably/Desktop/programs/vais internship/disease_project/ammended_dataset/processed/test/Cherry___healthy/image (560).JPG\n",
      "225\n",
      "/Users/mariamelantably/Desktop/programs/vais internship/disease_project/ammended_dataset/processed/test/Corn___Northern_Leaf_Blight/image (233).JPG\n",
      "226\n",
      "/Users/mariamelantably/Desktop/programs/vais internship/disease_project/ammended_dataset/processed/test/Potato___Late_blight/image (680).JPG\n",
      "227\n",
      "/Users/mariamelantably/Desktop/programs/vais internship/disease_project/ammended_dataset/processed/test/Apple___Cedar_apple_rust/image (99).JPG\n",
      "228\n",
      "/Users/mariamelantably/Desktop/programs/vais internship/disease_project/ammended_dataset/processed/test/Apple___healthy/image (562).JPG\n",
      "229\n",
      "/Users/mariamelantably/Desktop/programs/vais internship/disease_project/ammended_dataset/processed/test/Strawberry___Leaf_scorch/image (403).JPG\n",
      "230\n",
      "/Users/mariamelantably/Desktop/programs/vais internship/disease_project/ammended_dataset/processed/test/Tomato___Septoria_leaf_spot/image (1481).JPG\n",
      "231\n",
      "/Users/mariamelantably/Desktop/programs/vais internship/disease_project/ammended_dataset/processed/test/Orange___Haunglongbing_Citrus_greening/image (2547).JPG\n",
      "232\n",
      "/Users/mariamelantably/Desktop/programs/vais internship/disease_project/ammended_dataset/processed/test/Grape___Esca_Black_Measles/image (809).JPG\n",
      "233\n",
      "/Users/mariamelantably/Desktop/programs/vais internship/disease_project/ammended_dataset/processed/test/Tomato___healthy/image (153).JPG\n",
      "234\n",
      "/Users/mariamelantably/Desktop/programs/vais internship/disease_project/ammended_dataset/processed/test/Peach___Bacterial_spot/image (314).JPG\n",
      "235\n",
      "/Users/mariamelantably/Desktop/programs/vais internship/disease_project/ammended_dataset/processed/test/Potato___healthy/image (152).JPG\n",
      "236\n",
      "/Users/mariamelantably/Desktop/programs/vais internship/disease_project/ammended_dataset/processed/test/Tomato___Spider_mites_Two_spotted_spider_mite/image (519).JPG\n",
      "237\n",
      "/Users/mariamelantably/Desktop/programs/vais internship/disease_project/ammended_dataset/processed/test/Apple___Apple_scab/image (442).JPG\n",
      "238\n",
      "/Users/mariamelantably/Desktop/programs/vais internship/disease_project/ammended_dataset/processed/test/Grape___healthy/image (400).JPG\n",
      "239\n",
      "/Users/mariamelantably/Desktop/programs/vais internship/disease_project/ammended_dataset/processed/test/Soybean___healthy/image (4541).JPG\n",
      "240\n",
      "/Users/mariamelantably/Desktop/programs/vais internship/disease_project/ammended_dataset/processed/test/Strawberry___healthy/image (322).JPG\n",
      "241\n",
      "/Users/mariamelantably/Desktop/programs/vais internship/disease_project/ammended_dataset/processed/test/Tomato___healthy/image (737).JPG\n",
      "242\n",
      "/Users/mariamelantably/Desktop/programs/vais internship/disease_project/ammended_dataset/processed/test/Potato___healthy/image (2).JPG\n",
      "243\n",
      "/Users/mariamelantably/Desktop/programs/vais internship/disease_project/ammended_dataset/processed/test/Apple___Cedar_apple_rust/image (93).JPG\n",
      "244\n",
      "/Users/mariamelantably/Desktop/programs/vais internship/disease_project/ammended_dataset/processed/test/Peach___healthy/image (216).JPG\n",
      "245\n",
      "/Users/mariamelantably/Desktop/programs/vais internship/disease_project/ammended_dataset/processed/test/Grape___Black_rot/image (779).JPG\n",
      "246\n",
      "/Users/mariamelantably/Desktop/programs/vais internship/disease_project/ammended_dataset/processed/test/Blueberry___healthy/image (635).JPG\n",
      "247\n",
      "/Users/mariamelantably/Desktop/programs/vais internship/disease_project/ammended_dataset/processed/test/Grape___Esca_Black_Measles/image (534).JPG\n",
      "248\n",
      "/Users/mariamelantably/Desktop/programs/vais internship/disease_project/ammended_dataset/processed/test/Squash___Powdery_mildew/image (75).JPG\n",
      "249\n",
      "/Users/mariamelantably/Desktop/programs/vais internship/disease_project/ammended_dataset/processed/test/Tomato___Tomato_Yellow_Leaf_Curl_Virus/image (3587).JPG\n",
      "250\n",
      "/Users/mariamelantably/Desktop/programs/vais internship/disease_project/ammended_dataset/processed/test/Pepper_bell___Bacterial_spot/image (227).JPG\n",
      "251\n",
      "/Users/mariamelantably/Desktop/programs/vais internship/disease_project/ammended_dataset/processed/test/Tomato___Tomato_Yellow_Leaf_Curl_Virus/image (966).JPG\n",
      "252\n",
      "/Users/mariamelantably/Desktop/programs/vais internship/disease_project/ammended_dataset/processed/test/Potato___Late_blight/image (939).JPG\n",
      "253\n",
      "/Users/mariamelantably/Desktop/programs/vais internship/disease_project/ammended_dataset/processed/test/Tomato___Leaf_Mold/image (678).JPG\n",
      "254\n",
      "/Users/mariamelantably/Desktop/programs/vais internship/disease_project/ammended_dataset/processed/test/Soybean___healthy/image (479).JPG\n",
      "255\n",
      "/Users/mariamelantably/Desktop/programs/vais internship/disease_project/ammended_dataset/processed/test/Tomato___Spider_mites_Two_spotted_spider_mite/image (741).JPG\n",
      "256\n",
      "/Users/mariamelantably/Desktop/programs/vais internship/disease_project/ammended_dataset/processed/test/Tomato___Late_blight/image (951).JPG\n",
      "257\n",
      "/Users/mariamelantably/Desktop/programs/vais internship/disease_project/ammended_dataset/processed/test/Apple___healthy/image (1470).JPG\n",
      "258\n",
      "/Users/mariamelantably/Desktop/programs/vais internship/disease_project/ammended_dataset/processed/test/Strawberry___Leaf_scorch/image (992).JPG\n",
      "259\n",
      "/Users/mariamelantably/Desktop/programs/vais internship/disease_project/ammended_dataset/processed/test/Pepper_bell___Bacterial_spot/image (489).JPG\n",
      "260\n",
      "/Users/mariamelantably/Desktop/programs/vais internship/disease_project/ammended_dataset/processed/test/Tomato___Tomato_Yellow_Leaf_Curl_Virus/image (2298).JPG\n",
      "261\n",
      "/Users/mariamelantably/Desktop/programs/vais internship/disease_project/ammended_dataset/processed/test/Corn___Northern_Leaf_Blight/image (155).JPG\n",
      "262\n",
      "/Users/mariamelantably/Desktop/programs/vais internship/disease_project/ammended_dataset/processed/test/Grape___Leaf_blight_Isariopsis_Leaf_Spot/image (442).JPG\n",
      "263\n",
      "/Users/mariamelantably/Desktop/programs/vais internship/disease_project/ammended_dataset/processed/test/Tomato___Septoria_leaf_spot/image (614).JPG\n",
      "264\n",
      "/Users/mariamelantably/Desktop/programs/vais internship/disease_project/ammended_dataset/processed/test/Tomato___Tomato_mosaic_virus/image (19).JPG\n",
      "265\n",
      "/Users/mariamelantably/Desktop/programs/vais internship/disease_project/ammended_dataset/processed/test/Grape___Leaf_blight_Isariopsis_Leaf_Spot/image (775).JPG\n",
      "266\n",
      "/Users/mariamelantably/Desktop/programs/vais internship/disease_project/ammended_dataset/processed/test/Grape___Black_rot/image (562).JPG\n",
      "267\n",
      "/Users/mariamelantably/Desktop/programs/vais internship/disease_project/ammended_dataset/processed/test/Apple___Black_rot/image (316).JPG\n",
      "268\n",
      "/Users/mariamelantably/Desktop/programs/vais internship/disease_project/ammended_dataset/processed/test/Grape___Esca_Black_Measles/image (1009).JPG\n",
      "269\n",
      "/Users/mariamelantably/Desktop/programs/vais internship/disease_project/ammended_dataset/processed/test/Grape___Leaf_blight_Isariopsis_Leaf_Spot/image (579).JPG\n",
      "270\n",
      "/Users/mariamelantably/Desktop/programs/vais internship/disease_project/ammended_dataset/processed/test/Corn___Cercospora_leaf_spot Gray_leaf_spot/image (297).JPG\n",
      "271\n",
      "/Users/mariamelantably/Desktop/programs/vais internship/disease_project/ammended_dataset/processed/test/Soybean___healthy/image (4816).JPG\n",
      "272\n",
      "/Users/mariamelantably/Desktop/programs/vais internship/disease_project/ammended_dataset/processed/test/Tomato___Leaf_Mold/image (124).JPG\n",
      "273\n",
      "/Users/mariamelantably/Desktop/programs/vais internship/disease_project/ammended_dataset/processed/test/Potato___Early_blight/image (204).JPG\n",
      "274\n",
      "/Users/mariamelantably/Desktop/programs/vais internship/disease_project/ammended_dataset/processed/test/Strawberry___healthy/image (192).JPG\n",
      "275\n",
      "/Users/mariamelantably/Desktop/programs/vais internship/disease_project/ammended_dataset/processed/test/Tomato___Spider_mites_Two_spotted_spider_mite/image (555).JPG\n",
      "276\n",
      "/Users/mariamelantably/Desktop/programs/vais internship/disease_project/ammended_dataset/processed/test/Corn___Northern_Leaf_Blight/image (553).JPG\n",
      "277\n",
      "/Users/mariamelantably/Desktop/programs/vais internship/disease_project/ammended_dataset/processed/test/Tomato___Septoria_leaf_spot/image (350).JPG\n",
      "278\n",
      "/Users/mariamelantably/Desktop/programs/vais internship/disease_project/ammended_dataset/processed/test/Tomato___Leaf_Mold/image (263).JPG\n",
      "279\n",
      "/Users/mariamelantably/Desktop/programs/vais internship/disease_project/ammended_dataset/processed/test/Orange___Haunglongbing_Citrus_greening/image (4012).JPG\n",
      "280\n",
      "/Users/mariamelantably/Desktop/programs/vais internship/disease_project/ammended_dataset/processed/test/Potato___Late_blight/image (234).JPG\n",
      "281\n",
      "/Users/mariamelantably/Desktop/programs/vais internship/disease_project/ammended_dataset/processed/test/Tomato___Late_blight/image (1279).JPG\n",
      "282\n",
      "/Users/mariamelantably/Desktop/programs/vais internship/disease_project/ammended_dataset/processed/test/Potato___healthy/image (38).JPG\n",
      "283\n",
      "/Users/mariamelantably/Desktop/programs/vais internship/disease_project/ammended_dataset/processed/test/Grape___Leaf_blight_Isariopsis_Leaf_Spot/image (999).JPG\n",
      "284\n",
      "/Users/mariamelantably/Desktop/programs/vais internship/disease_project/ammended_dataset/processed/test/Pepper_bell___Bacterial_spot/image (204).JPG\n",
      "285\n",
      "/Users/mariamelantably/Desktop/programs/vais internship/disease_project/ammended_dataset/processed/test/Tomato___Spider_mites_Two_spotted_spider_mite/image (807).JPG\n",
      "286\n",
      "/Users/mariamelantably/Desktop/programs/vais internship/disease_project/ammended_dataset/processed/test/Cherry___Powdery_mildew/image (958).JPG\n",
      "287\n",
      "/Users/mariamelantably/Desktop/programs/vais internship/disease_project/ammended_dataset/processed/test/Raspberry___healthy/image (276).JPG\n",
      "288\n",
      "/Users/mariamelantably/Desktop/programs/vais internship/disease_project/ammended_dataset/processed/test/Tomato___Bacterial_spot/image (1118).JPG\n",
      "289\n",
      "/Users/mariamelantably/Desktop/programs/vais internship/disease_project/ammended_dataset/processed/test/Grape___Esca_Black_Measles/image (94).JPG\n",
      "290\n",
      "/Users/mariamelantably/Desktop/programs/vais internship/disease_project/ammended_dataset/processed/test/Tomato___Tomato_Yellow_Leaf_Curl_Virus/image (4826).JPG\n",
      "291\n",
      "/Users/mariamelantably/Desktop/programs/vais internship/disease_project/ammended_dataset/processed/test/Grape___healthy/image (29).JPG\n",
      "292\n",
      "/Users/mariamelantably/Desktop/programs/vais internship/disease_project/ammended_dataset/processed/test/Grape___Black_rot/image (568).JPG\n",
      "293\n",
      "/Users/mariamelantably/Desktop/programs/vais internship/disease_project/ammended_dataset/processed/test/Tomato___Bacterial_spot/image (816).JPG\n",
      "294\n",
      "/Users/mariamelantably/Desktop/programs/vais internship/disease_project/ammended_dataset/processed/test/Blueberry___healthy/image (1413).JPG\n",
      "295\n",
      "/Users/mariamelantably/Desktop/programs/vais internship/disease_project/ammended_dataset/processed/test/Peach___Bacterial_spot/image (1977).JPG\n",
      "296\n",
      "/Users/mariamelantably/Desktop/programs/vais internship/disease_project/ammended_dataset/processed/test/Apple___Black_rot/image (338).JPG\n",
      "297\n",
      "/Users/mariamelantably/Desktop/programs/vais internship/disease_project/ammended_dataset/processed/test/Tomato___Late_blight/image (1236).JPG\n",
      "298\n",
      "/Users/mariamelantably/Desktop/programs/vais internship/disease_project/ammended_dataset/processed/test/Grape___healthy/image (202).JPG\n",
      "299\n",
      "/Users/mariamelantably/Desktop/programs/vais internship/disease_project/ammended_dataset/processed/test/Potato___Early_blight/image (573).JPG\n",
      "300\n",
      "/Users/mariamelantably/Desktop/programs/vais internship/disease_project/ammended_dataset/processed/test/Grape___healthy/image (386).JPG\n",
      "301\n",
      "/Users/mariamelantably/Desktop/programs/vais internship/disease_project/ammended_dataset/processed/test/Potato___Late_blight/image (40).JPG\n",
      "302\n",
      "/Users/mariamelantably/Desktop/programs/vais internship/disease_project/ammended_dataset/processed/test/Cherry___healthy/image (31).JPG\n",
      "303\n",
      "/Users/mariamelantably/Desktop/programs/vais internship/disease_project/ammended_dataset/processed/test/Pepper_bell___healthy/image (1244).JPG\n",
      "304\n",
      "/Users/mariamelantably/Desktop/programs/vais internship/disease_project/ammended_dataset/processed/test/Tomato___healthy/image (1194).JPG\n",
      "305\n",
      "/Users/mariamelantably/Desktop/programs/vais internship/disease_project/ammended_dataset/processed/test/Corn___healthy/image (784).jpg\n",
      "306\n",
      "/Users/mariamelantably/Desktop/programs/vais internship/disease_project/ammended_dataset/processed/test/Tomato___Leaf_Mold/image (860).JPG\n",
      "307\n",
      "/Users/mariamelantably/Desktop/programs/vais internship/disease_project/ammended_dataset/processed/test/Grape___Esca_Black_Measles/image (1155).JPG\n",
      "308\n",
      "/Users/mariamelantably/Desktop/programs/vais internship/disease_project/ammended_dataset/processed/test/Grape___Leaf_blight_Isariopsis_Leaf_Spot/image (969).JPG\n",
      "309\n",
      "/Users/mariamelantably/Desktop/programs/vais internship/disease_project/ammended_dataset/processed/test/Potato___healthy/image (49).JPG\n",
      "310\n",
      "/Users/mariamelantably/Desktop/programs/vais internship/disease_project/ammended_dataset/processed/test/Corn___Northern_Leaf_Blight/image (95).JPG\n",
      "311\n",
      "/Users/mariamelantably/Desktop/programs/vais internship/disease_project/ammended_dataset/processed/test/Raspberry___healthy/image (293).JPG\n",
      "312\n",
      "/Users/mariamelantably/Desktop/programs/vais internship/disease_project/ammended_dataset/processed/test/Cherry___Powdery_mildew/image (858).JPG\n",
      "313\n",
      "/Users/mariamelantably/Desktop/programs/vais internship/disease_project/ammended_dataset/processed/test/Corn___Northern_Leaf_Blight/image (72).JPG\n",
      "314\n",
      "/Users/mariamelantably/Desktop/programs/vais internship/disease_project/ammended_dataset/processed/test/Tomato___Tomato_Yellow_Leaf_Curl_Virus/image (857).JPG\n",
      "315\n",
      "/Users/mariamelantably/Desktop/programs/vais internship/disease_project/ammended_dataset/processed/test/Grape___Esca_Black_Measles/image (1355).JPG\n",
      "316\n",
      "/Users/mariamelantably/Desktop/programs/vais internship/disease_project/ammended_dataset/processed/test/Apple___Apple_scab/image (211).JPG\n",
      "317\n",
      "/Users/mariamelantably/Desktop/programs/vais internship/disease_project/ammended_dataset/processed/test/Pepper_bell___Bacterial_spot/image (214).JPG\n",
      "318\n",
      "/Users/mariamelantably/Desktop/programs/vais internship/disease_project/ammended_dataset/processed/test/Tomato___Tomato_Yellow_Leaf_Curl_Virus/image (2499).JPG\n",
      "319\n",
      "/Users/mariamelantably/Desktop/programs/vais internship/disease_project/ammended_dataset/processed/test/Tomato___Leaf_Mold/image (366).JPG\n",
      "320\n",
      "/Users/mariamelantably/Desktop/programs/vais internship/disease_project/ammended_dataset/processed/test/Tomato___Tomato_Yellow_Leaf_Curl_Virus/image (3698).JPG\n",
      "321\n",
      "/Users/mariamelantably/Desktop/programs/vais internship/disease_project/ammended_dataset/processed/test/Tomato___healthy/image (186).JPG\n",
      "322\n",
      "/Users/mariamelantably/Desktop/programs/vais internship/disease_project/ammended_dataset/processed/test/Tomato___healthy/image (945).JPG\n",
      "323\n",
      "/Users/mariamelantably/Desktop/programs/vais internship/disease_project/ammended_dataset/processed/test/Orange___Haunglongbing_Citrus_greening/image (1701).JPG\n",
      "324\n",
      "/Users/mariamelantably/Desktop/programs/vais internship/disease_project/ammended_dataset/processed/test/Pepper_bell___healthy/image (271).JPG\n",
      "325\n",
      "/Users/mariamelantably/Desktop/programs/vais internship/disease_project/ammended_dataset/processed/test/Raspberry___healthy/image (240).JPG\n",
      "326\n",
      "/Users/mariamelantably/Desktop/programs/vais internship/disease_project/ammended_dataset/processed/test/Orange___Haunglongbing_Citrus_greening/image (825).JPG\n",
      "327\n",
      "/Users/mariamelantably/Desktop/programs/vais internship/disease_project/ammended_dataset/processed/test/Potato___Early_blight/image (597).JPG\n",
      "328\n",
      "/Users/mariamelantably/Desktop/programs/vais internship/disease_project/ammended_dataset/processed/test/Squash___Powdery_mildew/image (711).JPG\n",
      "329\n",
      "/Users/mariamelantably/Desktop/programs/vais internship/disease_project/ammended_dataset/processed/test/Potato___Early_blight/image (915).JPG\n",
      "330\n",
      "/Users/mariamelantably/Desktop/programs/vais internship/disease_project/ammended_dataset/processed/test/Strawberry___healthy/image (350).JPG\n",
      "331\n",
      "/Users/mariamelantably/Desktop/programs/vais internship/disease_project/ammended_dataset/processed/test/Cherry___healthy/image (315).JPG\n",
      "332\n",
      "/Users/mariamelantably/Desktop/programs/vais internship/disease_project/ammended_dataset/processed/test/Potato___Late_blight/image (628).JPG\n",
      "333\n",
      "/Users/mariamelantably/Desktop/programs/vais internship/disease_project/ammended_dataset/processed/test/Tomato___Septoria_leaf_spot/image (1233).JPG\n",
      "334\n",
      "/Users/mariamelantably/Desktop/programs/vais internship/disease_project/ammended_dataset/processed/test/Corn___healthy/image (1162).jpg\n",
      "335\n",
      "/Users/mariamelantably/Desktop/programs/vais internship/disease_project/ammended_dataset/processed/test/Strawberry___healthy/image (178).JPG\n",
      "336\n",
      "/Users/mariamelantably/Desktop/programs/vais internship/disease_project/ammended_dataset/processed/test/Corn___Cercospora_leaf_spot Gray_leaf_spot/image (190).JPG\n",
      "337\n",
      "/Users/mariamelantably/Desktop/programs/vais internship/disease_project/ammended_dataset/processed/test/Corn___Common_rust/image (327).JPG\n",
      "338\n",
      "/Users/mariamelantably/Desktop/programs/vais internship/disease_project/ammended_dataset/processed/test/Tomato___healthy/image (816).JPG\n",
      "339\n",
      "/Users/mariamelantably/Desktop/programs/vais internship/disease_project/ammended_dataset/processed/test/Apple___Apple_scab/image (593).JPG\n",
      "340\n",
      "/Users/mariamelantably/Desktop/programs/vais internship/disease_project/ammended_dataset/processed/test/Soybean___healthy/image (3513).JPG\n",
      "341\n",
      "/Users/mariamelantably/Desktop/programs/vais internship/disease_project/ammended_dataset/processed/test/Grape___Esca_Black_Measles/image (284).JPG\n",
      "342\n",
      "/Users/mariamelantably/Desktop/programs/vais internship/disease_project/ammended_dataset/processed/test/Grape___Leaf_blight_Isariopsis_Leaf_Spot/image (476).JPG\n",
      "343\n",
      "/Users/mariamelantably/Desktop/programs/vais internship/disease_project/ammended_dataset/processed/test/Tomato___Target_Spot/image (1309).JPG\n",
      "344\n",
      "/Users/mariamelantably/Desktop/programs/vais internship/disease_project/ammended_dataset/processed/test/Potato___Early_blight/image (860).JPG\n",
      "345\n",
      "/Users/mariamelantably/Desktop/programs/vais internship/disease_project/ammended_dataset/processed/test/Grape___Esca_Black_Measles/image (208).JPG\n",
      "346\n",
      "/Users/mariamelantably/Desktop/programs/vais internship/disease_project/ammended_dataset/processed/test/Grape___Black_rot/image (623).JPG\n",
      "347\n",
      "/Users/mariamelantably/Desktop/programs/vais internship/disease_project/ammended_dataset/processed/test/Cherry___Powdery_mildew/image (1016).JPG\n",
      "348\n",
      "/Users/mariamelantably/Desktop/programs/vais internship/disease_project/ammended_dataset/processed/test/Apple___Apple_scab/image (419).JPG\n",
      "349\n",
      "/Users/mariamelantably/Desktop/programs/vais internship/disease_project/ammended_dataset/processed/test/Cherry___Powdery_mildew/image (319).JPG\n",
      "350\n",
      "/Users/mariamelantably/Desktop/programs/vais internship/disease_project/ammended_dataset/processed/test/Corn___healthy/image (240).jpg\n",
      "351\n",
      "/Users/mariamelantably/Desktop/programs/vais internship/disease_project/ammended_dataset/processed/test/Corn___healthy/image (905).jpg\n",
      "352\n",
      "/Users/mariamelantably/Desktop/programs/vais internship/disease_project/ammended_dataset/processed/test/Grape___Black_rot/image (871).JPG\n",
      "353\n",
      "/Users/mariamelantably/Desktop/programs/vais internship/disease_project/ammended_dataset/processed/test/Corn___Common_rust/image (133).JPG\n",
      "354\n",
      "/Users/mariamelantably/Desktop/programs/vais internship/disease_project/ammended_dataset/processed/test/Grape___Black_rot/image (575).JPG\n",
      "355\n",
      "/Users/mariamelantably/Desktop/programs/vais internship/disease_project/ammended_dataset/processed/test/Potato___healthy/image (18).JPG\n",
      "356\n",
      "/Users/mariamelantably/Desktop/programs/vais internship/disease_project/ammended_dataset/processed/test/Peach___healthy/image (151).JPG\n",
      "357\n",
      "/Users/mariamelantably/Desktop/programs/vais internship/disease_project/ammended_dataset/processed/test/Pepper_bell___healthy/image (364).JPG\n",
      "358\n",
      "/Users/mariamelantably/Desktop/programs/vais internship/disease_project/ammended_dataset/processed/test/Corn___Cercospora_leaf_spot Gray_leaf_spot/image (35).JPG\n",
      "359\n",
      "/Users/mariamelantably/Desktop/programs/vais internship/disease_project/ammended_dataset/processed/test/Squash___Powdery_mildew/image (1443).JPG\n",
      "360\n",
      "/Users/mariamelantably/Desktop/programs/vais internship/disease_project/ammended_dataset/processed/test/Peach___healthy/image (359).JPG\n",
      "361\n",
      "/Users/mariamelantably/Desktop/programs/vais internship/disease_project/ammended_dataset/processed/test/Grape___Black_rot/image (918).JPG\n",
      "362\n",
      "/Users/mariamelantably/Desktop/programs/vais internship/disease_project/ammended_dataset/processed/test/Squash___Powdery_mildew/image (1555).JPG\n",
      "363\n",
      "/Users/mariamelantably/Desktop/programs/vais internship/disease_project/ammended_dataset/processed/test/Corn___healthy/image (94).jpg\n",
      "364\n",
      "/Users/mariamelantably/Desktop/programs/vais internship/disease_project/ammended_dataset/processed/test/Cherry___healthy/image (562).JPG\n",
      "365\n",
      "/Users/mariamelantably/Desktop/programs/vais internship/disease_project/ammended_dataset/processed/test/Blueberry___healthy/image (51).JPG\n",
      "366\n",
      "/Users/mariamelantably/Desktop/programs/vais internship/disease_project/ammended_dataset/processed/test/Grape___healthy/image (69).JPG\n",
      "367\n",
      "/Users/mariamelantably/Desktop/programs/vais internship/disease_project/ammended_dataset/processed/test/Tomato___Early_blight/image (21).JPG\n",
      "368\n",
      "/Users/mariamelantably/Desktop/programs/vais internship/disease_project/ammended_dataset/processed/test/Grape___healthy/image (329).JPG\n",
      "369\n",
      "/Users/mariamelantably/Desktop/programs/vais internship/disease_project/ammended_dataset/processed/test/Grape___healthy/image (284).JPG\n",
      "370\n",
      "/Users/mariamelantably/Desktop/programs/vais internship/disease_project/ammended_dataset/processed/test/Corn___healthy/image (831).jpg\n",
      "371\n",
      "/Users/mariamelantably/Desktop/programs/vais internship/disease_project/ammended_dataset/processed/test/Tomato___Target_Spot/image (504).JPG\n",
      "372\n",
      "/Users/mariamelantably/Desktop/programs/vais internship/disease_project/ammended_dataset/processed/test/Strawberry___healthy/image (272).JPG\n",
      "373\n",
      "/Users/mariamelantably/Desktop/programs/vais internship/disease_project/ammended_dataset/processed/test/Apple___Apple_scab/image (115).JPG\n",
      "374\n",
      "/Users/mariamelantably/Desktop/programs/vais internship/disease_project/ammended_dataset/processed/test/Orange___Haunglongbing_Citrus_greening/image (5283).JPG\n",
      "375\n",
      "/Users/mariamelantably/Desktop/programs/vais internship/disease_project/ammended_dataset/processed/test/Corn___Northern_Leaf_Blight/image (645).JPG\n",
      "376\n",
      "/Users/mariamelantably/Desktop/programs/vais internship/disease_project/ammended_dataset/processed/test/Strawberry___healthy/image (2).JPG\n",
      "377\n",
      "/Users/mariamelantably/Desktop/programs/vais internship/disease_project/ammended_dataset/processed/test/Raspberry___healthy/image (152).JPG\n",
      "378\n",
      "/Users/mariamelantably/Desktop/programs/vais internship/disease_project/ammended_dataset/processed/test/Squash___Powdery_mildew/image (1746).JPG\n",
      "379\n",
      "/Users/mariamelantably/Desktop/programs/vais internship/disease_project/ammended_dataset/processed/test/Tomato___Leaf_Mold/image (853).JPG\n"
     ]
    }
   ],
   "source": [
    "for path, num in enumerate(df_test['image_path']):\n",
    "    print(path)\n",
    "    print(num)"
   ]
  },
  {
   "cell_type": "markdown",
   "metadata": {},
   "source": [
    "Finally, I ran the RAG model on all the predictions and stored them into an output file, including each image ID to be able to identify the images that were used."
   ]
  },
  {
   "cell_type": "code",
   "execution_count": 50,
   "metadata": {},
   "outputs": [
    {
     "data": {
      "application/vnd.jupyter.widget-view+json": {
       "model_id": "317d38830e90461dbaf7de4d5ca991ef",
       "version_major": 2,
       "version_minor": 0
      },
      "text/plain": [
       "Fetching 9 files:   0%|          | 0/9 [00:00<?, ?it/s]"
      ]
     },
     "metadata": {},
     "output_type": "display_data"
    },
    {
     "data": {
      "application/vnd.jupyter.widget-view+json": {
       "model_id": "d791799c3590445294c336c446f68776",
       "version_major": 2,
       "version_minor": 0
      },
      "text/plain": [
       "Split strings:   0%|          | 0/1 [00:00<?, ?it/s]"
      ]
     },
     "metadata": {},
     "output_type": "display_data"
    },
    {
     "data": {
      "application/vnd.jupyter.widget-view+json": {
       "model_id": "2712bc5bddf0403c84eb62324081b43e",
       "version_major": 2,
       "version_minor": 0
      },
      "text/plain": [
       "BM25S Retrieve:   0%|          | 0/1 [00:00<?, ?it/s]"
      ]
     },
     "metadata": {},
     "output_type": "display_data"
    },
    {
     "data": {
      "application/vnd.jupyter.widget-view+json": {
       "model_id": "cec32dc2754943ffbe15bdecbfcfa6da",
       "version_major": 2,
       "version_minor": 0
      },
      "text/plain": [
       "Fetching 9 files:   0%|          | 0/9 [00:00<?, ?it/s]"
      ]
     },
     "metadata": {},
     "output_type": "display_data"
    },
    {
     "data": {
      "application/vnd.jupyter.widget-view+json": {
       "model_id": "db51aa8314904199a36b6e7a677a94f6",
       "version_major": 2,
       "version_minor": 0
      },
      "text/plain": [
       "Split strings:   0%|          | 0/1 [00:00<?, ?it/s]"
      ]
     },
     "metadata": {},
     "output_type": "display_data"
    },
    {
     "data": {
      "application/vnd.jupyter.widget-view+json": {
       "model_id": "e8d996dcdf284b6ca1ad27f6ded82f87",
       "version_major": 2,
       "version_minor": 0
      },
      "text/plain": [
       "BM25S Retrieve:   0%|          | 0/1 [00:00<?, ?it/s]"
      ]
     },
     "metadata": {},
     "output_type": "display_data"
    },
    {
     "data": {
      "application/vnd.jupyter.widget-view+json": {
       "model_id": "a8e5d1918cd345208033846c688813a1",
       "version_major": 2,
       "version_minor": 0
      },
      "text/plain": [
       "Fetching 9 files:   0%|          | 0/9 [00:00<?, ?it/s]"
      ]
     },
     "metadata": {},
     "output_type": "display_data"
    },
    {
     "data": {
      "application/vnd.jupyter.widget-view+json": {
       "model_id": "fedc9973b9f6487a89ee786a458063b3",
       "version_major": 2,
       "version_minor": 0
      },
      "text/plain": [
       "Split strings:   0%|          | 0/1 [00:00<?, ?it/s]"
      ]
     },
     "metadata": {},
     "output_type": "display_data"
    },
    {
     "data": {
      "application/vnd.jupyter.widget-view+json": {
       "model_id": "e459a3e8e95f49bc9290e592b958399e",
       "version_major": 2,
       "version_minor": 0
      },
      "text/plain": [
       "BM25S Retrieve:   0%|          | 0/1 [00:00<?, ?it/s]"
      ]
     },
     "metadata": {},
     "output_type": "display_data"
    },
    {
     "data": {
      "application/vnd.jupyter.widget-view+json": {
       "model_id": "9dd7377b46f84b18b8cb1a78a7bc89b7",
       "version_major": 2,
       "version_minor": 0
      },
      "text/plain": [
       "Fetching 9 files:   0%|          | 0/9 [00:00<?, ?it/s]"
      ]
     },
     "metadata": {},
     "output_type": "display_data"
    },
    {
     "data": {
      "application/vnd.jupyter.widget-view+json": {
       "model_id": "f54b0b5d4af74cd8ae5b2f73c675948a",
       "version_major": 2,
       "version_minor": 0
      },
      "text/plain": [
       "Split strings:   0%|          | 0/1 [00:00<?, ?it/s]"
      ]
     },
     "metadata": {},
     "output_type": "display_data"
    },
    {
     "data": {
      "application/vnd.jupyter.widget-view+json": {
       "model_id": "bff979b10d1a477bba844b21ce03b601",
       "version_major": 2,
       "version_minor": 0
      },
      "text/plain": [
       "BM25S Retrieve:   0%|          | 0/1 [00:00<?, ?it/s]"
      ]
     },
     "metadata": {},
     "output_type": "display_data"
    },
    {
     "data": {
      "application/vnd.jupyter.widget-view+json": {
       "model_id": "b83267c0d0a14c3ba3344cd73e9ef62c",
       "version_major": 2,
       "version_minor": 0
      },
      "text/plain": [
       "Fetching 9 files:   0%|          | 0/9 [00:00<?, ?it/s]"
      ]
     },
     "metadata": {},
     "output_type": "display_data"
    },
    {
     "data": {
      "application/vnd.jupyter.widget-view+json": {
       "model_id": "8186235073454e3799a138d076daf0cc",
       "version_major": 2,
       "version_minor": 0
      },
      "text/plain": [
       "Split strings:   0%|          | 0/1 [00:00<?, ?it/s]"
      ]
     },
     "metadata": {},
     "output_type": "display_data"
    },
    {
     "data": {
      "application/vnd.jupyter.widget-view+json": {
       "model_id": "6781e23cedfa4b11b61ca6794028c864",
       "version_major": 2,
       "version_minor": 0
      },
      "text/plain": [
       "BM25S Retrieve:   0%|          | 0/1 [00:00<?, ?it/s]"
      ]
     },
     "metadata": {},
     "output_type": "display_data"
    },
    {
     "data": {
      "application/vnd.jupyter.widget-view+json": {
       "model_id": "087311ad915d4ec3a25c9694cb4f2544",
       "version_major": 2,
       "version_minor": 0
      },
      "text/plain": [
       "Fetching 9 files:   0%|          | 0/9 [00:00<?, ?it/s]"
      ]
     },
     "metadata": {},
     "output_type": "display_data"
    },
    {
     "data": {
      "application/vnd.jupyter.widget-view+json": {
       "model_id": "28cfc89d913a44ab938b10255b49a1be",
       "version_major": 2,
       "version_minor": 0
      },
      "text/plain": [
       "Split strings:   0%|          | 0/1 [00:00<?, ?it/s]"
      ]
     },
     "metadata": {},
     "output_type": "display_data"
    },
    {
     "data": {
      "application/vnd.jupyter.widget-view+json": {
       "model_id": "fb9e2147fdc249ffbf1649190df60ef2",
       "version_major": 2,
       "version_minor": 0
      },
      "text/plain": [
       "BM25S Retrieve:   0%|          | 0/1 [00:00<?, ?it/s]"
      ]
     },
     "metadata": {},
     "output_type": "display_data"
    },
    {
     "data": {
      "application/vnd.jupyter.widget-view+json": {
       "model_id": "0686fc29286541efbc5b9a4d969af445",
       "version_major": 2,
       "version_minor": 0
      },
      "text/plain": [
       "Fetching 9 files:   0%|          | 0/9 [00:00<?, ?it/s]"
      ]
     },
     "metadata": {},
     "output_type": "display_data"
    },
    {
     "data": {
      "application/vnd.jupyter.widget-view+json": {
       "model_id": "e19c8f0fabb344db8895bf67e8969408",
       "version_major": 2,
       "version_minor": 0
      },
      "text/plain": [
       "Split strings:   0%|          | 0/1 [00:00<?, ?it/s]"
      ]
     },
     "metadata": {},
     "output_type": "display_data"
    },
    {
     "data": {
      "application/vnd.jupyter.widget-view+json": {
       "model_id": "d3c1cc1168aa48aca29fbe2edeb27b0e",
       "version_major": 2,
       "version_minor": 0
      },
      "text/plain": [
       "BM25S Retrieve:   0%|          | 0/1 [00:00<?, ?it/s]"
      ]
     },
     "metadata": {},
     "output_type": "display_data"
    },
    {
     "data": {
      "application/vnd.jupyter.widget-view+json": {
       "model_id": "8e01d8c4b42247fc8086e18b19e95b25",
       "version_major": 2,
       "version_minor": 0
      },
      "text/plain": [
       "Fetching 9 files:   0%|          | 0/9 [00:00<?, ?it/s]"
      ]
     },
     "metadata": {},
     "output_type": "display_data"
    },
    {
     "data": {
      "application/vnd.jupyter.widget-view+json": {
       "model_id": "11216467a09a483682f9b9849474d095",
       "version_major": 2,
       "version_minor": 0
      },
      "text/plain": [
       "Split strings:   0%|          | 0/1 [00:00<?, ?it/s]"
      ]
     },
     "metadata": {},
     "output_type": "display_data"
    },
    {
     "data": {
      "application/vnd.jupyter.widget-view+json": {
       "model_id": "7f9146cb3266432dbe56542a4bb50c5d",
       "version_major": 2,
       "version_minor": 0
      },
      "text/plain": [
       "BM25S Retrieve:   0%|          | 0/1 [00:00<?, ?it/s]"
      ]
     },
     "metadata": {},
     "output_type": "display_data"
    },
    {
     "data": {
      "application/vnd.jupyter.widget-view+json": {
       "model_id": "2105ec25d7d64752ae477a849038d6ae",
       "version_major": 2,
       "version_minor": 0
      },
      "text/plain": [
       "Fetching 9 files:   0%|          | 0/9 [00:00<?, ?it/s]"
      ]
     },
     "metadata": {},
     "output_type": "display_data"
    },
    {
     "data": {
      "application/vnd.jupyter.widget-view+json": {
       "model_id": "b205f295573645b485dde384caeb4e41",
       "version_major": 2,
       "version_minor": 0
      },
      "text/plain": [
       "Split strings:   0%|          | 0/1 [00:00<?, ?it/s]"
      ]
     },
     "metadata": {},
     "output_type": "display_data"
    },
    {
     "data": {
      "application/vnd.jupyter.widget-view+json": {
       "model_id": "bca4659371ef4c0cb8d987d770d2df35",
       "version_major": 2,
       "version_minor": 0
      },
      "text/plain": [
       "BM25S Retrieve:   0%|          | 0/1 [00:00<?, ?it/s]"
      ]
     },
     "metadata": {},
     "output_type": "display_data"
    },
    {
     "data": {
      "application/vnd.jupyter.widget-view+json": {
       "model_id": "37824286e94a4bab831b66c90d609be4",
       "version_major": 2,
       "version_minor": 0
      },
      "text/plain": [
       "Fetching 9 files:   0%|          | 0/9 [00:00<?, ?it/s]"
      ]
     },
     "metadata": {},
     "output_type": "display_data"
    },
    {
     "data": {
      "application/vnd.jupyter.widget-view+json": {
       "model_id": "5c56ed8e61ac4dd191fe60a7ca44b24f",
       "version_major": 2,
       "version_minor": 0
      },
      "text/plain": [
       "Split strings:   0%|          | 0/1 [00:00<?, ?it/s]"
      ]
     },
     "metadata": {},
     "output_type": "display_data"
    },
    {
     "data": {
      "application/vnd.jupyter.widget-view+json": {
       "model_id": "8932e93c01884abfb5ddcbdbaf260aa5",
       "version_major": 2,
       "version_minor": 0
      },
      "text/plain": [
       "BM25S Retrieve:   0%|          | 0/1 [00:00<?, ?it/s]"
      ]
     },
     "metadata": {},
     "output_type": "display_data"
    },
    {
     "data": {
      "application/vnd.jupyter.widget-view+json": {
       "model_id": "912d3aab72b6455b977a2a38aa583649",
       "version_major": 2,
       "version_minor": 0
      },
      "text/plain": [
       "Fetching 9 files:   0%|          | 0/9 [00:00<?, ?it/s]"
      ]
     },
     "metadata": {},
     "output_type": "display_data"
    },
    {
     "data": {
      "application/vnd.jupyter.widget-view+json": {
       "model_id": "02c7a81a0844441893b6bd29d4b59a95",
       "version_major": 2,
       "version_minor": 0
      },
      "text/plain": [
       "Split strings:   0%|          | 0/1 [00:00<?, ?it/s]"
      ]
     },
     "metadata": {},
     "output_type": "display_data"
    },
    {
     "data": {
      "application/vnd.jupyter.widget-view+json": {
       "model_id": "2364d7ced30d43cf8bcd485af45f5945",
       "version_major": 2,
       "version_minor": 0
      },
      "text/plain": [
       "BM25S Retrieve:   0%|          | 0/1 [00:00<?, ?it/s]"
      ]
     },
     "metadata": {},
     "output_type": "display_data"
    },
    {
     "data": {
      "application/vnd.jupyter.widget-view+json": {
       "model_id": "7ee6a9cee6a1453483793bc748e755de",
       "version_major": 2,
       "version_minor": 0
      },
      "text/plain": [
       "Fetching 9 files:   0%|          | 0/9 [00:00<?, ?it/s]"
      ]
     },
     "metadata": {},
     "output_type": "display_data"
    },
    {
     "data": {
      "application/vnd.jupyter.widget-view+json": {
       "model_id": "1ee73fb50e14489c9130d3179630cd5b",
       "version_major": 2,
       "version_minor": 0
      },
      "text/plain": [
       "Split strings:   0%|          | 0/1 [00:00<?, ?it/s]"
      ]
     },
     "metadata": {},
     "output_type": "display_data"
    },
    {
     "data": {
      "application/vnd.jupyter.widget-view+json": {
       "model_id": "3a3969f6a02f4d3a85e5e0d38e81cc15",
       "version_major": 2,
       "version_minor": 0
      },
      "text/plain": [
       "BM25S Retrieve:   0%|          | 0/1 [00:00<?, ?it/s]"
      ]
     },
     "metadata": {},
     "output_type": "display_data"
    },
    {
     "data": {
      "application/vnd.jupyter.widget-view+json": {
       "model_id": "b1209ab05402438cbda9d93984bf085f",
       "version_major": 2,
       "version_minor": 0
      },
      "text/plain": [
       "Fetching 9 files:   0%|          | 0/9 [00:00<?, ?it/s]"
      ]
     },
     "metadata": {},
     "output_type": "display_data"
    },
    {
     "data": {
      "application/vnd.jupyter.widget-view+json": {
       "model_id": "b0aa19f1a8f54d6496bfa0fd5e7aca4b",
       "version_major": 2,
       "version_minor": 0
      },
      "text/plain": [
       "Split strings:   0%|          | 0/1 [00:00<?, ?it/s]"
      ]
     },
     "metadata": {},
     "output_type": "display_data"
    },
    {
     "data": {
      "application/vnd.jupyter.widget-view+json": {
       "model_id": "dc83b89ff96e4a94a7c890ecfc185db4",
       "version_major": 2,
       "version_minor": 0
      },
      "text/plain": [
       "BM25S Retrieve:   0%|          | 0/1 [00:00<?, ?it/s]"
      ]
     },
     "metadata": {},
     "output_type": "display_data"
    },
    {
     "data": {
      "application/vnd.jupyter.widget-view+json": {
       "model_id": "03ee8cfff7b24be58c18e6bf90d02da7",
       "version_major": 2,
       "version_minor": 0
      },
      "text/plain": [
       "Fetching 9 files:   0%|          | 0/9 [00:00<?, ?it/s]"
      ]
     },
     "metadata": {},
     "output_type": "display_data"
    },
    {
     "data": {
      "application/vnd.jupyter.widget-view+json": {
       "model_id": "ab548c959f56414fbdb0bbb794d3a89b",
       "version_major": 2,
       "version_minor": 0
      },
      "text/plain": [
       "Split strings:   0%|          | 0/1 [00:00<?, ?it/s]"
      ]
     },
     "metadata": {},
     "output_type": "display_data"
    },
    {
     "data": {
      "application/vnd.jupyter.widget-view+json": {
       "model_id": "9daf519d15c848a395fbdbd2c6babdab",
       "version_major": 2,
       "version_minor": 0
      },
      "text/plain": [
       "BM25S Retrieve:   0%|          | 0/1 [00:00<?, ?it/s]"
      ]
     },
     "metadata": {},
     "output_type": "display_data"
    },
    {
     "data": {
      "application/vnd.jupyter.widget-view+json": {
       "model_id": "1d9cd9a3e7754d5bb0d5ef5ff5393d1e",
       "version_major": 2,
       "version_minor": 0
      },
      "text/plain": [
       "Fetching 9 files:   0%|          | 0/9 [00:00<?, ?it/s]"
      ]
     },
     "metadata": {},
     "output_type": "display_data"
    },
    {
     "data": {
      "application/vnd.jupyter.widget-view+json": {
       "model_id": "cb16d6a2a109442ab3d94151751e3048",
       "version_major": 2,
       "version_minor": 0
      },
      "text/plain": [
       "Split strings:   0%|          | 0/1 [00:00<?, ?it/s]"
      ]
     },
     "metadata": {},
     "output_type": "display_data"
    },
    {
     "data": {
      "application/vnd.jupyter.widget-view+json": {
       "model_id": "f51d36ddb5174724876358a7dca68bc8",
       "version_major": 2,
       "version_minor": 0
      },
      "text/plain": [
       "BM25S Retrieve:   0%|          | 0/1 [00:00<?, ?it/s]"
      ]
     },
     "metadata": {},
     "output_type": "display_data"
    },
    {
     "data": {
      "application/vnd.jupyter.widget-view+json": {
       "model_id": "a9de73c7edd94c479d87dd4c96403221",
       "version_major": 2,
       "version_minor": 0
      },
      "text/plain": [
       "Fetching 9 files:   0%|          | 0/9 [00:00<?, ?it/s]"
      ]
     },
     "metadata": {},
     "output_type": "display_data"
    },
    {
     "data": {
      "application/vnd.jupyter.widget-view+json": {
       "model_id": "d7bc43299883450bb7d5db3b0d7ab835",
       "version_major": 2,
       "version_minor": 0
      },
      "text/plain": [
       "Split strings:   0%|          | 0/1 [00:00<?, ?it/s]"
      ]
     },
     "metadata": {},
     "output_type": "display_data"
    },
    {
     "data": {
      "application/vnd.jupyter.widget-view+json": {
       "model_id": "9efc40586a1542e293cf43204a162956",
       "version_major": 2,
       "version_minor": 0
      },
      "text/plain": [
       "BM25S Retrieve:   0%|          | 0/1 [00:00<?, ?it/s]"
      ]
     },
     "metadata": {},
     "output_type": "display_data"
    },
    {
     "data": {
      "application/vnd.jupyter.widget-view+json": {
       "model_id": "0188812fa5e5428d977230fb2a7dc476",
       "version_major": 2,
       "version_minor": 0
      },
      "text/plain": [
       "Fetching 9 files:   0%|          | 0/9 [00:00<?, ?it/s]"
      ]
     },
     "metadata": {},
     "output_type": "display_data"
    },
    {
     "data": {
      "application/vnd.jupyter.widget-view+json": {
       "model_id": "065f4946ad4f48f194e1a0022f99e91b",
       "version_major": 2,
       "version_minor": 0
      },
      "text/plain": [
       "Split strings:   0%|          | 0/1 [00:00<?, ?it/s]"
      ]
     },
     "metadata": {},
     "output_type": "display_data"
    },
    {
     "data": {
      "application/vnd.jupyter.widget-view+json": {
       "model_id": "1dd43ef6d871403c9bc689016b3f9d9c",
       "version_major": 2,
       "version_minor": 0
      },
      "text/plain": [
       "BM25S Retrieve:   0%|          | 0/1 [00:00<?, ?it/s]"
      ]
     },
     "metadata": {},
     "output_type": "display_data"
    },
    {
     "data": {
      "application/vnd.jupyter.widget-view+json": {
       "model_id": "cb550a69db6e40038767b3620416d578",
       "version_major": 2,
       "version_minor": 0
      },
      "text/plain": [
       "Fetching 9 files:   0%|          | 0/9 [00:00<?, ?it/s]"
      ]
     },
     "metadata": {},
     "output_type": "display_data"
    },
    {
     "data": {
      "application/vnd.jupyter.widget-view+json": {
       "model_id": "8d80a3c261034721a3944102c8ea391b",
       "version_major": 2,
       "version_minor": 0
      },
      "text/plain": [
       "Split strings:   0%|          | 0/1 [00:00<?, ?it/s]"
      ]
     },
     "metadata": {},
     "output_type": "display_data"
    },
    {
     "data": {
      "application/vnd.jupyter.widget-view+json": {
       "model_id": "fbd641a595d64852ba30736b3e86b12e",
       "version_major": 2,
       "version_minor": 0
      },
      "text/plain": [
       "BM25S Retrieve:   0%|          | 0/1 [00:00<?, ?it/s]"
      ]
     },
     "metadata": {},
     "output_type": "display_data"
    },
    {
     "data": {
      "application/vnd.jupyter.widget-view+json": {
       "model_id": "8aeb72e2ad3d41b2b3e6bd8ed380b48f",
       "version_major": 2,
       "version_minor": 0
      },
      "text/plain": [
       "Fetching 9 files:   0%|          | 0/9 [00:00<?, ?it/s]"
      ]
     },
     "metadata": {},
     "output_type": "display_data"
    },
    {
     "data": {
      "application/vnd.jupyter.widget-view+json": {
       "model_id": "5ff2ae26f37f49618a9cfad45b6db140",
       "version_major": 2,
       "version_minor": 0
      },
      "text/plain": [
       "Split strings:   0%|          | 0/1 [00:00<?, ?it/s]"
      ]
     },
     "metadata": {},
     "output_type": "display_data"
    },
    {
     "data": {
      "application/vnd.jupyter.widget-view+json": {
       "model_id": "140d3574a8114821a1951e86dccfedd5",
       "version_major": 2,
       "version_minor": 0
      },
      "text/plain": [
       "BM25S Retrieve:   0%|          | 0/1 [00:00<?, ?it/s]"
      ]
     },
     "metadata": {},
     "output_type": "display_data"
    },
    {
     "data": {
      "application/vnd.jupyter.widget-view+json": {
       "model_id": "e4cb43f9bb3b43e1b58166bf97d3f38a",
       "version_major": 2,
       "version_minor": 0
      },
      "text/plain": [
       "Fetching 9 files:   0%|          | 0/9 [00:00<?, ?it/s]"
      ]
     },
     "metadata": {},
     "output_type": "display_data"
    },
    {
     "data": {
      "application/vnd.jupyter.widget-view+json": {
       "model_id": "0aaac7a6fe194a2cb06d50051794af5e",
       "version_major": 2,
       "version_minor": 0
      },
      "text/plain": [
       "Split strings:   0%|          | 0/1 [00:00<?, ?it/s]"
      ]
     },
     "metadata": {},
     "output_type": "display_data"
    },
    {
     "data": {
      "application/vnd.jupyter.widget-view+json": {
       "model_id": "79cb0d83db0b426387ac29b3ada05df2",
       "version_major": 2,
       "version_minor": 0
      },
      "text/plain": [
       "BM25S Retrieve:   0%|          | 0/1 [00:00<?, ?it/s]"
      ]
     },
     "metadata": {},
     "output_type": "display_data"
    },
    {
     "data": {
      "application/vnd.jupyter.widget-view+json": {
       "model_id": "b7853ebaf8904cefa8e0dd300f37b766",
       "version_major": 2,
       "version_minor": 0
      },
      "text/plain": [
       "Fetching 9 files:   0%|          | 0/9 [00:00<?, ?it/s]"
      ]
     },
     "metadata": {},
     "output_type": "display_data"
    },
    {
     "data": {
      "application/vnd.jupyter.widget-view+json": {
       "model_id": "a3bfb852c8264590b76dc36ed52a84b3",
       "version_major": 2,
       "version_minor": 0
      },
      "text/plain": [
       "Split strings:   0%|          | 0/1 [00:00<?, ?it/s]"
      ]
     },
     "metadata": {},
     "output_type": "display_data"
    },
    {
     "data": {
      "application/vnd.jupyter.widget-view+json": {
       "model_id": "83ab6e8b1b8f4099a18a35fd32da5284",
       "version_major": 2,
       "version_minor": 0
      },
      "text/plain": [
       "BM25S Retrieve:   0%|          | 0/1 [00:00<?, ?it/s]"
      ]
     },
     "metadata": {},
     "output_type": "display_data"
    },
    {
     "data": {
      "application/vnd.jupyter.widget-view+json": {
       "model_id": "165e7ede59d0431e903625724be549d6",
       "version_major": 2,
       "version_minor": 0
      },
      "text/plain": [
       "Fetching 9 files:   0%|          | 0/9 [00:00<?, ?it/s]"
      ]
     },
     "metadata": {},
     "output_type": "display_data"
    },
    {
     "data": {
      "application/vnd.jupyter.widget-view+json": {
       "model_id": "7841265990c046119e4ed3893d0966fa",
       "version_major": 2,
       "version_minor": 0
      },
      "text/plain": [
       "Split strings:   0%|          | 0/1 [00:00<?, ?it/s]"
      ]
     },
     "metadata": {},
     "output_type": "display_data"
    },
    {
     "data": {
      "application/vnd.jupyter.widget-view+json": {
       "model_id": "f64afc5603184fe28e5845152231d236",
       "version_major": 2,
       "version_minor": 0
      },
      "text/plain": [
       "BM25S Retrieve:   0%|          | 0/1 [00:00<?, ?it/s]"
      ]
     },
     "metadata": {},
     "output_type": "display_data"
    },
    {
     "data": {
      "application/vnd.jupyter.widget-view+json": {
       "model_id": "966824d997a54f289a703225aac58449",
       "version_major": 2,
       "version_minor": 0
      },
      "text/plain": [
       "Fetching 9 files:   0%|          | 0/9 [00:00<?, ?it/s]"
      ]
     },
     "metadata": {},
     "output_type": "display_data"
    },
    {
     "data": {
      "application/vnd.jupyter.widget-view+json": {
       "model_id": "d1fce49488e143ffbfdef1bb5bf17cb5",
       "version_major": 2,
       "version_minor": 0
      },
      "text/plain": [
       "Split strings:   0%|          | 0/1 [00:00<?, ?it/s]"
      ]
     },
     "metadata": {},
     "output_type": "display_data"
    },
    {
     "data": {
      "application/vnd.jupyter.widget-view+json": {
       "model_id": "9a40061f8a2344188e6d017c78fa73bb",
       "version_major": 2,
       "version_minor": 0
      },
      "text/plain": [
       "BM25S Retrieve:   0%|          | 0/1 [00:00<?, ?it/s]"
      ]
     },
     "metadata": {},
     "output_type": "display_data"
    },
    {
     "data": {
      "application/vnd.jupyter.widget-view+json": {
       "model_id": "f6d1e4a42fc949deb84bc7c8043101e3",
       "version_major": 2,
       "version_minor": 0
      },
      "text/plain": [
       "Fetching 9 files:   0%|          | 0/9 [00:00<?, ?it/s]"
      ]
     },
     "metadata": {},
     "output_type": "display_data"
    },
    {
     "data": {
      "application/vnd.jupyter.widget-view+json": {
       "model_id": "03c7daaac5bb4c05bb346e6ba23c576d",
       "version_major": 2,
       "version_minor": 0
      },
      "text/plain": [
       "Split strings:   0%|          | 0/1 [00:00<?, ?it/s]"
      ]
     },
     "metadata": {},
     "output_type": "display_data"
    },
    {
     "data": {
      "application/vnd.jupyter.widget-view+json": {
       "model_id": "18bb924cb44f4c48a75050dcb20d996a",
       "version_major": 2,
       "version_minor": 0
      },
      "text/plain": [
       "BM25S Retrieve:   0%|          | 0/1 [00:00<?, ?it/s]"
      ]
     },
     "metadata": {},
     "output_type": "display_data"
    },
    {
     "data": {
      "application/vnd.jupyter.widget-view+json": {
       "model_id": "8060c955984545f2ba06662200232c48",
       "version_major": 2,
       "version_minor": 0
      },
      "text/plain": [
       "Fetching 9 files:   0%|          | 0/9 [00:00<?, ?it/s]"
      ]
     },
     "metadata": {},
     "output_type": "display_data"
    },
    {
     "data": {
      "application/vnd.jupyter.widget-view+json": {
       "model_id": "a68165d8767b493fa86508ae40c22203",
       "version_major": 2,
       "version_minor": 0
      },
      "text/plain": [
       "Split strings:   0%|          | 0/1 [00:00<?, ?it/s]"
      ]
     },
     "metadata": {},
     "output_type": "display_data"
    },
    {
     "data": {
      "application/vnd.jupyter.widget-view+json": {
       "model_id": "7023c846080a4503995790291bdea414",
       "version_major": 2,
       "version_minor": 0
      },
      "text/plain": [
       "BM25S Retrieve:   0%|          | 0/1 [00:00<?, ?it/s]"
      ]
     },
     "metadata": {},
     "output_type": "display_data"
    },
    {
     "data": {
      "application/vnd.jupyter.widget-view+json": {
       "model_id": "cc516f0125d94eef9d12cf8fd4193e24",
       "version_major": 2,
       "version_minor": 0
      },
      "text/plain": [
       "Fetching 9 files:   0%|          | 0/9 [00:00<?, ?it/s]"
      ]
     },
     "metadata": {},
     "output_type": "display_data"
    },
    {
     "data": {
      "application/vnd.jupyter.widget-view+json": {
       "model_id": "be2dd513a46b4cebadf35d548a5f3e13",
       "version_major": 2,
       "version_minor": 0
      },
      "text/plain": [
       "Split strings:   0%|          | 0/1 [00:00<?, ?it/s]"
      ]
     },
     "metadata": {},
     "output_type": "display_data"
    },
    {
     "data": {
      "application/vnd.jupyter.widget-view+json": {
       "model_id": "130c2f680e484babbabc5ed578154a30",
       "version_major": 2,
       "version_minor": 0
      },
      "text/plain": [
       "BM25S Retrieve:   0%|          | 0/1 [00:00<?, ?it/s]"
      ]
     },
     "metadata": {},
     "output_type": "display_data"
    },
    {
     "data": {
      "application/vnd.jupyter.widget-view+json": {
       "model_id": "bf3c2d8987524547a2a3dbbb53fe5c0c",
       "version_major": 2,
       "version_minor": 0
      },
      "text/plain": [
       "Fetching 9 files:   0%|          | 0/9 [00:00<?, ?it/s]"
      ]
     },
     "metadata": {},
     "output_type": "display_data"
    },
    {
     "data": {
      "application/vnd.jupyter.widget-view+json": {
       "model_id": "c7e526a095b04481bff0ba6c53ba5497",
       "version_major": 2,
       "version_minor": 0
      },
      "text/plain": [
       "Split strings:   0%|          | 0/1 [00:00<?, ?it/s]"
      ]
     },
     "metadata": {},
     "output_type": "display_data"
    },
    {
     "data": {
      "application/vnd.jupyter.widget-view+json": {
       "model_id": "e39a95c462734a93a2a1c58d1a99ed4c",
       "version_major": 2,
       "version_minor": 0
      },
      "text/plain": [
       "BM25S Retrieve:   0%|          | 0/1 [00:00<?, ?it/s]"
      ]
     },
     "metadata": {},
     "output_type": "display_data"
    },
    {
     "data": {
      "application/vnd.jupyter.widget-view+json": {
       "model_id": "e33ed4b34289440e9b5c0eff7417f679",
       "version_major": 2,
       "version_minor": 0
      },
      "text/plain": [
       "Fetching 9 files:   0%|          | 0/9 [00:00<?, ?it/s]"
      ]
     },
     "metadata": {},
     "output_type": "display_data"
    },
    {
     "data": {
      "application/vnd.jupyter.widget-view+json": {
       "model_id": "c46c7682e65c45ada234ba7df83595cc",
       "version_major": 2,
       "version_minor": 0
      },
      "text/plain": [
       "Split strings:   0%|          | 0/1 [00:00<?, ?it/s]"
      ]
     },
     "metadata": {},
     "output_type": "display_data"
    },
    {
     "data": {
      "application/vnd.jupyter.widget-view+json": {
       "model_id": "5429befe8145482cb8ecc3560df407fd",
       "version_major": 2,
       "version_minor": 0
      },
      "text/plain": [
       "BM25S Retrieve:   0%|          | 0/1 [00:00<?, ?it/s]"
      ]
     },
     "metadata": {},
     "output_type": "display_data"
    },
    {
     "data": {
      "application/vnd.jupyter.widget-view+json": {
       "model_id": "552798c60fe140b49b0f81d1ffac2113",
       "version_major": 2,
       "version_minor": 0
      },
      "text/plain": [
       "Fetching 9 files:   0%|          | 0/9 [00:00<?, ?it/s]"
      ]
     },
     "metadata": {},
     "output_type": "display_data"
    },
    {
     "data": {
      "application/vnd.jupyter.widget-view+json": {
       "model_id": "5605dbb440f94c79b80bf53a3734b35b",
       "version_major": 2,
       "version_minor": 0
      },
      "text/plain": [
       "Split strings:   0%|          | 0/1 [00:00<?, ?it/s]"
      ]
     },
     "metadata": {},
     "output_type": "display_data"
    },
    {
     "data": {
      "application/vnd.jupyter.widget-view+json": {
       "model_id": "32684e95c4434a4790cb840e4ae47376",
       "version_major": 2,
       "version_minor": 0
      },
      "text/plain": [
       "BM25S Retrieve:   0%|          | 0/1 [00:00<?, ?it/s]"
      ]
     },
     "metadata": {},
     "output_type": "display_data"
    },
    {
     "data": {
      "application/vnd.jupyter.widget-view+json": {
       "model_id": "d054d974abcf49f8b985b21eb2daf018",
       "version_major": 2,
       "version_minor": 0
      },
      "text/plain": [
       "Fetching 9 files:   0%|          | 0/9 [00:00<?, ?it/s]"
      ]
     },
     "metadata": {},
     "output_type": "display_data"
    },
    {
     "data": {
      "application/vnd.jupyter.widget-view+json": {
       "model_id": "0c5494c57fab4706a1f0c7e7b31279d6",
       "version_major": 2,
       "version_minor": 0
      },
      "text/plain": [
       "Split strings:   0%|          | 0/1 [00:00<?, ?it/s]"
      ]
     },
     "metadata": {},
     "output_type": "display_data"
    },
    {
     "data": {
      "application/vnd.jupyter.widget-view+json": {
       "model_id": "ff798638ccc94a4c981a75fbe0babff1",
       "version_major": 2,
       "version_minor": 0
      },
      "text/plain": [
       "BM25S Retrieve:   0%|          | 0/1 [00:00<?, ?it/s]"
      ]
     },
     "metadata": {},
     "output_type": "display_data"
    },
    {
     "data": {
      "application/vnd.jupyter.widget-view+json": {
       "model_id": "2fbb541a974c408193d297c6eb35aa8a",
       "version_major": 2,
       "version_minor": 0
      },
      "text/plain": [
       "Fetching 9 files:   0%|          | 0/9 [00:00<?, ?it/s]"
      ]
     },
     "metadata": {},
     "output_type": "display_data"
    },
    {
     "data": {
      "application/vnd.jupyter.widget-view+json": {
       "model_id": "f95511543378452f9e871f5aea77086f",
       "version_major": 2,
       "version_minor": 0
      },
      "text/plain": [
       "Split strings:   0%|          | 0/1 [00:00<?, ?it/s]"
      ]
     },
     "metadata": {},
     "output_type": "display_data"
    },
    {
     "data": {
      "application/vnd.jupyter.widget-view+json": {
       "model_id": "e086271f51964544b91bbb17d841cf5a",
       "version_major": 2,
       "version_minor": 0
      },
      "text/plain": [
       "BM25S Retrieve:   0%|          | 0/1 [00:00<?, ?it/s]"
      ]
     },
     "metadata": {},
     "output_type": "display_data"
    },
    {
     "data": {
      "application/vnd.jupyter.widget-view+json": {
       "model_id": "7968179011904bad981a16fed0d57cdc",
       "version_major": 2,
       "version_minor": 0
      },
      "text/plain": [
       "Fetching 9 files:   0%|          | 0/9 [00:00<?, ?it/s]"
      ]
     },
     "metadata": {},
     "output_type": "display_data"
    },
    {
     "data": {
      "application/vnd.jupyter.widget-view+json": {
       "model_id": "4d05eaa0720c4fba9e8db57db4802e91",
       "version_major": 2,
       "version_minor": 0
      },
      "text/plain": [
       "Split strings:   0%|          | 0/1 [00:00<?, ?it/s]"
      ]
     },
     "metadata": {},
     "output_type": "display_data"
    },
    {
     "data": {
      "application/vnd.jupyter.widget-view+json": {
       "model_id": "d4125e5f00f849a7af12e3669879efb4",
       "version_major": 2,
       "version_minor": 0
      },
      "text/plain": [
       "BM25S Retrieve:   0%|          | 0/1 [00:00<?, ?it/s]"
      ]
     },
     "metadata": {},
     "output_type": "display_data"
    },
    {
     "data": {
      "application/vnd.jupyter.widget-view+json": {
       "model_id": "8b8ff2f76bea49b7bf1f2e68537bcf11",
       "version_major": 2,
       "version_minor": 0
      },
      "text/plain": [
       "Fetching 9 files:   0%|          | 0/9 [00:00<?, ?it/s]"
      ]
     },
     "metadata": {},
     "output_type": "display_data"
    },
    {
     "data": {
      "application/vnd.jupyter.widget-view+json": {
       "model_id": "f915e5ebe9914c408fdcd92e592fa6b0",
       "version_major": 2,
       "version_minor": 0
      },
      "text/plain": [
       "Split strings:   0%|          | 0/1 [00:00<?, ?it/s]"
      ]
     },
     "metadata": {},
     "output_type": "display_data"
    },
    {
     "data": {
      "application/vnd.jupyter.widget-view+json": {
       "model_id": "cae66ac82e5c4ba693a5529928eb3686",
       "version_major": 2,
       "version_minor": 0
      },
      "text/plain": [
       "BM25S Retrieve:   0%|          | 0/1 [00:00<?, ?it/s]"
      ]
     },
     "metadata": {},
     "output_type": "display_data"
    },
    {
     "data": {
      "application/vnd.jupyter.widget-view+json": {
       "model_id": "90030cacd9e84c5d810907eb29f2b902",
       "version_major": 2,
       "version_minor": 0
      },
      "text/plain": [
       "Fetching 9 files:   0%|          | 0/9 [00:00<?, ?it/s]"
      ]
     },
     "metadata": {},
     "output_type": "display_data"
    },
    {
     "data": {
      "application/vnd.jupyter.widget-view+json": {
       "model_id": "ec2b7415eed746baa579889fe00646e9",
       "version_major": 2,
       "version_minor": 0
      },
      "text/plain": [
       "Split strings:   0%|          | 0/1 [00:00<?, ?it/s]"
      ]
     },
     "metadata": {},
     "output_type": "display_data"
    },
    {
     "data": {
      "application/vnd.jupyter.widget-view+json": {
       "model_id": "fe17b27efd9b435492b57b3f843b1e84",
       "version_major": 2,
       "version_minor": 0
      },
      "text/plain": [
       "BM25S Retrieve:   0%|          | 0/1 [00:00<?, ?it/s]"
      ]
     },
     "metadata": {},
     "output_type": "display_data"
    },
    {
     "data": {
      "application/vnd.jupyter.widget-view+json": {
       "model_id": "fdba48c225fe4ad3b2f15fe0e10612e8",
       "version_major": 2,
       "version_minor": 0
      },
      "text/plain": [
       "Fetching 9 files:   0%|          | 0/9 [00:00<?, ?it/s]"
      ]
     },
     "metadata": {},
     "output_type": "display_data"
    },
    {
     "data": {
      "application/vnd.jupyter.widget-view+json": {
       "model_id": "694a6a7bb3604266b96f576718ac5da5",
       "version_major": 2,
       "version_minor": 0
      },
      "text/plain": [
       "Split strings:   0%|          | 0/1 [00:00<?, ?it/s]"
      ]
     },
     "metadata": {},
     "output_type": "display_data"
    },
    {
     "data": {
      "application/vnd.jupyter.widget-view+json": {
       "model_id": "e895477db75f4f9793b59aad4a9ed351",
       "version_major": 2,
       "version_minor": 0
      },
      "text/plain": [
       "BM25S Retrieve:   0%|          | 0/1 [00:00<?, ?it/s]"
      ]
     },
     "metadata": {},
     "output_type": "display_data"
    },
    {
     "data": {
      "application/vnd.jupyter.widget-view+json": {
       "model_id": "667182aa09ea43e983a9b3338826ec49",
       "version_major": 2,
       "version_minor": 0
      },
      "text/plain": [
       "Fetching 9 files:   0%|          | 0/9 [00:00<?, ?it/s]"
      ]
     },
     "metadata": {},
     "output_type": "display_data"
    },
    {
     "data": {
      "application/vnd.jupyter.widget-view+json": {
       "model_id": "833ce9c899bf4bc89bca87fe85ee1101",
       "version_major": 2,
       "version_minor": 0
      },
      "text/plain": [
       "Split strings:   0%|          | 0/1 [00:00<?, ?it/s]"
      ]
     },
     "metadata": {},
     "output_type": "display_data"
    },
    {
     "data": {
      "application/vnd.jupyter.widget-view+json": {
       "model_id": "0bc8a0ea13ba45daa9ea75d8624c44bb",
       "version_major": 2,
       "version_minor": 0
      },
      "text/plain": [
       "BM25S Retrieve:   0%|          | 0/1 [00:00<?, ?it/s]"
      ]
     },
     "metadata": {},
     "output_type": "display_data"
    },
    {
     "data": {
      "application/vnd.jupyter.widget-view+json": {
       "model_id": "3d4deeffba5a44af9c38d46b4eb13836",
       "version_major": 2,
       "version_minor": 0
      },
      "text/plain": [
       "Fetching 9 files:   0%|          | 0/9 [00:00<?, ?it/s]"
      ]
     },
     "metadata": {},
     "output_type": "display_data"
    },
    {
     "data": {
      "application/vnd.jupyter.widget-view+json": {
       "model_id": "c44a45a021fc4a4fbaf1e8bf838eca1e",
       "version_major": 2,
       "version_minor": 0
      },
      "text/plain": [
       "Split strings:   0%|          | 0/1 [00:00<?, ?it/s]"
      ]
     },
     "metadata": {},
     "output_type": "display_data"
    },
    {
     "data": {
      "application/vnd.jupyter.widget-view+json": {
       "model_id": "dd4c582fcfd141229b5720186bb9117a",
       "version_major": 2,
       "version_minor": 0
      },
      "text/plain": [
       "BM25S Retrieve:   0%|          | 0/1 [00:00<?, ?it/s]"
      ]
     },
     "metadata": {},
     "output_type": "display_data"
    },
    {
     "data": {
      "application/vnd.jupyter.widget-view+json": {
       "model_id": "3d8617b52395415f83a247a975422753",
       "version_major": 2,
       "version_minor": 0
      },
      "text/plain": [
       "Fetching 9 files:   0%|          | 0/9 [00:00<?, ?it/s]"
      ]
     },
     "metadata": {},
     "output_type": "display_data"
    },
    {
     "data": {
      "application/vnd.jupyter.widget-view+json": {
       "model_id": "dd7fa0afd4f64ddb85d6cf6bcfa93431",
       "version_major": 2,
       "version_minor": 0
      },
      "text/plain": [
       "Split strings:   0%|          | 0/1 [00:00<?, ?it/s]"
      ]
     },
     "metadata": {},
     "output_type": "display_data"
    },
    {
     "data": {
      "application/vnd.jupyter.widget-view+json": {
       "model_id": "6c6a231cbae5444fb26ffb0b0cd3fc41",
       "version_major": 2,
       "version_minor": 0
      },
      "text/plain": [
       "BM25S Retrieve:   0%|          | 0/1 [00:00<?, ?it/s]"
      ]
     },
     "metadata": {},
     "output_type": "display_data"
    },
    {
     "data": {
      "application/vnd.jupyter.widget-view+json": {
       "model_id": "141b6a936ad24154b71c29678c900618",
       "version_major": 2,
       "version_minor": 0
      },
      "text/plain": [
       "Fetching 9 files:   0%|          | 0/9 [00:00<?, ?it/s]"
      ]
     },
     "metadata": {},
     "output_type": "display_data"
    },
    {
     "data": {
      "application/vnd.jupyter.widget-view+json": {
       "model_id": "cebf1b9603614e49933b147eaaba366c",
       "version_major": 2,
       "version_minor": 0
      },
      "text/plain": [
       "Split strings:   0%|          | 0/1 [00:00<?, ?it/s]"
      ]
     },
     "metadata": {},
     "output_type": "display_data"
    },
    {
     "data": {
      "application/vnd.jupyter.widget-view+json": {
       "model_id": "2e1b18d64d35457fa91b98819c72d480",
       "version_major": 2,
       "version_minor": 0
      },
      "text/plain": [
       "BM25S Retrieve:   0%|          | 0/1 [00:00<?, ?it/s]"
      ]
     },
     "metadata": {},
     "output_type": "display_data"
    },
    {
     "data": {
      "application/vnd.jupyter.widget-view+json": {
       "model_id": "de69762938904ec99fb8944d2a3e45ed",
       "version_major": 2,
       "version_minor": 0
      },
      "text/plain": [
       "Fetching 9 files:   0%|          | 0/9 [00:00<?, ?it/s]"
      ]
     },
     "metadata": {},
     "output_type": "display_data"
    },
    {
     "data": {
      "application/vnd.jupyter.widget-view+json": {
       "model_id": "011b01a9d5b84e5a920f257c5d98c5ee",
       "version_major": 2,
       "version_minor": 0
      },
      "text/plain": [
       "Split strings:   0%|          | 0/1 [00:00<?, ?it/s]"
      ]
     },
     "metadata": {},
     "output_type": "display_data"
    },
    {
     "data": {
      "application/vnd.jupyter.widget-view+json": {
       "model_id": "f00ba70b5b7f49edaf95035af9e02e2c",
       "version_major": 2,
       "version_minor": 0
      },
      "text/plain": [
       "BM25S Retrieve:   0%|          | 0/1 [00:00<?, ?it/s]"
      ]
     },
     "metadata": {},
     "output_type": "display_data"
    },
    {
     "data": {
      "application/vnd.jupyter.widget-view+json": {
       "model_id": "ce6157a371734a57bf53beab57cb7f4f",
       "version_major": 2,
       "version_minor": 0
      },
      "text/plain": [
       "Fetching 9 files:   0%|          | 0/9 [00:00<?, ?it/s]"
      ]
     },
     "metadata": {},
     "output_type": "display_data"
    },
    {
     "data": {
      "application/vnd.jupyter.widget-view+json": {
       "model_id": "0e69fb72002c48d4b79e7688d6dd2cdd",
       "version_major": 2,
       "version_minor": 0
      },
      "text/plain": [
       "Split strings:   0%|          | 0/1 [00:00<?, ?it/s]"
      ]
     },
     "metadata": {},
     "output_type": "display_data"
    },
    {
     "data": {
      "application/vnd.jupyter.widget-view+json": {
       "model_id": "73dd4372c73347bfb88348f61a4337e9",
       "version_major": 2,
       "version_minor": 0
      },
      "text/plain": [
       "BM25S Retrieve:   0%|          | 0/1 [00:00<?, ?it/s]"
      ]
     },
     "metadata": {},
     "output_type": "display_data"
    },
    {
     "data": {
      "application/vnd.jupyter.widget-view+json": {
       "model_id": "8cece2a0bbf54a149604f368b203305c",
       "version_major": 2,
       "version_minor": 0
      },
      "text/plain": [
       "Fetching 9 files:   0%|          | 0/9 [00:00<?, ?it/s]"
      ]
     },
     "metadata": {},
     "output_type": "display_data"
    },
    {
     "data": {
      "application/vnd.jupyter.widget-view+json": {
       "model_id": "eefe9df151004184994d888fdcaa5b03",
       "version_major": 2,
       "version_minor": 0
      },
      "text/plain": [
       "Split strings:   0%|          | 0/1 [00:00<?, ?it/s]"
      ]
     },
     "metadata": {},
     "output_type": "display_data"
    },
    {
     "data": {
      "application/vnd.jupyter.widget-view+json": {
       "model_id": "a32f6cb1789246e9848c1f658edc632f",
       "version_major": 2,
       "version_minor": 0
      },
      "text/plain": [
       "BM25S Retrieve:   0%|          | 0/1 [00:00<?, ?it/s]"
      ]
     },
     "metadata": {},
     "output_type": "display_data"
    },
    {
     "data": {
      "application/vnd.jupyter.widget-view+json": {
       "model_id": "e5401f022b2a4f1783ef57c683d541e9",
       "version_major": 2,
       "version_minor": 0
      },
      "text/plain": [
       "Fetching 9 files:   0%|          | 0/9 [00:00<?, ?it/s]"
      ]
     },
     "metadata": {},
     "output_type": "display_data"
    },
    {
     "data": {
      "application/vnd.jupyter.widget-view+json": {
       "model_id": "d561f12f44c24808834b84f49a37a695",
       "version_major": 2,
       "version_minor": 0
      },
      "text/plain": [
       "Split strings:   0%|          | 0/1 [00:00<?, ?it/s]"
      ]
     },
     "metadata": {},
     "output_type": "display_data"
    },
    {
     "data": {
      "application/vnd.jupyter.widget-view+json": {
       "model_id": "65c9212629f64e3e8dc2ee180dd3102d",
       "version_major": 2,
       "version_minor": 0
      },
      "text/plain": [
       "BM25S Retrieve:   0%|          | 0/1 [00:00<?, ?it/s]"
      ]
     },
     "metadata": {},
     "output_type": "display_data"
    },
    {
     "data": {
      "application/vnd.jupyter.widget-view+json": {
       "model_id": "858f8acb441149a8b88674146f55feff",
       "version_major": 2,
       "version_minor": 0
      },
      "text/plain": [
       "Fetching 9 files:   0%|          | 0/9 [00:00<?, ?it/s]"
      ]
     },
     "metadata": {},
     "output_type": "display_data"
    },
    {
     "data": {
      "application/vnd.jupyter.widget-view+json": {
       "model_id": "ad0d9dc3d94042baa016f8c3956e0a23",
       "version_major": 2,
       "version_minor": 0
      },
      "text/plain": [
       "Split strings:   0%|          | 0/1 [00:00<?, ?it/s]"
      ]
     },
     "metadata": {},
     "output_type": "display_data"
    },
    {
     "data": {
      "application/vnd.jupyter.widget-view+json": {
       "model_id": "2c4a79425a6a446187f257138f564df4",
       "version_major": 2,
       "version_minor": 0
      },
      "text/plain": [
       "BM25S Retrieve:   0%|          | 0/1 [00:00<?, ?it/s]"
      ]
     },
     "metadata": {},
     "output_type": "display_data"
    },
    {
     "data": {
      "application/vnd.jupyter.widget-view+json": {
       "model_id": "ccca82bf35ab431790076a1ff753b727",
       "version_major": 2,
       "version_minor": 0
      },
      "text/plain": [
       "Fetching 9 files:   0%|          | 0/9 [00:00<?, ?it/s]"
      ]
     },
     "metadata": {},
     "output_type": "display_data"
    },
    {
     "data": {
      "application/vnd.jupyter.widget-view+json": {
       "model_id": "6ff1c64944af484483b90e22a2199095",
       "version_major": 2,
       "version_minor": 0
      },
      "text/plain": [
       "Split strings:   0%|          | 0/1 [00:00<?, ?it/s]"
      ]
     },
     "metadata": {},
     "output_type": "display_data"
    },
    {
     "data": {
      "application/vnd.jupyter.widget-view+json": {
       "model_id": "bb53c7491e324f2883510079813be6ca",
       "version_major": 2,
       "version_minor": 0
      },
      "text/plain": [
       "BM25S Retrieve:   0%|          | 0/1 [00:00<?, ?it/s]"
      ]
     },
     "metadata": {},
     "output_type": "display_data"
    },
    {
     "data": {
      "application/vnd.jupyter.widget-view+json": {
       "model_id": "fffce54ebd1f4a8ea3ae330e38bab9ac",
       "version_major": 2,
       "version_minor": 0
      },
      "text/plain": [
       "Fetching 9 files:   0%|          | 0/9 [00:00<?, ?it/s]"
      ]
     },
     "metadata": {},
     "output_type": "display_data"
    },
    {
     "data": {
      "application/vnd.jupyter.widget-view+json": {
       "model_id": "fa0bb4f62a2148b48a14d4c58eef3e4e",
       "version_major": 2,
       "version_minor": 0
      },
      "text/plain": [
       "Split strings:   0%|          | 0/1 [00:00<?, ?it/s]"
      ]
     },
     "metadata": {},
     "output_type": "display_data"
    },
    {
     "data": {
      "application/vnd.jupyter.widget-view+json": {
       "model_id": "705bb99cdd2849f0a30f40506ab0470b",
       "version_major": 2,
       "version_minor": 0
      },
      "text/plain": [
       "BM25S Retrieve:   0%|          | 0/1 [00:00<?, ?it/s]"
      ]
     },
     "metadata": {},
     "output_type": "display_data"
    },
    {
     "data": {
      "application/vnd.jupyter.widget-view+json": {
       "model_id": "c0843cb743cf47a98a6f00d02c4e5cf7",
       "version_major": 2,
       "version_minor": 0
      },
      "text/plain": [
       "Fetching 9 files:   0%|          | 0/9 [00:00<?, ?it/s]"
      ]
     },
     "metadata": {},
     "output_type": "display_data"
    },
    {
     "data": {
      "application/vnd.jupyter.widget-view+json": {
       "model_id": "b117524d02cf422799d8b957be2c7beb",
       "version_major": 2,
       "version_minor": 0
      },
      "text/plain": [
       "Split strings:   0%|          | 0/1 [00:00<?, ?it/s]"
      ]
     },
     "metadata": {},
     "output_type": "display_data"
    },
    {
     "data": {
      "application/vnd.jupyter.widget-view+json": {
       "model_id": "ce794c56cb1949718a0eecbdf5ad6d18",
       "version_major": 2,
       "version_minor": 0
      },
      "text/plain": [
       "BM25S Retrieve:   0%|          | 0/1 [00:00<?, ?it/s]"
      ]
     },
     "metadata": {},
     "output_type": "display_data"
    },
    {
     "data": {
      "application/vnd.jupyter.widget-view+json": {
       "model_id": "539f1e4a29174b2b84bad118958e1500",
       "version_major": 2,
       "version_minor": 0
      },
      "text/plain": [
       "Fetching 9 files:   0%|          | 0/9 [00:00<?, ?it/s]"
      ]
     },
     "metadata": {},
     "output_type": "display_data"
    },
    {
     "data": {
      "application/vnd.jupyter.widget-view+json": {
       "model_id": "2f75ad371b3544048edf12b29f8a9bf4",
       "version_major": 2,
       "version_minor": 0
      },
      "text/plain": [
       "Split strings:   0%|          | 0/1 [00:00<?, ?it/s]"
      ]
     },
     "metadata": {},
     "output_type": "display_data"
    },
    {
     "data": {
      "application/vnd.jupyter.widget-view+json": {
       "model_id": "a6cfcd2a07954f87b027604a97598964",
       "version_major": 2,
       "version_minor": 0
      },
      "text/plain": [
       "BM25S Retrieve:   0%|          | 0/1 [00:00<?, ?it/s]"
      ]
     },
     "metadata": {},
     "output_type": "display_data"
    },
    {
     "data": {
      "application/vnd.jupyter.widget-view+json": {
       "model_id": "0ee337db5c9b421192f903cbcb6b6d04",
       "version_major": 2,
       "version_minor": 0
      },
      "text/plain": [
       "Fetching 9 files:   0%|          | 0/9 [00:00<?, ?it/s]"
      ]
     },
     "metadata": {},
     "output_type": "display_data"
    },
    {
     "data": {
      "application/vnd.jupyter.widget-view+json": {
       "model_id": "3b3434aad5be48ba8500b404b2860443",
       "version_major": 2,
       "version_minor": 0
      },
      "text/plain": [
       "Split strings:   0%|          | 0/1 [00:00<?, ?it/s]"
      ]
     },
     "metadata": {},
     "output_type": "display_data"
    },
    {
     "data": {
      "application/vnd.jupyter.widget-view+json": {
       "model_id": "fe345192a1d24b3d88bc552b6e39709d",
       "version_major": 2,
       "version_minor": 0
      },
      "text/plain": [
       "BM25S Retrieve:   0%|          | 0/1 [00:00<?, ?it/s]"
      ]
     },
     "metadata": {},
     "output_type": "display_data"
    },
    {
     "data": {
      "application/vnd.jupyter.widget-view+json": {
       "model_id": "1b9c4ff1d0864098a2ae42e29321fba4",
       "version_major": 2,
       "version_minor": 0
      },
      "text/plain": [
       "Fetching 9 files:   0%|          | 0/9 [00:00<?, ?it/s]"
      ]
     },
     "metadata": {},
     "output_type": "display_data"
    },
    {
     "data": {
      "application/vnd.jupyter.widget-view+json": {
       "model_id": "f21c7757f4054430aeb0908355496b31",
       "version_major": 2,
       "version_minor": 0
      },
      "text/plain": [
       "Split strings:   0%|          | 0/1 [00:00<?, ?it/s]"
      ]
     },
     "metadata": {},
     "output_type": "display_data"
    },
    {
     "data": {
      "application/vnd.jupyter.widget-view+json": {
       "model_id": "0cd7559348b44c08b8c5ada681cb3dd5",
       "version_major": 2,
       "version_minor": 0
      },
      "text/plain": [
       "BM25S Retrieve:   0%|          | 0/1 [00:00<?, ?it/s]"
      ]
     },
     "metadata": {},
     "output_type": "display_data"
    },
    {
     "data": {
      "application/vnd.jupyter.widget-view+json": {
       "model_id": "b33347d93d5146c78b96dbb1815eda74",
       "version_major": 2,
       "version_minor": 0
      },
      "text/plain": [
       "Fetching 9 files:   0%|          | 0/9 [00:00<?, ?it/s]"
      ]
     },
     "metadata": {},
     "output_type": "display_data"
    },
    {
     "data": {
      "application/vnd.jupyter.widget-view+json": {
       "model_id": "467d70bf239047e38f06f54a11325b99",
       "version_major": 2,
       "version_minor": 0
      },
      "text/plain": [
       "Split strings:   0%|          | 0/1 [00:00<?, ?it/s]"
      ]
     },
     "metadata": {},
     "output_type": "display_data"
    },
    {
     "data": {
      "application/vnd.jupyter.widget-view+json": {
       "model_id": "4455ff98f5694e1b9f5b6b632dbbac66",
       "version_major": 2,
       "version_minor": 0
      },
      "text/plain": [
       "BM25S Retrieve:   0%|          | 0/1 [00:00<?, ?it/s]"
      ]
     },
     "metadata": {},
     "output_type": "display_data"
    },
    {
     "data": {
      "application/vnd.jupyter.widget-view+json": {
       "model_id": "987f3597f89b4ff0867a857dc5c688e9",
       "version_major": 2,
       "version_minor": 0
      },
      "text/plain": [
       "Fetching 9 files:   0%|          | 0/9 [00:00<?, ?it/s]"
      ]
     },
     "metadata": {},
     "output_type": "display_data"
    },
    {
     "data": {
      "application/vnd.jupyter.widget-view+json": {
       "model_id": "ef2280a0e6264873a5bef756dfd47d98",
       "version_major": 2,
       "version_minor": 0
      },
      "text/plain": [
       "Split strings:   0%|          | 0/1 [00:00<?, ?it/s]"
      ]
     },
     "metadata": {},
     "output_type": "display_data"
    },
    {
     "data": {
      "application/vnd.jupyter.widget-view+json": {
       "model_id": "7fd0b765a94c452eaadee08e1b42765a",
       "version_major": 2,
       "version_minor": 0
      },
      "text/plain": [
       "BM25S Retrieve:   0%|          | 0/1 [00:00<?, ?it/s]"
      ]
     },
     "metadata": {},
     "output_type": "display_data"
    },
    {
     "data": {
      "application/vnd.jupyter.widget-view+json": {
       "model_id": "73761aee2a984c4a9190728e600bf2b8",
       "version_major": 2,
       "version_minor": 0
      },
      "text/plain": [
       "Fetching 9 files:   0%|          | 0/9 [00:00<?, ?it/s]"
      ]
     },
     "metadata": {},
     "output_type": "display_data"
    },
    {
     "data": {
      "application/vnd.jupyter.widget-view+json": {
       "model_id": "1fa9d715c5d54cd289804398041bb372",
       "version_major": 2,
       "version_minor": 0
      },
      "text/plain": [
       "Split strings:   0%|          | 0/1 [00:00<?, ?it/s]"
      ]
     },
     "metadata": {},
     "output_type": "display_data"
    },
    {
     "data": {
      "application/vnd.jupyter.widget-view+json": {
       "model_id": "bdf063ac8bed49188a3eceb3c8019faf",
       "version_major": 2,
       "version_minor": 0
      },
      "text/plain": [
       "BM25S Retrieve:   0%|          | 0/1 [00:00<?, ?it/s]"
      ]
     },
     "metadata": {},
     "output_type": "display_data"
    },
    {
     "data": {
      "application/vnd.jupyter.widget-view+json": {
       "model_id": "37d258511d114ac8bda2b24122f9b8ed",
       "version_major": 2,
       "version_minor": 0
      },
      "text/plain": [
       "Fetching 9 files:   0%|          | 0/9 [00:00<?, ?it/s]"
      ]
     },
     "metadata": {},
     "output_type": "display_data"
    },
    {
     "data": {
      "application/vnd.jupyter.widget-view+json": {
       "model_id": "166c66ef57da406fa2a9925cc9dbe1dd",
       "version_major": 2,
       "version_minor": 0
      },
      "text/plain": [
       "Split strings:   0%|          | 0/1 [00:00<?, ?it/s]"
      ]
     },
     "metadata": {},
     "output_type": "display_data"
    },
    {
     "data": {
      "application/vnd.jupyter.widget-view+json": {
       "model_id": "71f7c24a17804f2391f9eb612f859b2f",
       "version_major": 2,
       "version_minor": 0
      },
      "text/plain": [
       "BM25S Retrieve:   0%|          | 0/1 [00:00<?, ?it/s]"
      ]
     },
     "metadata": {},
     "output_type": "display_data"
    },
    {
     "data": {
      "application/vnd.jupyter.widget-view+json": {
       "model_id": "0c9e9a0bc3674c449cc2f1a20ad68371",
       "version_major": 2,
       "version_minor": 0
      },
      "text/plain": [
       "Fetching 9 files:   0%|          | 0/9 [00:00<?, ?it/s]"
      ]
     },
     "metadata": {},
     "output_type": "display_data"
    },
    {
     "data": {
      "application/vnd.jupyter.widget-view+json": {
       "model_id": "488ee471bb3d4e32ac7ac80b3ec5ded8",
       "version_major": 2,
       "version_minor": 0
      },
      "text/plain": [
       "Split strings:   0%|          | 0/1 [00:00<?, ?it/s]"
      ]
     },
     "metadata": {},
     "output_type": "display_data"
    },
    {
     "data": {
      "application/vnd.jupyter.widget-view+json": {
       "model_id": "8bf9359b3e81459cb088f901b9958fa2",
       "version_major": 2,
       "version_minor": 0
      },
      "text/plain": [
       "BM25S Retrieve:   0%|          | 0/1 [00:00<?, ?it/s]"
      ]
     },
     "metadata": {},
     "output_type": "display_data"
    },
    {
     "data": {
      "application/vnd.jupyter.widget-view+json": {
       "model_id": "accc447ae8984100bc6fd5aad62ade44",
       "version_major": 2,
       "version_minor": 0
      },
      "text/plain": [
       "Fetching 9 files:   0%|          | 0/9 [00:00<?, ?it/s]"
      ]
     },
     "metadata": {},
     "output_type": "display_data"
    },
    {
     "data": {
      "application/vnd.jupyter.widget-view+json": {
       "model_id": "afeb0143361b41a7811906d90cc5339c",
       "version_major": 2,
       "version_minor": 0
      },
      "text/plain": [
       "Split strings:   0%|          | 0/1 [00:00<?, ?it/s]"
      ]
     },
     "metadata": {},
     "output_type": "display_data"
    },
    {
     "data": {
      "application/vnd.jupyter.widget-view+json": {
       "model_id": "0b8aa89e6fd147e3b2db7da9d7be3d45",
       "version_major": 2,
       "version_minor": 0
      },
      "text/plain": [
       "BM25S Retrieve:   0%|          | 0/1 [00:00<?, ?it/s]"
      ]
     },
     "metadata": {},
     "output_type": "display_data"
    },
    {
     "data": {
      "application/vnd.jupyter.widget-view+json": {
       "model_id": "299b5059e6674b1b9ec9a0ff003e4725",
       "version_major": 2,
       "version_minor": 0
      },
      "text/plain": [
       "Fetching 9 files:   0%|          | 0/9 [00:00<?, ?it/s]"
      ]
     },
     "metadata": {},
     "output_type": "display_data"
    },
    {
     "data": {
      "application/vnd.jupyter.widget-view+json": {
       "model_id": "68a6e267e83e46f0916af6878bec84b7",
       "version_major": 2,
       "version_minor": 0
      },
      "text/plain": [
       "Split strings:   0%|          | 0/1 [00:00<?, ?it/s]"
      ]
     },
     "metadata": {},
     "output_type": "display_data"
    },
    {
     "data": {
      "application/vnd.jupyter.widget-view+json": {
       "model_id": "94e89ecb7ddc46c6b7e83f3c6d3205ca",
       "version_major": 2,
       "version_minor": 0
      },
      "text/plain": [
       "BM25S Retrieve:   0%|          | 0/1 [00:00<?, ?it/s]"
      ]
     },
     "metadata": {},
     "output_type": "display_data"
    },
    {
     "data": {
      "application/vnd.jupyter.widget-view+json": {
       "model_id": "ce1d4040c9a143f0b03b343bf33df961",
       "version_major": 2,
       "version_minor": 0
      },
      "text/plain": [
       "Fetching 9 files:   0%|          | 0/9 [00:00<?, ?it/s]"
      ]
     },
     "metadata": {},
     "output_type": "display_data"
    },
    {
     "data": {
      "application/vnd.jupyter.widget-view+json": {
       "model_id": "9b2ed1460fc849d282b5703055edcc37",
       "version_major": 2,
       "version_minor": 0
      },
      "text/plain": [
       "Split strings:   0%|          | 0/1 [00:00<?, ?it/s]"
      ]
     },
     "metadata": {},
     "output_type": "display_data"
    },
    {
     "data": {
      "application/vnd.jupyter.widget-view+json": {
       "model_id": "d15e3aaf1ac44ceaad421b1eef42dd67",
       "version_major": 2,
       "version_minor": 0
      },
      "text/plain": [
       "BM25S Retrieve:   0%|          | 0/1 [00:00<?, ?it/s]"
      ]
     },
     "metadata": {},
     "output_type": "display_data"
    },
    {
     "data": {
      "application/vnd.jupyter.widget-view+json": {
       "model_id": "60b3aa255bdd46adb061c869a9bde62f",
       "version_major": 2,
       "version_minor": 0
      },
      "text/plain": [
       "Fetching 9 files:   0%|          | 0/9 [00:00<?, ?it/s]"
      ]
     },
     "metadata": {},
     "output_type": "display_data"
    },
    {
     "data": {
      "application/vnd.jupyter.widget-view+json": {
       "model_id": "9ca3f8d2d7e84ab2bbad67851fe352e0",
       "version_major": 2,
       "version_minor": 0
      },
      "text/plain": [
       "Split strings:   0%|          | 0/1 [00:00<?, ?it/s]"
      ]
     },
     "metadata": {},
     "output_type": "display_data"
    },
    {
     "data": {
      "application/vnd.jupyter.widget-view+json": {
       "model_id": "2120cda1520c454e9d579da0d4c90a9e",
       "version_major": 2,
       "version_minor": 0
      },
      "text/plain": [
       "BM25S Retrieve:   0%|          | 0/1 [00:00<?, ?it/s]"
      ]
     },
     "metadata": {},
     "output_type": "display_data"
    },
    {
     "data": {
      "application/vnd.jupyter.widget-view+json": {
       "model_id": "28a53c553a074e9eb28c5ba96144f11c",
       "version_major": 2,
       "version_minor": 0
      },
      "text/plain": [
       "Fetching 9 files:   0%|          | 0/9 [00:00<?, ?it/s]"
      ]
     },
     "metadata": {},
     "output_type": "display_data"
    },
    {
     "data": {
      "application/vnd.jupyter.widget-view+json": {
       "model_id": "39f2e989ca3b446f84356cf5c73d697d",
       "version_major": 2,
       "version_minor": 0
      },
      "text/plain": [
       "Split strings:   0%|          | 0/1 [00:00<?, ?it/s]"
      ]
     },
     "metadata": {},
     "output_type": "display_data"
    },
    {
     "data": {
      "application/vnd.jupyter.widget-view+json": {
       "model_id": "947a8f21535d443d90aeefa8bc87c659",
       "version_major": 2,
       "version_minor": 0
      },
      "text/plain": [
       "BM25S Retrieve:   0%|          | 0/1 [00:00<?, ?it/s]"
      ]
     },
     "metadata": {},
     "output_type": "display_data"
    },
    {
     "data": {
      "application/vnd.jupyter.widget-view+json": {
       "model_id": "4734e261e81643fca2a2d7243449b31b",
       "version_major": 2,
       "version_minor": 0
      },
      "text/plain": [
       "Fetching 9 files:   0%|          | 0/9 [00:00<?, ?it/s]"
      ]
     },
     "metadata": {},
     "output_type": "display_data"
    },
    {
     "data": {
      "application/vnd.jupyter.widget-view+json": {
       "model_id": "4f94df2f17ad4ce792a0588294d492b7",
       "version_major": 2,
       "version_minor": 0
      },
      "text/plain": [
       "Split strings:   0%|          | 0/1 [00:00<?, ?it/s]"
      ]
     },
     "metadata": {},
     "output_type": "display_data"
    },
    {
     "data": {
      "application/vnd.jupyter.widget-view+json": {
       "model_id": "95a92953fa0c47abb98a65904d4a262f",
       "version_major": 2,
       "version_minor": 0
      },
      "text/plain": [
       "BM25S Retrieve:   0%|          | 0/1 [00:00<?, ?it/s]"
      ]
     },
     "metadata": {},
     "output_type": "display_data"
    },
    {
     "data": {
      "application/vnd.jupyter.widget-view+json": {
       "model_id": "73a91bd8b7934683a5f163cb4876be48",
       "version_major": 2,
       "version_minor": 0
      },
      "text/plain": [
       "Fetching 9 files:   0%|          | 0/9 [00:00<?, ?it/s]"
      ]
     },
     "metadata": {},
     "output_type": "display_data"
    },
    {
     "data": {
      "application/vnd.jupyter.widget-view+json": {
       "model_id": "6b9366c34308472ebf2dfffbbd7dd7db",
       "version_major": 2,
       "version_minor": 0
      },
      "text/plain": [
       "Split strings:   0%|          | 0/1 [00:00<?, ?it/s]"
      ]
     },
     "metadata": {},
     "output_type": "display_data"
    },
    {
     "data": {
      "application/vnd.jupyter.widget-view+json": {
       "model_id": "10414adb639847efa7ad7658198807bc",
       "version_major": 2,
       "version_minor": 0
      },
      "text/plain": [
       "BM25S Retrieve:   0%|          | 0/1 [00:00<?, ?it/s]"
      ]
     },
     "metadata": {},
     "output_type": "display_data"
    },
    {
     "data": {
      "application/vnd.jupyter.widget-view+json": {
       "model_id": "cf751677424742a19466d7e49449f52f",
       "version_major": 2,
       "version_minor": 0
      },
      "text/plain": [
       "Fetching 9 files:   0%|          | 0/9 [00:00<?, ?it/s]"
      ]
     },
     "metadata": {},
     "output_type": "display_data"
    },
    {
     "data": {
      "application/vnd.jupyter.widget-view+json": {
       "model_id": "48c210795dff4a22b926a08797b54191",
       "version_major": 2,
       "version_minor": 0
      },
      "text/plain": [
       "Split strings:   0%|          | 0/1 [00:00<?, ?it/s]"
      ]
     },
     "metadata": {},
     "output_type": "display_data"
    },
    {
     "data": {
      "application/vnd.jupyter.widget-view+json": {
       "model_id": "21948f86853c445682c24206a6249b44",
       "version_major": 2,
       "version_minor": 0
      },
      "text/plain": [
       "BM25S Retrieve:   0%|          | 0/1 [00:00<?, ?it/s]"
      ]
     },
     "metadata": {},
     "output_type": "display_data"
    },
    {
     "data": {
      "application/vnd.jupyter.widget-view+json": {
       "model_id": "51f1335a80294184aff27ef074c6a23d",
       "version_major": 2,
       "version_minor": 0
      },
      "text/plain": [
       "Fetching 9 files:   0%|          | 0/9 [00:00<?, ?it/s]"
      ]
     },
     "metadata": {},
     "output_type": "display_data"
    },
    {
     "data": {
      "application/vnd.jupyter.widget-view+json": {
       "model_id": "287d34735dff403c84dd6ec4e594c005",
       "version_major": 2,
       "version_minor": 0
      },
      "text/plain": [
       "Split strings:   0%|          | 0/1 [00:00<?, ?it/s]"
      ]
     },
     "metadata": {},
     "output_type": "display_data"
    },
    {
     "data": {
      "application/vnd.jupyter.widget-view+json": {
       "model_id": "e7a5656376e748f2aa2d00613bfa6045",
       "version_major": 2,
       "version_minor": 0
      },
      "text/plain": [
       "BM25S Retrieve:   0%|          | 0/1 [00:00<?, ?it/s]"
      ]
     },
     "metadata": {},
     "output_type": "display_data"
    },
    {
     "data": {
      "application/vnd.jupyter.widget-view+json": {
       "model_id": "b7e228b7a59e45ce88ac3c1d1709a685",
       "version_major": 2,
       "version_minor": 0
      },
      "text/plain": [
       "Fetching 9 files:   0%|          | 0/9 [00:00<?, ?it/s]"
      ]
     },
     "metadata": {},
     "output_type": "display_data"
    },
    {
     "data": {
      "application/vnd.jupyter.widget-view+json": {
       "model_id": "866d55b461b548b38c560b0d95e43740",
       "version_major": 2,
       "version_minor": 0
      },
      "text/plain": [
       "Split strings:   0%|          | 0/1 [00:00<?, ?it/s]"
      ]
     },
     "metadata": {},
     "output_type": "display_data"
    },
    {
     "data": {
      "application/vnd.jupyter.widget-view+json": {
       "model_id": "ae0cd9c6de014e1cb60640ee3142e53b",
       "version_major": 2,
       "version_minor": 0
      },
      "text/plain": [
       "BM25S Retrieve:   0%|          | 0/1 [00:00<?, ?it/s]"
      ]
     },
     "metadata": {},
     "output_type": "display_data"
    },
    {
     "data": {
      "application/vnd.jupyter.widget-view+json": {
       "model_id": "fb2aea7b1d954e7eb6adcb309bd1974c",
       "version_major": 2,
       "version_minor": 0
      },
      "text/plain": [
       "Fetching 9 files:   0%|          | 0/9 [00:00<?, ?it/s]"
      ]
     },
     "metadata": {},
     "output_type": "display_data"
    },
    {
     "data": {
      "application/vnd.jupyter.widget-view+json": {
       "model_id": "1d635b53e5754538849f68bbaf9ce752",
       "version_major": 2,
       "version_minor": 0
      },
      "text/plain": [
       "Split strings:   0%|          | 0/1 [00:00<?, ?it/s]"
      ]
     },
     "metadata": {},
     "output_type": "display_data"
    },
    {
     "data": {
      "application/vnd.jupyter.widget-view+json": {
       "model_id": "d554a7e4e7db4fbcb36e7dcfcaa7881d",
       "version_major": 2,
       "version_minor": 0
      },
      "text/plain": [
       "BM25S Retrieve:   0%|          | 0/1 [00:00<?, ?it/s]"
      ]
     },
     "metadata": {},
     "output_type": "display_data"
    },
    {
     "data": {
      "application/vnd.jupyter.widget-view+json": {
       "model_id": "520c0c5f469b4d70af34b7b23fe4ae03",
       "version_major": 2,
       "version_minor": 0
      },
      "text/plain": [
       "Fetching 9 files:   0%|          | 0/9 [00:00<?, ?it/s]"
      ]
     },
     "metadata": {},
     "output_type": "display_data"
    },
    {
     "data": {
      "application/vnd.jupyter.widget-view+json": {
       "model_id": "f7f02dc43be243368fb76fcdb60e6304",
       "version_major": 2,
       "version_minor": 0
      },
      "text/plain": [
       "Split strings:   0%|          | 0/1 [00:00<?, ?it/s]"
      ]
     },
     "metadata": {},
     "output_type": "display_data"
    },
    {
     "data": {
      "application/vnd.jupyter.widget-view+json": {
       "model_id": "72839b1259734b43956dd166ca0af0dc",
       "version_major": 2,
       "version_minor": 0
      },
      "text/plain": [
       "BM25S Retrieve:   0%|          | 0/1 [00:00<?, ?it/s]"
      ]
     },
     "metadata": {},
     "output_type": "display_data"
    },
    {
     "data": {
      "application/vnd.jupyter.widget-view+json": {
       "model_id": "2a3df9f162d44e35b00d2cbe33da3710",
       "version_major": 2,
       "version_minor": 0
      },
      "text/plain": [
       "Fetching 9 files:   0%|          | 0/9 [00:00<?, ?it/s]"
      ]
     },
     "metadata": {},
     "output_type": "display_data"
    },
    {
     "data": {
      "application/vnd.jupyter.widget-view+json": {
       "model_id": "9396f09bfef849f79b3751dd972652c6",
       "version_major": 2,
       "version_minor": 0
      },
      "text/plain": [
       "Split strings:   0%|          | 0/1 [00:00<?, ?it/s]"
      ]
     },
     "metadata": {},
     "output_type": "display_data"
    },
    {
     "data": {
      "application/vnd.jupyter.widget-view+json": {
       "model_id": "953b33bd32b042e78ad4742dfff6e078",
       "version_major": 2,
       "version_minor": 0
      },
      "text/plain": [
       "BM25S Retrieve:   0%|          | 0/1 [00:00<?, ?it/s]"
      ]
     },
     "metadata": {},
     "output_type": "display_data"
    },
    {
     "data": {
      "application/vnd.jupyter.widget-view+json": {
       "model_id": "5eaaf6a69f4d4ade9869b385c8f3f0f1",
       "version_major": 2,
       "version_minor": 0
      },
      "text/plain": [
       "Fetching 9 files:   0%|          | 0/9 [00:00<?, ?it/s]"
      ]
     },
     "metadata": {},
     "output_type": "display_data"
    },
    {
     "data": {
      "application/vnd.jupyter.widget-view+json": {
       "model_id": "8f72bcc6bb294e7581db18bda4745dc2",
       "version_major": 2,
       "version_minor": 0
      },
      "text/plain": [
       "Split strings:   0%|          | 0/1 [00:00<?, ?it/s]"
      ]
     },
     "metadata": {},
     "output_type": "display_data"
    },
    {
     "data": {
      "application/vnd.jupyter.widget-view+json": {
       "model_id": "f2f60edffe0c498a8c01be1a8da5b087",
       "version_major": 2,
       "version_minor": 0
      },
      "text/plain": [
       "BM25S Retrieve:   0%|          | 0/1 [00:00<?, ?it/s]"
      ]
     },
     "metadata": {},
     "output_type": "display_data"
    },
    {
     "data": {
      "application/vnd.jupyter.widget-view+json": {
       "model_id": "753bd67d4d9d45198468ea3d7feb94c4",
       "version_major": 2,
       "version_minor": 0
      },
      "text/plain": [
       "Fetching 9 files:   0%|          | 0/9 [00:00<?, ?it/s]"
      ]
     },
     "metadata": {},
     "output_type": "display_data"
    },
    {
     "data": {
      "application/vnd.jupyter.widget-view+json": {
       "model_id": "19ef1e152eab4b62930b690a6b941b6b",
       "version_major": 2,
       "version_minor": 0
      },
      "text/plain": [
       "Split strings:   0%|          | 0/1 [00:00<?, ?it/s]"
      ]
     },
     "metadata": {},
     "output_type": "display_data"
    },
    {
     "data": {
      "application/vnd.jupyter.widget-view+json": {
       "model_id": "c47e7a32a624458f8228afa74e782e51",
       "version_major": 2,
       "version_minor": 0
      },
      "text/plain": [
       "BM25S Retrieve:   0%|          | 0/1 [00:00<?, ?it/s]"
      ]
     },
     "metadata": {},
     "output_type": "display_data"
    },
    {
     "data": {
      "application/vnd.jupyter.widget-view+json": {
       "model_id": "8adfd5435c8c40e99f39cd3ea456dbca",
       "version_major": 2,
       "version_minor": 0
      },
      "text/plain": [
       "Fetching 9 files:   0%|          | 0/9 [00:00<?, ?it/s]"
      ]
     },
     "metadata": {},
     "output_type": "display_data"
    },
    {
     "data": {
      "application/vnd.jupyter.widget-view+json": {
       "model_id": "00cb5dcc42924083bba67ecb93ad5c42",
       "version_major": 2,
       "version_minor": 0
      },
      "text/plain": [
       "Split strings:   0%|          | 0/1 [00:00<?, ?it/s]"
      ]
     },
     "metadata": {},
     "output_type": "display_data"
    },
    {
     "data": {
      "application/vnd.jupyter.widget-view+json": {
       "model_id": "afb22be8966740a1a16cf7a61af3aabd",
       "version_major": 2,
       "version_minor": 0
      },
      "text/plain": [
       "BM25S Retrieve:   0%|          | 0/1 [00:00<?, ?it/s]"
      ]
     },
     "metadata": {},
     "output_type": "display_data"
    },
    {
     "data": {
      "application/vnd.jupyter.widget-view+json": {
       "model_id": "4d34218c9a3e456cb7b79c8079dc2cd7",
       "version_major": 2,
       "version_minor": 0
      },
      "text/plain": [
       "Fetching 9 files:   0%|          | 0/9 [00:00<?, ?it/s]"
      ]
     },
     "metadata": {},
     "output_type": "display_data"
    },
    {
     "data": {
      "application/vnd.jupyter.widget-view+json": {
       "model_id": "0b1f3617bbcf414e8f1dc711ebf9854e",
       "version_major": 2,
       "version_minor": 0
      },
      "text/plain": [
       "Split strings:   0%|          | 0/1 [00:00<?, ?it/s]"
      ]
     },
     "metadata": {},
     "output_type": "display_data"
    },
    {
     "data": {
      "application/vnd.jupyter.widget-view+json": {
       "model_id": "3201888e9f424530b23b388c398fe03c",
       "version_major": 2,
       "version_minor": 0
      },
      "text/plain": [
       "BM25S Retrieve:   0%|          | 0/1 [00:00<?, ?it/s]"
      ]
     },
     "metadata": {},
     "output_type": "display_data"
    },
    {
     "data": {
      "application/vnd.jupyter.widget-view+json": {
       "model_id": "a4787f9c8f244651b2aa9ec64cbbbeb3",
       "version_major": 2,
       "version_minor": 0
      },
      "text/plain": [
       "Fetching 9 files:   0%|          | 0/9 [00:00<?, ?it/s]"
      ]
     },
     "metadata": {},
     "output_type": "display_data"
    },
    {
     "data": {
      "application/vnd.jupyter.widget-view+json": {
       "model_id": "78152dd59e374b49adab02f335c05c92",
       "version_major": 2,
       "version_minor": 0
      },
      "text/plain": [
       "Split strings:   0%|          | 0/1 [00:00<?, ?it/s]"
      ]
     },
     "metadata": {},
     "output_type": "display_data"
    },
    {
     "data": {
      "application/vnd.jupyter.widget-view+json": {
       "model_id": "a23a5ae25e0c45099a1b804e2a5e017a",
       "version_major": 2,
       "version_minor": 0
      },
      "text/plain": [
       "BM25S Retrieve:   0%|          | 0/1 [00:00<?, ?it/s]"
      ]
     },
     "metadata": {},
     "output_type": "display_data"
    },
    {
     "data": {
      "application/vnd.jupyter.widget-view+json": {
       "model_id": "0f490525c07c4b89ad3e7a9581e459b6",
       "version_major": 2,
       "version_minor": 0
      },
      "text/plain": [
       "Fetching 9 files:   0%|          | 0/9 [00:00<?, ?it/s]"
      ]
     },
     "metadata": {},
     "output_type": "display_data"
    },
    {
     "data": {
      "application/vnd.jupyter.widget-view+json": {
       "model_id": "df09a90d66d542e090312de9516ff365",
       "version_major": 2,
       "version_minor": 0
      },
      "text/plain": [
       "Split strings:   0%|          | 0/1 [00:00<?, ?it/s]"
      ]
     },
     "metadata": {},
     "output_type": "display_data"
    },
    {
     "data": {
      "application/vnd.jupyter.widget-view+json": {
       "model_id": "e925fb707ffe40598e0a248bef9823da",
       "version_major": 2,
       "version_minor": 0
      },
      "text/plain": [
       "BM25S Retrieve:   0%|          | 0/1 [00:00<?, ?it/s]"
      ]
     },
     "metadata": {},
     "output_type": "display_data"
    },
    {
     "data": {
      "application/vnd.jupyter.widget-view+json": {
       "model_id": "c4bc54298c454bceb6453ce03b1449b0",
       "version_major": 2,
       "version_minor": 0
      },
      "text/plain": [
       "Fetching 9 files:   0%|          | 0/9 [00:00<?, ?it/s]"
      ]
     },
     "metadata": {},
     "output_type": "display_data"
    },
    {
     "data": {
      "application/vnd.jupyter.widget-view+json": {
       "model_id": "46542259bd86496d8b77deaea85121cb",
       "version_major": 2,
       "version_minor": 0
      },
      "text/plain": [
       "Split strings:   0%|          | 0/1 [00:00<?, ?it/s]"
      ]
     },
     "metadata": {},
     "output_type": "display_data"
    },
    {
     "data": {
      "application/vnd.jupyter.widget-view+json": {
       "model_id": "db09c3f7cf034bc18b888cab6343952e",
       "version_major": 2,
       "version_minor": 0
      },
      "text/plain": [
       "BM25S Retrieve:   0%|          | 0/1 [00:00<?, ?it/s]"
      ]
     },
     "metadata": {},
     "output_type": "display_data"
    },
    {
     "data": {
      "application/vnd.jupyter.widget-view+json": {
       "model_id": "651a24465ff847dc86cb87189c0acac2",
       "version_major": 2,
       "version_minor": 0
      },
      "text/plain": [
       "Fetching 9 files:   0%|          | 0/9 [00:00<?, ?it/s]"
      ]
     },
     "metadata": {},
     "output_type": "display_data"
    },
    {
     "data": {
      "application/vnd.jupyter.widget-view+json": {
       "model_id": "8e5adb27422949a3a76362f4fabd404e",
       "version_major": 2,
       "version_minor": 0
      },
      "text/plain": [
       "Split strings:   0%|          | 0/1 [00:00<?, ?it/s]"
      ]
     },
     "metadata": {},
     "output_type": "display_data"
    },
    {
     "data": {
      "application/vnd.jupyter.widget-view+json": {
       "model_id": "52aff49d8c8e4378bd00cac3fced3ea8",
       "version_major": 2,
       "version_minor": 0
      },
      "text/plain": [
       "BM25S Retrieve:   0%|          | 0/1 [00:00<?, ?it/s]"
      ]
     },
     "metadata": {},
     "output_type": "display_data"
    },
    {
     "data": {
      "application/vnd.jupyter.widget-view+json": {
       "model_id": "c55a44468cae4ae89a3df905716f4536",
       "version_major": 2,
       "version_minor": 0
      },
      "text/plain": [
       "Fetching 9 files:   0%|          | 0/9 [00:00<?, ?it/s]"
      ]
     },
     "metadata": {},
     "output_type": "display_data"
    },
    {
     "data": {
      "application/vnd.jupyter.widget-view+json": {
       "model_id": "ca1c4f0fd1024a6ea9ebe806185d46ad",
       "version_major": 2,
       "version_minor": 0
      },
      "text/plain": [
       "Split strings:   0%|          | 0/1 [00:00<?, ?it/s]"
      ]
     },
     "metadata": {},
     "output_type": "display_data"
    },
    {
     "data": {
      "application/vnd.jupyter.widget-view+json": {
       "model_id": "e920963dac7743859a885c5588b37558",
       "version_major": 2,
       "version_minor": 0
      },
      "text/plain": [
       "BM25S Retrieve:   0%|          | 0/1 [00:00<?, ?it/s]"
      ]
     },
     "metadata": {},
     "output_type": "display_data"
    },
    {
     "data": {
      "application/vnd.jupyter.widget-view+json": {
       "model_id": "056ddf72f1b24b2ba55f5b4a9f64158d",
       "version_major": 2,
       "version_minor": 0
      },
      "text/plain": [
       "Fetching 9 files:   0%|          | 0/9 [00:00<?, ?it/s]"
      ]
     },
     "metadata": {},
     "output_type": "display_data"
    },
    {
     "data": {
      "application/vnd.jupyter.widget-view+json": {
       "model_id": "17db09ef7d294787b3794be8bc71d4b8",
       "version_major": 2,
       "version_minor": 0
      },
      "text/plain": [
       "Split strings:   0%|          | 0/1 [00:00<?, ?it/s]"
      ]
     },
     "metadata": {},
     "output_type": "display_data"
    },
    {
     "data": {
      "application/vnd.jupyter.widget-view+json": {
       "model_id": "93b320dfcb544d929a67413c03809e9d",
       "version_major": 2,
       "version_minor": 0
      },
      "text/plain": [
       "BM25S Retrieve:   0%|          | 0/1 [00:00<?, ?it/s]"
      ]
     },
     "metadata": {},
     "output_type": "display_data"
    },
    {
     "data": {
      "application/vnd.jupyter.widget-view+json": {
       "model_id": "00060add283b42369f55dbb21a743afc",
       "version_major": 2,
       "version_minor": 0
      },
      "text/plain": [
       "Fetching 9 files:   0%|          | 0/9 [00:00<?, ?it/s]"
      ]
     },
     "metadata": {},
     "output_type": "display_data"
    },
    {
     "data": {
      "application/vnd.jupyter.widget-view+json": {
       "model_id": "8b82895321aa4d4d8a76a28166330af8",
       "version_major": 2,
       "version_minor": 0
      },
      "text/plain": [
       "Split strings:   0%|          | 0/1 [00:00<?, ?it/s]"
      ]
     },
     "metadata": {},
     "output_type": "display_data"
    },
    {
     "data": {
      "application/vnd.jupyter.widget-view+json": {
       "model_id": "7f15668c53324de9a5a8fa7f491a041c",
       "version_major": 2,
       "version_minor": 0
      },
      "text/plain": [
       "BM25S Retrieve:   0%|          | 0/1 [00:00<?, ?it/s]"
      ]
     },
     "metadata": {},
     "output_type": "display_data"
    },
    {
     "data": {
      "application/vnd.jupyter.widget-view+json": {
       "model_id": "208dd0dd37a84fc2b8f8c2075a459fc8",
       "version_major": 2,
       "version_minor": 0
      },
      "text/plain": [
       "Fetching 9 files:   0%|          | 0/9 [00:00<?, ?it/s]"
      ]
     },
     "metadata": {},
     "output_type": "display_data"
    },
    {
     "data": {
      "application/vnd.jupyter.widget-view+json": {
       "model_id": "13ef144119174fb2b2be6cbb3976408c",
       "version_major": 2,
       "version_minor": 0
      },
      "text/plain": [
       "Split strings:   0%|          | 0/1 [00:00<?, ?it/s]"
      ]
     },
     "metadata": {},
     "output_type": "display_data"
    },
    {
     "data": {
      "application/vnd.jupyter.widget-view+json": {
       "model_id": "82187e3b49734075a504c4637ae82a78",
       "version_major": 2,
       "version_minor": 0
      },
      "text/plain": [
       "BM25S Retrieve:   0%|          | 0/1 [00:00<?, ?it/s]"
      ]
     },
     "metadata": {},
     "output_type": "display_data"
    },
    {
     "data": {
      "application/vnd.jupyter.widget-view+json": {
       "model_id": "c873a0f22e6641f692f7e80e4e4eabb1",
       "version_major": 2,
       "version_minor": 0
      },
      "text/plain": [
       "Fetching 9 files:   0%|          | 0/9 [00:00<?, ?it/s]"
      ]
     },
     "metadata": {},
     "output_type": "display_data"
    },
    {
     "data": {
      "application/vnd.jupyter.widget-view+json": {
       "model_id": "53728e1015af460fb44a5bb1036c773a",
       "version_major": 2,
       "version_minor": 0
      },
      "text/plain": [
       "Split strings:   0%|          | 0/1 [00:00<?, ?it/s]"
      ]
     },
     "metadata": {},
     "output_type": "display_data"
    },
    {
     "data": {
      "application/vnd.jupyter.widget-view+json": {
       "model_id": "27ad022bc2704213b550ce4db7a5b4ad",
       "version_major": 2,
       "version_minor": 0
      },
      "text/plain": [
       "BM25S Retrieve:   0%|          | 0/1 [00:00<?, ?it/s]"
      ]
     },
     "metadata": {},
     "output_type": "display_data"
    },
    {
     "data": {
      "application/vnd.jupyter.widget-view+json": {
       "model_id": "0c759309ca524a00a2fa18dc8f778178",
       "version_major": 2,
       "version_minor": 0
      },
      "text/plain": [
       "Fetching 9 files:   0%|          | 0/9 [00:00<?, ?it/s]"
      ]
     },
     "metadata": {},
     "output_type": "display_data"
    },
    {
     "data": {
      "application/vnd.jupyter.widget-view+json": {
       "model_id": "d8bc9e790cd14785b5b3db1817cf3217",
       "version_major": 2,
       "version_minor": 0
      },
      "text/plain": [
       "Split strings:   0%|          | 0/1 [00:00<?, ?it/s]"
      ]
     },
     "metadata": {},
     "output_type": "display_data"
    },
    {
     "data": {
      "application/vnd.jupyter.widget-view+json": {
       "model_id": "ac07cb43cc314bc488838b1c5f71f44d",
       "version_major": 2,
       "version_minor": 0
      },
      "text/plain": [
       "BM25S Retrieve:   0%|          | 0/1 [00:00<?, ?it/s]"
      ]
     },
     "metadata": {},
     "output_type": "display_data"
    },
    {
     "data": {
      "application/vnd.jupyter.widget-view+json": {
       "model_id": "c4c0dd2d4ea743fca57de3616fcb309d",
       "version_major": 2,
       "version_minor": 0
      },
      "text/plain": [
       "Fetching 9 files:   0%|          | 0/9 [00:00<?, ?it/s]"
      ]
     },
     "metadata": {},
     "output_type": "display_data"
    },
    {
     "data": {
      "application/vnd.jupyter.widget-view+json": {
       "model_id": "c0800abdd4c046299cbc5be572bd57e5",
       "version_major": 2,
       "version_minor": 0
      },
      "text/plain": [
       "Split strings:   0%|          | 0/1 [00:00<?, ?it/s]"
      ]
     },
     "metadata": {},
     "output_type": "display_data"
    },
    {
     "data": {
      "application/vnd.jupyter.widget-view+json": {
       "model_id": "c71667b643124bd692f9ed60ef3e1b67",
       "version_major": 2,
       "version_minor": 0
      },
      "text/plain": [
       "BM25S Retrieve:   0%|          | 0/1 [00:00<?, ?it/s]"
      ]
     },
     "metadata": {},
     "output_type": "display_data"
    },
    {
     "data": {
      "application/vnd.jupyter.widget-view+json": {
       "model_id": "11546ce6b4c24a5d9e15882f6eb3a959",
       "version_major": 2,
       "version_minor": 0
      },
      "text/plain": [
       "Fetching 9 files:   0%|          | 0/9 [00:00<?, ?it/s]"
      ]
     },
     "metadata": {},
     "output_type": "display_data"
    },
    {
     "data": {
      "application/vnd.jupyter.widget-view+json": {
       "model_id": "d1876598eb6744d6a3d20fd813149557",
       "version_major": 2,
       "version_minor": 0
      },
      "text/plain": [
       "Split strings:   0%|          | 0/1 [00:00<?, ?it/s]"
      ]
     },
     "metadata": {},
     "output_type": "display_data"
    },
    {
     "data": {
      "application/vnd.jupyter.widget-view+json": {
       "model_id": "82c3238cd5c74c5587696401bb87f747",
       "version_major": 2,
       "version_minor": 0
      },
      "text/plain": [
       "BM25S Retrieve:   0%|          | 0/1 [00:00<?, ?it/s]"
      ]
     },
     "metadata": {},
     "output_type": "display_data"
    },
    {
     "data": {
      "application/vnd.jupyter.widget-view+json": {
       "model_id": "0f6a1d41cbf844e9a6268c46dc904e52",
       "version_major": 2,
       "version_minor": 0
      },
      "text/plain": [
       "Fetching 9 files:   0%|          | 0/9 [00:00<?, ?it/s]"
      ]
     },
     "metadata": {},
     "output_type": "display_data"
    },
    {
     "data": {
      "application/vnd.jupyter.widget-view+json": {
       "model_id": "4834da51b0b843d8a218375159f3a585",
       "version_major": 2,
       "version_minor": 0
      },
      "text/plain": [
       "Split strings:   0%|          | 0/1 [00:00<?, ?it/s]"
      ]
     },
     "metadata": {},
     "output_type": "display_data"
    },
    {
     "data": {
      "application/vnd.jupyter.widget-view+json": {
       "model_id": "d7c8ade30b904f5fa9d7430b64d0726a",
       "version_major": 2,
       "version_minor": 0
      },
      "text/plain": [
       "BM25S Retrieve:   0%|          | 0/1 [00:00<?, ?it/s]"
      ]
     },
     "metadata": {},
     "output_type": "display_data"
    },
    {
     "data": {
      "application/vnd.jupyter.widget-view+json": {
       "model_id": "6a7a719f608940b4926ba41aa1276063",
       "version_major": 2,
       "version_minor": 0
      },
      "text/plain": [
       "Fetching 9 files:   0%|          | 0/9 [00:00<?, ?it/s]"
      ]
     },
     "metadata": {},
     "output_type": "display_data"
    },
    {
     "data": {
      "application/vnd.jupyter.widget-view+json": {
       "model_id": "75dc5a24d498429b8f247ece06468ac5",
       "version_major": 2,
       "version_minor": 0
      },
      "text/plain": [
       "Split strings:   0%|          | 0/1 [00:00<?, ?it/s]"
      ]
     },
     "metadata": {},
     "output_type": "display_data"
    },
    {
     "data": {
      "application/vnd.jupyter.widget-view+json": {
       "model_id": "561687ae95624548bc37a82e2da5acb7",
       "version_major": 2,
       "version_minor": 0
      },
      "text/plain": [
       "BM25S Retrieve:   0%|          | 0/1 [00:00<?, ?it/s]"
      ]
     },
     "metadata": {},
     "output_type": "display_data"
    },
    {
     "data": {
      "application/vnd.jupyter.widget-view+json": {
       "model_id": "849e1e5bb21649678f25a59ed395a556",
       "version_major": 2,
       "version_minor": 0
      },
      "text/plain": [
       "Fetching 9 files:   0%|          | 0/9 [00:00<?, ?it/s]"
      ]
     },
     "metadata": {},
     "output_type": "display_data"
    },
    {
     "data": {
      "application/vnd.jupyter.widget-view+json": {
       "model_id": "3fedd1ef902a41ae804a5b0f1ce03282",
       "version_major": 2,
       "version_minor": 0
      },
      "text/plain": [
       "Split strings:   0%|          | 0/1 [00:00<?, ?it/s]"
      ]
     },
     "metadata": {},
     "output_type": "display_data"
    },
    {
     "data": {
      "application/vnd.jupyter.widget-view+json": {
       "model_id": "3caec9d43d5647b795fd3c25be824f17",
       "version_major": 2,
       "version_minor": 0
      },
      "text/plain": [
       "BM25S Retrieve:   0%|          | 0/1 [00:00<?, ?it/s]"
      ]
     },
     "metadata": {},
     "output_type": "display_data"
    },
    {
     "data": {
      "application/vnd.jupyter.widget-view+json": {
       "model_id": "7638435e249c43e7b3479030b9387b91",
       "version_major": 2,
       "version_minor": 0
      },
      "text/plain": [
       "Fetching 9 files:   0%|          | 0/9 [00:00<?, ?it/s]"
      ]
     },
     "metadata": {},
     "output_type": "display_data"
    },
    {
     "data": {
      "application/vnd.jupyter.widget-view+json": {
       "model_id": "a3b741326fb547d0a185e197b6df4b70",
       "version_major": 2,
       "version_minor": 0
      },
      "text/plain": [
       "Split strings:   0%|          | 0/1 [00:00<?, ?it/s]"
      ]
     },
     "metadata": {},
     "output_type": "display_data"
    },
    {
     "data": {
      "application/vnd.jupyter.widget-view+json": {
       "model_id": "9123f090e09d4b69b3699cfcda54fb2f",
       "version_major": 2,
       "version_minor": 0
      },
      "text/plain": [
       "BM25S Retrieve:   0%|          | 0/1 [00:00<?, ?it/s]"
      ]
     },
     "metadata": {},
     "output_type": "display_data"
    },
    {
     "data": {
      "application/vnd.jupyter.widget-view+json": {
       "model_id": "3feb7313b5c04f77b19833a853fe788c",
       "version_major": 2,
       "version_minor": 0
      },
      "text/plain": [
       "Fetching 9 files:   0%|          | 0/9 [00:00<?, ?it/s]"
      ]
     },
     "metadata": {},
     "output_type": "display_data"
    },
    {
     "data": {
      "application/vnd.jupyter.widget-view+json": {
       "model_id": "316c0cca84ae47b0b2ef35475a99056d",
       "version_major": 2,
       "version_minor": 0
      },
      "text/plain": [
       "Split strings:   0%|          | 0/1 [00:00<?, ?it/s]"
      ]
     },
     "metadata": {},
     "output_type": "display_data"
    },
    {
     "data": {
      "application/vnd.jupyter.widget-view+json": {
       "model_id": "69d454294c31468bbe2e757bc97f2b09",
       "version_major": 2,
       "version_minor": 0
      },
      "text/plain": [
       "BM25S Retrieve:   0%|          | 0/1 [00:00<?, ?it/s]"
      ]
     },
     "metadata": {},
     "output_type": "display_data"
    },
    {
     "data": {
      "application/vnd.jupyter.widget-view+json": {
       "model_id": "6c6e5179b0894399974807b836ea61c1",
       "version_major": 2,
       "version_minor": 0
      },
      "text/plain": [
       "Fetching 9 files:   0%|          | 0/9 [00:00<?, ?it/s]"
      ]
     },
     "metadata": {},
     "output_type": "display_data"
    },
    {
     "data": {
      "application/vnd.jupyter.widget-view+json": {
       "model_id": "5b23f6677c7b4cd48b1f518189f64ee7",
       "version_major": 2,
       "version_minor": 0
      },
      "text/plain": [
       "Split strings:   0%|          | 0/1 [00:00<?, ?it/s]"
      ]
     },
     "metadata": {},
     "output_type": "display_data"
    },
    {
     "data": {
      "application/vnd.jupyter.widget-view+json": {
       "model_id": "0ef21fb5951c403da23485c35bf56ee0",
       "version_major": 2,
       "version_minor": 0
      },
      "text/plain": [
       "BM25S Retrieve:   0%|          | 0/1 [00:00<?, ?it/s]"
      ]
     },
     "metadata": {},
     "output_type": "display_data"
    },
    {
     "data": {
      "application/vnd.jupyter.widget-view+json": {
       "model_id": "43238c07f76b4c2fabf9735df107d30e",
       "version_major": 2,
       "version_minor": 0
      },
      "text/plain": [
       "Fetching 9 files:   0%|          | 0/9 [00:00<?, ?it/s]"
      ]
     },
     "metadata": {},
     "output_type": "display_data"
    },
    {
     "data": {
      "application/vnd.jupyter.widget-view+json": {
       "model_id": "0e6aa738c0124aeea492533099884630",
       "version_major": 2,
       "version_minor": 0
      },
      "text/plain": [
       "Split strings:   0%|          | 0/1 [00:00<?, ?it/s]"
      ]
     },
     "metadata": {},
     "output_type": "display_data"
    },
    {
     "data": {
      "application/vnd.jupyter.widget-view+json": {
       "model_id": "38282beac68c4ed1a648d7b32d17279b",
       "version_major": 2,
       "version_minor": 0
      },
      "text/plain": [
       "BM25S Retrieve:   0%|          | 0/1 [00:00<?, ?it/s]"
      ]
     },
     "metadata": {},
     "output_type": "display_data"
    },
    {
     "data": {
      "application/vnd.jupyter.widget-view+json": {
       "model_id": "3634b96149b844b79ca29f235975824d",
       "version_major": 2,
       "version_minor": 0
      },
      "text/plain": [
       "Fetching 9 files:   0%|          | 0/9 [00:00<?, ?it/s]"
      ]
     },
     "metadata": {},
     "output_type": "display_data"
    },
    {
     "data": {
      "application/vnd.jupyter.widget-view+json": {
       "model_id": "744d2c5be1934b4d8fef31ee43c27af9",
       "version_major": 2,
       "version_minor": 0
      },
      "text/plain": [
       "Split strings:   0%|          | 0/1 [00:00<?, ?it/s]"
      ]
     },
     "metadata": {},
     "output_type": "display_data"
    },
    {
     "data": {
      "application/vnd.jupyter.widget-view+json": {
       "model_id": "336d96ab2605433fb6c9d250ca8df6c1",
       "version_major": 2,
       "version_minor": 0
      },
      "text/plain": [
       "BM25S Retrieve:   0%|          | 0/1 [00:00<?, ?it/s]"
      ]
     },
     "metadata": {},
     "output_type": "display_data"
    },
    {
     "data": {
      "application/vnd.jupyter.widget-view+json": {
       "model_id": "dc62411eadb046df9344d352c589963e",
       "version_major": 2,
       "version_minor": 0
      },
      "text/plain": [
       "Fetching 9 files:   0%|          | 0/9 [00:00<?, ?it/s]"
      ]
     },
     "metadata": {},
     "output_type": "display_data"
    },
    {
     "data": {
      "application/vnd.jupyter.widget-view+json": {
       "model_id": "ab83f9c233dc43f5a3e86bf143396bfc",
       "version_major": 2,
       "version_minor": 0
      },
      "text/plain": [
       "Split strings:   0%|          | 0/1 [00:00<?, ?it/s]"
      ]
     },
     "metadata": {},
     "output_type": "display_data"
    },
    {
     "data": {
      "application/vnd.jupyter.widget-view+json": {
       "model_id": "e229014edb5844c3844f5f6554c86a74",
       "version_major": 2,
       "version_minor": 0
      },
      "text/plain": [
       "BM25S Retrieve:   0%|          | 0/1 [00:00<?, ?it/s]"
      ]
     },
     "metadata": {},
     "output_type": "display_data"
    },
    {
     "data": {
      "application/vnd.jupyter.widget-view+json": {
       "model_id": "a705d43f34214e9a93ed89685a42b093",
       "version_major": 2,
       "version_minor": 0
      },
      "text/plain": [
       "Fetching 9 files:   0%|          | 0/9 [00:00<?, ?it/s]"
      ]
     },
     "metadata": {},
     "output_type": "display_data"
    },
    {
     "data": {
      "application/vnd.jupyter.widget-view+json": {
       "model_id": "d16ce397d11c4c95b7af9e48d38bf1b4",
       "version_major": 2,
       "version_minor": 0
      },
      "text/plain": [
       "Split strings:   0%|          | 0/1 [00:00<?, ?it/s]"
      ]
     },
     "metadata": {},
     "output_type": "display_data"
    },
    {
     "data": {
      "application/vnd.jupyter.widget-view+json": {
       "model_id": "b9cde343f169496480df05567a79ec8a",
       "version_major": 2,
       "version_minor": 0
      },
      "text/plain": [
       "BM25S Retrieve:   0%|          | 0/1 [00:00<?, ?it/s]"
      ]
     },
     "metadata": {},
     "output_type": "display_data"
    },
    {
     "data": {
      "application/vnd.jupyter.widget-view+json": {
       "model_id": "2c9b2468f2fb49248fd03599a43de439",
       "version_major": 2,
       "version_minor": 0
      },
      "text/plain": [
       "Fetching 9 files:   0%|          | 0/9 [00:00<?, ?it/s]"
      ]
     },
     "metadata": {},
     "output_type": "display_data"
    },
    {
     "data": {
      "application/vnd.jupyter.widget-view+json": {
       "model_id": "e72b2d5294524dc498cc34400d623d20",
       "version_major": 2,
       "version_minor": 0
      },
      "text/plain": [
       "Split strings:   0%|          | 0/1 [00:00<?, ?it/s]"
      ]
     },
     "metadata": {},
     "output_type": "display_data"
    },
    {
     "data": {
      "application/vnd.jupyter.widget-view+json": {
       "model_id": "e5260551684f49c9b4945dfd65bc4e39",
       "version_major": 2,
       "version_minor": 0
      },
      "text/plain": [
       "BM25S Retrieve:   0%|          | 0/1 [00:00<?, ?it/s]"
      ]
     },
     "metadata": {},
     "output_type": "display_data"
    },
    {
     "data": {
      "application/vnd.jupyter.widget-view+json": {
       "model_id": "b592b3eb64f14f489af25a6470a2701a",
       "version_major": 2,
       "version_minor": 0
      },
      "text/plain": [
       "Fetching 9 files:   0%|          | 0/9 [00:00<?, ?it/s]"
      ]
     },
     "metadata": {},
     "output_type": "display_data"
    },
    {
     "data": {
      "application/vnd.jupyter.widget-view+json": {
       "model_id": "1b89080f34f248188aa3a46b772cf2e6",
       "version_major": 2,
       "version_minor": 0
      },
      "text/plain": [
       "Split strings:   0%|          | 0/1 [00:00<?, ?it/s]"
      ]
     },
     "metadata": {},
     "output_type": "display_data"
    },
    {
     "data": {
      "application/vnd.jupyter.widget-view+json": {
       "model_id": "3b28bb03faf742a5ad4c1f91db773143",
       "version_major": 2,
       "version_minor": 0
      },
      "text/plain": [
       "BM25S Retrieve:   0%|          | 0/1 [00:00<?, ?it/s]"
      ]
     },
     "metadata": {},
     "output_type": "display_data"
    },
    {
     "data": {
      "application/vnd.jupyter.widget-view+json": {
       "model_id": "70ea9c4518284a48a79bb0576f86e977",
       "version_major": 2,
       "version_minor": 0
      },
      "text/plain": [
       "Fetching 9 files:   0%|          | 0/9 [00:00<?, ?it/s]"
      ]
     },
     "metadata": {},
     "output_type": "display_data"
    },
    {
     "data": {
      "application/vnd.jupyter.widget-view+json": {
       "model_id": "de624fc0b31d4dbb91d9079dbceb0a58",
       "version_major": 2,
       "version_minor": 0
      },
      "text/plain": [
       "Split strings:   0%|          | 0/1 [00:00<?, ?it/s]"
      ]
     },
     "metadata": {},
     "output_type": "display_data"
    },
    {
     "data": {
      "application/vnd.jupyter.widget-view+json": {
       "model_id": "8c5917c7fe9146c6a28582825bffa22b",
       "version_major": 2,
       "version_minor": 0
      },
      "text/plain": [
       "BM25S Retrieve:   0%|          | 0/1 [00:00<?, ?it/s]"
      ]
     },
     "metadata": {},
     "output_type": "display_data"
    },
    {
     "data": {
      "application/vnd.jupyter.widget-view+json": {
       "model_id": "3673909b415b45168616593809236cf5",
       "version_major": 2,
       "version_minor": 0
      },
      "text/plain": [
       "Fetching 9 files:   0%|          | 0/9 [00:00<?, ?it/s]"
      ]
     },
     "metadata": {},
     "output_type": "display_data"
    },
    {
     "data": {
      "application/vnd.jupyter.widget-view+json": {
       "model_id": "4da010f8429143689dafaa7a283840ad",
       "version_major": 2,
       "version_minor": 0
      },
      "text/plain": [
       "Split strings:   0%|          | 0/1 [00:00<?, ?it/s]"
      ]
     },
     "metadata": {},
     "output_type": "display_data"
    },
    {
     "data": {
      "application/vnd.jupyter.widget-view+json": {
       "model_id": "b6ff7907d33c4f6e91903484d3981405",
       "version_major": 2,
       "version_minor": 0
      },
      "text/plain": [
       "BM25S Retrieve:   0%|          | 0/1 [00:00<?, ?it/s]"
      ]
     },
     "metadata": {},
     "output_type": "display_data"
    },
    {
     "data": {
      "application/vnd.jupyter.widget-view+json": {
       "model_id": "ea794892616c49f5abc263bd8196db09",
       "version_major": 2,
       "version_minor": 0
      },
      "text/plain": [
       "Fetching 9 files:   0%|          | 0/9 [00:00<?, ?it/s]"
      ]
     },
     "metadata": {},
     "output_type": "display_data"
    },
    {
     "data": {
      "application/vnd.jupyter.widget-view+json": {
       "model_id": "04a7eed790b441d0b7b00ee3a1d267b2",
       "version_major": 2,
       "version_minor": 0
      },
      "text/plain": [
       "Split strings:   0%|          | 0/1 [00:00<?, ?it/s]"
      ]
     },
     "metadata": {},
     "output_type": "display_data"
    },
    {
     "data": {
      "application/vnd.jupyter.widget-view+json": {
       "model_id": "41022ab2f99e4045b08cb5e739039280",
       "version_major": 2,
       "version_minor": 0
      },
      "text/plain": [
       "BM25S Retrieve:   0%|          | 0/1 [00:00<?, ?it/s]"
      ]
     },
     "metadata": {},
     "output_type": "display_data"
    },
    {
     "data": {
      "application/vnd.jupyter.widget-view+json": {
       "model_id": "1c8ddf20924c414f9683fd552e4d2860",
       "version_major": 2,
       "version_minor": 0
      },
      "text/plain": [
       "Fetching 9 files:   0%|          | 0/9 [00:00<?, ?it/s]"
      ]
     },
     "metadata": {},
     "output_type": "display_data"
    },
    {
     "data": {
      "application/vnd.jupyter.widget-view+json": {
       "model_id": "b3e31afdd4474b39a088b75092cae6f4",
       "version_major": 2,
       "version_minor": 0
      },
      "text/plain": [
       "Split strings:   0%|          | 0/1 [00:00<?, ?it/s]"
      ]
     },
     "metadata": {},
     "output_type": "display_data"
    },
    {
     "data": {
      "application/vnd.jupyter.widget-view+json": {
       "model_id": "db810028861a42dd961893700910319a",
       "version_major": 2,
       "version_minor": 0
      },
      "text/plain": [
       "BM25S Retrieve:   0%|          | 0/1 [00:00<?, ?it/s]"
      ]
     },
     "metadata": {},
     "output_type": "display_data"
    },
    {
     "data": {
      "application/vnd.jupyter.widget-view+json": {
       "model_id": "936130116bc24f93b93e0d6297045500",
       "version_major": 2,
       "version_minor": 0
      },
      "text/plain": [
       "Fetching 9 files:   0%|          | 0/9 [00:00<?, ?it/s]"
      ]
     },
     "metadata": {},
     "output_type": "display_data"
    },
    {
     "data": {
      "application/vnd.jupyter.widget-view+json": {
       "model_id": "5d8dd87b94c44f6dbf569ae6b93003a0",
       "version_major": 2,
       "version_minor": 0
      },
      "text/plain": [
       "Split strings:   0%|          | 0/1 [00:00<?, ?it/s]"
      ]
     },
     "metadata": {},
     "output_type": "display_data"
    },
    {
     "data": {
      "application/vnd.jupyter.widget-view+json": {
       "model_id": "d7c335014e5944728591fc9b8a3f110e",
       "version_major": 2,
       "version_minor": 0
      },
      "text/plain": [
       "BM25S Retrieve:   0%|          | 0/1 [00:00<?, ?it/s]"
      ]
     },
     "metadata": {},
     "output_type": "display_data"
    },
    {
     "data": {
      "application/vnd.jupyter.widget-view+json": {
       "model_id": "e742ea0f9ce74d9f9dbb4c702fef3348",
       "version_major": 2,
       "version_minor": 0
      },
      "text/plain": [
       "Fetching 9 files:   0%|          | 0/9 [00:00<?, ?it/s]"
      ]
     },
     "metadata": {},
     "output_type": "display_data"
    },
    {
     "data": {
      "application/vnd.jupyter.widget-view+json": {
       "model_id": "f562f42850a64453b13369b5ac3a66fa",
       "version_major": 2,
       "version_minor": 0
      },
      "text/plain": [
       "Split strings:   0%|          | 0/1 [00:00<?, ?it/s]"
      ]
     },
     "metadata": {},
     "output_type": "display_data"
    },
    {
     "data": {
      "application/vnd.jupyter.widget-view+json": {
       "model_id": "985444e56154489b825bda9bff465d53",
       "version_major": 2,
       "version_minor": 0
      },
      "text/plain": [
       "BM25S Retrieve:   0%|          | 0/1 [00:00<?, ?it/s]"
      ]
     },
     "metadata": {},
     "output_type": "display_data"
    },
    {
     "data": {
      "application/vnd.jupyter.widget-view+json": {
       "model_id": "5e4876975c6940f0813737c08a13abb0",
       "version_major": 2,
       "version_minor": 0
      },
      "text/plain": [
       "Fetching 9 files:   0%|          | 0/9 [00:00<?, ?it/s]"
      ]
     },
     "metadata": {},
     "output_type": "display_data"
    },
    {
     "data": {
      "application/vnd.jupyter.widget-view+json": {
       "model_id": "8fceb2b1ee61410b884b1d4184284cc6",
       "version_major": 2,
       "version_minor": 0
      },
      "text/plain": [
       "Split strings:   0%|          | 0/1 [00:00<?, ?it/s]"
      ]
     },
     "metadata": {},
     "output_type": "display_data"
    },
    {
     "data": {
      "application/vnd.jupyter.widget-view+json": {
       "model_id": "2c048f4d09164acf9dbd7c50d95ca5f9",
       "version_major": 2,
       "version_minor": 0
      },
      "text/plain": [
       "BM25S Retrieve:   0%|          | 0/1 [00:00<?, ?it/s]"
      ]
     },
     "metadata": {},
     "output_type": "display_data"
    },
    {
     "data": {
      "application/vnd.jupyter.widget-view+json": {
       "model_id": "723113b3745749d580a7e30cdf872c26",
       "version_major": 2,
       "version_minor": 0
      },
      "text/plain": [
       "Fetching 9 files:   0%|          | 0/9 [00:00<?, ?it/s]"
      ]
     },
     "metadata": {},
     "output_type": "display_data"
    },
    {
     "data": {
      "application/vnd.jupyter.widget-view+json": {
       "model_id": "2be6b2614430493397cebc240b02cc47",
       "version_major": 2,
       "version_minor": 0
      },
      "text/plain": [
       "Split strings:   0%|          | 0/1 [00:00<?, ?it/s]"
      ]
     },
     "metadata": {},
     "output_type": "display_data"
    },
    {
     "data": {
      "application/vnd.jupyter.widget-view+json": {
       "model_id": "14d63a79463140698e43e1795d7823f4",
       "version_major": 2,
       "version_minor": 0
      },
      "text/plain": [
       "BM25S Retrieve:   0%|          | 0/1 [00:00<?, ?it/s]"
      ]
     },
     "metadata": {},
     "output_type": "display_data"
    },
    {
     "data": {
      "application/vnd.jupyter.widget-view+json": {
       "model_id": "d58dee5d0fc041ea9144624c8f04b5c6",
       "version_major": 2,
       "version_minor": 0
      },
      "text/plain": [
       "Fetching 9 files:   0%|          | 0/9 [00:00<?, ?it/s]"
      ]
     },
     "metadata": {},
     "output_type": "display_data"
    },
    {
     "data": {
      "application/vnd.jupyter.widget-view+json": {
       "model_id": "750cd634e22d47318b285dc7c7c93b24",
       "version_major": 2,
       "version_minor": 0
      },
      "text/plain": [
       "Split strings:   0%|          | 0/1 [00:00<?, ?it/s]"
      ]
     },
     "metadata": {},
     "output_type": "display_data"
    },
    {
     "data": {
      "application/vnd.jupyter.widget-view+json": {
       "model_id": "6c5f7c11627d4fbcb02939626705d502",
       "version_major": 2,
       "version_minor": 0
      },
      "text/plain": [
       "BM25S Retrieve:   0%|          | 0/1 [00:00<?, ?it/s]"
      ]
     },
     "metadata": {},
     "output_type": "display_data"
    },
    {
     "data": {
      "application/vnd.jupyter.widget-view+json": {
       "model_id": "ee67206eb16848efa5e995392aad7e63",
       "version_major": 2,
       "version_minor": 0
      },
      "text/plain": [
       "Fetching 9 files:   0%|          | 0/9 [00:00<?, ?it/s]"
      ]
     },
     "metadata": {},
     "output_type": "display_data"
    },
    {
     "data": {
      "application/vnd.jupyter.widget-view+json": {
       "model_id": "09ff9f356c7a465490b3a78871d8c037",
       "version_major": 2,
       "version_minor": 0
      },
      "text/plain": [
       "Split strings:   0%|          | 0/1 [00:00<?, ?it/s]"
      ]
     },
     "metadata": {},
     "output_type": "display_data"
    },
    {
     "data": {
      "application/vnd.jupyter.widget-view+json": {
       "model_id": "3b3a914eb54d41df81f5a08821ec3809",
       "version_major": 2,
       "version_minor": 0
      },
      "text/plain": [
       "BM25S Retrieve:   0%|          | 0/1 [00:00<?, ?it/s]"
      ]
     },
     "metadata": {},
     "output_type": "display_data"
    },
    {
     "data": {
      "application/vnd.jupyter.widget-view+json": {
       "model_id": "9134ce5906e24dfba3ea14f4802d3983",
       "version_major": 2,
       "version_minor": 0
      },
      "text/plain": [
       "Fetching 9 files:   0%|          | 0/9 [00:00<?, ?it/s]"
      ]
     },
     "metadata": {},
     "output_type": "display_data"
    },
    {
     "data": {
      "application/vnd.jupyter.widget-view+json": {
       "model_id": "78f6b35ca98c44f78441d1bdf229b714",
       "version_major": 2,
       "version_minor": 0
      },
      "text/plain": [
       "Split strings:   0%|          | 0/1 [00:00<?, ?it/s]"
      ]
     },
     "metadata": {},
     "output_type": "display_data"
    },
    {
     "data": {
      "application/vnd.jupyter.widget-view+json": {
       "model_id": "6b8c313753ca4050b7dc941a956cb18b",
       "version_major": 2,
       "version_minor": 0
      },
      "text/plain": [
       "BM25S Retrieve:   0%|          | 0/1 [00:00<?, ?it/s]"
      ]
     },
     "metadata": {},
     "output_type": "display_data"
    },
    {
     "data": {
      "application/vnd.jupyter.widget-view+json": {
       "model_id": "6758c1ba898845fea3a758d0112ce74c",
       "version_major": 2,
       "version_minor": 0
      },
      "text/plain": [
       "Fetching 9 files:   0%|          | 0/9 [00:00<?, ?it/s]"
      ]
     },
     "metadata": {},
     "output_type": "display_data"
    },
    {
     "data": {
      "application/vnd.jupyter.widget-view+json": {
       "model_id": "d9d109968d764ccc99ab76c633a0ba18",
       "version_major": 2,
       "version_minor": 0
      },
      "text/plain": [
       "Split strings:   0%|          | 0/1 [00:00<?, ?it/s]"
      ]
     },
     "metadata": {},
     "output_type": "display_data"
    },
    {
     "data": {
      "application/vnd.jupyter.widget-view+json": {
       "model_id": "f0e8c310f63d449a8a4226bffb4e19f4",
       "version_major": 2,
       "version_minor": 0
      },
      "text/plain": [
       "BM25S Retrieve:   0%|          | 0/1 [00:00<?, ?it/s]"
      ]
     },
     "metadata": {},
     "output_type": "display_data"
    },
    {
     "data": {
      "application/vnd.jupyter.widget-view+json": {
       "model_id": "a664bf652bcc499787e83687eae8bd3f",
       "version_major": 2,
       "version_minor": 0
      },
      "text/plain": [
       "Fetching 9 files:   0%|          | 0/9 [00:00<?, ?it/s]"
      ]
     },
     "metadata": {},
     "output_type": "display_data"
    },
    {
     "data": {
      "application/vnd.jupyter.widget-view+json": {
       "model_id": "8e55ebcf5f414752b26efdae12c3a7b0",
       "version_major": 2,
       "version_minor": 0
      },
      "text/plain": [
       "Split strings:   0%|          | 0/1 [00:00<?, ?it/s]"
      ]
     },
     "metadata": {},
     "output_type": "display_data"
    },
    {
     "data": {
      "application/vnd.jupyter.widget-view+json": {
       "model_id": "77986db49e7b449e8e9ee412dacd0aa7",
       "version_major": 2,
       "version_minor": 0
      },
      "text/plain": [
       "BM25S Retrieve:   0%|          | 0/1 [00:00<?, ?it/s]"
      ]
     },
     "metadata": {},
     "output_type": "display_data"
    },
    {
     "data": {
      "application/vnd.jupyter.widget-view+json": {
       "model_id": "e5dace399172477cb0df2978c4490b00",
       "version_major": 2,
       "version_minor": 0
      },
      "text/plain": [
       "Fetching 9 files:   0%|          | 0/9 [00:00<?, ?it/s]"
      ]
     },
     "metadata": {},
     "output_type": "display_data"
    },
    {
     "data": {
      "application/vnd.jupyter.widget-view+json": {
       "model_id": "f296a4b0821b4ef88f97f78ab32079e6",
       "version_major": 2,
       "version_minor": 0
      },
      "text/plain": [
       "Split strings:   0%|          | 0/1 [00:00<?, ?it/s]"
      ]
     },
     "metadata": {},
     "output_type": "display_data"
    },
    {
     "data": {
      "application/vnd.jupyter.widget-view+json": {
       "model_id": "1170a59e4d4643b1878ef6c98d92e591",
       "version_major": 2,
       "version_minor": 0
      },
      "text/plain": [
       "BM25S Retrieve:   0%|          | 0/1 [00:00<?, ?it/s]"
      ]
     },
     "metadata": {},
     "output_type": "display_data"
    },
    {
     "data": {
      "application/vnd.jupyter.widget-view+json": {
       "model_id": "523ebd0e5423473286f8c71b813d4589",
       "version_major": 2,
       "version_minor": 0
      },
      "text/plain": [
       "Fetching 9 files:   0%|          | 0/9 [00:00<?, ?it/s]"
      ]
     },
     "metadata": {},
     "output_type": "display_data"
    },
    {
     "data": {
      "application/vnd.jupyter.widget-view+json": {
       "model_id": "c8f5859dc2944fb984f16264b2fd5b52",
       "version_major": 2,
       "version_minor": 0
      },
      "text/plain": [
       "Split strings:   0%|          | 0/1 [00:00<?, ?it/s]"
      ]
     },
     "metadata": {},
     "output_type": "display_data"
    },
    {
     "data": {
      "application/vnd.jupyter.widget-view+json": {
       "model_id": "bec65453ef1b456388d4a2e7a8c31fa5",
       "version_major": 2,
       "version_minor": 0
      },
      "text/plain": [
       "BM25S Retrieve:   0%|          | 0/1 [00:00<?, ?it/s]"
      ]
     },
     "metadata": {},
     "output_type": "display_data"
    },
    {
     "data": {
      "application/vnd.jupyter.widget-view+json": {
       "model_id": "9176e9cfa20647b4964d0e38c865d23b",
       "version_major": 2,
       "version_minor": 0
      },
      "text/plain": [
       "Fetching 9 files:   0%|          | 0/9 [00:00<?, ?it/s]"
      ]
     },
     "metadata": {},
     "output_type": "display_data"
    },
    {
     "data": {
      "application/vnd.jupyter.widget-view+json": {
       "model_id": "d8af5db758c643a5ae535840a2ef4ba4",
       "version_major": 2,
       "version_minor": 0
      },
      "text/plain": [
       "Split strings:   0%|          | 0/1 [00:00<?, ?it/s]"
      ]
     },
     "metadata": {},
     "output_type": "display_data"
    },
    {
     "data": {
      "application/vnd.jupyter.widget-view+json": {
       "model_id": "cc58836a58ba41cf9d8cf67b8256759f",
       "version_major": 2,
       "version_minor": 0
      },
      "text/plain": [
       "BM25S Retrieve:   0%|          | 0/1 [00:00<?, ?it/s]"
      ]
     },
     "metadata": {},
     "output_type": "display_data"
    },
    {
     "data": {
      "application/vnd.jupyter.widget-view+json": {
       "model_id": "1c2a3c7012e54e04bc2dd7779d82bce6",
       "version_major": 2,
       "version_minor": 0
      },
      "text/plain": [
       "Fetching 9 files:   0%|          | 0/9 [00:00<?, ?it/s]"
      ]
     },
     "metadata": {},
     "output_type": "display_data"
    },
    {
     "data": {
      "application/vnd.jupyter.widget-view+json": {
       "model_id": "ca0231554bf2436e9bd8fd370d966cdc",
       "version_major": 2,
       "version_minor": 0
      },
      "text/plain": [
       "Split strings:   0%|          | 0/1 [00:00<?, ?it/s]"
      ]
     },
     "metadata": {},
     "output_type": "display_data"
    },
    {
     "data": {
      "application/vnd.jupyter.widget-view+json": {
       "model_id": "dc4c62498463438a8a2bcfafdd98eec5",
       "version_major": 2,
       "version_minor": 0
      },
      "text/plain": [
       "BM25S Retrieve:   0%|          | 0/1 [00:00<?, ?it/s]"
      ]
     },
     "metadata": {},
     "output_type": "display_data"
    },
    {
     "data": {
      "application/vnd.jupyter.widget-view+json": {
       "model_id": "b7cb6c39a566454da135f2aaea4afd7c",
       "version_major": 2,
       "version_minor": 0
      },
      "text/plain": [
       "Fetching 9 files:   0%|          | 0/9 [00:00<?, ?it/s]"
      ]
     },
     "metadata": {},
     "output_type": "display_data"
    },
    {
     "data": {
      "application/vnd.jupyter.widget-view+json": {
       "model_id": "9cfa44c74fbd4f7cb6f951b6c650ec64",
       "version_major": 2,
       "version_minor": 0
      },
      "text/plain": [
       "Split strings:   0%|          | 0/1 [00:00<?, ?it/s]"
      ]
     },
     "metadata": {},
     "output_type": "display_data"
    },
    {
     "data": {
      "application/vnd.jupyter.widget-view+json": {
       "model_id": "a85bc6aca6bf403f8f84f31257126d00",
       "version_major": 2,
       "version_minor": 0
      },
      "text/plain": [
       "BM25S Retrieve:   0%|          | 0/1 [00:00<?, ?it/s]"
      ]
     },
     "metadata": {},
     "output_type": "display_data"
    },
    {
     "data": {
      "application/vnd.jupyter.widget-view+json": {
       "model_id": "b4031b563c474bf38c8e84a4c795cf20",
       "version_major": 2,
       "version_minor": 0
      },
      "text/plain": [
       "Fetching 9 files:   0%|          | 0/9 [00:00<?, ?it/s]"
      ]
     },
     "metadata": {},
     "output_type": "display_data"
    },
    {
     "data": {
      "application/vnd.jupyter.widget-view+json": {
       "model_id": "fb05cb2bcdf043508d0871509540bf78",
       "version_major": 2,
       "version_minor": 0
      },
      "text/plain": [
       "Split strings:   0%|          | 0/1 [00:00<?, ?it/s]"
      ]
     },
     "metadata": {},
     "output_type": "display_data"
    },
    {
     "data": {
      "application/vnd.jupyter.widget-view+json": {
       "model_id": "c26ce14a927a4b5aa4212d7d29554f4e",
       "version_major": 2,
       "version_minor": 0
      },
      "text/plain": [
       "BM25S Retrieve:   0%|          | 0/1 [00:00<?, ?it/s]"
      ]
     },
     "metadata": {},
     "output_type": "display_data"
    },
    {
     "data": {
      "application/vnd.jupyter.widget-view+json": {
       "model_id": "d477c916aa9f438e923c1085418eaca5",
       "version_major": 2,
       "version_minor": 0
      },
      "text/plain": [
       "Fetching 9 files:   0%|          | 0/9 [00:00<?, ?it/s]"
      ]
     },
     "metadata": {},
     "output_type": "display_data"
    },
    {
     "data": {
      "application/vnd.jupyter.widget-view+json": {
       "model_id": "c45099894f3e42ae83f395a8044319f9",
       "version_major": 2,
       "version_minor": 0
      },
      "text/plain": [
       "Split strings:   0%|          | 0/1 [00:00<?, ?it/s]"
      ]
     },
     "metadata": {},
     "output_type": "display_data"
    },
    {
     "data": {
      "application/vnd.jupyter.widget-view+json": {
       "model_id": "b52b89e7b4064c52a9e22b8eeb38ebae",
       "version_major": 2,
       "version_minor": 0
      },
      "text/plain": [
       "BM25S Retrieve:   0%|          | 0/1 [00:00<?, ?it/s]"
      ]
     },
     "metadata": {},
     "output_type": "display_data"
    },
    {
     "data": {
      "application/vnd.jupyter.widget-view+json": {
       "model_id": "6d4247bc3e494b71bd02019a556f6042",
       "version_major": 2,
       "version_minor": 0
      },
      "text/plain": [
       "Fetching 9 files:   0%|          | 0/9 [00:00<?, ?it/s]"
      ]
     },
     "metadata": {},
     "output_type": "display_data"
    },
    {
     "data": {
      "application/vnd.jupyter.widget-view+json": {
       "model_id": "526778b6e1f542f8ac791cdac30d859c",
       "version_major": 2,
       "version_minor": 0
      },
      "text/plain": [
       "Split strings:   0%|          | 0/1 [00:00<?, ?it/s]"
      ]
     },
     "metadata": {},
     "output_type": "display_data"
    },
    {
     "data": {
      "application/vnd.jupyter.widget-view+json": {
       "model_id": "217e2568858249e08accd308c24761a4",
       "version_major": 2,
       "version_minor": 0
      },
      "text/plain": [
       "BM25S Retrieve:   0%|          | 0/1 [00:00<?, ?it/s]"
      ]
     },
     "metadata": {},
     "output_type": "display_data"
    },
    {
     "data": {
      "application/vnd.jupyter.widget-view+json": {
       "model_id": "711d356ff08249b5b5676a4bd2cbaf57",
       "version_major": 2,
       "version_minor": 0
      },
      "text/plain": [
       "Fetching 9 files:   0%|          | 0/9 [00:00<?, ?it/s]"
      ]
     },
     "metadata": {},
     "output_type": "display_data"
    },
    {
     "data": {
      "application/vnd.jupyter.widget-view+json": {
       "model_id": "57a331b1cceb43b4ad2e7ee19db33685",
       "version_major": 2,
       "version_minor": 0
      },
      "text/plain": [
       "Split strings:   0%|          | 0/1 [00:00<?, ?it/s]"
      ]
     },
     "metadata": {},
     "output_type": "display_data"
    },
    {
     "data": {
      "application/vnd.jupyter.widget-view+json": {
       "model_id": "c96a9d8e47be45c0bd79033da48ac109",
       "version_major": 2,
       "version_minor": 0
      },
      "text/plain": [
       "BM25S Retrieve:   0%|          | 0/1 [00:00<?, ?it/s]"
      ]
     },
     "metadata": {},
     "output_type": "display_data"
    },
    {
     "data": {
      "application/vnd.jupyter.widget-view+json": {
       "model_id": "f09344cd04a04b15a80657ba7fe61621",
       "version_major": 2,
       "version_minor": 0
      },
      "text/plain": [
       "Fetching 9 files:   0%|          | 0/9 [00:00<?, ?it/s]"
      ]
     },
     "metadata": {},
     "output_type": "display_data"
    },
    {
     "data": {
      "application/vnd.jupyter.widget-view+json": {
       "model_id": "67d4b869146546a88494a5bfa3eca94d",
       "version_major": 2,
       "version_minor": 0
      },
      "text/plain": [
       "Split strings:   0%|          | 0/1 [00:00<?, ?it/s]"
      ]
     },
     "metadata": {},
     "output_type": "display_data"
    },
    {
     "data": {
      "application/vnd.jupyter.widget-view+json": {
       "model_id": "c144b13100274b72a6660a7d80a20ac7",
       "version_major": 2,
       "version_minor": 0
      },
      "text/plain": [
       "BM25S Retrieve:   0%|          | 0/1 [00:00<?, ?it/s]"
      ]
     },
     "metadata": {},
     "output_type": "display_data"
    },
    {
     "data": {
      "application/vnd.jupyter.widget-view+json": {
       "model_id": "52278b08f0154da18cee9bc9a6197d65",
       "version_major": 2,
       "version_minor": 0
      },
      "text/plain": [
       "Fetching 9 files:   0%|          | 0/9 [00:00<?, ?it/s]"
      ]
     },
     "metadata": {},
     "output_type": "display_data"
    },
    {
     "data": {
      "application/vnd.jupyter.widget-view+json": {
       "model_id": "baa41d54546a4c9faa8ea09e6a15fc86",
       "version_major": 2,
       "version_minor": 0
      },
      "text/plain": [
       "Split strings:   0%|          | 0/1 [00:00<?, ?it/s]"
      ]
     },
     "metadata": {},
     "output_type": "display_data"
    },
    {
     "data": {
      "application/vnd.jupyter.widget-view+json": {
       "model_id": "d4de7a363bef44c8b640db4149606b15",
       "version_major": 2,
       "version_minor": 0
      },
      "text/plain": [
       "BM25S Retrieve:   0%|          | 0/1 [00:00<?, ?it/s]"
      ]
     },
     "metadata": {},
     "output_type": "display_data"
    },
    {
     "data": {
      "application/vnd.jupyter.widget-view+json": {
       "model_id": "daf2b4b979b443bf8afececf4a2a828c",
       "version_major": 2,
       "version_minor": 0
      },
      "text/plain": [
       "Fetching 9 files:   0%|          | 0/9 [00:00<?, ?it/s]"
      ]
     },
     "metadata": {},
     "output_type": "display_data"
    },
    {
     "data": {
      "application/vnd.jupyter.widget-view+json": {
       "model_id": "44a03d47e8534f6a93c1a6a4658d443e",
       "version_major": 2,
       "version_minor": 0
      },
      "text/plain": [
       "Split strings:   0%|          | 0/1 [00:00<?, ?it/s]"
      ]
     },
     "metadata": {},
     "output_type": "display_data"
    },
    {
     "data": {
      "application/vnd.jupyter.widget-view+json": {
       "model_id": "1c812f50b84f422f899bc70e4a9644d4",
       "version_major": 2,
       "version_minor": 0
      },
      "text/plain": [
       "BM25S Retrieve:   0%|          | 0/1 [00:00<?, ?it/s]"
      ]
     },
     "metadata": {},
     "output_type": "display_data"
    },
    {
     "data": {
      "application/vnd.jupyter.widget-view+json": {
       "model_id": "c061734ec2874c5ea819803f5d5cade1",
       "version_major": 2,
       "version_minor": 0
      },
      "text/plain": [
       "Fetching 9 files:   0%|          | 0/9 [00:00<?, ?it/s]"
      ]
     },
     "metadata": {},
     "output_type": "display_data"
    },
    {
     "data": {
      "application/vnd.jupyter.widget-view+json": {
       "model_id": "c13af7c5c7f94257b0481680160f9eb3",
       "version_major": 2,
       "version_minor": 0
      },
      "text/plain": [
       "Split strings:   0%|          | 0/1 [00:00<?, ?it/s]"
      ]
     },
     "metadata": {},
     "output_type": "display_data"
    },
    {
     "data": {
      "application/vnd.jupyter.widget-view+json": {
       "model_id": "6f05f53c5323429abf31be4346c789e1",
       "version_major": 2,
       "version_minor": 0
      },
      "text/plain": [
       "BM25S Retrieve:   0%|          | 0/1 [00:00<?, ?it/s]"
      ]
     },
     "metadata": {},
     "output_type": "display_data"
    },
    {
     "data": {
      "application/vnd.jupyter.widget-view+json": {
       "model_id": "2674646a30f0452fb2a7ec351d893d17",
       "version_major": 2,
       "version_minor": 0
      },
      "text/plain": [
       "Fetching 9 files:   0%|          | 0/9 [00:00<?, ?it/s]"
      ]
     },
     "metadata": {},
     "output_type": "display_data"
    },
    {
     "data": {
      "application/vnd.jupyter.widget-view+json": {
       "model_id": "4d3804e9821745dfabbe099330c04dc2",
       "version_major": 2,
       "version_minor": 0
      },
      "text/plain": [
       "Split strings:   0%|          | 0/1 [00:00<?, ?it/s]"
      ]
     },
     "metadata": {},
     "output_type": "display_data"
    },
    {
     "data": {
      "application/vnd.jupyter.widget-view+json": {
       "model_id": "0771f527676543219965233fc16d77b8",
       "version_major": 2,
       "version_minor": 0
      },
      "text/plain": [
       "BM25S Retrieve:   0%|          | 0/1 [00:00<?, ?it/s]"
      ]
     },
     "metadata": {},
     "output_type": "display_data"
    },
    {
     "data": {
      "application/vnd.jupyter.widget-view+json": {
       "model_id": "0bf20c2eaeaa4d759527e8458e78d444",
       "version_major": 2,
       "version_minor": 0
      },
      "text/plain": [
       "Fetching 9 files:   0%|          | 0/9 [00:00<?, ?it/s]"
      ]
     },
     "metadata": {},
     "output_type": "display_data"
    },
    {
     "data": {
      "application/vnd.jupyter.widget-view+json": {
       "model_id": "cfed99b60c724e2bbad24bad25b97ce7",
       "version_major": 2,
       "version_minor": 0
      },
      "text/plain": [
       "Split strings:   0%|          | 0/1 [00:00<?, ?it/s]"
      ]
     },
     "metadata": {},
     "output_type": "display_data"
    },
    {
     "data": {
      "application/vnd.jupyter.widget-view+json": {
       "model_id": "ce76acc1ce3640e7b89b87a6bc626250",
       "version_major": 2,
       "version_minor": 0
      },
      "text/plain": [
       "BM25S Retrieve:   0%|          | 0/1 [00:00<?, ?it/s]"
      ]
     },
     "metadata": {},
     "output_type": "display_data"
    },
    {
     "data": {
      "application/vnd.jupyter.widget-view+json": {
       "model_id": "4a40554c1843440c83b811093cee1d28",
       "version_major": 2,
       "version_minor": 0
      },
      "text/plain": [
       "Fetching 9 files:   0%|          | 0/9 [00:00<?, ?it/s]"
      ]
     },
     "metadata": {},
     "output_type": "display_data"
    },
    {
     "data": {
      "application/vnd.jupyter.widget-view+json": {
       "model_id": "f1010edb5d1147f88456fe223e44a485",
       "version_major": 2,
       "version_minor": 0
      },
      "text/plain": [
       "Split strings:   0%|          | 0/1 [00:00<?, ?it/s]"
      ]
     },
     "metadata": {},
     "output_type": "display_data"
    },
    {
     "data": {
      "application/vnd.jupyter.widget-view+json": {
       "model_id": "4d8816255d8b404eab51c1d7eab8b5a0",
       "version_major": 2,
       "version_minor": 0
      },
      "text/plain": [
       "BM25S Retrieve:   0%|          | 0/1 [00:00<?, ?it/s]"
      ]
     },
     "metadata": {},
     "output_type": "display_data"
    },
    {
     "data": {
      "application/vnd.jupyter.widget-view+json": {
       "model_id": "e07e417f82754041b10294502a13c6bb",
       "version_major": 2,
       "version_minor": 0
      },
      "text/plain": [
       "Fetching 9 files:   0%|          | 0/9 [00:00<?, ?it/s]"
      ]
     },
     "metadata": {},
     "output_type": "display_data"
    },
    {
     "data": {
      "application/vnd.jupyter.widget-view+json": {
       "model_id": "5214ea9dea53443885ab4073bff1cf8b",
       "version_major": 2,
       "version_minor": 0
      },
      "text/plain": [
       "Split strings:   0%|          | 0/1 [00:00<?, ?it/s]"
      ]
     },
     "metadata": {},
     "output_type": "display_data"
    },
    {
     "data": {
      "application/vnd.jupyter.widget-view+json": {
       "model_id": "d8a695d5be1f495ca7e2246a436c2133",
       "version_major": 2,
       "version_minor": 0
      },
      "text/plain": [
       "BM25S Retrieve:   0%|          | 0/1 [00:00<?, ?it/s]"
      ]
     },
     "metadata": {},
     "output_type": "display_data"
    },
    {
     "data": {
      "application/vnd.jupyter.widget-view+json": {
       "model_id": "d861f5eeabcf4b68920d3f302250fb05",
       "version_major": 2,
       "version_minor": 0
      },
      "text/plain": [
       "Fetching 9 files:   0%|          | 0/9 [00:00<?, ?it/s]"
      ]
     },
     "metadata": {},
     "output_type": "display_data"
    },
    {
     "data": {
      "application/vnd.jupyter.widget-view+json": {
       "model_id": "8ab8b16cab1744d284b104a992520df0",
       "version_major": 2,
       "version_minor": 0
      },
      "text/plain": [
       "Split strings:   0%|          | 0/1 [00:00<?, ?it/s]"
      ]
     },
     "metadata": {},
     "output_type": "display_data"
    },
    {
     "data": {
      "application/vnd.jupyter.widget-view+json": {
       "model_id": "daff17fb29984dee9b1a339cef04a3c1",
       "version_major": 2,
       "version_minor": 0
      },
      "text/plain": [
       "BM25S Retrieve:   0%|          | 0/1 [00:00<?, ?it/s]"
      ]
     },
     "metadata": {},
     "output_type": "display_data"
    },
    {
     "data": {
      "application/vnd.jupyter.widget-view+json": {
       "model_id": "3583e6c41cf34129be914bb5e985eb1d",
       "version_major": 2,
       "version_minor": 0
      },
      "text/plain": [
       "Fetching 9 files:   0%|          | 0/9 [00:00<?, ?it/s]"
      ]
     },
     "metadata": {},
     "output_type": "display_data"
    },
    {
     "data": {
      "application/vnd.jupyter.widget-view+json": {
       "model_id": "6e149aeb72554156859f65a73a6cb369",
       "version_major": 2,
       "version_minor": 0
      },
      "text/plain": [
       "Split strings:   0%|          | 0/1 [00:00<?, ?it/s]"
      ]
     },
     "metadata": {},
     "output_type": "display_data"
    },
    {
     "data": {
      "application/vnd.jupyter.widget-view+json": {
       "model_id": "8f1dcceb4c094897835d54a6e68baa9e",
       "version_major": 2,
       "version_minor": 0
      },
      "text/plain": [
       "BM25S Retrieve:   0%|          | 0/1 [00:00<?, ?it/s]"
      ]
     },
     "metadata": {},
     "output_type": "display_data"
    },
    {
     "data": {
      "application/vnd.jupyter.widget-view+json": {
       "model_id": "add3a35dcba94ca48132ab5b657b3ee1",
       "version_major": 2,
       "version_minor": 0
      },
      "text/plain": [
       "Fetching 9 files:   0%|          | 0/9 [00:00<?, ?it/s]"
      ]
     },
     "metadata": {},
     "output_type": "display_data"
    },
    {
     "data": {
      "application/vnd.jupyter.widget-view+json": {
       "model_id": "dcad949620c842ac9b3ff9553d68d7bf",
       "version_major": 2,
       "version_minor": 0
      },
      "text/plain": [
       "Split strings:   0%|          | 0/1 [00:00<?, ?it/s]"
      ]
     },
     "metadata": {},
     "output_type": "display_data"
    },
    {
     "data": {
      "application/vnd.jupyter.widget-view+json": {
       "model_id": "a347b11a4c914c3486c0f389120fdd0a",
       "version_major": 2,
       "version_minor": 0
      },
      "text/plain": [
       "BM25S Retrieve:   0%|          | 0/1 [00:00<?, ?it/s]"
      ]
     },
     "metadata": {},
     "output_type": "display_data"
    },
    {
     "data": {
      "application/vnd.jupyter.widget-view+json": {
       "model_id": "d6089440485d4162bb79dc449520f73b",
       "version_major": 2,
       "version_minor": 0
      },
      "text/plain": [
       "Fetching 9 files:   0%|          | 0/9 [00:00<?, ?it/s]"
      ]
     },
     "metadata": {},
     "output_type": "display_data"
    },
    {
     "data": {
      "application/vnd.jupyter.widget-view+json": {
       "model_id": "3696553f8fa344f98ade71a8c4f7e1c9",
       "version_major": 2,
       "version_minor": 0
      },
      "text/plain": [
       "Split strings:   0%|          | 0/1 [00:00<?, ?it/s]"
      ]
     },
     "metadata": {},
     "output_type": "display_data"
    },
    {
     "data": {
      "application/vnd.jupyter.widget-view+json": {
       "model_id": "04ba9c86cb1a4a58b93be369b6bf1b53",
       "version_major": 2,
       "version_minor": 0
      },
      "text/plain": [
       "BM25S Retrieve:   0%|          | 0/1 [00:00<?, ?it/s]"
      ]
     },
     "metadata": {},
     "output_type": "display_data"
    },
    {
     "data": {
      "application/vnd.jupyter.widget-view+json": {
       "model_id": "57869ad117244de195d2d5514b350e33",
       "version_major": 2,
       "version_minor": 0
      },
      "text/plain": [
       "Fetching 9 files:   0%|          | 0/9 [00:00<?, ?it/s]"
      ]
     },
     "metadata": {},
     "output_type": "display_data"
    },
    {
     "data": {
      "application/vnd.jupyter.widget-view+json": {
       "model_id": "9bdbb0ea4d5240a1bbd92d39e8c1596d",
       "version_major": 2,
       "version_minor": 0
      },
      "text/plain": [
       "Split strings:   0%|          | 0/1 [00:00<?, ?it/s]"
      ]
     },
     "metadata": {},
     "output_type": "display_data"
    },
    {
     "data": {
      "application/vnd.jupyter.widget-view+json": {
       "model_id": "9037b60e17e2464fa71f2762b097914a",
       "version_major": 2,
       "version_minor": 0
      },
      "text/plain": [
       "BM25S Retrieve:   0%|          | 0/1 [00:00<?, ?it/s]"
      ]
     },
     "metadata": {},
     "output_type": "display_data"
    },
    {
     "data": {
      "application/vnd.jupyter.widget-view+json": {
       "model_id": "5b503f97fab44b9196ebaf4c88d2d43f",
       "version_major": 2,
       "version_minor": 0
      },
      "text/plain": [
       "Fetching 9 files:   0%|          | 0/9 [00:00<?, ?it/s]"
      ]
     },
     "metadata": {},
     "output_type": "display_data"
    },
    {
     "data": {
      "application/vnd.jupyter.widget-view+json": {
       "model_id": "d69e1390bbc14a0baa8567d54a904f0c",
       "version_major": 2,
       "version_minor": 0
      },
      "text/plain": [
       "Split strings:   0%|          | 0/1 [00:00<?, ?it/s]"
      ]
     },
     "metadata": {},
     "output_type": "display_data"
    },
    {
     "data": {
      "application/vnd.jupyter.widget-view+json": {
       "model_id": "b41949a3a4fe47c392093290d918d646",
       "version_major": 2,
       "version_minor": 0
      },
      "text/plain": [
       "BM25S Retrieve:   0%|          | 0/1 [00:00<?, ?it/s]"
      ]
     },
     "metadata": {},
     "output_type": "display_data"
    },
    {
     "data": {
      "application/vnd.jupyter.widget-view+json": {
       "model_id": "61dbc88265804773b50409747ad02295",
       "version_major": 2,
       "version_minor": 0
      },
      "text/plain": [
       "Fetching 9 files:   0%|          | 0/9 [00:00<?, ?it/s]"
      ]
     },
     "metadata": {},
     "output_type": "display_data"
    },
    {
     "data": {
      "application/vnd.jupyter.widget-view+json": {
       "model_id": "67792a35f784449ba4290485d0f056ce",
       "version_major": 2,
       "version_minor": 0
      },
      "text/plain": [
       "Split strings:   0%|          | 0/1 [00:00<?, ?it/s]"
      ]
     },
     "metadata": {},
     "output_type": "display_data"
    },
    {
     "data": {
      "application/vnd.jupyter.widget-view+json": {
       "model_id": "70dad7b45fd74a289316b9351158da3c",
       "version_major": 2,
       "version_minor": 0
      },
      "text/plain": [
       "BM25S Retrieve:   0%|          | 0/1 [00:00<?, ?it/s]"
      ]
     },
     "metadata": {},
     "output_type": "display_data"
    },
    {
     "data": {
      "application/vnd.jupyter.widget-view+json": {
       "model_id": "90596af43a334e83bd8ac8cbbcffabc1",
       "version_major": 2,
       "version_minor": 0
      },
      "text/plain": [
       "Fetching 9 files:   0%|          | 0/9 [00:00<?, ?it/s]"
      ]
     },
     "metadata": {},
     "output_type": "display_data"
    },
    {
     "data": {
      "application/vnd.jupyter.widget-view+json": {
       "model_id": "846d83d68b8b45dc9404f791d2881582",
       "version_major": 2,
       "version_minor": 0
      },
      "text/plain": [
       "Split strings:   0%|          | 0/1 [00:00<?, ?it/s]"
      ]
     },
     "metadata": {},
     "output_type": "display_data"
    },
    {
     "data": {
      "application/vnd.jupyter.widget-view+json": {
       "model_id": "6648cee1d2544f229e86c8baafccca7c",
       "version_major": 2,
       "version_minor": 0
      },
      "text/plain": [
       "BM25S Retrieve:   0%|          | 0/1 [00:00<?, ?it/s]"
      ]
     },
     "metadata": {},
     "output_type": "display_data"
    },
    {
     "data": {
      "application/vnd.jupyter.widget-view+json": {
       "model_id": "b574b208330548e3ae6ee6efd35b05b2",
       "version_major": 2,
       "version_minor": 0
      },
      "text/plain": [
       "Fetching 9 files:   0%|          | 0/9 [00:00<?, ?it/s]"
      ]
     },
     "metadata": {},
     "output_type": "display_data"
    },
    {
     "data": {
      "application/vnd.jupyter.widget-view+json": {
       "model_id": "32e5984497784ccdb66ebe0942ffd482",
       "version_major": 2,
       "version_minor": 0
      },
      "text/plain": [
       "Split strings:   0%|          | 0/1 [00:00<?, ?it/s]"
      ]
     },
     "metadata": {},
     "output_type": "display_data"
    },
    {
     "data": {
      "application/vnd.jupyter.widget-view+json": {
       "model_id": "c609a8bb4920403ba0a4abf0e7c5dc5c",
       "version_major": 2,
       "version_minor": 0
      },
      "text/plain": [
       "BM25S Retrieve:   0%|          | 0/1 [00:00<?, ?it/s]"
      ]
     },
     "metadata": {},
     "output_type": "display_data"
    },
    {
     "data": {
      "application/vnd.jupyter.widget-view+json": {
       "model_id": "bdc2339589e34caf9c5b8d84e6fa6502",
       "version_major": 2,
       "version_minor": 0
      },
      "text/plain": [
       "Fetching 9 files:   0%|          | 0/9 [00:00<?, ?it/s]"
      ]
     },
     "metadata": {},
     "output_type": "display_data"
    },
    {
     "data": {
      "application/vnd.jupyter.widget-view+json": {
       "model_id": "f07a1bc993604dc484d91e88de5e1c44",
       "version_major": 2,
       "version_minor": 0
      },
      "text/plain": [
       "Split strings:   0%|          | 0/1 [00:00<?, ?it/s]"
      ]
     },
     "metadata": {},
     "output_type": "display_data"
    },
    {
     "data": {
      "application/vnd.jupyter.widget-view+json": {
       "model_id": "057a89b5d77a48d89de05ec4585f2ee6",
       "version_major": 2,
       "version_minor": 0
      },
      "text/plain": [
       "BM25S Retrieve:   0%|          | 0/1 [00:00<?, ?it/s]"
      ]
     },
     "metadata": {},
     "output_type": "display_data"
    },
    {
     "data": {
      "application/vnd.jupyter.widget-view+json": {
       "model_id": "26fdbab9936b4509a5e3cb68822c993d",
       "version_major": 2,
       "version_minor": 0
      },
      "text/plain": [
       "Fetching 9 files:   0%|          | 0/9 [00:00<?, ?it/s]"
      ]
     },
     "metadata": {},
     "output_type": "display_data"
    },
    {
     "data": {
      "application/vnd.jupyter.widget-view+json": {
       "model_id": "930db432969a4865ae87748a55bc0c6b",
       "version_major": 2,
       "version_minor": 0
      },
      "text/plain": [
       "Split strings:   0%|          | 0/1 [00:00<?, ?it/s]"
      ]
     },
     "metadata": {},
     "output_type": "display_data"
    },
    {
     "data": {
      "application/vnd.jupyter.widget-view+json": {
       "model_id": "907da4fe25b34611b1cbfa812e4d2360",
       "version_major": 2,
       "version_minor": 0
      },
      "text/plain": [
       "BM25S Retrieve:   0%|          | 0/1 [00:00<?, ?it/s]"
      ]
     },
     "metadata": {},
     "output_type": "display_data"
    },
    {
     "data": {
      "application/vnd.jupyter.widget-view+json": {
       "model_id": "3d004010f6e743e6b574e141d988a10a",
       "version_major": 2,
       "version_minor": 0
      },
      "text/plain": [
       "Fetching 9 files:   0%|          | 0/9 [00:00<?, ?it/s]"
      ]
     },
     "metadata": {},
     "output_type": "display_data"
    },
    {
     "data": {
      "application/vnd.jupyter.widget-view+json": {
       "model_id": "2c3cf61d18bb4df5b64c8211db191fb1",
       "version_major": 2,
       "version_minor": 0
      },
      "text/plain": [
       "Split strings:   0%|          | 0/1 [00:00<?, ?it/s]"
      ]
     },
     "metadata": {},
     "output_type": "display_data"
    },
    {
     "data": {
      "application/vnd.jupyter.widget-view+json": {
       "model_id": "7aed5a2465c44bd1971f64cacc04372f",
       "version_major": 2,
       "version_minor": 0
      },
      "text/plain": [
       "BM25S Retrieve:   0%|          | 0/1 [00:00<?, ?it/s]"
      ]
     },
     "metadata": {},
     "output_type": "display_data"
    },
    {
     "data": {
      "application/vnd.jupyter.widget-view+json": {
       "model_id": "17940c95e0b645a08bc8f7aaf4c1eddc",
       "version_major": 2,
       "version_minor": 0
      },
      "text/plain": [
       "Fetching 9 files:   0%|          | 0/9 [00:00<?, ?it/s]"
      ]
     },
     "metadata": {},
     "output_type": "display_data"
    },
    {
     "data": {
      "application/vnd.jupyter.widget-view+json": {
       "model_id": "89364d784801408b86151188b609e1c1",
       "version_major": 2,
       "version_minor": 0
      },
      "text/plain": [
       "Split strings:   0%|          | 0/1 [00:00<?, ?it/s]"
      ]
     },
     "metadata": {},
     "output_type": "display_data"
    },
    {
     "data": {
      "application/vnd.jupyter.widget-view+json": {
       "model_id": "8456047cc8bc408eac34fb17ea4b2f7a",
       "version_major": 2,
       "version_minor": 0
      },
      "text/plain": [
       "BM25S Retrieve:   0%|          | 0/1 [00:00<?, ?it/s]"
      ]
     },
     "metadata": {},
     "output_type": "display_data"
    },
    {
     "data": {
      "application/vnd.jupyter.widget-view+json": {
       "model_id": "b55549932fc64dce824e9d2d6a73e4fb",
       "version_major": 2,
       "version_minor": 0
      },
      "text/plain": [
       "Fetching 9 files:   0%|          | 0/9 [00:00<?, ?it/s]"
      ]
     },
     "metadata": {},
     "output_type": "display_data"
    },
    {
     "data": {
      "application/vnd.jupyter.widget-view+json": {
       "model_id": "85e41fd003724413a3bf60b63329379a",
       "version_major": 2,
       "version_minor": 0
      },
      "text/plain": [
       "Split strings:   0%|          | 0/1 [00:00<?, ?it/s]"
      ]
     },
     "metadata": {},
     "output_type": "display_data"
    },
    {
     "data": {
      "application/vnd.jupyter.widget-view+json": {
       "model_id": "88e16851bfd74ac1b22b0755dea8a3d6",
       "version_major": 2,
       "version_minor": 0
      },
      "text/plain": [
       "BM25S Retrieve:   0%|          | 0/1 [00:00<?, ?it/s]"
      ]
     },
     "metadata": {},
     "output_type": "display_data"
    },
    {
     "data": {
      "application/vnd.jupyter.widget-view+json": {
       "model_id": "0b6943cb4ba2472789f11592bb287601",
       "version_major": 2,
       "version_minor": 0
      },
      "text/plain": [
       "Fetching 9 files:   0%|          | 0/9 [00:00<?, ?it/s]"
      ]
     },
     "metadata": {},
     "output_type": "display_data"
    },
    {
     "data": {
      "application/vnd.jupyter.widget-view+json": {
       "model_id": "03c2a21df2bc4e61b23c9e83a882b384",
       "version_major": 2,
       "version_minor": 0
      },
      "text/plain": [
       "Split strings:   0%|          | 0/1 [00:00<?, ?it/s]"
      ]
     },
     "metadata": {},
     "output_type": "display_data"
    },
    {
     "data": {
      "application/vnd.jupyter.widget-view+json": {
       "model_id": "5c361a863fb747f094f9fddf9b37e890",
       "version_major": 2,
       "version_minor": 0
      },
      "text/plain": [
       "BM25S Retrieve:   0%|          | 0/1 [00:00<?, ?it/s]"
      ]
     },
     "metadata": {},
     "output_type": "display_data"
    },
    {
     "data": {
      "application/vnd.jupyter.widget-view+json": {
       "model_id": "cb3a614cbd0143318711c36573bbed6f",
       "version_major": 2,
       "version_minor": 0
      },
      "text/plain": [
       "Fetching 9 files:   0%|          | 0/9 [00:00<?, ?it/s]"
      ]
     },
     "metadata": {},
     "output_type": "display_data"
    },
    {
     "data": {
      "application/vnd.jupyter.widget-view+json": {
       "model_id": "859762ca8c9845fea9e19e5c707cb142",
       "version_major": 2,
       "version_minor": 0
      },
      "text/plain": [
       "Split strings:   0%|          | 0/1 [00:00<?, ?it/s]"
      ]
     },
     "metadata": {},
     "output_type": "display_data"
    },
    {
     "data": {
      "application/vnd.jupyter.widget-view+json": {
       "model_id": "33c2c796d5414530a9e48d301703268f",
       "version_major": 2,
       "version_minor": 0
      },
      "text/plain": [
       "BM25S Retrieve:   0%|          | 0/1 [00:00<?, ?it/s]"
      ]
     },
     "metadata": {},
     "output_type": "display_data"
    },
    {
     "data": {
      "application/vnd.jupyter.widget-view+json": {
       "model_id": "d8c21631e3a048c591d1b9ca973a44d9",
       "version_major": 2,
       "version_minor": 0
      },
      "text/plain": [
       "Fetching 9 files:   0%|          | 0/9 [00:00<?, ?it/s]"
      ]
     },
     "metadata": {},
     "output_type": "display_data"
    },
    {
     "data": {
      "application/vnd.jupyter.widget-view+json": {
       "model_id": "965abb9d5a1b4c3381a526bab2841904",
       "version_major": 2,
       "version_minor": 0
      },
      "text/plain": [
       "Split strings:   0%|          | 0/1 [00:00<?, ?it/s]"
      ]
     },
     "metadata": {},
     "output_type": "display_data"
    },
    {
     "data": {
      "application/vnd.jupyter.widget-view+json": {
       "model_id": "4f6bf774a2db4de3be38ec723e95c007",
       "version_major": 2,
       "version_minor": 0
      },
      "text/plain": [
       "BM25S Retrieve:   0%|          | 0/1 [00:00<?, ?it/s]"
      ]
     },
     "metadata": {},
     "output_type": "display_data"
    },
    {
     "data": {
      "application/vnd.jupyter.widget-view+json": {
       "model_id": "73705c20ab254f36ac1e7425db251a79",
       "version_major": 2,
       "version_minor": 0
      },
      "text/plain": [
       "Fetching 9 files:   0%|          | 0/9 [00:00<?, ?it/s]"
      ]
     },
     "metadata": {},
     "output_type": "display_data"
    },
    {
     "data": {
      "application/vnd.jupyter.widget-view+json": {
       "model_id": "3ede61ac13834bb6a3089411034c0750",
       "version_major": 2,
       "version_minor": 0
      },
      "text/plain": [
       "Split strings:   0%|          | 0/1 [00:00<?, ?it/s]"
      ]
     },
     "metadata": {},
     "output_type": "display_data"
    },
    {
     "data": {
      "application/vnd.jupyter.widget-view+json": {
       "model_id": "32385dc78808404880fa0814556cd7e4",
       "version_major": 2,
       "version_minor": 0
      },
      "text/plain": [
       "BM25S Retrieve:   0%|          | 0/1 [00:00<?, ?it/s]"
      ]
     },
     "metadata": {},
     "output_type": "display_data"
    },
    {
     "data": {
      "application/vnd.jupyter.widget-view+json": {
       "model_id": "cbb1b19d338d42bc8a0a9662a9aab22b",
       "version_major": 2,
       "version_minor": 0
      },
      "text/plain": [
       "Fetching 9 files:   0%|          | 0/9 [00:00<?, ?it/s]"
      ]
     },
     "metadata": {},
     "output_type": "display_data"
    },
    {
     "data": {
      "application/vnd.jupyter.widget-view+json": {
       "model_id": "30a124eca4f8495781dabae829fcfd2c",
       "version_major": 2,
       "version_minor": 0
      },
      "text/plain": [
       "Split strings:   0%|          | 0/1 [00:00<?, ?it/s]"
      ]
     },
     "metadata": {},
     "output_type": "display_data"
    },
    {
     "data": {
      "application/vnd.jupyter.widget-view+json": {
       "model_id": "5da96bc901a9432d966faf273e76ae92",
       "version_major": 2,
       "version_minor": 0
      },
      "text/plain": [
       "BM25S Retrieve:   0%|          | 0/1 [00:00<?, ?it/s]"
      ]
     },
     "metadata": {},
     "output_type": "display_data"
    },
    {
     "data": {
      "application/vnd.jupyter.widget-view+json": {
       "model_id": "18371ebaf9da4fcbb596b55c9f3c06b2",
       "version_major": 2,
       "version_minor": 0
      },
      "text/plain": [
       "Fetching 9 files:   0%|          | 0/9 [00:00<?, ?it/s]"
      ]
     },
     "metadata": {},
     "output_type": "display_data"
    },
    {
     "data": {
      "application/vnd.jupyter.widget-view+json": {
       "model_id": "5b190522a7ac4d08a68c9598a1015830",
       "version_major": 2,
       "version_minor": 0
      },
      "text/plain": [
       "Split strings:   0%|          | 0/1 [00:00<?, ?it/s]"
      ]
     },
     "metadata": {},
     "output_type": "display_data"
    },
    {
     "data": {
      "application/vnd.jupyter.widget-view+json": {
       "model_id": "3d99d6d8885d4ae2b33beab1b6cbe4c3",
       "version_major": 2,
       "version_minor": 0
      },
      "text/plain": [
       "BM25S Retrieve:   0%|          | 0/1 [00:00<?, ?it/s]"
      ]
     },
     "metadata": {},
     "output_type": "display_data"
    },
    {
     "data": {
      "application/vnd.jupyter.widget-view+json": {
       "model_id": "e1205fe528c449c3831b1ea777559c15",
       "version_major": 2,
       "version_minor": 0
      },
      "text/plain": [
       "Fetching 9 files:   0%|          | 0/9 [00:00<?, ?it/s]"
      ]
     },
     "metadata": {},
     "output_type": "display_data"
    },
    {
     "data": {
      "application/vnd.jupyter.widget-view+json": {
       "model_id": "c6f982cabf0a4785810a22d2bc1b554e",
       "version_major": 2,
       "version_minor": 0
      },
      "text/plain": [
       "Split strings:   0%|          | 0/1 [00:00<?, ?it/s]"
      ]
     },
     "metadata": {},
     "output_type": "display_data"
    },
    {
     "data": {
      "application/vnd.jupyter.widget-view+json": {
       "model_id": "b1a8d796ee2841259f90a5448e6b3be1",
       "version_major": 2,
       "version_minor": 0
      },
      "text/plain": [
       "BM25S Retrieve:   0%|          | 0/1 [00:00<?, ?it/s]"
      ]
     },
     "metadata": {},
     "output_type": "display_data"
    },
    {
     "data": {
      "application/vnd.jupyter.widget-view+json": {
       "model_id": "2969af6b62fc43209429da897b3f8f1d",
       "version_major": 2,
       "version_minor": 0
      },
      "text/plain": [
       "Fetching 9 files:   0%|          | 0/9 [00:00<?, ?it/s]"
      ]
     },
     "metadata": {},
     "output_type": "display_data"
    },
    {
     "data": {
      "application/vnd.jupyter.widget-view+json": {
       "model_id": "0dfad99b8f8d4c4c9579a8f065114ee9",
       "version_major": 2,
       "version_minor": 0
      },
      "text/plain": [
       "Split strings:   0%|          | 0/1 [00:00<?, ?it/s]"
      ]
     },
     "metadata": {},
     "output_type": "display_data"
    },
    {
     "data": {
      "application/vnd.jupyter.widget-view+json": {
       "model_id": "f6debdc6805e435e87da14d7c5fe8fd2",
       "version_major": 2,
       "version_minor": 0
      },
      "text/plain": [
       "BM25S Retrieve:   0%|          | 0/1 [00:00<?, ?it/s]"
      ]
     },
     "metadata": {},
     "output_type": "display_data"
    },
    {
     "data": {
      "application/vnd.jupyter.widget-view+json": {
       "model_id": "c60cb940a8b147c9ae3c06ed749d643d",
       "version_major": 2,
       "version_minor": 0
      },
      "text/plain": [
       "Fetching 9 files:   0%|          | 0/9 [00:00<?, ?it/s]"
      ]
     },
     "metadata": {},
     "output_type": "display_data"
    },
    {
     "data": {
      "application/vnd.jupyter.widget-view+json": {
       "model_id": "b0bd84742cce4935b8142edb49c5e21c",
       "version_major": 2,
       "version_minor": 0
      },
      "text/plain": [
       "Split strings:   0%|          | 0/1 [00:00<?, ?it/s]"
      ]
     },
     "metadata": {},
     "output_type": "display_data"
    },
    {
     "data": {
      "application/vnd.jupyter.widget-view+json": {
       "model_id": "1abb032400c74e9b88617ed12696979c",
       "version_major": 2,
       "version_minor": 0
      },
      "text/plain": [
       "BM25S Retrieve:   0%|          | 0/1 [00:00<?, ?it/s]"
      ]
     },
     "metadata": {},
     "output_type": "display_data"
    },
    {
     "data": {
      "application/vnd.jupyter.widget-view+json": {
       "model_id": "02ac572248a2419e9e4854efe52d8fde",
       "version_major": 2,
       "version_minor": 0
      },
      "text/plain": [
       "Fetching 9 files:   0%|          | 0/9 [00:00<?, ?it/s]"
      ]
     },
     "metadata": {},
     "output_type": "display_data"
    },
    {
     "data": {
      "application/vnd.jupyter.widget-view+json": {
       "model_id": "e65378c9d9934c36a0813e7ee36d068b",
       "version_major": 2,
       "version_minor": 0
      },
      "text/plain": [
       "Split strings:   0%|          | 0/1 [00:00<?, ?it/s]"
      ]
     },
     "metadata": {},
     "output_type": "display_data"
    },
    {
     "data": {
      "application/vnd.jupyter.widget-view+json": {
       "model_id": "897ec511c8f24df9b027a09d82e17fab",
       "version_major": 2,
       "version_minor": 0
      },
      "text/plain": [
       "BM25S Retrieve:   0%|          | 0/1 [00:00<?, ?it/s]"
      ]
     },
     "metadata": {},
     "output_type": "display_data"
    },
    {
     "data": {
      "application/vnd.jupyter.widget-view+json": {
       "model_id": "bc2d463c35f64aa6a903b3033ecfebd3",
       "version_major": 2,
       "version_minor": 0
      },
      "text/plain": [
       "Fetching 9 files:   0%|          | 0/9 [00:00<?, ?it/s]"
      ]
     },
     "metadata": {},
     "output_type": "display_data"
    },
    {
     "data": {
      "application/vnd.jupyter.widget-view+json": {
       "model_id": "52f563ce320c4628a816283422ce31e0",
       "version_major": 2,
       "version_minor": 0
      },
      "text/plain": [
       "Split strings:   0%|          | 0/1 [00:00<?, ?it/s]"
      ]
     },
     "metadata": {},
     "output_type": "display_data"
    },
    {
     "data": {
      "application/vnd.jupyter.widget-view+json": {
       "model_id": "53515558c69f4afb8cb033a15093819f",
       "version_major": 2,
       "version_minor": 0
      },
      "text/plain": [
       "BM25S Retrieve:   0%|          | 0/1 [00:00<?, ?it/s]"
      ]
     },
     "metadata": {},
     "output_type": "display_data"
    },
    {
     "data": {
      "application/vnd.jupyter.widget-view+json": {
       "model_id": "20ac810d3ed3469a857e399843cbf3b6",
       "version_major": 2,
       "version_minor": 0
      },
      "text/plain": [
       "Fetching 9 files:   0%|          | 0/9 [00:00<?, ?it/s]"
      ]
     },
     "metadata": {},
     "output_type": "display_data"
    },
    {
     "data": {
      "application/vnd.jupyter.widget-view+json": {
       "model_id": "831efc9acf6b401ca7e38feaad24a57d",
       "version_major": 2,
       "version_minor": 0
      },
      "text/plain": [
       "Split strings:   0%|          | 0/1 [00:00<?, ?it/s]"
      ]
     },
     "metadata": {},
     "output_type": "display_data"
    },
    {
     "data": {
      "application/vnd.jupyter.widget-view+json": {
       "model_id": "0f0f1a0556eb40f185fe0e87a5ca3a17",
       "version_major": 2,
       "version_minor": 0
      },
      "text/plain": [
       "BM25S Retrieve:   0%|          | 0/1 [00:00<?, ?it/s]"
      ]
     },
     "metadata": {},
     "output_type": "display_data"
    },
    {
     "data": {
      "application/vnd.jupyter.widget-view+json": {
       "model_id": "b54d22f7b18a4f52a073dea92f612090",
       "version_major": 2,
       "version_minor": 0
      },
      "text/plain": [
       "Fetching 9 files:   0%|          | 0/9 [00:00<?, ?it/s]"
      ]
     },
     "metadata": {},
     "output_type": "display_data"
    },
    {
     "data": {
      "application/vnd.jupyter.widget-view+json": {
       "model_id": "d6d6dcca24504c228dabce84016e3c82",
       "version_major": 2,
       "version_minor": 0
      },
      "text/plain": [
       "Split strings:   0%|          | 0/1 [00:00<?, ?it/s]"
      ]
     },
     "metadata": {},
     "output_type": "display_data"
    },
    {
     "data": {
      "application/vnd.jupyter.widget-view+json": {
       "model_id": "8473b75f3eb344499f335ab341dbaba1",
       "version_major": 2,
       "version_minor": 0
      },
      "text/plain": [
       "BM25S Retrieve:   0%|          | 0/1 [00:00<?, ?it/s]"
      ]
     },
     "metadata": {},
     "output_type": "display_data"
    },
    {
     "data": {
      "application/vnd.jupyter.widget-view+json": {
       "model_id": "1663554b61b1462bb0694c63b6c29a61",
       "version_major": 2,
       "version_minor": 0
      },
      "text/plain": [
       "Fetching 9 files:   0%|          | 0/9 [00:00<?, ?it/s]"
      ]
     },
     "metadata": {},
     "output_type": "display_data"
    },
    {
     "data": {
      "application/vnd.jupyter.widget-view+json": {
       "model_id": "6ccd4cfdb9d4459890d41994d1854935",
       "version_major": 2,
       "version_minor": 0
      },
      "text/plain": [
       "Split strings:   0%|          | 0/1 [00:00<?, ?it/s]"
      ]
     },
     "metadata": {},
     "output_type": "display_data"
    },
    {
     "data": {
      "application/vnd.jupyter.widget-view+json": {
       "model_id": "d4d40930d54445adb23f2ffc3e2d2e4a",
       "version_major": 2,
       "version_minor": 0
      },
      "text/plain": [
       "BM25S Retrieve:   0%|          | 0/1 [00:00<?, ?it/s]"
      ]
     },
     "metadata": {},
     "output_type": "display_data"
    },
    {
     "data": {
      "application/vnd.jupyter.widget-view+json": {
       "model_id": "9602e6fac65f426da05c2e5213af73bf",
       "version_major": 2,
       "version_minor": 0
      },
      "text/plain": [
       "Fetching 9 files:   0%|          | 0/9 [00:00<?, ?it/s]"
      ]
     },
     "metadata": {},
     "output_type": "display_data"
    },
    {
     "data": {
      "application/vnd.jupyter.widget-view+json": {
       "model_id": "935cc7e6b1354bdcb4c9f98e59927924",
       "version_major": 2,
       "version_minor": 0
      },
      "text/plain": [
       "Split strings:   0%|          | 0/1 [00:00<?, ?it/s]"
      ]
     },
     "metadata": {},
     "output_type": "display_data"
    },
    {
     "data": {
      "application/vnd.jupyter.widget-view+json": {
       "model_id": "04f4d5fa0a4c4b34a294e55fe845a6e6",
       "version_major": 2,
       "version_minor": 0
      },
      "text/plain": [
       "BM25S Retrieve:   0%|          | 0/1 [00:00<?, ?it/s]"
      ]
     },
     "metadata": {},
     "output_type": "display_data"
    },
    {
     "data": {
      "application/vnd.jupyter.widget-view+json": {
       "model_id": "6d98efe90fce40aaa35a662dc8a4ac8f",
       "version_major": 2,
       "version_minor": 0
      },
      "text/plain": [
       "Fetching 9 files:   0%|          | 0/9 [00:00<?, ?it/s]"
      ]
     },
     "metadata": {},
     "output_type": "display_data"
    },
    {
     "data": {
      "application/vnd.jupyter.widget-view+json": {
       "model_id": "6c24fb75d9a04cafa7808f39ea2c992b",
       "version_major": 2,
       "version_minor": 0
      },
      "text/plain": [
       "Split strings:   0%|          | 0/1 [00:00<?, ?it/s]"
      ]
     },
     "metadata": {},
     "output_type": "display_data"
    },
    {
     "data": {
      "application/vnd.jupyter.widget-view+json": {
       "model_id": "3b7408388feb48b2ba5ee17fce15bc22",
       "version_major": 2,
       "version_minor": 0
      },
      "text/plain": [
       "BM25S Retrieve:   0%|          | 0/1 [00:00<?, ?it/s]"
      ]
     },
     "metadata": {},
     "output_type": "display_data"
    },
    {
     "data": {
      "application/vnd.jupyter.widget-view+json": {
       "model_id": "7e82babc3e5c48308b54f4f0dbd0daeb",
       "version_major": 2,
       "version_minor": 0
      },
      "text/plain": [
       "Fetching 9 files:   0%|          | 0/9 [00:00<?, ?it/s]"
      ]
     },
     "metadata": {},
     "output_type": "display_data"
    },
    {
     "data": {
      "application/vnd.jupyter.widget-view+json": {
       "model_id": "72118df6e2c2412eaa60ecc47c2545ef",
       "version_major": 2,
       "version_minor": 0
      },
      "text/plain": [
       "Split strings:   0%|          | 0/1 [00:00<?, ?it/s]"
      ]
     },
     "metadata": {},
     "output_type": "display_data"
    },
    {
     "data": {
      "application/vnd.jupyter.widget-view+json": {
       "model_id": "c286cb3c54494c5980b01f3a341e6ec0",
       "version_major": 2,
       "version_minor": 0
      },
      "text/plain": [
       "BM25S Retrieve:   0%|          | 0/1 [00:00<?, ?it/s]"
      ]
     },
     "metadata": {},
     "output_type": "display_data"
    },
    {
     "data": {
      "application/vnd.jupyter.widget-view+json": {
       "model_id": "b7de72211c164ea18625c4701f983214",
       "version_major": 2,
       "version_minor": 0
      },
      "text/plain": [
       "Fetching 9 files:   0%|          | 0/9 [00:00<?, ?it/s]"
      ]
     },
     "metadata": {},
     "output_type": "display_data"
    },
    {
     "data": {
      "application/vnd.jupyter.widget-view+json": {
       "model_id": "a732fafd67d648bf8cdffc140b236494",
       "version_major": 2,
       "version_minor": 0
      },
      "text/plain": [
       "Split strings:   0%|          | 0/1 [00:00<?, ?it/s]"
      ]
     },
     "metadata": {},
     "output_type": "display_data"
    },
    {
     "data": {
      "application/vnd.jupyter.widget-view+json": {
       "model_id": "3786a576787f43c298132bb05efe1bc0",
       "version_major": 2,
       "version_minor": 0
      },
      "text/plain": [
       "BM25S Retrieve:   0%|          | 0/1 [00:00<?, ?it/s]"
      ]
     },
     "metadata": {},
     "output_type": "display_data"
    },
    {
     "data": {
      "application/vnd.jupyter.widget-view+json": {
       "model_id": "e321d63692c346348666f622e8dca60c",
       "version_major": 2,
       "version_minor": 0
      },
      "text/plain": [
       "Fetching 9 files:   0%|          | 0/9 [00:00<?, ?it/s]"
      ]
     },
     "metadata": {},
     "output_type": "display_data"
    },
    {
     "data": {
      "application/vnd.jupyter.widget-view+json": {
       "model_id": "4c643751fb524a7b80825e66e3c61de0",
       "version_major": 2,
       "version_minor": 0
      },
      "text/plain": [
       "Split strings:   0%|          | 0/1 [00:00<?, ?it/s]"
      ]
     },
     "metadata": {},
     "output_type": "display_data"
    },
    {
     "data": {
      "application/vnd.jupyter.widget-view+json": {
       "model_id": "e97c28d4863e4fd59f3cfa5613913be7",
       "version_major": 2,
       "version_minor": 0
      },
      "text/plain": [
       "BM25S Retrieve:   0%|          | 0/1 [00:00<?, ?it/s]"
      ]
     },
     "metadata": {},
     "output_type": "display_data"
    },
    {
     "data": {
      "application/vnd.jupyter.widget-view+json": {
       "model_id": "192d8efb14994e54a47b9621dc250978",
       "version_major": 2,
       "version_minor": 0
      },
      "text/plain": [
       "Fetching 9 files:   0%|          | 0/9 [00:00<?, ?it/s]"
      ]
     },
     "metadata": {},
     "output_type": "display_data"
    },
    {
     "data": {
      "application/vnd.jupyter.widget-view+json": {
       "model_id": "66dbf15bc4474aaab7bdbac1947f8e73",
       "version_major": 2,
       "version_minor": 0
      },
      "text/plain": [
       "Split strings:   0%|          | 0/1 [00:00<?, ?it/s]"
      ]
     },
     "metadata": {},
     "output_type": "display_data"
    },
    {
     "data": {
      "application/vnd.jupyter.widget-view+json": {
       "model_id": "4db74c9d84054e7f96f1ad79baff0d77",
       "version_major": 2,
       "version_minor": 0
      },
      "text/plain": [
       "BM25S Retrieve:   0%|          | 0/1 [00:00<?, ?it/s]"
      ]
     },
     "metadata": {},
     "output_type": "display_data"
    },
    {
     "data": {
      "application/vnd.jupyter.widget-view+json": {
       "model_id": "99f1bc95de7047b5be1fdd194a9cfc90",
       "version_major": 2,
       "version_minor": 0
      },
      "text/plain": [
       "Fetching 9 files:   0%|          | 0/9 [00:00<?, ?it/s]"
      ]
     },
     "metadata": {},
     "output_type": "display_data"
    },
    {
     "data": {
      "application/vnd.jupyter.widget-view+json": {
       "model_id": "b4603cca57b1417c87ada5490f9560d0",
       "version_major": 2,
       "version_minor": 0
      },
      "text/plain": [
       "Split strings:   0%|          | 0/1 [00:00<?, ?it/s]"
      ]
     },
     "metadata": {},
     "output_type": "display_data"
    },
    {
     "data": {
      "application/vnd.jupyter.widget-view+json": {
       "model_id": "f7b09904262744718359994f2f2fee2f",
       "version_major": 2,
       "version_minor": 0
      },
      "text/plain": [
       "BM25S Retrieve:   0%|          | 0/1 [00:00<?, ?it/s]"
      ]
     },
     "metadata": {},
     "output_type": "display_data"
    },
    {
     "data": {
      "application/vnd.jupyter.widget-view+json": {
       "model_id": "cc1b6502573b4829b4b9ccb15427f2af",
       "version_major": 2,
       "version_minor": 0
      },
      "text/plain": [
       "Fetching 9 files:   0%|          | 0/9 [00:00<?, ?it/s]"
      ]
     },
     "metadata": {},
     "output_type": "display_data"
    },
    {
     "data": {
      "application/vnd.jupyter.widget-view+json": {
       "model_id": "eda52178975c4c7690551680c534f923",
       "version_major": 2,
       "version_minor": 0
      },
      "text/plain": [
       "Split strings:   0%|          | 0/1 [00:00<?, ?it/s]"
      ]
     },
     "metadata": {},
     "output_type": "display_data"
    },
    {
     "data": {
      "application/vnd.jupyter.widget-view+json": {
       "model_id": "13829b2873c545b7a4a8f4e10664b38f",
       "version_major": 2,
       "version_minor": 0
      },
      "text/plain": [
       "BM25S Retrieve:   0%|          | 0/1 [00:00<?, ?it/s]"
      ]
     },
     "metadata": {},
     "output_type": "display_data"
    },
    {
     "data": {
      "application/vnd.jupyter.widget-view+json": {
       "model_id": "2640aee9adc94ad1b5e1158092260db0",
       "version_major": 2,
       "version_minor": 0
      },
      "text/plain": [
       "Fetching 9 files:   0%|          | 0/9 [00:00<?, ?it/s]"
      ]
     },
     "metadata": {},
     "output_type": "display_data"
    },
    {
     "data": {
      "application/vnd.jupyter.widget-view+json": {
       "model_id": "163da26464c94c45b96d7f4a37f35972",
       "version_major": 2,
       "version_minor": 0
      },
      "text/plain": [
       "Split strings:   0%|          | 0/1 [00:00<?, ?it/s]"
      ]
     },
     "metadata": {},
     "output_type": "display_data"
    },
    {
     "data": {
      "application/vnd.jupyter.widget-view+json": {
       "model_id": "8feb97004b41490293c45363a760ad40",
       "version_major": 2,
       "version_minor": 0
      },
      "text/plain": [
       "BM25S Retrieve:   0%|          | 0/1 [00:00<?, ?it/s]"
      ]
     },
     "metadata": {},
     "output_type": "display_data"
    },
    {
     "data": {
      "application/vnd.jupyter.widget-view+json": {
       "model_id": "e9bb48df90df4cf78c18cb2869e9ec29",
       "version_major": 2,
       "version_minor": 0
      },
      "text/plain": [
       "Fetching 9 files:   0%|          | 0/9 [00:00<?, ?it/s]"
      ]
     },
     "metadata": {},
     "output_type": "display_data"
    },
    {
     "data": {
      "application/vnd.jupyter.widget-view+json": {
       "model_id": "c7d7f1f6dd584f0c8c94db16c2fbdac4",
       "version_major": 2,
       "version_minor": 0
      },
      "text/plain": [
       "Split strings:   0%|          | 0/1 [00:00<?, ?it/s]"
      ]
     },
     "metadata": {},
     "output_type": "display_data"
    },
    {
     "data": {
      "application/vnd.jupyter.widget-view+json": {
       "model_id": "987c972639ec4303a7d68d9fa059b96a",
       "version_major": 2,
       "version_minor": 0
      },
      "text/plain": [
       "BM25S Retrieve:   0%|          | 0/1 [00:00<?, ?it/s]"
      ]
     },
     "metadata": {},
     "output_type": "display_data"
    },
    {
     "data": {
      "application/vnd.jupyter.widget-view+json": {
       "model_id": "8f84ee5fa82a41f6a29db6c0e2ac326b",
       "version_major": 2,
       "version_minor": 0
      },
      "text/plain": [
       "Fetching 9 files:   0%|          | 0/9 [00:00<?, ?it/s]"
      ]
     },
     "metadata": {},
     "output_type": "display_data"
    },
    {
     "data": {
      "application/vnd.jupyter.widget-view+json": {
       "model_id": "aed00e03c81449e7ab3664ad4acf74b5",
       "version_major": 2,
       "version_minor": 0
      },
      "text/plain": [
       "Split strings:   0%|          | 0/1 [00:00<?, ?it/s]"
      ]
     },
     "metadata": {},
     "output_type": "display_data"
    },
    {
     "data": {
      "application/vnd.jupyter.widget-view+json": {
       "model_id": "67d34a742e46412294da076a70fe5bf1",
       "version_major": 2,
       "version_minor": 0
      },
      "text/plain": [
       "BM25S Retrieve:   0%|          | 0/1 [00:00<?, ?it/s]"
      ]
     },
     "metadata": {},
     "output_type": "display_data"
    },
    {
     "data": {
      "application/vnd.jupyter.widget-view+json": {
       "model_id": "c3f0764a456f48f99f23c924652654bb",
       "version_major": 2,
       "version_minor": 0
      },
      "text/plain": [
       "Fetching 9 files:   0%|          | 0/9 [00:00<?, ?it/s]"
      ]
     },
     "metadata": {},
     "output_type": "display_data"
    },
    {
     "data": {
      "application/vnd.jupyter.widget-view+json": {
       "model_id": "fac7b0303d1d426bb249e90c2eb85f43",
       "version_major": 2,
       "version_minor": 0
      },
      "text/plain": [
       "Split strings:   0%|          | 0/1 [00:00<?, ?it/s]"
      ]
     },
     "metadata": {},
     "output_type": "display_data"
    },
    {
     "data": {
      "application/vnd.jupyter.widget-view+json": {
       "model_id": "74074c9a1fbf49678d2ecbe7ba4107bc",
       "version_major": 2,
       "version_minor": 0
      },
      "text/plain": [
       "BM25S Retrieve:   0%|          | 0/1 [00:00<?, ?it/s]"
      ]
     },
     "metadata": {},
     "output_type": "display_data"
    },
    {
     "data": {
      "application/vnd.jupyter.widget-view+json": {
       "model_id": "fb282a924bae48aebd47c0f88af4a72e",
       "version_major": 2,
       "version_minor": 0
      },
      "text/plain": [
       "Fetching 9 files:   0%|          | 0/9 [00:00<?, ?it/s]"
      ]
     },
     "metadata": {},
     "output_type": "display_data"
    },
    {
     "data": {
      "application/vnd.jupyter.widget-view+json": {
       "model_id": "00cb65e98b574248b70cd6c5b085fc33",
       "version_major": 2,
       "version_minor": 0
      },
      "text/plain": [
       "Split strings:   0%|          | 0/1 [00:00<?, ?it/s]"
      ]
     },
     "metadata": {},
     "output_type": "display_data"
    },
    {
     "data": {
      "application/vnd.jupyter.widget-view+json": {
       "model_id": "a63e8fae1b96419ab634d16dfaed3eb5",
       "version_major": 2,
       "version_minor": 0
      },
      "text/plain": [
       "BM25S Retrieve:   0%|          | 0/1 [00:00<?, ?it/s]"
      ]
     },
     "metadata": {},
     "output_type": "display_data"
    },
    {
     "data": {
      "application/vnd.jupyter.widget-view+json": {
       "model_id": "6fd41238430c41eca06f9cd20b317c8f",
       "version_major": 2,
       "version_minor": 0
      },
      "text/plain": [
       "Fetching 9 files:   0%|          | 0/9 [00:00<?, ?it/s]"
      ]
     },
     "metadata": {},
     "output_type": "display_data"
    },
    {
     "data": {
      "application/vnd.jupyter.widget-view+json": {
       "model_id": "57ffb1880303426eaf4b00fa22494d54",
       "version_major": 2,
       "version_minor": 0
      },
      "text/plain": [
       "Split strings:   0%|          | 0/1 [00:00<?, ?it/s]"
      ]
     },
     "metadata": {},
     "output_type": "display_data"
    },
    {
     "data": {
      "application/vnd.jupyter.widget-view+json": {
       "model_id": "e6b6502a614c43c1977241b4fae95315",
       "version_major": 2,
       "version_minor": 0
      },
      "text/plain": [
       "BM25S Retrieve:   0%|          | 0/1 [00:00<?, ?it/s]"
      ]
     },
     "metadata": {},
     "output_type": "display_data"
    },
    {
     "data": {
      "application/vnd.jupyter.widget-view+json": {
       "model_id": "472b6b0a66524ae5ab8314193f30b553",
       "version_major": 2,
       "version_minor": 0
      },
      "text/plain": [
       "Fetching 9 files:   0%|          | 0/9 [00:00<?, ?it/s]"
      ]
     },
     "metadata": {},
     "output_type": "display_data"
    },
    {
     "data": {
      "application/vnd.jupyter.widget-view+json": {
       "model_id": "373a48c117f04e95ad151d6c95fa0cd4",
       "version_major": 2,
       "version_minor": 0
      },
      "text/plain": [
       "Split strings:   0%|          | 0/1 [00:00<?, ?it/s]"
      ]
     },
     "metadata": {},
     "output_type": "display_data"
    },
    {
     "data": {
      "application/vnd.jupyter.widget-view+json": {
       "model_id": "07983bf485014906af0f6f0e5a60128a",
       "version_major": 2,
       "version_minor": 0
      },
      "text/plain": [
       "BM25S Retrieve:   0%|          | 0/1 [00:00<?, ?it/s]"
      ]
     },
     "metadata": {},
     "output_type": "display_data"
    },
    {
     "data": {
      "application/vnd.jupyter.widget-view+json": {
       "model_id": "63af79a57bdb464a9c25a15baefb74fa",
       "version_major": 2,
       "version_minor": 0
      },
      "text/plain": [
       "Fetching 9 files:   0%|          | 0/9 [00:00<?, ?it/s]"
      ]
     },
     "metadata": {},
     "output_type": "display_data"
    },
    {
     "data": {
      "application/vnd.jupyter.widget-view+json": {
       "model_id": "4c2b8bd3e90248d2b04e80668d8e22e1",
       "version_major": 2,
       "version_minor": 0
      },
      "text/plain": [
       "Split strings:   0%|          | 0/1 [00:00<?, ?it/s]"
      ]
     },
     "metadata": {},
     "output_type": "display_data"
    },
    {
     "data": {
      "application/vnd.jupyter.widget-view+json": {
       "model_id": "6ccc0f3400cf4627b034f445d96759d7",
       "version_major": 2,
       "version_minor": 0
      },
      "text/plain": [
       "BM25S Retrieve:   0%|          | 0/1 [00:00<?, ?it/s]"
      ]
     },
     "metadata": {},
     "output_type": "display_data"
    },
    {
     "data": {
      "application/vnd.jupyter.widget-view+json": {
       "model_id": "0d845da3ef5245a6902b471a83822602",
       "version_major": 2,
       "version_minor": 0
      },
      "text/plain": [
       "Fetching 9 files:   0%|          | 0/9 [00:00<?, ?it/s]"
      ]
     },
     "metadata": {},
     "output_type": "display_data"
    },
    {
     "data": {
      "application/vnd.jupyter.widget-view+json": {
       "model_id": "3b66d4e1f6fe414b9b92632a204b9bad",
       "version_major": 2,
       "version_minor": 0
      },
      "text/plain": [
       "Split strings:   0%|          | 0/1 [00:00<?, ?it/s]"
      ]
     },
     "metadata": {},
     "output_type": "display_data"
    },
    {
     "data": {
      "application/vnd.jupyter.widget-view+json": {
       "model_id": "5e2f4df9f22343bc8f8981dce321b16e",
       "version_major": 2,
       "version_minor": 0
      },
      "text/plain": [
       "BM25S Retrieve:   0%|          | 0/1 [00:00<?, ?it/s]"
      ]
     },
     "metadata": {},
     "output_type": "display_data"
    },
    {
     "data": {
      "application/vnd.jupyter.widget-view+json": {
       "model_id": "72efc2aac9794a74b0daffc10aa50238",
       "version_major": 2,
       "version_minor": 0
      },
      "text/plain": [
       "Fetching 9 files:   0%|          | 0/9 [00:00<?, ?it/s]"
      ]
     },
     "metadata": {},
     "output_type": "display_data"
    },
    {
     "data": {
      "application/vnd.jupyter.widget-view+json": {
       "model_id": "643e6697ac83414ea1be97ccb2c662bf",
       "version_major": 2,
       "version_minor": 0
      },
      "text/plain": [
       "Split strings:   0%|          | 0/1 [00:00<?, ?it/s]"
      ]
     },
     "metadata": {},
     "output_type": "display_data"
    },
    {
     "data": {
      "application/vnd.jupyter.widget-view+json": {
       "model_id": "516c3ffb4b004f11bc9f72ecc06c4147",
       "version_major": 2,
       "version_minor": 0
      },
      "text/plain": [
       "BM25S Retrieve:   0%|          | 0/1 [00:00<?, ?it/s]"
      ]
     },
     "metadata": {},
     "output_type": "display_data"
    },
    {
     "data": {
      "application/vnd.jupyter.widget-view+json": {
       "model_id": "65544374c1d14fc095bdb971925210d6",
       "version_major": 2,
       "version_minor": 0
      },
      "text/plain": [
       "Fetching 9 files:   0%|          | 0/9 [00:00<?, ?it/s]"
      ]
     },
     "metadata": {},
     "output_type": "display_data"
    },
    {
     "data": {
      "application/vnd.jupyter.widget-view+json": {
       "model_id": "54f15afd828b4f94a52318df0c9ebd30",
       "version_major": 2,
       "version_minor": 0
      },
      "text/plain": [
       "Split strings:   0%|          | 0/1 [00:00<?, ?it/s]"
      ]
     },
     "metadata": {},
     "output_type": "display_data"
    },
    {
     "data": {
      "application/vnd.jupyter.widget-view+json": {
       "model_id": "ff0d7a7062324709b29d69566eef3b75",
       "version_major": 2,
       "version_minor": 0
      },
      "text/plain": [
       "BM25S Retrieve:   0%|          | 0/1 [00:00<?, ?it/s]"
      ]
     },
     "metadata": {},
     "output_type": "display_data"
    },
    {
     "data": {
      "application/vnd.jupyter.widget-view+json": {
       "model_id": "26a83c9d829b421bb2ca70b075bf3cb1",
       "version_major": 2,
       "version_minor": 0
      },
      "text/plain": [
       "Fetching 9 files:   0%|          | 0/9 [00:00<?, ?it/s]"
      ]
     },
     "metadata": {},
     "output_type": "display_data"
    },
    {
     "data": {
      "application/vnd.jupyter.widget-view+json": {
       "model_id": "1c4d72cd4275486f9da75d86af768e96",
       "version_major": 2,
       "version_minor": 0
      },
      "text/plain": [
       "Split strings:   0%|          | 0/1 [00:00<?, ?it/s]"
      ]
     },
     "metadata": {},
     "output_type": "display_data"
    },
    {
     "data": {
      "application/vnd.jupyter.widget-view+json": {
       "model_id": "af9c021580924bc8904203587aaf3bf3",
       "version_major": 2,
       "version_minor": 0
      },
      "text/plain": [
       "BM25S Retrieve:   0%|          | 0/1 [00:00<?, ?it/s]"
      ]
     },
     "metadata": {},
     "output_type": "display_data"
    },
    {
     "data": {
      "application/vnd.jupyter.widget-view+json": {
       "model_id": "990d6301b3564617a9277375f1ea3114",
       "version_major": 2,
       "version_minor": 0
      },
      "text/plain": [
       "Fetching 9 files:   0%|          | 0/9 [00:00<?, ?it/s]"
      ]
     },
     "metadata": {},
     "output_type": "display_data"
    },
    {
     "data": {
      "application/vnd.jupyter.widget-view+json": {
       "model_id": "7bb94ea1db68448dbf29d25a1ce220ba",
       "version_major": 2,
       "version_minor": 0
      },
      "text/plain": [
       "Split strings:   0%|          | 0/1 [00:00<?, ?it/s]"
      ]
     },
     "metadata": {},
     "output_type": "display_data"
    },
    {
     "data": {
      "application/vnd.jupyter.widget-view+json": {
       "model_id": "80d2e730d85842d6811f066f0f5a878a",
       "version_major": 2,
       "version_minor": 0
      },
      "text/plain": [
       "BM25S Retrieve:   0%|          | 0/1 [00:00<?, ?it/s]"
      ]
     },
     "metadata": {},
     "output_type": "display_data"
    },
    {
     "data": {
      "application/vnd.jupyter.widget-view+json": {
       "model_id": "541aaf9211074c17804743c820b3e484",
       "version_major": 2,
       "version_minor": 0
      },
      "text/plain": [
       "Fetching 9 files:   0%|          | 0/9 [00:00<?, ?it/s]"
      ]
     },
     "metadata": {},
     "output_type": "display_data"
    },
    {
     "data": {
      "application/vnd.jupyter.widget-view+json": {
       "model_id": "eec7b48819eb489abe84da0ed97e57cd",
       "version_major": 2,
       "version_minor": 0
      },
      "text/plain": [
       "Split strings:   0%|          | 0/1 [00:00<?, ?it/s]"
      ]
     },
     "metadata": {},
     "output_type": "display_data"
    },
    {
     "data": {
      "application/vnd.jupyter.widget-view+json": {
       "model_id": "8930ba31421f44ae9170609948aefa90",
       "version_major": 2,
       "version_minor": 0
      },
      "text/plain": [
       "BM25S Retrieve:   0%|          | 0/1 [00:00<?, ?it/s]"
      ]
     },
     "metadata": {},
     "output_type": "display_data"
    },
    {
     "data": {
      "application/vnd.jupyter.widget-view+json": {
       "model_id": "d2743ed86e8e42769a6003d03a203acd",
       "version_major": 2,
       "version_minor": 0
      },
      "text/plain": [
       "Fetching 9 files:   0%|          | 0/9 [00:00<?, ?it/s]"
      ]
     },
     "metadata": {},
     "output_type": "display_data"
    },
    {
     "data": {
      "application/vnd.jupyter.widget-view+json": {
       "model_id": "2c80a9adfc824526851c587c86e7251f",
       "version_major": 2,
       "version_minor": 0
      },
      "text/plain": [
       "Split strings:   0%|          | 0/1 [00:00<?, ?it/s]"
      ]
     },
     "metadata": {},
     "output_type": "display_data"
    },
    {
     "data": {
      "application/vnd.jupyter.widget-view+json": {
       "model_id": "fd6b010bc5ac4fa7a9fca792208fe113",
       "version_major": 2,
       "version_minor": 0
      },
      "text/plain": [
       "BM25S Retrieve:   0%|          | 0/1 [00:00<?, ?it/s]"
      ]
     },
     "metadata": {},
     "output_type": "display_data"
    },
    {
     "data": {
      "application/vnd.jupyter.widget-view+json": {
       "model_id": "3d6fd572ec414eda90ae35a49286b53b",
       "version_major": 2,
       "version_minor": 0
      },
      "text/plain": [
       "Fetching 9 files:   0%|          | 0/9 [00:00<?, ?it/s]"
      ]
     },
     "metadata": {},
     "output_type": "display_data"
    },
    {
     "data": {
      "application/vnd.jupyter.widget-view+json": {
       "model_id": "75beeaca2dcd4f3e9d533c729fde37b5",
       "version_major": 2,
       "version_minor": 0
      },
      "text/plain": [
       "Split strings:   0%|          | 0/1 [00:00<?, ?it/s]"
      ]
     },
     "metadata": {},
     "output_type": "display_data"
    },
    {
     "data": {
      "application/vnd.jupyter.widget-view+json": {
       "model_id": "3d79bfb7caf9420e8e8b68445ee42793",
       "version_major": 2,
       "version_minor": 0
      },
      "text/plain": [
       "BM25S Retrieve:   0%|          | 0/1 [00:00<?, ?it/s]"
      ]
     },
     "metadata": {},
     "output_type": "display_data"
    },
    {
     "data": {
      "application/vnd.jupyter.widget-view+json": {
       "model_id": "bc4d7efd97294a3fb58aa822f709e49c",
       "version_major": 2,
       "version_minor": 0
      },
      "text/plain": [
       "Fetching 9 files:   0%|          | 0/9 [00:00<?, ?it/s]"
      ]
     },
     "metadata": {},
     "output_type": "display_data"
    },
    {
     "data": {
      "application/vnd.jupyter.widget-view+json": {
       "model_id": "30b5fc8b17cb4695ae32c97b7528d64e",
       "version_major": 2,
       "version_minor": 0
      },
      "text/plain": [
       "Split strings:   0%|          | 0/1 [00:00<?, ?it/s]"
      ]
     },
     "metadata": {},
     "output_type": "display_data"
    },
    {
     "data": {
      "application/vnd.jupyter.widget-view+json": {
       "model_id": "b8365bdf08bc42c4a3ab83278c23a1c5",
       "version_major": 2,
       "version_minor": 0
      },
      "text/plain": [
       "BM25S Retrieve:   0%|          | 0/1 [00:00<?, ?it/s]"
      ]
     },
     "metadata": {},
     "output_type": "display_data"
    },
    {
     "data": {
      "application/vnd.jupyter.widget-view+json": {
       "model_id": "5737f6ce94a84bcbb4ac30e73c637518",
       "version_major": 2,
       "version_minor": 0
      },
      "text/plain": [
       "Fetching 9 files:   0%|          | 0/9 [00:00<?, ?it/s]"
      ]
     },
     "metadata": {},
     "output_type": "display_data"
    },
    {
     "data": {
      "application/vnd.jupyter.widget-view+json": {
       "model_id": "11a46d8035ed415281fff84934750005",
       "version_major": 2,
       "version_minor": 0
      },
      "text/plain": [
       "Split strings:   0%|          | 0/1 [00:00<?, ?it/s]"
      ]
     },
     "metadata": {},
     "output_type": "display_data"
    },
    {
     "data": {
      "application/vnd.jupyter.widget-view+json": {
       "model_id": "5e266da7b1bc4317a67e8d68059f43ef",
       "version_major": 2,
       "version_minor": 0
      },
      "text/plain": [
       "BM25S Retrieve:   0%|          | 0/1 [00:00<?, ?it/s]"
      ]
     },
     "metadata": {},
     "output_type": "display_data"
    },
    {
     "data": {
      "application/vnd.jupyter.widget-view+json": {
       "model_id": "0e2b1941e4b047fab6e3f9675ead4705",
       "version_major": 2,
       "version_minor": 0
      },
      "text/plain": [
       "Fetching 9 files:   0%|          | 0/9 [00:00<?, ?it/s]"
      ]
     },
     "metadata": {},
     "output_type": "display_data"
    },
    {
     "data": {
      "application/vnd.jupyter.widget-view+json": {
       "model_id": "ac7bec96b7c047c99371e94d47e9cfce",
       "version_major": 2,
       "version_minor": 0
      },
      "text/plain": [
       "Split strings:   0%|          | 0/1 [00:00<?, ?it/s]"
      ]
     },
     "metadata": {},
     "output_type": "display_data"
    },
    {
     "data": {
      "application/vnd.jupyter.widget-view+json": {
       "model_id": "7122c7a0755a457abd001ba87fedeb8d",
       "version_major": 2,
       "version_minor": 0
      },
      "text/plain": [
       "BM25S Retrieve:   0%|          | 0/1 [00:00<?, ?it/s]"
      ]
     },
     "metadata": {},
     "output_type": "display_data"
    },
    {
     "data": {
      "application/vnd.jupyter.widget-view+json": {
       "model_id": "8e2618b834fe4e2ba1ac6aec9a962131",
       "version_major": 2,
       "version_minor": 0
      },
      "text/plain": [
       "Fetching 9 files:   0%|          | 0/9 [00:00<?, ?it/s]"
      ]
     },
     "metadata": {},
     "output_type": "display_data"
    },
    {
     "data": {
      "application/vnd.jupyter.widget-view+json": {
       "model_id": "28e16193c0e64644b6fad1d69f630e6c",
       "version_major": 2,
       "version_minor": 0
      },
      "text/plain": [
       "Split strings:   0%|          | 0/1 [00:00<?, ?it/s]"
      ]
     },
     "metadata": {},
     "output_type": "display_data"
    },
    {
     "data": {
      "application/vnd.jupyter.widget-view+json": {
       "model_id": "c3b747ab94dc4eb9b6f917df289f3224",
       "version_major": 2,
       "version_minor": 0
      },
      "text/plain": [
       "BM25S Retrieve:   0%|          | 0/1 [00:00<?, ?it/s]"
      ]
     },
     "metadata": {},
     "output_type": "display_data"
    },
    {
     "data": {
      "application/vnd.jupyter.widget-view+json": {
       "model_id": "8b6aa86d2128476c99411a9489530cdc",
       "version_major": 2,
       "version_minor": 0
      },
      "text/plain": [
       "Fetching 9 files:   0%|          | 0/9 [00:00<?, ?it/s]"
      ]
     },
     "metadata": {},
     "output_type": "display_data"
    },
    {
     "data": {
      "application/vnd.jupyter.widget-view+json": {
       "model_id": "d7b4e1a89178461c867f224e92e5b2d6",
       "version_major": 2,
       "version_minor": 0
      },
      "text/plain": [
       "Split strings:   0%|          | 0/1 [00:00<?, ?it/s]"
      ]
     },
     "metadata": {},
     "output_type": "display_data"
    },
    {
     "data": {
      "application/vnd.jupyter.widget-view+json": {
       "model_id": "4291563ee9ad443ba880addb588de69e",
       "version_major": 2,
       "version_minor": 0
      },
      "text/plain": [
       "BM25S Retrieve:   0%|          | 0/1 [00:00<?, ?it/s]"
      ]
     },
     "metadata": {},
     "output_type": "display_data"
    },
    {
     "data": {
      "application/vnd.jupyter.widget-view+json": {
       "model_id": "cd6f1e6cf8ce4f3ca8ac6bbd55b33096",
       "version_major": 2,
       "version_minor": 0
      },
      "text/plain": [
       "Fetching 9 files:   0%|          | 0/9 [00:00<?, ?it/s]"
      ]
     },
     "metadata": {},
     "output_type": "display_data"
    },
    {
     "data": {
      "application/vnd.jupyter.widget-view+json": {
       "model_id": "39e279c85a124b0fb0d87d5a573b54d8",
       "version_major": 2,
       "version_minor": 0
      },
      "text/plain": [
       "Split strings:   0%|          | 0/1 [00:00<?, ?it/s]"
      ]
     },
     "metadata": {},
     "output_type": "display_data"
    },
    {
     "data": {
      "application/vnd.jupyter.widget-view+json": {
       "model_id": "ad0c132e78b84901a8e1f6f520949463",
       "version_major": 2,
       "version_minor": 0
      },
      "text/plain": [
       "BM25S Retrieve:   0%|          | 0/1 [00:00<?, ?it/s]"
      ]
     },
     "metadata": {},
     "output_type": "display_data"
    },
    {
     "data": {
      "application/vnd.jupyter.widget-view+json": {
       "model_id": "f982ca732ef94a12a534ab24184208a0",
       "version_major": 2,
       "version_minor": 0
      },
      "text/plain": [
       "Fetching 9 files:   0%|          | 0/9 [00:00<?, ?it/s]"
      ]
     },
     "metadata": {},
     "output_type": "display_data"
    },
    {
     "data": {
      "application/vnd.jupyter.widget-view+json": {
       "model_id": "116c9456b1c94c3680990b54564b1172",
       "version_major": 2,
       "version_minor": 0
      },
      "text/plain": [
       "Split strings:   0%|          | 0/1 [00:00<?, ?it/s]"
      ]
     },
     "metadata": {},
     "output_type": "display_data"
    },
    {
     "data": {
      "application/vnd.jupyter.widget-view+json": {
       "model_id": "a70adc4916f84040b90738666914364b",
       "version_major": 2,
       "version_minor": 0
      },
      "text/plain": [
       "BM25S Retrieve:   0%|          | 0/1 [00:00<?, ?it/s]"
      ]
     },
     "metadata": {},
     "output_type": "display_data"
    },
    {
     "data": {
      "application/vnd.jupyter.widget-view+json": {
       "model_id": "86cb40ef39e14a019009bd2bfe779b66",
       "version_major": 2,
       "version_minor": 0
      },
      "text/plain": [
       "Fetching 9 files:   0%|          | 0/9 [00:00<?, ?it/s]"
      ]
     },
     "metadata": {},
     "output_type": "display_data"
    },
    {
     "data": {
      "application/vnd.jupyter.widget-view+json": {
       "model_id": "02f40aa50c2648fbb4481e334a7490e3",
       "version_major": 2,
       "version_minor": 0
      },
      "text/plain": [
       "Split strings:   0%|          | 0/1 [00:00<?, ?it/s]"
      ]
     },
     "metadata": {},
     "output_type": "display_data"
    },
    {
     "data": {
      "application/vnd.jupyter.widget-view+json": {
       "model_id": "74230118d80a4facaf43eb6d8d3095e1",
       "version_major": 2,
       "version_minor": 0
      },
      "text/plain": [
       "BM25S Retrieve:   0%|          | 0/1 [00:00<?, ?it/s]"
      ]
     },
     "metadata": {},
     "output_type": "display_data"
    },
    {
     "data": {
      "application/vnd.jupyter.widget-view+json": {
       "model_id": "cb39441eeb7049ae94d8c88216d515d2",
       "version_major": 2,
       "version_minor": 0
      },
      "text/plain": [
       "Fetching 9 files:   0%|          | 0/9 [00:00<?, ?it/s]"
      ]
     },
     "metadata": {},
     "output_type": "display_data"
    },
    {
     "data": {
      "application/vnd.jupyter.widget-view+json": {
       "model_id": "9eb21c5d946949a9a2435f6ec6af7bf2",
       "version_major": 2,
       "version_minor": 0
      },
      "text/plain": [
       "Split strings:   0%|          | 0/1 [00:00<?, ?it/s]"
      ]
     },
     "metadata": {},
     "output_type": "display_data"
    },
    {
     "data": {
      "application/vnd.jupyter.widget-view+json": {
       "model_id": "aa3126fd945645c8b14d60b88bf51aef",
       "version_major": 2,
       "version_minor": 0
      },
      "text/plain": [
       "BM25S Retrieve:   0%|          | 0/1 [00:00<?, ?it/s]"
      ]
     },
     "metadata": {},
     "output_type": "display_data"
    },
    {
     "data": {
      "application/vnd.jupyter.widget-view+json": {
       "model_id": "0b2fa33a672740fd84fb84d3fde3554f",
       "version_major": 2,
       "version_minor": 0
      },
      "text/plain": [
       "Fetching 9 files:   0%|          | 0/9 [00:00<?, ?it/s]"
      ]
     },
     "metadata": {},
     "output_type": "display_data"
    },
    {
     "data": {
      "application/vnd.jupyter.widget-view+json": {
       "model_id": "317bdd1888b34d438ac436817684902d",
       "version_major": 2,
       "version_minor": 0
      },
      "text/plain": [
       "Split strings:   0%|          | 0/1 [00:00<?, ?it/s]"
      ]
     },
     "metadata": {},
     "output_type": "display_data"
    },
    {
     "data": {
      "application/vnd.jupyter.widget-view+json": {
       "model_id": "8534ea948d6c4904b3661ec2b113f2b1",
       "version_major": 2,
       "version_minor": 0
      },
      "text/plain": [
       "BM25S Retrieve:   0%|          | 0/1 [00:00<?, ?it/s]"
      ]
     },
     "metadata": {},
     "output_type": "display_data"
    },
    {
     "data": {
      "application/vnd.jupyter.widget-view+json": {
       "model_id": "3ce57526e0d34856ae9de86203c75b3a",
       "version_major": 2,
       "version_minor": 0
      },
      "text/plain": [
       "Fetching 9 files:   0%|          | 0/9 [00:00<?, ?it/s]"
      ]
     },
     "metadata": {},
     "output_type": "display_data"
    },
    {
     "data": {
      "application/vnd.jupyter.widget-view+json": {
       "model_id": "7aff0529e554479b9c625e1125970917",
       "version_major": 2,
       "version_minor": 0
      },
      "text/plain": [
       "Split strings:   0%|          | 0/1 [00:00<?, ?it/s]"
      ]
     },
     "metadata": {},
     "output_type": "display_data"
    },
    {
     "data": {
      "application/vnd.jupyter.widget-view+json": {
       "model_id": "d1718fb9f6724d77978573a9a6efe3db",
       "version_major": 2,
       "version_minor": 0
      },
      "text/plain": [
       "BM25S Retrieve:   0%|          | 0/1 [00:00<?, ?it/s]"
      ]
     },
     "metadata": {},
     "output_type": "display_data"
    },
    {
     "data": {
      "application/vnd.jupyter.widget-view+json": {
       "model_id": "d78ab7820b9444b68f4b1ce14ff1b7c0",
       "version_major": 2,
       "version_minor": 0
      },
      "text/plain": [
       "Fetching 9 files:   0%|          | 0/9 [00:00<?, ?it/s]"
      ]
     },
     "metadata": {},
     "output_type": "display_data"
    },
    {
     "data": {
      "application/vnd.jupyter.widget-view+json": {
       "model_id": "2c12da639b4948d0b8843f2441abefdb",
       "version_major": 2,
       "version_minor": 0
      },
      "text/plain": [
       "Split strings:   0%|          | 0/1 [00:00<?, ?it/s]"
      ]
     },
     "metadata": {},
     "output_type": "display_data"
    },
    {
     "data": {
      "application/vnd.jupyter.widget-view+json": {
       "model_id": "0687939fa1f54061b8ee441d08950b3a",
       "version_major": 2,
       "version_minor": 0
      },
      "text/plain": [
       "BM25S Retrieve:   0%|          | 0/1 [00:00<?, ?it/s]"
      ]
     },
     "metadata": {},
     "output_type": "display_data"
    },
    {
     "data": {
      "application/vnd.jupyter.widget-view+json": {
       "model_id": "1963129fbdd14baa97dc70dc5827d123",
       "version_major": 2,
       "version_minor": 0
      },
      "text/plain": [
       "Fetching 9 files:   0%|          | 0/9 [00:00<?, ?it/s]"
      ]
     },
     "metadata": {},
     "output_type": "display_data"
    },
    {
     "data": {
      "application/vnd.jupyter.widget-view+json": {
       "model_id": "e6117c2a06f74a50bc2df2b8e257056e",
       "version_major": 2,
       "version_minor": 0
      },
      "text/plain": [
       "Split strings:   0%|          | 0/1 [00:00<?, ?it/s]"
      ]
     },
     "metadata": {},
     "output_type": "display_data"
    },
    {
     "data": {
      "application/vnd.jupyter.widget-view+json": {
       "model_id": "0d49f35d23cb47b2b49927190e11afe3",
       "version_major": 2,
       "version_minor": 0
      },
      "text/plain": [
       "BM25S Retrieve:   0%|          | 0/1 [00:00<?, ?it/s]"
      ]
     },
     "metadata": {},
     "output_type": "display_data"
    },
    {
     "data": {
      "application/vnd.jupyter.widget-view+json": {
       "model_id": "78ba585c653840de8894c64cca837770",
       "version_major": 2,
       "version_minor": 0
      },
      "text/plain": [
       "Fetching 9 files:   0%|          | 0/9 [00:00<?, ?it/s]"
      ]
     },
     "metadata": {},
     "output_type": "display_data"
    },
    {
     "data": {
      "application/vnd.jupyter.widget-view+json": {
       "model_id": "df61ada52eff46ca9a65cbd3751e80ad",
       "version_major": 2,
       "version_minor": 0
      },
      "text/plain": [
       "Split strings:   0%|          | 0/1 [00:00<?, ?it/s]"
      ]
     },
     "metadata": {},
     "output_type": "display_data"
    },
    {
     "data": {
      "application/vnd.jupyter.widget-view+json": {
       "model_id": "1e852fa8d6a54252870528e30180229d",
       "version_major": 2,
       "version_minor": 0
      },
      "text/plain": [
       "BM25S Retrieve:   0%|          | 0/1 [00:00<?, ?it/s]"
      ]
     },
     "metadata": {},
     "output_type": "display_data"
    },
    {
     "data": {
      "application/vnd.jupyter.widget-view+json": {
       "model_id": "556fa1e3b1ad450ab84556834b15a117",
       "version_major": 2,
       "version_minor": 0
      },
      "text/plain": [
       "Fetching 9 files:   0%|          | 0/9 [00:00<?, ?it/s]"
      ]
     },
     "metadata": {},
     "output_type": "display_data"
    },
    {
     "data": {
      "application/vnd.jupyter.widget-view+json": {
       "model_id": "271a96fb9be340fd9f1511b65510b72d",
       "version_major": 2,
       "version_minor": 0
      },
      "text/plain": [
       "Split strings:   0%|          | 0/1 [00:00<?, ?it/s]"
      ]
     },
     "metadata": {},
     "output_type": "display_data"
    },
    {
     "data": {
      "application/vnd.jupyter.widget-view+json": {
       "model_id": "f5b4b379eedd4c2181b842c5d8157f54",
       "version_major": 2,
       "version_minor": 0
      },
      "text/plain": [
       "BM25S Retrieve:   0%|          | 0/1 [00:00<?, ?it/s]"
      ]
     },
     "metadata": {},
     "output_type": "display_data"
    },
    {
     "data": {
      "application/vnd.jupyter.widget-view+json": {
       "model_id": "72d741bceb8a4971bfa0672682a19332",
       "version_major": 2,
       "version_minor": 0
      },
      "text/plain": [
       "Fetching 9 files:   0%|          | 0/9 [00:00<?, ?it/s]"
      ]
     },
     "metadata": {},
     "output_type": "display_data"
    },
    {
     "data": {
      "application/vnd.jupyter.widget-view+json": {
       "model_id": "e8b326f6d93b4df7a8818a30ac5cf930",
       "version_major": 2,
       "version_minor": 0
      },
      "text/plain": [
       "Split strings:   0%|          | 0/1 [00:00<?, ?it/s]"
      ]
     },
     "metadata": {},
     "output_type": "display_data"
    },
    {
     "data": {
      "application/vnd.jupyter.widget-view+json": {
       "model_id": "1c5388a4c3bf475796ea9fbf8c764e30",
       "version_major": 2,
       "version_minor": 0
      },
      "text/plain": [
       "BM25S Retrieve:   0%|          | 0/1 [00:00<?, ?it/s]"
      ]
     },
     "metadata": {},
     "output_type": "display_data"
    },
    {
     "data": {
      "application/vnd.jupyter.widget-view+json": {
       "model_id": "b627cee703544b8f90ea8c1a9dbb5053",
       "version_major": 2,
       "version_minor": 0
      },
      "text/plain": [
       "Fetching 9 files:   0%|          | 0/9 [00:00<?, ?it/s]"
      ]
     },
     "metadata": {},
     "output_type": "display_data"
    },
    {
     "data": {
      "application/vnd.jupyter.widget-view+json": {
       "model_id": "24239a127bcf4a27b678a1788d6f9f91",
       "version_major": 2,
       "version_minor": 0
      },
      "text/plain": [
       "Split strings:   0%|          | 0/1 [00:00<?, ?it/s]"
      ]
     },
     "metadata": {},
     "output_type": "display_data"
    },
    {
     "data": {
      "application/vnd.jupyter.widget-view+json": {
       "model_id": "a0be0755b851459ab624c1b43a6da3ec",
       "version_major": 2,
       "version_minor": 0
      },
      "text/plain": [
       "BM25S Retrieve:   0%|          | 0/1 [00:00<?, ?it/s]"
      ]
     },
     "metadata": {},
     "output_type": "display_data"
    },
    {
     "data": {
      "application/vnd.jupyter.widget-view+json": {
       "model_id": "72f6ba65f4524bceb903045ff1812da3",
       "version_major": 2,
       "version_minor": 0
      },
      "text/plain": [
       "Fetching 9 files:   0%|          | 0/9 [00:00<?, ?it/s]"
      ]
     },
     "metadata": {},
     "output_type": "display_data"
    },
    {
     "data": {
      "application/vnd.jupyter.widget-view+json": {
       "model_id": "4edb58f0133a4b56a5ff70bab8a9bb2a",
       "version_major": 2,
       "version_minor": 0
      },
      "text/plain": [
       "Split strings:   0%|          | 0/1 [00:00<?, ?it/s]"
      ]
     },
     "metadata": {},
     "output_type": "display_data"
    },
    {
     "data": {
      "application/vnd.jupyter.widget-view+json": {
       "model_id": "5eb4604223b549f282585c796f77bac4",
       "version_major": 2,
       "version_minor": 0
      },
      "text/plain": [
       "BM25S Retrieve:   0%|          | 0/1 [00:00<?, ?it/s]"
      ]
     },
     "metadata": {},
     "output_type": "display_data"
    },
    {
     "data": {
      "application/vnd.jupyter.widget-view+json": {
       "model_id": "a75b69a7172646ec901f4311267cb9b1",
       "version_major": 2,
       "version_minor": 0
      },
      "text/plain": [
       "Fetching 9 files:   0%|          | 0/9 [00:00<?, ?it/s]"
      ]
     },
     "metadata": {},
     "output_type": "display_data"
    },
    {
     "data": {
      "application/vnd.jupyter.widget-view+json": {
       "model_id": "269111bede524107a3a13756dd76479e",
       "version_major": 2,
       "version_minor": 0
      },
      "text/plain": [
       "Split strings:   0%|          | 0/1 [00:00<?, ?it/s]"
      ]
     },
     "metadata": {},
     "output_type": "display_data"
    },
    {
     "data": {
      "application/vnd.jupyter.widget-view+json": {
       "model_id": "692f3e011ea14c4e9ac186276c2d6989",
       "version_major": 2,
       "version_minor": 0
      },
      "text/plain": [
       "BM25S Retrieve:   0%|          | 0/1 [00:00<?, ?it/s]"
      ]
     },
     "metadata": {},
     "output_type": "display_data"
    },
    {
     "data": {
      "application/vnd.jupyter.widget-view+json": {
       "model_id": "4d12618caf69458a955069018ef7f3bf",
       "version_major": 2,
       "version_minor": 0
      },
      "text/plain": [
       "Fetching 9 files:   0%|          | 0/9 [00:00<?, ?it/s]"
      ]
     },
     "metadata": {},
     "output_type": "display_data"
    },
    {
     "data": {
      "application/vnd.jupyter.widget-view+json": {
       "model_id": "330e9819c3184c1aa86f5812f1800700",
       "version_major": 2,
       "version_minor": 0
      },
      "text/plain": [
       "Split strings:   0%|          | 0/1 [00:00<?, ?it/s]"
      ]
     },
     "metadata": {},
     "output_type": "display_data"
    },
    {
     "data": {
      "application/vnd.jupyter.widget-view+json": {
       "model_id": "437ae3b1dc2f4353ab4c5286b7f2ddbd",
       "version_major": 2,
       "version_minor": 0
      },
      "text/plain": [
       "BM25S Retrieve:   0%|          | 0/1 [00:00<?, ?it/s]"
      ]
     },
     "metadata": {},
     "output_type": "display_data"
    },
    {
     "data": {
      "application/vnd.jupyter.widget-view+json": {
       "model_id": "8f80d8bb34a545ce9c162dc142aa3ab7",
       "version_major": 2,
       "version_minor": 0
      },
      "text/plain": [
       "Fetching 9 files:   0%|          | 0/9 [00:00<?, ?it/s]"
      ]
     },
     "metadata": {},
     "output_type": "display_data"
    },
    {
     "data": {
      "application/vnd.jupyter.widget-view+json": {
       "model_id": "4903ec35996c4581a111c9611a5f931c",
       "version_major": 2,
       "version_minor": 0
      },
      "text/plain": [
       "Split strings:   0%|          | 0/1 [00:00<?, ?it/s]"
      ]
     },
     "metadata": {},
     "output_type": "display_data"
    },
    {
     "data": {
      "application/vnd.jupyter.widget-view+json": {
       "model_id": "9820c3a6657a4ab983afea5ceaa2db13",
       "version_major": 2,
       "version_minor": 0
      },
      "text/plain": [
       "BM25S Retrieve:   0%|          | 0/1 [00:00<?, ?it/s]"
      ]
     },
     "metadata": {},
     "output_type": "display_data"
    },
    {
     "data": {
      "application/vnd.jupyter.widget-view+json": {
       "model_id": "9e7b566cd75f4ae2bcc7e60157f8f7e4",
       "version_major": 2,
       "version_minor": 0
      },
      "text/plain": [
       "Fetching 9 files:   0%|          | 0/9 [00:00<?, ?it/s]"
      ]
     },
     "metadata": {},
     "output_type": "display_data"
    },
    {
     "data": {
      "application/vnd.jupyter.widget-view+json": {
       "model_id": "b584072fde284fe1aef173e47fff2ed4",
       "version_major": 2,
       "version_minor": 0
      },
      "text/plain": [
       "Split strings:   0%|          | 0/1 [00:00<?, ?it/s]"
      ]
     },
     "metadata": {},
     "output_type": "display_data"
    },
    {
     "data": {
      "application/vnd.jupyter.widget-view+json": {
       "model_id": "05479614beee4aa7954a13dd77ee6bca",
       "version_major": 2,
       "version_minor": 0
      },
      "text/plain": [
       "BM25S Retrieve:   0%|          | 0/1 [00:00<?, ?it/s]"
      ]
     },
     "metadata": {},
     "output_type": "display_data"
    },
    {
     "data": {
      "application/vnd.jupyter.widget-view+json": {
       "model_id": "98784596ecaa46b089f89df6d98bae5b",
       "version_major": 2,
       "version_minor": 0
      },
      "text/plain": [
       "Fetching 9 files:   0%|          | 0/9 [00:00<?, ?it/s]"
      ]
     },
     "metadata": {},
     "output_type": "display_data"
    },
    {
     "data": {
      "application/vnd.jupyter.widget-view+json": {
       "model_id": "f12606e9698e4a6d84b322d35633eb31",
       "version_major": 2,
       "version_minor": 0
      },
      "text/plain": [
       "Split strings:   0%|          | 0/1 [00:00<?, ?it/s]"
      ]
     },
     "metadata": {},
     "output_type": "display_data"
    },
    {
     "data": {
      "application/vnd.jupyter.widget-view+json": {
       "model_id": "1f329f69463a47268a79dac1da9bd485",
       "version_major": 2,
       "version_minor": 0
      },
      "text/plain": [
       "BM25S Retrieve:   0%|          | 0/1 [00:00<?, ?it/s]"
      ]
     },
     "metadata": {},
     "output_type": "display_data"
    },
    {
     "data": {
      "application/vnd.jupyter.widget-view+json": {
       "model_id": "a82516fb854242028009328ec5de283d",
       "version_major": 2,
       "version_minor": 0
      },
      "text/plain": [
       "Fetching 9 files:   0%|          | 0/9 [00:00<?, ?it/s]"
      ]
     },
     "metadata": {},
     "output_type": "display_data"
    },
    {
     "data": {
      "application/vnd.jupyter.widget-view+json": {
       "model_id": "177f1da7c89a4451b7e080a95d391a3a",
       "version_major": 2,
       "version_minor": 0
      },
      "text/plain": [
       "Split strings:   0%|          | 0/1 [00:00<?, ?it/s]"
      ]
     },
     "metadata": {},
     "output_type": "display_data"
    },
    {
     "data": {
      "application/vnd.jupyter.widget-view+json": {
       "model_id": "35d5f2a5f4db44babeff1db7f737dfe5",
       "version_major": 2,
       "version_minor": 0
      },
      "text/plain": [
       "BM25S Retrieve:   0%|          | 0/1 [00:00<?, ?it/s]"
      ]
     },
     "metadata": {},
     "output_type": "display_data"
    },
    {
     "data": {
      "application/vnd.jupyter.widget-view+json": {
       "model_id": "ee16120d7cff46d691662d91c33e9feb",
       "version_major": 2,
       "version_minor": 0
      },
      "text/plain": [
       "Fetching 9 files:   0%|          | 0/9 [00:00<?, ?it/s]"
      ]
     },
     "metadata": {},
     "output_type": "display_data"
    },
    {
     "data": {
      "application/vnd.jupyter.widget-view+json": {
       "model_id": "340663f39c154c26b3e3d12d051b11b3",
       "version_major": 2,
       "version_minor": 0
      },
      "text/plain": [
       "Split strings:   0%|          | 0/1 [00:00<?, ?it/s]"
      ]
     },
     "metadata": {},
     "output_type": "display_data"
    },
    {
     "data": {
      "application/vnd.jupyter.widget-view+json": {
       "model_id": "ecf52d3a40d04709ba11acd2cf0a8ad0",
       "version_major": 2,
       "version_minor": 0
      },
      "text/plain": [
       "BM25S Retrieve:   0%|          | 0/1 [00:00<?, ?it/s]"
      ]
     },
     "metadata": {},
     "output_type": "display_data"
    },
    {
     "data": {
      "application/vnd.jupyter.widget-view+json": {
       "model_id": "1ad440a8d72c470d881405b9c9333e0a",
       "version_major": 2,
       "version_minor": 0
      },
      "text/plain": [
       "Fetching 9 files:   0%|          | 0/9 [00:00<?, ?it/s]"
      ]
     },
     "metadata": {},
     "output_type": "display_data"
    },
    {
     "data": {
      "application/vnd.jupyter.widget-view+json": {
       "model_id": "6f9383d5203b419bba41c2544ead8024",
       "version_major": 2,
       "version_minor": 0
      },
      "text/plain": [
       "Split strings:   0%|          | 0/1 [00:00<?, ?it/s]"
      ]
     },
     "metadata": {},
     "output_type": "display_data"
    },
    {
     "data": {
      "application/vnd.jupyter.widget-view+json": {
       "model_id": "10aa29a2a4984ae69bd876dba72cb47a",
       "version_major": 2,
       "version_minor": 0
      },
      "text/plain": [
       "BM25S Retrieve:   0%|          | 0/1 [00:00<?, ?it/s]"
      ]
     },
     "metadata": {},
     "output_type": "display_data"
    },
    {
     "data": {
      "application/vnd.jupyter.widget-view+json": {
       "model_id": "184b837fd4a84d4d9c257689eb94f9d3",
       "version_major": 2,
       "version_minor": 0
      },
      "text/plain": [
       "Fetching 9 files:   0%|          | 0/9 [00:00<?, ?it/s]"
      ]
     },
     "metadata": {},
     "output_type": "display_data"
    },
    {
     "data": {
      "application/vnd.jupyter.widget-view+json": {
       "model_id": "dd97fe00110b409d8dd21257fb97bf88",
       "version_major": 2,
       "version_minor": 0
      },
      "text/plain": [
       "Split strings:   0%|          | 0/1 [00:00<?, ?it/s]"
      ]
     },
     "metadata": {},
     "output_type": "display_data"
    },
    {
     "data": {
      "application/vnd.jupyter.widget-view+json": {
       "model_id": "98a1e2ae60b54df593d0293740fb1c35",
       "version_major": 2,
       "version_minor": 0
      },
      "text/plain": [
       "BM25S Retrieve:   0%|          | 0/1 [00:00<?, ?it/s]"
      ]
     },
     "metadata": {},
     "output_type": "display_data"
    },
    {
     "data": {
      "application/vnd.jupyter.widget-view+json": {
       "model_id": "8197d22ade514a1ea737ee8abc5042c5",
       "version_major": 2,
       "version_minor": 0
      },
      "text/plain": [
       "Fetching 9 files:   0%|          | 0/9 [00:00<?, ?it/s]"
      ]
     },
     "metadata": {},
     "output_type": "display_data"
    },
    {
     "data": {
      "application/vnd.jupyter.widget-view+json": {
       "model_id": "680da0b39273485eafd7d43287fe4022",
       "version_major": 2,
       "version_minor": 0
      },
      "text/plain": [
       "Split strings:   0%|          | 0/1 [00:00<?, ?it/s]"
      ]
     },
     "metadata": {},
     "output_type": "display_data"
    },
    {
     "data": {
      "application/vnd.jupyter.widget-view+json": {
       "model_id": "718d91be6f8e47079b58830bcf2463d4",
       "version_major": 2,
       "version_minor": 0
      },
      "text/plain": [
       "BM25S Retrieve:   0%|          | 0/1 [00:00<?, ?it/s]"
      ]
     },
     "metadata": {},
     "output_type": "display_data"
    },
    {
     "data": {
      "application/vnd.jupyter.widget-view+json": {
       "model_id": "09a51741817f4bc8ad341b016cf077d3",
       "version_major": 2,
       "version_minor": 0
      },
      "text/plain": [
       "Fetching 9 files:   0%|          | 0/9 [00:00<?, ?it/s]"
      ]
     },
     "metadata": {},
     "output_type": "display_data"
    },
    {
     "data": {
      "application/vnd.jupyter.widget-view+json": {
       "model_id": "baaddab0e2904d6faf2374ae8a1df99e",
       "version_major": 2,
       "version_minor": 0
      },
      "text/plain": [
       "Split strings:   0%|          | 0/1 [00:00<?, ?it/s]"
      ]
     },
     "metadata": {},
     "output_type": "display_data"
    },
    {
     "data": {
      "application/vnd.jupyter.widget-view+json": {
       "model_id": "b2603c2800af4a75a5c42480d0eca0c2",
       "version_major": 2,
       "version_minor": 0
      },
      "text/plain": [
       "BM25S Retrieve:   0%|          | 0/1 [00:00<?, ?it/s]"
      ]
     },
     "metadata": {},
     "output_type": "display_data"
    },
    {
     "data": {
      "application/vnd.jupyter.widget-view+json": {
       "model_id": "e4b67c19c947444e9354340ad9c3a1e9",
       "version_major": 2,
       "version_minor": 0
      },
      "text/plain": [
       "Fetching 9 files:   0%|          | 0/9 [00:00<?, ?it/s]"
      ]
     },
     "metadata": {},
     "output_type": "display_data"
    },
    {
     "data": {
      "application/vnd.jupyter.widget-view+json": {
       "model_id": "3d69d1d28d534d0f8f266da2385e5880",
       "version_major": 2,
       "version_minor": 0
      },
      "text/plain": [
       "Split strings:   0%|          | 0/1 [00:00<?, ?it/s]"
      ]
     },
     "metadata": {},
     "output_type": "display_data"
    },
    {
     "data": {
      "application/vnd.jupyter.widget-view+json": {
       "model_id": "666c3aeb1bd34a05be6bdc76d82486f6",
       "version_major": 2,
       "version_minor": 0
      },
      "text/plain": [
       "BM25S Retrieve:   0%|          | 0/1 [00:00<?, ?it/s]"
      ]
     },
     "metadata": {},
     "output_type": "display_data"
    },
    {
     "data": {
      "application/vnd.jupyter.widget-view+json": {
       "model_id": "67a461b5f28245ada8a9fd1d4e90eb82",
       "version_major": 2,
       "version_minor": 0
      },
      "text/plain": [
       "Fetching 9 files:   0%|          | 0/9 [00:00<?, ?it/s]"
      ]
     },
     "metadata": {},
     "output_type": "display_data"
    },
    {
     "data": {
      "application/vnd.jupyter.widget-view+json": {
       "model_id": "7107f60f26754011b2246e994aba367d",
       "version_major": 2,
       "version_minor": 0
      },
      "text/plain": [
       "Split strings:   0%|          | 0/1 [00:00<?, ?it/s]"
      ]
     },
     "metadata": {},
     "output_type": "display_data"
    },
    {
     "data": {
      "application/vnd.jupyter.widget-view+json": {
       "model_id": "18d3cdebe49d499e9c75fafe24dd124e",
       "version_major": 2,
       "version_minor": 0
      },
      "text/plain": [
       "BM25S Retrieve:   0%|          | 0/1 [00:00<?, ?it/s]"
      ]
     },
     "metadata": {},
     "output_type": "display_data"
    },
    {
     "data": {
      "application/vnd.jupyter.widget-view+json": {
       "model_id": "e913541bce4744ffabc55360c0c17df6",
       "version_major": 2,
       "version_minor": 0
      },
      "text/plain": [
       "Fetching 9 files:   0%|          | 0/9 [00:00<?, ?it/s]"
      ]
     },
     "metadata": {},
     "output_type": "display_data"
    },
    {
     "data": {
      "application/vnd.jupyter.widget-view+json": {
       "model_id": "4b2e8834cb1547f49eb0dec0aecf454f",
       "version_major": 2,
       "version_minor": 0
      },
      "text/plain": [
       "Split strings:   0%|          | 0/1 [00:00<?, ?it/s]"
      ]
     },
     "metadata": {},
     "output_type": "display_data"
    },
    {
     "data": {
      "application/vnd.jupyter.widget-view+json": {
       "model_id": "2f10e5c6577d425c8c24272c20c69f01",
       "version_major": 2,
       "version_minor": 0
      },
      "text/plain": [
       "BM25S Retrieve:   0%|          | 0/1 [00:00<?, ?it/s]"
      ]
     },
     "metadata": {},
     "output_type": "display_data"
    },
    {
     "data": {
      "application/vnd.jupyter.widget-view+json": {
       "model_id": "829c7d914e784efea44ad6eeb4763603",
       "version_major": 2,
       "version_minor": 0
      },
      "text/plain": [
       "Fetching 9 files:   0%|          | 0/9 [00:00<?, ?it/s]"
      ]
     },
     "metadata": {},
     "output_type": "display_data"
    },
    {
     "data": {
      "application/vnd.jupyter.widget-view+json": {
       "model_id": "693cc64eac9f4ac0b1320398cb449d96",
       "version_major": 2,
       "version_minor": 0
      },
      "text/plain": [
       "Split strings:   0%|          | 0/1 [00:00<?, ?it/s]"
      ]
     },
     "metadata": {},
     "output_type": "display_data"
    },
    {
     "data": {
      "application/vnd.jupyter.widget-view+json": {
       "model_id": "e44384ee8e294fc6bdc751fb56b669a0",
       "version_major": 2,
       "version_minor": 0
      },
      "text/plain": [
       "BM25S Retrieve:   0%|          | 0/1 [00:00<?, ?it/s]"
      ]
     },
     "metadata": {},
     "output_type": "display_data"
    },
    {
     "data": {
      "application/vnd.jupyter.widget-view+json": {
       "model_id": "71b12122531f4be68a155489b08c0e48",
       "version_major": 2,
       "version_minor": 0
      },
      "text/plain": [
       "Fetching 9 files:   0%|          | 0/9 [00:00<?, ?it/s]"
      ]
     },
     "metadata": {},
     "output_type": "display_data"
    },
    {
     "data": {
      "application/vnd.jupyter.widget-view+json": {
       "model_id": "6661bf50b00f4bf085c33569533934c5",
       "version_major": 2,
       "version_minor": 0
      },
      "text/plain": [
       "Split strings:   0%|          | 0/1 [00:00<?, ?it/s]"
      ]
     },
     "metadata": {},
     "output_type": "display_data"
    },
    {
     "data": {
      "application/vnd.jupyter.widget-view+json": {
       "model_id": "4036a696e12445b192c290e73ec5e18c",
       "version_major": 2,
       "version_minor": 0
      },
      "text/plain": [
       "BM25S Retrieve:   0%|          | 0/1 [00:00<?, ?it/s]"
      ]
     },
     "metadata": {},
     "output_type": "display_data"
    },
    {
     "data": {
      "application/vnd.jupyter.widget-view+json": {
       "model_id": "b05d996731c840ea83559a4fb53339f7",
       "version_major": 2,
       "version_minor": 0
      },
      "text/plain": [
       "Fetching 9 files:   0%|          | 0/9 [00:00<?, ?it/s]"
      ]
     },
     "metadata": {},
     "output_type": "display_data"
    },
    {
     "data": {
      "application/vnd.jupyter.widget-view+json": {
       "model_id": "749ece461d0c4899a6bedb04881cda26",
       "version_major": 2,
       "version_minor": 0
      },
      "text/plain": [
       "Split strings:   0%|          | 0/1 [00:00<?, ?it/s]"
      ]
     },
     "metadata": {},
     "output_type": "display_data"
    },
    {
     "data": {
      "application/vnd.jupyter.widget-view+json": {
       "model_id": "c41212aa5d5b4c5e8130abd07652cc85",
       "version_major": 2,
       "version_minor": 0
      },
      "text/plain": [
       "BM25S Retrieve:   0%|          | 0/1 [00:00<?, ?it/s]"
      ]
     },
     "metadata": {},
     "output_type": "display_data"
    },
    {
     "data": {
      "application/vnd.jupyter.widget-view+json": {
       "model_id": "b25d64463d184498b2d4371fd069ba05",
       "version_major": 2,
       "version_minor": 0
      },
      "text/plain": [
       "Fetching 9 files:   0%|          | 0/9 [00:00<?, ?it/s]"
      ]
     },
     "metadata": {},
     "output_type": "display_data"
    },
    {
     "data": {
      "application/vnd.jupyter.widget-view+json": {
       "model_id": "44f860b8720e40c786504251efccc29a",
       "version_major": 2,
       "version_minor": 0
      },
      "text/plain": [
       "Split strings:   0%|          | 0/1 [00:00<?, ?it/s]"
      ]
     },
     "metadata": {},
     "output_type": "display_data"
    },
    {
     "data": {
      "application/vnd.jupyter.widget-view+json": {
       "model_id": "8965a10f184140e1906d5d02bf0f69a8",
       "version_major": 2,
       "version_minor": 0
      },
      "text/plain": [
       "BM25S Retrieve:   0%|          | 0/1 [00:00<?, ?it/s]"
      ]
     },
     "metadata": {},
     "output_type": "display_data"
    },
    {
     "data": {
      "application/vnd.jupyter.widget-view+json": {
       "model_id": "b13608a18b9346219207f67310b3f6e3",
       "version_major": 2,
       "version_minor": 0
      },
      "text/plain": [
       "Fetching 9 files:   0%|          | 0/9 [00:00<?, ?it/s]"
      ]
     },
     "metadata": {},
     "output_type": "display_data"
    },
    {
     "data": {
      "application/vnd.jupyter.widget-view+json": {
       "model_id": "af67d584dc5d4f68b1d048ebaa217e1e",
       "version_major": 2,
       "version_minor": 0
      },
      "text/plain": [
       "Split strings:   0%|          | 0/1 [00:00<?, ?it/s]"
      ]
     },
     "metadata": {},
     "output_type": "display_data"
    },
    {
     "data": {
      "application/vnd.jupyter.widget-view+json": {
       "model_id": "62a45697c7a64e3fbc5f7afb424e4140",
       "version_major": 2,
       "version_minor": 0
      },
      "text/plain": [
       "BM25S Retrieve:   0%|          | 0/1 [00:00<?, ?it/s]"
      ]
     },
     "metadata": {},
     "output_type": "display_data"
    },
    {
     "data": {
      "application/vnd.jupyter.widget-view+json": {
       "model_id": "13f9eb02df5c4bbab449f2d1480be64e",
       "version_major": 2,
       "version_minor": 0
      },
      "text/plain": [
       "Fetching 9 files:   0%|          | 0/9 [00:00<?, ?it/s]"
      ]
     },
     "metadata": {},
     "output_type": "display_data"
    },
    {
     "data": {
      "application/vnd.jupyter.widget-view+json": {
       "model_id": "c51f9dc378d64f95bd0872cd259ca643",
       "version_major": 2,
       "version_minor": 0
      },
      "text/plain": [
       "Split strings:   0%|          | 0/1 [00:00<?, ?it/s]"
      ]
     },
     "metadata": {},
     "output_type": "display_data"
    },
    {
     "data": {
      "application/vnd.jupyter.widget-view+json": {
       "model_id": "215331a022cb4560b8f5d42e327ff903",
       "version_major": 2,
       "version_minor": 0
      },
      "text/plain": [
       "BM25S Retrieve:   0%|          | 0/1 [00:00<?, ?it/s]"
      ]
     },
     "metadata": {},
     "output_type": "display_data"
    },
    {
     "data": {
      "application/vnd.jupyter.widget-view+json": {
       "model_id": "2a14f05d6b7348fbb23b896e6ab5f3b1",
       "version_major": 2,
       "version_minor": 0
      },
      "text/plain": [
       "Fetching 9 files:   0%|          | 0/9 [00:00<?, ?it/s]"
      ]
     },
     "metadata": {},
     "output_type": "display_data"
    },
    {
     "data": {
      "application/vnd.jupyter.widget-view+json": {
       "model_id": "9b497f1bd55f49f59a41f4e070713646",
       "version_major": 2,
       "version_minor": 0
      },
      "text/plain": [
       "Split strings:   0%|          | 0/1 [00:00<?, ?it/s]"
      ]
     },
     "metadata": {},
     "output_type": "display_data"
    },
    {
     "data": {
      "application/vnd.jupyter.widget-view+json": {
       "model_id": "0e12fb4a2c4e42e785dfe4f2fd3d3390",
       "version_major": 2,
       "version_minor": 0
      },
      "text/plain": [
       "BM25S Retrieve:   0%|          | 0/1 [00:00<?, ?it/s]"
      ]
     },
     "metadata": {},
     "output_type": "display_data"
    },
    {
     "data": {
      "application/vnd.jupyter.widget-view+json": {
       "model_id": "39baf3a165dd4718a4f4b59173901321",
       "version_major": 2,
       "version_minor": 0
      },
      "text/plain": [
       "Fetching 9 files:   0%|          | 0/9 [00:00<?, ?it/s]"
      ]
     },
     "metadata": {},
     "output_type": "display_data"
    },
    {
     "data": {
      "application/vnd.jupyter.widget-view+json": {
       "model_id": "27a099c0157f4951a5cd3193ac132fe7",
       "version_major": 2,
       "version_minor": 0
      },
      "text/plain": [
       "Split strings:   0%|          | 0/1 [00:00<?, ?it/s]"
      ]
     },
     "metadata": {},
     "output_type": "display_data"
    },
    {
     "data": {
      "application/vnd.jupyter.widget-view+json": {
       "model_id": "29b3a59a9fc141ce9f8bd84b01cd718e",
       "version_major": 2,
       "version_minor": 0
      },
      "text/plain": [
       "BM25S Retrieve:   0%|          | 0/1 [00:00<?, ?it/s]"
      ]
     },
     "metadata": {},
     "output_type": "display_data"
    },
    {
     "data": {
      "application/vnd.jupyter.widget-view+json": {
       "model_id": "aa2063430d32483487fef98d8b16d020",
       "version_major": 2,
       "version_minor": 0
      },
      "text/plain": [
       "Fetching 9 files:   0%|          | 0/9 [00:00<?, ?it/s]"
      ]
     },
     "metadata": {},
     "output_type": "display_data"
    },
    {
     "data": {
      "application/vnd.jupyter.widget-view+json": {
       "model_id": "9be1306312a643b1b766e04daaa68be9",
       "version_major": 2,
       "version_minor": 0
      },
      "text/plain": [
       "Split strings:   0%|          | 0/1 [00:00<?, ?it/s]"
      ]
     },
     "metadata": {},
     "output_type": "display_data"
    },
    {
     "data": {
      "application/vnd.jupyter.widget-view+json": {
       "model_id": "a84c58f640a648d9b7664058621e9d07",
       "version_major": 2,
       "version_minor": 0
      },
      "text/plain": [
       "BM25S Retrieve:   0%|          | 0/1 [00:00<?, ?it/s]"
      ]
     },
     "metadata": {},
     "output_type": "display_data"
    },
    {
     "data": {
      "application/vnd.jupyter.widget-view+json": {
       "model_id": "d57f48368eaa40ad98ad6f1c71703bca",
       "version_major": 2,
       "version_minor": 0
      },
      "text/plain": [
       "Fetching 9 files:   0%|          | 0/9 [00:00<?, ?it/s]"
      ]
     },
     "metadata": {},
     "output_type": "display_data"
    },
    {
     "data": {
      "application/vnd.jupyter.widget-view+json": {
       "model_id": "5b80802e312849aab9dedf4b2809c18a",
       "version_major": 2,
       "version_minor": 0
      },
      "text/plain": [
       "Split strings:   0%|          | 0/1 [00:00<?, ?it/s]"
      ]
     },
     "metadata": {},
     "output_type": "display_data"
    },
    {
     "data": {
      "application/vnd.jupyter.widget-view+json": {
       "model_id": "bcb5bbffd8d64119b8e0c3b3bff03bff",
       "version_major": 2,
       "version_minor": 0
      },
      "text/plain": [
       "BM25S Retrieve:   0%|          | 0/1 [00:00<?, ?it/s]"
      ]
     },
     "metadata": {},
     "output_type": "display_data"
    },
    {
     "data": {
      "application/vnd.jupyter.widget-view+json": {
       "model_id": "2e8be83c6a194c468fde6887c4d08307",
       "version_major": 2,
       "version_minor": 0
      },
      "text/plain": [
       "Fetching 9 files:   0%|          | 0/9 [00:00<?, ?it/s]"
      ]
     },
     "metadata": {},
     "output_type": "display_data"
    },
    {
     "data": {
      "application/vnd.jupyter.widget-view+json": {
       "model_id": "d693a0c5b2d0475fa69497de8541d803",
       "version_major": 2,
       "version_minor": 0
      },
      "text/plain": [
       "Split strings:   0%|          | 0/1 [00:00<?, ?it/s]"
      ]
     },
     "metadata": {},
     "output_type": "display_data"
    },
    {
     "data": {
      "application/vnd.jupyter.widget-view+json": {
       "model_id": "6b147bd31f4a4b47abe04cfad6620116",
       "version_major": 2,
       "version_minor": 0
      },
      "text/plain": [
       "BM25S Retrieve:   0%|          | 0/1 [00:00<?, ?it/s]"
      ]
     },
     "metadata": {},
     "output_type": "display_data"
    },
    {
     "data": {
      "application/vnd.jupyter.widget-view+json": {
       "model_id": "eef62f3362d4404aa0193a6592c857b4",
       "version_major": 2,
       "version_minor": 0
      },
      "text/plain": [
       "Fetching 9 files:   0%|          | 0/9 [00:00<?, ?it/s]"
      ]
     },
     "metadata": {},
     "output_type": "display_data"
    },
    {
     "data": {
      "application/vnd.jupyter.widget-view+json": {
       "model_id": "f7e855df5f8f46298baaec0bd5361337",
       "version_major": 2,
       "version_minor": 0
      },
      "text/plain": [
       "Split strings:   0%|          | 0/1 [00:00<?, ?it/s]"
      ]
     },
     "metadata": {},
     "output_type": "display_data"
    },
    {
     "data": {
      "application/vnd.jupyter.widget-view+json": {
       "model_id": "b242b5fc56d94d87818a76ae25142e4d",
       "version_major": 2,
       "version_minor": 0
      },
      "text/plain": [
       "BM25S Retrieve:   0%|          | 0/1 [00:00<?, ?it/s]"
      ]
     },
     "metadata": {},
     "output_type": "display_data"
    },
    {
     "data": {
      "application/vnd.jupyter.widget-view+json": {
       "model_id": "5bbe5623217346cfab2d71421860f157",
       "version_major": 2,
       "version_minor": 0
      },
      "text/plain": [
       "Fetching 9 files:   0%|          | 0/9 [00:00<?, ?it/s]"
      ]
     },
     "metadata": {},
     "output_type": "display_data"
    },
    {
     "data": {
      "application/vnd.jupyter.widget-view+json": {
       "model_id": "95b1566824df4555b80e96a2d812bbd1",
       "version_major": 2,
       "version_minor": 0
      },
      "text/plain": [
       "Split strings:   0%|          | 0/1 [00:00<?, ?it/s]"
      ]
     },
     "metadata": {},
     "output_type": "display_data"
    },
    {
     "data": {
      "application/vnd.jupyter.widget-view+json": {
       "model_id": "a9dfb4a0e339459f8e7b46c431773497",
       "version_major": 2,
       "version_minor": 0
      },
      "text/plain": [
       "BM25S Retrieve:   0%|          | 0/1 [00:00<?, ?it/s]"
      ]
     },
     "metadata": {},
     "output_type": "display_data"
    },
    {
     "data": {
      "application/vnd.jupyter.widget-view+json": {
       "model_id": "0074204b7b0f4808a1e8f163a718c941",
       "version_major": 2,
       "version_minor": 0
      },
      "text/plain": [
       "Fetching 9 files:   0%|          | 0/9 [00:00<?, ?it/s]"
      ]
     },
     "metadata": {},
     "output_type": "display_data"
    },
    {
     "data": {
      "application/vnd.jupyter.widget-view+json": {
       "model_id": "520fb7bd75704e089443065218146582",
       "version_major": 2,
       "version_minor": 0
      },
      "text/plain": [
       "Split strings:   0%|          | 0/1 [00:00<?, ?it/s]"
      ]
     },
     "metadata": {},
     "output_type": "display_data"
    },
    {
     "data": {
      "application/vnd.jupyter.widget-view+json": {
       "model_id": "2b07371018d04713b2946ea4c3023ca5",
       "version_major": 2,
       "version_minor": 0
      },
      "text/plain": [
       "BM25S Retrieve:   0%|          | 0/1 [00:00<?, ?it/s]"
      ]
     },
     "metadata": {},
     "output_type": "display_data"
    },
    {
     "data": {
      "application/vnd.jupyter.widget-view+json": {
       "model_id": "61205b7863fa43ffa14909bc86fdd573",
       "version_major": 2,
       "version_minor": 0
      },
      "text/plain": [
       "Fetching 9 files:   0%|          | 0/9 [00:00<?, ?it/s]"
      ]
     },
     "metadata": {},
     "output_type": "display_data"
    },
    {
     "data": {
      "application/vnd.jupyter.widget-view+json": {
       "model_id": "c72339759f184517a68fd5094ba3317a",
       "version_major": 2,
       "version_minor": 0
      },
      "text/plain": [
       "Split strings:   0%|          | 0/1 [00:00<?, ?it/s]"
      ]
     },
     "metadata": {},
     "output_type": "display_data"
    },
    {
     "data": {
      "application/vnd.jupyter.widget-view+json": {
       "model_id": "24f5e4709b4243fa83ae59611977ca80",
       "version_major": 2,
       "version_minor": 0
      },
      "text/plain": [
       "BM25S Retrieve:   0%|          | 0/1 [00:00<?, ?it/s]"
      ]
     },
     "metadata": {},
     "output_type": "display_data"
    },
    {
     "data": {
      "application/vnd.jupyter.widget-view+json": {
       "model_id": "f36f7d4f59194263a8ba7433454e91a9",
       "version_major": 2,
       "version_minor": 0
      },
      "text/plain": [
       "Fetching 9 files:   0%|          | 0/9 [00:00<?, ?it/s]"
      ]
     },
     "metadata": {},
     "output_type": "display_data"
    },
    {
     "data": {
      "application/vnd.jupyter.widget-view+json": {
       "model_id": "2c92f935acf5442f8988ce3164f8066e",
       "version_major": 2,
       "version_minor": 0
      },
      "text/plain": [
       "Split strings:   0%|          | 0/1 [00:00<?, ?it/s]"
      ]
     },
     "metadata": {},
     "output_type": "display_data"
    },
    {
     "data": {
      "application/vnd.jupyter.widget-view+json": {
       "model_id": "cecc526b5724451bbc64ff926c9bc2f6",
       "version_major": 2,
       "version_minor": 0
      },
      "text/plain": [
       "BM25S Retrieve:   0%|          | 0/1 [00:00<?, ?it/s]"
      ]
     },
     "metadata": {},
     "output_type": "display_data"
    },
    {
     "data": {
      "application/vnd.jupyter.widget-view+json": {
       "model_id": "55a26e267ac64d7f8b8a43e19d271d34",
       "version_major": 2,
       "version_minor": 0
      },
      "text/plain": [
       "Fetching 9 files:   0%|          | 0/9 [00:00<?, ?it/s]"
      ]
     },
     "metadata": {},
     "output_type": "display_data"
    },
    {
     "data": {
      "application/vnd.jupyter.widget-view+json": {
       "model_id": "27f0d78431794a968fe287489d123a44",
       "version_major": 2,
       "version_minor": 0
      },
      "text/plain": [
       "Split strings:   0%|          | 0/1 [00:00<?, ?it/s]"
      ]
     },
     "metadata": {},
     "output_type": "display_data"
    },
    {
     "data": {
      "application/vnd.jupyter.widget-view+json": {
       "model_id": "5525f3f9f90b40519baf3f7ffbfa1426",
       "version_major": 2,
       "version_minor": 0
      },
      "text/plain": [
       "BM25S Retrieve:   0%|          | 0/1 [00:00<?, ?it/s]"
      ]
     },
     "metadata": {},
     "output_type": "display_data"
    },
    {
     "data": {
      "application/vnd.jupyter.widget-view+json": {
       "model_id": "78b813f44ca0427f988bddfff4a3dfd0",
       "version_major": 2,
       "version_minor": 0
      },
      "text/plain": [
       "Fetching 9 files:   0%|          | 0/9 [00:00<?, ?it/s]"
      ]
     },
     "metadata": {},
     "output_type": "display_data"
    },
    {
     "data": {
      "application/vnd.jupyter.widget-view+json": {
       "model_id": "239a2a445d6e429695c251bedc315af3",
       "version_major": 2,
       "version_minor": 0
      },
      "text/plain": [
       "Split strings:   0%|          | 0/1 [00:00<?, ?it/s]"
      ]
     },
     "metadata": {},
     "output_type": "display_data"
    },
    {
     "data": {
      "application/vnd.jupyter.widget-view+json": {
       "model_id": "b8fc88caa39f4a3aa0ff9abf657afec7",
       "version_major": 2,
       "version_minor": 0
      },
      "text/plain": [
       "BM25S Retrieve:   0%|          | 0/1 [00:00<?, ?it/s]"
      ]
     },
     "metadata": {},
     "output_type": "display_data"
    },
    {
     "data": {
      "application/vnd.jupyter.widget-view+json": {
       "model_id": "2c2aba4c7ffd4b289d3e572f7109127f",
       "version_major": 2,
       "version_minor": 0
      },
      "text/plain": [
       "Fetching 9 files:   0%|          | 0/9 [00:00<?, ?it/s]"
      ]
     },
     "metadata": {},
     "output_type": "display_data"
    },
    {
     "data": {
      "application/vnd.jupyter.widget-view+json": {
       "model_id": "7348ac8b053d47679135172b0d82b822",
       "version_major": 2,
       "version_minor": 0
      },
      "text/plain": [
       "Split strings:   0%|          | 0/1 [00:00<?, ?it/s]"
      ]
     },
     "metadata": {},
     "output_type": "display_data"
    },
    {
     "data": {
      "application/vnd.jupyter.widget-view+json": {
       "model_id": "6e5577fa79cc472ea4da640d171cef55",
       "version_major": 2,
       "version_minor": 0
      },
      "text/plain": [
       "BM25S Retrieve:   0%|          | 0/1 [00:00<?, ?it/s]"
      ]
     },
     "metadata": {},
     "output_type": "display_data"
    },
    {
     "data": {
      "application/vnd.jupyter.widget-view+json": {
       "model_id": "39892c8ee1254d418a1c5f9582266e95",
       "version_major": 2,
       "version_minor": 0
      },
      "text/plain": [
       "Fetching 9 files:   0%|          | 0/9 [00:00<?, ?it/s]"
      ]
     },
     "metadata": {},
     "output_type": "display_data"
    },
    {
     "data": {
      "application/vnd.jupyter.widget-view+json": {
       "model_id": "398a0761fdb74073a063d9417de25702",
       "version_major": 2,
       "version_minor": 0
      },
      "text/plain": [
       "Split strings:   0%|          | 0/1 [00:00<?, ?it/s]"
      ]
     },
     "metadata": {},
     "output_type": "display_data"
    },
    {
     "data": {
      "application/vnd.jupyter.widget-view+json": {
       "model_id": "7496ceb14acb46a0a00ac07f8f9cc294",
       "version_major": 2,
       "version_minor": 0
      },
      "text/plain": [
       "BM25S Retrieve:   0%|          | 0/1 [00:00<?, ?it/s]"
      ]
     },
     "metadata": {},
     "output_type": "display_data"
    },
    {
     "data": {
      "application/vnd.jupyter.widget-view+json": {
       "model_id": "2aa89c782b444b128516b4b33463d717",
       "version_major": 2,
       "version_minor": 0
      },
      "text/plain": [
       "Fetching 9 files:   0%|          | 0/9 [00:00<?, ?it/s]"
      ]
     },
     "metadata": {},
     "output_type": "display_data"
    },
    {
     "data": {
      "application/vnd.jupyter.widget-view+json": {
       "model_id": "8fc75b72f7c647eaabf33238f4866845",
       "version_major": 2,
       "version_minor": 0
      },
      "text/plain": [
       "Split strings:   0%|          | 0/1 [00:00<?, ?it/s]"
      ]
     },
     "metadata": {},
     "output_type": "display_data"
    },
    {
     "data": {
      "application/vnd.jupyter.widget-view+json": {
       "model_id": "f5fdcae7d1d24db1bcdba1574ec824c6",
       "version_major": 2,
       "version_minor": 0
      },
      "text/plain": [
       "BM25S Retrieve:   0%|          | 0/1 [00:00<?, ?it/s]"
      ]
     },
     "metadata": {},
     "output_type": "display_data"
    },
    {
     "data": {
      "application/vnd.jupyter.widget-view+json": {
       "model_id": "cfc20a626f504540b7d34c279da16e4d",
       "version_major": 2,
       "version_minor": 0
      },
      "text/plain": [
       "Fetching 9 files:   0%|          | 0/9 [00:00<?, ?it/s]"
      ]
     },
     "metadata": {},
     "output_type": "display_data"
    },
    {
     "data": {
      "application/vnd.jupyter.widget-view+json": {
       "model_id": "976cc9b6302645b7ad95567f6c06015b",
       "version_major": 2,
       "version_minor": 0
      },
      "text/plain": [
       "Split strings:   0%|          | 0/1 [00:00<?, ?it/s]"
      ]
     },
     "metadata": {},
     "output_type": "display_data"
    },
    {
     "data": {
      "application/vnd.jupyter.widget-view+json": {
       "model_id": "c51ef4b4bfad4533a8977d442748a71c",
       "version_major": 2,
       "version_minor": 0
      },
      "text/plain": [
       "BM25S Retrieve:   0%|          | 0/1 [00:00<?, ?it/s]"
      ]
     },
     "metadata": {},
     "output_type": "display_data"
    },
    {
     "data": {
      "application/vnd.jupyter.widget-view+json": {
       "model_id": "e4868721f5474eb1bfbf3f9e4b7a38f9",
       "version_major": 2,
       "version_minor": 0
      },
      "text/plain": [
       "Fetching 9 files:   0%|          | 0/9 [00:00<?, ?it/s]"
      ]
     },
     "metadata": {},
     "output_type": "display_data"
    },
    {
     "data": {
      "application/vnd.jupyter.widget-view+json": {
       "model_id": "27fdeb59e39243c28ce3c238df886043",
       "version_major": 2,
       "version_minor": 0
      },
      "text/plain": [
       "Split strings:   0%|          | 0/1 [00:00<?, ?it/s]"
      ]
     },
     "metadata": {},
     "output_type": "display_data"
    },
    {
     "data": {
      "application/vnd.jupyter.widget-view+json": {
       "model_id": "b8350047b82a4179aa765585bb95b28c",
       "version_major": 2,
       "version_minor": 0
      },
      "text/plain": [
       "BM25S Retrieve:   0%|          | 0/1 [00:00<?, ?it/s]"
      ]
     },
     "metadata": {},
     "output_type": "display_data"
    },
    {
     "data": {
      "application/vnd.jupyter.widget-view+json": {
       "model_id": "389e39418fbc4b46a17e04922fd01901",
       "version_major": 2,
       "version_minor": 0
      },
      "text/plain": [
       "Fetching 9 files:   0%|          | 0/9 [00:00<?, ?it/s]"
      ]
     },
     "metadata": {},
     "output_type": "display_data"
    },
    {
     "data": {
      "application/vnd.jupyter.widget-view+json": {
       "model_id": "4645530cf6d34eb39b65caded5a74532",
       "version_major": 2,
       "version_minor": 0
      },
      "text/plain": [
       "Split strings:   0%|          | 0/1 [00:00<?, ?it/s]"
      ]
     },
     "metadata": {},
     "output_type": "display_data"
    },
    {
     "data": {
      "application/vnd.jupyter.widget-view+json": {
       "model_id": "5edaf38194c34ed5baa3e0f9c6989da7",
       "version_major": 2,
       "version_minor": 0
      },
      "text/plain": [
       "BM25S Retrieve:   0%|          | 0/1 [00:00<?, ?it/s]"
      ]
     },
     "metadata": {},
     "output_type": "display_data"
    },
    {
     "data": {
      "application/vnd.jupyter.widget-view+json": {
       "model_id": "e1cd2e3353f643d48d349f7f58b7adb9",
       "version_major": 2,
       "version_minor": 0
      },
      "text/plain": [
       "Fetching 9 files:   0%|          | 0/9 [00:00<?, ?it/s]"
      ]
     },
     "metadata": {},
     "output_type": "display_data"
    },
    {
     "data": {
      "application/vnd.jupyter.widget-view+json": {
       "model_id": "48e87e093b6f49b9a72228abf67ee520",
       "version_major": 2,
       "version_minor": 0
      },
      "text/plain": [
       "Split strings:   0%|          | 0/1 [00:00<?, ?it/s]"
      ]
     },
     "metadata": {},
     "output_type": "display_data"
    },
    {
     "data": {
      "application/vnd.jupyter.widget-view+json": {
       "model_id": "c44c280d7aab4c74b0e098f7a80b63e8",
       "version_major": 2,
       "version_minor": 0
      },
      "text/plain": [
       "BM25S Retrieve:   0%|          | 0/1 [00:00<?, ?it/s]"
      ]
     },
     "metadata": {},
     "output_type": "display_data"
    },
    {
     "data": {
      "application/vnd.jupyter.widget-view+json": {
       "model_id": "78f07f35cd34451fa18124980276c64d",
       "version_major": 2,
       "version_minor": 0
      },
      "text/plain": [
       "Fetching 9 files:   0%|          | 0/9 [00:00<?, ?it/s]"
      ]
     },
     "metadata": {},
     "output_type": "display_data"
    },
    {
     "data": {
      "application/vnd.jupyter.widget-view+json": {
       "model_id": "d0d443dbfd2949a6999a33a915350d66",
       "version_major": 2,
       "version_minor": 0
      },
      "text/plain": [
       "Split strings:   0%|          | 0/1 [00:00<?, ?it/s]"
      ]
     },
     "metadata": {},
     "output_type": "display_data"
    },
    {
     "data": {
      "application/vnd.jupyter.widget-view+json": {
       "model_id": "ff7caafe4d1748a68002024bd081266b",
       "version_major": 2,
       "version_minor": 0
      },
      "text/plain": [
       "BM25S Retrieve:   0%|          | 0/1 [00:00<?, ?it/s]"
      ]
     },
     "metadata": {},
     "output_type": "display_data"
    },
    {
     "data": {
      "application/vnd.jupyter.widget-view+json": {
       "model_id": "bda35f43569c414e92517bf129e9fa6f",
       "version_major": 2,
       "version_minor": 0
      },
      "text/plain": [
       "Fetching 9 files:   0%|          | 0/9 [00:00<?, ?it/s]"
      ]
     },
     "metadata": {},
     "output_type": "display_data"
    },
    {
     "data": {
      "application/vnd.jupyter.widget-view+json": {
       "model_id": "d95484743360469eb5a63f857e134857",
       "version_major": 2,
       "version_minor": 0
      },
      "text/plain": [
       "Split strings:   0%|          | 0/1 [00:00<?, ?it/s]"
      ]
     },
     "metadata": {},
     "output_type": "display_data"
    },
    {
     "data": {
      "application/vnd.jupyter.widget-view+json": {
       "model_id": "b0f3e91a030c4381b18e85287c63e87e",
       "version_major": 2,
       "version_minor": 0
      },
      "text/plain": [
       "BM25S Retrieve:   0%|          | 0/1 [00:00<?, ?it/s]"
      ]
     },
     "metadata": {},
     "output_type": "display_data"
    },
    {
     "data": {
      "application/vnd.jupyter.widget-view+json": {
       "model_id": "4cbd0c8036df451db8b47f68c322bad6",
       "version_major": 2,
       "version_minor": 0
      },
      "text/plain": [
       "Fetching 9 files:   0%|          | 0/9 [00:00<?, ?it/s]"
      ]
     },
     "metadata": {},
     "output_type": "display_data"
    },
    {
     "data": {
      "application/vnd.jupyter.widget-view+json": {
       "model_id": "eb6458cba6b94e208e8121fb67671e01",
       "version_major": 2,
       "version_minor": 0
      },
      "text/plain": [
       "Split strings:   0%|          | 0/1 [00:00<?, ?it/s]"
      ]
     },
     "metadata": {},
     "output_type": "display_data"
    },
    {
     "data": {
      "application/vnd.jupyter.widget-view+json": {
       "model_id": "6c44b2a6d3364087a1ee5d4680798212",
       "version_major": 2,
       "version_minor": 0
      },
      "text/plain": [
       "BM25S Retrieve:   0%|          | 0/1 [00:00<?, ?it/s]"
      ]
     },
     "metadata": {},
     "output_type": "display_data"
    },
    {
     "data": {
      "application/vnd.jupyter.widget-view+json": {
       "model_id": "df4a847d988f441e809075b74fd0a769",
       "version_major": 2,
       "version_minor": 0
      },
      "text/plain": [
       "Fetching 9 files:   0%|          | 0/9 [00:00<?, ?it/s]"
      ]
     },
     "metadata": {},
     "output_type": "display_data"
    },
    {
     "data": {
      "application/vnd.jupyter.widget-view+json": {
       "model_id": "0afe1b00e4454027af5c8e8c353c340b",
       "version_major": 2,
       "version_minor": 0
      },
      "text/plain": [
       "Split strings:   0%|          | 0/1 [00:00<?, ?it/s]"
      ]
     },
     "metadata": {},
     "output_type": "display_data"
    },
    {
     "data": {
      "application/vnd.jupyter.widget-view+json": {
       "model_id": "f9405154aa894b6c86cfb814dac4fee6",
       "version_major": 2,
       "version_minor": 0
      },
      "text/plain": [
       "BM25S Retrieve:   0%|          | 0/1 [00:00<?, ?it/s]"
      ]
     },
     "metadata": {},
     "output_type": "display_data"
    },
    {
     "data": {
      "application/vnd.jupyter.widget-view+json": {
       "model_id": "aee72ce4d3644ee9bfb426a572823f4b",
       "version_major": 2,
       "version_minor": 0
      },
      "text/plain": [
       "Fetching 9 files:   0%|          | 0/9 [00:00<?, ?it/s]"
      ]
     },
     "metadata": {},
     "output_type": "display_data"
    },
    {
     "data": {
      "application/vnd.jupyter.widget-view+json": {
       "model_id": "16ef4b06848444b584db38726f66c4b5",
       "version_major": 2,
       "version_minor": 0
      },
      "text/plain": [
       "Split strings:   0%|          | 0/1 [00:00<?, ?it/s]"
      ]
     },
     "metadata": {},
     "output_type": "display_data"
    },
    {
     "data": {
      "application/vnd.jupyter.widget-view+json": {
       "model_id": "c088755a5c73478a83cb0d13d73beaf1",
       "version_major": 2,
       "version_minor": 0
      },
      "text/plain": [
       "BM25S Retrieve:   0%|          | 0/1 [00:00<?, ?it/s]"
      ]
     },
     "metadata": {},
     "output_type": "display_data"
    },
    {
     "data": {
      "application/vnd.jupyter.widget-view+json": {
       "model_id": "61165352dd7e4090bc882bcb56cc77f8",
       "version_major": 2,
       "version_minor": 0
      },
      "text/plain": [
       "Fetching 9 files:   0%|          | 0/9 [00:00<?, ?it/s]"
      ]
     },
     "metadata": {},
     "output_type": "display_data"
    },
    {
     "data": {
      "application/vnd.jupyter.widget-view+json": {
       "model_id": "43f050bec1ff44fda36a96f66a09f65f",
       "version_major": 2,
       "version_minor": 0
      },
      "text/plain": [
       "Split strings:   0%|          | 0/1 [00:00<?, ?it/s]"
      ]
     },
     "metadata": {},
     "output_type": "display_data"
    },
    {
     "data": {
      "application/vnd.jupyter.widget-view+json": {
       "model_id": "d785a300af2844ecb0a49a42cbbc0686",
       "version_major": 2,
       "version_minor": 0
      },
      "text/plain": [
       "BM25S Retrieve:   0%|          | 0/1 [00:00<?, ?it/s]"
      ]
     },
     "metadata": {},
     "output_type": "display_data"
    },
    {
     "data": {
      "application/vnd.jupyter.widget-view+json": {
       "model_id": "c2523c8d70a4414e88fd13b3145c966a",
       "version_major": 2,
       "version_minor": 0
      },
      "text/plain": [
       "Fetching 9 files:   0%|          | 0/9 [00:00<?, ?it/s]"
      ]
     },
     "metadata": {},
     "output_type": "display_data"
    },
    {
     "data": {
      "application/vnd.jupyter.widget-view+json": {
       "model_id": "2e146f1efe0640859329fa6f035c9da0",
       "version_major": 2,
       "version_minor": 0
      },
      "text/plain": [
       "Split strings:   0%|          | 0/1 [00:00<?, ?it/s]"
      ]
     },
     "metadata": {},
     "output_type": "display_data"
    },
    {
     "data": {
      "application/vnd.jupyter.widget-view+json": {
       "model_id": "424d390bc77842a99b967faebbf877ac",
       "version_major": 2,
       "version_minor": 0
      },
      "text/plain": [
       "BM25S Retrieve:   0%|          | 0/1 [00:00<?, ?it/s]"
      ]
     },
     "metadata": {},
     "output_type": "display_data"
    },
    {
     "data": {
      "application/vnd.jupyter.widget-view+json": {
       "model_id": "12191c6dc28f4863acb54c3ff3d4499e",
       "version_major": 2,
       "version_minor": 0
      },
      "text/plain": [
       "Fetching 9 files:   0%|          | 0/9 [00:00<?, ?it/s]"
      ]
     },
     "metadata": {},
     "output_type": "display_data"
    },
    {
     "data": {
      "application/vnd.jupyter.widget-view+json": {
       "model_id": "0baec54f638d4cfc96bd52d7b6b765d2",
       "version_major": 2,
       "version_minor": 0
      },
      "text/plain": [
       "Split strings:   0%|          | 0/1 [00:00<?, ?it/s]"
      ]
     },
     "metadata": {},
     "output_type": "display_data"
    },
    {
     "data": {
      "application/vnd.jupyter.widget-view+json": {
       "model_id": "fc566d4629704492944a305238396a77",
       "version_major": 2,
       "version_minor": 0
      },
      "text/plain": [
       "BM25S Retrieve:   0%|          | 0/1 [00:00<?, ?it/s]"
      ]
     },
     "metadata": {},
     "output_type": "display_data"
    },
    {
     "data": {
      "application/vnd.jupyter.widget-view+json": {
       "model_id": "ae156099a7e44cb2b2ff20e46f9c7774",
       "version_major": 2,
       "version_minor": 0
      },
      "text/plain": [
       "Fetching 9 files:   0%|          | 0/9 [00:00<?, ?it/s]"
      ]
     },
     "metadata": {},
     "output_type": "display_data"
    },
    {
     "data": {
      "application/vnd.jupyter.widget-view+json": {
       "model_id": "966757656c32430c81efad25e1d86602",
       "version_major": 2,
       "version_minor": 0
      },
      "text/plain": [
       "Split strings:   0%|          | 0/1 [00:00<?, ?it/s]"
      ]
     },
     "metadata": {},
     "output_type": "display_data"
    },
    {
     "data": {
      "application/vnd.jupyter.widget-view+json": {
       "model_id": "6cf2db7766404e3895ec94520be5bd0d",
       "version_major": 2,
       "version_minor": 0
      },
      "text/plain": [
       "BM25S Retrieve:   0%|          | 0/1 [00:00<?, ?it/s]"
      ]
     },
     "metadata": {},
     "output_type": "display_data"
    },
    {
     "data": {
      "application/vnd.jupyter.widget-view+json": {
       "model_id": "dd9284b6fdee4a9691de46420e8975fb",
       "version_major": 2,
       "version_minor": 0
      },
      "text/plain": [
       "Fetching 9 files:   0%|          | 0/9 [00:00<?, ?it/s]"
      ]
     },
     "metadata": {},
     "output_type": "display_data"
    },
    {
     "data": {
      "application/vnd.jupyter.widget-view+json": {
       "model_id": "0a1688e16d7c409da51d15d60e8d5e0e",
       "version_major": 2,
       "version_minor": 0
      },
      "text/plain": [
       "Split strings:   0%|          | 0/1 [00:00<?, ?it/s]"
      ]
     },
     "metadata": {},
     "output_type": "display_data"
    },
    {
     "data": {
      "application/vnd.jupyter.widget-view+json": {
       "model_id": "fcc3c8fa77874f76b9be66aee07a0a89",
       "version_major": 2,
       "version_minor": 0
      },
      "text/plain": [
       "BM25S Retrieve:   0%|          | 0/1 [00:00<?, ?it/s]"
      ]
     },
     "metadata": {},
     "output_type": "display_data"
    },
    {
     "data": {
      "application/vnd.jupyter.widget-view+json": {
       "model_id": "05151275223e415c9b84c67df3dcff83",
       "version_major": 2,
       "version_minor": 0
      },
      "text/plain": [
       "Fetching 9 files:   0%|          | 0/9 [00:00<?, ?it/s]"
      ]
     },
     "metadata": {},
     "output_type": "display_data"
    },
    {
     "data": {
      "application/vnd.jupyter.widget-view+json": {
       "model_id": "e1f4643a7ad8448189ad03114f95e4ca",
       "version_major": 2,
       "version_minor": 0
      },
      "text/plain": [
       "Split strings:   0%|          | 0/1 [00:00<?, ?it/s]"
      ]
     },
     "metadata": {},
     "output_type": "display_data"
    },
    {
     "data": {
      "application/vnd.jupyter.widget-view+json": {
       "model_id": "41a7fdab6a284ac1af67c5e755ab18c3",
       "version_major": 2,
       "version_minor": 0
      },
      "text/plain": [
       "BM25S Retrieve:   0%|          | 0/1 [00:00<?, ?it/s]"
      ]
     },
     "metadata": {},
     "output_type": "display_data"
    },
    {
     "data": {
      "application/vnd.jupyter.widget-view+json": {
       "model_id": "df73fb4b1a8f438688db4d19bb283607",
       "version_major": 2,
       "version_minor": 0
      },
      "text/plain": [
       "Fetching 9 files:   0%|          | 0/9 [00:00<?, ?it/s]"
      ]
     },
     "metadata": {},
     "output_type": "display_data"
    },
    {
     "data": {
      "application/vnd.jupyter.widget-view+json": {
       "model_id": "cbd96322154f4dd8a446f82ffabeb3a4",
       "version_major": 2,
       "version_minor": 0
      },
      "text/plain": [
       "Split strings:   0%|          | 0/1 [00:00<?, ?it/s]"
      ]
     },
     "metadata": {},
     "output_type": "display_data"
    },
    {
     "data": {
      "application/vnd.jupyter.widget-view+json": {
       "model_id": "4c3f3d0ce00d470092e13ef1e02d9464",
       "version_major": 2,
       "version_minor": 0
      },
      "text/plain": [
       "BM25S Retrieve:   0%|          | 0/1 [00:00<?, ?it/s]"
      ]
     },
     "metadata": {},
     "output_type": "display_data"
    },
    {
     "data": {
      "application/vnd.jupyter.widget-view+json": {
       "model_id": "c3a1156eabd5452da8bcf088e28c3152",
       "version_major": 2,
       "version_minor": 0
      },
      "text/plain": [
       "Fetching 9 files:   0%|          | 0/9 [00:00<?, ?it/s]"
      ]
     },
     "metadata": {},
     "output_type": "display_data"
    },
    {
     "data": {
      "application/vnd.jupyter.widget-view+json": {
       "model_id": "c0b263ae7bfa4778b42dacf86edf49b6",
       "version_major": 2,
       "version_minor": 0
      },
      "text/plain": [
       "Split strings:   0%|          | 0/1 [00:00<?, ?it/s]"
      ]
     },
     "metadata": {},
     "output_type": "display_data"
    },
    {
     "data": {
      "application/vnd.jupyter.widget-view+json": {
       "model_id": "1389a930de0e46ec875c2d04d4ede90d",
       "version_major": 2,
       "version_minor": 0
      },
      "text/plain": [
       "BM25S Retrieve:   0%|          | 0/1 [00:00<?, ?it/s]"
      ]
     },
     "metadata": {},
     "output_type": "display_data"
    },
    {
     "data": {
      "application/vnd.jupyter.widget-view+json": {
       "model_id": "5a6dbbe4b6294ca6b416b9d548b026da",
       "version_major": 2,
       "version_minor": 0
      },
      "text/plain": [
       "Fetching 9 files:   0%|          | 0/9 [00:00<?, ?it/s]"
      ]
     },
     "metadata": {},
     "output_type": "display_data"
    },
    {
     "data": {
      "application/vnd.jupyter.widget-view+json": {
       "model_id": "ff540ab2785a45cfa5e230efcc9f3cdc",
       "version_major": 2,
       "version_minor": 0
      },
      "text/plain": [
       "Split strings:   0%|          | 0/1 [00:00<?, ?it/s]"
      ]
     },
     "metadata": {},
     "output_type": "display_data"
    },
    {
     "data": {
      "application/vnd.jupyter.widget-view+json": {
       "model_id": "fade177c155f4efe9c9d324a95b4ed47",
       "version_major": 2,
       "version_minor": 0
      },
      "text/plain": [
       "BM25S Retrieve:   0%|          | 0/1 [00:00<?, ?it/s]"
      ]
     },
     "metadata": {},
     "output_type": "display_data"
    },
    {
     "data": {
      "application/vnd.jupyter.widget-view+json": {
       "model_id": "12daeac479e846b99f50fd87b1b57328",
       "version_major": 2,
       "version_minor": 0
      },
      "text/plain": [
       "Fetching 9 files:   0%|          | 0/9 [00:00<?, ?it/s]"
      ]
     },
     "metadata": {},
     "output_type": "display_data"
    },
    {
     "data": {
      "application/vnd.jupyter.widget-view+json": {
       "model_id": "65e108599a034061b57008dd449d730e",
       "version_major": 2,
       "version_minor": 0
      },
      "text/plain": [
       "Split strings:   0%|          | 0/1 [00:00<?, ?it/s]"
      ]
     },
     "metadata": {},
     "output_type": "display_data"
    },
    {
     "data": {
      "application/vnd.jupyter.widget-view+json": {
       "model_id": "7cacfcc07dfd42bab0a066a532f315d1",
       "version_major": 2,
       "version_minor": 0
      },
      "text/plain": [
       "BM25S Retrieve:   0%|          | 0/1 [00:00<?, ?it/s]"
      ]
     },
     "metadata": {},
     "output_type": "display_data"
    },
    {
     "data": {
      "application/vnd.jupyter.widget-view+json": {
       "model_id": "e544202ba68a4b468b5724c0a98d2e5d",
       "version_major": 2,
       "version_minor": 0
      },
      "text/plain": [
       "Fetching 9 files:   0%|          | 0/9 [00:00<?, ?it/s]"
      ]
     },
     "metadata": {},
     "output_type": "display_data"
    },
    {
     "data": {
      "application/vnd.jupyter.widget-view+json": {
       "model_id": "74458ccb8cba471eb73297a8ca96c857",
       "version_major": 2,
       "version_minor": 0
      },
      "text/plain": [
       "Split strings:   0%|          | 0/1 [00:00<?, ?it/s]"
      ]
     },
     "metadata": {},
     "output_type": "display_data"
    },
    {
     "data": {
      "application/vnd.jupyter.widget-view+json": {
       "model_id": "800784e85e7b48e4a88fac8b438b174d",
       "version_major": 2,
       "version_minor": 0
      },
      "text/plain": [
       "BM25S Retrieve:   0%|          | 0/1 [00:00<?, ?it/s]"
      ]
     },
     "metadata": {},
     "output_type": "display_data"
    },
    {
     "data": {
      "application/vnd.jupyter.widget-view+json": {
       "model_id": "4363733a92fa447097166ccea65bab13",
       "version_major": 2,
       "version_minor": 0
      },
      "text/plain": [
       "Fetching 9 files:   0%|          | 0/9 [00:00<?, ?it/s]"
      ]
     },
     "metadata": {},
     "output_type": "display_data"
    },
    {
     "data": {
      "application/vnd.jupyter.widget-view+json": {
       "model_id": "5c40099b568e4d4aa41bbb631e1857c2",
       "version_major": 2,
       "version_minor": 0
      },
      "text/plain": [
       "Split strings:   0%|          | 0/1 [00:00<?, ?it/s]"
      ]
     },
     "metadata": {},
     "output_type": "display_data"
    },
    {
     "data": {
      "application/vnd.jupyter.widget-view+json": {
       "model_id": "f5b262f7d7e64e33804627ef16c19609",
       "version_major": 2,
       "version_minor": 0
      },
      "text/plain": [
       "BM25S Retrieve:   0%|          | 0/1 [00:00<?, ?it/s]"
      ]
     },
     "metadata": {},
     "output_type": "display_data"
    },
    {
     "data": {
      "application/vnd.jupyter.widget-view+json": {
       "model_id": "2b72767140094bd58e6bbeded395b83d",
       "version_major": 2,
       "version_minor": 0
      },
      "text/plain": [
       "Fetching 9 files:   0%|          | 0/9 [00:00<?, ?it/s]"
      ]
     },
     "metadata": {},
     "output_type": "display_data"
    },
    {
     "data": {
      "application/vnd.jupyter.widget-view+json": {
       "model_id": "9b93abec1a8741e2ba4ab567c7fd371e",
       "version_major": 2,
       "version_minor": 0
      },
      "text/plain": [
       "Split strings:   0%|          | 0/1 [00:00<?, ?it/s]"
      ]
     },
     "metadata": {},
     "output_type": "display_data"
    },
    {
     "data": {
      "application/vnd.jupyter.widget-view+json": {
       "model_id": "8cb6d7079e4e457f916e50d540553668",
       "version_major": 2,
       "version_minor": 0
      },
      "text/plain": [
       "BM25S Retrieve:   0%|          | 0/1 [00:00<?, ?it/s]"
      ]
     },
     "metadata": {},
     "output_type": "display_data"
    },
    {
     "data": {
      "application/vnd.jupyter.widget-view+json": {
       "model_id": "8b9da3820a1b45e9bf4401a969dccdb1",
       "version_major": 2,
       "version_minor": 0
      },
      "text/plain": [
       "Fetching 9 files:   0%|          | 0/9 [00:00<?, ?it/s]"
      ]
     },
     "metadata": {},
     "output_type": "display_data"
    },
    {
     "data": {
      "application/vnd.jupyter.widget-view+json": {
       "model_id": "9b84157542514cc39a17c04e73c8f2a9",
       "version_major": 2,
       "version_minor": 0
      },
      "text/plain": [
       "Split strings:   0%|          | 0/1 [00:00<?, ?it/s]"
      ]
     },
     "metadata": {},
     "output_type": "display_data"
    },
    {
     "data": {
      "application/vnd.jupyter.widget-view+json": {
       "model_id": "6bf045fd281f4e8b948bdde93ab39766",
       "version_major": 2,
       "version_minor": 0
      },
      "text/plain": [
       "BM25S Retrieve:   0%|          | 0/1 [00:00<?, ?it/s]"
      ]
     },
     "metadata": {},
     "output_type": "display_data"
    },
    {
     "data": {
      "application/vnd.jupyter.widget-view+json": {
       "model_id": "dddb9243c9364dda8e1d5238a9886b50",
       "version_major": 2,
       "version_minor": 0
      },
      "text/plain": [
       "Fetching 9 files:   0%|          | 0/9 [00:00<?, ?it/s]"
      ]
     },
     "metadata": {},
     "output_type": "display_data"
    },
    {
     "data": {
      "application/vnd.jupyter.widget-view+json": {
       "model_id": "70e05eeef9a9490d9937839a064f4e21",
       "version_major": 2,
       "version_minor": 0
      },
      "text/plain": [
       "Split strings:   0%|          | 0/1 [00:00<?, ?it/s]"
      ]
     },
     "metadata": {},
     "output_type": "display_data"
    },
    {
     "data": {
      "application/vnd.jupyter.widget-view+json": {
       "model_id": "23190b7ecdc6439da5a9359bd3572018",
       "version_major": 2,
       "version_minor": 0
      },
      "text/plain": [
       "BM25S Retrieve:   0%|          | 0/1 [00:00<?, ?it/s]"
      ]
     },
     "metadata": {},
     "output_type": "display_data"
    },
    {
     "data": {
      "application/vnd.jupyter.widget-view+json": {
       "model_id": "b3197df3a0f04371a83e230b3b2cda52",
       "version_major": 2,
       "version_minor": 0
      },
      "text/plain": [
       "Fetching 9 files:   0%|          | 0/9 [00:00<?, ?it/s]"
      ]
     },
     "metadata": {},
     "output_type": "display_data"
    },
    {
     "data": {
      "application/vnd.jupyter.widget-view+json": {
       "model_id": "09731bd093b94027a2da6cf0019d2f03",
       "version_major": 2,
       "version_minor": 0
      },
      "text/plain": [
       "Split strings:   0%|          | 0/1 [00:00<?, ?it/s]"
      ]
     },
     "metadata": {},
     "output_type": "display_data"
    },
    {
     "data": {
      "application/vnd.jupyter.widget-view+json": {
       "model_id": "bf16c3ce364b465ea94d8320616b920e",
       "version_major": 2,
       "version_minor": 0
      },
      "text/plain": [
       "BM25S Retrieve:   0%|          | 0/1 [00:00<?, ?it/s]"
      ]
     },
     "metadata": {},
     "output_type": "display_data"
    },
    {
     "data": {
      "application/vnd.jupyter.widget-view+json": {
       "model_id": "14d176db01ab4f39af4e06d9e010fe68",
       "version_major": 2,
       "version_minor": 0
      },
      "text/plain": [
       "Fetching 9 files:   0%|          | 0/9 [00:00<?, ?it/s]"
      ]
     },
     "metadata": {},
     "output_type": "display_data"
    },
    {
     "data": {
      "application/vnd.jupyter.widget-view+json": {
       "model_id": "65d9c2b85fd5473f8fd1ead910791801",
       "version_major": 2,
       "version_minor": 0
      },
      "text/plain": [
       "Split strings:   0%|          | 0/1 [00:00<?, ?it/s]"
      ]
     },
     "metadata": {},
     "output_type": "display_data"
    },
    {
     "data": {
      "application/vnd.jupyter.widget-view+json": {
       "model_id": "06457ba9b3d14075b90ca7ee39b6f0b3",
       "version_major": 2,
       "version_minor": 0
      },
      "text/plain": [
       "BM25S Retrieve:   0%|          | 0/1 [00:00<?, ?it/s]"
      ]
     },
     "metadata": {},
     "output_type": "display_data"
    },
    {
     "data": {
      "application/vnd.jupyter.widget-view+json": {
       "model_id": "8025566dbd114ba7b8b5aa523bd9cd09",
       "version_major": 2,
       "version_minor": 0
      },
      "text/plain": [
       "Fetching 9 files:   0%|          | 0/9 [00:00<?, ?it/s]"
      ]
     },
     "metadata": {},
     "output_type": "display_data"
    },
    {
     "data": {
      "application/vnd.jupyter.widget-view+json": {
       "model_id": "3723038adc0947ff9d60896819cb9e3c",
       "version_major": 2,
       "version_minor": 0
      },
      "text/plain": [
       "Split strings:   0%|          | 0/1 [00:00<?, ?it/s]"
      ]
     },
     "metadata": {},
     "output_type": "display_data"
    },
    {
     "data": {
      "application/vnd.jupyter.widget-view+json": {
       "model_id": "e1f6381cd7f449b6970acf817f461d15",
       "version_major": 2,
       "version_minor": 0
      },
      "text/plain": [
       "BM25S Retrieve:   0%|          | 0/1 [00:00<?, ?it/s]"
      ]
     },
     "metadata": {},
     "output_type": "display_data"
    },
    {
     "data": {
      "application/vnd.jupyter.widget-view+json": {
       "model_id": "3c17321ad1c145f0b0b033d13162f989",
       "version_major": 2,
       "version_minor": 0
      },
      "text/plain": [
       "Fetching 9 files:   0%|          | 0/9 [00:00<?, ?it/s]"
      ]
     },
     "metadata": {},
     "output_type": "display_data"
    },
    {
     "data": {
      "application/vnd.jupyter.widget-view+json": {
       "model_id": "d240ccea1e334739950c4db259cdf8ed",
       "version_major": 2,
       "version_minor": 0
      },
      "text/plain": [
       "Split strings:   0%|          | 0/1 [00:00<?, ?it/s]"
      ]
     },
     "metadata": {},
     "output_type": "display_data"
    },
    {
     "data": {
      "application/vnd.jupyter.widget-view+json": {
       "model_id": "c797450992fb4abca4952aca0874c974",
       "version_major": 2,
       "version_minor": 0
      },
      "text/plain": [
       "BM25S Retrieve:   0%|          | 0/1 [00:00<?, ?it/s]"
      ]
     },
     "metadata": {},
     "output_type": "display_data"
    },
    {
     "data": {
      "application/vnd.jupyter.widget-view+json": {
       "model_id": "406e6f7d30554ef7967e3e2f8f4c701f",
       "version_major": 2,
       "version_minor": 0
      },
      "text/plain": [
       "Fetching 9 files:   0%|          | 0/9 [00:00<?, ?it/s]"
      ]
     },
     "metadata": {},
     "output_type": "display_data"
    },
    {
     "data": {
      "application/vnd.jupyter.widget-view+json": {
       "model_id": "031e9af16cfd46e1a0978017dea02638",
       "version_major": 2,
       "version_minor": 0
      },
      "text/plain": [
       "Split strings:   0%|          | 0/1 [00:00<?, ?it/s]"
      ]
     },
     "metadata": {},
     "output_type": "display_data"
    },
    {
     "data": {
      "application/vnd.jupyter.widget-view+json": {
       "model_id": "c3ce1136df554365b1db91079b411f58",
       "version_major": 2,
       "version_minor": 0
      },
      "text/plain": [
       "BM25S Retrieve:   0%|          | 0/1 [00:00<?, ?it/s]"
      ]
     },
     "metadata": {},
     "output_type": "display_data"
    },
    {
     "data": {
      "application/vnd.jupyter.widget-view+json": {
       "model_id": "ee89a72ecef14557afbfb586bab7ad30",
       "version_major": 2,
       "version_minor": 0
      },
      "text/plain": [
       "Fetching 9 files:   0%|          | 0/9 [00:00<?, ?it/s]"
      ]
     },
     "metadata": {},
     "output_type": "display_data"
    },
    {
     "data": {
      "application/vnd.jupyter.widget-view+json": {
       "model_id": "126990a24bfa4e289d0136eb2d7bfcba",
       "version_major": 2,
       "version_minor": 0
      },
      "text/plain": [
       "Split strings:   0%|          | 0/1 [00:00<?, ?it/s]"
      ]
     },
     "metadata": {},
     "output_type": "display_data"
    },
    {
     "data": {
      "application/vnd.jupyter.widget-view+json": {
       "model_id": "fd9d63125e5f435f92422bda74092a8b",
       "version_major": 2,
       "version_minor": 0
      },
      "text/plain": [
       "BM25S Retrieve:   0%|          | 0/1 [00:00<?, ?it/s]"
      ]
     },
     "metadata": {},
     "output_type": "display_data"
    },
    {
     "data": {
      "application/vnd.jupyter.widget-view+json": {
       "model_id": "b86745f00e7a4cb0a7b6c55b899ca652",
       "version_major": 2,
       "version_minor": 0
      },
      "text/plain": [
       "Fetching 9 files:   0%|          | 0/9 [00:00<?, ?it/s]"
      ]
     },
     "metadata": {},
     "output_type": "display_data"
    },
    {
     "data": {
      "application/vnd.jupyter.widget-view+json": {
       "model_id": "94692f869a7046468d919c1c90afaa86",
       "version_major": 2,
       "version_minor": 0
      },
      "text/plain": [
       "Split strings:   0%|          | 0/1 [00:00<?, ?it/s]"
      ]
     },
     "metadata": {},
     "output_type": "display_data"
    },
    {
     "data": {
      "application/vnd.jupyter.widget-view+json": {
       "model_id": "f6c0f5a5d4d24230a9cc2900be4e963c",
       "version_major": 2,
       "version_minor": 0
      },
      "text/plain": [
       "BM25S Retrieve:   0%|          | 0/1 [00:00<?, ?it/s]"
      ]
     },
     "metadata": {},
     "output_type": "display_data"
    },
    {
     "data": {
      "application/vnd.jupyter.widget-view+json": {
       "model_id": "2a27d3d3a7cb480bba0b14f69772009e",
       "version_major": 2,
       "version_minor": 0
      },
      "text/plain": [
       "Fetching 9 files:   0%|          | 0/9 [00:00<?, ?it/s]"
      ]
     },
     "metadata": {},
     "output_type": "display_data"
    },
    {
     "data": {
      "application/vnd.jupyter.widget-view+json": {
       "model_id": "14585fb8c6cf4773bbd580b09fad282a",
       "version_major": 2,
       "version_minor": 0
      },
      "text/plain": [
       "Split strings:   0%|          | 0/1 [00:00<?, ?it/s]"
      ]
     },
     "metadata": {},
     "output_type": "display_data"
    },
    {
     "data": {
      "application/vnd.jupyter.widget-view+json": {
       "model_id": "3993e22e10f647cbb3f0176cae16f9f9",
       "version_major": 2,
       "version_minor": 0
      },
      "text/plain": [
       "BM25S Retrieve:   0%|          | 0/1 [00:00<?, ?it/s]"
      ]
     },
     "metadata": {},
     "output_type": "display_data"
    },
    {
     "data": {
      "application/vnd.jupyter.widget-view+json": {
       "model_id": "28c863b86e4a49989599f5a81f95a752",
       "version_major": 2,
       "version_minor": 0
      },
      "text/plain": [
       "Fetching 9 files:   0%|          | 0/9 [00:00<?, ?it/s]"
      ]
     },
     "metadata": {},
     "output_type": "display_data"
    },
    {
     "data": {
      "application/vnd.jupyter.widget-view+json": {
       "model_id": "d12f87590e404286bc847ec2c39ab3ec",
       "version_major": 2,
       "version_minor": 0
      },
      "text/plain": [
       "Split strings:   0%|          | 0/1 [00:00<?, ?it/s]"
      ]
     },
     "metadata": {},
     "output_type": "display_data"
    },
    {
     "data": {
      "application/vnd.jupyter.widget-view+json": {
       "model_id": "7024afbd13c142f28450e83a2a5f72ad",
       "version_major": 2,
       "version_minor": 0
      },
      "text/plain": [
       "BM25S Retrieve:   0%|          | 0/1 [00:00<?, ?it/s]"
      ]
     },
     "metadata": {},
     "output_type": "display_data"
    },
    {
     "data": {
      "application/vnd.jupyter.widget-view+json": {
       "model_id": "ac34f803322242fa8bb5313eb6087a6f",
       "version_major": 2,
       "version_minor": 0
      },
      "text/plain": [
       "Fetching 9 files:   0%|          | 0/9 [00:00<?, ?it/s]"
      ]
     },
     "metadata": {},
     "output_type": "display_data"
    },
    {
     "data": {
      "application/vnd.jupyter.widget-view+json": {
       "model_id": "65b50ad1ed724f26ab861da1272ef998",
       "version_major": 2,
       "version_minor": 0
      },
      "text/plain": [
       "Split strings:   0%|          | 0/1 [00:00<?, ?it/s]"
      ]
     },
     "metadata": {},
     "output_type": "display_data"
    },
    {
     "data": {
      "application/vnd.jupyter.widget-view+json": {
       "model_id": "629d7df71b384f9382a0e77cbf51d17f",
       "version_major": 2,
       "version_minor": 0
      },
      "text/plain": [
       "BM25S Retrieve:   0%|          | 0/1 [00:00<?, ?it/s]"
      ]
     },
     "metadata": {},
     "output_type": "display_data"
    },
    {
     "data": {
      "application/vnd.jupyter.widget-view+json": {
       "model_id": "1742c7c4d0634ff88b84d6b9c3bfbae2",
       "version_major": 2,
       "version_minor": 0
      },
      "text/plain": [
       "Fetching 9 files:   0%|          | 0/9 [00:00<?, ?it/s]"
      ]
     },
     "metadata": {},
     "output_type": "display_data"
    },
    {
     "data": {
      "application/vnd.jupyter.widget-view+json": {
       "model_id": "595242f5f367415eaef752bd6d71d51b",
       "version_major": 2,
       "version_minor": 0
      },
      "text/plain": [
       "Split strings:   0%|          | 0/1 [00:00<?, ?it/s]"
      ]
     },
     "metadata": {},
     "output_type": "display_data"
    },
    {
     "data": {
      "application/vnd.jupyter.widget-view+json": {
       "model_id": "5114d114ce904bb09021ddf1a750ff58",
       "version_major": 2,
       "version_minor": 0
      },
      "text/plain": [
       "BM25S Retrieve:   0%|          | 0/1 [00:00<?, ?it/s]"
      ]
     },
     "metadata": {},
     "output_type": "display_data"
    },
    {
     "data": {
      "application/vnd.jupyter.widget-view+json": {
       "model_id": "56a55fc8507d4b52b4744d1be402c14a",
       "version_major": 2,
       "version_minor": 0
      },
      "text/plain": [
       "Fetching 9 files:   0%|          | 0/9 [00:00<?, ?it/s]"
      ]
     },
     "metadata": {},
     "output_type": "display_data"
    },
    {
     "data": {
      "application/vnd.jupyter.widget-view+json": {
       "model_id": "3149598ce3944e4cb5c0972649cbe452",
       "version_major": 2,
       "version_minor": 0
      },
      "text/plain": [
       "Split strings:   0%|          | 0/1 [00:00<?, ?it/s]"
      ]
     },
     "metadata": {},
     "output_type": "display_data"
    },
    {
     "data": {
      "application/vnd.jupyter.widget-view+json": {
       "model_id": "ed7985d8a7a34dfdbc1e9e17663d4f4f",
       "version_major": 2,
       "version_minor": 0
      },
      "text/plain": [
       "BM25S Retrieve:   0%|          | 0/1 [00:00<?, ?it/s]"
      ]
     },
     "metadata": {},
     "output_type": "display_data"
    },
    {
     "data": {
      "application/vnd.jupyter.widget-view+json": {
       "model_id": "35cd6c9dfa40459ead8cfc33bbb59dad",
       "version_major": 2,
       "version_minor": 0
      },
      "text/plain": [
       "Fetching 9 files:   0%|          | 0/9 [00:00<?, ?it/s]"
      ]
     },
     "metadata": {},
     "output_type": "display_data"
    },
    {
     "data": {
      "application/vnd.jupyter.widget-view+json": {
       "model_id": "130e570649314a04825d89ba03c8c718",
       "version_major": 2,
       "version_minor": 0
      },
      "text/plain": [
       "Split strings:   0%|          | 0/1 [00:00<?, ?it/s]"
      ]
     },
     "metadata": {},
     "output_type": "display_data"
    },
    {
     "data": {
      "application/vnd.jupyter.widget-view+json": {
       "model_id": "2f3ac4e099e945c1ba9d518046259edb",
       "version_major": 2,
       "version_minor": 0
      },
      "text/plain": [
       "BM25S Retrieve:   0%|          | 0/1 [00:00<?, ?it/s]"
      ]
     },
     "metadata": {},
     "output_type": "display_data"
    },
    {
     "data": {
      "application/vnd.jupyter.widget-view+json": {
       "model_id": "35524ea32bef4fd58534ad7eb81c5ea1",
       "version_major": 2,
       "version_minor": 0
      },
      "text/plain": [
       "Fetching 9 files:   0%|          | 0/9 [00:00<?, ?it/s]"
      ]
     },
     "metadata": {},
     "output_type": "display_data"
    },
    {
     "data": {
      "application/vnd.jupyter.widget-view+json": {
       "model_id": "cf9902d5c0e54657b258cc5bf5f880b4",
       "version_major": 2,
       "version_minor": 0
      },
      "text/plain": [
       "Split strings:   0%|          | 0/1 [00:00<?, ?it/s]"
      ]
     },
     "metadata": {},
     "output_type": "display_data"
    },
    {
     "data": {
      "application/vnd.jupyter.widget-view+json": {
       "model_id": "38fa926ce1964c498c99377e5eb85695",
       "version_major": 2,
       "version_minor": 0
      },
      "text/plain": [
       "BM25S Retrieve:   0%|          | 0/1 [00:00<?, ?it/s]"
      ]
     },
     "metadata": {},
     "output_type": "display_data"
    },
    {
     "data": {
      "application/vnd.jupyter.widget-view+json": {
       "model_id": "657a4af0be7b4b75b637e6b203c9a1bf",
       "version_major": 2,
       "version_minor": 0
      },
      "text/plain": [
       "Fetching 9 files:   0%|          | 0/9 [00:00<?, ?it/s]"
      ]
     },
     "metadata": {},
     "output_type": "display_data"
    },
    {
     "data": {
      "application/vnd.jupyter.widget-view+json": {
       "model_id": "d7dc36bad1274e75a0cfbfcc3ede67ca",
       "version_major": 2,
       "version_minor": 0
      },
      "text/plain": [
       "Split strings:   0%|          | 0/1 [00:00<?, ?it/s]"
      ]
     },
     "metadata": {},
     "output_type": "display_data"
    },
    {
     "data": {
      "application/vnd.jupyter.widget-view+json": {
       "model_id": "f57e95f9e1fe41128163f2afced44b30",
       "version_major": 2,
       "version_minor": 0
      },
      "text/plain": [
       "BM25S Retrieve:   0%|          | 0/1 [00:00<?, ?it/s]"
      ]
     },
     "metadata": {},
     "output_type": "display_data"
    },
    {
     "data": {
      "application/vnd.jupyter.widget-view+json": {
       "model_id": "d6d9c3e28db84ff48f5849c2047111a1",
       "version_major": 2,
       "version_minor": 0
      },
      "text/plain": [
       "Fetching 9 files:   0%|          | 0/9 [00:00<?, ?it/s]"
      ]
     },
     "metadata": {},
     "output_type": "display_data"
    },
    {
     "data": {
      "application/vnd.jupyter.widget-view+json": {
       "model_id": "705d3a74d24b4e4a844f8a6debb50566",
       "version_major": 2,
       "version_minor": 0
      },
      "text/plain": [
       "Split strings:   0%|          | 0/1 [00:00<?, ?it/s]"
      ]
     },
     "metadata": {},
     "output_type": "display_data"
    },
    {
     "data": {
      "application/vnd.jupyter.widget-view+json": {
       "model_id": "956a797591df44ba8fbc371f63912d21",
       "version_major": 2,
       "version_minor": 0
      },
      "text/plain": [
       "BM25S Retrieve:   0%|          | 0/1 [00:00<?, ?it/s]"
      ]
     },
     "metadata": {},
     "output_type": "display_data"
    },
    {
     "data": {
      "application/vnd.jupyter.widget-view+json": {
       "model_id": "0604d0fdd95449f4a8d5c86b17ee3e95",
       "version_major": 2,
       "version_minor": 0
      },
      "text/plain": [
       "Fetching 9 files:   0%|          | 0/9 [00:00<?, ?it/s]"
      ]
     },
     "metadata": {},
     "output_type": "display_data"
    },
    {
     "data": {
      "application/vnd.jupyter.widget-view+json": {
       "model_id": "ab1401bb622b4e15bdaeb8d901c702b2",
       "version_major": 2,
       "version_minor": 0
      },
      "text/plain": [
       "Split strings:   0%|          | 0/1 [00:00<?, ?it/s]"
      ]
     },
     "metadata": {},
     "output_type": "display_data"
    },
    {
     "data": {
      "application/vnd.jupyter.widget-view+json": {
       "model_id": "1ccab7b0291c472eaa43269c382122d8",
       "version_major": 2,
       "version_minor": 0
      },
      "text/plain": [
       "BM25S Retrieve:   0%|          | 0/1 [00:00<?, ?it/s]"
      ]
     },
     "metadata": {},
     "output_type": "display_data"
    },
    {
     "data": {
      "application/vnd.jupyter.widget-view+json": {
       "model_id": "ecbb85f254c64771977c80ff442b7ec1",
       "version_major": 2,
       "version_minor": 0
      },
      "text/plain": [
       "Fetching 9 files:   0%|          | 0/9 [00:00<?, ?it/s]"
      ]
     },
     "metadata": {},
     "output_type": "display_data"
    },
    {
     "data": {
      "application/vnd.jupyter.widget-view+json": {
       "model_id": "9b6b784f05534e9797a4acd73ef66d59",
       "version_major": 2,
       "version_minor": 0
      },
      "text/plain": [
       "Split strings:   0%|          | 0/1 [00:00<?, ?it/s]"
      ]
     },
     "metadata": {},
     "output_type": "display_data"
    },
    {
     "data": {
      "application/vnd.jupyter.widget-view+json": {
       "model_id": "363471050f304bf0999aefcd9004105f",
       "version_major": 2,
       "version_minor": 0
      },
      "text/plain": [
       "BM25S Retrieve:   0%|          | 0/1 [00:00<?, ?it/s]"
      ]
     },
     "metadata": {},
     "output_type": "display_data"
    },
    {
     "data": {
      "application/vnd.jupyter.widget-view+json": {
       "model_id": "c68eaf3456284365ba8d530cbebcef07",
       "version_major": 2,
       "version_minor": 0
      },
      "text/plain": [
       "Fetching 9 files:   0%|          | 0/9 [00:00<?, ?it/s]"
      ]
     },
     "metadata": {},
     "output_type": "display_data"
    },
    {
     "data": {
      "application/vnd.jupyter.widget-view+json": {
       "model_id": "1aeb01ade87c4917bbee5322da5763ee",
       "version_major": 2,
       "version_minor": 0
      },
      "text/plain": [
       "Split strings:   0%|          | 0/1 [00:00<?, ?it/s]"
      ]
     },
     "metadata": {},
     "output_type": "display_data"
    },
    {
     "data": {
      "application/vnd.jupyter.widget-view+json": {
       "model_id": "c18902d643544ffba5498325a8ee544b",
       "version_major": 2,
       "version_minor": 0
      },
      "text/plain": [
       "BM25S Retrieve:   0%|          | 0/1 [00:00<?, ?it/s]"
      ]
     },
     "metadata": {},
     "output_type": "display_data"
    },
    {
     "data": {
      "application/vnd.jupyter.widget-view+json": {
       "model_id": "4e2ed817b36c46018cb803270826cb18",
       "version_major": 2,
       "version_minor": 0
      },
      "text/plain": [
       "Fetching 9 files:   0%|          | 0/9 [00:00<?, ?it/s]"
      ]
     },
     "metadata": {},
     "output_type": "display_data"
    },
    {
     "data": {
      "application/vnd.jupyter.widget-view+json": {
       "model_id": "020467d2e89148ca9f42e2639675134f",
       "version_major": 2,
       "version_minor": 0
      },
      "text/plain": [
       "Split strings:   0%|          | 0/1 [00:00<?, ?it/s]"
      ]
     },
     "metadata": {},
     "output_type": "display_data"
    },
    {
     "data": {
      "application/vnd.jupyter.widget-view+json": {
       "model_id": "d9f77470862042f6a88bd68223f9ac8e",
       "version_major": 2,
       "version_minor": 0
      },
      "text/plain": [
       "BM25S Retrieve:   0%|          | 0/1 [00:00<?, ?it/s]"
      ]
     },
     "metadata": {},
     "output_type": "display_data"
    },
    {
     "data": {
      "application/vnd.jupyter.widget-view+json": {
       "model_id": "066a8b916ad948789393f6c478cf5dcd",
       "version_major": 2,
       "version_minor": 0
      },
      "text/plain": [
       "Fetching 9 files:   0%|          | 0/9 [00:00<?, ?it/s]"
      ]
     },
     "metadata": {},
     "output_type": "display_data"
    },
    {
     "data": {
      "application/vnd.jupyter.widget-view+json": {
       "model_id": "75bc2bd0e13f4950bebd993f68928849",
       "version_major": 2,
       "version_minor": 0
      },
      "text/plain": [
       "Split strings:   0%|          | 0/1 [00:00<?, ?it/s]"
      ]
     },
     "metadata": {},
     "output_type": "display_data"
    },
    {
     "data": {
      "application/vnd.jupyter.widget-view+json": {
       "model_id": "f762ff654f8341c49a14ce587761f5a1",
       "version_major": 2,
       "version_minor": 0
      },
      "text/plain": [
       "BM25S Retrieve:   0%|          | 0/1 [00:00<?, ?it/s]"
      ]
     },
     "metadata": {},
     "output_type": "display_data"
    },
    {
     "data": {
      "application/vnd.jupyter.widget-view+json": {
       "model_id": "ae79d1dcb0f94cd8ad030fc6f5879066",
       "version_major": 2,
       "version_minor": 0
      },
      "text/plain": [
       "Fetching 9 files:   0%|          | 0/9 [00:00<?, ?it/s]"
      ]
     },
     "metadata": {},
     "output_type": "display_data"
    },
    {
     "data": {
      "application/vnd.jupyter.widget-view+json": {
       "model_id": "28b698b89d7b4d1ab5abbfaaed878fe6",
       "version_major": 2,
       "version_minor": 0
      },
      "text/plain": [
       "Split strings:   0%|          | 0/1 [00:00<?, ?it/s]"
      ]
     },
     "metadata": {},
     "output_type": "display_data"
    },
    {
     "data": {
      "application/vnd.jupyter.widget-view+json": {
       "model_id": "f225b9e65b7b407c90fbdc8d3b834461",
       "version_major": 2,
       "version_minor": 0
      },
      "text/plain": [
       "BM25S Retrieve:   0%|          | 0/1 [00:00<?, ?it/s]"
      ]
     },
     "metadata": {},
     "output_type": "display_data"
    },
    {
     "data": {
      "application/vnd.jupyter.widget-view+json": {
       "model_id": "6782c576d5674f9a969733e7a27ba1a5",
       "version_major": 2,
       "version_minor": 0
      },
      "text/plain": [
       "Fetching 9 files:   0%|          | 0/9 [00:00<?, ?it/s]"
      ]
     },
     "metadata": {},
     "output_type": "display_data"
    },
    {
     "data": {
      "application/vnd.jupyter.widget-view+json": {
       "model_id": "82f4df324cdb4396b590f0a2215aeca8",
       "version_major": 2,
       "version_minor": 0
      },
      "text/plain": [
       "Split strings:   0%|          | 0/1 [00:00<?, ?it/s]"
      ]
     },
     "metadata": {},
     "output_type": "display_data"
    },
    {
     "data": {
      "application/vnd.jupyter.widget-view+json": {
       "model_id": "2cc3811761a6442fb134a89cfef56608",
       "version_major": 2,
       "version_minor": 0
      },
      "text/plain": [
       "BM25S Retrieve:   0%|          | 0/1 [00:00<?, ?it/s]"
      ]
     },
     "metadata": {},
     "output_type": "display_data"
    },
    {
     "data": {
      "application/vnd.jupyter.widget-view+json": {
       "model_id": "b2d6ddf5a89242579a50771e76424faa",
       "version_major": 2,
       "version_minor": 0
      },
      "text/plain": [
       "Fetching 9 files:   0%|          | 0/9 [00:00<?, ?it/s]"
      ]
     },
     "metadata": {},
     "output_type": "display_data"
    },
    {
     "data": {
      "application/vnd.jupyter.widget-view+json": {
       "model_id": "dbf39e43d6e74e928e91749e709720e7",
       "version_major": 2,
       "version_minor": 0
      },
      "text/plain": [
       "Split strings:   0%|          | 0/1 [00:00<?, ?it/s]"
      ]
     },
     "metadata": {},
     "output_type": "display_data"
    },
    {
     "data": {
      "application/vnd.jupyter.widget-view+json": {
       "model_id": "ec04d1e41b204566bbd98dbba5f806e9",
       "version_major": 2,
       "version_minor": 0
      },
      "text/plain": [
       "BM25S Retrieve:   0%|          | 0/1 [00:00<?, ?it/s]"
      ]
     },
     "metadata": {},
     "output_type": "display_data"
    },
    {
     "data": {
      "application/vnd.jupyter.widget-view+json": {
       "model_id": "a1ca6252853f4988af4e7a620a831c09",
       "version_major": 2,
       "version_minor": 0
      },
      "text/plain": [
       "Fetching 9 files:   0%|          | 0/9 [00:00<?, ?it/s]"
      ]
     },
     "metadata": {},
     "output_type": "display_data"
    },
    {
     "data": {
      "application/vnd.jupyter.widget-view+json": {
       "model_id": "d3f402e45b9148e19d0f124b5a3ef00b",
       "version_major": 2,
       "version_minor": 0
      },
      "text/plain": [
       "Split strings:   0%|          | 0/1 [00:00<?, ?it/s]"
      ]
     },
     "metadata": {},
     "output_type": "display_data"
    },
    {
     "data": {
      "application/vnd.jupyter.widget-view+json": {
       "model_id": "7da61423247546499fab198953a1dde9",
       "version_major": 2,
       "version_minor": 0
      },
      "text/plain": [
       "BM25S Retrieve:   0%|          | 0/1 [00:00<?, ?it/s]"
      ]
     },
     "metadata": {},
     "output_type": "display_data"
    },
    {
     "data": {
      "application/vnd.jupyter.widget-view+json": {
       "model_id": "f5fedf15cc2e47f98ca09b035846cac6",
       "version_major": 2,
       "version_minor": 0
      },
      "text/plain": [
       "Fetching 9 files:   0%|          | 0/9 [00:00<?, ?it/s]"
      ]
     },
     "metadata": {},
     "output_type": "display_data"
    },
    {
     "data": {
      "application/vnd.jupyter.widget-view+json": {
       "model_id": "0156c83e1a5e4a1e9604358fb71063d7",
       "version_major": 2,
       "version_minor": 0
      },
      "text/plain": [
       "Split strings:   0%|          | 0/1 [00:00<?, ?it/s]"
      ]
     },
     "metadata": {},
     "output_type": "display_data"
    },
    {
     "data": {
      "application/vnd.jupyter.widget-view+json": {
       "model_id": "faeef40222f7447eb517637055ef480f",
       "version_major": 2,
       "version_minor": 0
      },
      "text/plain": [
       "BM25S Retrieve:   0%|          | 0/1 [00:00<?, ?it/s]"
      ]
     },
     "metadata": {},
     "output_type": "display_data"
    },
    {
     "data": {
      "application/vnd.jupyter.widget-view+json": {
       "model_id": "8269d6491f2642a2a8c8460f34ed3967",
       "version_major": 2,
       "version_minor": 0
      },
      "text/plain": [
       "Fetching 9 files:   0%|          | 0/9 [00:00<?, ?it/s]"
      ]
     },
     "metadata": {},
     "output_type": "display_data"
    },
    {
     "data": {
      "application/vnd.jupyter.widget-view+json": {
       "model_id": "0c5471fa4830480fa43f54e0142797a5",
       "version_major": 2,
       "version_minor": 0
      },
      "text/plain": [
       "Split strings:   0%|          | 0/1 [00:00<?, ?it/s]"
      ]
     },
     "metadata": {},
     "output_type": "display_data"
    },
    {
     "data": {
      "application/vnd.jupyter.widget-view+json": {
       "model_id": "535669ec2ff5411b9b8a81fbb66cb041",
       "version_major": 2,
       "version_minor": 0
      },
      "text/plain": [
       "BM25S Retrieve:   0%|          | 0/1 [00:00<?, ?it/s]"
      ]
     },
     "metadata": {},
     "output_type": "display_data"
    },
    {
     "data": {
      "application/vnd.jupyter.widget-view+json": {
       "model_id": "9b025829156b45e0ba2da3ef8939a3cc",
       "version_major": 2,
       "version_minor": 0
      },
      "text/plain": [
       "Fetching 9 files:   0%|          | 0/9 [00:00<?, ?it/s]"
      ]
     },
     "metadata": {},
     "output_type": "display_data"
    },
    {
     "data": {
      "application/vnd.jupyter.widget-view+json": {
       "model_id": "d87198a7c39d4b918b98dc623ae59935",
       "version_major": 2,
       "version_minor": 0
      },
      "text/plain": [
       "Split strings:   0%|          | 0/1 [00:00<?, ?it/s]"
      ]
     },
     "metadata": {},
     "output_type": "display_data"
    },
    {
     "data": {
      "application/vnd.jupyter.widget-view+json": {
       "model_id": "f80082ca94844c39a7f79515a2bcf607",
       "version_major": 2,
       "version_minor": 0
      },
      "text/plain": [
       "BM25S Retrieve:   0%|          | 0/1 [00:00<?, ?it/s]"
      ]
     },
     "metadata": {},
     "output_type": "display_data"
    },
    {
     "data": {
      "application/vnd.jupyter.widget-view+json": {
       "model_id": "c0cbffacc97d44eabd75c369f63cffce",
       "version_major": 2,
       "version_minor": 0
      },
      "text/plain": [
       "Fetching 9 files:   0%|          | 0/9 [00:00<?, ?it/s]"
      ]
     },
     "metadata": {},
     "output_type": "display_data"
    },
    {
     "data": {
      "application/vnd.jupyter.widget-view+json": {
       "model_id": "1d6ae08c291a4de6b2fb785c9a5a8544",
       "version_major": 2,
       "version_minor": 0
      },
      "text/plain": [
       "Split strings:   0%|          | 0/1 [00:00<?, ?it/s]"
      ]
     },
     "metadata": {},
     "output_type": "display_data"
    },
    {
     "data": {
      "application/vnd.jupyter.widget-view+json": {
       "model_id": "a406f2b912e040b4a966aaaef33c3183",
       "version_major": 2,
       "version_minor": 0
      },
      "text/plain": [
       "BM25S Retrieve:   0%|          | 0/1 [00:00<?, ?it/s]"
      ]
     },
     "metadata": {},
     "output_type": "display_data"
    },
    {
     "data": {
      "application/vnd.jupyter.widget-view+json": {
       "model_id": "b8251f55cb454bba8592240149b988c7",
       "version_major": 2,
       "version_minor": 0
      },
      "text/plain": [
       "Fetching 9 files:   0%|          | 0/9 [00:00<?, ?it/s]"
      ]
     },
     "metadata": {},
     "output_type": "display_data"
    },
    {
     "data": {
      "application/vnd.jupyter.widget-view+json": {
       "model_id": "b49617131c934acb9c568032a719e218",
       "version_major": 2,
       "version_minor": 0
      },
      "text/plain": [
       "Split strings:   0%|          | 0/1 [00:00<?, ?it/s]"
      ]
     },
     "metadata": {},
     "output_type": "display_data"
    },
    {
     "data": {
      "application/vnd.jupyter.widget-view+json": {
       "model_id": "f5b583fcbb514112a0862cb34bdb52ae",
       "version_major": 2,
       "version_minor": 0
      },
      "text/plain": [
       "BM25S Retrieve:   0%|          | 0/1 [00:00<?, ?it/s]"
      ]
     },
     "metadata": {},
     "output_type": "display_data"
    },
    {
     "data": {
      "application/vnd.jupyter.widget-view+json": {
       "model_id": "65719ff34e7b4b7b8ba8443c29696b53",
       "version_major": 2,
       "version_minor": 0
      },
      "text/plain": [
       "Fetching 9 files:   0%|          | 0/9 [00:00<?, ?it/s]"
      ]
     },
     "metadata": {},
     "output_type": "display_data"
    },
    {
     "data": {
      "application/vnd.jupyter.widget-view+json": {
       "model_id": "f352d147e9024dcb978caf49581e0b7a",
       "version_major": 2,
       "version_minor": 0
      },
      "text/plain": [
       "Split strings:   0%|          | 0/1 [00:00<?, ?it/s]"
      ]
     },
     "metadata": {},
     "output_type": "display_data"
    },
    {
     "data": {
      "application/vnd.jupyter.widget-view+json": {
       "model_id": "6e8fbd2777fb40e7abcbc24ae9aebba8",
       "version_major": 2,
       "version_minor": 0
      },
      "text/plain": [
       "BM25S Retrieve:   0%|          | 0/1 [00:00<?, ?it/s]"
      ]
     },
     "metadata": {},
     "output_type": "display_data"
    },
    {
     "data": {
      "application/vnd.jupyter.widget-view+json": {
       "model_id": "411bd05e9c804a04b999e19ca738604a",
       "version_major": 2,
       "version_minor": 0
      },
      "text/plain": [
       "Fetching 9 files:   0%|          | 0/9 [00:00<?, ?it/s]"
      ]
     },
     "metadata": {},
     "output_type": "display_data"
    },
    {
     "data": {
      "application/vnd.jupyter.widget-view+json": {
       "model_id": "3cf97bad5890470db0b2111f823fbcf3",
       "version_major": 2,
       "version_minor": 0
      },
      "text/plain": [
       "Split strings:   0%|          | 0/1 [00:00<?, ?it/s]"
      ]
     },
     "metadata": {},
     "output_type": "display_data"
    },
    {
     "data": {
      "application/vnd.jupyter.widget-view+json": {
       "model_id": "3675639cbb7d41c8aef6da833efae3fb",
       "version_major": 2,
       "version_minor": 0
      },
      "text/plain": [
       "BM25S Retrieve:   0%|          | 0/1 [00:00<?, ?it/s]"
      ]
     },
     "metadata": {},
     "output_type": "display_data"
    },
    {
     "data": {
      "application/vnd.jupyter.widget-view+json": {
       "model_id": "64789ceb6f174783955419ba2e094666",
       "version_major": 2,
       "version_minor": 0
      },
      "text/plain": [
       "Fetching 9 files:   0%|          | 0/9 [00:00<?, ?it/s]"
      ]
     },
     "metadata": {},
     "output_type": "display_data"
    },
    {
     "data": {
      "application/vnd.jupyter.widget-view+json": {
       "model_id": "77b06ee597ff48cc8b6c3ab05c5a07aa",
       "version_major": 2,
       "version_minor": 0
      },
      "text/plain": [
       "Split strings:   0%|          | 0/1 [00:00<?, ?it/s]"
      ]
     },
     "metadata": {},
     "output_type": "display_data"
    },
    {
     "data": {
      "application/vnd.jupyter.widget-view+json": {
       "model_id": "17656d00cab847e88178163a49686ef6",
       "version_major": 2,
       "version_minor": 0
      },
      "text/plain": [
       "BM25S Retrieve:   0%|          | 0/1 [00:00<?, ?it/s]"
      ]
     },
     "metadata": {},
     "output_type": "display_data"
    },
    {
     "data": {
      "application/vnd.jupyter.widget-view+json": {
       "model_id": "9890974cc2ec4cc9b48e2737485dd983",
       "version_major": 2,
       "version_minor": 0
      },
      "text/plain": [
       "Fetching 9 files:   0%|          | 0/9 [00:00<?, ?it/s]"
      ]
     },
     "metadata": {},
     "output_type": "display_data"
    },
    {
     "data": {
      "application/vnd.jupyter.widget-view+json": {
       "model_id": "4a12026d246746bc926a04f80ff3df8f",
       "version_major": 2,
       "version_minor": 0
      },
      "text/plain": [
       "Split strings:   0%|          | 0/1 [00:00<?, ?it/s]"
      ]
     },
     "metadata": {},
     "output_type": "display_data"
    },
    {
     "data": {
      "application/vnd.jupyter.widget-view+json": {
       "model_id": "6c4292fd364945c6a4273034797e2925",
       "version_major": 2,
       "version_minor": 0
      },
      "text/plain": [
       "BM25S Retrieve:   0%|          | 0/1 [00:00<?, ?it/s]"
      ]
     },
     "metadata": {},
     "output_type": "display_data"
    },
    {
     "data": {
      "application/vnd.jupyter.widget-view+json": {
       "model_id": "5b587935e85b42b5a0924b3d13783140",
       "version_major": 2,
       "version_minor": 0
      },
      "text/plain": [
       "Fetching 9 files:   0%|          | 0/9 [00:00<?, ?it/s]"
      ]
     },
     "metadata": {},
     "output_type": "display_data"
    },
    {
     "data": {
      "application/vnd.jupyter.widget-view+json": {
       "model_id": "789e7c63034b448f86fe3b4091f83608",
       "version_major": 2,
       "version_minor": 0
      },
      "text/plain": [
       "Split strings:   0%|          | 0/1 [00:00<?, ?it/s]"
      ]
     },
     "metadata": {},
     "output_type": "display_data"
    },
    {
     "data": {
      "application/vnd.jupyter.widget-view+json": {
       "model_id": "00fa4f5be22b49a4bef62557f7d4e33e",
       "version_major": 2,
       "version_minor": 0
      },
      "text/plain": [
       "BM25S Retrieve:   0%|          | 0/1 [00:00<?, ?it/s]"
      ]
     },
     "metadata": {},
     "output_type": "display_data"
    },
    {
     "data": {
      "application/vnd.jupyter.widget-view+json": {
       "model_id": "aa2f242752af4be394938caef1cd9917",
       "version_major": 2,
       "version_minor": 0
      },
      "text/plain": [
       "Fetching 9 files:   0%|          | 0/9 [00:00<?, ?it/s]"
      ]
     },
     "metadata": {},
     "output_type": "display_data"
    },
    {
     "data": {
      "application/vnd.jupyter.widget-view+json": {
       "model_id": "0b2044411ce040ba9fa83f73b0da7d36",
       "version_major": 2,
       "version_minor": 0
      },
      "text/plain": [
       "Split strings:   0%|          | 0/1 [00:00<?, ?it/s]"
      ]
     },
     "metadata": {},
     "output_type": "display_data"
    },
    {
     "data": {
      "application/vnd.jupyter.widget-view+json": {
       "model_id": "4fb3ae75c67f40eaa408f3e57856d492",
       "version_major": 2,
       "version_minor": 0
      },
      "text/plain": [
       "BM25S Retrieve:   0%|          | 0/1 [00:00<?, ?it/s]"
      ]
     },
     "metadata": {},
     "output_type": "display_data"
    },
    {
     "data": {
      "application/vnd.jupyter.widget-view+json": {
       "model_id": "4f064889288845a88af2ec4fe0e601af",
       "version_major": 2,
       "version_minor": 0
      },
      "text/plain": [
       "Fetching 9 files:   0%|          | 0/9 [00:00<?, ?it/s]"
      ]
     },
     "metadata": {},
     "output_type": "display_data"
    },
    {
     "data": {
      "application/vnd.jupyter.widget-view+json": {
       "model_id": "ea594efc162d43c789f19ac092a104b5",
       "version_major": 2,
       "version_minor": 0
      },
      "text/plain": [
       "Split strings:   0%|          | 0/1 [00:00<?, ?it/s]"
      ]
     },
     "metadata": {},
     "output_type": "display_data"
    },
    {
     "data": {
      "application/vnd.jupyter.widget-view+json": {
       "model_id": "323008f8328249b996fc40c80174e057",
       "version_major": 2,
       "version_minor": 0
      },
      "text/plain": [
       "BM25S Retrieve:   0%|          | 0/1 [00:00<?, ?it/s]"
      ]
     },
     "metadata": {},
     "output_type": "display_data"
    },
    {
     "data": {
      "application/vnd.jupyter.widget-view+json": {
       "model_id": "a954614b986e48018428886c341d3459",
       "version_major": 2,
       "version_minor": 0
      },
      "text/plain": [
       "Fetching 9 files:   0%|          | 0/9 [00:00<?, ?it/s]"
      ]
     },
     "metadata": {},
     "output_type": "display_data"
    },
    {
     "data": {
      "application/vnd.jupyter.widget-view+json": {
       "model_id": "7b4b06f76c754b7dbda3ba99dc6bd3f5",
       "version_major": 2,
       "version_minor": 0
      },
      "text/plain": [
       "Split strings:   0%|          | 0/1 [00:00<?, ?it/s]"
      ]
     },
     "metadata": {},
     "output_type": "display_data"
    },
    {
     "data": {
      "application/vnd.jupyter.widget-view+json": {
       "model_id": "a6d80a8df9db4f07996579745f12f5a8",
       "version_major": 2,
       "version_minor": 0
      },
      "text/plain": [
       "BM25S Retrieve:   0%|          | 0/1 [00:00<?, ?it/s]"
      ]
     },
     "metadata": {},
     "output_type": "display_data"
    },
    {
     "data": {
      "application/vnd.jupyter.widget-view+json": {
       "model_id": "5573afc3291542a887cbb6c4404d226c",
       "version_major": 2,
       "version_minor": 0
      },
      "text/plain": [
       "Fetching 9 files:   0%|          | 0/9 [00:00<?, ?it/s]"
      ]
     },
     "metadata": {},
     "output_type": "display_data"
    },
    {
     "data": {
      "application/vnd.jupyter.widget-view+json": {
       "model_id": "a221f3a59f824daa9d07b85c7d45f0e7",
       "version_major": 2,
       "version_minor": 0
      },
      "text/plain": [
       "Split strings:   0%|          | 0/1 [00:00<?, ?it/s]"
      ]
     },
     "metadata": {},
     "output_type": "display_data"
    },
    {
     "data": {
      "application/vnd.jupyter.widget-view+json": {
       "model_id": "03a1bc1d16704477978b644788bdb678",
       "version_major": 2,
       "version_minor": 0
      },
      "text/plain": [
       "BM25S Retrieve:   0%|          | 0/1 [00:00<?, ?it/s]"
      ]
     },
     "metadata": {},
     "output_type": "display_data"
    },
    {
     "data": {
      "application/vnd.jupyter.widget-view+json": {
       "model_id": "b9b4bef5dc26494aabd7f513dec68f1a",
       "version_major": 2,
       "version_minor": 0
      },
      "text/plain": [
       "Fetching 9 files:   0%|          | 0/9 [00:00<?, ?it/s]"
      ]
     },
     "metadata": {},
     "output_type": "display_data"
    },
    {
     "data": {
      "application/vnd.jupyter.widget-view+json": {
       "model_id": "ca940877f5de4d489eb544aef7793456",
       "version_major": 2,
       "version_minor": 0
      },
      "text/plain": [
       "Split strings:   0%|          | 0/1 [00:00<?, ?it/s]"
      ]
     },
     "metadata": {},
     "output_type": "display_data"
    },
    {
     "data": {
      "application/vnd.jupyter.widget-view+json": {
       "model_id": "e4fd9cadd6fa48299928fb96ccd1229c",
       "version_major": 2,
       "version_minor": 0
      },
      "text/plain": [
       "BM25S Retrieve:   0%|          | 0/1 [00:00<?, ?it/s]"
      ]
     },
     "metadata": {},
     "output_type": "display_data"
    },
    {
     "data": {
      "application/vnd.jupyter.widget-view+json": {
       "model_id": "8a58c2d9d2b84a8880e226fdcc1c94d0",
       "version_major": 2,
       "version_minor": 0
      },
      "text/plain": [
       "Fetching 9 files:   0%|          | 0/9 [00:00<?, ?it/s]"
      ]
     },
     "metadata": {},
     "output_type": "display_data"
    },
    {
     "data": {
      "application/vnd.jupyter.widget-view+json": {
       "model_id": "283131eef7864f84bdf30fa25cd9765a",
       "version_major": 2,
       "version_minor": 0
      },
      "text/plain": [
       "Split strings:   0%|          | 0/1 [00:00<?, ?it/s]"
      ]
     },
     "metadata": {},
     "output_type": "display_data"
    },
    {
     "data": {
      "application/vnd.jupyter.widget-view+json": {
       "model_id": "8d166c30ec2f48389d29f6284fd14c2a",
       "version_major": 2,
       "version_minor": 0
      },
      "text/plain": [
       "BM25S Retrieve:   0%|          | 0/1 [00:00<?, ?it/s]"
      ]
     },
     "metadata": {},
     "output_type": "display_data"
    },
    {
     "data": {
      "application/vnd.jupyter.widget-view+json": {
       "model_id": "b3667df52d874a39b248993b072245ca",
       "version_major": 2,
       "version_minor": 0
      },
      "text/plain": [
       "Fetching 9 files:   0%|          | 0/9 [00:00<?, ?it/s]"
      ]
     },
     "metadata": {},
     "output_type": "display_data"
    },
    {
     "data": {
      "application/vnd.jupyter.widget-view+json": {
       "model_id": "733030c4e6204021ae8e0b0da4fbf2ab",
       "version_major": 2,
       "version_minor": 0
      },
      "text/plain": [
       "Split strings:   0%|          | 0/1 [00:00<?, ?it/s]"
      ]
     },
     "metadata": {},
     "output_type": "display_data"
    },
    {
     "data": {
      "application/vnd.jupyter.widget-view+json": {
       "model_id": "e69b4496dc054eb0b4226f6606120392",
       "version_major": 2,
       "version_minor": 0
      },
      "text/plain": [
       "BM25S Retrieve:   0%|          | 0/1 [00:00<?, ?it/s]"
      ]
     },
     "metadata": {},
     "output_type": "display_data"
    },
    {
     "data": {
      "application/vnd.jupyter.widget-view+json": {
       "model_id": "fb2fef36cc4a4aa2b4646b6092c662ef",
       "version_major": 2,
       "version_minor": 0
      },
      "text/plain": [
       "Fetching 9 files:   0%|          | 0/9 [00:00<?, ?it/s]"
      ]
     },
     "metadata": {},
     "output_type": "display_data"
    },
    {
     "data": {
      "application/vnd.jupyter.widget-view+json": {
       "model_id": "6413290c25804be1aa2a1ad53d612075",
       "version_major": 2,
       "version_minor": 0
      },
      "text/plain": [
       "Split strings:   0%|          | 0/1 [00:00<?, ?it/s]"
      ]
     },
     "metadata": {},
     "output_type": "display_data"
    },
    {
     "data": {
      "application/vnd.jupyter.widget-view+json": {
       "model_id": "f3ab4072e0c44b3a8676300017442948",
       "version_major": 2,
       "version_minor": 0
      },
      "text/plain": [
       "BM25S Retrieve:   0%|          | 0/1 [00:00<?, ?it/s]"
      ]
     },
     "metadata": {},
     "output_type": "display_data"
    },
    {
     "data": {
      "application/vnd.jupyter.widget-view+json": {
       "model_id": "aea7930549a54b32b638ce921be94971",
       "version_major": 2,
       "version_minor": 0
      },
      "text/plain": [
       "Fetching 9 files:   0%|          | 0/9 [00:00<?, ?it/s]"
      ]
     },
     "metadata": {},
     "output_type": "display_data"
    },
    {
     "data": {
      "application/vnd.jupyter.widget-view+json": {
       "model_id": "57e3744328dd428bb9304497166bf8ad",
       "version_major": 2,
       "version_minor": 0
      },
      "text/plain": [
       "Split strings:   0%|          | 0/1 [00:00<?, ?it/s]"
      ]
     },
     "metadata": {},
     "output_type": "display_data"
    },
    {
     "data": {
      "application/vnd.jupyter.widget-view+json": {
       "model_id": "a3ad6d7a80114fc8a0c260a51157928a",
       "version_major": 2,
       "version_minor": 0
      },
      "text/plain": [
       "BM25S Retrieve:   0%|          | 0/1 [00:00<?, ?it/s]"
      ]
     },
     "metadata": {},
     "output_type": "display_data"
    },
    {
     "data": {
      "application/vnd.jupyter.widget-view+json": {
       "model_id": "3fda2b96d61e480b8e1b4426b4fc5e40",
       "version_major": 2,
       "version_minor": 0
      },
      "text/plain": [
       "Fetching 9 files:   0%|          | 0/9 [00:00<?, ?it/s]"
      ]
     },
     "metadata": {},
     "output_type": "display_data"
    },
    {
     "data": {
      "application/vnd.jupyter.widget-view+json": {
       "model_id": "5f32b0a026da4681b62c5b4c9dd40171",
       "version_major": 2,
       "version_minor": 0
      },
      "text/plain": [
       "Split strings:   0%|          | 0/1 [00:00<?, ?it/s]"
      ]
     },
     "metadata": {},
     "output_type": "display_data"
    },
    {
     "data": {
      "application/vnd.jupyter.widget-view+json": {
       "model_id": "bc887830d68f49ae87615308a3671cc4",
       "version_major": 2,
       "version_minor": 0
      },
      "text/plain": [
       "BM25S Retrieve:   0%|          | 0/1 [00:00<?, ?it/s]"
      ]
     },
     "metadata": {},
     "output_type": "display_data"
    },
    {
     "data": {
      "application/vnd.jupyter.widget-view+json": {
       "model_id": "fde6aa966ab44c6384a46c8d7b07b601",
       "version_major": 2,
       "version_minor": 0
      },
      "text/plain": [
       "Fetching 9 files:   0%|          | 0/9 [00:00<?, ?it/s]"
      ]
     },
     "metadata": {},
     "output_type": "display_data"
    },
    {
     "data": {
      "application/vnd.jupyter.widget-view+json": {
       "model_id": "08fadca5d26c4a328aa6889a4c75e160",
       "version_major": 2,
       "version_minor": 0
      },
      "text/plain": [
       "Split strings:   0%|          | 0/1 [00:00<?, ?it/s]"
      ]
     },
     "metadata": {},
     "output_type": "display_data"
    },
    {
     "data": {
      "application/vnd.jupyter.widget-view+json": {
       "model_id": "c9f778d2855b485faabc3cceebb67751",
       "version_major": 2,
       "version_minor": 0
      },
      "text/plain": [
       "BM25S Retrieve:   0%|          | 0/1 [00:00<?, ?it/s]"
      ]
     },
     "metadata": {},
     "output_type": "display_data"
    },
    {
     "data": {
      "application/vnd.jupyter.widget-view+json": {
       "model_id": "2c8acd7735ee4bb2a23b291683a1159e",
       "version_major": 2,
       "version_minor": 0
      },
      "text/plain": [
       "Fetching 9 files:   0%|          | 0/9 [00:00<?, ?it/s]"
      ]
     },
     "metadata": {},
     "output_type": "display_data"
    },
    {
     "data": {
      "application/vnd.jupyter.widget-view+json": {
       "model_id": "c83960a5b17048a0a8146b7d40da50b3",
       "version_major": 2,
       "version_minor": 0
      },
      "text/plain": [
       "Split strings:   0%|          | 0/1 [00:00<?, ?it/s]"
      ]
     },
     "metadata": {},
     "output_type": "display_data"
    },
    {
     "data": {
      "application/vnd.jupyter.widget-view+json": {
       "model_id": "8d1f6b9aa06940abb28f25eb2d42c502",
       "version_major": 2,
       "version_minor": 0
      },
      "text/plain": [
       "BM25S Retrieve:   0%|          | 0/1 [00:00<?, ?it/s]"
      ]
     },
     "metadata": {},
     "output_type": "display_data"
    },
    {
     "data": {
      "application/vnd.jupyter.widget-view+json": {
       "model_id": "54c9f9bcb66049039b9ca20113fc772d",
       "version_major": 2,
       "version_minor": 0
      },
      "text/plain": [
       "Fetching 9 files:   0%|          | 0/9 [00:00<?, ?it/s]"
      ]
     },
     "metadata": {},
     "output_type": "display_data"
    },
    {
     "data": {
      "application/vnd.jupyter.widget-view+json": {
       "model_id": "fe05c79139b34dc79204fc02c481e80b",
       "version_major": 2,
       "version_minor": 0
      },
      "text/plain": [
       "Split strings:   0%|          | 0/1 [00:00<?, ?it/s]"
      ]
     },
     "metadata": {},
     "output_type": "display_data"
    },
    {
     "data": {
      "application/vnd.jupyter.widget-view+json": {
       "model_id": "2b221a8732cf4218a2207d6ef0ab0ceb",
       "version_major": 2,
       "version_minor": 0
      },
      "text/plain": [
       "BM25S Retrieve:   0%|          | 0/1 [00:00<?, ?it/s]"
      ]
     },
     "metadata": {},
     "output_type": "display_data"
    },
    {
     "data": {
      "application/vnd.jupyter.widget-view+json": {
       "model_id": "46b655582182462a96e1e732a8709ed4",
       "version_major": 2,
       "version_minor": 0
      },
      "text/plain": [
       "Fetching 9 files:   0%|          | 0/9 [00:00<?, ?it/s]"
      ]
     },
     "metadata": {},
     "output_type": "display_data"
    },
    {
     "data": {
      "application/vnd.jupyter.widget-view+json": {
       "model_id": "93150492a0dc49ed80a7c885c4add298",
       "version_major": 2,
       "version_minor": 0
      },
      "text/plain": [
       "Split strings:   0%|          | 0/1 [00:00<?, ?it/s]"
      ]
     },
     "metadata": {},
     "output_type": "display_data"
    },
    {
     "data": {
      "application/vnd.jupyter.widget-view+json": {
       "model_id": "32b074b6caec44958eb95b353d9ccbc4",
       "version_major": 2,
       "version_minor": 0
      },
      "text/plain": [
       "BM25S Retrieve:   0%|          | 0/1 [00:00<?, ?it/s]"
      ]
     },
     "metadata": {},
     "output_type": "display_data"
    },
    {
     "data": {
      "application/vnd.jupyter.widget-view+json": {
       "model_id": "b854bc978bcc4cec9f0bdbfc376b7522",
       "version_major": 2,
       "version_minor": 0
      },
      "text/plain": [
       "Fetching 9 files:   0%|          | 0/9 [00:00<?, ?it/s]"
      ]
     },
     "metadata": {},
     "output_type": "display_data"
    },
    {
     "data": {
      "application/vnd.jupyter.widget-view+json": {
       "model_id": "1396d4406bf74be79bd97b3178a739e4",
       "version_major": 2,
       "version_minor": 0
      },
      "text/plain": [
       "Split strings:   0%|          | 0/1 [00:00<?, ?it/s]"
      ]
     },
     "metadata": {},
     "output_type": "display_data"
    },
    {
     "data": {
      "application/vnd.jupyter.widget-view+json": {
       "model_id": "a6b015a909a5496eb1ec68946e25847a",
       "version_major": 2,
       "version_minor": 0
      },
      "text/plain": [
       "BM25S Retrieve:   0%|          | 0/1 [00:00<?, ?it/s]"
      ]
     },
     "metadata": {},
     "output_type": "display_data"
    },
    {
     "data": {
      "application/vnd.jupyter.widget-view+json": {
       "model_id": "4dffe35356ac46fd86b3d63296a3918c",
       "version_major": 2,
       "version_minor": 0
      },
      "text/plain": [
       "Fetching 9 files:   0%|          | 0/9 [00:00<?, ?it/s]"
      ]
     },
     "metadata": {},
     "output_type": "display_data"
    },
    {
     "data": {
      "application/vnd.jupyter.widget-view+json": {
       "model_id": "45fa5d5638b04a90aecacf2d6ac433d1",
       "version_major": 2,
       "version_minor": 0
      },
      "text/plain": [
       "Split strings:   0%|          | 0/1 [00:00<?, ?it/s]"
      ]
     },
     "metadata": {},
     "output_type": "display_data"
    },
    {
     "data": {
      "application/vnd.jupyter.widget-view+json": {
       "model_id": "318aed497d37436b9ace96d8ddda8ec1",
       "version_major": 2,
       "version_minor": 0
      },
      "text/plain": [
       "BM25S Retrieve:   0%|          | 0/1 [00:00<?, ?it/s]"
      ]
     },
     "metadata": {},
     "output_type": "display_data"
    },
    {
     "data": {
      "application/vnd.jupyter.widget-view+json": {
       "model_id": "150da0aa980249eb97ba9d7e30c58c1a",
       "version_major": 2,
       "version_minor": 0
      },
      "text/plain": [
       "Fetching 9 files:   0%|          | 0/9 [00:00<?, ?it/s]"
      ]
     },
     "metadata": {},
     "output_type": "display_data"
    },
    {
     "data": {
      "application/vnd.jupyter.widget-view+json": {
       "model_id": "b3f4376568e04ba8bd369968407202f2",
       "version_major": 2,
       "version_minor": 0
      },
      "text/plain": [
       "Split strings:   0%|          | 0/1 [00:00<?, ?it/s]"
      ]
     },
     "metadata": {},
     "output_type": "display_data"
    },
    {
     "data": {
      "application/vnd.jupyter.widget-view+json": {
       "model_id": "30905ee304b440b990ce55c4bd77c4af",
       "version_major": 2,
       "version_minor": 0
      },
      "text/plain": [
       "BM25S Retrieve:   0%|          | 0/1 [00:00<?, ?it/s]"
      ]
     },
     "metadata": {},
     "output_type": "display_data"
    },
    {
     "data": {
      "application/vnd.jupyter.widget-view+json": {
       "model_id": "4b1c52492cdd46408d01549155ac85da",
       "version_major": 2,
       "version_minor": 0
      },
      "text/plain": [
       "Fetching 9 files:   0%|          | 0/9 [00:00<?, ?it/s]"
      ]
     },
     "metadata": {},
     "output_type": "display_data"
    },
    {
     "data": {
      "application/vnd.jupyter.widget-view+json": {
       "model_id": "30cd270a1cb741fa9f2cb2554cb33a22",
       "version_major": 2,
       "version_minor": 0
      },
      "text/plain": [
       "Split strings:   0%|          | 0/1 [00:00<?, ?it/s]"
      ]
     },
     "metadata": {},
     "output_type": "display_data"
    },
    {
     "data": {
      "application/vnd.jupyter.widget-view+json": {
       "model_id": "dd7a9b74cd3d4bc99b6323390398614d",
       "version_major": 2,
       "version_minor": 0
      },
      "text/plain": [
       "BM25S Retrieve:   0%|          | 0/1 [00:00<?, ?it/s]"
      ]
     },
     "metadata": {},
     "output_type": "display_data"
    },
    {
     "data": {
      "application/vnd.jupyter.widget-view+json": {
       "model_id": "ec866d058cd44c8f97bd0bc38353a2b9",
       "version_major": 2,
       "version_minor": 0
      },
      "text/plain": [
       "Fetching 9 files:   0%|          | 0/9 [00:00<?, ?it/s]"
      ]
     },
     "metadata": {},
     "output_type": "display_data"
    },
    {
     "data": {
      "application/vnd.jupyter.widget-view+json": {
       "model_id": "8063fdf1bef149538ee866c9ebf7d92b",
       "version_major": 2,
       "version_minor": 0
      },
      "text/plain": [
       "Split strings:   0%|          | 0/1 [00:00<?, ?it/s]"
      ]
     },
     "metadata": {},
     "output_type": "display_data"
    },
    {
     "data": {
      "application/vnd.jupyter.widget-view+json": {
       "model_id": "45d75bdaf1d04accb99ff3e1f05c5a30",
       "version_major": 2,
       "version_minor": 0
      },
      "text/plain": [
       "BM25S Retrieve:   0%|          | 0/1 [00:00<?, ?it/s]"
      ]
     },
     "metadata": {},
     "output_type": "display_data"
    },
    {
     "data": {
      "application/vnd.jupyter.widget-view+json": {
       "model_id": "f3ffcd4be44e4ad4a1bca4ba5af6bb37",
       "version_major": 2,
       "version_minor": 0
      },
      "text/plain": [
       "Fetching 9 files:   0%|          | 0/9 [00:00<?, ?it/s]"
      ]
     },
     "metadata": {},
     "output_type": "display_data"
    },
    {
     "data": {
      "application/vnd.jupyter.widget-view+json": {
       "model_id": "1255b1a8b4184031885628ff2006747f",
       "version_major": 2,
       "version_minor": 0
      },
      "text/plain": [
       "Split strings:   0%|          | 0/1 [00:00<?, ?it/s]"
      ]
     },
     "metadata": {},
     "output_type": "display_data"
    },
    {
     "data": {
      "application/vnd.jupyter.widget-view+json": {
       "model_id": "ba6fa8c116e548ff88a6f8133246caf8",
       "version_major": 2,
       "version_minor": 0
      },
      "text/plain": [
       "BM25S Retrieve:   0%|          | 0/1 [00:00<?, ?it/s]"
      ]
     },
     "metadata": {},
     "output_type": "display_data"
    },
    {
     "data": {
      "application/vnd.jupyter.widget-view+json": {
       "model_id": "5230bcf0d0bb4df58d2d5cb87104aa52",
       "version_major": 2,
       "version_minor": 0
      },
      "text/plain": [
       "Fetching 9 files:   0%|          | 0/9 [00:00<?, ?it/s]"
      ]
     },
     "metadata": {},
     "output_type": "display_data"
    },
    {
     "data": {
      "application/vnd.jupyter.widget-view+json": {
       "model_id": "20f93bac49584d7ab622d9a67c6d55c0",
       "version_major": 2,
       "version_minor": 0
      },
      "text/plain": [
       "Split strings:   0%|          | 0/1 [00:00<?, ?it/s]"
      ]
     },
     "metadata": {},
     "output_type": "display_data"
    },
    {
     "data": {
      "application/vnd.jupyter.widget-view+json": {
       "model_id": "2afde46b5dcc4f4eb410abe90f6e19cf",
       "version_major": 2,
       "version_minor": 0
      },
      "text/plain": [
       "BM25S Retrieve:   0%|          | 0/1 [00:00<?, ?it/s]"
      ]
     },
     "metadata": {},
     "output_type": "display_data"
    },
    {
     "data": {
      "application/vnd.jupyter.widget-view+json": {
       "model_id": "bb284484f23d4c51bd463bfea68882d0",
       "version_major": 2,
       "version_minor": 0
      },
      "text/plain": [
       "Fetching 9 files:   0%|          | 0/9 [00:00<?, ?it/s]"
      ]
     },
     "metadata": {},
     "output_type": "display_data"
    },
    {
     "data": {
      "application/vnd.jupyter.widget-view+json": {
       "model_id": "159fdf80f8124674be5094d0e1ba713d",
       "version_major": 2,
       "version_minor": 0
      },
      "text/plain": [
       "Split strings:   0%|          | 0/1 [00:00<?, ?it/s]"
      ]
     },
     "metadata": {},
     "output_type": "display_data"
    },
    {
     "data": {
      "application/vnd.jupyter.widget-view+json": {
       "model_id": "71ad6b5003b74b3ba8e076285bccf970",
       "version_major": 2,
       "version_minor": 0
      },
      "text/plain": [
       "BM25S Retrieve:   0%|          | 0/1 [00:00<?, ?it/s]"
      ]
     },
     "metadata": {},
     "output_type": "display_data"
    },
    {
     "data": {
      "application/vnd.jupyter.widget-view+json": {
       "model_id": "d691241cf38349cbbcb81d0f3b3e46c1",
       "version_major": 2,
       "version_minor": 0
      },
      "text/plain": [
       "Fetching 9 files:   0%|          | 0/9 [00:00<?, ?it/s]"
      ]
     },
     "metadata": {},
     "output_type": "display_data"
    },
    {
     "data": {
      "application/vnd.jupyter.widget-view+json": {
       "model_id": "b7bbb015e7be48d58835c581937ce788",
       "version_major": 2,
       "version_minor": 0
      },
      "text/plain": [
       "Split strings:   0%|          | 0/1 [00:00<?, ?it/s]"
      ]
     },
     "metadata": {},
     "output_type": "display_data"
    },
    {
     "data": {
      "application/vnd.jupyter.widget-view+json": {
       "model_id": "5a204beacc524eadb93752cbae549ea3",
       "version_major": 2,
       "version_minor": 0
      },
      "text/plain": [
       "BM25S Retrieve:   0%|          | 0/1 [00:00<?, ?it/s]"
      ]
     },
     "metadata": {},
     "output_type": "display_data"
    },
    {
     "data": {
      "application/vnd.jupyter.widget-view+json": {
       "model_id": "e4c7f217f7a247fca53170defa09c846",
       "version_major": 2,
       "version_minor": 0
      },
      "text/plain": [
       "Fetching 9 files:   0%|          | 0/9 [00:00<?, ?it/s]"
      ]
     },
     "metadata": {},
     "output_type": "display_data"
    },
    {
     "data": {
      "application/vnd.jupyter.widget-view+json": {
       "model_id": "3bf835adf5ae4d7b9910b7d54f0e7c7e",
       "version_major": 2,
       "version_minor": 0
      },
      "text/plain": [
       "Split strings:   0%|          | 0/1 [00:00<?, ?it/s]"
      ]
     },
     "metadata": {},
     "output_type": "display_data"
    },
    {
     "data": {
      "application/vnd.jupyter.widget-view+json": {
       "model_id": "71422fcaf2324dc29f965024d42f0dc2",
       "version_major": 2,
       "version_minor": 0
      },
      "text/plain": [
       "BM25S Retrieve:   0%|          | 0/1 [00:00<?, ?it/s]"
      ]
     },
     "metadata": {},
     "output_type": "display_data"
    },
    {
     "data": {
      "application/vnd.jupyter.widget-view+json": {
       "model_id": "9ae2418a475943de9911391443cb8554",
       "version_major": 2,
       "version_minor": 0
      },
      "text/plain": [
       "Fetching 9 files:   0%|          | 0/9 [00:00<?, ?it/s]"
      ]
     },
     "metadata": {},
     "output_type": "display_data"
    },
    {
     "data": {
      "application/vnd.jupyter.widget-view+json": {
       "model_id": "5fb06577a3db4429b2b16155680b626a",
       "version_major": 2,
       "version_minor": 0
      },
      "text/plain": [
       "Split strings:   0%|          | 0/1 [00:00<?, ?it/s]"
      ]
     },
     "metadata": {},
     "output_type": "display_data"
    },
    {
     "data": {
      "application/vnd.jupyter.widget-view+json": {
       "model_id": "a45980d94ea849b894610863e4035529",
       "version_major": 2,
       "version_minor": 0
      },
      "text/plain": [
       "BM25S Retrieve:   0%|          | 0/1 [00:00<?, ?it/s]"
      ]
     },
     "metadata": {},
     "output_type": "display_data"
    },
    {
     "data": {
      "application/vnd.jupyter.widget-view+json": {
       "model_id": "37439ffa1277474f9a01812a20daf556",
       "version_major": 2,
       "version_minor": 0
      },
      "text/plain": [
       "Fetching 9 files:   0%|          | 0/9 [00:00<?, ?it/s]"
      ]
     },
     "metadata": {},
     "output_type": "display_data"
    },
    {
     "data": {
      "application/vnd.jupyter.widget-view+json": {
       "model_id": "808713a35c244a83acf97426e7785647",
       "version_major": 2,
       "version_minor": 0
      },
      "text/plain": [
       "Split strings:   0%|          | 0/1 [00:00<?, ?it/s]"
      ]
     },
     "metadata": {},
     "output_type": "display_data"
    },
    {
     "data": {
      "application/vnd.jupyter.widget-view+json": {
       "model_id": "6dc87963e0bc433388d43574614eda14",
       "version_major": 2,
       "version_minor": 0
      },
      "text/plain": [
       "BM25S Retrieve:   0%|          | 0/1 [00:00<?, ?it/s]"
      ]
     },
     "metadata": {},
     "output_type": "display_data"
    },
    {
     "data": {
      "application/vnd.jupyter.widget-view+json": {
       "model_id": "0b2e006918504e36a9d38da4ba134183",
       "version_major": 2,
       "version_minor": 0
      },
      "text/plain": [
       "Fetching 9 files:   0%|          | 0/9 [00:00<?, ?it/s]"
      ]
     },
     "metadata": {},
     "output_type": "display_data"
    },
    {
     "data": {
      "application/vnd.jupyter.widget-view+json": {
       "model_id": "757a6f864c2d4136a3e8a05c553831a6",
       "version_major": 2,
       "version_minor": 0
      },
      "text/plain": [
       "Split strings:   0%|          | 0/1 [00:00<?, ?it/s]"
      ]
     },
     "metadata": {},
     "output_type": "display_data"
    },
    {
     "data": {
      "application/vnd.jupyter.widget-view+json": {
       "model_id": "0ad792a64a0242ccb5269cc78f714907",
       "version_major": 2,
       "version_minor": 0
      },
      "text/plain": [
       "BM25S Retrieve:   0%|          | 0/1 [00:00<?, ?it/s]"
      ]
     },
     "metadata": {},
     "output_type": "display_data"
    },
    {
     "data": {
      "application/vnd.jupyter.widget-view+json": {
       "model_id": "73796eaf5fca488a98daed2271997555",
       "version_major": 2,
       "version_minor": 0
      },
      "text/plain": [
       "Fetching 9 files:   0%|          | 0/9 [00:00<?, ?it/s]"
      ]
     },
     "metadata": {},
     "output_type": "display_data"
    },
    {
     "data": {
      "application/vnd.jupyter.widget-view+json": {
       "model_id": "9a5d2743113943dcad61176029194267",
       "version_major": 2,
       "version_minor": 0
      },
      "text/plain": [
       "Split strings:   0%|          | 0/1 [00:00<?, ?it/s]"
      ]
     },
     "metadata": {},
     "output_type": "display_data"
    },
    {
     "data": {
      "application/vnd.jupyter.widget-view+json": {
       "model_id": "574d901f026f481b9b0881779323b692",
       "version_major": 2,
       "version_minor": 0
      },
      "text/plain": [
       "BM25S Retrieve:   0%|          | 0/1 [00:00<?, ?it/s]"
      ]
     },
     "metadata": {},
     "output_type": "display_data"
    },
    {
     "data": {
      "application/vnd.jupyter.widget-view+json": {
       "model_id": "e9569c3556c2462ca95a4586970230cb",
       "version_major": 2,
       "version_minor": 0
      },
      "text/plain": [
       "Fetching 9 files:   0%|          | 0/9 [00:00<?, ?it/s]"
      ]
     },
     "metadata": {},
     "output_type": "display_data"
    },
    {
     "data": {
      "application/vnd.jupyter.widget-view+json": {
       "model_id": "e59cc20ce7c54a7088cdb974373a56a8",
       "version_major": 2,
       "version_minor": 0
      },
      "text/plain": [
       "Split strings:   0%|          | 0/1 [00:00<?, ?it/s]"
      ]
     },
     "metadata": {},
     "output_type": "display_data"
    },
    {
     "data": {
      "application/vnd.jupyter.widget-view+json": {
       "model_id": "6d6e05f7c5ca43cbbe902cbf883edca8",
       "version_major": 2,
       "version_minor": 0
      },
      "text/plain": [
       "BM25S Retrieve:   0%|          | 0/1 [00:00<?, ?it/s]"
      ]
     },
     "metadata": {},
     "output_type": "display_data"
    },
    {
     "data": {
      "application/vnd.jupyter.widget-view+json": {
       "model_id": "777977e7ac7842848b3f215d8889cf30",
       "version_major": 2,
       "version_minor": 0
      },
      "text/plain": [
       "Fetching 9 files:   0%|          | 0/9 [00:00<?, ?it/s]"
      ]
     },
     "metadata": {},
     "output_type": "display_data"
    },
    {
     "data": {
      "application/vnd.jupyter.widget-view+json": {
       "model_id": "f37e530a6c884cd8b3d1bcf16386dcbc",
       "version_major": 2,
       "version_minor": 0
      },
      "text/plain": [
       "Split strings:   0%|          | 0/1 [00:00<?, ?it/s]"
      ]
     },
     "metadata": {},
     "output_type": "display_data"
    },
    {
     "data": {
      "application/vnd.jupyter.widget-view+json": {
       "model_id": "e949bde0a4d549ccacc12ab6ae969fe8",
       "version_major": 2,
       "version_minor": 0
      },
      "text/plain": [
       "BM25S Retrieve:   0%|          | 0/1 [00:00<?, ?it/s]"
      ]
     },
     "metadata": {},
     "output_type": "display_data"
    },
    {
     "data": {
      "application/vnd.jupyter.widget-view+json": {
       "model_id": "b475a9d6ad114d97abecbbc5fbba2186",
       "version_major": 2,
       "version_minor": 0
      },
      "text/plain": [
       "Fetching 9 files:   0%|          | 0/9 [00:00<?, ?it/s]"
      ]
     },
     "metadata": {},
     "output_type": "display_data"
    },
    {
     "data": {
      "application/vnd.jupyter.widget-view+json": {
       "model_id": "bb3332823d174c8eac1df9ac04edb84b",
       "version_major": 2,
       "version_minor": 0
      },
      "text/plain": [
       "Split strings:   0%|          | 0/1 [00:00<?, ?it/s]"
      ]
     },
     "metadata": {},
     "output_type": "display_data"
    },
    {
     "data": {
      "application/vnd.jupyter.widget-view+json": {
       "model_id": "79fdd2bd01a44c189dd64bcb15351ea1",
       "version_major": 2,
       "version_minor": 0
      },
      "text/plain": [
       "BM25S Retrieve:   0%|          | 0/1 [00:00<?, ?it/s]"
      ]
     },
     "metadata": {},
     "output_type": "display_data"
    },
    {
     "data": {
      "application/vnd.jupyter.widget-view+json": {
       "model_id": "8c87ce29d7e1474fbdc19870c72df909",
       "version_major": 2,
       "version_minor": 0
      },
      "text/plain": [
       "Fetching 9 files:   0%|          | 0/9 [00:00<?, ?it/s]"
      ]
     },
     "metadata": {},
     "output_type": "display_data"
    },
    {
     "data": {
      "application/vnd.jupyter.widget-view+json": {
       "model_id": "f12af1761d1d4885b6e6abec7d653001",
       "version_major": 2,
       "version_minor": 0
      },
      "text/plain": [
       "Split strings:   0%|          | 0/1 [00:00<?, ?it/s]"
      ]
     },
     "metadata": {},
     "output_type": "display_data"
    },
    {
     "data": {
      "application/vnd.jupyter.widget-view+json": {
       "model_id": "b743638dbc6845f49793c815c0785600",
       "version_major": 2,
       "version_minor": 0
      },
      "text/plain": [
       "BM25S Retrieve:   0%|          | 0/1 [00:00<?, ?it/s]"
      ]
     },
     "metadata": {},
     "output_type": "display_data"
    },
    {
     "data": {
      "application/vnd.jupyter.widget-view+json": {
       "model_id": "f3507d49c20f4c209ad89eec13d9a66e",
       "version_major": 2,
       "version_minor": 0
      },
      "text/plain": [
       "Fetching 9 files:   0%|          | 0/9 [00:00<?, ?it/s]"
      ]
     },
     "metadata": {},
     "output_type": "display_data"
    },
    {
     "data": {
      "application/vnd.jupyter.widget-view+json": {
       "model_id": "dd2e3992d2844978806f0ac2d073dc00",
       "version_major": 2,
       "version_minor": 0
      },
      "text/plain": [
       "Split strings:   0%|          | 0/1 [00:00<?, ?it/s]"
      ]
     },
     "metadata": {},
     "output_type": "display_data"
    },
    {
     "data": {
      "application/vnd.jupyter.widget-view+json": {
       "model_id": "46faa3a7c16a4bd7a4ca9170882c40b8",
       "version_major": 2,
       "version_minor": 0
      },
      "text/plain": [
       "BM25S Retrieve:   0%|          | 0/1 [00:00<?, ?it/s]"
      ]
     },
     "metadata": {},
     "output_type": "display_data"
    },
    {
     "data": {
      "application/vnd.jupyter.widget-view+json": {
       "model_id": "eeaa21f3751445cbad5da861c66f4e40",
       "version_major": 2,
       "version_minor": 0
      },
      "text/plain": [
       "Fetching 9 files:   0%|          | 0/9 [00:00<?, ?it/s]"
      ]
     },
     "metadata": {},
     "output_type": "display_data"
    },
    {
     "data": {
      "application/vnd.jupyter.widget-view+json": {
       "model_id": "6e279957b5f24052abb0ad9a4ecd9175",
       "version_major": 2,
       "version_minor": 0
      },
      "text/plain": [
       "Split strings:   0%|          | 0/1 [00:00<?, ?it/s]"
      ]
     },
     "metadata": {},
     "output_type": "display_data"
    },
    {
     "data": {
      "application/vnd.jupyter.widget-view+json": {
       "model_id": "5ea2fd2194d441b680122a092d31d28c",
       "version_major": 2,
       "version_minor": 0
      },
      "text/plain": [
       "BM25S Retrieve:   0%|          | 0/1 [00:00<?, ?it/s]"
      ]
     },
     "metadata": {},
     "output_type": "display_data"
    },
    {
     "data": {
      "application/vnd.jupyter.widget-view+json": {
       "model_id": "7f850b40b0de4b158b1d156643fd74a9",
       "version_major": 2,
       "version_minor": 0
      },
      "text/plain": [
       "Fetching 9 files:   0%|          | 0/9 [00:00<?, ?it/s]"
      ]
     },
     "metadata": {},
     "output_type": "display_data"
    },
    {
     "data": {
      "application/vnd.jupyter.widget-view+json": {
       "model_id": "ac8100c31e064a978dc6ff37a25edb50",
       "version_major": 2,
       "version_minor": 0
      },
      "text/plain": [
       "Split strings:   0%|          | 0/1 [00:00<?, ?it/s]"
      ]
     },
     "metadata": {},
     "output_type": "display_data"
    },
    {
     "data": {
      "application/vnd.jupyter.widget-view+json": {
       "model_id": "fcd7400144e84778bc2a1d27e9ee760c",
       "version_major": 2,
       "version_minor": 0
      },
      "text/plain": [
       "BM25S Retrieve:   0%|          | 0/1 [00:00<?, ?it/s]"
      ]
     },
     "metadata": {},
     "output_type": "display_data"
    },
    {
     "data": {
      "application/vnd.jupyter.widget-view+json": {
       "model_id": "861fe221015d4f54a8a2fdfcd07a2141",
       "version_major": 2,
       "version_minor": 0
      },
      "text/plain": [
       "Fetching 9 files:   0%|          | 0/9 [00:00<?, ?it/s]"
      ]
     },
     "metadata": {},
     "output_type": "display_data"
    },
    {
     "data": {
      "application/vnd.jupyter.widget-view+json": {
       "model_id": "14a936a6e744468095177482a48e894c",
       "version_major": 2,
       "version_minor": 0
      },
      "text/plain": [
       "Split strings:   0%|          | 0/1 [00:00<?, ?it/s]"
      ]
     },
     "metadata": {},
     "output_type": "display_data"
    },
    {
     "data": {
      "application/vnd.jupyter.widget-view+json": {
       "model_id": "f9e1071ae9c0407d869dfaab67dac9af",
       "version_major": 2,
       "version_minor": 0
      },
      "text/plain": [
       "BM25S Retrieve:   0%|          | 0/1 [00:00<?, ?it/s]"
      ]
     },
     "metadata": {},
     "output_type": "display_data"
    },
    {
     "data": {
      "application/vnd.jupyter.widget-view+json": {
       "model_id": "eaf790ff2e6d4008986b3788ffd7544b",
       "version_major": 2,
       "version_minor": 0
      },
      "text/plain": [
       "Fetching 9 files:   0%|          | 0/9 [00:00<?, ?it/s]"
      ]
     },
     "metadata": {},
     "output_type": "display_data"
    },
    {
     "data": {
      "application/vnd.jupyter.widget-view+json": {
       "model_id": "3fd47bbc4b5d4e6792555ca87379c58b",
       "version_major": 2,
       "version_minor": 0
      },
      "text/plain": [
       "Split strings:   0%|          | 0/1 [00:00<?, ?it/s]"
      ]
     },
     "metadata": {},
     "output_type": "display_data"
    },
    {
     "data": {
      "application/vnd.jupyter.widget-view+json": {
       "model_id": "9a31eab3cafb41dfa911697bc25b5b36",
       "version_major": 2,
       "version_minor": 0
      },
      "text/plain": [
       "BM25S Retrieve:   0%|          | 0/1 [00:00<?, ?it/s]"
      ]
     },
     "metadata": {},
     "output_type": "display_data"
    },
    {
     "data": {
      "application/vnd.jupyter.widget-view+json": {
       "model_id": "b27ac8975054410b89a7d4c664d084fc",
       "version_major": 2,
       "version_minor": 0
      },
      "text/plain": [
       "Fetching 9 files:   0%|          | 0/9 [00:00<?, ?it/s]"
      ]
     },
     "metadata": {},
     "output_type": "display_data"
    },
    {
     "data": {
      "application/vnd.jupyter.widget-view+json": {
       "model_id": "dd1a27c78fb24fe0aac8a446e4d76774",
       "version_major": 2,
       "version_minor": 0
      },
      "text/plain": [
       "Split strings:   0%|          | 0/1 [00:00<?, ?it/s]"
      ]
     },
     "metadata": {},
     "output_type": "display_data"
    },
    {
     "data": {
      "application/vnd.jupyter.widget-view+json": {
       "model_id": "7aba481ba59c4df4ab681c36d0d3fdb2",
       "version_major": 2,
       "version_minor": 0
      },
      "text/plain": [
       "BM25S Retrieve:   0%|          | 0/1 [00:00<?, ?it/s]"
      ]
     },
     "metadata": {},
     "output_type": "display_data"
    },
    {
     "data": {
      "application/vnd.jupyter.widget-view+json": {
       "model_id": "7d84e184ce2f4fb0910faa1be582add5",
       "version_major": 2,
       "version_minor": 0
      },
      "text/plain": [
       "Fetching 9 files:   0%|          | 0/9 [00:00<?, ?it/s]"
      ]
     },
     "metadata": {},
     "output_type": "display_data"
    },
    {
     "data": {
      "application/vnd.jupyter.widget-view+json": {
       "model_id": "8bf95d0871254f749b123cf46b68b2d9",
       "version_major": 2,
       "version_minor": 0
      },
      "text/plain": [
       "Split strings:   0%|          | 0/1 [00:00<?, ?it/s]"
      ]
     },
     "metadata": {},
     "output_type": "display_data"
    },
    {
     "data": {
      "application/vnd.jupyter.widget-view+json": {
       "model_id": "090858ae93f244399a55136b81c9a93f",
       "version_major": 2,
       "version_minor": 0
      },
      "text/plain": [
       "BM25S Retrieve:   0%|          | 0/1 [00:00<?, ?it/s]"
      ]
     },
     "metadata": {},
     "output_type": "display_data"
    },
    {
     "data": {
      "application/vnd.jupyter.widget-view+json": {
       "model_id": "e32db7ba259b4e20948fd69de8b7c26e",
       "version_major": 2,
       "version_minor": 0
      },
      "text/plain": [
       "Fetching 9 files:   0%|          | 0/9 [00:00<?, ?it/s]"
      ]
     },
     "metadata": {},
     "output_type": "display_data"
    },
    {
     "data": {
      "application/vnd.jupyter.widget-view+json": {
       "model_id": "fd13eef4dec44898b4dcff8b56d6a7d9",
       "version_major": 2,
       "version_minor": 0
      },
      "text/plain": [
       "Split strings:   0%|          | 0/1 [00:00<?, ?it/s]"
      ]
     },
     "metadata": {},
     "output_type": "display_data"
    },
    {
     "data": {
      "application/vnd.jupyter.widget-view+json": {
       "model_id": "39ce020028934385aca1c4b78b065b4a",
       "version_major": 2,
       "version_minor": 0
      },
      "text/plain": [
       "BM25S Retrieve:   0%|          | 0/1 [00:00<?, ?it/s]"
      ]
     },
     "metadata": {},
     "output_type": "display_data"
    },
    {
     "data": {
      "application/vnd.jupyter.widget-view+json": {
       "model_id": "bf65301b00a04ac8bfb8f47a4b4e7a07",
       "version_major": 2,
       "version_minor": 0
      },
      "text/plain": [
       "Fetching 9 files:   0%|          | 0/9 [00:00<?, ?it/s]"
      ]
     },
     "metadata": {},
     "output_type": "display_data"
    },
    {
     "data": {
      "application/vnd.jupyter.widget-view+json": {
       "model_id": "ca060298d6cb43e9b706eaed128fe997",
       "version_major": 2,
       "version_minor": 0
      },
      "text/plain": [
       "Split strings:   0%|          | 0/1 [00:00<?, ?it/s]"
      ]
     },
     "metadata": {},
     "output_type": "display_data"
    },
    {
     "data": {
      "application/vnd.jupyter.widget-view+json": {
       "model_id": "c58a011af5eb4948930f0409b398a624",
       "version_major": 2,
       "version_minor": 0
      },
      "text/plain": [
       "BM25S Retrieve:   0%|          | 0/1 [00:00<?, ?it/s]"
      ]
     },
     "metadata": {},
     "output_type": "display_data"
    },
    {
     "data": {
      "application/vnd.jupyter.widget-view+json": {
       "model_id": "de099e38fb054e1b887de9f359a1385e",
       "version_major": 2,
       "version_minor": 0
      },
      "text/plain": [
       "Fetching 9 files:   0%|          | 0/9 [00:00<?, ?it/s]"
      ]
     },
     "metadata": {},
     "output_type": "display_data"
    },
    {
     "data": {
      "application/vnd.jupyter.widget-view+json": {
       "model_id": "e00201ff03954e4e848f7b9b4c0658b5",
       "version_major": 2,
       "version_minor": 0
      },
      "text/plain": [
       "Split strings:   0%|          | 0/1 [00:00<?, ?it/s]"
      ]
     },
     "metadata": {},
     "output_type": "display_data"
    },
    {
     "data": {
      "application/vnd.jupyter.widget-view+json": {
       "model_id": "d4a37f84765c4775915a17ecb23533c0",
       "version_major": 2,
       "version_minor": 0
      },
      "text/plain": [
       "BM25S Retrieve:   0%|          | 0/1 [00:00<?, ?it/s]"
      ]
     },
     "metadata": {},
     "output_type": "display_data"
    },
    {
     "data": {
      "application/vnd.jupyter.widget-view+json": {
       "model_id": "4d362256c9d446cd86a6cd69d68bafba",
       "version_major": 2,
       "version_minor": 0
      },
      "text/plain": [
       "Fetching 9 files:   0%|          | 0/9 [00:00<?, ?it/s]"
      ]
     },
     "metadata": {},
     "output_type": "display_data"
    },
    {
     "data": {
      "application/vnd.jupyter.widget-view+json": {
       "model_id": "d2d01eb4222a4b0b9a4990e2d661eedf",
       "version_major": 2,
       "version_minor": 0
      },
      "text/plain": [
       "Split strings:   0%|          | 0/1 [00:00<?, ?it/s]"
      ]
     },
     "metadata": {},
     "output_type": "display_data"
    },
    {
     "data": {
      "application/vnd.jupyter.widget-view+json": {
       "model_id": "85fab8bd6f0a4b11bd84d3a7ff64a1e9",
       "version_major": 2,
       "version_minor": 0
      },
      "text/plain": [
       "BM25S Retrieve:   0%|          | 0/1 [00:00<?, ?it/s]"
      ]
     },
     "metadata": {},
     "output_type": "display_data"
    },
    {
     "data": {
      "application/vnd.jupyter.widget-view+json": {
       "model_id": "507377df12574984824c30a6cdae626c",
       "version_major": 2,
       "version_minor": 0
      },
      "text/plain": [
       "Fetching 9 files:   0%|          | 0/9 [00:00<?, ?it/s]"
      ]
     },
     "metadata": {},
     "output_type": "display_data"
    },
    {
     "data": {
      "application/vnd.jupyter.widget-view+json": {
       "model_id": "8679d083c8e84001b962599ef9f4246c",
       "version_major": 2,
       "version_minor": 0
      },
      "text/plain": [
       "Split strings:   0%|          | 0/1 [00:00<?, ?it/s]"
      ]
     },
     "metadata": {},
     "output_type": "display_data"
    },
    {
     "data": {
      "application/vnd.jupyter.widget-view+json": {
       "model_id": "c6c9b4a53e3a418f9680781270a6d48f",
       "version_major": 2,
       "version_minor": 0
      },
      "text/plain": [
       "BM25S Retrieve:   0%|          | 0/1 [00:00<?, ?it/s]"
      ]
     },
     "metadata": {},
     "output_type": "display_data"
    },
    {
     "data": {
      "application/vnd.jupyter.widget-view+json": {
       "model_id": "7cea82d9ef6b4543bb51ec994d97b6f7",
       "version_major": 2,
       "version_minor": 0
      },
      "text/plain": [
       "Fetching 9 files:   0%|          | 0/9 [00:00<?, ?it/s]"
      ]
     },
     "metadata": {},
     "output_type": "display_data"
    },
    {
     "data": {
      "application/vnd.jupyter.widget-view+json": {
       "model_id": "62e534900c5d45a2bca1a1acb4f7c018",
       "version_major": 2,
       "version_minor": 0
      },
      "text/plain": [
       "Split strings:   0%|          | 0/1 [00:00<?, ?it/s]"
      ]
     },
     "metadata": {},
     "output_type": "display_data"
    },
    {
     "data": {
      "application/vnd.jupyter.widget-view+json": {
       "model_id": "35be6aed92b946bdbd77be60d4e1d018",
       "version_major": 2,
       "version_minor": 0
      },
      "text/plain": [
       "BM25S Retrieve:   0%|          | 0/1 [00:00<?, ?it/s]"
      ]
     },
     "metadata": {},
     "output_type": "display_data"
    },
    {
     "data": {
      "application/vnd.jupyter.widget-view+json": {
       "model_id": "ee56e4a645884314b198a437f85fe122",
       "version_major": 2,
       "version_minor": 0
      },
      "text/plain": [
       "Fetching 9 files:   0%|          | 0/9 [00:00<?, ?it/s]"
      ]
     },
     "metadata": {},
     "output_type": "display_data"
    },
    {
     "data": {
      "application/vnd.jupyter.widget-view+json": {
       "model_id": "0451f3d90ba14826a343f23fea13dc90",
       "version_major": 2,
       "version_minor": 0
      },
      "text/plain": [
       "Split strings:   0%|          | 0/1 [00:00<?, ?it/s]"
      ]
     },
     "metadata": {},
     "output_type": "display_data"
    },
    {
     "data": {
      "application/vnd.jupyter.widget-view+json": {
       "model_id": "609bba30e2b640ea85ff1262c81d8f03",
       "version_major": 2,
       "version_minor": 0
      },
      "text/plain": [
       "BM25S Retrieve:   0%|          | 0/1 [00:00<?, ?it/s]"
      ]
     },
     "metadata": {},
     "output_type": "display_data"
    },
    {
     "data": {
      "application/vnd.jupyter.widget-view+json": {
       "model_id": "4d6ad577725143ca9b88f719444e9a5a",
       "version_major": 2,
       "version_minor": 0
      },
      "text/plain": [
       "Fetching 9 files:   0%|          | 0/9 [00:00<?, ?it/s]"
      ]
     },
     "metadata": {},
     "output_type": "display_data"
    },
    {
     "data": {
      "application/vnd.jupyter.widget-view+json": {
       "model_id": "419ad3f13df845748612bd20661715f8",
       "version_major": 2,
       "version_minor": 0
      },
      "text/plain": [
       "Split strings:   0%|          | 0/1 [00:00<?, ?it/s]"
      ]
     },
     "metadata": {},
     "output_type": "display_data"
    },
    {
     "data": {
      "application/vnd.jupyter.widget-view+json": {
       "model_id": "0b2822acab914766a473f50e2ffb9872",
       "version_major": 2,
       "version_minor": 0
      },
      "text/plain": [
       "BM25S Retrieve:   0%|          | 0/1 [00:00<?, ?it/s]"
      ]
     },
     "metadata": {},
     "output_type": "display_data"
    },
    {
     "data": {
      "application/vnd.jupyter.widget-view+json": {
       "model_id": "888a4fa4756540e98c0d60c36db65cf6",
       "version_major": 2,
       "version_minor": 0
      },
      "text/plain": [
       "Fetching 9 files:   0%|          | 0/9 [00:00<?, ?it/s]"
      ]
     },
     "metadata": {},
     "output_type": "display_data"
    },
    {
     "data": {
      "application/vnd.jupyter.widget-view+json": {
       "model_id": "d9fad3179a2349db8bcc09c30acdf266",
       "version_major": 2,
       "version_minor": 0
      },
      "text/plain": [
       "Split strings:   0%|          | 0/1 [00:00<?, ?it/s]"
      ]
     },
     "metadata": {},
     "output_type": "display_data"
    },
    {
     "data": {
      "application/vnd.jupyter.widget-view+json": {
       "model_id": "7bd565033e5c48219730c82ffffe8ffe",
       "version_major": 2,
       "version_minor": 0
      },
      "text/plain": [
       "BM25S Retrieve:   0%|          | 0/1 [00:00<?, ?it/s]"
      ]
     },
     "metadata": {},
     "output_type": "display_data"
    },
    {
     "data": {
      "application/vnd.jupyter.widget-view+json": {
       "model_id": "4ee3e1a5db60401d8a8f8a498858c4b5",
       "version_major": 2,
       "version_minor": 0
      },
      "text/plain": [
       "Fetching 9 files:   0%|          | 0/9 [00:00<?, ?it/s]"
      ]
     },
     "metadata": {},
     "output_type": "display_data"
    },
    {
     "data": {
      "application/vnd.jupyter.widget-view+json": {
       "model_id": "54f03a9e7ae94491878e2d1d2bd11dd1",
       "version_major": 2,
       "version_minor": 0
      },
      "text/plain": [
       "Split strings:   0%|          | 0/1 [00:00<?, ?it/s]"
      ]
     },
     "metadata": {},
     "output_type": "display_data"
    },
    {
     "data": {
      "application/vnd.jupyter.widget-view+json": {
       "model_id": "8292b8b65f9747048c10412ab3cb8bf2",
       "version_major": 2,
       "version_minor": 0
      },
      "text/plain": [
       "BM25S Retrieve:   0%|          | 0/1 [00:00<?, ?it/s]"
      ]
     },
     "metadata": {},
     "output_type": "display_data"
    },
    {
     "data": {
      "application/vnd.jupyter.widget-view+json": {
       "model_id": "710a7f047f6240549368ce2fc256f18c",
       "version_major": 2,
       "version_minor": 0
      },
      "text/plain": [
       "Fetching 9 files:   0%|          | 0/9 [00:00<?, ?it/s]"
      ]
     },
     "metadata": {},
     "output_type": "display_data"
    },
    {
     "data": {
      "application/vnd.jupyter.widget-view+json": {
       "model_id": "a08252efa0a244f1820cc9c3a3ec9baa",
       "version_major": 2,
       "version_minor": 0
      },
      "text/plain": [
       "Split strings:   0%|          | 0/1 [00:00<?, ?it/s]"
      ]
     },
     "metadata": {},
     "output_type": "display_data"
    },
    {
     "data": {
      "application/vnd.jupyter.widget-view+json": {
       "model_id": "f9a673c4a9434da78dcf6506c3aa9db6",
       "version_major": 2,
       "version_minor": 0
      },
      "text/plain": [
       "BM25S Retrieve:   0%|          | 0/1 [00:00<?, ?it/s]"
      ]
     },
     "metadata": {},
     "output_type": "display_data"
    },
    {
     "data": {
      "application/vnd.jupyter.widget-view+json": {
       "model_id": "6e655d11b11e4458a528c07365f9a951",
       "version_major": 2,
       "version_minor": 0
      },
      "text/plain": [
       "Fetching 9 files:   0%|          | 0/9 [00:00<?, ?it/s]"
      ]
     },
     "metadata": {},
     "output_type": "display_data"
    },
    {
     "data": {
      "application/vnd.jupyter.widget-view+json": {
       "model_id": "a059a621f256479fb98cdd485fa59864",
       "version_major": 2,
       "version_minor": 0
      },
      "text/plain": [
       "Split strings:   0%|          | 0/1 [00:00<?, ?it/s]"
      ]
     },
     "metadata": {},
     "output_type": "display_data"
    },
    {
     "data": {
      "application/vnd.jupyter.widget-view+json": {
       "model_id": "f49915fb05504b0dbbf471041d54584c",
       "version_major": 2,
       "version_minor": 0
      },
      "text/plain": [
       "BM25S Retrieve:   0%|          | 0/1 [00:00<?, ?it/s]"
      ]
     },
     "metadata": {},
     "output_type": "display_data"
    },
    {
     "data": {
      "application/vnd.jupyter.widget-view+json": {
       "model_id": "1f1f900323324812aa54d116d79c44a5",
       "version_major": 2,
       "version_minor": 0
      },
      "text/plain": [
       "Fetching 9 files:   0%|          | 0/9 [00:00<?, ?it/s]"
      ]
     },
     "metadata": {},
     "output_type": "display_data"
    },
    {
     "data": {
      "application/vnd.jupyter.widget-view+json": {
       "model_id": "64f51acb0a2c4421a8189226ec4a3b34",
       "version_major": 2,
       "version_minor": 0
      },
      "text/plain": [
       "Split strings:   0%|          | 0/1 [00:00<?, ?it/s]"
      ]
     },
     "metadata": {},
     "output_type": "display_data"
    },
    {
     "data": {
      "application/vnd.jupyter.widget-view+json": {
       "model_id": "2bbce04f0d904733af34bf3869a15ee4",
       "version_major": 2,
       "version_minor": 0
      },
      "text/plain": [
       "BM25S Retrieve:   0%|          | 0/1 [00:00<?, ?it/s]"
      ]
     },
     "metadata": {},
     "output_type": "display_data"
    },
    {
     "data": {
      "application/vnd.jupyter.widget-view+json": {
       "model_id": "5e7d85587cb34216a52b14edc01ae9db",
       "version_major": 2,
       "version_minor": 0
      },
      "text/plain": [
       "Fetching 9 files:   0%|          | 0/9 [00:00<?, ?it/s]"
      ]
     },
     "metadata": {},
     "output_type": "display_data"
    },
    {
     "data": {
      "application/vnd.jupyter.widget-view+json": {
       "model_id": "edfb2df1462446a89ec3ec561668608b",
       "version_major": 2,
       "version_minor": 0
      },
      "text/plain": [
       "Split strings:   0%|          | 0/1 [00:00<?, ?it/s]"
      ]
     },
     "metadata": {},
     "output_type": "display_data"
    },
    {
     "data": {
      "application/vnd.jupyter.widget-view+json": {
       "model_id": "527be50a45ea4228a044947bfa3497da",
       "version_major": 2,
       "version_minor": 0
      },
      "text/plain": [
       "BM25S Retrieve:   0%|          | 0/1 [00:00<?, ?it/s]"
      ]
     },
     "metadata": {},
     "output_type": "display_data"
    },
    {
     "data": {
      "application/vnd.jupyter.widget-view+json": {
       "model_id": "6d333ec7d8db474f9454df53f9749198",
       "version_major": 2,
       "version_minor": 0
      },
      "text/plain": [
       "Fetching 9 files:   0%|          | 0/9 [00:00<?, ?it/s]"
      ]
     },
     "metadata": {},
     "output_type": "display_data"
    },
    {
     "data": {
      "application/vnd.jupyter.widget-view+json": {
       "model_id": "6dee39d36a7f436cb2c6d04a7960489a",
       "version_major": 2,
       "version_minor": 0
      },
      "text/plain": [
       "Split strings:   0%|          | 0/1 [00:00<?, ?it/s]"
      ]
     },
     "metadata": {},
     "output_type": "display_data"
    },
    {
     "data": {
      "application/vnd.jupyter.widget-view+json": {
       "model_id": "078059cf7f804e66bbc8467fd0feb314",
       "version_major": 2,
       "version_minor": 0
      },
      "text/plain": [
       "BM25S Retrieve:   0%|          | 0/1 [00:00<?, ?it/s]"
      ]
     },
     "metadata": {},
     "output_type": "display_data"
    },
    {
     "data": {
      "application/vnd.jupyter.widget-view+json": {
       "model_id": "61a3141ed43f44739b4e733ec61d0b8a",
       "version_major": 2,
       "version_minor": 0
      },
      "text/plain": [
       "Fetching 9 files:   0%|          | 0/9 [00:00<?, ?it/s]"
      ]
     },
     "metadata": {},
     "output_type": "display_data"
    },
    {
     "data": {
      "application/vnd.jupyter.widget-view+json": {
       "model_id": "138d543049114d78a6122bb53b5aaf3d",
       "version_major": 2,
       "version_minor": 0
      },
      "text/plain": [
       "Split strings:   0%|          | 0/1 [00:00<?, ?it/s]"
      ]
     },
     "metadata": {},
     "output_type": "display_data"
    },
    {
     "data": {
      "application/vnd.jupyter.widget-view+json": {
       "model_id": "53a079775b6f40e292c1f67b1ed99628",
       "version_major": 2,
       "version_minor": 0
      },
      "text/plain": [
       "BM25S Retrieve:   0%|          | 0/1 [00:00<?, ?it/s]"
      ]
     },
     "metadata": {},
     "output_type": "display_data"
    },
    {
     "data": {
      "application/vnd.jupyter.widget-view+json": {
       "model_id": "6fbd5e763fd14e269db9178a835bd133",
       "version_major": 2,
       "version_minor": 0
      },
      "text/plain": [
       "Fetching 9 files:   0%|          | 0/9 [00:00<?, ?it/s]"
      ]
     },
     "metadata": {},
     "output_type": "display_data"
    },
    {
     "data": {
      "application/vnd.jupyter.widget-view+json": {
       "model_id": "678afd925ef14028b46ebc296b38597e",
       "version_major": 2,
       "version_minor": 0
      },
      "text/plain": [
       "Split strings:   0%|          | 0/1 [00:00<?, ?it/s]"
      ]
     },
     "metadata": {},
     "output_type": "display_data"
    },
    {
     "data": {
      "application/vnd.jupyter.widget-view+json": {
       "model_id": "d2585d0352f84130ad58ef84ec9f2e18",
       "version_major": 2,
       "version_minor": 0
      },
      "text/plain": [
       "BM25S Retrieve:   0%|          | 0/1 [00:00<?, ?it/s]"
      ]
     },
     "metadata": {},
     "output_type": "display_data"
    },
    {
     "data": {
      "application/vnd.jupyter.widget-view+json": {
       "model_id": "fb67b34fffd94307a0e51f96ab634dfd",
       "version_major": 2,
       "version_minor": 0
      },
      "text/plain": [
       "Fetching 9 files:   0%|          | 0/9 [00:00<?, ?it/s]"
      ]
     },
     "metadata": {},
     "output_type": "display_data"
    },
    {
     "data": {
      "application/vnd.jupyter.widget-view+json": {
       "model_id": "b0a0efd664de4772b83dee22ec3cdd64",
       "version_major": 2,
       "version_minor": 0
      },
      "text/plain": [
       "Split strings:   0%|          | 0/1 [00:00<?, ?it/s]"
      ]
     },
     "metadata": {},
     "output_type": "display_data"
    },
    {
     "data": {
      "application/vnd.jupyter.widget-view+json": {
       "model_id": "ec13d69315d44a85973e293eb8e44a34",
       "version_major": 2,
       "version_minor": 0
      },
      "text/plain": [
       "BM25S Retrieve:   0%|          | 0/1 [00:00<?, ?it/s]"
      ]
     },
     "metadata": {},
     "output_type": "display_data"
    },
    {
     "data": {
      "application/vnd.jupyter.widget-view+json": {
       "model_id": "a5275c6ef5a54d3a83ded60f7a96ae61",
       "version_major": 2,
       "version_minor": 0
      },
      "text/plain": [
       "Fetching 9 files:   0%|          | 0/9 [00:00<?, ?it/s]"
      ]
     },
     "metadata": {},
     "output_type": "display_data"
    },
    {
     "data": {
      "application/vnd.jupyter.widget-view+json": {
       "model_id": "908072a783834acfa5695dccfb00ca82",
       "version_major": 2,
       "version_minor": 0
      },
      "text/plain": [
       "Split strings:   0%|          | 0/1 [00:00<?, ?it/s]"
      ]
     },
     "metadata": {},
     "output_type": "display_data"
    },
    {
     "data": {
      "application/vnd.jupyter.widget-view+json": {
       "model_id": "50e58b54fcd449108618a403276f26bc",
       "version_major": 2,
       "version_minor": 0
      },
      "text/plain": [
       "BM25S Retrieve:   0%|          | 0/1 [00:00<?, ?it/s]"
      ]
     },
     "metadata": {},
     "output_type": "display_data"
    },
    {
     "data": {
      "application/vnd.jupyter.widget-view+json": {
       "model_id": "e157a3a9c99740feac5d04cc0baf6756",
       "version_major": 2,
       "version_minor": 0
      },
      "text/plain": [
       "Fetching 9 files:   0%|          | 0/9 [00:00<?, ?it/s]"
      ]
     },
     "metadata": {},
     "output_type": "display_data"
    },
    {
     "data": {
      "application/vnd.jupyter.widget-view+json": {
       "model_id": "c97ebf93d7534bc79409f1b84034d01c",
       "version_major": 2,
       "version_minor": 0
      },
      "text/plain": [
       "Split strings:   0%|          | 0/1 [00:00<?, ?it/s]"
      ]
     },
     "metadata": {},
     "output_type": "display_data"
    },
    {
     "data": {
      "application/vnd.jupyter.widget-view+json": {
       "model_id": "899ef52eeb844c798de63ed6d41c6860",
       "version_major": 2,
       "version_minor": 0
      },
      "text/plain": [
       "BM25S Retrieve:   0%|          | 0/1 [00:00<?, ?it/s]"
      ]
     },
     "metadata": {},
     "output_type": "display_data"
    },
    {
     "data": {
      "application/vnd.jupyter.widget-view+json": {
       "model_id": "4a5e7561256a4687828c23bf06541507",
       "version_major": 2,
       "version_minor": 0
      },
      "text/plain": [
       "Fetching 9 files:   0%|          | 0/9 [00:00<?, ?it/s]"
      ]
     },
     "metadata": {},
     "output_type": "display_data"
    },
    {
     "data": {
      "application/vnd.jupyter.widget-view+json": {
       "model_id": "841dc44f95e64ef4976abde7181ba41f",
       "version_major": 2,
       "version_minor": 0
      },
      "text/plain": [
       "Split strings:   0%|          | 0/1 [00:00<?, ?it/s]"
      ]
     },
     "metadata": {},
     "output_type": "display_data"
    },
    {
     "data": {
      "application/vnd.jupyter.widget-view+json": {
       "model_id": "fd3a6ba596194c0e8b78fda587c811f6",
       "version_major": 2,
       "version_minor": 0
      },
      "text/plain": [
       "BM25S Retrieve:   0%|          | 0/1 [00:00<?, ?it/s]"
      ]
     },
     "metadata": {},
     "output_type": "display_data"
    },
    {
     "data": {
      "application/vnd.jupyter.widget-view+json": {
       "model_id": "489c25d6e6664e2c8ff16721bd63d97d",
       "version_major": 2,
       "version_minor": 0
      },
      "text/plain": [
       "Fetching 9 files:   0%|          | 0/9 [00:00<?, ?it/s]"
      ]
     },
     "metadata": {},
     "output_type": "display_data"
    },
    {
     "data": {
      "application/vnd.jupyter.widget-view+json": {
       "model_id": "c9c35e44f2244ec5b51344bd7c29988d",
       "version_major": 2,
       "version_minor": 0
      },
      "text/plain": [
       "Split strings:   0%|          | 0/1 [00:00<?, ?it/s]"
      ]
     },
     "metadata": {},
     "output_type": "display_data"
    },
    {
     "data": {
      "application/vnd.jupyter.widget-view+json": {
       "model_id": "07fc8afa66724d59be9ee1bb6bde7c32",
       "version_major": 2,
       "version_minor": 0
      },
      "text/plain": [
       "BM25S Retrieve:   0%|          | 0/1 [00:00<?, ?it/s]"
      ]
     },
     "metadata": {},
     "output_type": "display_data"
    },
    {
     "data": {
      "application/vnd.jupyter.widget-view+json": {
       "model_id": "50336785ff3542c781972f18dd1c6f57",
       "version_major": 2,
       "version_minor": 0
      },
      "text/plain": [
       "Fetching 9 files:   0%|          | 0/9 [00:00<?, ?it/s]"
      ]
     },
     "metadata": {},
     "output_type": "display_data"
    },
    {
     "data": {
      "application/vnd.jupyter.widget-view+json": {
       "model_id": "4bc8c5c1885a414cb259706c93b31bb6",
       "version_major": 2,
       "version_minor": 0
      },
      "text/plain": [
       "Split strings:   0%|          | 0/1 [00:00<?, ?it/s]"
      ]
     },
     "metadata": {},
     "output_type": "display_data"
    },
    {
     "data": {
      "application/vnd.jupyter.widget-view+json": {
       "model_id": "d06043cb3b2f4fe596b968b2e13b1b86",
       "version_major": 2,
       "version_minor": 0
      },
      "text/plain": [
       "BM25S Retrieve:   0%|          | 0/1 [00:00<?, ?it/s]"
      ]
     },
     "metadata": {},
     "output_type": "display_data"
    },
    {
     "data": {
      "application/vnd.jupyter.widget-view+json": {
       "model_id": "8784ae709e3c4460b8ab11cb5d022500",
       "version_major": 2,
       "version_minor": 0
      },
      "text/plain": [
       "Fetching 9 files:   0%|          | 0/9 [00:00<?, ?it/s]"
      ]
     },
     "metadata": {},
     "output_type": "display_data"
    },
    {
     "data": {
      "application/vnd.jupyter.widget-view+json": {
       "model_id": "2de566fd145e4242883de53264da6d0d",
       "version_major": 2,
       "version_minor": 0
      },
      "text/plain": [
       "Split strings:   0%|          | 0/1 [00:00<?, ?it/s]"
      ]
     },
     "metadata": {},
     "output_type": "display_data"
    },
    {
     "data": {
      "application/vnd.jupyter.widget-view+json": {
       "model_id": "92b990b0602645c7baf67c0fbc152af1",
       "version_major": 2,
       "version_minor": 0
      },
      "text/plain": [
       "BM25S Retrieve:   0%|          | 0/1 [00:00<?, ?it/s]"
      ]
     },
     "metadata": {},
     "output_type": "display_data"
    },
    {
     "data": {
      "application/vnd.jupyter.widget-view+json": {
       "model_id": "bd1146b5a27540edb04b15b6209a564d",
       "version_major": 2,
       "version_minor": 0
      },
      "text/plain": [
       "Fetching 9 files:   0%|          | 0/9 [00:00<?, ?it/s]"
      ]
     },
     "metadata": {},
     "output_type": "display_data"
    },
    {
     "data": {
      "application/vnd.jupyter.widget-view+json": {
       "model_id": "68ef0166cfea42dd8bb1c421b6b342ad",
       "version_major": 2,
       "version_minor": 0
      },
      "text/plain": [
       "Split strings:   0%|          | 0/1 [00:00<?, ?it/s]"
      ]
     },
     "metadata": {},
     "output_type": "display_data"
    },
    {
     "data": {
      "application/vnd.jupyter.widget-view+json": {
       "model_id": "e11e2d799c5643369fea75e1e1327a18",
       "version_major": 2,
       "version_minor": 0
      },
      "text/plain": [
       "BM25S Retrieve:   0%|          | 0/1 [00:00<?, ?it/s]"
      ]
     },
     "metadata": {},
     "output_type": "display_data"
    },
    {
     "data": {
      "application/vnd.jupyter.widget-view+json": {
       "model_id": "c7a062a7b5e44387a03478597c27bbae",
       "version_major": 2,
       "version_minor": 0
      },
      "text/plain": [
       "Fetching 9 files:   0%|          | 0/9 [00:00<?, ?it/s]"
      ]
     },
     "metadata": {},
     "output_type": "display_data"
    },
    {
     "data": {
      "application/vnd.jupyter.widget-view+json": {
       "model_id": "6438e3d704b64275b1f712d91b5a32a3",
       "version_major": 2,
       "version_minor": 0
      },
      "text/plain": [
       "Split strings:   0%|          | 0/1 [00:00<?, ?it/s]"
      ]
     },
     "metadata": {},
     "output_type": "display_data"
    },
    {
     "data": {
      "application/vnd.jupyter.widget-view+json": {
       "model_id": "8896b5c536344444bd249b90dfbfcce9",
       "version_major": 2,
       "version_minor": 0
      },
      "text/plain": [
       "BM25S Retrieve:   0%|          | 0/1 [00:00<?, ?it/s]"
      ]
     },
     "metadata": {},
     "output_type": "display_data"
    },
    {
     "data": {
      "application/vnd.jupyter.widget-view+json": {
       "model_id": "1518fd22ff08445e8f1768708f7c2920",
       "version_major": 2,
       "version_minor": 0
      },
      "text/plain": [
       "Fetching 9 files:   0%|          | 0/9 [00:00<?, ?it/s]"
      ]
     },
     "metadata": {},
     "output_type": "display_data"
    },
    {
     "data": {
      "application/vnd.jupyter.widget-view+json": {
       "model_id": "320d1421bb1b4e659acc15af23a8b809",
       "version_major": 2,
       "version_minor": 0
      },
      "text/plain": [
       "Split strings:   0%|          | 0/1 [00:00<?, ?it/s]"
      ]
     },
     "metadata": {},
     "output_type": "display_data"
    },
    {
     "data": {
      "application/vnd.jupyter.widget-view+json": {
       "model_id": "c5c245f3ac28495eb0a8878a55b660be",
       "version_major": 2,
       "version_minor": 0
      },
      "text/plain": [
       "BM25S Retrieve:   0%|          | 0/1 [00:00<?, ?it/s]"
      ]
     },
     "metadata": {},
     "output_type": "display_data"
    },
    {
     "data": {
      "application/vnd.jupyter.widget-view+json": {
       "model_id": "13ac7290bca244939605e54566514abf",
       "version_major": 2,
       "version_minor": 0
      },
      "text/plain": [
       "Fetching 9 files:   0%|          | 0/9 [00:00<?, ?it/s]"
      ]
     },
     "metadata": {},
     "output_type": "display_data"
    },
    {
     "data": {
      "application/vnd.jupyter.widget-view+json": {
       "model_id": "0f045ebfd6fa480983f20de2d1271458",
       "version_major": 2,
       "version_minor": 0
      },
      "text/plain": [
       "Split strings:   0%|          | 0/1 [00:00<?, ?it/s]"
      ]
     },
     "metadata": {},
     "output_type": "display_data"
    },
    {
     "data": {
      "application/vnd.jupyter.widget-view+json": {
       "model_id": "c7ce08b02d574269b9a3a1d9f3e8b4bc",
       "version_major": 2,
       "version_minor": 0
      },
      "text/plain": [
       "BM25S Retrieve:   0%|          | 0/1 [00:00<?, ?it/s]"
      ]
     },
     "metadata": {},
     "output_type": "display_data"
    },
    {
     "data": {
      "application/vnd.jupyter.widget-view+json": {
       "model_id": "fa75bbb447b34b3583656d0aa792a0b4",
       "version_major": 2,
       "version_minor": 0
      },
      "text/plain": [
       "Fetching 9 files:   0%|          | 0/9 [00:00<?, ?it/s]"
      ]
     },
     "metadata": {},
     "output_type": "display_data"
    },
    {
     "data": {
      "application/vnd.jupyter.widget-view+json": {
       "model_id": "387b2f7c0e0b4f72976262f72dfc02c5",
       "version_major": 2,
       "version_minor": 0
      },
      "text/plain": [
       "Split strings:   0%|          | 0/1 [00:00<?, ?it/s]"
      ]
     },
     "metadata": {},
     "output_type": "display_data"
    },
    {
     "data": {
      "application/vnd.jupyter.widget-view+json": {
       "model_id": "88efdaef87c244d5bf692cfadc05a437",
       "version_major": 2,
       "version_minor": 0
      },
      "text/plain": [
       "BM25S Retrieve:   0%|          | 0/1 [00:00<?, ?it/s]"
      ]
     },
     "metadata": {},
     "output_type": "display_data"
    },
    {
     "data": {
      "application/vnd.jupyter.widget-view+json": {
       "model_id": "9c50ca57b9f44e29a4b125685983f89e",
       "version_major": 2,
       "version_minor": 0
      },
      "text/plain": [
       "Fetching 9 files:   0%|          | 0/9 [00:00<?, ?it/s]"
      ]
     },
     "metadata": {},
     "output_type": "display_data"
    },
    {
     "data": {
      "application/vnd.jupyter.widget-view+json": {
       "model_id": "fae851c1a6954f6a90887a516089f4f3",
       "version_major": 2,
       "version_minor": 0
      },
      "text/plain": [
       "Split strings:   0%|          | 0/1 [00:00<?, ?it/s]"
      ]
     },
     "metadata": {},
     "output_type": "display_data"
    },
    {
     "data": {
      "application/vnd.jupyter.widget-view+json": {
       "model_id": "1319c15a7d1a4525a2457992c02abba9",
       "version_major": 2,
       "version_minor": 0
      },
      "text/plain": [
       "BM25S Retrieve:   0%|          | 0/1 [00:00<?, ?it/s]"
      ]
     },
     "metadata": {},
     "output_type": "display_data"
    },
    {
     "data": {
      "application/vnd.jupyter.widget-view+json": {
       "model_id": "79b5e175817848808e8eaba833c83e3f",
       "version_major": 2,
       "version_minor": 0
      },
      "text/plain": [
       "Fetching 9 files:   0%|          | 0/9 [00:00<?, ?it/s]"
      ]
     },
     "metadata": {},
     "output_type": "display_data"
    },
    {
     "data": {
      "application/vnd.jupyter.widget-view+json": {
       "model_id": "92e55d19e6a6435ca4120c4260d1e391",
       "version_major": 2,
       "version_minor": 0
      },
      "text/plain": [
       "Split strings:   0%|          | 0/1 [00:00<?, ?it/s]"
      ]
     },
     "metadata": {},
     "output_type": "display_data"
    },
    {
     "data": {
      "application/vnd.jupyter.widget-view+json": {
       "model_id": "b5feda514267403b948b790a6793bdea",
       "version_major": 2,
       "version_minor": 0
      },
      "text/plain": [
       "BM25S Retrieve:   0%|          | 0/1 [00:00<?, ?it/s]"
      ]
     },
     "metadata": {},
     "output_type": "display_data"
    },
    {
     "data": {
      "application/vnd.jupyter.widget-view+json": {
       "model_id": "80305dc9186f43c89e03a116235ddb86",
       "version_major": 2,
       "version_minor": 0
      },
      "text/plain": [
       "Fetching 9 files:   0%|          | 0/9 [00:00<?, ?it/s]"
      ]
     },
     "metadata": {},
     "output_type": "display_data"
    },
    {
     "data": {
      "application/vnd.jupyter.widget-view+json": {
       "model_id": "c71ba19864134586b3989c79e6a1b1e8",
       "version_major": 2,
       "version_minor": 0
      },
      "text/plain": [
       "Split strings:   0%|          | 0/1 [00:00<?, ?it/s]"
      ]
     },
     "metadata": {},
     "output_type": "display_data"
    },
    {
     "data": {
      "application/vnd.jupyter.widget-view+json": {
       "model_id": "1496c8d6053a45b5919bdbc769db3c8f",
       "version_major": 2,
       "version_minor": 0
      },
      "text/plain": [
       "BM25S Retrieve:   0%|          | 0/1 [00:00<?, ?it/s]"
      ]
     },
     "metadata": {},
     "output_type": "display_data"
    },
    {
     "data": {
      "application/vnd.jupyter.widget-view+json": {
       "model_id": "e899bef659ff4d2e9718fef6b82a1f71",
       "version_major": 2,
       "version_minor": 0
      },
      "text/plain": [
       "Fetching 9 files:   0%|          | 0/9 [00:00<?, ?it/s]"
      ]
     },
     "metadata": {},
     "output_type": "display_data"
    },
    {
     "data": {
      "application/vnd.jupyter.widget-view+json": {
       "model_id": "7ffc39514ff6436b9a16551199bc56c0",
       "version_major": 2,
       "version_minor": 0
      },
      "text/plain": [
       "Split strings:   0%|          | 0/1 [00:00<?, ?it/s]"
      ]
     },
     "metadata": {},
     "output_type": "display_data"
    },
    {
     "data": {
      "application/vnd.jupyter.widget-view+json": {
       "model_id": "2116ef47a04c4b289b63d29241feec4c",
       "version_major": 2,
       "version_minor": 0
      },
      "text/plain": [
       "BM25S Retrieve:   0%|          | 0/1 [00:00<?, ?it/s]"
      ]
     },
     "metadata": {},
     "output_type": "display_data"
    },
    {
     "data": {
      "application/vnd.jupyter.widget-view+json": {
       "model_id": "f576a5137f234b44a7844a7912cd5886",
       "version_major": 2,
       "version_minor": 0
      },
      "text/plain": [
       "Fetching 9 files:   0%|          | 0/9 [00:00<?, ?it/s]"
      ]
     },
     "metadata": {},
     "output_type": "display_data"
    },
    {
     "data": {
      "application/vnd.jupyter.widget-view+json": {
       "model_id": "3bbb7bd3f51a4502b5ca8f0bc5722017",
       "version_major": 2,
       "version_minor": 0
      },
      "text/plain": [
       "Split strings:   0%|          | 0/1 [00:00<?, ?it/s]"
      ]
     },
     "metadata": {},
     "output_type": "display_data"
    },
    {
     "data": {
      "application/vnd.jupyter.widget-view+json": {
       "model_id": "e410e69479bf412581d07f17619ab843",
       "version_major": 2,
       "version_minor": 0
      },
      "text/plain": [
       "BM25S Retrieve:   0%|          | 0/1 [00:00<?, ?it/s]"
      ]
     },
     "metadata": {},
     "output_type": "display_data"
    },
    {
     "data": {
      "application/vnd.jupyter.widget-view+json": {
       "model_id": "31d8715c00d642e6be6ab8216fb048e6",
       "version_major": 2,
       "version_minor": 0
      },
      "text/plain": [
       "Fetching 9 files:   0%|          | 0/9 [00:00<?, ?it/s]"
      ]
     },
     "metadata": {},
     "output_type": "display_data"
    },
    {
     "data": {
      "application/vnd.jupyter.widget-view+json": {
       "model_id": "cc3512dd24774060aa08afe94dabb8f8",
       "version_major": 2,
       "version_minor": 0
      },
      "text/plain": [
       "Split strings:   0%|          | 0/1 [00:00<?, ?it/s]"
      ]
     },
     "metadata": {},
     "output_type": "display_data"
    },
    {
     "data": {
      "application/vnd.jupyter.widget-view+json": {
       "model_id": "5476984647b94e4bbb1d4563ec064a95",
       "version_major": 2,
       "version_minor": 0
      },
      "text/plain": [
       "BM25S Retrieve:   0%|          | 0/1 [00:00<?, ?it/s]"
      ]
     },
     "metadata": {},
     "output_type": "display_data"
    },
    {
     "data": {
      "application/vnd.jupyter.widget-view+json": {
       "model_id": "23777043a04d43a7a7b3a0139560e8e5",
       "version_major": 2,
       "version_minor": 0
      },
      "text/plain": [
       "Fetching 9 files:   0%|          | 0/9 [00:00<?, ?it/s]"
      ]
     },
     "metadata": {},
     "output_type": "display_data"
    },
    {
     "data": {
      "application/vnd.jupyter.widget-view+json": {
       "model_id": "6948157c581645278e16025006f82dcb",
       "version_major": 2,
       "version_minor": 0
      },
      "text/plain": [
       "Split strings:   0%|          | 0/1 [00:00<?, ?it/s]"
      ]
     },
     "metadata": {},
     "output_type": "display_data"
    },
    {
     "data": {
      "application/vnd.jupyter.widget-view+json": {
       "model_id": "066cbdc781f747b79fb11cdab5f5fe4a",
       "version_major": 2,
       "version_minor": 0
      },
      "text/plain": [
       "BM25S Retrieve:   0%|          | 0/1 [00:00<?, ?it/s]"
      ]
     },
     "metadata": {},
     "output_type": "display_data"
    },
    {
     "data": {
      "application/vnd.jupyter.widget-view+json": {
       "model_id": "b72e9099fcfc4ce4a97b57a8ccaa9051",
       "version_major": 2,
       "version_minor": 0
      },
      "text/plain": [
       "Fetching 9 files:   0%|          | 0/9 [00:00<?, ?it/s]"
      ]
     },
     "metadata": {},
     "output_type": "display_data"
    },
    {
     "data": {
      "application/vnd.jupyter.widget-view+json": {
       "model_id": "871866af5d4642d9b3769824a4d3cf2a",
       "version_major": 2,
       "version_minor": 0
      },
      "text/plain": [
       "Split strings:   0%|          | 0/1 [00:00<?, ?it/s]"
      ]
     },
     "metadata": {},
     "output_type": "display_data"
    },
    {
     "data": {
      "application/vnd.jupyter.widget-view+json": {
       "model_id": "fc13146fab504fecbf24a8e699ce50c1",
       "version_major": 2,
       "version_minor": 0
      },
      "text/plain": [
       "BM25S Retrieve:   0%|          | 0/1 [00:00<?, ?it/s]"
      ]
     },
     "metadata": {},
     "output_type": "display_data"
    },
    {
     "data": {
      "application/vnd.jupyter.widget-view+json": {
       "model_id": "0a0aeffc3c8c4d3eaa5d957fe42586a3",
       "version_major": 2,
       "version_minor": 0
      },
      "text/plain": [
       "Fetching 9 files:   0%|          | 0/9 [00:00<?, ?it/s]"
      ]
     },
     "metadata": {},
     "output_type": "display_data"
    },
    {
     "data": {
      "application/vnd.jupyter.widget-view+json": {
       "model_id": "8e3190f09bd64ddda1fcd75b55c64419",
       "version_major": 2,
       "version_minor": 0
      },
      "text/plain": [
       "Split strings:   0%|          | 0/1 [00:00<?, ?it/s]"
      ]
     },
     "metadata": {},
     "output_type": "display_data"
    },
    {
     "data": {
      "application/vnd.jupyter.widget-view+json": {
       "model_id": "1d2118b9bbe44003853389999d6a1a64",
       "version_major": 2,
       "version_minor": 0
      },
      "text/plain": [
       "BM25S Retrieve:   0%|          | 0/1 [00:00<?, ?it/s]"
      ]
     },
     "metadata": {},
     "output_type": "display_data"
    },
    {
     "data": {
      "application/vnd.jupyter.widget-view+json": {
       "model_id": "a83b54e5782e4d23880d33d4fbea8334",
       "version_major": 2,
       "version_minor": 0
      },
      "text/plain": [
       "Fetching 9 files:   0%|          | 0/9 [00:00<?, ?it/s]"
      ]
     },
     "metadata": {},
     "output_type": "display_data"
    },
    {
     "data": {
      "application/vnd.jupyter.widget-view+json": {
       "model_id": "c89162e42b3545bcb345af92cf4528fc",
       "version_major": 2,
       "version_minor": 0
      },
      "text/plain": [
       "Split strings:   0%|          | 0/1 [00:00<?, ?it/s]"
      ]
     },
     "metadata": {},
     "output_type": "display_data"
    },
    {
     "data": {
      "application/vnd.jupyter.widget-view+json": {
       "model_id": "933bb8031ed446d1a8376aa21c08aa10",
       "version_major": 2,
       "version_minor": 0
      },
      "text/plain": [
       "BM25S Retrieve:   0%|          | 0/1 [00:00<?, ?it/s]"
      ]
     },
     "metadata": {},
     "output_type": "display_data"
    },
    {
     "data": {
      "application/vnd.jupyter.widget-view+json": {
       "model_id": "aa7682887f5544a6a54c8e7269f0a16f",
       "version_major": 2,
       "version_minor": 0
      },
      "text/plain": [
       "Fetching 9 files:   0%|          | 0/9 [00:00<?, ?it/s]"
      ]
     },
     "metadata": {},
     "output_type": "display_data"
    },
    {
     "data": {
      "application/vnd.jupyter.widget-view+json": {
       "model_id": "fd338c86ea66421e8850d0f5933b3136",
       "version_major": 2,
       "version_minor": 0
      },
      "text/plain": [
       "Split strings:   0%|          | 0/1 [00:00<?, ?it/s]"
      ]
     },
     "metadata": {},
     "output_type": "display_data"
    },
    {
     "data": {
      "application/vnd.jupyter.widget-view+json": {
       "model_id": "9f3563613dd34fedba9dff360025fed4",
       "version_major": 2,
       "version_minor": 0
      },
      "text/plain": [
       "BM25S Retrieve:   0%|          | 0/1 [00:00<?, ?it/s]"
      ]
     },
     "metadata": {},
     "output_type": "display_data"
    },
    {
     "data": {
      "application/vnd.jupyter.widget-view+json": {
       "model_id": "710bb78f3cd54edbb5214f19c5e9e763",
       "version_major": 2,
       "version_minor": 0
      },
      "text/plain": [
       "Fetching 9 files:   0%|          | 0/9 [00:00<?, ?it/s]"
      ]
     },
     "metadata": {},
     "output_type": "display_data"
    },
    {
     "data": {
      "application/vnd.jupyter.widget-view+json": {
       "model_id": "b40cfb4aa63b4d878ffff08a1f42dac2",
       "version_major": 2,
       "version_minor": 0
      },
      "text/plain": [
       "Split strings:   0%|          | 0/1 [00:00<?, ?it/s]"
      ]
     },
     "metadata": {},
     "output_type": "display_data"
    },
    {
     "data": {
      "application/vnd.jupyter.widget-view+json": {
       "model_id": "14011d61750a4026961aab6a51c9c2a8",
       "version_major": 2,
       "version_minor": 0
      },
      "text/plain": [
       "BM25S Retrieve:   0%|          | 0/1 [00:00<?, ?it/s]"
      ]
     },
     "metadata": {},
     "output_type": "display_data"
    },
    {
     "data": {
      "application/vnd.jupyter.widget-view+json": {
       "model_id": "1d6a54fecd8a4649a34a3c66f11c9b2c",
       "version_major": 2,
       "version_minor": 0
      },
      "text/plain": [
       "Fetching 9 files:   0%|          | 0/9 [00:00<?, ?it/s]"
      ]
     },
     "metadata": {},
     "output_type": "display_data"
    },
    {
     "data": {
      "application/vnd.jupyter.widget-view+json": {
       "model_id": "f97f5901bb4b4ccf94237e8b22fece7b",
       "version_major": 2,
       "version_minor": 0
      },
      "text/plain": [
       "Split strings:   0%|          | 0/1 [00:00<?, ?it/s]"
      ]
     },
     "metadata": {},
     "output_type": "display_data"
    },
    {
     "data": {
      "application/vnd.jupyter.widget-view+json": {
       "model_id": "97a4999488b244aabffb7506b81166bc",
       "version_major": 2,
       "version_minor": 0
      },
      "text/plain": [
       "BM25S Retrieve:   0%|          | 0/1 [00:00<?, ?it/s]"
      ]
     },
     "metadata": {},
     "output_type": "display_data"
    },
    {
     "data": {
      "application/vnd.jupyter.widget-view+json": {
       "model_id": "6fcc770806c34c328c0fbca9451c3b6b",
       "version_major": 2,
       "version_minor": 0
      },
      "text/plain": [
       "Fetching 9 files:   0%|          | 0/9 [00:00<?, ?it/s]"
      ]
     },
     "metadata": {},
     "output_type": "display_data"
    },
    {
     "data": {
      "application/vnd.jupyter.widget-view+json": {
       "model_id": "90b912ffafd9422e807c3cedd728bc15",
       "version_major": 2,
       "version_minor": 0
      },
      "text/plain": [
       "Split strings:   0%|          | 0/1 [00:00<?, ?it/s]"
      ]
     },
     "metadata": {},
     "output_type": "display_data"
    },
    {
     "data": {
      "application/vnd.jupyter.widget-view+json": {
       "model_id": "04edd448c2bb447ead9614d88bd685b6",
       "version_major": 2,
       "version_minor": 0
      },
      "text/plain": [
       "BM25S Retrieve:   0%|          | 0/1 [00:00<?, ?it/s]"
      ]
     },
     "metadata": {},
     "output_type": "display_data"
    },
    {
     "data": {
      "application/vnd.jupyter.widget-view+json": {
       "model_id": "5518366b820949a89075f01ee1258e6a",
       "version_major": 2,
       "version_minor": 0
      },
      "text/plain": [
       "Fetching 9 files:   0%|          | 0/9 [00:00<?, ?it/s]"
      ]
     },
     "metadata": {},
     "output_type": "display_data"
    },
    {
     "data": {
      "application/vnd.jupyter.widget-view+json": {
       "model_id": "9e28ebd3208b46678302c6af25c2fde8",
       "version_major": 2,
       "version_minor": 0
      },
      "text/plain": [
       "Split strings:   0%|          | 0/1 [00:00<?, ?it/s]"
      ]
     },
     "metadata": {},
     "output_type": "display_data"
    },
    {
     "data": {
      "application/vnd.jupyter.widget-view+json": {
       "model_id": "04be3edd4d1a45e0a14a1afdfab5dc01",
       "version_major": 2,
       "version_minor": 0
      },
      "text/plain": [
       "BM25S Retrieve:   0%|          | 0/1 [00:00<?, ?it/s]"
      ]
     },
     "metadata": {},
     "output_type": "display_data"
    },
    {
     "data": {
      "application/vnd.jupyter.widget-view+json": {
       "model_id": "7a6441f4c3fd45a6a510caa5cb7d7b23",
       "version_major": 2,
       "version_minor": 0
      },
      "text/plain": [
       "Fetching 9 files:   0%|          | 0/9 [00:00<?, ?it/s]"
      ]
     },
     "metadata": {},
     "output_type": "display_data"
    },
    {
     "data": {
      "application/vnd.jupyter.widget-view+json": {
       "model_id": "7264e259ba21408bb1169d0df4e5cb79",
       "version_major": 2,
       "version_minor": 0
      },
      "text/plain": [
       "Split strings:   0%|          | 0/1 [00:00<?, ?it/s]"
      ]
     },
     "metadata": {},
     "output_type": "display_data"
    },
    {
     "data": {
      "application/vnd.jupyter.widget-view+json": {
       "model_id": "22fd5360179f41ba89e44557a4f3a939",
       "version_major": 2,
       "version_minor": 0
      },
      "text/plain": [
       "BM25S Retrieve:   0%|          | 0/1 [00:00<?, ?it/s]"
      ]
     },
     "metadata": {},
     "output_type": "display_data"
    },
    {
     "data": {
      "application/vnd.jupyter.widget-view+json": {
       "model_id": "00447f1285bd48fabd78506f94b89b58",
       "version_major": 2,
       "version_minor": 0
      },
      "text/plain": [
       "Fetching 9 files:   0%|          | 0/9 [00:00<?, ?it/s]"
      ]
     },
     "metadata": {},
     "output_type": "display_data"
    },
    {
     "data": {
      "application/vnd.jupyter.widget-view+json": {
       "model_id": "851d205367a441be82a8d6226c313577",
       "version_major": 2,
       "version_minor": 0
      },
      "text/plain": [
       "Split strings:   0%|          | 0/1 [00:00<?, ?it/s]"
      ]
     },
     "metadata": {},
     "output_type": "display_data"
    },
    {
     "data": {
      "application/vnd.jupyter.widget-view+json": {
       "model_id": "8189f5c920a54450ba572d650097bbc7",
       "version_major": 2,
       "version_minor": 0
      },
      "text/plain": [
       "BM25S Retrieve:   0%|          | 0/1 [00:00<?, ?it/s]"
      ]
     },
     "metadata": {},
     "output_type": "display_data"
    },
    {
     "data": {
      "application/vnd.jupyter.widget-view+json": {
       "model_id": "f4a7d8481a8141259ad9b6159be43690",
       "version_major": 2,
       "version_minor": 0
      },
      "text/plain": [
       "Fetching 9 files:   0%|          | 0/9 [00:00<?, ?it/s]"
      ]
     },
     "metadata": {},
     "output_type": "display_data"
    },
    {
     "data": {
      "application/vnd.jupyter.widget-view+json": {
       "model_id": "c0a79857842045208c594c7d74d9627d",
       "version_major": 2,
       "version_minor": 0
      },
      "text/plain": [
       "Split strings:   0%|          | 0/1 [00:00<?, ?it/s]"
      ]
     },
     "metadata": {},
     "output_type": "display_data"
    },
    {
     "data": {
      "application/vnd.jupyter.widget-view+json": {
       "model_id": "ca6e183847a945a5a65435385b25ffd6",
       "version_major": 2,
       "version_minor": 0
      },
      "text/plain": [
       "BM25S Retrieve:   0%|          | 0/1 [00:00<?, ?it/s]"
      ]
     },
     "metadata": {},
     "output_type": "display_data"
    },
    {
     "data": {
      "application/vnd.jupyter.widget-view+json": {
       "model_id": "007b3555196f448a82b2694c94f5d701",
       "version_major": 2,
       "version_minor": 0
      },
      "text/plain": [
       "Fetching 9 files:   0%|          | 0/9 [00:00<?, ?it/s]"
      ]
     },
     "metadata": {},
     "output_type": "display_data"
    },
    {
     "data": {
      "application/vnd.jupyter.widget-view+json": {
       "model_id": "597225e92a1d4368af6ed049b6e5378c",
       "version_major": 2,
       "version_minor": 0
      },
      "text/plain": [
       "Split strings:   0%|          | 0/1 [00:00<?, ?it/s]"
      ]
     },
     "metadata": {},
     "output_type": "display_data"
    },
    {
     "data": {
      "application/vnd.jupyter.widget-view+json": {
       "model_id": "040d3b86967b447eb9653f77774586aa",
       "version_major": 2,
       "version_minor": 0
      },
      "text/plain": [
       "BM25S Retrieve:   0%|          | 0/1 [00:00<?, ?it/s]"
      ]
     },
     "metadata": {},
     "output_type": "display_data"
    },
    {
     "data": {
      "application/vnd.jupyter.widget-view+json": {
       "model_id": "ec0cc9a3c45647e7abde2f37d7b1ce4f",
       "version_major": 2,
       "version_minor": 0
      },
      "text/plain": [
       "Fetching 9 files:   0%|          | 0/9 [00:00<?, ?it/s]"
      ]
     },
     "metadata": {},
     "output_type": "display_data"
    },
    {
     "data": {
      "application/vnd.jupyter.widget-view+json": {
       "model_id": "cfed23b2383c43fd9ee019a52b62fd36",
       "version_major": 2,
       "version_minor": 0
      },
      "text/plain": [
       "Split strings:   0%|          | 0/1 [00:00<?, ?it/s]"
      ]
     },
     "metadata": {},
     "output_type": "display_data"
    },
    {
     "data": {
      "application/vnd.jupyter.widget-view+json": {
       "model_id": "079669eca93f45e0b3d2be421835ff6c",
       "version_major": 2,
       "version_minor": 0
      },
      "text/plain": [
       "BM25S Retrieve:   0%|          | 0/1 [00:00<?, ?it/s]"
      ]
     },
     "metadata": {},
     "output_type": "display_data"
    },
    {
     "data": {
      "application/vnd.jupyter.widget-view+json": {
       "model_id": "2ba104b30a0341f28c40428c825c7d9e",
       "version_major": 2,
       "version_minor": 0
      },
      "text/plain": [
       "Fetching 9 files:   0%|          | 0/9 [00:00<?, ?it/s]"
      ]
     },
     "metadata": {},
     "output_type": "display_data"
    },
    {
     "data": {
      "application/vnd.jupyter.widget-view+json": {
       "model_id": "907426e494c74b9eac6088c57d582d21",
       "version_major": 2,
       "version_minor": 0
      },
      "text/plain": [
       "Split strings:   0%|          | 0/1 [00:00<?, ?it/s]"
      ]
     },
     "metadata": {},
     "output_type": "display_data"
    },
    {
     "data": {
      "application/vnd.jupyter.widget-view+json": {
       "model_id": "df2769c455a74e2c9b12d0d375b731ff",
       "version_major": 2,
       "version_minor": 0
      },
      "text/plain": [
       "BM25S Retrieve:   0%|          | 0/1 [00:00<?, ?it/s]"
      ]
     },
     "metadata": {},
     "output_type": "display_data"
    },
    {
     "data": {
      "application/vnd.jupyter.widget-view+json": {
       "model_id": "ccbcfb594fd74a4a96a87fb0e78f231b",
       "version_major": 2,
       "version_minor": 0
      },
      "text/plain": [
       "Fetching 9 files:   0%|          | 0/9 [00:00<?, ?it/s]"
      ]
     },
     "metadata": {},
     "output_type": "display_data"
    },
    {
     "data": {
      "application/vnd.jupyter.widget-view+json": {
       "model_id": "1b9b28b0fa204edfb6417a189d02ffbb",
       "version_major": 2,
       "version_minor": 0
      },
      "text/plain": [
       "Split strings:   0%|          | 0/1 [00:00<?, ?it/s]"
      ]
     },
     "metadata": {},
     "output_type": "display_data"
    },
    {
     "data": {
      "application/vnd.jupyter.widget-view+json": {
       "model_id": "75011986a06e45f6a40864e52e0ec4ff",
       "version_major": 2,
       "version_minor": 0
      },
      "text/plain": [
       "BM25S Retrieve:   0%|          | 0/1 [00:00<?, ?it/s]"
      ]
     },
     "metadata": {},
     "output_type": "display_data"
    }
   ],
   "source": [
    "#run RAG on all of the predictions, and store in an output file\n",
    "file = open(\"predictions_treatments.txt\", \"w\")\n",
    "for i in response_json_1['output']:\n",
    "    cl = names.index(i['label'])\n",
    "    confidence = i['confidence']\n",
    "    file.write(f\"Image ID: {i['image_id']} \\n\")\n",
    "    file.write(get_data(cl, confidence)+'\\n')\n",
    "    file.write(\"-\"*100+'\\n')\n",
    "file.close()"
   ]
  }
 ],
 "metadata": {
  "kernelspec": {
   "display_name": "Python 3",
   "language": "python",
   "name": "python3"
  },
  "language_info": {
   "codemirror_mode": {
    "name": "ipython",
    "version": 3
   },
   "file_extension": ".py",
   "mimetype": "text/x-python",
   "name": "python",
   "nbconvert_exporter": "python",
   "pygments_lexer": "ipython3",
   "version": "3.12.2"
  }
 },
 "nbformat": 4,
 "nbformat_minor": 2
}
